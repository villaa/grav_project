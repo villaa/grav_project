{
 "cells": [
  {
   "cell_type": "code",
   "execution_count": 3,
   "metadata": {},
   "outputs": [],
   "source": [
    "#Imports\n",
    "import numpy as np\n",
    "import matplotlib.pyplot as plt\n",
    "import scipy.optimize as opt\n",
    "import emcee as mc\n",
    "import lmfit as lf\n",
    "#import time as t #Thus far nothing has been slow enough to warrant using this"
   ]
  },
  {
   "cell_type": "code",
   "execution_count": 91,
   "metadata": {},
   "outputs": [],
   "source": [
    "#Setup - y = f(x) = x^2\n",
    "\n",
    "#Fakedata\n",
    "xdata = np.linspace(1,np.random.randint(10),50)\n",
    "ydata = np.zeros(len(xdata))\n",
    "noise = np.random.normal(0,1,len(xdata))\n",
    "for i,n in enumerate(xdata):\n",
    "    ydata[i] = n**2+noise[i]\n",
    "sigdata = abs(noise)\n",
    "weighdata = 1/sigdata\n",
    "\n",
    "#Function\n",
    "def f(x,a,b,c):\n",
    "    return a*x**2+b*x+c\n",
    "\n",
    "#Points representing function\n",
    "xcurve = np.linspace(0,5,50)\n",
    "ycurve = xcurve**2\n",
    "\n",
    "#Initial Guess\n",
    "p0 = [1,0,0]"
   ]
  },
  {
   "cell_type": "markdown",
   "metadata": {},
   "source": [
    "## Non-Linear Least Squares"
   ]
  },
  {
   "cell_type": "code",
   "execution_count": 92,
   "metadata": {},
   "outputs": [
    {
     "name": "stdout",
     "output_type": "stream",
     "text": [
      "Error:[0.02116669 0.12136655 0.15757552]\n",
      "a:0.9686235915659397\n",
      "b:0.18271979326600524\n",
      "c:-0.2397209884523012\n"
     ]
    }
   ],
   "source": [
    "#scipy.optimize\n",
    "\n",
    "#Do fit\n",
    "s_fit = opt.curve_fit(f,xdata,ydata,p0,sigma=sigdata,absolute_sigma=True)\n",
    "\n",
    "#Define things from fit\n",
    "s_a = s_fit[0][0]\n",
    "s_b = s_fit[0][1]\n",
    "s_c = s_fit[0][2]\n",
    "\n",
    "s_error = s_fit[1]\n",
    "\n",
    "#Create array to plot\n",
    "s_curve = s_a*xcurve**2+s_b*xcurve+s_c\n",
    "\n",
    "#Print Errors\n",
    "print('Error:'+str(np.sqrt(np.diag(s_error))))\n",
    "print('a:'+str(s_a))\n",
    "print('b:'+str(s_b))\n",
    "print('c:'+str(s_c))"
   ]
  },
  {
   "cell_type": "code",
   "execution_count": 97,
   "metadata": {},
   "outputs": [
    {
     "data": {
      "text/html": [
       "<h2> Model</h2> Model(f) <h2>Fit Statistics</h2><table><tr><td>fitting method</td><td>leastsq</td><td></td></tr><tr><td># function evals</td><td>9</td><td></td></tr><tr><td># data points</td><td>50</td><td></td></tr><tr><td># variables</td><td>3</td><td></td></tr><tr><td>chi-square</td><td> 46.8285571</td><td></td></tr><tr><td>reduced chi-square</td><td> 0.99635228</td><td></td></tr><tr><td>Akaike info crit.</td><td> 2.72351031</td><td></td></tr><tr><td>Bayesian info crit.</td><td> 8.45957932</td><td></td></tr></table><h2>Variables</h2><table><tr><th> name </th><th> value </th><th> standard error </th><th> relative error </th><th> initial value </th><th> min </th><th> max </th><th> vary </th></tr><tr><td> a </td><td>  0.96862359 </td><td>  0.02112805 </td><td> 2.18% </td><td> 1 </td><td>        -inf </td><td>         inf </td><td> True </td></tr><tr><td> b </td><td>  0.18271979 </td><td>  0.12114499 </td><td> 66.30% </td><td> 0 </td><td>        -inf </td><td>         inf </td><td> True </td></tr><tr><td> c </td><td> -0.23972099 </td><td>  0.15728786 </td><td> -65.61% </td><td> 0 </td><td>        -inf </td><td>         inf </td><td> True </td></tr></table><h2>Correlations (unreported correlations are < 0.100)</h2><table><tr><td>b</td><td>c</td><td>-0.9994</td></tr><tr><td>a</td><td>b</td><td>-0.9979</td></tr><tr><td>a</td><td>c</td><td>0.9950</td></tr></table>"
      ],
      "text/plain": [
       "<lmfit.model.ModelResult at 0x1e98d9a7438>"
      ]
     },
     "execution_count": 97,
     "metadata": {},
     "output_type": "execute_result"
    }
   ],
   "source": [
    "#lmfit\n",
    "\n",
    "#Setup\n",
    "l_mod = lf.Model(f)\n",
    "params = l_mod.make_params(a=1, b=0, c=0)\n",
    "\n",
    "#Do fit\n",
    "l_fit = l_mod.fit(ydata, params, x=xdata, weights=weighdata)\n",
    "\n",
    "#Define Stuff\n",
    "l_dict = l_fit.best_values\n",
    "l_a = l_dict['a']\n",
    "l_b = l_dict['b']\n",
    "l_c = l_dict['c']\n",
    "\n",
    "#Create array to plot\n",
    "l_curve = l_a*xcurve**2+l_b*xcurve+l_c\n",
    "\n",
    "l_fit #Gives slightly lower error - unsure why. also not significantly lower."
   ]
  },
  {
   "cell_type": "code",
   "execution_count": 94,
   "metadata": {},
   "outputs": [
    {
     "data": {
      "text/plain": [
       "<matplotlib.legend.Legend at 0x1e98c35ac88>"
      ]
     },
     "execution_count": 94,
     "metadata": {},
     "output_type": "execute_result"
    },
    {
     "data": {
      "image/png": "[encoded data removed]",
      "text/plain": [
       "<Figure size 432x288 with 1 Axes>"
      ]
     },
     "metadata": {
      "needs_background": "light"
     },
     "output_type": "display_data"
    }
   ],
   "source": [
    "#Plotting\n",
    "plt.plot(xdata,ydata,'bo',label='Data')\n",
    "plt.plot(xcurve,ycurve,label='Function')\n",
    "plt.plot(xcurve,s_curve,linestyle='--',label='SciPy')\n",
    "plt.plot(xcurve,l_curve,linestyle='--',label='LmFit')\n",
    "\n",
    "plt.legend()"
   ]
  },
  {
   "cell_type": "markdown",
   "metadata": {},
   "source": [
    "## Chi-Squared"
   ]
  },
  {
   "cell_type": "code",
   "execution_count": null,
   "metadata": {},
   "outputs": [],
   "source": [
    "#scipy.optimize\n",
    "\n",
    "#Do fit\n",
    "s_fit = opt.chisquare(f,xdata,ydata,p0,sigma=sigdata)\n",
    "\n",
    "#Define things from fit\n",
    "s_a = s_fit[0][0]\n",
    "s_b = s_fit[0][1]\n",
    "s_c = s_fit[0][2]\n",
    "\n",
    "s_error = s_fit[1]\n",
    "\n",
    "#Create array to plot\n",
    "s_curve = s_a*xcurve**2+s_b*xcurve+s_c"
   ]
  }
 ],
 "metadata": {
  "kernelspec": {
   "display_name": "Python 3",
   "language": "python",
   "name": "python3"
  },
  "language_info": {
   "codemirror_mode": {
    "name": "ipython",
    "version": 3
   },
   "file_extension": ".py",
   "mimetype": "text/x-python",
   "name": "python",
   "nbconvert_exporter": "python",
   "pygments_lexer": "ipython3",
   "version": "3.7.3"
  }
 },
 "nbformat": 4,
 "nbformat_minor": 2
}
