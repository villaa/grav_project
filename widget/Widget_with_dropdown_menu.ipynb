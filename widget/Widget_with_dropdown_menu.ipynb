{
 "cells": [
  {
   "cell_type": "markdown",
   "metadata": {},
   "source": [
    "## Imports"
   ]
  },
  {
   "cell_type": "code",
   "execution_count": 1,
   "metadata": {},
   "outputs": [
    {
     "name": "stdout",
     "output_type": "stream",
     "text": [
      "WARNING: DO NOT USE THE disk.hdf5 OR bulge.hdf5 FILES WITH CALCULATIONS FROM THIS LIBRRY!!!!\n",
      "If you do, DISCARD ALL CHANGES TO THE FILE.\n",
      "Your calculations will NOT be consistent with this library's equations if you use the disk.hdf5 or bulge.hdf5 files,\n",
      "and if you write to that file it will contain calculations based on conflicting constants.\n",
      "Worst case scenario, reset the disk.hdf5 file to before the commit where you used this library to write to it.\n"
     ]
    }
   ],
   "source": [
    "import numpy as np\n",
    "import matplotlib.pyplot as plt\n",
    "import sys\n",
    "sys.path.append('../python/')\n",
    "\n",
    "import ipywidgets as widgets\n",
    "\n",
    "import lmfit as lm\n",
    "import dataPython as dp\n",
    "import scipy.interpolate as inter\n",
    "\n",
    "import NGC5533_functions_newmag as nf\n",
    "\n",
    "from datetime import datetime\n",
    "import time\n",
    "\n",
    "from ipywidgets import interactive, fixed, FloatSlider, HBox, Layout, Button, Label, Output, VBox\n",
    "\n",
    "from IPython.display import display, clear_output\n",
    "from IPython.display import Javascript\n",
    "\n",
    "import scipy.stats as stats\n",
    "import warnings\n",
    "warnings.filterwarnings(\"ignore\")  #ignore warnings"
   ]
  },
  {
   "cell_type": "code",
   "execution_count": 7,
   "metadata": {},
   "outputs": [
    {
     "data": {
      "application/vnd.jupyter.widget-view+json": {
       "model_id": "b72cce7d5b43411fb98d8aa16a28dcdd",
       "version_major": 2,
       "version_minor": 0
      },
      "text/plain": [
       "Dropdown(description='Galaxy:', options=(('NGC 5533', 1), ('NGC 5005', 2)), value=1)"
      ]
     },
     "metadata": {},
     "output_type": "display_data"
    },
    {
     "name": "stdout",
     "output_type": "stream",
     "text": [
      "changed to 2\n"
     ]
    }
   ],
   "source": [
    "#NGC5533 = \"../data/NGC5533.txt\"\n",
    "#NGC5005 = \n",
    "\n",
    "galaxy = widgets.Dropdown(\n",
    "    #options=[('NGC 5533', NGC5533),('NGC 5005', NGC5005)],\n",
    "    options=[('NGC 5533', 1),('NGC 5005',2)],\n",
    "    description='Galaxy:',\n",
    ")\n",
    "\n",
    "def on_change(change):\n",
    "    if change['type'] == 'change' and change['name'] == 'value':\n",
    "        galaxypick = change['new']\n",
    "        print(\"changed to %s\" % change['new'])\n",
    "\n",
    "galaxy.observe(on_change)\n",
    "\n",
    "display(galaxy)           # displays the dropdown menu"
   ]
  },
  {
   "cell_type": "code",
   "execution_count": 9,
   "metadata": {},
   "outputs": [
    {
     "ename": "NameError",
     "evalue": "name 'galaxypick' is not defined",
     "output_type": "error",
     "traceback": [
      "\u001b[1;31m---------------------------------------------------------------------------\u001b[0m",
      "\u001b[1;31mNameError\u001b[0m                                 Traceback (most recent call last)",
      "\u001b[1;32m<ipython-input-9-e3a2df4ba042>\u001b[0m in \u001b[0;36m<module>\u001b[1;34m\u001b[0m\n\u001b[1;32m----> 1\u001b[1;33m \u001b[0mprint\u001b[0m\u001b[1;33m(\u001b[0m\u001b[0mgalaxypick\u001b[0m\u001b[1;33m)\u001b[0m\u001b[1;33m\u001b[0m\u001b[1;33m\u001b[0m\u001b[0m\n\u001b[0m",
      "\u001b[1;31mNameError\u001b[0m: name 'galaxypick' is not defined"
     ]
    }
   ],
   "source": [
    "print(galaxypick)"
   ]
  },
  {
   "cell_type": "code",
   "execution_count": null,
   "metadata": {},
   "outputs": [],
   "source": [
    "def importdata(datapoints,gasdata,bulgedata,diskdata,halodata):\n",
    "    \n",
    "    # Data points\n",
    "    data = np.loadtxt(datapoints)\n",
    "    r_dat, v_dat, v_err0, v_err1 = data.T\n",
    "\n",
    "    # Gas\n",
    "    gas_rdata = np.loadtxt(gasdata)\n",
    "    rgas, midgas, vgas = gas_rdata.T\n",
    "    rgasv_spline = inter.InterpolatedUnivariateSpline(rgas,vgas,k=5)\n",
    "    \n",
    "    # Bulge\n",
    "    bulge_rdata = np.loadtxt(bulgedata)\n",
    "    rbulge, midbulge, vbulge = bulge_rdata.T\n",
    "    rbulgev_spline = inter.InterpolatedUnivariateSpline(rbulge,vbulge,k=5)\n",
    "\n",
    "    # Disk\n",
    "    disk_rdata = np.loadtxt(diskdata)\n",
    "    rdisk, middisk, vdisk = disk.rdata.T\n",
    "    rdiskv_spline = inter.InterpolatedUnivariateSpline(rdisk,vdisk,k=5)\n",
    "\n",
    "    #Halo datathief trace:\n",
    "    halo_dt = np.loadtxt(halodata)\n",
    "    rhalo, vhalo = halo_dt.T\n",
    "    halo_dtv_spline = inter.InterpolatedUnivariateSpline(rhalo,vhalo,k=5)\n",
    "    halo_dtv_fit = halo_dtv_spline(r_dat)"
   ]
  },
  {
   "cell_type": "code",
   "execution_count": null,
   "metadata": {},
   "outputs": [],
   "source": []
  },
  {
   "cell_type": "code",
   "execution_count": null,
   "metadata": {},
   "outputs": [],
   "source": []
  }
 ],
 "metadata": {
  "kernelspec": {
   "display_name": "Python 3",
   "language": "python",
   "name": "python3"
  },
  "language_info": {
   "codemirror_mode": {
    "name": "ipython",
    "version": 3
   },
   "file_extension": ".py",
   "mimetype": "text/x-python",
   "name": "python",
   "nbconvert_exporter": "python",
   "pygments_lexer": "ipython3",
   "version": "3.7.1"
  }
 },
 "nbformat": 4,
 "nbformat_minor": 2
}
