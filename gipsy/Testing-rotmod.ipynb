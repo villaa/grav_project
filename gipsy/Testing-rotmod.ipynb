{
 "cells": [
  {
   "cell_type": "code",
   "execution_count": 1,
   "metadata": {},
   "outputs": [],
   "source": [
    "# Import\n",
    "import numpy as np\n",
    "import scipy as sp\n",
    "import matplotlib.pyplot as plt\n",
    "from scipy.interpolate import InterpolatedUnivariateSpline"
   ]
  },
  {
   "cell_type": "markdown",
   "metadata": {},
   "source": [
    "## FUNCTIONS IN ROTMOD:\n",
    "- fcopy : I think this takes user input\n",
    "- sortradii : sorts radii in ascending order\n",
    "- getfactor : conversion from arcsec to kpc using distance as an input\n",
    "- getrandd : takes the radial density profile from user and converts it to the right units\n",
    "- getfile : get the name of the file where we want to store results\n",
    "\n",
    "__Disk:__\n",
    "- func : Casertano's equations: Eq 5 and elliptical functions \n",
    "- denzed : deciding which density function to use\n",
    "- intzed : integrating the density function but not sure which step this is in Casertano's paper\n",
    "- interpd : Lagrange interpolation (second order)\n",
    "- interg : integration and returns velocity squared\n",
    "- rotdisk : combines all functions in order:\n",
    "     1. get density law \n",
    "     2. we need to know what kind of density distribution the user wants to supply. Choices are: \n",
    "          * TRUNCATED-EXPONENTIAL-DISK             USER=N\n",
    "          * USER-SUPPLIED R and S(R) pairs         USER=Y\n",
    "     3. get the surface densities from the user\n",
    "     4. calculate the surface densities: this is where they use the piecewise function from Casertano's paper Eq 3. \n",
    "     5. try to fit an exponential and fit H and DENS0\n",
    "     6. determine the disk mass and allow the user to modify it\n",
    "     7. get radii for which we should calculate the rotation curve\n",
    "     8. calculation\n",
    "            \n",
    "__BULGE:__\n",
    "- interpb : \n",
    "- mu : \n",
    "- one : \n",
    "- two : \n",
    "- sign : \n",
    "- tintd : \n",
    "- rotbulge : combines all functions in order:\n",
    "     1. determine the bulge mass and allow the user to modify it\n",
    "     2. get radii for which we should calculate the rotation curve\n",
    "     3. calculation"
   ]
  },
  {
   "cell_type": "markdown",
   "metadata": {},
   "source": [
    "# ROTDISK"
   ]
  },
  {
   "cell_type": "code",
   "execution_count": 2,
   "metadata": {},
   "outputs": [],
   "source": [
    "# USER=Y \n",
    "# UNITS=KPC,MAG/ARCSEC**2 \n",
    "# TYPE=DISK \n",
    "# ZLAW=SECH-SQUARE \n",
    "# RADII=1:13:0.01 \n",
    "# Z0=.93 \n",
    "# RADDENS=<NGC5005-disk_kpc \n",
    "# FILE=disk_from-mag.dat \n",
    "# DISTANCE=16.5 \n",
    "# MASS=1"
   ]
  },
  {
   "cell_type": "markdown",
   "metadata": {},
   "source": [
    "## User input: \n",
    "- __Density law:__<br>\n",
    "     Case 1: flat disk: z0=0<br>\n",
    "     Case 2: the Van der Kruit and Searle law (SECH-SQUARED): D(Z)=sech(Z/Z0)^2/Z0<br>\n",
    "     Case 3: an exponential density law (EXPONENTIAL): D(Z)=exp(-Z/Z0)/Z0 <br>\n",
    "     Case 4: a simple sech law (SIMPLE-SECH): D(Z)=2*sech(Z/Z0)/Z0/PI <br><br>\n",
    "- __User supplies density distribution:__<br>\n",
    "     NO: USER=N, Truncated-exponential disk<br>\n",
    "     YES: USER=Y, radius and density pairs provided<br><br>\n",
    "- __Units:__<br>\n",
    "     'KPC,MSUN/PC\\*\\*2'<br>\n",
    "     'ARCSEC,MAG/ARCSEC\\*\\*2'"
   ]
  },
  {
   "cell_type": "code",
   "execution_count": 3,
   "metadata": {},
   "outputs": [],
   "source": [
    "# User input\n",
    "user = True             # user = False means NO (let program calculate density) \n",
    "                        # user = True means YES (radius-density provided)\n",
    "units = 'KPC,MSUN/PC**2'\n",
    "zlaw = 2                # Case 2: sech-squared density law\n",
    "z0 = 0.93\n",
    "distance = 16.5         # Distance in MPC\n",
    "h = 10.0                # GUESS: radial scale-length (KPC)\n",
    "dens0 = 10**2.4         # GUESS: central surface density (MSUN/KPC^2)\n",
    "\n",
    "mode = zlaw             # ??? is this an uncessary variable? see below:\n",
    "                        # It is but I wanted to make sure that we can use this python notebook for future work so this makes sure we can change the density law in the future\n",
    "raddens = \"../data/gasmsd_kpc_linear.txt\"         # Gas density with 2 columns, units: KPC, MSUN/PC^2\n",
    "file = 'output.txt'     # Output file\n",
    "\n",
    "#rawtotaldata = np.loadtxt(\"../NGC_5005/traced_data/ngc5005_data.txt\")  # \"raw\" total rotation curve data points\n",
    "#rawr,rawv,rawe1,rawe2 = rawtotaldata.T            # extracting the array of radius points, rawr, to fit component to"
   ]
  },
  {
   "cell_type": "markdown",
   "metadata": {},
   "source": [
    "\t"
   ]
  },
  {
   "cell_type": "markdown",
   "metadata": {},
   "source": [
    "## Parameters"
   ]
  },
  {
   "cell_type": "code",
   "execution_count": 4,
   "metadata": {},
   "outputs": [],
   "source": [
    "# Parameters \n",
    "G = 0.00000431158              # gravitational constant (KPC/MSUN*(KM/S)^2)  \n",
    "CONSTANT = 2.0 * np.pi * G / 3.0\n",
    "EPS = 0.000001\n",
    "naccur = 1                     # GUESS -> accuracy of calculations, range between 1-10, \n",
    "                               # The programme needs more time for higher accuracies. \n",
    "                               # If no ZLAW is specified, the accuracy parameter is always 10"
   ]
  },
  {
   "cell_type": "markdown",
   "metadata": {},
   "source": [
    "## Are data pairs (radius vs density) provided or not?"
   ]
  },
  {
   "cell_type": "markdown",
   "metadata": {},
   "source": [
    "If user is __True__, the radius and density data is provided. It then calculates $h$ and $dens0$.<br>\n",
    "If user is __False__, user has to provide $h$ and $dens0$, then it calculates the radius and density pairs."
   ]
  },
  {
   "cell_type": "markdown",
   "metadata": {},
   "source": [
    "### Check units\n",
    "\n",
    "The accepted units are radius in KPC and density in MSUN/PC^2. <br>\n",
    "If this isn't the case, the units need to be converted.<br>\n",
    "The conversion goes as follows: <br>\n",
    "- from ARCSEC to KPC: RADIUS in KPC = 4.8481E-3 $\\times$ DISTANCE $\\times$ RADIUS in ARCSEC\n",
    "- from MAGnitudes to MSUN: M = $10^{- 0.4 \\space \\times \\space \\rm MAG}$<br>\n",
    "- from $ \\rm PC^{-2}$ to $\\rm KPC^{-2}$: DENSITY $\\times$ 1.0E6"
   ]
  },
  {
   "cell_type": "code",
   "execution_count": 5,
   "metadata": {
    "scrolled": true
   },
   "outputs": [
    {
     "name": "stdout",
     "output_type": "stream",
     "text": [
      "Rcut = 11.18 kpc\n",
      "Delta = 0.0259 kpc\n",
      "dens0 = 170.7 Msun/PC^2\n",
      "h = 1.94 kpc\n"
     ]
    }
   ],
   "source": [
    "# This checks if the user has provided density ditribution data (i.e. radius-density pairs or not)\n",
    "if user == True:            # Choose user==True for density data, == False otherwise \n",
    "    \n",
    "    if units == 'KPC,MSUN/PC**2':\n",
    "        mudata = np.loadtxt(raddens)\n",
    "        if np.shape(np.loadtxt(raddens))[1] == 2:     # this just checks if the file has 2 or 4 columns\n",
    "            xdinp, ydinp = mudata.T\n",
    "        if np.shape(np.loadtxt(raddens))[1] == 4:\n",
    "            xdinp, ydinp, xerror, yerror = mudata.T\n",
    "      \n",
    "    if units == 'ARCSEC,MAG/ARCSEC**2':\n",
    "        mudata = np.loadtxt(raddens)\n",
    "        if np.shape(np.loadtxt(raddens))[1] == 2:\n",
    "            xdinp, ydinp = mudata.T\n",
    "        if np.shape(np.loadtxt(raddens))[1] == 4:\n",
    "            xdinp, ydinp, xerror, yerror = mudata.T\n",
    "                \n",
    "        # Conversion\n",
    "        # ARCSEC to KPC\n",
    "        xdinp = 4.8481E-3 * distance * xdinp\n",
    "\n",
    "        # MAG/ARCSEC^2 to MSUN/PC^2\n",
    "        ydinp = 10**(-0.4 * ydinp)\n",
    "        ydinp = (4.8481E-3 * distance)**(-2) * ydinp\n",
    "        \n",
    "    LEN1 = len(xdinp)                   # GUESS: defined as length of radius array\n",
    "    LEN2 = len(ydinp)                   # GUESS: defined as lenght of density array\n",
    "    #ndinp = LEN2-1                      # number of surface densities????\n",
    "    ndinp = LEN2                        # number of surface densities. GUESS: length of density array again\n",
    "    rcut = xdinp[ndinp-1]               # takes second to last radius value\n",
    "    delta = rcut - xdinp[ndinp-2]       # difference between the second to last radius value and the third to last radius value\n",
    "        \n",
    "    print(\"Rcut = {:.4} kpc\".format(rcut))\n",
    "    print(\"Delta = {:.4} kpc\".format(delta))\n",
    "    \n",
    "    # Now try to fit an exponential and fit H and DENS0\n",
    "    s = 0.0\n",
    "    sx = 0.0\n",
    "    sy = 0.0\n",
    "    sxy = 0.0\n",
    "    sxx = 0.0\n",
    "    n = 0\n",
    "    while n < ndinp:\n",
    "        if ydinp[n] > 0.0:\n",
    "            s += 1.0\n",
    "            sx += xdinp[n]\n",
    "            sxx += xdinp[n] * xdinp[n]\n",
    "            sy += np.log(ydinp[n])\n",
    "            sxy += xdinp[n] * np.log(ydinp[n])\n",
    "        n += 1\n",
    "    det = s * sxx - sx * sx;\n",
    "    h = det / ( sx * sy - s * sxy )\n",
    "    if ( h > ( 0.5 * rcut ) ):\n",
    "        h = 0.5 * rcut\n",
    "    if ( h < ( 0.1 * rcut ) ):\n",
    "        h = 0.1 * rcut;\n",
    "    dens0 = np.exp( ( sy * sxx - sx * sxy ) / det )\n",
    "        \n",
    "    print(\"dens0 = {:.4} Msun/PC^2\".format(dens0))\n",
    "    print(\"h = {:.4} kpc\".format(h))"
   ]
  },
  {
   "cell_type": "markdown",
   "metadata": {},
   "source": [
    "If user is false, it uses Casertano's piecewise function to calculate the radius-density pairs"
   ]
  },
  {
   "cell_type": "code",
   "execution_count": 6,
   "metadata": {},
   "outputs": [],
   "source": [
    "if user == False:           # If USER=N, calculate density\n",
    "\n",
    "    # User need to provide dens0 (in MSUN/PC^2) and h (in KPC)\n",
    "    dens0 = dens0           # central density of exponential DISK in MAG/ARCSEC^2\n",
    "    # convert disk central surface brightness from MAG/ARCSEC^2 to MSUN/KPC^2\n",
    "    dens0 = 10**(-0.4 * dens0)       \n",
    "    dens0 = (4.8481E-3 * distance)**(-2) * dens0\n",
    "    dens0 = dens0 * 1.0e6        \n",
    "    print(\"dens0 = {:.4}\".format(dens0))\n",
    "\n",
    "    h = h                   # radial scale length\n",
    "    z0 = 0.2*h              # scale height of DISK in kpc [0.0]. \n",
    "                              # note: The integration in Z is the most time consuming part\n",
    "                              # of the calculation. For example it takes about 0.2 seconds\n",
    "                              # to calculate a point on the rotation curve for a disk with zero\n",
    "                              # thickness, and about 2 seconds for a disk with non-zero thickness.\n",
    "    rcut = 4*h              # cutoff radius\n",
    "    delta = 0.2*h           # softening parameter of DISK in kpc [0.0]. It may be wise\n",
    "                              # to have a non-zero softening in case of a truncated disk, \n",
    "                              # because then the sharp features in the calculated rotation \n",
    "                              # curve will be smoothed out. A softening parameter of about \n",
    "                              # 0.2 scale lengths would be sufficient.\n",
    "\n",
    "    # Now calculate the surface densities\n",
    "    LEN1 = 20016              # don't need to pre-define array size in python  \n",
    "    LEN2 = 40001              # LEN1 and LEN2 is defined after the file is called\n",
    "    xdinp = np.zeros(LEN2)    # radii surface density\n",
    "    ydinp = np.zeros(LEN2)    # surface densities\n",
    "    rdinp = rcut + delta      # max radius, where galaxy ends\n",
    "    ndinp = LEN2 - 1          # number of surface densities\n",
    "    xstep = rdinp / (ndinp - 1)        # step in radius\n",
    "\n",
    "    i = 0                              # counter \n",
    "    while i < ndinp:\n",
    "        # Casertano's piecewise function\n",
    "        xdinp[i] = x = xstep * i\n",
    "        if x >= rcut and delta > 0.0:\n",
    "            y = dens0 * np.exp(-rcut / h) * (rcut + delta - x) / delta\n",
    "        elif x >= rdinp:\n",
    "            y = 0.0                    # end of disk\n",
    "        else:\n",
    "            y = dens0 * np.exp(-x / h) # exponential disk\n",
    "        ydinp[i] = y\n",
    "        i += 1\n",
    "    print(len(xdinp))\n",
    "    print(xdinp[1])\n",
    "    print(len(ydinp))"
   ]
  },
  {
   "cell_type": "markdown",
   "metadata": {},
   "source": [
    "## Determining disk or gass total mass"
   ]
  },
  {
   "cell_type": "markdown",
   "metadata": {},
   "source": [
    "GIPSY output of _rmass_ is $4.183 \\space \\times \\space 10^9$ solar masses (MSun) <br>"
   ]
  },
  {
   "cell_type": "code",
   "execution_count": 7,
   "metadata": {},
   "outputs": [
    {
     "name": "stdout",
     "output_type": "stream",
     "text": [
      "146\n",
      "146\n",
      "Disk Mass in 10^9 MSUN 3.851.\n",
      "3851251066.3644156\n",
      "dens0 = 170.7400.\n"
     ]
    }
   ],
   "source": [
    "# Now we determine the disk mass and allow the user to modify it.\n",
    "dkmass = 0.0\n",
    "n = 1\n",
    "print(ndinp)\n",
    "print(len(xdinp))\n",
    "\n",
    "xdinp_pc = xdinp*1e3            # converts all radii from KPC to PC: 1 KPC = 10^3 PC\n",
    "\n",
    "while n < ndinp:\n",
    "    x = xdinp_pc[n] \n",
    "    if n < ndinp - 1:\n",
    "        step = ( xdinp_pc[n+1] - xdinp_pc[n-1] ) / 2.0    # subtracts the next radius value from the previous radius value and divides by two\n",
    "    else:\n",
    "        step = xdinp_pc[n] - xdinp_pc[n-1]                # subtracts the previous radius value from the current value\n",
    "    dkmass += ydinp[n] * step * x                         # multiplies the density value with the difference of radii and the current radii \n",
    "    n += 1\n",
    "\n",
    "dkmass *= ( 2.0 * np.pi )\n",
    "rmass = dkmass / 1.0e9\n",
    "print(\"Disk Mass in 10^9 MSUN {:.4}.\".format(rmass))\n",
    "print(dkmass)\n",
    "print(\"dens0 = {:.4f}.\".format(dens0))"
   ]
  },
  {
   "cell_type": "code",
   "execution_count": 8,
   "metadata": {},
   "outputs": [
    {
     "name": "stdout",
     "output_type": "stream",
     "text": [
      "new dens0 = 185.4477.\n",
      "new dkmass = 4.1830e+09.\n",
      "new rmass is now a ratio = 1.0861e+00.\n"
     ]
    }
   ],
   "source": [
    "# this is where you would put in your own mass value**\n",
    "# i.e rmass=91.6\n",
    "rmass_new = 4.183                  # changed the name of the variable because it was messing up the calculation\n",
    "\n",
    "# checks if the input is a valid value\n",
    "if ( rmass_new <= 0.0 ):\n",
    "    print(\"error in disk mass\")\n",
    "        \n",
    "rmass_new = ( rmass_new * 1.0E9 ) / dkmass\n",
    "dkmass_new = rmass_new * dkmass;\n",
    "    \n",
    "n = 0\n",
    "while n < ndinp:\n",
    "    ydinp[n] *= rmass_new\n",
    "    n += 1\n",
    "dens0 = dens0 * rmass_new\n",
    "print(\"new dens0 = {:.4f}.\".format(dens0))\n",
    "print(\"new dkmass = {:.4e}.\".format(dkmass_new))\n",
    "print(\"new rmass is now a ratio = {:.4e}.\".format(rmass_new))"
   ]
  },
  {
   "cell_type": "code",
   "execution_count": 9,
   "metadata": {},
   "outputs": [
    {
     "name": "stdout",
     "output_type": "stream",
     "text": [
      "z1 = 0.5820.\n",
      "delta = 0.0259.\n"
     ]
    }
   ],
   "source": [
    "# calculates z1, not sure why they do this in this part of the calculation\n",
    "z1 = z0\n",
    "if ( z1 < ( 0.1 * h ) ):\n",
    "    z1 = 0.1 * h\n",
    "if ( z1 > ( 0.3 * h ) ):\n",
    "    z1 = 0.3 * h\n",
    "\n",
    "print(\"z1 = {:.4f}.\".format(z1))\n",
    "print(\"delta = {:.4f}.\".format(delta))"
   ]
  },
  {
   "cell_type": "markdown",
   "metadata": {},
   "source": [
    "## Calculating radii"
   ]
  },
  {
   "cell_type": "raw",
   "metadata": {},
   "source": [
    "From rotmod.c:\n",
    "RADIUS[LEN1+LEN2+1] \t/* sampling radii */\n",
    "RADII=1:13:0.01 \n",
    "RINGS[LEN1-16]\n",
    "\n",
    "xdinp    #imported radii"
   ]
  },
  {
   "cell_type": "code",
   "execution_count": 10,
   "metadata": {},
   "outputs": [
    {
     "name": "stdout",
     "output_type": "stream",
     "text": [
      "width = 0.0259.\n"
     ]
    }
   ],
   "source": [
    "# Note: This is where things get complicated with different variables. \n",
    "# C programming language is different than Python so I think it would be good if someone who knows C can help with this part\n",
    "\n",
    "# Now get radii for which we should calculate the rotation curve.\n",
    "#radii = rawr                    # the same points as the raw rc data points\n",
    "radii = np.arange(0.001,11,0.01) # sampling radii\n",
    "#radius = np.zeros(LEN1+LEN2+1)\n",
    "radius = xdinp\n",
    "rings = xdinp\n",
    "nring = len(rings)              # number of sampling radii\n",
    "ntimes = len(xdinp)             # number of items\n",
    "\n",
    "while n < nring:\n",
    "    if rings[n] < 0.0:\n",
    "        print(\"error in rings\")\n",
    "    n += 1\n",
    "    \n",
    "#nitems = 1\n",
    "#input_level = 2\n",
    "\n",
    "# find width\n",
    "if z1 < delta:\n",
    "    width = z1\n",
    "else:\n",
    "    width = delta\n",
    "print(\"width = {:.4f}.\".format(width))"
   ]
  },
  {
   "cell_type": "raw",
   "metadata": {},
   "source": [
    "# If user provided radius-density pairs\n",
    "# It fills up the 'radius' array by picking values from either the 'rings' array or the 'xdinp' array\n",
    "# Chooses the lesser value out of the two arrays, for some reason\n",
    "\n",
    "if ( user == True ):\n",
    "    r1 = 0.0\n",
    "    r2 = 0.0\n",
    "\n",
    "    radius[0] = 0.0\n",
    "    l = m = n = 0\n",
    "    while l < nring or n < ndinp and m < ( LEN1 + LEN2 + 1 ) and l < nring and radius[m] >= r1 and n < ndinp and radius[m] >= r2:\n",
    "            r1 = rings[l]\n",
    "            l += 1\n",
    "            r2 = xdinp[n]\n",
    "            n += 1\n",
    "            if ( r1 > radius[m] and r2 > radius[m] ):\n",
    "                if r1 < r2:                        # If the 'rings' array value is less than the 'xdinp' array value\n",
    "                    m += 1\n",
    "                    radius[m] = r1                 \n",
    "                else:\n",
    "                    m += 1\n",
    "                    radius[m] = r2\n",
    "            elif ( r1 > radius[m] ):\n",
    "                m += 1\n",
    "                radius[m] = r1\n",
    "            elif ( r2 > radius[m] ):\n",
    "                m += 1\n",
    "                radius[m] = r2\n",
    "    nradii = m + 1\n",
    "print(radius)"
   ]
  },
  {
   "cell_type": "raw",
   "metadata": {},
   "source": [
    "# If there were no radius-density pairs provided\n",
    "if ( user == False ):\n",
    "    if width != 0.0 :\n",
    "        \n",
    "        s1 = rcut - width\n",
    "        s2 = rcut + 2.0 * width\n",
    "        indmin = indmax = nring - 1\n",
    "        n = 0\n",
    "        while n < nring:\n",
    "            if ( rings[n] > s1 ): \n",
    "                if indmin < n:\n",
    "                    indmin = indmin\n",
    "                else: \n",
    "                    indmin = n\n",
    "            if ( rings[n] > s2 ):\n",
    "                if indmax < n:\n",
    "                    indmax = indmax\n",
    "                else: \n",
    "                    indmax = n\n",
    "            n += 1\n",
    "        \n",
    "        m = n = 0\n",
    "        while n < nring:\n",
    "            if ( n < indmin or n > indmax ):\n",
    "                radius[m] = rings[n]\n",
    "                m += 1\n",
    "            if ( n == indmin ):\n",
    "                stp = width / 5.0\n",
    "                l = 0\n",
    "                while l < 15:\n",
    "                    radius[m] = rcut - width * l * stp\n",
    "                    m += 1\n",
    "                    l += 1\n",
    "            else:\n",
    "                radius[m] = rings[n]\n",
    "                m += 1\n",
    "                \n",
    "            n += 1\n",
    "\n",
    "# What is this doing? the if statements above are if user is True or False but what is \"else\"? If user is either?\n",
    "else:\n",
    "    nradii = 0\n",
    "    n = 0\n",
    "    while n < nring:\n",
    "        radius[nradii] = rings[n] \n",
    "        nradii += 1\n",
    "        n += 1"
   ]
  },
  {
   "cell_type": "markdown",
   "metadata": {},
   "source": [
    "## Plotting the radius - density pair"
   ]
  },
  {
   "cell_type": "code",
   "execution_count": 11,
   "metadata": {},
   "outputs": [
    {
     "data": {
      "image/png": "[encoded data removed]",
      "text/plain": [
       "<Figure size 648x576 with 1 Axes>"
      ]
     },
     "metadata": {
      "needs_background": "light"
     },
     "output_type": "display_data"
    }
   ],
   "source": [
    "# Plot \n",
    "plt.figure(figsize=(9,8))\n",
    "plt.scatter(xdinp,ydinp, s=100)\n",
    "#plt.scatter(radius,ydinp)\n",
    "plt.show()"
   ]
  },
  {
   "cell_type": "markdown",
   "metadata": {},
   "source": [
    "## Functions"
   ]
  },
  {
   "cell_type": "code",
   "execution_count": 12,
   "metadata": {},
   "outputs": [],
   "source": [
    "# Casertano's equations: Eq 5 and elliptical functions \n",
    "def func(x,y,z):\n",
    "    if( x==y ) & ( z == 0):\n",
    "        r = 0\n",
    "    elif( x==0 ) | ( y == 0):\n",
    "        r = 0\n",
    "    else:\n",
    "        xxx = (x*x + y*y + z*z) / (2.0 * x * y)\n",
    "        rrr = (xxx*xxx - 1.0)\n",
    "        ppp = 1.0 / (xxx + np.sqrt(rrr))\n",
    "        fm = 1.0 - ppp*ppp\n",
    "        el1 = (1.3862944 + fm * (0.1119723 + fm * 0.0725296)) - (0.5 + fm * (0.1213478 + fm * 0.0288729)) * np.log(fm)\n",
    "        el2 = (1.0 + fm * ( 0.4630151 + fm * 0.1077812 ) ) - (fm * (0.2452727 + fm * 0.0412496)) * np.log(fm)\n",
    "        r = ((1.0 - xxx * y/x) * el2 / (rrr) + (y/x - ppp) * el1 / np.sqrt(rrr)) / np.pi\n",
    "        r *= np.sqrt(x / (y * ppp))\n",
    "    return r"
   ]
  },
  {
   "cell_type": "code",
   "execution_count": 13,
   "metadata": {},
   "outputs": [],
   "source": [
    "# DISK Density distribution \n",
    "# There are three distribution laws possible; \n",
    "# the Van der Kruit and Searle law (SECH-SQUARED): D(Z)=sech(Z/Z0)**2/Z0,\n",
    "# an exponential density law (EXPONENTIAL): D(Z)=exp(-Z/Z0)/Z0 \n",
    "# a simple sech law (SIMPLE-SECH): D(Z)=2*sech(Z/Z0)/Z0/PI. \n",
    "\n",
    "# case 1 is a flat disk, z0 = 0\n",
    "#####################################\n",
    "\n",
    "\n",
    "# Sech-squared law:\n",
    "def denzed_case2(z,z0): \n",
    "    r = np.cosh(z / z0)\n",
    "    r = r * r * z0\n",
    "    r = 1.0 / r\n",
    "    return r\n",
    "\n",
    "# Exponential:\n",
    "def denzed_case3(z,z0):\n",
    "    r = np.exp(-z / z0) /z0\n",
    "    return r\n",
    "\n",
    "# Simple-sech\n",
    "def denzed_case4(z,z0):\n",
    "    r = 2 / z0 / np.pi / np.cosh(z/z0)\n",
    "    return r\n",
    "\n",
    "def denzed(z,z0,mode):\n",
    "    #mode = input(\"Which Z density law? 2 or 3 or 4: \")\n",
    "    #The above results in the user being asked for every point entered; this was likely used as a backend.\n",
    "    if mode == 2:\n",
    "        return denzed_case2(z,z0)\n",
    "    if mode == 3:\n",
    "        return denzed_case2(z,z0)\n",
    "    if mode == 4:\n",
    "        return denzed_case4(z,z0)\n",
    "    else:\n",
    "        return np.nan\n",
    "        print(\"Error occured in denzed; no mode selected. Returned nan.\")"
   ]
  },
  {
   "cell_type": "code",
   "execution_count": 14,
   "metadata": {},
   "outputs": [],
   "source": [
    "\"\"\"intzed computes the integral over Z that defines the kernel of the integral formula for the rotation velocity. \n",
    "This is done for an arbitrary vertical density profile, specified in the function denzed.\n",
    "The interval of integration is divided into several subintervals, in each of which Simpson's rule is used. \n",
    "It is thus possible to have different steps in different regions of the interval of integration, \n",
    "and to compute the integral more accurately. An attempt has been made at optimizing the subdivision. \n",
    "It is still possible that the kernel is not accurate, especially when R is very close to U. \n",
    "It is NOT recommended that the programme is used with very small, but non-zero, values of the thickness. \n",
    "On the other hand, the situation with an infinitely thin disk is dealt with properly, the density profile in \n",
    "Z being then treated as a Dirac delta function.\"\"\"\n",
    "\n",
    "def intzed(r,u,z0,naccur,mode):\n",
    "    zeds = np.array([0.02, 0.50, 1.00, 3.00, 10.00])\n",
    "    \n",
    "    if (z0 != 0.0) & (naccur != 0):\n",
    "        n = 10\n",
    "        n = naccur * n\n",
    "        \n",
    "        if (np.abs(r - u) <= (0.2 * z0)) & (naccur > 1):\n",
    "            n = 200\n",
    "        \n",
    "        zne = 0.0\n",
    "        res = 0.0\n",
    "        i = 0\n",
    "        while i < 5: \n",
    "            zol = zne\n",
    "            zne = zeds[i] * z0\n",
    "            step = (zne - zol) / n\n",
    "            z = zol\n",
    "            res += step * func(r,u,z) * denzed(z,z0,mode) / 3.0\n",
    "            w = 4.0 / 3.0         \n",
    "            j = 0.0\n",
    "            while j < n:\n",
    "                z += step\n",
    "                res += step * func(r,u,z) * denzed(z,z0,mode) * w\n",
    "                w = 2.0 - w\n",
    "                j += 1\n",
    "            res -= step * func(r,u,z) * denzed(z,z0,mode) / 3.0\n",
    "            i += 1\n",
    "    else:\n",
    "        res = func(r,u,z0)\n",
    "    return res"
   ]
  },
  {
   "cell_type": "raw",
   "metadata": {},
   "source": [
    "# interp does a Lagrange interpolation (second order)\n",
    "def interpd(x1,y1,n1,x2,y2,n2):  \n",
    "    i = 0\n",
    "\n",
    "    while i < n2:\n",
    "        x = x2[i]\n",
    "        y = 0.0\n",
    "        j = 1\n",
    "        done = 0\n",
    "        while (done != 1) and (j < (n1 - 1)):\n",
    "            if ((x1[j-1] <= x ) and (x1[j+1] >= x)):\n",
    "                k = j - 1\n",
    "                while (k <= j + 1):\n",
    "                    f = 1.0\n",
    "                    l = j - 1\n",
    "                    while l <= j + 1:\n",
    "                        if (l != k):\n",
    "                            f *= (x - x1[l]) / (x1[k] - x1[l]) #So we are getting negative f when x1[l] > x or x1[k] < x1[l], but not both\n",
    "                        l += 1        \n",
    "                    y += f * y1[k]\n",
    "                    print(y)\n",
    "                    k += 1\n",
    "                done = 1\n",
    "            j += 1\n",
    "        if (y > 0.0):\n",
    "            y2[i] = y\n",
    "        else: \n",
    "            y2[i] = 0.0\n",
    "        i += 1\n",
    "    return x2,y2"
   ]
  },
  {
   "cell_type": "code",
   "execution_count": 15,
   "metadata": {},
   "outputs": [],
   "source": [
    "def interpd(x,y):\n",
    "    #return lagrange(x,y)                # Lagrange interpolation didn't work well so I used Univariate Spline\n",
    "    return InterpolatedUnivariateSpline(x,y,k=4)\n",
    "\n",
    "# Calculate the density values at the sampling radii, using Lagrange Interpolation\n",
    "polynomial = interpd(xdinp,ydinp)        # define the polynomial that's calculated, type: numpy.poly1d\n",
    "densit = polynomial(radii)               # evaluate values at the sampling radii"
   ]
  },
  {
   "cell_type": "code",
   "execution_count": 16,
   "metadata": {},
   "outputs": [],
   "source": [
    "# interg does the integration\n",
    "def interg(xd,yd,nd,r,rstart,z0,step,ndens,naccur,mode):\n",
    "    vsq = 0.0\n",
    "    i = 1\n",
    "    k = 0\n",
    "    while k < ndens:\n",
    "        if (k == 0 or k == (ndens - 1)):\n",
    "            iw = 1\n",
    "        else:\n",
    "            iw = 4 - 2 * ((k + 1) % 2)\n",
    "        \n",
    "        x = rstart + step * k\n",
    "        y = 0.0\n",
    "\n",
    "        if (x < xd[nd-1]): \n",
    "            done = False\n",
    "            while (done == False) & (i < (nd - 1)):\n",
    "                #if i==1:\n",
    "                    #print(\"            Checking xd...\") #This if (xd...) loop is entered many times in quick succession; doesn't seem to be hanging so much as running too much. Not seeing the \"increased i for the first time\" as frequently as I would have expected, but this if statement IS completing quickly.\n",
    "                if (xd[i-1] <= x) & (xd[i+1] >= x):\n",
    "                    k1 = i - 1\n",
    "                    while k1 <= (i + 1):\n",
    "                        f = 1.0\n",
    "                        k2 = i - 1\n",
    "                        while k2 <= (i + 1):\n",
    "                            if (k1 != k2):\n",
    "                                f *= (x - xd[k2]) / (xd[k1] - xd[k2])\n",
    "                            k2 += 1\n",
    "                        y += f * yd[k1]\n",
    "                        done = True\n",
    "                        k1 += 1\n",
    "                else:\n",
    "                    i += 1\n",
    "            if (y > 0.0):\n",
    "                res = intzed(r,x,z0,naccur,mode)\n",
    "                vsq += CONSTANT * res * y * step * iw\n",
    "        k += 1\n",
    "    return vsq"
   ]
  },
  {
   "cell_type": "raw",
   "metadata": {},
   "source": [
    "print(radius)"
   ]
  },
  {
   "cell_type": "code",
   "execution_count": 17,
   "metadata": {},
   "outputs": [
    {
     "name": "stdout",
     "output_type": "stream",
     "text": [
      "Setting variables...\n",
      "Variables set. Interpolating...\n",
      "Interpolation complete. Calculation will now begin.\n",
      "Loop variables set. Setting variable j...\n",
      "Initial value of j set to 0. Setting additional variables...\n",
      "      99.3% Complete\r"
     ]
    }
   ],
   "source": [
    "# Calculation\n",
    "print(\"Setting variables...\")\n",
    "i = 0\n",
    "j = 0\n",
    "velocs = np.zeros(len(radius))\n",
    "nradii = len(radius)\n",
    "#densit = np.zeros(LEN1+LEN2+1)\n",
    "#densit = np.zeros(len(radius))\n",
    "\n",
    "#####################################\n",
    "########### USER SETTINGS ###########\n",
    "\n",
    "print(\"Variables set. Interpolating...\")\n",
    "#interpd( xdinp, ydinp, ndinp, radii, densit, nradii )\n",
    "#radius = interpd( xdinp, ydinp, ndinp, radius, densit, nradii )[0]\n",
    "#densit = interpd( xdinp, ydinp, ndinp, radius, densit, nradii )[1]\n",
    "\n",
    "print(\"Interpolation complete. Calculation will now begin.\")\n",
    "while i < nradii:\n",
    "    r = radius[i]\n",
    "    vsq = 0.0\n",
    "\n",
    "    if i==0:\n",
    "        print(\"Loop variables set. Setting variable j...\")\n",
    "    \n",
    "    while j < nring and rings[j] < r:\n",
    "        j += 1\n",
    "\n",
    "    if i==0:\n",
    "        print(\"Initial value of j set to \"+str(j)+\". Setting additional variables...\")\n",
    "    \n",
    "    skip = rings[j] != r\n",
    "    #z1 = z0\n",
    "    \n",
    "    r1 = r - 3.0 * z1\n",
    "    if r1 < 0.0:\n",
    "        r1 = 0.0\n",
    "    \n",
    "    r2 = 0.0\n",
    "\n",
    "    if r1 < (rcut + 2.0 * delta):\n",
    "        r2 = r + (r - r1)\n",
    "        ndens = 6 * ntimes + 1\n",
    "        step = (r2 - r1) / (ndens - 1)\n",
    "        rstart = r1\n",
    "        vsq += interg(xdinp,ydinp,ndinp,r,rstart,z0,step,ndens,naccur,mode)\n",
    "        \n",
    "        if r1 > 0.0:\n",
    "            ndens = r1 * ntimes / h\n",
    "            ndens = 2 * (ndens / 2) + 3       # multiplies and devides by 2, it's unnecessary\n",
    "            step = r1 / (ndens - 1)\n",
    "            rstart = 0.0\n",
    "            vsq += interg(xdinp,ydinp,ndinp,r,rstart,z0,step,ndens,naccur,mode)\n",
    "    \n",
    "    if r2 < (rcut + 2.0 * delta):\n",
    "        ndens = (rcut + 2.0 * delta - r2) * ntimes / h\n",
    "        ndens = 2 * (ndens / 2) + 3\n",
    "        step = (rcut + 2.0 * delta - r2) / (ndens - 1)\n",
    "        rstart = r2\n",
    "        vsq += interg(xdinp,ydinp,ndinp,r,rstart,z0,step,ndens,naccur,mode)\n",
    "    \n",
    "    if vsq < 0.0:\n",
    "           velocs[i] = (-np.sqrt(-vsq))\n",
    "    else:\n",
    "           velocs[i] = (np.sqrt(vsq))\n",
    "\n",
    "    print(\"{:10.1f}\".format(i/len(radius)*100)+\"% Complete\",end=\"\")\n",
    "    print('\\r',end=\"\")\n",
    "    i += 1"
   ]
  },
  {
   "cell_type": "code",
   "execution_count": 18,
   "metadata": {},
   "outputs": [
    {
     "name": "stdout",
     "output_type": "stream",
     "text": [
      "[6.32287014e+02 6.19311179e+02 6.08150561e+02 ... 4.22915321e-01\n",
      " 4.15894350e-01 4.08899498e-01]\n"
     ]
    }
   ],
   "source": [
    "print(densit)"
   ]
  },
  {
   "cell_type": "code",
   "execution_count": 19,
   "metadata": {},
   "outputs": [
    {
     "data": {
      "image/png": "[encoded data removed]",
      "text/plain": [
       "<Figure size 648x576 with 1 Axes>"
      ]
     },
     "metadata": {
      "needs_background": "light"
     },
     "output_type": "display_data"
    }
   ],
   "source": [
    "#plot disk velocity\n",
    "fig = plt.figure(figsize=(9.0,8.0))                #size of the plot\n",
    "ax = plt.axes()\n",
    "ax.grid(True)\n",
    "ax.yaxis.grid(True,which='minor',linestyle='--')\n",
    "\n",
    "plt.scatter(radius, velocs, linestyle='solid', label='Gas Velocity')\n",
    "\n",
    "plt.axis('tight');\n",
    "ax.set(title='NGC 5005')              #labeling axes\n",
    "#ax.set_xlim(0,11.4)\n",
    "ax.set_xlabel('r (kpc)', fontsize=14)\n",
    "ax.set_ylabel('v (km/s)', fontsize=14)\n",
    "ax.xaxis.set_tick_params(labelsize=14)\n",
    "ax.yaxis.set_tick_params(labelsize=14);\n",
    "\n",
    "plt.legend(fontsize=16);                                   #adding legend\n",
    "#plt.savefig('DiskVelocity100pts.png')\n",
    "plt.show()"
   ]
  },
  {
   "cell_type": "code",
   "execution_count": null,
   "metadata": {},
   "outputs": [],
   "source": []
  },
  {
   "cell_type": "code",
   "execution_count": null,
   "metadata": {},
   "outputs": [],
   "source": []
  }
 ],
 "metadata": {
  "kernelspec": {
   "display_name": "Python 3",
   "language": "python",
   "name": "python3"
  },
  "language_info": {
   "codemirror_mode": {
    "name": "ipython",
    "version": 3
   },
   "file_extension": ".py",
   "mimetype": "text/x-python",
   "name": "python",
   "nbconvert_exporter": "python",
   "pygments_lexer": "ipython3",
   "version": "3.7.1"
  }
 },
 "nbformat": 4,
 "nbformat_minor": 4
}
