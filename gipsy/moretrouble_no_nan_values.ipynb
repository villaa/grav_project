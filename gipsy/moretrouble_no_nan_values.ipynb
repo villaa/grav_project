{
 "cells": [
  {
   "cell_type": "code",
   "execution_count": 1,
   "metadata": {},
   "outputs": [],
   "source": [
    "import time\n",
    "startTime = time.time()\n",
    "\n",
    "import numpy as np\n",
    "import matplotlib.pyplot as plt\n",
    "from scipy.integrate import quad, nquad, dblquad\n",
    "from scipy.special import ellipe, ellipk\n",
    "from scipy.interpolate import lagrange, InterpolatedUnivariateSpline\n",
    "from scipy.signal import savgol_filter"
   ]
  },
  {
   "cell_type": "markdown",
   "metadata": {},
   "source": [
    "## User input"
   ]
  },
  {
   "cell_type": "code",
   "execution_count": 2,
   "metadata": {},
   "outputs": [],
   "source": [
    "# Gas:\n",
    "# Conversion to linear scale was made in the notebook: grav_project/NGC_5005/Gas_from_mass_surface_density.ipynb\n",
    "raddens = \"../data/gasmsd_kpc_linear.txt\"      # Gas density with 2 columns, units: KPC, MSUN/PC^2\n",
    "maxkpc=11\n",
    "minkpc=.9473\n",
    "# Parameters\n",
    "z0 = 0.93"
   ]
  },
  {
   "cell_type": "code",
   "execution_count": 3,
   "metadata": {},
   "outputs": [],
   "source": [
    "# Gas\n",
    "tracedgas = np.loadtxt(\"../NGC_5005/traced_data/ngc5005_gas.txt\")\n",
    "tracedgas_r, tracedgas_v = tracedgas.T\n",
    "tracedgas_r = tracedgas_r[1:]\n",
    "tracedgas_v = tracedgas_v[1:]\n",
    "radii=tracedgas_r"
   ]
  },
  {
   "cell_type": "markdown",
   "metadata": {},
   "source": [
    "## Density profile, outputs: radii (array), densities (array), rcut (one #), delta (one #)"
   ]
  },
  {
   "cell_type": "code",
   "execution_count": 4,
   "metadata": {},
   "outputs": [],
   "source": [
    "def DensityProfile(raddens=raddens):\n",
    "    mudata = np.loadtxt(raddens)     \n",
    "    xdinp, ydinp = mudata.T\n",
    "    rcut = xdinp[len(xdinp)-1]               # rcut is the LAST radius value (?)\n",
    "    delta = rcut - xdinp[len(xdinp)-2]       # difference between the last two radius values\n",
    "    \n",
    "    return xdinp, ydinp, rcut, delta\n",
    "\n",
    "#defining these output values:\n",
    "# Radius\n",
    "xdinp = DensityProfile()[0]\n",
    "# Density\n",
    "ydinp = DensityProfile()[1]\n",
    "# Cutoff radius\n",
    "rcut = DensityProfile()[2]\n",
    "# Cutoff length\n",
    "delta = DensityProfile()[3]"
   ]
  },
  {
   "cell_type": "markdown",
   "metadata": {},
   "source": [
    "## Interpolation"
   ]
  },
  {
   "cell_type": "code",
   "execution_count": 5,
   "metadata": {},
   "outputs": [],
   "source": [
    "def interpd(x,y):\n",
    "    #return lagrange(x,y)                # Lagrange interpolation didn't work well so I used Univariate Spline\n",
    "    return InterpolatedUnivariateSpline(x,y,k=4)\n",
    "    \n",
    "# Calculate the density values at the sampling radii\n",
    "spline_rhor = interpd(xdinp,ydinp)        # define the polynomial that's calculated"
   ]
  },
  {
   "cell_type": "markdown",
   "metadata": {},
   "source": [
    "radii = np.arange(0.001,11,0.1)                # Sampling radii\n",
    "## Partial derivative / Smoothing"
   ]
  },
  {
   "cell_type": "code",
   "execution_count": 6,
   "metadata": {},
   "outputs": [
    {
     "name": "stdout",
     "output_type": "stream",
     "text": [
      "[ 0.9464  1.4501  1.9258  2.4017  2.8777  3.3677  3.8435  4.3193  4.7951\n",
      "  5.5927  6.3905  7.2022  7.9999  8.7837  9.5954 10.3792 11.1908]\n"
     ]
    }
   ],
   "source": [
    "#radii = np.linspace(0.001,maxkpc,100)                # Sampling radii\n",
    "#radii = np.arange(minkpc,maxkpc,0.1)                # Sampling radii\n",
    "print(radii)\n",
    "\n",
    "# Partial derivative of rho(u,z) with respect to u\n",
    "# Taking the derivative of the splined polynomial (radius and density values, rho(r) or rho(u))\n",
    "drho_du = spline_rhor.derivative()\n",
    "\n",
    "# Evaluating at given radii\n",
    "drho_du_values = drho_du(radii)\n",
    "\n",
    "# Smoothing: Savitzky-Golay filter: https://riptutorial.com/scipy/example/15878/using-a-savitzky-golay-filter\n",
    "drho_du_smooth = savgol_filter(drho_du_values, 11, 5)  # window size 11, polynomial order 6\n",
    "\n",
    "# Spline the smoothed derivative\n",
    "spline_drhor = interpd(radii,drho_du_smooth)"
   ]
  },
  {
   "cell_type": "code",
   "execution_count": 7,
   "metadata": {},
   "outputs": [
    {
     "data": {
      "image/png": "[encoded data removed]",
      "text/plain": [
       "<Figure size 576x504 with 1 Axes>"
      ]
     },
     "metadata": {
      "needs_background": "light"
     },
     "output_type": "display_data"
    }
   ],
   "source": [
    "# Plot \n",
    "plt.figure(figsize=(8,7))\n",
    "plt.plot(radii,drho_du_values, label=\"Before smoothing drho/du\", c=\"blue\")\n",
    "plt.plot(radii,drho_du_smooth, label=\"After smoothing drho/du\", c=\"red\")\n",
    "#plt.plot(radii,spline_drhor(radii), label=\"After smoothing and splining drho/du\", c=\"purple\")\n",
    "plt.title(\"Partial Derivative of Density\")\n",
    "plt.xlabel(\"Radius (KPC)\")\n",
    "plt.ylabel(\"drho/du\")\n",
    "plt.legend()\n",
    "plt.show()"
   ]
  },
  {
   "cell_type": "markdown",
   "metadata": {},
   "source": [
    "## Functions"
   ]
  },
  {
   "cell_type": "code",
   "execution_count": 8,
   "metadata": {},
   "outputs": [
    {
     "name": "stdout",
     "output_type": "stream",
     "text": [
      "-90.77944368790979\n"
     ]
    }
   ],
   "source": [
    "#from casertano http://articles.adsabs.harvard.edu/pdf/1983MNRAS.203..735C\n",
    "# Casertano Eq 2\n",
    "def drho_du(u,z,z0):\n",
    "    return spline_drhor(u) * np.cosh(z / z0)**(-2)\n",
    "\n",
    "print(drho_du(1,1,z0))"
   ]
  },
  {
   "cell_type": "code",
   "execution_count": 9,
   "metadata": {},
   "outputs": [
    {
     "name": "stdout",
     "output_type": "stream",
     "text": [
      "0.3819660112501051\n"
     ]
    }
   ],
   "source": [
    "# Casertano Eq 5\n",
    "def px(r,u,z):\n",
    "    x = (r**2 + u**2 + z**2)/(2*r*u)\n",
    "    return x - np.sqrt((x**2)-1)\n",
    "\n",
    "print(px(1,1,1))"
   ]
  },
  {
   "cell_type": "code",
   "execution_count": 10,
   "metadata": {},
   "outputs": [
    {
     "name": "stdout",
     "output_type": "stream",
     "text": [
      "0.1214886656384\n"
     ]
    }
   ],
   "source": [
    "# Complete elliptic integral, JUST COPYING FROM THE ROTMOD.C CODE\n",
    "def fm(r,u,z):\n",
    "    return 1.0 - px(r,u,z)**2\n",
    "def e1(r,u,z):\n",
    "    return ( 1.3862944 + fm(r,u,z) * ( 0.1119723 + fm(r,u,z) * 0.0725296 ) ) - ( 0.5 + fm(r,u,z) * ( 0.1213478 + fm(r,u,z) * 0.0288729 ) ) * np.log( fm(r,u,z) );\n",
    "def e2(r,u,z):\n",
    "    return ( 1.0 + fm(r,u,z) * ( 0.4630151 + fm(r,u,z) * 0.1077812 ) ) - ( fm(r,u,z) * ( 0.2452727 + fm(r,u,z) * 0.0412496 ) ) * np.log( fm(r,u,z));\n",
    "def K_E(r,u,z):\n",
    "    return e1(r,u,z)- e2(r,u,z)\n",
    "print(K_E(1,1,1))"
   ]
  },
  {
   "cell_type": "code",
   "execution_count": 11,
   "metadata": {},
   "outputs": [
    {
     "name": "stdout",
     "output_type": "stream",
     "text": [
      "2.093076088644507e-08\n"
     ]
    }
   ],
   "source": [
    "#constants\n",
    "G = 0.00000431158                   # Gravitational constant (KPC/MSUN*(KM/S)^2)  \n",
    "\n",
    "#casertano eq 4, simplified\n",
    "def integrand(r,u,z,z0,G):\n",
    "    return (8 * G) * drho_du(u,z,z0) * K_E(r,u,z) / np.sqrt(u * r * px(r,u,z))\n",
    "\n",
    "print(integrand(1,2,3,z0,G))"
   ]
  },
  {
   "cell_type": "markdown",
   "metadata": {},
   "source": [
    "## Integration"
   ]
  },
  {
   "cell_type": "code",
   "execution_count": 12,
   "metadata": {},
   "outputs": [
    {
     "name": "stdout",
     "output_type": "stream",
     "text": [
      "0\n",
      "inf\n"
     ]
    }
   ],
   "source": [
    "# Define minimum and maximum values of radius for integration\n",
    "intmin = 0 #0 causes runtime issues but this gets very close\n",
    "intmax = np.inf #np.max(radii) #Integration is from 0 to infinity but infinity gives overflow errors so we just pick the largest we can without causing errors\n"
   ]
  },
  {
   "cell_type": "code",
   "execution_count": 13,
   "metadata": {},
   "outputs": [
    {
     "name": "stdout",
     "output_type": "stream",
     "text": [
      "-0.00032796264345610594\n"
     ]
    },
    {
     "name": "stderr",
     "output_type": "stream",
     "text": [
      "<ipython-input-8-6c0664f08d26>:4: RuntimeWarning: overflow encountered in cosh\n",
      "  return spline_drhor(u) * np.cosh(z / z0)**(-2)\n",
      "<ipython-input-11-040cb14c4033>:6: RuntimeWarning: invalid value encountered in double_scalars\n",
      "  return (8 * G) * drho_du(u,z,z0) * K_E(r,u,z) / np.sqrt(u * r * px(r,u,z))\n",
      "<ipython-input-13-2b6419a21d32>:2: IntegrationWarning: The maximum number of subdivisions (50) has been achieved.\n",
      "  If increasing the limit yields no improvement it is advised to analyze \n",
      "  the integrand in order to determine the difficulties.  If the position of a \n",
      "  local difficulty can be determined (singularity, discontinuity) one will \n",
      "  probably gain from splitting up the interval and calling the integrator \n",
      "  on the subranges.  Perhaps a special-purpose integrator should be used.\n",
      "  integrand2 = lambda u,r,z0,G: u*quad(integrand, intmin, intmax, args=(r,u,z0,G))[0]\n",
      "<ipython-input-13-2b6419a21d32>:7: IntegrationWarning: The occurrence of roundoff error is detected, which prevents \n",
      "  the requested tolerance from being achieved.  The error may be \n",
      "  underestimated.\n",
      "  radialforce = lambda r,z0,G: quad(integrand2, intmin, intmax, args=(r,z0,G))[0]\n"
     ]
    },
    {
     "name": "stdout",
     "output_type": "stream",
     "text": [
      "nan\n",
      "nan\n"
     ]
    },
    {
     "name": "stderr",
     "output_type": "stream",
     "text": [
      "C:\\Users\\Loser\\Anaconda3\\lib\\site-packages\\numpy\\lib\\function_base.py:2167: RuntimeWarning: invalid value encountered in ? (vectorized)\n",
      "  outputs = ufunc(*inputs)\n"
     ]
    }
   ],
   "source": [
    "# Reverse order of variables to setup for integration\n",
    "integrand2 = lambda u,r,z0,G: u*quad(integrand, intmin, intmax, args=(r,u,z0,G))[0]\n",
    "print(integrand2(2,1,z0,G))\n",
    "\n",
    "# Integrate double integral\n",
    "#radialforce = lambda r: dblquad(integrand2, intmin, intmax, lambda u: intmin, lambda u: intmax, args=(r))\n",
    "radialforce = lambda r,z0,G: quad(integrand2, intmin, intmax, args=(r,z0,G))[0]\n",
    "print(radialforce(1,z0,G))\n",
    "radialforce = np.vectorize(radialforce)\n",
    "print(radialforce(1,z0,G))"
   ]
  },
  {
   "cell_type": "markdown",
   "metadata": {},
   "source": [
    "## Velocity"
   ]
  },
  {
   "cell_type": "code",
   "execution_count": 14,
   "metadata": {},
   "outputs": [
    {
     "name": "stderr",
     "output_type": "stream",
     "text": [
      "<ipython-input-8-6c0664f08d26>:4: RuntimeWarning: overflow encountered in cosh\n",
      "  return spline_drhor(u) * np.cosh(z / z0)**(-2)\n",
      "<ipython-input-11-040cb14c4033>:6: RuntimeWarning: invalid value encountered in double_scalars\n",
      "  return (8 * G) * drho_du(u,z,z0) * K_E(r,u,z) / np.sqrt(u * r * px(r,u,z))\n",
      "<ipython-input-13-2b6419a21d32>:2: IntegrationWarning: The maximum number of subdivisions (50) has been achieved.\n",
      "  If increasing the limit yields no improvement it is advised to analyze \n",
      "  the integrand in order to determine the difficulties.  If the position of a \n",
      "  local difficulty can be determined (singularity, discontinuity) one will \n",
      "  probably gain from splitting up the interval and calling the integrator \n",
      "  on the subranges.  Perhaps a special-purpose integrator should be used.\n",
      "  integrand2 = lambda u,r,z0,G: u*quad(integrand, intmin, intmax, args=(r,u,z0,G))[0]\n",
      "<ipython-input-13-2b6419a21d32>:7: IntegrationWarning: The maximum number of subdivisions (50) has been achieved.\n",
      "  If increasing the limit yields no improvement it is advised to analyze \n",
      "  the integrand in order to determine the difficulties.  If the position of a \n",
      "  local difficulty can be determined (singularity, discontinuity) one will \n",
      "  probably gain from splitting up the interval and calling the integrator \n",
      "  on the subranges.  Perhaps a special-purpose integrator should be used.\n",
      "  radialforce = lambda r,z0,G: quad(integrand2, intmin, intmax, args=(r,z0,G))[0]\n",
      "<ipython-input-14-361b03d8946c>:2: RuntimeWarning: invalid value encountered in sqrt\n",
      "  velocs = (-radii*radialforce(radii,z0,G))**(0.5)\n"
     ]
    }
   ],
   "source": [
    "#casertano eq 6:\n",
    "velocs = (-radii*radialforce(radii,z0,G))**(0.5)\n",
    "scale = 5e5\n",
    "velocs=velocs*scale"
   ]
  },
  {
   "cell_type": "markdown",
   "metadata": {},
   "source": [
    "## Comparison"
   ]
  },
  {
   "cell_type": "code",
   "execution_count": null,
   "metadata": {},
   "outputs": [],
   "source": []
  },
  {
   "cell_type": "markdown",
   "metadata": {},
   "source": [
    "## More troubleshooting: comparing the F(r) functions"
   ]
  },
  {
   "cell_type": "code",
   "execution_count": 15,
   "metadata": {},
   "outputs": [],
   "source": [
    "tracedgas_F=tracedgas_v**2/-tracedgas_r\n"
   ]
  },
  {
   "cell_type": "code",
   "execution_count": 16,
   "metadata": {},
   "outputs": [
    {
     "name": "stderr",
     "output_type": "stream",
     "text": [
      "<ipython-input-8-6c0664f08d26>:4: RuntimeWarning: overflow encountered in cosh\n",
      "  return spline_drhor(u) * np.cosh(z / z0)**(-2)\n",
      "<ipython-input-11-040cb14c4033>:6: RuntimeWarning: invalid value encountered in double_scalars\n",
      "  return (8 * G) * drho_du(u,z,z0) * K_E(r,u,z) / np.sqrt(u * r * px(r,u,z))\n",
      "<ipython-input-13-2b6419a21d32>:2: IntegrationWarning: The maximum number of subdivisions (50) has been achieved.\n",
      "  If increasing the limit yields no improvement it is advised to analyze \n",
      "  the integrand in order to determine the difficulties.  If the position of a \n",
      "  local difficulty can be determined (singularity, discontinuity) one will \n",
      "  probably gain from splitting up the interval and calling the integrator \n",
      "  on the subranges.  Perhaps a special-purpose integrator should be used.\n",
      "  integrand2 = lambda u,r,z0,G: u*quad(integrand, intmin, intmax, args=(r,u,z0,G))[0]\n",
      "<ipython-input-13-2b6419a21d32>:7: IntegrationWarning: The maximum number of subdivisions (50) has been achieved.\n",
      "  If increasing the limit yields no improvement it is advised to analyze \n",
      "  the integrand in order to determine the difficulties.  If the position of a \n",
      "  local difficulty can be determined (singularity, discontinuity) one will \n",
      "  probably gain from splitting up the interval and calling the integrator \n",
      "  on the subranges.  Perhaps a special-purpose integrator should be used.\n",
      "  radialforce = lambda r,z0,G: quad(integrand2, intmin, intmax, args=(r,z0,G))[0]\n"
     ]
    },
    {
     "data": {
      "text/plain": [
       "<matplotlib.legend.Legend at 0x2349d54eee0>"
      ]
     },
     "execution_count": 16,
     "metadata": {},
     "output_type": "execute_result"
    },
    {
     "data": {
      "image/png": "[encoded data removed]",
      "text/plain": [
       "<Figure size 576x432 with 1 Axes>"
      ]
     },
     "metadata": {
      "needs_background": "light"
     },
     "output_type": "display_data"
    }
   ],
   "source": [
    "plt.figure(figsize=(8,6))             \n",
    "plt.scatter(radii,scale*np.asarray(radialforce(radii,z0,G)), linestyle='solid', label='Scaled calculated gas Force by {}'.format(scale))\n",
    "plt.scatter(tracedgas_r, tracedgas_F, label='Expected Gas Force', c='red')\n",
    "plt.legend(fontsize=10)"
   ]
  },
  {
   "cell_type": "markdown",
   "metadata": {},
   "source": [
    "## Plot"
   ]
  },
  {
   "cell_type": "code",
   "execution_count": 17,
   "metadata": {},
   "outputs": [
    {
     "data": {
      "image/png": "[encoded data removed]",
      "text/plain": [
       "<Figure size 576x432 with 1 Axes>"
      ]
     },
     "metadata": {
      "needs_background": "light"
     },
     "output_type": "display_data"
    }
   ],
   "source": [
    "scale=5*.001\n",
    "plt.figure(figsize=(8,6))             \n",
    "plt.scatter(radii, scale*np.asarray(velocs), linestyle='solid', label='Scaled calculated gas velocity by {}'.format(scale))\n",
    "#plt.plot(radii, 1e3*velocs_smooth, linestyle='solid', label='Smoothed Gas Velocity')\n",
    "plt.scatter(tracedgas_r, tracedgas_v, label='Expected Gas Velocity', c='red')\n",
    "plt.axis('tight');\n",
    "plt.title('NGC 5005')\n",
    "plt.xlabel('Radius (KPC)', fontsize=10)\n",
    "plt.ylabel('Velocity (KM/S)', fontsize=10)\n",
    "plt.legend(fontsize=10)\n",
    "#plt.xlim(0,12)\n",
    "plt.show()"
   ]
  },
  {
   "cell_type": "code",
   "execution_count": 18,
   "metadata": {},
   "outputs": [
    {
     "name": "stdout",
     "output_type": "stream",
     "text": [
      "Execution time in minutes: 0.8568068544069926\n"
     ]
    }
   ],
   "source": [
    "\n",
    "executionTime = (time.time() - startTime)\n",
    "print('Execution time in minutes: ' + str(executionTime/60))"
   ]
  }
 ],
 "metadata": {
  "kernelspec": {
   "display_name": "Python 3",
   "language": "python",
   "name": "python3"
  },
  "language_info": {
   "codemirror_mode": {
    "name": "ipython",
    "version": 3
   },
   "file_extension": ".py",
   "mimetype": "text/x-python",
   "name": "python",
   "nbconvert_exporter": "python",
   "pygments_lexer": "ipython3",
   "version": "3.8.3"
  }
 },
 "nbformat": 4,
 "nbformat_minor": 4
}
