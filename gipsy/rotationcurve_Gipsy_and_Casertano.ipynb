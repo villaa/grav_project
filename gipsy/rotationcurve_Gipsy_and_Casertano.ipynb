{
 "cells": [
  {
   "cell_type": "code",
   "execution_count": 1,
   "metadata": {},
   "outputs": [],
   "source": [
    "import numpy as np\n",
    "import matplotlib.pyplot as plt\n",
    "from scipy.integrate import quad\n",
    "from scipy.special import ellipe\n",
    "from scipy.special import ellipk\n",
    "from scipy.interpolate import lagrange\n",
    "from scipy.interpolate import InterpolatedUnivariateSpline"
   ]
  },
  {
   "cell_type": "markdown",
   "metadata": {},
   "source": [
    "## User input"
   ]
  },
  {
   "cell_type": "code",
   "execution_count": 2,
   "metadata": {},
   "outputs": [],
   "source": [
    "user = True  # use imported data\n",
    "\n",
    "# Gas:\n",
    "raddens = \"../data/gasmsd_kpc_linear.txt\"      # Gas density with 2 columns, units: KPC, MSUN/PC^2\n",
    "units = 'KPC,MSUN/PC**2'\n",
    "radii = np.arange(0.001,11,0.01)\n",
    "\n",
    "# Disk:\n",
    "#raddens = \"../data/NGC5005-disk_arcsec.txt\"    # Disk surface brightness with 4 colums, units: ARCSEC, MAG/ARCSEC^2\n",
    "#units = 'ARCSEC,MAG/ARCSEC**2'\n",
    "#radii = np.arange(0.001,35,0.01)\n",
    "\n",
    "zlaw = 2                            # Case 2: sech-squared density law\n",
    "mode = zlaw                         # Density distribution mode\n",
    "\n",
    "# Parameters\n",
    "G = 0.00000431158                   # Gravitational constant (KPC/MSUN*(KM/S)^2)  \n",
    "CONSTANT = 2.0 * np.pi * G / 3.0\n",
    "EPS = 1\n",
    "z0 = 0.93\n",
    "distance = 16.5                    # Distance in MPC\n",
    "h = 10.0                           # GUESS: radial scale-length (KPC)\n",
    "dens0 = 10**2.4                    # GUESS: central surface density (MSUN/PC^2): from Fig 8. Paper 13"
   ]
  },
  {
   "cell_type": "markdown",
   "metadata": {},
   "source": [
    "## Density profile"
   ]
  },
  {
   "cell_type": "code",
   "execution_count": 3,
   "metadata": {},
   "outputs": [],
   "source": [
    "def DensityProfile(user=user,raddens=raddens,units=units,mode=mode,dens0=dens0,h=h):\n",
    "    \n",
    "    ##################################\n",
    "    # Case 1: Import density profile #\n",
    "    ##################################\n",
    "    \n",
    "    if user == True:\n",
    "        if units == 'KPC,MSUN/PC**2':\n",
    "            mudata = np.loadtxt(raddens)\n",
    "            if np.shape(np.loadtxt(raddens))[1] == 2:     # this just checks if the file has 2 or 4 columns\n",
    "                xdinp, ydinp = mudata.T\n",
    "            if np.shape(np.loadtxt(raddens))[1] == 4:\n",
    "                xdinp, ydinp, xerror, yerror = mudata.T\n",
    "\n",
    "        if units == 'ARCSEC,MAG/ARCSEC**2':\n",
    "            mudata = np.loadtxt(raddens)\n",
    "            if np.shape(np.loadtxt(raddens))[1] == 2:\n",
    "                xdinp, ydinp = mudata.T\n",
    "            if np.shape(np.loadtxt(raddens))[1] == 4:\n",
    "                xdinp, ydinp, xerror, yerror = mudata.T\n",
    "\n",
    "            # Conversion\n",
    "            # ARCSEC to KPC\n",
    "            xdinp = 4.8481E-3 * distance * xdinp\n",
    "\n",
    "            # MAG/ARCSEC^2 to MSUN/PC^2\n",
    "            ydinp = 10**(-0.4 * ydinp)\n",
    "            ydinp = (4.8481E-3 * distance)**(-2) * ydinp\n",
    "            \n",
    "        if units == 'KPC,MAG/ARCSEC**2':\n",
    "            mudata = np.loadtxt(raddens)\n",
    "            if np.shape(np.loadtxt(raddens))[1] == 2:\n",
    "                xdinp, ydinp = mudata.T\n",
    "            if np.shape(np.loadtxt(raddens))[1] == 4:\n",
    "                xdinp, ydinp, xerror, yerror = mudata.T\n",
    "\n",
    "            # Conversion\n",
    "            # MAG/ARCSEC^2 to MSUN/PC^2\n",
    "            ydinp = 10**(-0.4 * ydinp)\n",
    "            ydinp = (4.8481E-3 * distance)**(-2) * ydinp\n",
    "            \n",
    "        LEN1 = len(xdinp)                   # GUESS: defined as length of radius array\n",
    "        LEN2 = len(ydinp)                   # GUESS: defined as lenght of density array\n",
    "        ndinp = LEN2                        # number of surface densities. GUESS: length of density array again\n",
    "        rcut = xdinp[ndinp-1]               # takes second to last radius value\n",
    "        delta = rcut - xdinp[ndinp-2]       # difference between the second to last radius value and the third to last radius value\n",
    "    \n",
    "    \n",
    "    #####################################\n",
    "    # Case 2: Calculate density profile #\n",
    "    #####################################\n",
    "    \n",
    "    if user == False:\n",
    "    \n",
    "        # User need to provide dens0 (in MSUN/PC^2) and h (in KPC)\n",
    "        dens0 = dens0           # central density of exponential DISK\n",
    "        # convert disk central surface brightness from MAG/ARCSEC^2 to MSUN/KPC^2\n",
    "        #dens0 = 10**(-0.4 * dens0)       \n",
    "        #dens0 = (4.8481E-3 * distance)**(-2) * dens0\n",
    "        #dens0 = dens0 * 1.0e6        \n",
    "        #print(\"dens0 = {:.4}\".format(dens0))\n",
    "\n",
    "        h = h                   # radial scale length\n",
    "        z0 = 0.2*h              # scale height of DISK in kpc [0.0]. \n",
    "                                  # note: The integration in Z is the most time consuming part\n",
    "                                  # of the calculation. For example it takes about 0.2 seconds\n",
    "                                  # to calculate a point on the rotation curve for a disk with zero\n",
    "                                  # thickness, and about 2 seconds for a disk with non-zero thickness.\n",
    "        rcut = 4*h              # cutoff radius\n",
    "        delta = 0.2*h           # softening parameter of DISK in kpc [0.0]. It may be wise\n",
    "                                  # to have a non-zero softening in case of a truncated disk, \n",
    "                                  # because then the sharp features in the calculated rotation \n",
    "                                  # curve will be smoothed out. A softening parameter of about \n",
    "                                  # 0.2 scale lengths would be sufficient.\n",
    "\n",
    "        # Now calculate the surface densities\n",
    "        LEN1 = 100\n",
    "        LEN2 = 100\n",
    "        xdinp = np.zeros(LEN2-1)    # radii surface density\n",
    "        ydinp = np.zeros(LEN2-1)    # surface densities\n",
    "        rdinp = rcut + delta      # max radius, where galaxy ends\n",
    "        ndinp = LEN2 - 1          # number of surface densities\n",
    "        xstep = rdinp / (ndinp - 1)        # step in radius\n",
    "\n",
    "        i = 0                              # counter \n",
    "        while i < ndinp:\n",
    "            # Casertano's piecewise function, where do they calculate partial derivative drho/du??\n",
    "            xdinp[i] = x = xstep * i\n",
    "            if x >= rcut and delta > 0.0:\n",
    "                #y = -(1/delta) * dens0 * np.exp(-rcut/h)\n",
    "                y = dens0 * np.exp(-rcut/h)*(rcut+delta-x)/delta\n",
    "            elif x >= rdinp:\n",
    "                y = 0.0                    # end of disk\n",
    "            else:\n",
    "                #y = -(1/h) * dens0 * np.exp(-x/h) # exponential disk\n",
    "                y = dens0 * np.exp(-x/h)\n",
    "            ydinp[i] = y\n",
    "            i += 1\n",
    "    return xdinp, ydinp, ndinp, rcut, delta, LEN1, LEN2"
   ]
  },
  {
   "cell_type": "code",
   "execution_count": 4,
   "metadata": {},
   "outputs": [
    {
     "data": {
      "image/png": "[encoded data removed]",
      "text/plain": [
       "<Figure size 576x504 with 1 Axes>"
      ]
     },
     "metadata": {
      "needs_background": "light"
     },
     "output_type": "display_data"
    }
   ],
   "source": [
    "# Plot \n",
    "plt.figure(figsize=(8,7))\n",
    "xdinp_imported = DensityProfile(user=True)[0]\n",
    "ydinp_imported = DensityProfile(user=True)[1]\n",
    "plt.scatter(xdinp_imported,ydinp_imported, label=\"Imported Density Profile\")\n",
    "\n",
    "xdinp_calculated = DensityProfile(user=False)[0]\n",
    "ydinp_calculated = DensityProfile(user=False)[1]\n",
    "plt.scatter(xdinp_calculated,ydinp_calculated, label=\"Calculated Density Profile\")\n",
    "plt.xlabel(\"Radius (KPC)\")\n",
    "plt.ylabel(\"Surface Density (MSUN/$PC^2$)\")\n",
    "plt.legend()\n",
    "plt.show()"
   ]
  },
  {
   "cell_type": "markdown",
   "metadata": {},
   "source": [
    "## Define radius and density points"
   ]
  },
  {
   "cell_type": "code",
   "execution_count": 5,
   "metadata": {},
   "outputs": [],
   "source": [
    "xdinp = DensityProfile()[0]\n",
    "ydinp = DensityProfile()[1]"
   ]
  },
  {
   "cell_type": "markdown",
   "metadata": {},
   "source": [
    "## Density distribution"
   ]
  },
  {
   "cell_type": "code",
   "execution_count": 6,
   "metadata": {},
   "outputs": [],
   "source": [
    "# There are three distribution laws possible; \n",
    "# the Van der Kruit and Searle law (SECH-SQUARED): D(Z)=sech(Z/Z0)**2/Z0,\n",
    "# an exponential density law (EXPONENTIAL): D(Z)=exp(-Z/Z0)/Z0 \n",
    "# a simple sech law (SIMPLE-SECH): D(Z)=2*sech(Z/Z0)/Z0/PI. \n",
    "\n",
    "# case 1 is a flat disk, z0 = 0\n",
    "#####################################\n",
    "\n",
    "# Sech-squared law:\n",
    "def denzed_case2(z,z0): \n",
    "    r = np.cosh(z / z0)\n",
    "    r = r * r * z0                 # This is multiplied by z0 but in Caserano Eq 2 there isn't any z0\n",
    "    r = 1.0 / r\n",
    "    return r\n",
    "\n",
    "# Exponential:\n",
    "def denzed_case3(z,z0):\n",
    "    r = np.exp(-z / z0) /z0\n",
    "    return r\n",
    "\n",
    "# Simple-sech\n",
    "def denzed_case4(z,z0):\n",
    "    r = 2 / z0 / np.pi / np.cosh(z/z0)\n",
    "    return r\n",
    "\n",
    "def denzed(z,z0,mode):\n",
    "    #mode = input(\"Which Z density law? 2 or 3 or 4: \")\n",
    "    #The above results in the user being asked for every point entered; this was likely used as a backend.\n",
    "    if mode == 2:\n",
    "        return denzed_case2(z,z0)\n",
    "    if mode == 3:\n",
    "        return denzed_case2(z,z0)\n",
    "    if mode == 4:\n",
    "        return denzed_case4(z,z0)\n",
    "    else:\n",
    "        return np.nan\n",
    "        print(\"Error occured in denzed; no mode selected. Returned nan.\")"
   ]
  },
  {
   "cell_type": "code",
   "execution_count": 7,
   "metadata": {
    "scrolled": true
   },
   "outputs": [],
   "source": [
    "# Casertano Eq 2\n",
    "def drho_rz(densit,z,z0,mode):\n",
    "    return densit * denzed(z,z0,mode)  # In Casertano's eq 2, the cosh term is multiplied by rho0(r) \n",
    "                                       # so I assume this is the same as the calculated density array"
   ]
  },
  {
   "cell_type": "markdown",
   "metadata": {},
   "source": [
    "## Functions"
   ]
  },
  {
   "cell_type": "code",
   "execution_count": 8,
   "metadata": {},
   "outputs": [],
   "source": [
    "# Casertano Eq 5\n",
    "def px(r,u,z):\n",
    "    x = (r**2 + u**2 + z**2)/(2*r*u)\n",
    "    return x - (np.sqrt((x**2)-1))"
   ]
  },
  {
   "cell_type": "code",
   "execution_count": 9,
   "metadata": {},
   "outputs": [],
   "source": [
    "# Complete elliptic integral\n",
    "def K(r,u,z):\n",
    "    return ellipk(px(r,u,z)) - ellipe(px(r,u,z))"
   ]
  },
  {
   "cell_type": "code",
   "execution_count": 10,
   "metadata": {},
   "outputs": [],
   "source": [
    "# Inner function\n",
    "def innerfunc(r,u,z,densit,z0,mode):\n",
    "    return (4 * np.pi * G) * (drho_rz(densit,z,z0,mode) * K(r,u,z) * 2 * np.sqrt(u)) / (np.pi * np.sqrt(r * px(r,u,z)))"
   ]
  },
  {
   "cell_type": "markdown",
   "metadata": {},
   "source": [
    "## Interpolation"
   ]
  },
  {
   "cell_type": "code",
   "execution_count": 11,
   "metadata": {},
   "outputs": [],
   "source": [
    "def interpd(x,y):\n",
    "    #return lagrange(x,y)                # Lagrange interpolation didn't work well so I used Univariate Spline\n",
    "    return InterpolatedUnivariateSpline(x,y,k=4)\n",
    "\n",
    "# Calculate the density values at the sampling radii, using Lagrange Interpolation\n",
    "polynomial = interpd(xdinp,ydinp)        # define the polynomial that's calculated, type: numpy.poly1d\n",
    "densit = polynomial(radii)               # evaluate values at the sampling radii"
   ]
  },
  {
   "cell_type": "code",
   "execution_count": 12,
   "metadata": {},
   "outputs": [
    {
     "name": "stdout",
     "output_type": "stream",
     "text": [
      "[5.82141056e+02 5.70194320e+02 5.59918838e+02 ... 3.89374392e-01\n",
      " 3.82910246e-01 3.76470147e-01]\n",
      "[5.6363766e+02 4.8707967e+02 4.3151908e+02 3.4158595e+02 3.1031302e+02\n",
      " 2.5392181e+02 2.2782428e+02 1.9683395e+02 1.7881337e+02 1.6311729e+02\n",
      " 1.3918742e+02 1.2802654e+02 1.1778772e+02 1.1063690e+02 1.0303861e+02\n",
      " 9.4362620e+01 7.7250270e+01 7.2861820e+01 6.7873460e+01 5.9634830e+01\n",
      " 5.6014440e+01 5.3727920e+01 4.8607130e+01 4.6046860e+01 4.4167210e+01\n",
      " 4.2716930e+01 4.2894340e+01 4.3251380e+01 4.2024250e+01 4.3082410e+01\n",
      " 4.5112820e+01 4.3651580e+01 4.2043610e+01 4.2933870e+01 4.2579450e+01\n",
      " 3.8850800e+01 3.6787480e+01 3.4562090e+01 3.1666500e+01 2.9984720e+01\n",
      " 2.8054340e+01 2.6025560e+01 2.3741050e+01 2.2024190e+01 2.0516350e+01\n",
      " 1.9511920e+01 1.8176070e+01 1.7072610e+01 1.6173350e+01 1.5317930e+01\n",
      " 1.4507750e+01 1.3630130e+01 1.2909220e+01 1.2382260e+01 1.1392000e+01\n",
      " 1.0972360e+01 1.0568180e+01 1.0094850e+01 9.6827800e+00 9.1706500e+00\n",
      " 8.8715600e+00 8.4722700e+00 8.1959600e+00 7.9909800e+00 7.6983900e+00\n",
      " 7.4131000e+00 7.2929000e+00 7.1729900e+00 7.0258700e+00 6.8501500e+00\n",
      " 6.7112000e+00 6.5735500e+00 6.4106200e+00 6.2273000e+00 6.0715600e+00\n",
      " 5.9237900e+00 5.8009600e+00 5.6819800e+00 5.6350800e+00 5.5654500e+00\n",
      " 5.4739400e+00 5.4050500e+00 5.2954100e+00 5.1844200e+00 5.1215300e+00\n",
      " 5.0373300e+00 4.9533600e+00 4.7720000e+00 4.6946200e+00 4.6558600e+00\n",
      " 4.5793100e+00 4.4658100e+00 4.3742100e+00 4.2658000e+00 4.1096000e+00\n",
      " 3.9746600e+00 3.8441500e+00 3.7488700e+00 3.6116000e+00 3.5075200e+00\n",
      " 3.3643400e+00 3.2546200e+00 3.1347300e+00 2.9812600e+00 2.8477400e+00\n",
      " 2.7201900e+00 2.5876200e+00 2.4819900e+00 2.3409900e+00 2.2171800e+00\n",
      " 2.1178700e+00 2.0063200e+00 1.8608000e+00 1.7627900e+00 1.6626500e+00\n",
      " 1.6014000e+00 1.5170500e+00 1.4368100e+00 1.3667800e+00 1.2838100e+00\n",
      " 1.2159100e+00 1.1471000e+00 1.0864300e+00 1.0077900e+00 9.5455000e-01\n",
      " 9.0803000e-01 8.5290000e-01 8.1115000e-01 7.6190000e-01 7.2177000e-01\n",
      " 6.8644000e-01 6.5013000e-01 6.0814000e-01 5.7122000e-01 5.3877000e-01\n",
      " 5.0828000e-01 4.7337000e-01 4.3914000e-01 4.1591000e-01 3.9564000e-01\n",
      " 3.7316000e-01 3.4770000e-01 3.1974000e-01 2.9785000e-01 2.7977000e-01\n",
      " 2.6278000e-01]\n"
     ]
    }
   ],
   "source": [
    "print(densit)\n",
    "print(ydinp)"
   ]
  },
  {
   "cell_type": "code",
   "execution_count": 13,
   "metadata": {},
   "outputs": [
    {
     "data": {
      "image/png": "[encoded data removed]",
      "text/plain": [
       "<Figure size 576x504 with 1 Axes>"
      ]
     },
     "metadata": {
      "needs_background": "light"
     },
     "output_type": "display_data"
    }
   ],
   "source": [
    "# Plot \n",
    "plt.figure(figsize=(8,7))\n",
    "plt.scatter(xdinp,ydinp, label=\"Given radius and density data\", s=100)\n",
    "plt.scatter(radii,densit, label=\"Sampling radius and density data\")\n",
    "plt.xlabel(\"Radius (KPC)\")\n",
    "plt.ylabel(\"Surface Density (MSUN/$PC^2$)\")\n",
    "plt.legend()\n",
    "plt.show()"
   ]
  },
  {
   "cell_type": "markdown",
   "metadata": {},
   "source": [
    "## Integration"
   ]
  },
  {
   "cell_type": "code",
   "execution_count": 14,
   "metadata": {},
   "outputs": [],
   "source": [
    "# Integrate inner function\n",
    "innerfunc2 = lambda z,r,u,densit,z0,mode: innerfunc(r,u,z,densit,z0,mode)\n",
    "innerintegr1 = lambda r,u,densit,z0,mode: quad(innerfunc2, 0, np.inf, args=(r,u,densit,z0,mode,))[0]"
   ]
  },
  {
   "cell_type": "code",
   "execution_count": 15,
   "metadata": {},
   "outputs": [],
   "source": [
    "# Integrate outer function\n",
    "innerintegr2 = lambda u,r,densit,z0,mode: innerintegr1(r,u,densit,z0,mode)\n",
    "radialforce = lambda r,densit,z0,mode: quad(innerintegr2, 0, 100, args=(r,densit,z0,mode,))[0]"
   ]
  },
  {
   "cell_type": "markdown",
   "metadata": {},
   "source": [
    "## Velocity"
   ]
  },
  {
   "cell_type": "code",
   "execution_count": 16,
   "metadata": {},
   "outputs": [
    {
     "name": "stderr",
     "output_type": "stream",
     "text": [
      "C:\\Users\\JB\\AppData\\Local\\Continuum\\anaconda3\\lib\\site-packages\\ipykernel_launcher.py:12: RuntimeWarning: overflow encountered in double_scalars\n",
      "  if sys.path[0] == '':\n",
      "C:\\Users\\JB\\AppData\\Local\\Continuum\\anaconda3\\lib\\site-packages\\ipykernel_launcher.py:11: RuntimeWarning: overflow encountered in cosh\n",
      "  # This is added back by InteractiveShellApp.init_path()\n",
      "C:\\Users\\JB\\AppData\\Local\\Continuum\\anaconda3\\lib\\site-packages\\ipykernel_launcher.py:3: RuntimeWarning: invalid value encountered in double_scalars\n",
      "  This is separate from the ipykernel package so we can avoid doing imports until\n",
      "C:\\Users\\JB\\AppData\\Local\\Continuum\\anaconda3\\lib\\site-packages\\scipy\\integrate\\quadpack.py:385: IntegrationWarning: The occurrence of roundoff error is detected, which prevents \n",
      "  the requested tolerance from being achieved.  The error may be \n",
      "  underestimated.\n",
      "  warnings.warn(msg, IntegrationWarning)\n"
     ]
    }
   ],
   "source": [
    "radialforce = np.vectorize(radialforce)\n",
    "velocs = np.sqrt(radii*radialforce(radii,densit,z0,mode))"
   ]
  },
  {
   "cell_type": "markdown",
   "metadata": {},
   "source": [
    "## Comparison"
   ]
  },
  {
   "cell_type": "code",
   "execution_count": 17,
   "metadata": {},
   "outputs": [],
   "source": [
    "# Gas\n",
    "tracedgas = np.loadtxt(\"../NGC_5005/traced_data/ngc5005_gas.txt\")\n",
    "tracedgas_r, tracedgas_v = tracedgas.T\n",
    "tracedgas_r = tracedgas_r[1:]\n",
    "tracedgas_v = tracedgas_v[1:]\n",
    "\n",
    "# Disk\n",
    "traceddisk = np.loadtxt(\"../NGC_5005/traced_data/ngc5005_disk.txt\")\n",
    "traceddisk_r, traceddisk_v = traceddisk.T\n",
    "traceddisk_r = traceddisk_r[1:]\n",
    "traceddisk_v = traceddisk_v[1:]"
   ]
  },
  {
   "cell_type": "markdown",
   "metadata": {},
   "source": [
    "## Plot"
   ]
  },
  {
   "cell_type": "code",
   "execution_count": 22,
   "metadata": {},
   "outputs": [
    {
     "data": {
      "image/png": "[encoded data removed]",
      "text/plain": [
       "<Figure size 576x504 with 1 Axes>"
      ]
     },
     "metadata": {
      "needs_background": "light"
     },
     "output_type": "display_data"
    }
   ],
   "source": [
    "plt.figure(figsize=(8.0,7.0))             \n",
    "plt.scatter(1.3*radii, 115*velocs, linestyle='solid', label='Scaled Calculated Gas Velocity')\n",
    "plt.scatter(tracedgas_r, tracedgas_v, label='Expected Gas Velocity')\n",
    "#plt.scatter(9*radii+1, 3.5e5*velocs, linestyle='solid', label='Calculated Disk Velocity')\n",
    "#plt.scatter(traceddisk_r, traceddisk_v, label='Expected Disk Velocity')\n",
    "plt.axis('tight');\n",
    "plt.title('NGC 5005')\n",
    "plt.xlabel('Radius (KPC)', fontsize=14)\n",
    "plt.ylabel('Velocity (KM/S)', fontsize=14)\n",
    "plt.xlim(0,12)\n",
    "plt.legend(fontsize=16)\n",
    "plt.show()"
   ]
  },
  {
   "cell_type": "code",
   "execution_count": 19,
   "metadata": {},
   "outputs": [
    {
     "name": "stdout",
     "output_type": "stream",
     "text": [
      "[1.0000e-03 1.1000e-02 2.1000e-02 ... 1.0971e+01 1.0981e+01 1.0991e+01]\n",
      "[       nan        nan        nan ... 0.11362002 0.11272812 0.11183077]\n"
     ]
    }
   ],
   "source": [
    "print(radii)\n",
    "print(velocs)"
   ]
  },
  {
   "cell_type": "code",
   "execution_count": null,
   "metadata": {},
   "outputs": [],
   "source": []
  }
 ],
 "metadata": {
  "kernelspec": {
   "display_name": "Python 3",
   "language": "python",
   "name": "python3"
  },
  "language_info": {
   "codemirror_mode": {
    "name": "ipython",
    "version": 3
   },
   "file_extension": ".py",
   "mimetype": "text/x-python",
   "name": "python",
   "nbconvert_exporter": "python",
   "pygments_lexer": "ipython3",
   "version": "3.7.1"
  }
 },
 "nbformat": 4,
 "nbformat_minor": 4
}
