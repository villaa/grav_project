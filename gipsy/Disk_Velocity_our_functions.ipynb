{
 "cells": [
  {
   "cell_type": "code",
   "execution_count": 1,
   "metadata": {},
   "outputs": [],
   "source": [
    "import numpy as np\n",
    "import matplotlib.pyplot as plt\n",
    "from scipy.integrate import quad\n",
    "from scipy.special import ellipe\n",
    "from scipy.special import ellipk"
   ]
  },
  {
   "cell_type": "markdown",
   "metadata": {},
   "source": [
    "## User input"
   ]
  },
  {
   "cell_type": "code",
   "execution_count": 2,
   "metadata": {},
   "outputs": [],
   "source": [
    "user = False\n",
    "raddens = \"../data/gasmsd_kpc_linear.txt\"      # Gas density with 2 columns, units: KPC, MSUN/PC^2\n",
    "units = 'KPC,MSUN/PC**2'\n",
    "zlaw = 2                            # Case 2: sech-squared density law\n",
    "mode = zlaw                         # Density distribution mode\n",
    "\n",
    "# Parameters\n",
    "G = 0.00000431158                   # Gravitational constant (KPC/MSUN*(KM/S)^2)  \n",
    "CONSTANT = 2.0 * np.pi * G / 3.0\n",
    "EPS = 1\n",
    "z0 = 0.93\n",
    "distance = 16.5                    # Distance in MPC\n",
    "h = 10.0                           # GUESS: radial scale-length (KPC)\n",
    "dens0 = 10**2.4                    # GUESS: central surface density (MSUN/KPC^2)"
   ]
  },
  {
   "cell_type": "markdown",
   "metadata": {},
   "source": [
    "## Case 1: Import density profile"
   ]
  },
  {
   "cell_type": "code",
   "execution_count": 3,
   "metadata": {},
   "outputs": [],
   "source": [
    "if user == True:\n",
    "    if units == 'KPC,MSUN/PC**2':\n",
    "        mudata = np.loadtxt(raddens)\n",
    "        if np.shape(np.loadtxt(raddens))[1] == 2:     # this just checks if the file has 2 or 4 columns\n",
    "            xdinp, ydinp = mudata.T\n",
    "        if np.shape(np.loadtxt(raddens))[1] == 4:\n",
    "            xdinp, ydinp, xerror, yerror = mudata.T\n",
    "      \n",
    "    if units == 'ARCSEC,MAG/ARCSEC**2':\n",
    "        mudata = np.loadtxt(raddens)\n",
    "        if np.shape(np.loadtxt(raddens))[1] == 2:\n",
    "            xdinp, ydinp = mudata.T\n",
    "        if np.shape(np.loadtxt(raddens))[1] == 4:\n",
    "            xdinp, ydinp, xerror, yerror = mudata.T\n",
    "                \n",
    "        # Conversion\n",
    "        # ARCSEC to KPC\n",
    "        xdinp = 4.8481E-3 * distance * xdinp\n",
    "\n",
    "        # MAG/ARCSEC^2 to MSUN/PC^2\n",
    "        ydinp = 10**(-0.4 * ydinp)\n",
    "        ydinp = (4.8481E-3 * distance)**(-2) * ydinp\n",
    "        \n",
    "    LEN1 = len(xdinp)                   # GUESS: defined as length of radius array\n",
    "    LEN2 = len(ydinp)                   # GUESS: defined as lenght of density array\n",
    "    ndinp = LEN2                        # number of surface densities. GUESS: length of density array again\n",
    "    rcut = xdinp[ndinp-1]               # takes second to last radius value\n",
    "    delta = rcut - xdinp[ndinp-2]       # difference between the second to last radius value and the third to last radius value"
   ]
  },
  {
   "cell_type": "markdown",
   "metadata": {},
   "source": [
    "## Case 2: Calculate density profile "
   ]
  },
  {
   "cell_type": "code",
   "execution_count": 4,
   "metadata": {},
   "outputs": [
    {
     "name": "stdout",
     "output_type": "stream",
     "text": [
      "[251.18864315 240.65083857 230.55511338 220.8829216  211.61649524\n",
      " 202.73881173 194.23356264 186.08512367 178.27852603 170.79942887\n",
      " 163.63409296 156.76935547 150.19260577 143.89176227 137.85525022\n",
      " 132.07198044 126.53132899 121.22311759 116.13759498 111.26541897\n",
      " 106.5976393  102.12568118  97.84132955  93.736714    89.80429428\n",
      "  86.03684646  82.4274497   78.96947347  75.65656542  72.48263967\n",
      "  69.44186568  66.5286575   63.73766351  61.06375662  58.50202483\n",
      "  56.04776217  53.69646015  51.44379937  49.28564167  47.21802247\n",
      "  45.23714353  43.33936594  41.52120345  39.77931606  38.11050392\n",
      "  36.51170137  34.97997139  33.51250018  32.10659196  30.75966406\n",
      "  29.46924215  28.2329557   27.04853364  25.91380017  24.82667075\n",
      "  23.78514833  22.7873196   21.83135153  20.91548801  20.03804656\n",
      "  19.19741533  18.39205005  17.62047126  16.88126156  16.173063\n",
      "  15.49457461  14.84455     14.22179507  13.62516579  13.05356617\n",
      "  12.50594615  11.98129975  11.47866319  10.99711312  10.53576492\n",
      "  10.09377108   9.67031966   9.26463277   8.87596516   8.50360284\n",
      "   8.14686177   7.80508662   7.47764953   7.16394901   6.86340877\n",
      "   6.57547672   6.29962393   6.03534364   5.78215038   5.53957902\n",
      "   5.30718396   5.08453827   4.87123296   4.66687619   3.94344041\n",
      "   2.95758031   1.97172021   0.9858601    0.        ]\n"
     ]
    }
   ],
   "source": [
    "if user == False:\n",
    "    \n",
    "    # User need to provide dens0 (in MSUN/PC^2) and h (in KPC)\n",
    "    dens0 = dens0           # central density of exponential DISK\n",
    "    # convert disk central surface brightness from MAG/ARCSEC^2 to MSUN/KPC^2\n",
    "    #dens0 = 10**(-0.4 * dens0)       \n",
    "    #dens0 = (4.8481E-3 * distance)**(-2) * dens0\n",
    "    #dens0 = dens0 * 1.0e6        \n",
    "    #print(\"dens0 = {:.4}\".format(dens0))\n",
    "\n",
    "    h = h                   # radial scale length\n",
    "    z0 = 0.2*h              # scale height of DISK in kpc [0.0]. \n",
    "                              # note: The integration in Z is the most time consuming part\n",
    "                              # of the calculation. For example it takes about 0.2 seconds\n",
    "                              # to calculate a point on the rotation curve for a disk with zero\n",
    "                              # thickness, and about 2 seconds for a disk with non-zero thickness.\n",
    "    rcut = 4*h              # cutoff radius\n",
    "    delta = 0.2*h           # softening parameter of DISK in kpc [0.0]. It may be wise\n",
    "                              # to have a non-zero softening in case of a truncated disk, \n",
    "                              # because then the sharp features in the calculated rotation \n",
    "                              # curve will be smoothed out. A softening parameter of about \n",
    "                              # 0.2 scale lengths would be sufficient.\n",
    "\n",
    "    # Now calculate the surface densities\n",
    "    LEN1 = 100\n",
    "    LEN2 = 100\n",
    "    xdinp = np.zeros(LEN2-1)    # radii surface density\n",
    "    ydinp = np.zeros(LEN2-1)    # surface densities\n",
    "    rdinp = rcut + delta      # max radius, where galaxy ends\n",
    "    ndinp = LEN2 - 1          # number of surface densities\n",
    "    xstep = rdinp / (ndinp - 1)        # step in radius\n",
    "\n",
    "    i = 0                              # counter \n",
    "    while i < ndinp:\n",
    "        # Casertano's piecewise function, changed to the partial derivative drho/du\n",
    "        xdinp[i] = x = xstep * i\n",
    "        if x >= rcut and delta > 0.0:\n",
    "            #y = -(1/delta) * dens0 * np.exp(-rcut/h)\n",
    "            y = dens0 * np.exp(-rcut/h)*(rcut+delta-x)/delta\n",
    "        elif x >= rdinp:\n",
    "            y = 0.0                    # end of disk\n",
    "        else:\n",
    "            #y = -(1/h) * dens0 * np.exp(-x/h) # exponential disk\n",
    "            y = dens0 * np.exp(-x/h)\n",
    "        ydinp[i] = y\n",
    "        i += 1\n",
    "print(ydinp)"
   ]
  },
  {
   "cell_type": "markdown",
   "metadata": {},
   "source": [
    "## Density distribution"
   ]
  },
  {
   "cell_type": "code",
   "execution_count": 5,
   "metadata": {},
   "outputs": [],
   "source": [
    "# There are three distribution laws possible; \n",
    "# the Van der Kruit and Searle law (SECH-SQUARED): D(Z)=sech(Z/Z0)**2/Z0,\n",
    "# an exponential density law (EXPONENTIAL): D(Z)=exp(-Z/Z0)/Z0 \n",
    "# a simple sech law (SIMPLE-SECH): D(Z)=2*sech(Z/Z0)/Z0/PI. \n",
    "\n",
    "# case 1 is a flat disk, z0 = 0\n",
    "#####################################\n",
    "\n",
    "# Sech-squared law:\n",
    "def denzed_case2(z,z0): \n",
    "    r = np.cosh(z / z0)\n",
    "    r = r * r * z0\n",
    "    r = 1.0 / r\n",
    "    return r\n",
    "\n",
    "# Exponential:\n",
    "def denzed_case3(z,z0):\n",
    "    r = np.exp(-z / z0) /z0\n",
    "    return r\n",
    "\n",
    "# Simple-sech\n",
    "def denzed_case4(z,z0):\n",
    "    r = 2 / z0 / np.pi / np.cosh(z/z0)\n",
    "    return r\n",
    "\n",
    "def denzed(z,z0,mode):\n",
    "    #mode = input(\"Which Z density law? 2 or 3 or 4: \")\n",
    "    #The above results in the user being asked for every point entered; this was likely used as a backend.\n",
    "    if mode == 2:\n",
    "        return denzed_case2(z,z0)\n",
    "    if mode == 3:\n",
    "        return denzed_case2(z,z0)\n",
    "    if mode == 4:\n",
    "        return denzed_case4(z,z0)\n",
    "    else:\n",
    "        return np.nan\n",
    "        print(\"Error occured in denzed; no mode selected. Returned nan.\")"
   ]
  },
  {
   "cell_type": "code",
   "execution_count": 6,
   "metadata": {
    "scrolled": true
   },
   "outputs": [],
   "source": [
    "# Casertano Eq 2\n",
    "def drho_rz(ydinp,z,z0,mode):\n",
    "    return ydinp * denzed(z,z0,mode) #r should be the density instead"
   ]
  },
  {
   "cell_type": "markdown",
   "metadata": {},
   "source": [
    "## Lagrange interpolation"
   ]
  },
  {
   "cell_type": "code",
   "execution_count": 7,
   "metadata": {},
   "outputs": [],
   "source": [
    "# interp does a Lagrange interpolation (second order)\n",
    "def interpd(x1,y1,n1,x2,y2,n2):  \n",
    "    i = 0\n",
    "\n",
    "    while i < n2:\n",
    "        x = x2[i]\n",
    "        y = 0.0\n",
    "        j = 1\n",
    "        done = 0\n",
    "        while (done != 1) and (j < (n1 - 3)):\n",
    "            if ((x1[j-1] <= x ) and (x1[j+1] >= x)):\n",
    "                k = j - 1\n",
    "                while (k <= j + 1):\n",
    "                    f = 1.0\n",
    "                    l = j - 1\n",
    "                    while l <= j + 1:\n",
    "                        if (l != k):\n",
    "                            f *= (x - x1[l]) / (x1[k] - x1[l])\n",
    "                        l += 1        \n",
    "                    y += f * y1[k]\n",
    "                    k += 1 \n",
    "                done = 1\n",
    "            j += 1\n",
    "        if (y > 0.0):\n",
    "            y2[i] = y\n",
    "        else: \n",
    "            y2[i] = 0.0\n",
    "        i += 1\n",
    "    return x2,y2"
   ]
  },
  {
   "cell_type": "markdown",
   "metadata": {},
   "source": [
    "## Functions"
   ]
  },
  {
   "cell_type": "code",
   "execution_count": 8,
   "metadata": {},
   "outputs": [],
   "source": [
    "# Casertano Eq 5\n",
    "def px(r,u,z):\n",
    "    x = (r**2 + u**2 + z**2)/(2*r*u)\n",
    "    return x - (np.sqrt((x**2)-1))"
   ]
  },
  {
   "cell_type": "code",
   "execution_count": 9,
   "metadata": {},
   "outputs": [],
   "source": [
    "# Complete elliptic integral\n",
    "def K(r,u,z):\n",
    "    return ellipk(px(r,u,z)) - ellipe(px(r,u,z))"
   ]
  },
  {
   "cell_type": "code",
   "execution_count": 10,
   "metadata": {},
   "outputs": [],
   "source": [
    "# Inner function\n",
    "def innerfunc(r,u,z,z0,mode):\n",
    "    return (4 * np.pi * G) * (drho_rz(r,z,z0,mode) * K(r,u,z) * 2 * np.sqrt(u)) / (np.pi * np.sqrt(r * px(r,u,z)))"
   ]
  },
  {
   "cell_type": "code",
   "execution_count": 11,
   "metadata": {},
   "outputs": [],
   "source": [
    "# Define arrays\n",
    "nradii = len(xdinp)\n",
    "radius = xdinp\n",
    "radius[0] = 0.000000000001             # prevent division by zero error\n",
    "densit = np.zeros(LEN1+LEN2+1)\n",
    "\n",
    "radius = interpd(xdinp, ydinp, ndinp, radius, densit, nradii)[0]\n",
    "densit = interpd(xdinp, ydinp, ndinp, radius, densit, nradii)[1]\n",
    "\n",
    "r = radius\n",
    "u = np.arange(0,np.max(xdinp),0.2*h)\n",
    "z = np.array([0.02, 0.50, 1.00, 3.00, 10.00])"
   ]
  },
  {
   "cell_type": "code",
   "execution_count": 12,
   "metadata": {},
   "outputs": [
    {
     "name": "stdout",
     "output_type": "stream",
     "text": [
      "[251.18864315 240.65083857 230.55511338 220.8829216  211.61649524\n",
      " 202.73881173 194.23356264 186.08512367 178.27852603 170.79942887\n",
      " 163.63409296 156.76935547 150.19260577 143.89176227 137.85525022\n",
      " 132.07198044 126.53132899 121.22311759 116.13759498 111.26541897\n",
      " 106.5976393  102.12568118  97.84132955  93.736714    89.80429428\n",
      "  86.03684646  82.4274497   78.96947347  75.65656542  72.48263967\n",
      "  69.44186568  66.5286575   63.73766351  61.06375662  58.50202483\n",
      "  56.04776217  53.69646015  51.44379937  49.28564167  47.21802247\n",
      "  45.23714353  43.33936594  41.52120345  39.77931606  38.11050392\n",
      "  36.51170137  34.97997139  33.51250018  32.10659196  30.75966406\n",
      "  29.46924215  28.2329557   27.04853364  25.91380017  24.82667075\n",
      "  23.78514833  22.7873196   21.83135153  20.91548801  20.03804656\n",
      "  19.19741533  18.39205005  17.62047126  16.88126156  16.173063\n",
      "  15.49457461  14.84455     14.22179507  13.62516579  13.05356617\n",
      "  12.50594615  11.98129975  11.47866319  10.99711312  10.53576492\n",
      "  10.09377108   9.67031966   9.26463277   8.87596516   8.50360284\n",
      "   8.14686177   7.80508662   7.47764953   7.16394901   6.86340877\n",
      "   6.57547672   6.29962393   6.03534364   5.78215038   5.53957902\n",
      "   5.30718396   5.08453827   4.87123296   4.66687619   3.94344041\n",
      "   2.95758031   1.97172021   0.           0.           0.\n",
      "   0.           0.           0.           0.           0.\n",
      "   0.           0.           0.           0.           0.\n",
      "   0.           0.           0.           0.           0.\n",
      "   0.           0.           0.           0.           0.\n",
      "   0.           0.           0.           0.           0.\n",
      "   0.           0.           0.           0.           0.\n",
      "   0.           0.           0.           0.           0.\n",
      "   0.           0.           0.           0.           0.\n",
      "   0.           0.           0.           0.           0.\n",
      "   0.           0.           0.           0.           0.\n",
      "   0.           0.           0.           0.           0.\n",
      "   0.           0.           0.           0.           0.\n",
      "   0.           0.           0.           0.           0.\n",
      "   0.           0.           0.           0.           0.\n",
      "   0.           0.           0.           0.           0.\n",
      "   0.           0.           0.           0.           0.\n",
      "   0.           0.           0.           0.           0.\n",
      "   0.           0.           0.           0.           0.\n",
      "   0.           0.           0.           0.           0.\n",
      "   0.           0.           0.           0.           0.\n",
      "   0.        ]\n",
      "[251.18864315 240.65083857 230.55511338 220.8829216  211.61649524\n",
      " 202.73881173 194.23356264 186.08512367 178.27852603 170.79942887\n",
      " 163.63409296 156.76935547 150.19260577 143.89176227 137.85525022\n",
      " 132.07198044 126.53132899 121.22311759 116.13759498 111.26541897\n",
      " 106.5976393  102.12568118  97.84132955  93.736714    89.80429428\n",
      "  86.03684646  82.4274497   78.96947347  75.65656542  72.48263967\n",
      "  69.44186568  66.5286575   63.73766351  61.06375662  58.50202483\n",
      "  56.04776217  53.69646015  51.44379937  49.28564167  47.21802247\n",
      "  45.23714353  43.33936594  41.52120345  39.77931606  38.11050392\n",
      "  36.51170137  34.97997139  33.51250018  32.10659196  30.75966406\n",
      "  29.46924215  28.2329557   27.04853364  25.91380017  24.82667075\n",
      "  23.78514833  22.7873196   21.83135153  20.91548801  20.03804656\n",
      "  19.19741533  18.39205005  17.62047126  16.88126156  16.173063\n",
      "  15.49457461  14.84455     14.22179507  13.62516579  13.05356617\n",
      "  12.50594615  11.98129975  11.47866319  10.99711312  10.53576492\n",
      "  10.09377108   9.67031966   9.26463277   8.87596516   8.50360284\n",
      "   8.14686177   7.80508662   7.47764953   7.16394901   6.86340877\n",
      "   6.57547672   6.29962393   6.03534364   5.78215038   5.53957902\n",
      "   5.30718396   5.08453827   4.87123296   4.66687619   3.94344041\n",
      "   2.95758031   1.97172021   0.9858601    0.        ]\n"
     ]
    }
   ],
   "source": [
    "print(densit)\n",
    "print(ydinp)"
   ]
  },
  {
   "cell_type": "code",
   "execution_count": 13,
   "metadata": {},
   "outputs": [
    {
     "data": {
      "image/png": "[encoded data removed]",
      "text/plain": [
       "<Figure size 648x576 with 1 Axes>"
      ]
     },
     "metadata": {
      "needs_background": "light"
     },
     "output_type": "display_data"
    }
   ],
   "source": [
    "# Plot \n",
    "plt.figure(figsize=(9,8))\n",
    "plt.scatter(xdinp,ydinp, s=100)\n",
    "#plt.scatter(radius,densit)\n",
    "plt.show()"
   ]
  },
  {
   "cell_type": "markdown",
   "metadata": {},
   "source": [
    "## Integration"
   ]
  },
  {
   "cell_type": "code",
   "execution_count": 14,
   "metadata": {},
   "outputs": [],
   "source": [
    "# Integrate inner function\n",
    "innerfunc2 = lambda z,r,u,z0,mode: innerfunc(r,u,z,z0,mode)\n",
    "innerintegr1 = lambda r,u,z0,mode: quad(innerfunc2, 0, np.inf, args=(r,u,z0,mode,))[0]"
   ]
  },
  {
   "cell_type": "code",
   "execution_count": 15,
   "metadata": {},
   "outputs": [],
   "source": [
    "# Integrate outer function\n",
    "innerintegr2 = lambda u,r,z0,mode: innerintegr1(r,u,z0,mode)\n",
    "radialforce = lambda r,z0,mode: quad(innerintegr2, 0.1, 125, args=(r,z0,mode,))[0]"
   ]
  },
  {
   "cell_type": "markdown",
   "metadata": {},
   "source": [
    "## Velocity"
   ]
  },
  {
   "cell_type": "code",
   "execution_count": 16,
   "metadata": {},
   "outputs": [
    {
     "name": "stderr",
     "output_type": "stream",
     "text": [
      "/home/gerudo7/anaconda3/lib/python3.7/site-packages/ipykernel_launcher.py:12: RuntimeWarning: overflow encountered in double_scalars\n",
      "  if sys.path[0] == '':\n",
      "/home/gerudo7/anaconda3/lib/python3.7/site-packages/ipykernel_launcher.py:11: RuntimeWarning: overflow encountered in cosh\n",
      "  # This is added back by InteractiveShellApp.init_path()\n"
     ]
    },
    {
     "ename": "ZeroDivisionError",
     "evalue": "float division by zero",
     "output_type": "error",
     "traceback": [
      "\u001b[0;31m---------------------------------------------------------------------------\u001b[0m",
      "\u001b[0;31mZeroDivisionError\u001b[0m                         Traceback (most recent call last)",
      "\u001b[0;32m<ipython-input-16-d001de036fe2>\u001b[0m in \u001b[0;36m<module>\u001b[0;34m\u001b[0m\n\u001b[1;32m      1\u001b[0m \u001b[0mradialforce\u001b[0m \u001b[0;34m=\u001b[0m \u001b[0mnp\u001b[0m\u001b[0;34m.\u001b[0m\u001b[0mvectorize\u001b[0m\u001b[0;34m(\u001b[0m\u001b[0mradialforce\u001b[0m\u001b[0;34m)\u001b[0m\u001b[0;34m\u001b[0m\u001b[0;34m\u001b[0m\u001b[0m\n\u001b[0;32m----> 2\u001b[0;31m \u001b[0mvelocs\u001b[0m \u001b[0;34m=\u001b[0m \u001b[0mnp\u001b[0m\u001b[0;34m.\u001b[0m\u001b[0msqrt\u001b[0m\u001b[0;34m(\u001b[0m\u001b[0mdensit\u001b[0m\u001b[0;34m*\u001b[0m\u001b[0mradialforce\u001b[0m\u001b[0;34m(\u001b[0m\u001b[0mdensit\u001b[0m\u001b[0;34m,\u001b[0m\u001b[0mz0\u001b[0m\u001b[0;34m,\u001b[0m\u001b[0mmode\u001b[0m\u001b[0;34m)\u001b[0m\u001b[0;34m)\u001b[0m\u001b[0;34m\u001b[0m\u001b[0;34m\u001b[0m\u001b[0m\n\u001b[0m",
      "\u001b[0;32m~/anaconda3/lib/python3.7/site-packages/numpy/lib/function_base.py\u001b[0m in \u001b[0;36m__call__\u001b[0;34m(self, *args, **kwargs)\u001b[0m\n\u001b[1;32m   2089\u001b[0m             \u001b[0mvargs\u001b[0m\u001b[0;34m.\u001b[0m\u001b[0mextend\u001b[0m\u001b[0;34m(\u001b[0m\u001b[0;34m[\u001b[0m\u001b[0mkwargs\u001b[0m\u001b[0;34m[\u001b[0m\u001b[0m_n\u001b[0m\u001b[0;34m]\u001b[0m \u001b[0;32mfor\u001b[0m \u001b[0m_n\u001b[0m \u001b[0;32min\u001b[0m \u001b[0mnames\u001b[0m\u001b[0;34m]\u001b[0m\u001b[0;34m)\u001b[0m\u001b[0;34m\u001b[0m\u001b[0;34m\u001b[0m\u001b[0m\n\u001b[1;32m   2090\u001b[0m \u001b[0;34m\u001b[0m\u001b[0m\n\u001b[0;32m-> 2091\u001b[0;31m         \u001b[0;32mreturn\u001b[0m \u001b[0mself\u001b[0m\u001b[0;34m.\u001b[0m\u001b[0m_vectorize_call\u001b[0m\u001b[0;34m(\u001b[0m\u001b[0mfunc\u001b[0m\u001b[0;34m=\u001b[0m\u001b[0mfunc\u001b[0m\u001b[0;34m,\u001b[0m \u001b[0margs\u001b[0m\u001b[0;34m=\u001b[0m\u001b[0mvargs\u001b[0m\u001b[0;34m)\u001b[0m\u001b[0;34m\u001b[0m\u001b[0;34m\u001b[0m\u001b[0m\n\u001b[0m\u001b[1;32m   2092\u001b[0m \u001b[0;34m\u001b[0m\u001b[0m\n\u001b[1;32m   2093\u001b[0m     \u001b[0;32mdef\u001b[0m \u001b[0m_get_ufunc_and_otypes\u001b[0m\u001b[0;34m(\u001b[0m\u001b[0mself\u001b[0m\u001b[0;34m,\u001b[0m \u001b[0mfunc\u001b[0m\u001b[0;34m,\u001b[0m \u001b[0margs\u001b[0m\u001b[0;34m)\u001b[0m\u001b[0;34m:\u001b[0m\u001b[0;34m\u001b[0m\u001b[0;34m\u001b[0m\u001b[0m\n",
      "\u001b[0;32m~/anaconda3/lib/python3.7/site-packages/numpy/lib/function_base.py\u001b[0m in \u001b[0;36m_vectorize_call\u001b[0;34m(self, func, args)\u001b[0m\n\u001b[1;32m   2165\u001b[0m                       for a in args]\n\u001b[1;32m   2166\u001b[0m \u001b[0;34m\u001b[0m\u001b[0m\n\u001b[0;32m-> 2167\u001b[0;31m             \u001b[0moutputs\u001b[0m \u001b[0;34m=\u001b[0m \u001b[0mufunc\u001b[0m\u001b[0;34m(\u001b[0m\u001b[0;34m*\u001b[0m\u001b[0minputs\u001b[0m\u001b[0;34m)\u001b[0m\u001b[0;34m\u001b[0m\u001b[0;34m\u001b[0m\u001b[0m\n\u001b[0m\u001b[1;32m   2168\u001b[0m \u001b[0;34m\u001b[0m\u001b[0m\n\u001b[1;32m   2169\u001b[0m             \u001b[0;32mif\u001b[0m \u001b[0mufunc\u001b[0m\u001b[0;34m.\u001b[0m\u001b[0mnout\u001b[0m \u001b[0;34m==\u001b[0m \u001b[0;36m1\u001b[0m\u001b[0;34m:\u001b[0m\u001b[0;34m\u001b[0m\u001b[0;34m\u001b[0m\u001b[0m\n",
      "\u001b[0;32m<ipython-input-15-734436d7177f>\u001b[0m in \u001b[0;36m<lambda>\u001b[0;34m(r, z0, mode)\u001b[0m\n\u001b[1;32m      1\u001b[0m \u001b[0;31m# Integrate outer function\u001b[0m\u001b[0;34m\u001b[0m\u001b[0;34m\u001b[0m\u001b[0;34m\u001b[0m\u001b[0m\n\u001b[1;32m      2\u001b[0m \u001b[0minnerintegr2\u001b[0m \u001b[0;34m=\u001b[0m \u001b[0;32mlambda\u001b[0m \u001b[0mu\u001b[0m\u001b[0;34m,\u001b[0m\u001b[0mr\u001b[0m\u001b[0;34m,\u001b[0m\u001b[0mz0\u001b[0m\u001b[0;34m,\u001b[0m\u001b[0mmode\u001b[0m\u001b[0;34m:\u001b[0m \u001b[0minnerintegr1\u001b[0m\u001b[0;34m(\u001b[0m\u001b[0mr\u001b[0m\u001b[0;34m,\u001b[0m\u001b[0mu\u001b[0m\u001b[0;34m,\u001b[0m\u001b[0mz0\u001b[0m\u001b[0;34m,\u001b[0m\u001b[0mmode\u001b[0m\u001b[0;34m)\u001b[0m\u001b[0;34m\u001b[0m\u001b[0;34m\u001b[0m\u001b[0m\n\u001b[0;32m----> 3\u001b[0;31m \u001b[0mradialforce\u001b[0m \u001b[0;34m=\u001b[0m \u001b[0;32mlambda\u001b[0m \u001b[0mr\u001b[0m\u001b[0;34m,\u001b[0m\u001b[0mz0\u001b[0m\u001b[0;34m,\u001b[0m\u001b[0mmode\u001b[0m\u001b[0;34m:\u001b[0m \u001b[0mquad\u001b[0m\u001b[0;34m(\u001b[0m\u001b[0minnerintegr2\u001b[0m\u001b[0;34m,\u001b[0m \u001b[0;36m0.1\u001b[0m\u001b[0;34m,\u001b[0m \u001b[0;36m125\u001b[0m\u001b[0;34m,\u001b[0m \u001b[0margs\u001b[0m\u001b[0;34m=\u001b[0m\u001b[0;34m(\u001b[0m\u001b[0mr\u001b[0m\u001b[0;34m,\u001b[0m\u001b[0mz0\u001b[0m\u001b[0;34m,\u001b[0m\u001b[0mmode\u001b[0m\u001b[0;34m,\u001b[0m\u001b[0;34m)\u001b[0m\u001b[0;34m)\u001b[0m\u001b[0;34m[\u001b[0m\u001b[0;36m0\u001b[0m\u001b[0;34m]\u001b[0m\u001b[0;34m\u001b[0m\u001b[0;34m\u001b[0m\u001b[0m\n\u001b[0m",
      "\u001b[0;32m~/anaconda3/lib/python3.7/site-packages/scipy/integrate/quadpack.py\u001b[0m in \u001b[0;36mquad\u001b[0;34m(func, a, b, args, full_output, epsabs, epsrel, limit, points, weight, wvar, wopts, maxp1, limlst)\u001b[0m\n\u001b[1;32m    339\u001b[0m     \u001b[0;32mif\u001b[0m \u001b[0mweight\u001b[0m \u001b[0;32mis\u001b[0m \u001b[0;32mNone\u001b[0m\u001b[0;34m:\u001b[0m\u001b[0;34m\u001b[0m\u001b[0;34m\u001b[0m\u001b[0m\n\u001b[1;32m    340\u001b[0m         retval = _quad(func, a, b, args, full_output, epsabs, epsrel, limit,\n\u001b[0;32m--> 341\u001b[0;31m                        points)\n\u001b[0m\u001b[1;32m    342\u001b[0m     \u001b[0;32melse\u001b[0m\u001b[0;34m:\u001b[0m\u001b[0;34m\u001b[0m\u001b[0;34m\u001b[0m\u001b[0m\n\u001b[1;32m    343\u001b[0m         retval = _quad_weight(func, a, b, args, full_output, epsabs, epsrel,\n",
      "\u001b[0;32m~/anaconda3/lib/python3.7/site-packages/scipy/integrate/quadpack.py\u001b[0m in \u001b[0;36m_quad\u001b[0;34m(func, a, b, args, full_output, epsabs, epsrel, limit, points)\u001b[0m\n\u001b[1;32m    446\u001b[0m     \u001b[0;32mif\u001b[0m \u001b[0mpoints\u001b[0m \u001b[0;32mis\u001b[0m \u001b[0;32mNone\u001b[0m\u001b[0;34m:\u001b[0m\u001b[0;34m\u001b[0m\u001b[0;34m\u001b[0m\u001b[0m\n\u001b[1;32m    447\u001b[0m         \u001b[0;32mif\u001b[0m \u001b[0minfbounds\u001b[0m \u001b[0;34m==\u001b[0m \u001b[0;36m0\u001b[0m\u001b[0;34m:\u001b[0m\u001b[0;34m\u001b[0m\u001b[0;34m\u001b[0m\u001b[0m\n\u001b[0;32m--> 448\u001b[0;31m             \u001b[0;32mreturn\u001b[0m \u001b[0m_quadpack\u001b[0m\u001b[0;34m.\u001b[0m\u001b[0m_qagse\u001b[0m\u001b[0;34m(\u001b[0m\u001b[0mfunc\u001b[0m\u001b[0;34m,\u001b[0m\u001b[0ma\u001b[0m\u001b[0;34m,\u001b[0m\u001b[0mb\u001b[0m\u001b[0;34m,\u001b[0m\u001b[0margs\u001b[0m\u001b[0;34m,\u001b[0m\u001b[0mfull_output\u001b[0m\u001b[0;34m,\u001b[0m\u001b[0mepsabs\u001b[0m\u001b[0;34m,\u001b[0m\u001b[0mepsrel\u001b[0m\u001b[0;34m,\u001b[0m\u001b[0mlimit\u001b[0m\u001b[0;34m)\u001b[0m\u001b[0;34m\u001b[0m\u001b[0;34m\u001b[0m\u001b[0m\n\u001b[0m\u001b[1;32m    449\u001b[0m         \u001b[0;32melse\u001b[0m\u001b[0;34m:\u001b[0m\u001b[0;34m\u001b[0m\u001b[0;34m\u001b[0m\u001b[0m\n\u001b[1;32m    450\u001b[0m             \u001b[0;32mreturn\u001b[0m \u001b[0m_quadpack\u001b[0m\u001b[0;34m.\u001b[0m\u001b[0m_qagie\u001b[0m\u001b[0;34m(\u001b[0m\u001b[0mfunc\u001b[0m\u001b[0;34m,\u001b[0m\u001b[0mbound\u001b[0m\u001b[0;34m,\u001b[0m\u001b[0minfbounds\u001b[0m\u001b[0;34m,\u001b[0m\u001b[0margs\u001b[0m\u001b[0;34m,\u001b[0m\u001b[0mfull_output\u001b[0m\u001b[0;34m,\u001b[0m\u001b[0mepsabs\u001b[0m\u001b[0;34m,\u001b[0m\u001b[0mepsrel\u001b[0m\u001b[0;34m,\u001b[0m\u001b[0mlimit\u001b[0m\u001b[0;34m)\u001b[0m\u001b[0;34m\u001b[0m\u001b[0;34m\u001b[0m\u001b[0m\n",
      "\u001b[0;32m<ipython-input-15-734436d7177f>\u001b[0m in \u001b[0;36m<lambda>\u001b[0;34m(u, r, z0, mode)\u001b[0m\n\u001b[1;32m      1\u001b[0m \u001b[0;31m# Integrate outer function\u001b[0m\u001b[0;34m\u001b[0m\u001b[0;34m\u001b[0m\u001b[0;34m\u001b[0m\u001b[0m\n\u001b[0;32m----> 2\u001b[0;31m \u001b[0minnerintegr2\u001b[0m \u001b[0;34m=\u001b[0m \u001b[0;32mlambda\u001b[0m \u001b[0mu\u001b[0m\u001b[0;34m,\u001b[0m\u001b[0mr\u001b[0m\u001b[0;34m,\u001b[0m\u001b[0mz0\u001b[0m\u001b[0;34m,\u001b[0m\u001b[0mmode\u001b[0m\u001b[0;34m:\u001b[0m \u001b[0minnerintegr1\u001b[0m\u001b[0;34m(\u001b[0m\u001b[0mr\u001b[0m\u001b[0;34m,\u001b[0m\u001b[0mu\u001b[0m\u001b[0;34m,\u001b[0m\u001b[0mz0\u001b[0m\u001b[0;34m,\u001b[0m\u001b[0mmode\u001b[0m\u001b[0;34m)\u001b[0m\u001b[0;34m\u001b[0m\u001b[0;34m\u001b[0m\u001b[0m\n\u001b[0m\u001b[1;32m      3\u001b[0m \u001b[0mradialforce\u001b[0m \u001b[0;34m=\u001b[0m \u001b[0;32mlambda\u001b[0m \u001b[0mr\u001b[0m\u001b[0;34m,\u001b[0m\u001b[0mz0\u001b[0m\u001b[0;34m,\u001b[0m\u001b[0mmode\u001b[0m\u001b[0;34m:\u001b[0m \u001b[0mquad\u001b[0m\u001b[0;34m(\u001b[0m\u001b[0minnerintegr2\u001b[0m\u001b[0;34m,\u001b[0m \u001b[0;36m0.1\u001b[0m\u001b[0;34m,\u001b[0m \u001b[0;36m125\u001b[0m\u001b[0;34m,\u001b[0m \u001b[0margs\u001b[0m\u001b[0;34m=\u001b[0m\u001b[0;34m(\u001b[0m\u001b[0mr\u001b[0m\u001b[0;34m,\u001b[0m\u001b[0mz0\u001b[0m\u001b[0;34m,\u001b[0m\u001b[0mmode\u001b[0m\u001b[0;34m,\u001b[0m\u001b[0;34m)\u001b[0m\u001b[0;34m)\u001b[0m\u001b[0;34m[\u001b[0m\u001b[0;36m0\u001b[0m\u001b[0;34m]\u001b[0m\u001b[0;34m\u001b[0m\u001b[0;34m\u001b[0m\u001b[0m\n",
      "\u001b[0;32m<ipython-input-14-9fbb0d3269ce>\u001b[0m in \u001b[0;36m<lambda>\u001b[0;34m(r, u, z0, mode)\u001b[0m\n\u001b[1;32m      1\u001b[0m \u001b[0;31m# Integrate inner function\u001b[0m\u001b[0;34m\u001b[0m\u001b[0;34m\u001b[0m\u001b[0;34m\u001b[0m\u001b[0m\n\u001b[1;32m      2\u001b[0m \u001b[0minnerfunc2\u001b[0m \u001b[0;34m=\u001b[0m \u001b[0;32mlambda\u001b[0m \u001b[0mz\u001b[0m\u001b[0;34m,\u001b[0m\u001b[0mr\u001b[0m\u001b[0;34m,\u001b[0m\u001b[0mu\u001b[0m\u001b[0;34m,\u001b[0m\u001b[0mz0\u001b[0m\u001b[0;34m,\u001b[0m\u001b[0mmode\u001b[0m\u001b[0;34m:\u001b[0m \u001b[0minnerfunc\u001b[0m\u001b[0;34m(\u001b[0m\u001b[0mr\u001b[0m\u001b[0;34m,\u001b[0m\u001b[0mu\u001b[0m\u001b[0;34m,\u001b[0m\u001b[0mz\u001b[0m\u001b[0;34m,\u001b[0m\u001b[0mz0\u001b[0m\u001b[0;34m,\u001b[0m\u001b[0mmode\u001b[0m\u001b[0;34m)\u001b[0m\u001b[0;34m\u001b[0m\u001b[0;34m\u001b[0m\u001b[0m\n\u001b[0;32m----> 3\u001b[0;31m \u001b[0minnerintegr1\u001b[0m \u001b[0;34m=\u001b[0m \u001b[0;32mlambda\u001b[0m \u001b[0mr\u001b[0m\u001b[0;34m,\u001b[0m\u001b[0mu\u001b[0m\u001b[0;34m,\u001b[0m\u001b[0mz0\u001b[0m\u001b[0;34m,\u001b[0m\u001b[0mmode\u001b[0m\u001b[0;34m:\u001b[0m \u001b[0mquad\u001b[0m\u001b[0;34m(\u001b[0m\u001b[0minnerfunc2\u001b[0m\u001b[0;34m,\u001b[0m \u001b[0;36m0\u001b[0m\u001b[0;34m,\u001b[0m \u001b[0mnp\u001b[0m\u001b[0;34m.\u001b[0m\u001b[0minf\u001b[0m\u001b[0;34m,\u001b[0m \u001b[0margs\u001b[0m\u001b[0;34m=\u001b[0m\u001b[0;34m(\u001b[0m\u001b[0mr\u001b[0m\u001b[0;34m,\u001b[0m\u001b[0mu\u001b[0m\u001b[0;34m,\u001b[0m\u001b[0mz0\u001b[0m\u001b[0;34m,\u001b[0m\u001b[0mmode\u001b[0m\u001b[0;34m,\u001b[0m\u001b[0;34m)\u001b[0m\u001b[0;34m)\u001b[0m\u001b[0;34m[\u001b[0m\u001b[0;36m0\u001b[0m\u001b[0;34m]\u001b[0m\u001b[0;34m\u001b[0m\u001b[0;34m\u001b[0m\u001b[0m\n\u001b[0m",
      "\u001b[0;32m~/anaconda3/lib/python3.7/site-packages/scipy/integrate/quadpack.py\u001b[0m in \u001b[0;36mquad\u001b[0;34m(func, a, b, args, full_output, epsabs, epsrel, limit, points, weight, wvar, wopts, maxp1, limlst)\u001b[0m\n\u001b[1;32m    339\u001b[0m     \u001b[0;32mif\u001b[0m \u001b[0mweight\u001b[0m \u001b[0;32mis\u001b[0m \u001b[0;32mNone\u001b[0m\u001b[0;34m:\u001b[0m\u001b[0;34m\u001b[0m\u001b[0;34m\u001b[0m\u001b[0m\n\u001b[1;32m    340\u001b[0m         retval = _quad(func, a, b, args, full_output, epsabs, epsrel, limit,\n\u001b[0;32m--> 341\u001b[0;31m                        points)\n\u001b[0m\u001b[1;32m    342\u001b[0m     \u001b[0;32melse\u001b[0m\u001b[0;34m:\u001b[0m\u001b[0;34m\u001b[0m\u001b[0;34m\u001b[0m\u001b[0m\n\u001b[1;32m    343\u001b[0m         retval = _quad_weight(func, a, b, args, full_output, epsabs, epsrel,\n",
      "\u001b[0;32m~/anaconda3/lib/python3.7/site-packages/scipy/integrate/quadpack.py\u001b[0m in \u001b[0;36m_quad\u001b[0;34m(func, a, b, args, full_output, epsabs, epsrel, limit, points)\u001b[0m\n\u001b[1;32m    448\u001b[0m             \u001b[0;32mreturn\u001b[0m \u001b[0m_quadpack\u001b[0m\u001b[0;34m.\u001b[0m\u001b[0m_qagse\u001b[0m\u001b[0;34m(\u001b[0m\u001b[0mfunc\u001b[0m\u001b[0;34m,\u001b[0m\u001b[0ma\u001b[0m\u001b[0;34m,\u001b[0m\u001b[0mb\u001b[0m\u001b[0;34m,\u001b[0m\u001b[0margs\u001b[0m\u001b[0;34m,\u001b[0m\u001b[0mfull_output\u001b[0m\u001b[0;34m,\u001b[0m\u001b[0mepsabs\u001b[0m\u001b[0;34m,\u001b[0m\u001b[0mepsrel\u001b[0m\u001b[0;34m,\u001b[0m\u001b[0mlimit\u001b[0m\u001b[0;34m)\u001b[0m\u001b[0;34m\u001b[0m\u001b[0;34m\u001b[0m\u001b[0m\n\u001b[1;32m    449\u001b[0m         \u001b[0;32melse\u001b[0m\u001b[0;34m:\u001b[0m\u001b[0;34m\u001b[0m\u001b[0;34m\u001b[0m\u001b[0m\n\u001b[0;32m--> 450\u001b[0;31m             \u001b[0;32mreturn\u001b[0m \u001b[0m_quadpack\u001b[0m\u001b[0;34m.\u001b[0m\u001b[0m_qagie\u001b[0m\u001b[0;34m(\u001b[0m\u001b[0mfunc\u001b[0m\u001b[0;34m,\u001b[0m\u001b[0mbound\u001b[0m\u001b[0;34m,\u001b[0m\u001b[0minfbounds\u001b[0m\u001b[0;34m,\u001b[0m\u001b[0margs\u001b[0m\u001b[0;34m,\u001b[0m\u001b[0mfull_output\u001b[0m\u001b[0;34m,\u001b[0m\u001b[0mepsabs\u001b[0m\u001b[0;34m,\u001b[0m\u001b[0mepsrel\u001b[0m\u001b[0;34m,\u001b[0m\u001b[0mlimit\u001b[0m\u001b[0;34m)\u001b[0m\u001b[0;34m\u001b[0m\u001b[0;34m\u001b[0m\u001b[0m\n\u001b[0m\u001b[1;32m    451\u001b[0m     \u001b[0;32melse\u001b[0m\u001b[0;34m:\u001b[0m\u001b[0;34m\u001b[0m\u001b[0;34m\u001b[0m\u001b[0m\n\u001b[1;32m    452\u001b[0m         \u001b[0;32mif\u001b[0m \u001b[0minfbounds\u001b[0m \u001b[0;34m!=\u001b[0m \u001b[0;36m0\u001b[0m\u001b[0;34m:\u001b[0m\u001b[0;34m\u001b[0m\u001b[0;34m\u001b[0m\u001b[0m\n",
      "\u001b[0;32m<ipython-input-14-9fbb0d3269ce>\u001b[0m in \u001b[0;36m<lambda>\u001b[0;34m(z, r, u, z0, mode)\u001b[0m\n\u001b[1;32m      1\u001b[0m \u001b[0;31m# Integrate inner function\u001b[0m\u001b[0;34m\u001b[0m\u001b[0;34m\u001b[0m\u001b[0;34m\u001b[0m\u001b[0m\n\u001b[0;32m----> 2\u001b[0;31m \u001b[0minnerfunc2\u001b[0m \u001b[0;34m=\u001b[0m \u001b[0;32mlambda\u001b[0m \u001b[0mz\u001b[0m\u001b[0;34m,\u001b[0m\u001b[0mr\u001b[0m\u001b[0;34m,\u001b[0m\u001b[0mu\u001b[0m\u001b[0;34m,\u001b[0m\u001b[0mz0\u001b[0m\u001b[0;34m,\u001b[0m\u001b[0mmode\u001b[0m\u001b[0;34m:\u001b[0m \u001b[0minnerfunc\u001b[0m\u001b[0;34m(\u001b[0m\u001b[0mr\u001b[0m\u001b[0;34m,\u001b[0m\u001b[0mu\u001b[0m\u001b[0;34m,\u001b[0m\u001b[0mz\u001b[0m\u001b[0;34m,\u001b[0m\u001b[0mz0\u001b[0m\u001b[0;34m,\u001b[0m\u001b[0mmode\u001b[0m\u001b[0;34m)\u001b[0m\u001b[0;34m\u001b[0m\u001b[0;34m\u001b[0m\u001b[0m\n\u001b[0m\u001b[1;32m      3\u001b[0m \u001b[0minnerintegr1\u001b[0m \u001b[0;34m=\u001b[0m \u001b[0;32mlambda\u001b[0m \u001b[0mr\u001b[0m\u001b[0;34m,\u001b[0m\u001b[0mu\u001b[0m\u001b[0;34m,\u001b[0m\u001b[0mz0\u001b[0m\u001b[0;34m,\u001b[0m\u001b[0mmode\u001b[0m\u001b[0;34m:\u001b[0m \u001b[0mquad\u001b[0m\u001b[0;34m(\u001b[0m\u001b[0minnerfunc2\u001b[0m\u001b[0;34m,\u001b[0m \u001b[0;36m0\u001b[0m\u001b[0;34m,\u001b[0m \u001b[0mnp\u001b[0m\u001b[0;34m.\u001b[0m\u001b[0minf\u001b[0m\u001b[0;34m,\u001b[0m \u001b[0margs\u001b[0m\u001b[0;34m=\u001b[0m\u001b[0;34m(\u001b[0m\u001b[0mr\u001b[0m\u001b[0;34m,\u001b[0m\u001b[0mu\u001b[0m\u001b[0;34m,\u001b[0m\u001b[0mz0\u001b[0m\u001b[0;34m,\u001b[0m\u001b[0mmode\u001b[0m\u001b[0;34m,\u001b[0m\u001b[0;34m)\u001b[0m\u001b[0;34m)\u001b[0m\u001b[0;34m[\u001b[0m\u001b[0;36m0\u001b[0m\u001b[0;34m]\u001b[0m\u001b[0;34m\u001b[0m\u001b[0;34m\u001b[0m\u001b[0m\n",
      "\u001b[0;32m<ipython-input-10-6c8098e082a3>\u001b[0m in \u001b[0;36minnerfunc\u001b[0;34m(r, u, z, z0, mode)\u001b[0m\n\u001b[1;32m      1\u001b[0m \u001b[0;31m# Inner function\u001b[0m\u001b[0;34m\u001b[0m\u001b[0;34m\u001b[0m\u001b[0;34m\u001b[0m\u001b[0m\n\u001b[1;32m      2\u001b[0m \u001b[0;32mdef\u001b[0m \u001b[0minnerfunc\u001b[0m\u001b[0;34m(\u001b[0m\u001b[0mr\u001b[0m\u001b[0;34m,\u001b[0m\u001b[0mu\u001b[0m\u001b[0;34m,\u001b[0m\u001b[0mz\u001b[0m\u001b[0;34m,\u001b[0m\u001b[0mz0\u001b[0m\u001b[0;34m,\u001b[0m\u001b[0mmode\u001b[0m\u001b[0;34m)\u001b[0m\u001b[0;34m:\u001b[0m\u001b[0;34m\u001b[0m\u001b[0;34m\u001b[0m\u001b[0m\n\u001b[0;32m----> 3\u001b[0;31m     \u001b[0;32mreturn\u001b[0m \u001b[0;34m(\u001b[0m\u001b[0;36m4\u001b[0m \u001b[0;34m*\u001b[0m \u001b[0mnp\u001b[0m\u001b[0;34m.\u001b[0m\u001b[0mpi\u001b[0m \u001b[0;34m*\u001b[0m \u001b[0mG\u001b[0m\u001b[0;34m)\u001b[0m \u001b[0;34m*\u001b[0m \u001b[0;34m(\u001b[0m\u001b[0mdrho_rz\u001b[0m\u001b[0;34m(\u001b[0m\u001b[0mr\u001b[0m\u001b[0;34m,\u001b[0m\u001b[0mz\u001b[0m\u001b[0;34m,\u001b[0m\u001b[0mz0\u001b[0m\u001b[0;34m,\u001b[0m\u001b[0mmode\u001b[0m\u001b[0;34m)\u001b[0m \u001b[0;34m*\u001b[0m \u001b[0mK\u001b[0m\u001b[0;34m(\u001b[0m\u001b[0mr\u001b[0m\u001b[0;34m,\u001b[0m\u001b[0mu\u001b[0m\u001b[0;34m,\u001b[0m\u001b[0mz\u001b[0m\u001b[0;34m)\u001b[0m \u001b[0;34m*\u001b[0m \u001b[0;36m2\u001b[0m \u001b[0;34m*\u001b[0m \u001b[0mnp\u001b[0m\u001b[0;34m.\u001b[0m\u001b[0msqrt\u001b[0m\u001b[0;34m(\u001b[0m\u001b[0mu\u001b[0m\u001b[0;34m)\u001b[0m\u001b[0;34m)\u001b[0m \u001b[0;34m/\u001b[0m \u001b[0;34m(\u001b[0m\u001b[0mnp\u001b[0m\u001b[0;34m.\u001b[0m\u001b[0mpi\u001b[0m \u001b[0;34m*\u001b[0m \u001b[0mnp\u001b[0m\u001b[0;34m.\u001b[0m\u001b[0msqrt\u001b[0m\u001b[0;34m(\u001b[0m\u001b[0mr\u001b[0m \u001b[0;34m*\u001b[0m \u001b[0mpx\u001b[0m\u001b[0;34m(\u001b[0m\u001b[0mr\u001b[0m\u001b[0;34m,\u001b[0m\u001b[0mu\u001b[0m\u001b[0;34m,\u001b[0m\u001b[0mz\u001b[0m\u001b[0;34m)\u001b[0m\u001b[0;34m)\u001b[0m\u001b[0;34m)\u001b[0m\u001b[0;34m\u001b[0m\u001b[0;34m\u001b[0m\u001b[0m\n\u001b[0m",
      "\u001b[0;32m<ipython-input-9-560567b3df44>\u001b[0m in \u001b[0;36mK\u001b[0;34m(r, u, z)\u001b[0m\n\u001b[1;32m      1\u001b[0m \u001b[0;31m# Complete elliptic integral\u001b[0m\u001b[0;34m\u001b[0m\u001b[0;34m\u001b[0m\u001b[0;34m\u001b[0m\u001b[0m\n\u001b[1;32m      2\u001b[0m \u001b[0;32mdef\u001b[0m \u001b[0mK\u001b[0m\u001b[0;34m(\u001b[0m\u001b[0mr\u001b[0m\u001b[0;34m,\u001b[0m\u001b[0mu\u001b[0m\u001b[0;34m,\u001b[0m\u001b[0mz\u001b[0m\u001b[0;34m)\u001b[0m\u001b[0;34m:\u001b[0m\u001b[0;34m\u001b[0m\u001b[0;34m\u001b[0m\u001b[0m\n\u001b[0;32m----> 3\u001b[0;31m     \u001b[0;32mreturn\u001b[0m \u001b[0mellipk\u001b[0m\u001b[0;34m(\u001b[0m\u001b[0mpx\u001b[0m\u001b[0;34m(\u001b[0m\u001b[0mr\u001b[0m\u001b[0;34m,\u001b[0m\u001b[0mu\u001b[0m\u001b[0;34m,\u001b[0m\u001b[0mz\u001b[0m\u001b[0;34m)\u001b[0m\u001b[0;34m)\u001b[0m \u001b[0;34m-\u001b[0m \u001b[0mellipe\u001b[0m\u001b[0;34m(\u001b[0m\u001b[0mpx\u001b[0m\u001b[0;34m(\u001b[0m\u001b[0mr\u001b[0m\u001b[0;34m,\u001b[0m\u001b[0mu\u001b[0m\u001b[0;34m,\u001b[0m\u001b[0mz\u001b[0m\u001b[0;34m)\u001b[0m\u001b[0;34m)\u001b[0m\u001b[0;34m\u001b[0m\u001b[0;34m\u001b[0m\u001b[0m\n\u001b[0m",
      "\u001b[0;32m<ipython-input-8-a5b7d0ab9b2b>\u001b[0m in \u001b[0;36mpx\u001b[0;34m(r, u, z)\u001b[0m\n\u001b[1;32m      1\u001b[0m \u001b[0;31m# Casertano Eq 5\u001b[0m\u001b[0;34m\u001b[0m\u001b[0;34m\u001b[0m\u001b[0;34m\u001b[0m\u001b[0m\n\u001b[1;32m      2\u001b[0m \u001b[0;32mdef\u001b[0m \u001b[0mpx\u001b[0m\u001b[0;34m(\u001b[0m\u001b[0mr\u001b[0m\u001b[0;34m,\u001b[0m\u001b[0mu\u001b[0m\u001b[0;34m,\u001b[0m\u001b[0mz\u001b[0m\u001b[0;34m)\u001b[0m\u001b[0;34m:\u001b[0m\u001b[0;34m\u001b[0m\u001b[0;34m\u001b[0m\u001b[0m\n\u001b[0;32m----> 3\u001b[0;31m     \u001b[0mx\u001b[0m \u001b[0;34m=\u001b[0m \u001b[0;34m(\u001b[0m\u001b[0mr\u001b[0m\u001b[0;34m**\u001b[0m\u001b[0;36m2\u001b[0m \u001b[0;34m+\u001b[0m \u001b[0mu\u001b[0m\u001b[0;34m**\u001b[0m\u001b[0;36m2\u001b[0m \u001b[0;34m+\u001b[0m \u001b[0mz\u001b[0m\u001b[0;34m**\u001b[0m\u001b[0;36m2\u001b[0m\u001b[0;34m)\u001b[0m\u001b[0;34m/\u001b[0m\u001b[0;34m(\u001b[0m\u001b[0;36m2\u001b[0m\u001b[0;34m*\u001b[0m\u001b[0mr\u001b[0m\u001b[0;34m*\u001b[0m\u001b[0mu\u001b[0m\u001b[0;34m)\u001b[0m\u001b[0;34m\u001b[0m\u001b[0;34m\u001b[0m\u001b[0m\n\u001b[0m\u001b[1;32m      4\u001b[0m     \u001b[0;32mreturn\u001b[0m \u001b[0mx\u001b[0m \u001b[0;34m-\u001b[0m \u001b[0;34m(\u001b[0m\u001b[0mnp\u001b[0m\u001b[0;34m.\u001b[0m\u001b[0msqrt\u001b[0m\u001b[0;34m(\u001b[0m\u001b[0;34m(\u001b[0m\u001b[0mx\u001b[0m\u001b[0;34m**\u001b[0m\u001b[0;36m2\u001b[0m\u001b[0;34m)\u001b[0m\u001b[0;34m-\u001b[0m\u001b[0;36m1\u001b[0m\u001b[0;34m)\u001b[0m\u001b[0;34m)\u001b[0m\u001b[0;34m\u001b[0m\u001b[0;34m\u001b[0m\u001b[0m\n",
      "\u001b[0;31mZeroDivisionError\u001b[0m: float division by zero"
     ]
    }
   ],
   "source": [
    "radialforce = np.vectorize(radialforce)\n",
    "velocs = np.sqrt(densit*radialforce(densit,z0,mode))"
   ]
  },
  {
   "cell_type": "markdown",
   "metadata": {},
   "source": [
    "## Plot"
   ]
  },
  {
   "cell_type": "code",
   "execution_count": null,
   "metadata": {},
   "outputs": [],
   "source": [
    "plt.figure(figsize=(9.0,8.0))             \n",
    "plt.scatter(radius, velocs, linestyle='solid', label='Gas Velocity')\n",
    "plt.axis('tight');\n",
    "plt.title('NGC 5533')\n",
    "plt.xlabel('Radius (KPC)', fontsize=14)\n",
    "plt.ylabel('Velocity (KM/S)', fontsize=14)\n",
    "plt.legend(fontsize=16)\n",
    "plt.show()"
   ]
  },
  {
   "cell_type": "code",
   "execution_count": null,
   "metadata": {},
   "outputs": [],
   "source": [
    "print(radius)\n",
    "print(velocs)"
   ]
  },
  {
   "cell_type": "code",
   "execution_count": null,
   "metadata": {},
   "outputs": [],
   "source": []
  }
 ],
 "metadata": {
  "kernelspec": {
   "display_name": "Python 3",
   "language": "python",
   "name": "python3"
  },
  "language_info": {
   "codemirror_mode": {
    "name": "ipython",
    "version": 3
   },
   "file_extension": ".py",
   "mimetype": "text/x-python",
   "name": "python",
   "nbconvert_exporter": "python",
   "pygments_lexer": "ipython3",
   "version": "3.7.4"
  }
 },
 "nbformat": 4,
 "nbformat_minor": 4
}
