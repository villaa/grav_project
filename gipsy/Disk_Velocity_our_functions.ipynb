{
 "cells": [
  {
   "cell_type": "code",
   "execution_count": 1,
   "metadata": {},
   "outputs": [],
   "source": [
    "import numpy as np\n",
    "import matplotlib.pyplot as plt\n",
    "from scipy.integrate import quad\n",
    "from scipy.special import ellipe\n",
    "from scipy.special import ellipk"
   ]
  },
  {
   "cell_type": "markdown",
   "metadata": {},
   "source": [
    "## User input"
   ]
  },
  {
   "cell_type": "code",
   "execution_count": 2,
   "metadata": {},
   "outputs": [],
   "source": [
    "user = False\n",
    "raddens = \"../data/gasmsd_kpc_linear.txt\"      # Gas density with 2 columns, units: KPC, MSUN/PC^2\n",
    "units = 'KPC,MSUN/PC**2'\n",
    "zlaw = 2                            # Case 2: sech-squared density law\n",
    "mode = zlaw                         # Density distribution mode\n",
    "\n",
    "# Parameters\n",
    "G = 0.00000431158                   # Gravitational constant (KPC/MSUN*(KM/S)^2)  \n",
    "CONSTANT = 2.0 * np.pi * G / 3.0\n",
    "EPS = 1\n",
    "z0 = 0.93\n",
    "distance = 16.5                    # Distance in MPC\n",
    "h = 10.0                           # GUESS: radial scale-length (KPC)\n",
    "dens0 = 10**2.4                    # GUESS: central surface density (MSUN/KPC^2)"
   ]
  },
  {
   "cell_type": "markdown",
   "metadata": {},
   "source": [
    "## Case 1: Import density profile"
   ]
  },
  {
   "cell_type": "code",
   "execution_count": 3,
   "metadata": {},
   "outputs": [],
   "source": [
    "if user == True:\n",
    "    if units == 'KPC,MSUN/PC**2':\n",
    "        mudata = np.loadtxt(raddens)\n",
    "        if np.shape(np.loadtxt(raddens))[1] == 2:     # this just checks if the file has 2 or 4 columns\n",
    "            xdinp, ydinp = mudata.T\n",
    "        if np.shape(np.loadtxt(raddens))[1] == 4:\n",
    "            xdinp, ydinp, xerror, yerror = mudata.T\n",
    "      \n",
    "    if units == 'ARCSEC,MAG/ARCSEC**2':\n",
    "        mudata = np.loadtxt(raddens)\n",
    "        if np.shape(np.loadtxt(raddens))[1] == 2:\n",
    "            xdinp, ydinp = mudata.T\n",
    "        if np.shape(np.loadtxt(raddens))[1] == 4:\n",
    "            xdinp, ydinp, xerror, yerror = mudata.T\n",
    "                \n",
    "        # Conversion\n",
    "        # ARCSEC to KPC\n",
    "        xdinp = 4.8481E-3 * distance * xdinp\n",
    "\n",
    "        # MAG/ARCSEC^2 to MSUN/PC^2\n",
    "        ydinp = 10**(-0.4 * ydinp)\n",
    "        ydinp = (4.8481E-3 * distance)**(-2) * ydinp\n",
    "        \n",
    "    LEN1 = len(xdinp)                   # GUESS: defined as length of radius array\n",
    "    LEN2 = len(ydinp)                   # GUESS: defined as lenght of density array\n",
    "    ndinp = LEN2                        # number of surface densities. GUESS: length of density array again\n",
    "    rcut = xdinp[ndinp-1]               # takes second to last radius value\n",
    "    delta = rcut - xdinp[ndinp-2]       # difference between the second to last radius value and the third to last radius value"
   ]
  },
  {
   "cell_type": "markdown",
   "metadata": {},
   "source": [
    "## Case 2: Calculate density profile "
   ]
  },
  {
   "cell_type": "code",
   "execution_count": 4,
   "metadata": {},
   "outputs": [
    {
     "name": "stdout",
     "output_type": "stream",
     "text": [
      "[-25.11886432 -24.06508386 -23.05551134 -22.08829216 -21.16164952\n",
      " -20.27388117 -19.42335626 -18.60851237 -17.8278526  -17.07994289\n",
      " -16.3634093  -15.67693555 -15.01926058 -14.38917623 -13.78552502\n",
      " -13.20719804 -12.6531329  -12.12231176 -11.6137595  -11.1265419\n",
      " -10.65976393 -10.21256812  -9.78413296  -9.3736714   -8.98042943\n",
      "  -8.60368465  -8.24274497  -7.89694735  -7.56565654  -7.24826397\n",
      "  -6.94418657  -6.65286575  -6.37376635  -6.10637566  -5.85020248\n",
      "  -5.60477622  -5.36964601  -5.14437994  -4.92856417  -4.72180225\n",
      "  -4.52371435  -4.33393659  -4.15212034  -3.97793161  -3.81105039\n",
      "  -3.65117014  -3.49799714  -3.35125002  -3.2106592   -3.07596641\n",
      "  -2.94692421  -2.82329557  -2.70485336  -2.59138002  -2.48266708\n",
      "  -2.37851483  -2.27873196  -2.18313515  -2.0915488   -2.00380466\n",
      "  -1.91974153  -1.83920501  -1.76204713  -1.68812616  -1.6173063\n",
      "  -1.54945746  -1.484455    -1.42217951  -1.36251658  -1.30535662\n",
      "  -1.25059461  -1.19812998  -1.14786632  -1.09971131  -1.05357649\n",
      "  -1.00937711  -0.96703197  -0.92646328  -0.88759652  -0.85036028\n",
      "  -0.81468618  -0.78050866  -0.74776495  -0.7163949   -0.68634088\n",
      "  -0.65754767  -0.62996239  -0.60353436  -0.57821504  -0.5539579\n",
      "  -0.5307184   -0.50845383  -0.4871233   -0.46668762  -0.44710925\n",
      "  -0.42835224  -0.41038211  -0.39316586   0.        ]\n"
     ]
    }
   ],
   "source": [
    "if user == False:\n",
    "    \n",
    "    # User need to provide dens0 (in MSUN/PC^2) and h (in KPC)\n",
    "    dens0 = dens0           # central density of exponential DISK\n",
    "    # convert disk central surface brightness from MAG/ARCSEC^2 to MSUN/KPC^2\n",
    "    #dens0 = 10**(-0.4 * dens0)       \n",
    "    #dens0 = (4.8481E-3 * distance)**(-2) * dens0\n",
    "    #dens0 = dens0 * 1.0e6        \n",
    "    #print(\"dens0 = {:.4}\".format(dens0))\n",
    "\n",
    "    h = h                   # radial scale length\n",
    "    z0 = 0.2*h              # scale height of DISK in kpc [0.0]. \n",
    "                              # note: The integration in Z is the most time consuming part\n",
    "                              # of the calculation. For example it takes about 0.2 seconds\n",
    "                              # to calculate a point on the rotation curve for a disk with zero\n",
    "                              # thickness, and about 2 seconds for a disk with non-zero thickness.\n",
    "    rcut = 4*h              # cutoff radius\n",
    "    delta = 0.2*h           # softening parameter of DISK in kpc [0.0]. It may be wise\n",
    "                              # to have a non-zero softening in case of a truncated disk, \n",
    "                              # because then the sharp features in the calculated rotation \n",
    "                              # curve will be smoothed out. A softening parameter of about \n",
    "                              # 0.2 scale lengths would be sufficient.\n",
    "\n",
    "    # Now calculate the surface densities\n",
    "    LEN1 = 100\n",
    "    LEN2 = 100\n",
    "    xdinp = np.zeros(LEN2-1)    # radii surface density\n",
    "    ydinp = np.zeros(LEN2-1)    # surface densities\n",
    "    rdinp = rcut + delta      # max radius, where galaxy ends\n",
    "    ndinp = LEN2 - 1          # number of surface densities\n",
    "    xstep = rdinp / (ndinp - 1)        # step in radius\n",
    "\n",
    "    i = 0                              # counter \n",
    "    while i < ndinp:\n",
    "        # Casertano's piecewise function, changed to the partial derivative drho/du\n",
    "        xdinp[i] = x = xstep * i\n",
    "        if x >= rcut and delta > 0.0:\n",
    "            y = -(1/delta) * dens0 * np.exp(-rcut/h)\n",
    "        if x >= rdinp:\n",
    "            y = 0.0                    # end of disk\n",
    "        else:\n",
    "            y = -(1/h) * dens0 * np.exp(-x/h) # exponential disk\n",
    "        ydinp[i] = y\n",
    "        i += 1\n",
    "print(ydinp)"
   ]
  },
  {
   "cell_type": "markdown",
   "metadata": {},
   "source": [
    "## Density distribution"
   ]
  },
  {
   "cell_type": "code",
   "execution_count": 5,
   "metadata": {},
   "outputs": [],
   "source": [
    "# There are three distribution laws possible; \n",
    "# the Van der Kruit and Searle law (SECH-SQUARED): D(Z)=sech(Z/Z0)**2/Z0,\n",
    "# an exponential density law (EXPONENTIAL): D(Z)=exp(-Z/Z0)/Z0 \n",
    "# a simple sech law (SIMPLE-SECH): D(Z)=2*sech(Z/Z0)/Z0/PI. \n",
    "\n",
    "# case 1 is a flat disk, z0 = 0\n",
    "#####################################\n",
    "\n",
    "# Sech-squared law:\n",
    "def denzed_case2(z,z0): \n",
    "    r = np.cosh(z / z0)\n",
    "    r = r * r * z0\n",
    "    r = 1.0 / r\n",
    "    return r\n",
    "\n",
    "# Exponential:\n",
    "def denzed_case3(z,z0):\n",
    "    r = np.exp(-z / z0) /z0\n",
    "    return r\n",
    "\n",
    "# Simple-sech\n",
    "def denzed_case4(z,z0):\n",
    "    r = 2 / z0 / np.pi / np.cosh(z/z0)\n",
    "    return r\n",
    "\n",
    "def denzed(z,z0,mode):\n",
    "    #mode = input(\"Which Z density law? 2 or 3 or 4: \")\n",
    "    #The above results in the user being asked for every point entered; this was likely used as a backend.\n",
    "    if mode == 2:\n",
    "        return denzed_case2(z,z0)\n",
    "    if mode == 3:\n",
    "        return denzed_case2(z,z0)\n",
    "    if mode == 4:\n",
    "        return denzed_case4(z,z0)\n",
    "    else:\n",
    "        return np.nan\n",
    "        print(\"Error occured in denzed; no mode selected. Returned nan.\")"
   ]
  },
  {
   "cell_type": "code",
   "execution_count": 6,
   "metadata": {
    "scrolled": true
   },
   "outputs": [],
   "source": [
    "# Casertano Eq 2\n",
    "def drho_rz(r,z,z0,mode):\n",
    "    return r * denzed(z,z0,mode)"
   ]
  },
  {
   "cell_type": "markdown",
   "metadata": {},
   "source": [
    "## Lagrange interpolation"
   ]
  },
  {
   "cell_type": "code",
   "execution_count": 7,
   "metadata": {},
   "outputs": [],
   "source": [
    "# interp does a Lagrange interpolation (second order)\n",
    "def interpd(x1,y1,n1,x2,y2,n2):  \n",
    "    i = 0\n",
    "\n",
    "    while i < n2:\n",
    "        x = x2[i]\n",
    "        y = 0.0\n",
    "        j = 1\n",
    "        done = 0\n",
    "        while (done != j) and (j < (n1 - 3)):\n",
    "            if ((x1[j-1] <= x ) and (x1[j+1] >= x)):\n",
    "                k = j - 1\n",
    "                while (k <= j + 1):\n",
    "                    f = 1.0\n",
    "                    l = j - 1\n",
    "                    while l <= j + 1:\n",
    "                        if (l != k):\n",
    "                            f *= (x - x1[l]) / (x1[k] - x1[l])\n",
    "                        l += 1        \n",
    "                    y += f * y1[k]\n",
    "                    k += 1 \n",
    "                done = 1\n",
    "            j += 1\n",
    "        if (y > 0.0):\n",
    "            y2[i] = y\n",
    "        else: \n",
    "            y2[i] = 0.0\n",
    "        i += 1\n",
    "    return x2,y2"
   ]
  },
  {
   "cell_type": "markdown",
   "metadata": {},
   "source": [
    "## Functions"
   ]
  },
  {
   "cell_type": "code",
   "execution_count": 8,
   "metadata": {},
   "outputs": [],
   "source": [
    "# Casertano Eq 5\n",
    "def px(r,u,z):\n",
    "    x = (r**2 + u**2 + z**2)/(2*r*u)\n",
    "    return x - (np.sqrt((x**2)-1))"
   ]
  },
  {
   "cell_type": "code",
   "execution_count": 9,
   "metadata": {},
   "outputs": [],
   "source": [
    "# Complete elliptic integral\n",
    "def K(r,u,z):\n",
    "    return ellipk(px(r,u,z)) - ellipe(px(r,u,z))"
   ]
  },
  {
   "cell_type": "code",
   "execution_count": 10,
   "metadata": {},
   "outputs": [],
   "source": [
    "# Inner function\n",
    "def innerfunc(r,u,z,z0,mode):\n",
    "    return (4 * np.pi * G) * (drho_rz(r,z,z0,mode) * K(r,u,z) * 2 * np.sqrt(u)) / (np.pi * np.sqrt(r * px(r,u,z)))"
   ]
  },
  {
   "cell_type": "code",
   "execution_count": 11,
   "metadata": {},
   "outputs": [],
   "source": [
    "# Define arrays\n",
    "nradii = len(xdinp)\n",
    "radius = xdinp\n",
    "radius[0] = 0.000000000001             # prevent division by zero error\n",
    "densit = np.zeros(LEN1+LEN2+1)\n",
    "\n",
    "radius = interpd(xdinp, ydinp, ndinp, radius, densit, nradii)[0]\n",
    "densit = interpd(xdinp, ydinp, ndinp, radius, densit, nradii)[1]\n",
    "\n",
    "r = radius\n",
    "u = np.arange(0,np.max(xdinp),0.2*h)\n",
    "z = np.array([0.02, 0.50, 1.00, 3.00, 10.00])"
   ]
  },
  {
   "cell_type": "code",
   "execution_count": 12,
   "metadata": {},
   "outputs": [
    {
     "name": "stdout",
     "output_type": "stream",
     "text": [
      "[0. 0. 0. 0. 0. 0. 0. 0. 0. 0. 0. 0. 0. 0. 0. 0. 0. 0. 0. 0. 0. 0. 0. 0.\n",
      " 0. 0. 0. 0. 0. 0. 0. 0. 0. 0. 0. 0. 0. 0. 0. 0. 0. 0. 0. 0. 0. 0. 0. 0.\n",
      " 0. 0. 0. 0. 0. 0. 0. 0. 0. 0. 0. 0. 0. 0. 0. 0. 0. 0. 0. 0. 0. 0. 0. 0.\n",
      " 0. 0. 0. 0. 0. 0. 0. 0. 0. 0. 0. 0. 0. 0. 0. 0. 0. 0. 0. 0. 0. 0. 0. 0.\n",
      " 0. 0. 0. 0. 0. 0. 0. 0. 0. 0. 0. 0. 0. 0. 0. 0. 0. 0. 0. 0. 0. 0. 0. 0.\n",
      " 0. 0. 0. 0. 0. 0. 0. 0. 0. 0. 0. 0. 0. 0. 0. 0. 0. 0. 0. 0. 0. 0. 0. 0.\n",
      " 0. 0. 0. 0. 0. 0. 0. 0. 0. 0. 0. 0. 0. 0. 0. 0. 0. 0. 0. 0. 0. 0. 0. 0.\n",
      " 0. 0. 0. 0. 0. 0. 0. 0. 0. 0. 0. 0. 0. 0. 0. 0. 0. 0. 0. 0. 0. 0. 0. 0.\n",
      " 0. 0. 0. 0. 0. 0. 0. 0. 0.]\n",
      "[-25.11886432 -24.06508386 -23.05551134 -22.08829216 -21.16164952\n",
      " -20.27388117 -19.42335626 -18.60851237 -17.8278526  -17.07994289\n",
      " -16.3634093  -15.67693555 -15.01926058 -14.38917623 -13.78552502\n",
      " -13.20719804 -12.6531329  -12.12231176 -11.6137595  -11.1265419\n",
      " -10.65976393 -10.21256812  -9.78413296  -9.3736714   -8.98042943\n",
      "  -8.60368465  -8.24274497  -7.89694735  -7.56565654  -7.24826397\n",
      "  -6.94418657  -6.65286575  -6.37376635  -6.10637566  -5.85020248\n",
      "  -5.60477622  -5.36964601  -5.14437994  -4.92856417  -4.72180225\n",
      "  -4.52371435  -4.33393659  -4.15212034  -3.97793161  -3.81105039\n",
      "  -3.65117014  -3.49799714  -3.35125002  -3.2106592   -3.07596641\n",
      "  -2.94692421  -2.82329557  -2.70485336  -2.59138002  -2.48266708\n",
      "  -2.37851483  -2.27873196  -2.18313515  -2.0915488   -2.00380466\n",
      "  -1.91974153  -1.83920501  -1.76204713  -1.68812616  -1.6173063\n",
      "  -1.54945746  -1.484455    -1.42217951  -1.36251658  -1.30535662\n",
      "  -1.25059461  -1.19812998  -1.14786632  -1.09971131  -1.05357649\n",
      "  -1.00937711  -0.96703197  -0.92646328  -0.88759652  -0.85036028\n",
      "  -0.81468618  -0.78050866  -0.74776495  -0.7163949   -0.68634088\n",
      "  -0.65754767  -0.62996239  -0.60353436  -0.57821504  -0.5539579\n",
      "  -0.5307184   -0.50845383  -0.4871233   -0.46668762  -0.44710925\n",
      "  -0.42835224  -0.41038211  -0.39316586   0.        ]\n"
     ]
    }
   ],
   "source": [
    "print(densit)\n",
    "print(ydinp)"
   ]
  },
  {
   "cell_type": "code",
   "execution_count": 13,
   "metadata": {},
   "outputs": [
    {
     "data": {
      "image/png": "[encoded data removed]",
      "text/plain": [
       "<Figure size 648x576 with 1 Axes>"
      ]
     },
     "metadata": {
      "needs_background": "light"
     },
     "output_type": "display_data"
    }
   ],
   "source": [
    "# Plot \n",
    "plt.figure(figsize=(9,8))\n",
    "plt.scatter(xdinp,ydinp, s=100)\n",
    "#plt.scatter(radius,densit)\n",
    "plt.show()"
   ]
  },
  {
   "cell_type": "markdown",
   "metadata": {},
   "source": [
    "## Integration"
   ]
  },
  {
   "cell_type": "code",
   "execution_count": 14,
   "metadata": {},
   "outputs": [],
   "source": [
    "# Integrate inner function\n",
    "innerfunc2 = lambda z,r,u,z0,mode: innerfunc(r,u,z,z0,mode)\n",
    "innerintegr1 = lambda r,u,z0,mode: quad(innerfunc2, 0, np.inf, args=(r,u,z0,mode,))[0]"
   ]
  },
  {
   "cell_type": "code",
   "execution_count": 15,
   "metadata": {},
   "outputs": [],
   "source": [
    "# Integrate outer function\n",
    "innerintegr2 = lambda u,r,z0,mode: innerintegr1(r,u,z0,mode)\n",
    "radialforce = lambda r,z0,mode: quad(innerintegr2, 0.1, 125, args=(r,z0,mode,))[0]"
   ]
  },
  {
   "cell_type": "markdown",
   "metadata": {},
   "source": [
    "## Velocity"
   ]
  },
  {
   "cell_type": "code",
   "execution_count": 16,
   "metadata": {},
   "outputs": [
    {
     "name": "stderr",
     "output_type": "stream",
     "text": [
      "C:\\Users\\JB\\AppData\\Local\\Continuum\\anaconda3\\lib\\site-packages\\ipykernel_launcher.py:3: RuntimeWarning: invalid value encountered in double_scalars\n",
      "  This is separate from the ipykernel package so we can avoid doing imports until\n",
      "C:\\Users\\JB\\AppData\\Local\\Continuum\\anaconda3\\lib\\site-packages\\ipykernel_launcher.py:12: RuntimeWarning: overflow encountered in double_scalars\n",
      "  if sys.path[0] == '':\n",
      "C:\\Users\\JB\\AppData\\Local\\Continuum\\anaconda3\\lib\\site-packages\\ipykernel_launcher.py:11: RuntimeWarning: overflow encountered in cosh\n",
      "  # This is added back by InteractiveShellApp.init_path()\n",
      "C:\\Users\\JB\\AppData\\Local\\Continuum\\anaconda3\\lib\\site-packages\\scipy\\integrate\\quadpack.py:385: IntegrationWarning: The occurrence of roundoff error is detected, which prevents \n",
      "  the requested tolerance from being achieved.  The error may be \n",
      "  underestimated.\n",
      "  warnings.warn(msg, IntegrationWarning)\n"
     ]
    }
   ],
   "source": [
    "radialforce = np.vectorize(radialforce)\n",
    "velocs = np.sqrt(r*radialforce(r,z0,mode))"
   ]
  },
  {
   "cell_type": "markdown",
   "metadata": {},
   "source": [
    "## Plot"
   ]
  },
  {
   "cell_type": "code",
   "execution_count": 17,
   "metadata": {},
   "outputs": [
    {
     "data": {
      "image/png": "[encoded data removed]",
      "text/plain": [
       "<Figure size 648x576 with 1 Axes>"
      ]
     },
     "metadata": {
      "needs_background": "light"
     },
     "output_type": "display_data"
    }
   ],
   "source": [
    "plt.figure(figsize=(9.0,8.0))             \n",
    "plt.scatter(radius, velocs, linestyle='solid', label='Gas Velocity')\n",
    "plt.axis('tight');\n",
    "plt.title('NGC 5533')\n",
    "plt.xlabel('Radius (KPC)', fontsize=14)\n",
    "plt.ylabel('Velocity (KM/S)', fontsize=14)\n",
    "plt.legend(fontsize=16)\n",
    "plt.show()"
   ]
  },
  {
   "cell_type": "code",
   "execution_count": 18,
   "metadata": {},
   "outputs": [
    {
     "name": "stdout",
     "output_type": "stream",
     "text": [
      "[1.00000000e-12 4.28571429e-01 8.57142857e-01 1.28571429e+00\n",
      " 1.71428571e+00 2.14285714e+00 2.57142857e+00 3.00000000e+00\n",
      " 3.42857143e+00 3.85714286e+00 4.28571429e+00 4.71428571e+00\n",
      " 5.14285714e+00 5.57142857e+00 6.00000000e+00 6.42857143e+00\n",
      " 6.85714286e+00 7.28571429e+00 7.71428571e+00 8.14285714e+00\n",
      " 8.57142857e+00 9.00000000e+00 9.42857143e+00 9.85714286e+00\n",
      " 1.02857143e+01 1.07142857e+01 1.11428571e+01 1.15714286e+01\n",
      " 1.20000000e+01 1.24285714e+01 1.28571429e+01 1.32857143e+01\n",
      " 1.37142857e+01 1.41428571e+01 1.45714286e+01 1.50000000e+01\n",
      " 1.54285714e+01 1.58571429e+01 1.62857143e+01 1.67142857e+01\n",
      " 1.71428571e+01 1.75714286e+01 1.80000000e+01 1.84285714e+01\n",
      " 1.88571429e+01 1.92857143e+01 1.97142857e+01 2.01428571e+01\n",
      " 2.05714286e+01 2.10000000e+01 2.14285714e+01 2.18571429e+01\n",
      " 2.22857143e+01 2.27142857e+01 2.31428571e+01 2.35714286e+01\n",
      " 2.40000000e+01 2.44285714e+01 2.48571429e+01 2.52857143e+01\n",
      " 2.57142857e+01 2.61428571e+01 2.65714286e+01 2.70000000e+01\n",
      " 2.74285714e+01 2.78571429e+01 2.82857143e+01 2.87142857e+01\n",
      " 2.91428571e+01 2.95714286e+01 3.00000000e+01 3.04285714e+01\n",
      " 3.08571429e+01 3.12857143e+01 3.17142857e+01 3.21428571e+01\n",
      " 3.25714286e+01 3.30000000e+01 3.34285714e+01 3.38571429e+01\n",
      " 3.42857143e+01 3.47142857e+01 3.51428571e+01 3.55714286e+01\n",
      " 3.60000000e+01 3.64285714e+01 3.68571429e+01 3.72857143e+01\n",
      " 3.77142857e+01 3.81428571e+01 3.85714286e+01 3.90000000e+01\n",
      " 3.94285714e+01 3.98571429e+01 4.02857143e+01 4.07142857e+01\n",
      " 4.11428571e+01 4.15714286e+01 4.20000000e+01]\n",
      "[       nan 0.02487395 0.04988547 0.07502384 0.1002809  0.12564974\n",
      " 0.15112438 0.17669961 0.20237081 0.22813381 0.25398486 0.27992051\n",
      " 0.30593758 0.33203312 0.35820439 0.38444884 0.41076403 0.4371477\n",
      " 0.46359768 0.49011192 0.51668847 0.54332546 0.57002111 0.59677371\n",
      " 0.6235816  0.6504432  0.67735699 0.70432149 0.73133527 0.75839695\n",
      " 0.78550518 0.81265867 0.83985614 0.86709637 0.89437816 0.92170033\n",
      " 0.94906175 0.97646128 1.00389787 1.03137044 1.05887791 1.08641929\n",
      " 1.11399358 1.14159978 1.16923697 1.19690409 1.22460032 1.2523247\n",
      " 1.28007634 1.30785433 1.33565781 1.36348592 1.39133781 1.41921263\n",
      " 1.44710956 1.47502779 1.50296651 1.53092492 1.55890224 1.58689768\n",
      " 1.61491047 1.64293986 1.67098509 1.69904541 1.72712022 1.75520838\n",
      " 1.78330956 1.81142292 1.83954774 1.86768331 1.89582891 1.92398388\n",
      " 1.95214747 1.98031904 2.00849789 2.03668334 2.06487471 2.09307132\n",
      " 2.12127252 2.14947763 2.17768599 2.20589695 2.23410983 2.26232398\n",
      " 2.2905388  2.31875358 2.3469677  2.37518049 2.40339135 2.43159961\n",
      " 2.45980464 2.48800579 2.51620243 2.54439393 2.57257966 2.60075897\n",
      " 2.62893123 2.65709582 2.6852521 ]\n"
     ]
    }
   ],
   "source": [
    "print(radius)\n",
    "print(velocs)"
   ]
  },
  {
   "cell_type": "code",
   "execution_count": null,
   "metadata": {},
   "outputs": [],
   "source": []
  }
 ],
 "metadata": {
  "kernelspec": {
   "display_name": "Python 3",
   "language": "python",
   "name": "python3"
  },
  "language_info": {
   "codemirror_mode": {
    "name": "ipython",
    "version": 3
   },
   "file_extension": ".py",
   "mimetype": "text/x-python",
   "name": "python",
   "nbconvert_exporter": "python",
   "pygments_lexer": "ipython3",
   "version": "3.7.1"
  }
 },
 "nbformat": 4,
 "nbformat_minor": 4
}
