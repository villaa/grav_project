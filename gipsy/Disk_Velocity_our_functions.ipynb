{
 "cells": [
  {
   "cell_type": "code",
   "execution_count": 1,
   "metadata": {},
   "outputs": [],
   "source": [
    "import numpy as np\n",
    "import matplotlib.pyplot as plt\n",
    "from scipy.integrate import quad\n",
    "from scipy.special import ellipe\n",
    "from scipy.special import ellipk\n",
    "from scipy.interpolate import lagrange\n",
    "from scipy.interpolate import InterpolatedUnivariateSpline"
   ]
  },
  {
   "cell_type": "markdown",
   "metadata": {},
   "source": [
    "## User input"
   ]
  },
  {
   "cell_type": "code",
   "execution_count": 2,
   "metadata": {},
   "outputs": [],
   "source": [
    "user = False\n",
    "raddens = \"../data/gasmsd_kpc_linear.txt\"      # Gas density with 2 columns, units: KPC, MSUN/PC^2\n",
    "units = 'KPC,MSUN/PC**2'\n",
    "zlaw = 2                            # Case 2: sech-squared density law\n",
    "mode = zlaw                         # Density distribution mode\n",
    "radii = np.arange(0.001,13,0.1)\n",
    "\n",
    "# Parameters\n",
    "G = 0.00000431158                   # Gravitational constant (KPC/MSUN*(KM/S)^2)  \n",
    "CONSTANT = 2.0 * np.pi * G / 3.0\n",
    "EPS = 1\n",
    "z0 = 0.93\n",
    "distance = 16.5                    # Distance in MPC\n",
    "h = 10.0                           # GUESS: radial scale-length (KPC)\n",
    "dens0 = 10**2.4                    # GUESS: central surface density (MSUN/PC^2): from Fig 8. Paper 13"
   ]
  },
  {
   "cell_type": "markdown",
   "metadata": {},
   "source": [
    "## Density profile"
   ]
  },
  {
   "cell_type": "code",
   "execution_count": 3,
   "metadata": {},
   "outputs": [],
   "source": [
    "def DensityProfile(user=user,raddens=raddens,units=units,mode=mode,dens0=dens0,h=h):\n",
    "    \n",
    "    ##################################\n",
    "    # Case 1: Import density profile #\n",
    "    ##################################\n",
    "    \n",
    "    if user == True:\n",
    "        if units == 'KPC,MSUN/PC**2':\n",
    "            mudata = np.loadtxt(raddens)\n",
    "            if np.shape(np.loadtxt(raddens))[1] == 2:     # this just checks if the file has 2 or 4 columns\n",
    "                xdinp, ydinp = mudata.T\n",
    "            if np.shape(np.loadtxt(raddens))[1] == 4:\n",
    "                xdinp, ydinp, xerror, yerror = mudata.T\n",
    "\n",
    "        if units == 'ARCSEC,MAG/ARCSEC**2':\n",
    "            mudata = np.loadtxt(raddens)\n",
    "            if np.shape(np.loadtxt(raddens))[1] == 2:\n",
    "                xdinp, ydinp = mudata.T\n",
    "            if np.shape(np.loadtxt(raddens))[1] == 4:\n",
    "                xdinp, ydinp, xerror, yerror = mudata.T\n",
    "\n",
    "            # Conversion\n",
    "            # ARCSEC to KPC\n",
    "            xdinp = 4.8481E-3 * distance * xdinp\n",
    "\n",
    "            # MAG/ARCSEC^2 to MSUN/PC^2\n",
    "            ydinp = 10**(-0.4 * ydinp)\n",
    "            ydinp = (4.8481E-3 * distance)**(-2) * ydinp\n",
    "\n",
    "        LEN1 = len(xdinp)                   # GUESS: defined as length of radius array\n",
    "        LEN2 = len(ydinp)                   # GUESS: defined as lenght of density array\n",
    "        ndinp = LEN2                        # number of surface densities. GUESS: length of density array again\n",
    "        rcut = xdinp[ndinp-1]               # takes second to last radius value\n",
    "        delta = rcut - xdinp[ndinp-2]       # difference between the second to last radius value and the third to last radius value\n",
    "    \n",
    "    \n",
    "    #####################################\n",
    "    # Case 2: Calculate density profile #\n",
    "    #####################################\n",
    "    \n",
    "    if user == False:\n",
    "    \n",
    "        # User need to provide dens0 (in MSUN/PC^2) and h (in KPC)\n",
    "        dens0 = dens0           # central density of exponential DISK\n",
    "        # convert disk central surface brightness from MAG/ARCSEC^2 to MSUN/KPC^2\n",
    "        #dens0 = 10**(-0.4 * dens0)       \n",
    "        #dens0 = (4.8481E-3 * distance)**(-2) * dens0\n",
    "        #dens0 = dens0 * 1.0e6        \n",
    "        #print(\"dens0 = {:.4}\".format(dens0))\n",
    "\n",
    "        h = h                   # radial scale length\n",
    "        z0 = 0.2*h              # scale height of DISK in kpc [0.0]. \n",
    "                                  # note: The integration in Z is the most time consuming part\n",
    "                                  # of the calculation. For example it takes about 0.2 seconds\n",
    "                                  # to calculate a point on the rotation curve for a disk with zero\n",
    "                                  # thickness, and about 2 seconds for a disk with non-zero thickness.\n",
    "        rcut = 4*h              # cutoff radius\n",
    "        delta = 0.2*h           # softening parameter of DISK in kpc [0.0]. It may be wise\n",
    "                                  # to have a non-zero softening in case of a truncated disk, \n",
    "                                  # because then the sharp features in the calculated rotation \n",
    "                                  # curve will be smoothed out. A softening parameter of about \n",
    "                                  # 0.2 scale lengths would be sufficient.\n",
    "\n",
    "        # Now calculate the surface densities\n",
    "        LEN1 = 100\n",
    "        LEN2 = 100\n",
    "        xdinp = np.zeros(LEN2-1)    # radii surface density\n",
    "        ydinp = np.zeros(LEN2-1)    # surface densities\n",
    "        rdinp = rcut + delta      # max radius, where galaxy ends\n",
    "        ndinp = LEN2 - 1          # number of surface densities\n",
    "        xstep = rdinp / (ndinp - 1)        # step in radius\n",
    "\n",
    "        i = 0                              # counter \n",
    "        while i < ndinp:\n",
    "            # Casertano's piecewise function, where do they calculate partial derivative drho/du??\n",
    "            xdinp[i] = x = xstep * i\n",
    "            if x >= rcut and delta > 0.0:\n",
    "                #y = -(1/delta) * dens0 * np.exp(-rcut/h)\n",
    "                y = dens0 * np.exp(-rcut/h)*(rcut+delta-x)/delta\n",
    "            elif x >= rdinp:\n",
    "                y = 0.0                    # end of disk\n",
    "            else:\n",
    "                #y = -(1/h) * dens0 * np.exp(-x/h) # exponential disk\n",
    "                y = dens0 * np.exp(-x/h)\n",
    "            ydinp[i] = y\n",
    "            i += 1\n",
    "    return xdinp, ydinp, ndinp, rcut, delta, LEN1, LEN2"
   ]
  },
  {
   "cell_type": "code",
   "execution_count": 4,
   "metadata": {},
   "outputs": [
    {
     "data": {
      "image/png": "[encoded data removed]",
      "text/plain": [
       "<Figure size 648x576 with 1 Axes>"
      ]
     },
     "metadata": {
      "needs_background": "light"
     },
     "output_type": "display_data"
    }
   ],
   "source": [
    "# Plot \n",
    "plt.figure(figsize=(9,8))\n",
    "xdinp_imported = DensityProfile(user=True)[0]\n",
    "ydinp_imported = DensityProfile(user=True)[1]\n",
    "plt.scatter(xdinp_imported,ydinp_imported, label=\"Imported Density Profile\")\n",
    "\n",
    "xdinp_calculated = DensityProfile(user=False)[0]\n",
    "ydinp_calculated = DensityProfile(user=False)[1]\n",
    "plt.scatter(xdinp_calculated,ydinp_calculated, label=\"Calculated Density Profile\")\n",
    "plt.xlabel(\"Radius (KPC)\")\n",
    "plt.ylabel(\"Surface Density (MSUN/$PC^2$)\")\n",
    "plt.legend()\n",
    "plt.show()"
   ]
  },
  {
   "cell_type": "markdown",
   "metadata": {},
   "source": [
    "## Define radius and density points"
   ]
  },
  {
   "cell_type": "code",
   "execution_count": 5,
   "metadata": {},
   "outputs": [],
   "source": [
    "xdinp = DensityProfile()[0]\n",
    "ydinp = DensityProfile()[1]"
   ]
  },
  {
   "cell_type": "markdown",
   "metadata": {},
   "source": [
    "## Density distribution"
   ]
  },
  {
   "cell_type": "code",
   "execution_count": 6,
   "metadata": {},
   "outputs": [],
   "source": [
    "# There are three distribution laws possible; \n",
    "# the Van der Kruit and Searle law (SECH-SQUARED): D(Z)=sech(Z/Z0)**2/Z0,\n",
    "# an exponential density law (EXPONENTIAL): D(Z)=exp(-Z/Z0)/Z0 \n",
    "# a simple sech law (SIMPLE-SECH): D(Z)=2*sech(Z/Z0)/Z0/PI. \n",
    "\n",
    "# case 1 is a flat disk, z0 = 0\n",
    "#####################################\n",
    "\n",
    "# Sech-squared law:\n",
    "def denzed_case2(z,z0): \n",
    "    r = np.cosh(z / z0)\n",
    "    r = r * r * z0                 # This is multiplied by z0 but in Caserano Eq 2 there isn't any z0\n",
    "    r = 1.0 / r\n",
    "    return r\n",
    "\n",
    "# Exponential:\n",
    "def denzed_case3(z,z0):\n",
    "    r = np.exp(-z / z0) /z0\n",
    "    return r\n",
    "\n",
    "# Simple-sech\n",
    "def denzed_case4(z,z0):\n",
    "    r = 2 / z0 / np.pi / np.cosh(z/z0)\n",
    "    return r\n",
    "\n",
    "def denzed(z,z0,mode):\n",
    "    #mode = input(\"Which Z density law? 2 or 3 or 4: \")\n",
    "    #The above results in the user being asked for every point entered; this was likely used as a backend.\n",
    "    if mode == 2:\n",
    "        return denzed_case2(z,z0)\n",
    "    if mode == 3:\n",
    "        return denzed_case2(z,z0)\n",
    "    if mode == 4:\n",
    "        return denzed_case4(z,z0)\n",
    "    else:\n",
    "        return np.nan\n",
    "        print(\"Error occured in denzed; no mode selected. Returned nan.\")"
   ]
  },
  {
   "cell_type": "code",
   "execution_count": 7,
   "metadata": {
    "scrolled": true
   },
   "outputs": [],
   "source": [
    "# Casertano Eq 2\n",
    "def drho_rz(densit,z,z0,mode):\n",
    "    return densit * denzed(z,z0,mode)  # In Casertano's eq 2, the cosh term is multiplied by rho0(r) \n",
    "                                       # so I assume this is the same as the calculated density array"
   ]
  },
  {
   "cell_type": "markdown",
   "metadata": {},
   "source": [
    "## Functions"
   ]
  },
  {
   "cell_type": "code",
   "execution_count": 8,
   "metadata": {},
   "outputs": [],
   "source": [
    "# Casertano Eq 5\n",
    "def px(r,u,z):\n",
    "    x = (r**2 + u**2 + z**2)/(2*r*u)\n",
    "    return x - (np.sqrt((x**2)-1))"
   ]
  },
  {
   "cell_type": "code",
   "execution_count": 9,
   "metadata": {},
   "outputs": [],
   "source": [
    "# Complete elliptic integral\n",
    "def K(r,u,z):\n",
    "    return ellipk(px(r,u,z)) - ellipe(px(r,u,z))"
   ]
  },
  {
   "cell_type": "code",
   "execution_count": 10,
   "metadata": {},
   "outputs": [],
   "source": [
    "# Inner function\n",
    "def innerfunc(r,u,z,densit,z0,mode):\n",
    "    return (4 * np.pi * G) * (drho_rz(densit,z,z0,mode) * K(r,u,z) * 2 * np.sqrt(u)) / (np.pi * np.sqrt(r * px(r,u,z)))"
   ]
  },
  {
   "cell_type": "markdown",
   "metadata": {},
   "source": [
    "## Interpolation"
   ]
  },
  {
   "cell_type": "code",
   "execution_count": 11,
   "metadata": {},
   "outputs": [],
   "source": [
    "def interpd(x,y):\n",
    "    #return lagrange(x,y)                # Lagrange interpolation didn't work well so I used Univariate Spline\n",
    "    return InterpolatedUnivariateSpline(x,y,k=5)\n",
    "\n",
    "# Calculate the density values at the sampling radii, using Lagrange Interpolation\n",
    "polynomial = interpd(xdinp,ydinp)        # define the polynomial that's calculated, type: numpy.poly1d\n",
    "densit = polynomial(radii)               # evaluate values at the sampling radii"
   ]
  },
  {
   "cell_type": "code",
   "execution_count": 12,
   "metadata": {},
   "outputs": [
    {
     "name": "stdout",
     "output_type": "stream",
     "text": [
      "[251.16352554 248.66440673 246.19015454 243.74052156 241.31526284\n",
      " 238.91413585 236.53690048 234.183319   231.85315604 229.5461786\n",
      " 227.26215596 225.00085972 222.76206376 220.54554419 218.35107936\n",
      " 216.17844982 214.02743831 211.89782971 209.78941108 207.70197156\n",
      " 205.63530241 203.58919697 201.56345061 199.55786077 197.57222688\n",
      " 195.60635037 193.66003467 191.73308512 189.82530905 187.93651567\n",
      " 186.06651609 184.21512332 182.38215222 180.56741949 178.77074364\n",
      " 176.99194502 175.23084574 173.4872697  171.76104252 170.05199159\n",
      " 168.359946   166.68473655 165.02619571 163.38415763 161.7584581\n",
      " 160.14893455 158.55542602 156.97777317 155.41581823 153.869405\n",
      " 152.33837884 150.82258665 149.32187684 147.83609934 146.36510557\n",
      " 144.90874844 143.4668823  142.03936297 140.62604769 139.22679514\n",
      " 137.84146538 136.46991988 135.11202149 133.76763442 132.43662421\n",
      " 131.11885779 129.81420335 128.52253045 127.2437099  125.97761383\n",
      " 124.72411563 123.48308995 122.25441267 121.03796094 119.83361311\n",
      " 118.64124873 117.46074859 116.29199461 115.13486993 113.98925883\n",
      " 112.85504676 111.73212028 110.62036711 109.51967606 108.42993708\n",
      " 107.35104118 106.28288047 105.22534814 104.17833843 103.14174665\n",
      " 102.11546912 101.09940322 100.09344735  99.09750091  98.1114643\n",
      "  97.13523892  96.16872715  95.21183232  94.26445876  93.32651173\n",
      "  92.39789742  91.47852298  90.56829647  89.66712686  88.77492404\n",
      "  87.89159879  87.01706277  86.15122853  85.29400948  84.4453199\n",
      "  83.60507493  82.77319054  81.94958353  81.13417155  80.32687305\n",
      "  79.52760731  78.7362944   77.95285518  77.17721131  76.40928523\n",
      "  75.64900014  74.89628001  74.15104957  73.4132343   72.68276041\n",
      "  71.95955486  71.24354533  70.53466021  69.83282861  69.13798036]\n",
      "[251.18864315 240.65083857 230.55511338 220.8829216  211.61649524\n",
      " 202.73881173 194.23356264 186.08512367 178.27852603 170.79942887\n",
      " 163.63409296 156.76935547 150.19260577 143.89176227 137.85525022\n",
      " 132.07198044 126.53132899 121.22311759 116.13759498 111.26541897\n",
      " 106.5976393  102.12568118  97.84132955  93.736714    89.80429428\n",
      "  86.03684646  82.4274497   78.96947347  75.65656542  72.48263967\n",
      "  69.44186568  66.5286575   63.73766351  61.06375662  58.50202483\n",
      "  56.04776217  53.69646015  51.44379937  49.28564167  47.21802247\n",
      "  45.23714353  43.33936594  41.52120345  39.77931606  38.11050392\n",
      "  36.51170137  34.97997139  33.51250018  32.10659196  30.75966406\n",
      "  29.46924215  28.2329557   27.04853364  25.91380017  24.82667075\n",
      "  23.78514833  22.7873196   21.83135153  20.91548801  20.03804656\n",
      "  19.19741533  18.39205005  17.62047126  16.88126156  16.173063\n",
      "  15.49457461  14.84455     14.22179507  13.62516579  13.05356617\n",
      "  12.50594615  11.98129975  11.47866319  10.99711312  10.53576492\n",
      "  10.09377108   9.67031966   9.26463277   8.87596516   8.50360284\n",
      "   8.14686177   7.80508662   7.47764953   7.16394901   6.86340877\n",
      "   6.57547672   6.29962393   6.03534364   5.78215038   5.53957902\n",
      "   5.30718396   5.08453827   4.87123296   4.66687619   3.94344041\n",
      "   2.95758031   1.97172021   0.9858601    0.        ]\n"
     ]
    }
   ],
   "source": [
    "print(densit)\n",
    "print(ydinp)"
   ]
  },
  {
   "cell_type": "code",
   "execution_count": 13,
   "metadata": {},
   "outputs": [
    {
     "data": {
      "image/png": "[encoded data removed]",
      "text/plain": [
       "<Figure size 648x576 with 1 Axes>"
      ]
     },
     "metadata": {
      "needs_background": "light"
     },
     "output_type": "display_data"
    }
   ],
   "source": [
    "# Plot \n",
    "plt.figure(figsize=(9,8))\n",
    "plt.scatter(xdinp,ydinp, label=\"Given radius and density data\", s=100)\n",
    "plt.scatter(radii,densit, label=\"Sampling radius and density data\")\n",
    "plt.xlabel(\"Radius (KPC)\")\n",
    "plt.ylabel(\"Surface Density (MSUN/$PC^2$)\")\n",
    "plt.legend()\n",
    "plt.show()"
   ]
  },
  {
   "cell_type": "markdown",
   "metadata": {},
   "source": [
    "## Integration"
   ]
  },
  {
   "cell_type": "code",
   "execution_count": 14,
   "metadata": {},
   "outputs": [],
   "source": [
    "# Integrate inner function\n",
    "innerfunc2 = lambda z,r,u,densit,z0,mode: innerfunc(r,u,z,densit,z0,mode)\n",
    "innerintegr1 = lambda r,u,densit,z0,mode: quad(innerfunc2, 0, np.inf, args=(r,u,densit,z0,mode,))[0]"
   ]
  },
  {
   "cell_type": "code",
   "execution_count": 15,
   "metadata": {},
   "outputs": [],
   "source": [
    "# Integrate outer function\n",
    "innerintegr2 = lambda u,r,densit,z0,mode: innerintegr1(r,u,densit,z0,mode)\n",
    "radialforce = lambda r,densit,z0,mode: quad(innerintegr2, 0, 125, args=(r,densit,z0,mode,))[0]"
   ]
  },
  {
   "cell_type": "markdown",
   "metadata": {},
   "source": [
    "## Velocity"
   ]
  },
  {
   "cell_type": "code",
   "execution_count": 16,
   "metadata": {},
   "outputs": [
    {
     "name": "stderr",
     "output_type": "stream",
     "text": [
      "C:\\Users\\JB\\AppData\\Local\\Continuum\\anaconda3\\lib\\site-packages\\ipykernel_launcher.py:12: RuntimeWarning: overflow encountered in double_scalars\n",
      "  if sys.path[0] == '':\n",
      "C:\\Users\\JB\\AppData\\Local\\Continuum\\anaconda3\\lib\\site-packages\\ipykernel_launcher.py:11: RuntimeWarning: overflow encountered in cosh\n",
      "  # This is added back by InteractiveShellApp.init_path()\n",
      "C:\\Users\\JB\\AppData\\Local\\Continuum\\anaconda3\\lib\\site-packages\\ipykernel_launcher.py:3: RuntimeWarning: invalid value encountered in double_scalars\n",
      "  This is separate from the ipykernel package so we can avoid doing imports until\n",
      "C:\\Users\\JB\\AppData\\Local\\Continuum\\anaconda3\\lib\\site-packages\\scipy\\integrate\\quadpack.py:385: IntegrationWarning: The occurrence of roundoff error is detected, which prevents \n",
      "  the requested tolerance from being achieved.  The error may be \n",
      "  underestimated.\n",
      "  warnings.warn(msg, IntegrationWarning)\n",
      "C:\\Users\\JB\\AppData\\Local\\Continuum\\anaconda3\\lib\\site-packages\\scipy\\integrate\\quadpack.py:385: IntegrationWarning: The maximum number of subdivisions (50) has been achieved.\n",
      "  If increasing the limit yields no improvement it is advised to analyze \n",
      "  the integrand in order to determine the difficulties.  If the position of a \n",
      "  local difficulty can be determined (singularity, discontinuity) one will \n",
      "  probably gain from splitting up the interval and calling the integrator \n",
      "  on the subranges.  Perhaps a special-purpose integrator should be used.\n",
      "  warnings.warn(msg, IntegrationWarning)\n"
     ]
    }
   ],
   "source": [
    "radialforce = np.vectorize(radialforce)\n",
    "velocs = np.sqrt(radii*radialforce(radii,densit,z0,mode))"
   ]
  },
  {
   "cell_type": "markdown",
   "metadata": {},
   "source": [
    "## Plot"
   ]
  },
  {
   "cell_type": "code",
   "execution_count": 17,
   "metadata": {},
   "outputs": [
    {
     "data": {
      "image/png": "[encoded data removed]",
      "text/plain": [
       "<Figure size 648x576 with 1 Axes>"
      ]
     },
     "metadata": {
      "needs_background": "light"
     },
     "output_type": "display_data"
    }
   ],
   "source": [
    "plt.figure(figsize=(9.0,8.0))             \n",
    "plt.scatter(radii, velocs, linestyle='solid', label='Gas Velocity')\n",
    "plt.axis('tight');\n",
    "plt.title('NGC 5005')\n",
    "plt.xlabel('Radius (KPC)', fontsize=14)\n",
    "plt.ylabel('Velocity (KM/S)', fontsize=14)\n",
    "plt.legend(fontsize=16)\n",
    "plt.show()"
   ]
  },
  {
   "cell_type": "code",
   "execution_count": 18,
   "metadata": {},
   "outputs": [
    {
     "name": "stdout",
     "output_type": "stream",
     "text": [
      "[1.0000e-03 1.0100e-01 2.0100e-01 3.0100e-01 4.0100e-01 5.0100e-01\n",
      " 6.0100e-01 7.0100e-01 8.0100e-01 9.0100e-01 1.0010e+00 1.1010e+00\n",
      " 1.2010e+00 1.3010e+00 1.4010e+00 1.5010e+00 1.6010e+00 1.7010e+00\n",
      " 1.8010e+00 1.9010e+00 2.0010e+00 2.1010e+00 2.2010e+00 2.3010e+00\n",
      " 2.4010e+00 2.5010e+00 2.6010e+00 2.7010e+00 2.8010e+00 2.9010e+00\n",
      " 3.0010e+00 3.1010e+00 3.2010e+00 3.3010e+00 3.4010e+00 3.5010e+00\n",
      " 3.6010e+00 3.7010e+00 3.8010e+00 3.9010e+00 4.0010e+00 4.1010e+00\n",
      " 4.2010e+00 4.3010e+00 4.4010e+00 4.5010e+00 4.6010e+00 4.7010e+00\n",
      " 4.8010e+00 4.9010e+00 5.0010e+00 5.1010e+00 5.2010e+00 5.3010e+00\n",
      " 5.4010e+00 5.5010e+00 5.6010e+00 5.7010e+00 5.8010e+00 5.9010e+00\n",
      " 6.0010e+00 6.1010e+00 6.2010e+00 6.3010e+00 6.4010e+00 6.5010e+00\n",
      " 6.6010e+00 6.7010e+00 6.8010e+00 6.9010e+00 7.0010e+00 7.1010e+00\n",
      " 7.2010e+00 7.3010e+00 7.4010e+00 7.5010e+00 7.6010e+00 7.7010e+00\n",
      " 7.8010e+00 7.9010e+00 8.0010e+00 8.1010e+00 8.2010e+00 8.3010e+00\n",
      " 8.4010e+00 8.5010e+00 8.6010e+00 8.7010e+00 8.8010e+00 8.9010e+00\n",
      " 9.0010e+00 9.1010e+00 9.2010e+00 9.3010e+00 9.4010e+00 9.5010e+00\n",
      " 9.6010e+00 9.7010e+00 9.8010e+00 9.9010e+00 1.0001e+01 1.0101e+01\n",
      " 1.0201e+01 1.0301e+01 1.0401e+01 1.0501e+01 1.0601e+01 1.0701e+01\n",
      " 1.0801e+01 1.0901e+01 1.1001e+01 1.1101e+01 1.1201e+01 1.1301e+01\n",
      " 1.1401e+01 1.1501e+01 1.1601e+01 1.1701e+01 1.1801e+01 1.1901e+01\n",
      " 1.2001e+01 1.2101e+01 1.2201e+01 1.2301e+01 1.2401e+01 1.2501e+01\n",
      " 1.2601e+01 1.2701e+01 1.2801e+01 1.2901e+01]\n",
      "[       nan        nan        nan        nan 0.57274187 0.63745808\n",
      " 0.69519984 0.74759293 0.79570239 0.84027189 0.88184577 0.92083707\n",
      " 0.9575684  0.99229765 1.02523504 1.05655474 1.08640312 1.11490462\n",
      " 1.14216625 1.16828083 1.19332955 1.21738399 1.24050763 1.26275714\n",
      " 1.2841834  1.30483227 1.32474533 1.34396039 1.36251202 1.38043188\n",
      " 1.3977491  1.41449058 1.43068118 1.44634397 1.46150045 1.4761706\n",
      " 1.49037315 1.50412561 1.5174444  1.53034499 1.54284193 1.55494893\n",
      " 1.56667897 1.57804431 1.58905659 1.59972683 1.61006552 1.62008264\n",
      " 1.62978768 1.63918969 1.64829732 1.65711884 1.66566214 1.6739348\n",
      " 1.68194405 1.68969685 1.69719988 1.70445955 1.71148202 1.71827322\n",
      " 1.72483887 1.73118446 1.7373153  1.74323652 1.74895305 1.75446967\n",
      " 1.75979098 1.76492146 1.76986541 1.77462702 1.77921034 1.78361928\n",
      " 1.78785765 1.79192914 1.79583732 1.79958568 1.80317759 1.80661632\n",
      " 1.80990507 1.81304693 1.81604491 1.81890195 1.82162091 1.82420456\n",
      " 1.82665561 1.8289767  1.83117041 1.83323922 1.83518561 1.83701194\n",
      " 1.83872054 1.84031369 1.8417936  1.84316243 1.84442232 1.84557525\n",
      " 1.84662343 1.84756865 1.84841291 1.84915808 1.84980602 1.85035852\n",
      " 1.85081736 1.85118427 1.85146094 1.85164902 1.85175014 1.85176589\n",
      " 1.85169782 1.85154746 1.85131631 1.85100583 1.85061745 1.85015258\n",
      " 1.8496126  1.84899887 1.84831272 1.84755544 1.84672831 1.84583259\n",
      " 1.84486951 1.84384027 1.84274606 1.84158804 1.84036736 1.83908513\n",
      " 1.83774246 1.83634042 1.8348801  1.83336251]\n"
     ]
    }
   ],
   "source": [
    "print(radii)\n",
    "print(velocs)"
   ]
  },
  {
   "cell_type": "code",
   "execution_count": null,
   "metadata": {},
   "outputs": [],
   "source": []
  }
 ],
 "metadata": {
  "kernelspec": {
   "display_name": "Python 3",
   "language": "python",
   "name": "python3"
  },
  "language_info": {
   "codemirror_mode": {
    "name": "ipython",
    "version": 3
   },
   "file_extension": ".py",
   "mimetype": "text/x-python",
   "name": "python",
   "nbconvert_exporter": "python",
   "pygments_lexer": "ipython3",
   "version": "3.7.1"
  }
 },
 "nbformat": 4,
 "nbformat_minor": 4
}
