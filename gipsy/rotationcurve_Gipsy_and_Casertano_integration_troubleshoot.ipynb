{
 "cells": [
  {
   "cell_type": "code",
   "execution_count": 1,
   "metadata": {},
   "outputs": [],
   "source": [
    "import numpy as np\n",
    "import matplotlib.pyplot as plt\n",
    "from scipy.integrate import quad, nquad, dblquad, simps\n",
    "from scipy.special import ellipe, ellipk\n",
    "from scipy.interpolate import lagrange, InterpolatedUnivariateSpline\n",
    "from scipy.signal import savgol_filter"
   ]
  },
  {
   "cell_type": "markdown",
   "metadata": {},
   "source": [
    "## User input"
   ]
  },
  {
   "cell_type": "code",
   "execution_count": 2,
   "metadata": {},
   "outputs": [],
   "source": [
    "# Gas:\n",
    "# Conversion to linear scale was made in the notebook: grav_project/NGC_5005/Gas_from_mass_surface_density.ipynb\n",
    "raddens = \"../data/gasmsd_kpc_linear.txt\"      # Gas density with 2 columns, units: KPC, MSUN/PC^2\n",
    "maxkpc=11.0\n",
    "\n",
    "# Parameters\n",
    "z0 = 0.93\n",
    "# Constants\n",
    "G = 0.00000431158                   # Gravitational constant (KPC/MSUN*(KM/S)^2)  \n",
    "CONSTANT = 2.0 * np.pi * G / 3.0"
   ]
  },
  {
   "cell_type": "markdown",
   "metadata": {},
   "source": [
    "## Density profile, outputs: radii (array), densities (array), rcut (one #), delta (one #)"
   ]
  },
  {
   "cell_type": "code",
   "execution_count": 3,
   "metadata": {},
   "outputs": [],
   "source": [
    "def DensityProfile(raddens=raddens):\n",
    "    mudata = np.loadtxt(raddens)     \n",
    "    xdinp, ydinp = mudata.T\n",
    "    rcut = xdinp[len(xdinp)-1]               # rcut is the LAST radius value (?)\n",
    "    delta = rcut - xdinp[len(xdinp)-2]       # difference between the last two radius values\n",
    "    \n",
    "    return xdinp, ydinp, rcut, delta\n",
    "\n",
    "#defining these output values:\n",
    "# Radius\n",
    "xdinp = DensityProfile()[0]\n",
    "# Density\n",
    "ydinp = DensityProfile()[1]\n",
    "# Cutoff radius\n",
    "rcut = DensityProfile()[2]\n",
    "# Cutoff length\n",
    "delta = DensityProfile()[3]"
   ]
  },
  {
   "cell_type": "markdown",
   "metadata": {},
   "source": [
    "## Interpolation"
   ]
  },
  {
   "cell_type": "code",
   "execution_count": 4,
   "metadata": {},
   "outputs": [],
   "source": [
    "def interpd(x,y):\n",
    "    #return lagrange(x,y)                # Lagrange interpolation didn't work well so I used Univariate Spline\n",
    "    return InterpolatedUnivariateSpline(x,y,k=4)\n",
    "    \n",
    "# Calculate the density values at the sampling radii\n",
    "spline_rhor = interpd(xdinp,ydinp)        # define the polynomial that's calculated"
   ]
  },
  {
   "cell_type": "markdown",
   "metadata": {},
   "source": [
    "radii = np.arange(0.001,11,0.1)                # Sampling radii\n",
    "## Partial derivative / Smoothing"
   ]
  },
  {
   "cell_type": "code",
   "execution_count": 5,
   "metadata": {},
   "outputs": [
    {
     "name": "stdout",
     "output_type": "stream",
     "text": [
      "[1.0000e-03 1.0100e-01 2.0100e-01 3.0100e-01 4.0100e-01 5.0100e-01\n",
      " 6.0100e-01 7.0100e-01 8.0100e-01 9.0100e-01 1.0010e+00 1.1010e+00\n",
      " 1.2010e+00 1.3010e+00 1.4010e+00 1.5010e+00 1.6010e+00 1.7010e+00\n",
      " 1.8010e+00 1.9010e+00 2.0010e+00 2.1010e+00 2.2010e+00 2.3010e+00\n",
      " 2.4010e+00 2.5010e+00 2.6010e+00 2.7010e+00 2.8010e+00 2.9010e+00\n",
      " 3.0010e+00 3.1010e+00 3.2010e+00 3.3010e+00 3.4010e+00 3.5010e+00\n",
      " 3.6010e+00 3.7010e+00 3.8010e+00 3.9010e+00 4.0010e+00 4.1010e+00\n",
      " 4.2010e+00 4.3010e+00 4.4010e+00 4.5010e+00 4.6010e+00 4.7010e+00\n",
      " 4.8010e+00 4.9010e+00 5.0010e+00 5.1010e+00 5.2010e+00 5.3010e+00\n",
      " 5.4010e+00 5.5010e+00 5.6010e+00 5.7010e+00 5.8010e+00 5.9010e+00\n",
      " 6.0010e+00 6.1010e+00 6.2010e+00 6.3010e+00 6.4010e+00 6.5010e+00\n",
      " 6.6010e+00 6.7010e+00 6.8010e+00 6.9010e+00 7.0010e+00 7.1010e+00\n",
      " 7.2010e+00 7.3010e+00 7.4010e+00 7.5010e+00 7.6010e+00 7.7010e+00\n",
      " 7.8010e+00 7.9010e+00 8.0010e+00 8.1010e+00 8.2010e+00 8.3010e+00\n",
      " 8.4010e+00 8.5010e+00 8.6010e+00 8.7010e+00 8.8010e+00 8.9010e+00\n",
      " 9.0010e+00 9.1010e+00 9.2010e+00 9.3010e+00 9.4010e+00 9.5010e+00\n",
      " 9.6010e+00 9.7010e+00 9.8010e+00 9.9010e+00 1.0001e+01 1.0101e+01\n",
      " 1.0201e+01 1.0301e+01 1.0401e+01 1.0501e+01 1.0601e+01 1.0701e+01\n",
      " 1.0801e+01 1.0901e+01]\n"
     ]
    },
    {
     "name": "stderr",
     "output_type": "stream",
     "text": [
      "C:\\Users\\JB\\AppData\\Local\\Continuum\\anaconda3\\lib\\site-packages\\scipy\\signal\\_arraytools.py:45: FutureWarning: Using a non-tuple sequence for multidimensional indexing is deprecated; use `arr[tuple(seq)]` instead of `arr[seq]`. In the future this will be interpreted as an array index, `arr[np.array(seq)]`, which will result either in an error or a different result.\n",
      "  b = a[a_slice]\n"
     ]
    }
   ],
   "source": [
    "#radii = np.linspace(0.001,maxkpc,100)                # Sampling radii\n",
    "radii = np.arange(0.001,11,0.1)                # Sampling radii\n",
    "print(radii)\n",
    "\n",
    "# Partial derivative of rho(u,z) with respect to u\n",
    "# Taking the derivative of the splined polynomial (radius and density values, rho(r) or rho(u))\n",
    "drho_du = spline_rhor.derivative()\n",
    "\n",
    "# Evaluating at given radii\n",
    "drho_du_values = drho_du(radii)\n",
    "\n",
    "# Smoothing: Savitzky-Golay filter: https://riptutorial.com/scipy/example/15878/using-a-savitzky-golay-filter\n",
    "drho_du_smooth = savgol_filter(drho_du_values, 11, 5)  # window size 11, polynomial order 6\n",
    "\n",
    "# Spline the smoothed derivative\n",
    "spline_drhor = interpd(radii,drho_du_smooth)"
   ]
  },
  {
   "cell_type": "code",
   "execution_count": 6,
   "metadata": {},
   "outputs": [
    {
     "data": {
      "image/png": "[encoded data removed]",
      "text/plain": [
       "<Figure size 576x504 with 1 Axes>"
      ]
     },
     "metadata": {
      "needs_background": "light"
     },
     "output_type": "display_data"
    }
   ],
   "source": [
    "# Plot \n",
    "plt.figure(figsize=(8,7))\n",
    "plt.plot(radii,drho_du_values, label=\"Before smoothing drho/du\", c=\"blue\")\n",
    "plt.plot(radii,drho_du_smooth, label=\"After smoothing drho/du\", c=\"red\")\n",
    "#plt.plot(radii,spline_drhor(radii), label=\"After smoothing and splining drho/du\", c=\"purple\")\n",
    "plt.title(\"Partial Derivative of Density\")\n",
    "plt.xlabel(\"Radius (KPC)\")\n",
    "plt.ylabel(\"drho/du\")\n",
    "plt.legend()\n",
    "plt.show()"
   ]
  },
  {
   "cell_type": "markdown",
   "metadata": {},
   "source": [
    "## Functions"
   ]
  },
  {
   "cell_type": "code",
   "execution_count": 7,
   "metadata": {},
   "outputs": [
    {
     "name": "stdout",
     "output_type": "stream",
     "text": [
      "-73.01552084148702\n"
     ]
    }
   ],
   "source": [
    "#from casertano http://articles.adsabs.harvard.edu/pdf/1983MNRAS.203..735C\n",
    "# Casertano Eq 2\n",
    "def drho_du(u,z,z0):\n",
    "    return spline_drhor(u) * np.cosh(z / z0)**(-2)\n",
    "\n",
    "print(drho_du(1,1,z0))"
   ]
  },
  {
   "cell_type": "code",
   "execution_count": 8,
   "metadata": {},
   "outputs": [
    {
     "name": "stdout",
     "output_type": "stream",
     "text": [
      "0.3819660112501051\n"
     ]
    }
   ],
   "source": [
    "# Casertano Eq 5\n",
    "def px(r,u,z):\n",
    "    x = (r**2 + u**2 + z**2)/(2*r*u)\n",
    "    return x - np.sqrt((x**2)-1)\n",
    "\n",
    "print(px(1,1,1))"
   ]
  },
  {
   "cell_type": "code",
   "execution_count": 9,
   "metadata": {},
   "outputs": [],
   "source": [
    "# Rotmod elliptic integral and p function (Casertano: Eq A.16)\n",
    "def func(x,y,z):\n",
    "    if( x == y ) & ( z == 0):\n",
    "        r = 0\n",
    "    elif( x == 0 ) | ( y == 0):\n",
    "        r = 0\n",
    "    else:\n",
    "        xxx = (x*x + y*y + z*z) / (2.0 * x * y)\n",
    "        rrr = (xxx*xxx - 1.0)\n",
    "        ppp = 1.0 / (xxx + np.sqrt(rrr))\n",
    "        fm = 1.0 - ppp*ppp\n",
    "        el1 = (1.3862944 + fm * (0.1119723 + fm * 0.0725296)) - (0.5 + fm * (0.1213478 + fm * 0.0288729)) * np.log(fm)\n",
    "        el2 = (1.0 + fm * ( 0.4630151 + fm * 0.1077812 ) ) - (fm * (0.2452727 + fm * 0.0412496)) * np.log(fm)\n",
    "        r = ((1.0 - xxx * y/x) * el2 / (rrr) + (y/x - ppp) * el1 / np.sqrt(rrr)) / np.pi\n",
    "        r *= np.sqrt(x / (y * ppp))\n",
    "    return r"
   ]
  },
  {
   "cell_type": "code",
   "execution_count": 10,
   "metadata": {},
   "outputs": [
    {
     "name": "stdout",
     "output_type": "stream",
     "text": [
      "0.35734399698214614\n"
     ]
    }
   ],
   "source": [
    "# Complete elliptic integral\n",
    "def K_E(r,u,z):\n",
    "    return ellipk(px(r,u,z)) - ellipe(px(r,u,z))\n",
    "\n",
    "print(K_E(1,1,1))"
   ]
  },
  {
   "cell_type": "code",
   "execution_count": 11,
   "metadata": {},
   "outputs": [
    {
     "name": "stdout",
     "output_type": "stream",
     "text": [
      "-2.4360377055043997e-07\n"
     ]
    }
   ],
   "source": [
    "# Casertano eq 4, simplified\n",
    "def integrand(r,u,z,z0,G):\n",
    "    return (8 * G) * drho_du(u,z,z0) * K_E(r,u,z) / np.sqrt(u * r * px(r,u,z))\n",
    "\n",
    "print(integrand(1,2,3,z0,G))"
   ]
  },
  {
   "cell_type": "raw",
   "metadata": {},
   "source": [
    "# Integrand, using ROTMOD's function\n",
    "def integrand(r,u,z,z0,G,mode):\n",
    "    return (8 * G) * drho_du(u,z,z0,mode) * func(r,u,z)\n",
    "    \n",
    "print(integrand(1,2,3,z0,G,mode))"
   ]
  },
  {
   "cell_type": "markdown",
   "metadata": {},
   "source": [
    "## Integration"
   ]
  },
  {
   "cell_type": "code",
   "execution_count": 12,
   "metadata": {},
   "outputs": [
    {
     "name": "stdout",
     "output_type": "stream",
     "text": [
      "0.001\n",
      "100.0\n"
     ]
    }
   ],
   "source": [
    "# Define minimum and maximum values of radius for integration\n",
    "intmin = np.min(radii) #0 causes runtime issues but this gets very close\n",
    "intmax = 1e2 #np.max(radii) #Integration is from 0 to infinity but infinity gives overflow errors so we just pick the largest we can without causing errors\n",
    "#intmax=np.inf ????\n",
    "print(intmin)\n",
    "print(intmax)"
   ]
  },
  {
   "cell_type": "markdown",
   "metadata": {},
   "source": [
    "### Integration, using built-in python functions: scipy quad"
   ]
  },
  {
   "cell_type": "code",
   "execution_count": 13,
   "metadata": {},
   "outputs": [
    {
     "name": "stdout",
     "output_type": "stream",
     "text": [
      "-0.002637566952715196\n",
      "-0.01725574847766204\n"
     ]
    }
   ],
   "source": [
    "# Inner integral, integral over z\n",
    "integrand2 = lambda u,r,z0,G: u*quad(integrand, intmin, intmax, args=(r,u,z0,G))[0]\n",
    "print(integrand2(2,1,z0,G))\n",
    "\n",
    "# Outer integral, integral over u\n",
    "radialforce = lambda r,z0,G: quad(integrand2, intmin,intmax, args=(r,z0,G))[0]\n",
    "\n",
    "# Calculate radial force\n",
    "radialforce = lambda r,z0,G: quad(integrand2, intmin, intmax, args=(r,z0,G))[0]\n",
    "radialforce = np.vectorize(radialforce)\n",
    "print(radialforce(1,z0,G))"
   ]
  },
  {
   "cell_type": "markdown",
   "metadata": {},
   "source": [
    "### Integration, using ROTMOD functions"
   ]
  },
  {
   "cell_type": "code",
   "execution_count": 14,
   "metadata": {},
   "outputs": [],
   "source": [
    "# Inner integral, integral over z\n",
    "\"\"\"intzed computes the integral over Z that defines the kernel of the integral formula for the rotation velocity. \n",
    "This is done for an arbitrary vertical density profile, specified in the function denzed.\n",
    "The interval of integration is divided into several subintervals, in each of which Simpson's rule is used. \n",
    "It is thus possible to have different steps in different regions of the interval of integration, \n",
    "and to compute the integral more accurately. An attempt has been made at optimizing the subdivision. \n",
    "It is still possible that the kernel is not accurate, especially when R is very close to U. \n",
    "It is NOT recommended that the programme is used with very small, but non-zero, values of the thickness. \n",
    "On the other hand, the situation with an infinitely thin disk is dealt with properly, the density profile in \n",
    "Z being then treated as a Dirac delta function.\"\"\"\n",
    "def intzed(r,u,z,z0):\n",
    "    zeds = np.array([0.02, 0.50, 1.00, 3.00, 10.00])\n",
    "    \n",
    "    if (z0 != 0.0):\n",
    "        n = 10\n",
    "        \n",
    "        if (np.abs(r - u) <= (0.2 * z0)):\n",
    "            n = 200\n",
    "        \n",
    "        zne = 0.0\n",
    "        res = 0.0\n",
    "        i = 0\n",
    "        while i < 5: \n",
    "            zol = zne\n",
    "            zne = zeds[i] * z0\n",
    "            step = (zne - zol) / n\n",
    "            z = zol\n",
    "            res += step * func(r,u,z) * drho_du(u,z,z0) / 3.0\n",
    "            w = 4.0 / 3.0         \n",
    "            j = 0.0\n",
    "            while j < n:\n",
    "                z += step\n",
    "                res += step * func(r,u,z) * drho_du(u,z,z0) * w\n",
    "                w = 2.0 - w\n",
    "                j += 1\n",
    "            res -= step * func(r,u,z) * drho_du(u,z,z0) / 3.0\n",
    "            i += 1\n",
    "    else:\n",
    "        res = func(r,u,z0)\n",
    "    return res\n",
    "\n",
    "# Outer integral, integral over u\n",
    "def interg(xd,yd,nd,r,rstart,z0,step,ndens):\n",
    "    vsq = 0.0\n",
    "    i = 1\n",
    "    k = 0\n",
    "    while k < ndens:\n",
    "        if (k == 0 or k == (ndens - 1)):\n",
    "            iw = 1\n",
    "        else:\n",
    "            iw = 4 - 2 * ((k + 1) % 2)\n",
    "        \n",
    "        x = rstart + step * k\n",
    "        y = 0.0\n",
    "\n",
    "        if (x < xd[nd-1]): \n",
    "            done = False\n",
    "            while (done == False) & (i < (nd - 1)):\n",
    "                #if i==1:\n",
    "                    #print(\"            Checking xd...\") #This if (xd...) loop is entered many times in quick succession; doesn't seem to be hanging so much as running too much. Not seeing the \"increased i for the first time\" as frequently as I would have expected, but this if statement IS completing quickly.\n",
    "                if (xd[i-1] <= x) & (xd[i+1] >= x):\n",
    "                    k1 = i - 1\n",
    "                    while k1 <= (i + 1):\n",
    "                        f = 1.0\n",
    "                        k2 = i - 1\n",
    "                        while k2 <= (i + 1):\n",
    "                            if (k1 != k2):\n",
    "                                f *= (x - xd[k2]) / (xd[k1] - xd[k2])\n",
    "                            k2 += 1\n",
    "                        y += f * yd[k1]\n",
    "                        done = True\n",
    "                        k1 += 1\n",
    "                else:\n",
    "                    i += 1\n",
    "            if (y > 0.0):\n",
    "                res = intzed(r,x,y,z0)\n",
    "                vsq += CONSTANT * res * y * step * iw\n",
    "        k += 1\n",
    "    return vsq"
   ]
  },
  {
   "cell_type": "code",
   "execution_count": 15,
   "metadata": {},
   "outputs": [
    {
     "name": "stdout",
     "output_type": "stream",
     "text": [
      "Loop variables set. Setting variable j...\n",
      "Initial value of j set to 0. Setting additional variables...\n",
      "r1 = 0.0\n",
      "r2 = 0.0\n",
      "vsq = 0.0\n",
      "r1 = 0.0\n",
      "r2 = 0.0\n",
      "vsq = 0.007494535010524373\n",
      "r1 = 0.0\n",
      "r2 = 0.0\n",
      "vsq = 0.017818073420598345\n",
      "r1 = 0.0\n",
      "r2 = 0.0\n",
      "vsq = 0.015490792065916857\n",
      "r1 = 0.0\n",
      "r2 = 0.0\n",
      "vsq = 0.009577035041550728\n",
      "r1 = 0.0\n",
      "r2 = 0.0\n",
      "vsq = 0.004748830836180758\n",
      "r1 = 0.0\n",
      "r2 = 0.0\n",
      "vsq = 0.0028423224961610497\n",
      "r1 = 0.0\n",
      "r2 = 0.0\n",
      "vsq = 0.001732023361977138\n",
      "r1 = 0.0\n",
      "r2 = 0.0\n",
      "vsq = 0.0011662436340779561\n",
      "r1 = 0.0\n",
      "r2 = 0.0\n",
      "vsq = 0.0008708116986235448\n",
      "r1 = 0.0\n",
      "r2 = 0.0\n",
      "vsq = 0.0008548227115629707\n",
      "r1 = 0.0\n",
      "r2 = 0.0\n",
      "vsq = 0.0011235336793015722\n",
      "r1 = 0.0\n",
      "r2 = 0.0\n",
      "vsq = 0.0014446538667383863\n",
      "r1 = 0.0\n",
      "r2 = 0.0\n",
      "vsq = 0.0017134068638615847\n",
      "r1 = 0.0\n",
      "r2 = 0.0\n",
      "vsq = 0.0018164717856624527\n",
      "r1 = 0.0\n",
      "r2 = 0.0\n",
      "vsq = 0.001706864011792144\n",
      "r1 = 0.0\n",
      "r2 = 0.0\n",
      "vsq = 0.0012658349666223945\n",
      "r1 = 0.0\n",
      "r2 = 0.0\n",
      "vsq = 0.0008611106961626369\n",
      "r1 = 0.061000000000000165\n",
      "r2 = 0.0\n"
     ]
    },
    {
     "name": "stderr",
     "output_type": "stream",
     "text": [
      "C:\\Users\\JB\\AppData\\Local\\Continuum\\anaconda3\\lib\\site-packages\\ipykernel_launcher.py:12: RuntimeWarning: divide by zero encountered in log\n",
      "  if sys.path[0] == '':\n",
      "C:\\Users\\JB\\AppData\\Local\\Continuum\\anaconda3\\lib\\site-packages\\ipykernel_launcher.py:13: RuntimeWarning: divide by zero encountered in log\n",
      "  del sys.path[0]\n",
      "C:\\Users\\JB\\AppData\\Local\\Continuum\\anaconda3\\lib\\site-packages\\ipykernel_launcher.py:13: RuntimeWarning: invalid value encountered in double_scalars\n",
      "  del sys.path[0]\n"
     ]
    },
    {
     "name": "stdout",
     "output_type": "stream",
     "text": [
      "vsq = nan\n",
      "r1 = 0.16100000000000025\n",
      "r2 = 0.0\n",
      "vsq = nan\n",
      "r1 = 0.2610000000000001\n",
      "r2 = 0.0\n",
      "vsq = nan\n",
      "r1 = 0.3610000000000002\n",
      "r2 = 0.0\n",
      "vsq = -0.5717562302212943\n",
      "r1 = 0.4610000000000003\n",
      "r2 = 0.0\n",
      "vsq = nan\n",
      "r1 = 0.5610000000000004\n",
      "r2 = 0.0\n",
      "vsq = -0.31251536434370075\n",
      "r1 = 0.6610000000000005\n",
      "r2 = 0.0\n",
      "vsq = nan\n",
      "r1 = 0.7610000000000001\n",
      "r2 = 0.0\n",
      "vsq = nan\n",
      "r1 = 0.8610000000000002\n",
      "r2 = 0.0\n",
      "vsq = -0.08870955616940039\n",
      "r1 = 0.9610000000000003\n",
      "r2 = 0.0\n",
      "vsq = nan\n",
      "r1 = 1.0610000000000004\n",
      "r2 = 0.0\n",
      "vsq = -0.03357493382508553\n",
      "r1 = 1.1610000000000005\n",
      "r2 = 0.0\n",
      "vsq = nan\n",
      "r1 = 1.2610000000000001\n",
      "r2 = 0.0\n",
      "vsq = nan\n",
      "r1 = 1.3610000000000002\n",
      "r2 = 0.0\n",
      "vsq = -0.016128750096691576\n",
      "r1 = 1.4610000000000003\n",
      "r2 = 0.0\n",
      "vsq = nan\n",
      "r1 = 1.5610000000000004\n",
      "r2 = 0.0\n",
      "vsq = -0.019220744834821845\n",
      "r1 = 1.6610000000000005\n",
      "r2 = 0.0\n",
      "vsq = nan\n",
      "r1 = 1.7610000000000001\n",
      "r2 = 0.0\n",
      "vsq = nan\n",
      "r1 = 1.8610000000000002\n",
      "r2 = 0.0\n",
      "vsq = -0.024046565628642845\n",
      "r1 = 1.9610000000000003\n",
      "r2 = 0.0\n",
      "vsq = nan\n",
      "r1 = 2.0610000000000004\n",
      "r2 = 0.0\n",
      "vsq = -0.026140304356593428\n",
      "r1 = 2.1610000000000005\n",
      "r2 = 0.0\n",
      "vsq = nan\n",
      "r1 = 2.2610000000000006\n",
      "r2 = 0.0\n",
      "vsq = -0.02745001928574568\n",
      "r1 = 2.361000000000001\n",
      "r2 = 0.0\n",
      "vsq = -0.02737918692207602\n",
      "r1 = 2.4610000000000007\n",
      "r2 = 0.0\n",
      "vsq = -0.026938694124811306\n",
      "r1 = 2.5610000000000004\n",
      "r2 = 0.0\n",
      "vsq = -0.026230608659199864\n",
      "r1 = 2.661000000000001\n",
      "r2 = 0.0\n",
      "vsq = -0.025010067802408224\n",
      "r1 = 2.7610000000000006\n",
      "r2 = 0.0\n",
      "vsq = -0.023610880999280458\n",
      "r1 = 2.861000000000001\n",
      "r2 = 0.0\n",
      "vsq = -0.022156486035459767\n",
      "r1 = 2.9610000000000007\n",
      "r2 = 0.0\n",
      "vsq = -0.02018347193791095\n",
      "r1 = 3.0610000000000013\n",
      "r2 = 0.0\n",
      "vsq = -0.017399707669566746\n",
      "r1 = 3.161000000000001\n",
      "r2 = 0.0\n",
      "vsq = -0.014607198129995254\n",
      "r1 = 3.2610000000000006\n",
      "r2 = 0.0\n",
      "vsq = -0.012143840206373031\n",
      "r1 = 3.361000000000001\n",
      "r2 = 0.0\n",
      "vsq = -0.009915649739048847\n",
      "r1 = 3.4610000000000007\n",
      "r2 = 0.0\n",
      "vsq = -0.008058643800711116\n",
      "r1 = 3.5610000000000013\n",
      "r2 = 0.0\n",
      "vsq = -0.006512744065769466\n",
      "r1 = 3.661000000000001\n",
      "r2 = 0.0\n",
      "vsq = -0.005168279715870802\n",
      "r1 = 3.7610000000000006\n",
      "r2 = 0.0\n",
      "vsq = -0.004113175783401415\n",
      "r1 = 3.861000000000001\n",
      "r2 = 0.0\n",
      "vsq = -0.0032646916143014245\n",
      "r1 = 3.9610000000000007\n",
      "r2 = 0.0\n",
      "vsq = -0.0026635766056304503\n",
      "r1 = 4.061000000000002\n",
      "r2 = 0.0\n",
      "vsq = -0.002223890116032924\n",
      "r1 = 4.161000000000001\n",
      "r2 = 0.0\n",
      "vsq = -0.0019026378703382448\n",
      "r1 = 4.261000000000001\n",
      "r2 = 0.0\n",
      "vsq = -0.0016739722387663436\n",
      "r1 = 4.361000000000001\n",
      "r2 = 0.0\n",
      "vsq = -0.0015068638320375484\n",
      "r1 = 4.461\n",
      "r2 = 0.0\n",
      "vsq = -0.0013535624872844535\n",
      "r1 = 4.561000000000002\n",
      "r2 = 0.0\n",
      "vsq = -0.0011934512423996126\n",
      "r1 = 4.661000000000001\n",
      "r2 = 0.0\n",
      "vsq = -0.0010164584341606812\n",
      "r1 = 4.761000000000001\n",
      "r2 = 0.0\n",
      "vsq = -0.0008538717928141587\n",
      "r1 = 4.861000000000001\n",
      "r2 = 0.0\n",
      "vsq = -0.0007195303209537375\n",
      "r1 = 4.961\n",
      "r2 = 0.0\n",
      "vsq = -0.0006223069799009312\n",
      "r1 = 5.061000000000002\n",
      "r2 = 0.0\n",
      "vsq = -0.000549808335123492\n",
      "r1 = 5.161000000000001\n",
      "r2 = 0.0\n",
      "vsq = -0.00047733430791939587\n",
      "r1 = 5.261000000000001\n",
      "r2 = 0.0\n",
      "vsq = -0.0004107062688136847\n",
      "r1 = 5.361000000000001\n",
      "r2 = 0.0\n",
      "vsq = -0.00036529571925936454\n",
      "r1 = 5.461\n",
      "r2 = 0.0\n",
      "vsq = -0.00032960383020125565\n",
      "r1 = 5.561000000000002\n",
      "r2 = 0.0\n",
      "vsq = -0.0002993022427789879\n",
      "r1 = 5.661000000000001\n",
      "r2 = 0.0\n",
      "vsq = -0.0002646380400306053\n",
      "r1 = 5.761000000000001\n",
      "r2 = 0.0\n",
      "vsq = -0.0002205051024091027\n",
      "r1 = 5.861000000000001\n",
      "r2 = 0.0\n",
      "vsq = -0.00018153693431203837\n",
      "r1 = 5.961\n",
      "r2 = 0.0\n",
      "vsq = -0.0001550007309530795\n",
      "r1 = 6.061000000000002\n",
      "r2 = 0.0\n",
      "vsq = -0.0001481796834214803\n",
      "r1 = 6.161000000000001\n",
      "r2 = 0.0\n",
      "vsq = -0.0001485861027591487\n",
      "r1 = 6.260999999999999\n",
      "r2 = 0.0\n",
      "vsq = -0.00015406725455762953\n",
      "r1 = 6.360999999999999\n",
      "r2 = 0.0\n",
      "vsq = -0.00016745854554467283\n",
      "r1 = 6.461\n",
      "r2 = 0.0\n",
      "vsq = -0.00019314304282046438\n",
      "r1 = 6.561\n",
      "r2 = 0.0\n",
      "vsq = -0.0002237690966556191\n",
      "r1 = 6.661\n",
      "r2 = 0.0\n",
      "vsq = -0.0002537803223048512\n",
      "r1 = 6.760999999999999\n",
      "r2 = 0.0\n",
      "vsq = -0.00028237765361838706\n",
      "r1 = 6.860999999999999\n",
      "r2 = 0.0\n",
      "vsq = -0.000302023466642898\n",
      "r1 = 6.961\n",
      "r2 = 0.0\n",
      "vsq = -0.0003228472916062367\n",
      "r1 = 7.061\n",
      "r2 = 0.0\n",
      "vsq = -0.00034392858166925905\n",
      "r1 = 7.161\n",
      "r2 = 0.0\n",
      "vsq = -0.00036096650063116787\n",
      "r1 = 7.260999999999999\n",
      "r2 = 0.0\n",
      "vsq = -0.00038059665856486424\n",
      "r1 = 7.360999999999999\n",
      "r2 = 0.0\n",
      "vsq = -0.0003993745017481208\n",
      "r1 = 7.461\n",
      "r2 = 0.0\n",
      "vsq = -0.00041756981973614925\n",
      "r1 = 7.561\n",
      "r2 = 0.0\n",
      "vsq = -0.00043373599351371756\n",
      "r1 = 7.661\n",
      "r2 = 0.0\n",
      "vsq = -0.0004418525933555948\n",
      "r1 = 7.760999999999999\n",
      "r2 = 0.0\n",
      "vsq = -0.000442712433303658\n",
      "r1 = 7.861000000000001\n",
      "r2 = 0.0\n",
      "vsq = -0.0004350330417246111\n",
      "r1 = 7.961\n",
      "r2 = 0.0\n",
      "vsq = -0.00042387674370931094\n",
      "r1 = 8.061\n",
      "r2 = 0.0\n",
      "vsq = -0.00040955139592011106\n",
      "r1 = 8.161\n",
      "r2 = 0.0\n",
      "vsq = -0.0003936422728563058\n",
      "r1 = 8.261\n",
      "r2 = 0.0\n",
      "vsq = -0.0003809370041203375\n",
      "r1 = 8.361\n",
      "r2 = 0.0\n",
      "vsq = -0.0003665274258863515\n",
      "r1 = 8.461\n",
      "r2 = 0.0\n",
      "vsq = -0.00034718818188680744\n",
      "r1 = 8.561\n",
      "r2 = 0.0\n",
      "vsq = -0.0003274955478134695\n",
      "r1 = 8.661\n",
      "r2 = 0.0\n",
      "vsq = -0.00030693416966603\n",
      "r1 = 8.761\n",
      "r2 = 0.0\n",
      "vsq = -0.0002850186874684208\n",
      "r1 = 8.861\n",
      "r2 = 0.0\n",
      "vsq = -0.00026540806293381085\n",
      "r1 = 8.961\n",
      "r2 = 0.0\n",
      "vsq = -0.00024697543247962836\n",
      "r1 = 9.061\n",
      "r2 = 0.0\n",
      "vsq = -0.0002274548510087282\n",
      "r1 = 9.161\n",
      "r2 = 0.0\n",
      "vsq = -0.0002062453691466891\n"
     ]
    }
   ],
   "source": [
    "velocs_rotmod = np.zeros(len(radii))\n",
    "nradii = len(radii)\n",
    "rings = xdinp\n",
    "nring = len(rings)              # number of sampling radii\n",
    "ntimes = len(xdinp)             # number of items\n",
    "ndinp = len(ydinp)\n",
    "naccur = 1\n",
    "z1 = 0.58  #guess\n",
    "h = 1      #guess\n",
    "\n",
    "i = 0\n",
    "j = 0\n",
    "\n",
    "while i < nradii:\n",
    "    r = radii[i]\n",
    "    vsq = 0.0\n",
    "\n",
    "    if i == 0:\n",
    "        print(\"Loop variables set. Setting variable j...\")\n",
    "    \n",
    "    while j < nring and rings[j] < r:\n",
    "        j += 1\n",
    "\n",
    "    if i == 0:\n",
    "        print(\"Initial value of j set to \"+str(j)+\". Setting additional variables...\")\n",
    "    \n",
    "    skip = rings[j] != r\n",
    "    #z1 = z0\n",
    "    \n",
    "    r1 = r - 3.0 * z1\n",
    "    if r1 < 0.0:\n",
    "        r1 = 0.0\n",
    "    \n",
    "    r2 = 0.0\n",
    "    \n",
    "    print(\"r1 = {}\".format(r1))\n",
    "    print(\"r2 = {}\".format(r2))\n",
    "\n",
    "    if r1 < (rcut + 2.0 * delta):\n",
    "        r2 = r + (r - r1)\n",
    "        ndens = 6 * ntimes + 1\n",
    "        step = (r2 - r1) / (ndens - 1)\n",
    "        rstart = r1\n",
    "        vsq += interg(xdinp,ydinp,ndinp,r,rstart,z0,step,ndens)\n",
    "        \n",
    "        if r1 > 0.0:\n",
    "            ndens = r1 * ntimes / h\n",
    "            ndens = 2 * (ndens / 2) + 3       # multiplies and devides by 2, it's unnecessary\n",
    "            step = r1 / (ndens - 1)\n",
    "            rstart = 0.0\n",
    "            vsq += interg(xdinp,ydinp,ndinp,r,rstart,z0,step,ndens)\n",
    "    \n",
    "    if r2 < (rcut + 2.0 * delta):\n",
    "        ndens = (rcut + 2.0 * delta - r2) * ntimes / h\n",
    "        ndens = 2 * (ndens / 2) + 3\n",
    "        step = (rcut + 2.0 * delta - r2) / (ndens - 1)\n",
    "        rstart = r2\n",
    "        vsq += interg(xdinp,ydinp,ndinp,r,rstart,z0,step,ndens)\n",
    "    \n",
    "    print(\"vsq = {}\".format(vsq))\n",
    "    if vsq < 0.0:\n",
    "           velocs_rotmod[i] = (-np.sqrt(-vsq))\n",
    "    else:\n",
    "           velocs_rotmod[i] = (np.sqrt(vsq))\n",
    "    i += 1"
   ]
  },
  {
   "cell_type": "markdown",
   "metadata": {},
   "source": [
    "### Integration, using built-in python functions: scipy simps"
   ]
  },
  {
   "cell_type": "code",
   "execution_count": 16,
   "metadata": {},
   "outputs": [
    {
     "ename": "IndexError",
     "evalue": "tuple index out of range",
     "output_type": "error",
     "traceback": [
      "\u001b[1;31m---------------------------------------------------------------------------\u001b[0m",
      "\u001b[1;31mIndexError\u001b[0m                                Traceback (most recent call last)",
      "\u001b[1;32m<ipython-input-16-986e810476b2>\u001b[0m in \u001b[0;36m<module>\u001b[1;34m\u001b[0m\n\u001b[0;32m      7\u001b[0m \u001b[1;31m# Inner integral, integral over z\u001b[0m\u001b[1;33m\u001b[0m\u001b[1;33m\u001b[0m\u001b[1;33m\u001b[0m\u001b[0m\n\u001b[0;32m      8\u001b[0m \u001b[0mintegrand2_simps\u001b[0m \u001b[1;33m=\u001b[0m \u001b[1;32mlambda\u001b[0m \u001b[0mu\u001b[0m\u001b[1;33m,\u001b[0m\u001b[0mr\u001b[0m\u001b[1;33m,\u001b[0m\u001b[0mz0\u001b[0m\u001b[1;33m,\u001b[0m\u001b[0mG\u001b[0m\u001b[1;33m:\u001b[0m \u001b[0msimps\u001b[0m\u001b[1;33m(\u001b[0m\u001b[0mintegrand2\u001b[0m\u001b[1;33m,\u001b[0m \u001b[0mpoints\u001b[0m\u001b[1;33m,\u001b[0m \u001b[0mdx\u001b[0m\u001b[1;33m=\u001b[0m\u001b[1;36m0.1\u001b[0m\u001b[1;33m)\u001b[0m\u001b[1;33m\u001b[0m\u001b[1;33m\u001b[0m\u001b[0m\n\u001b[1;32m----> 9\u001b[1;33m \u001b[0mprint\u001b[0m\u001b[1;33m(\u001b[0m\u001b[0mintegrand2_simps\u001b[0m\u001b[1;33m(\u001b[0m\u001b[1;36m2\u001b[0m\u001b[1;33m,\u001b[0m\u001b[1;36m1\u001b[0m\u001b[1;33m,\u001b[0m\u001b[0mz0\u001b[0m\u001b[1;33m,\u001b[0m\u001b[0mG\u001b[0m\u001b[1;33m)\u001b[0m\u001b[1;33m)\u001b[0m\u001b[1;33m\u001b[0m\u001b[1;33m\u001b[0m\u001b[0m\n\u001b[0m\u001b[0;32m     10\u001b[0m \u001b[1;33m\u001b[0m\u001b[0m\n\u001b[0;32m     11\u001b[0m \u001b[1;31m# Outer integral, integral over u\u001b[0m\u001b[1;33m\u001b[0m\u001b[1;33m\u001b[0m\u001b[1;33m\u001b[0m\u001b[0m\n",
      "\u001b[1;32m<ipython-input-16-986e810476b2>\u001b[0m in \u001b[0;36m<lambda>\u001b[1;34m(u, r, z0, G)\u001b[0m\n\u001b[0;32m      6\u001b[0m \u001b[1;33m\u001b[0m\u001b[0m\n\u001b[0;32m      7\u001b[0m \u001b[1;31m# Inner integral, integral over z\u001b[0m\u001b[1;33m\u001b[0m\u001b[1;33m\u001b[0m\u001b[1;33m\u001b[0m\u001b[0m\n\u001b[1;32m----> 8\u001b[1;33m \u001b[0mintegrand2_simps\u001b[0m \u001b[1;33m=\u001b[0m \u001b[1;32mlambda\u001b[0m \u001b[0mu\u001b[0m\u001b[1;33m,\u001b[0m\u001b[0mr\u001b[0m\u001b[1;33m,\u001b[0m\u001b[0mz0\u001b[0m\u001b[1;33m,\u001b[0m\u001b[0mG\u001b[0m\u001b[1;33m:\u001b[0m \u001b[0msimps\u001b[0m\u001b[1;33m(\u001b[0m\u001b[0mintegrand2\u001b[0m\u001b[1;33m,\u001b[0m \u001b[0mpoints\u001b[0m\u001b[1;33m,\u001b[0m \u001b[0mdx\u001b[0m\u001b[1;33m=\u001b[0m\u001b[1;36m0.1\u001b[0m\u001b[1;33m)\u001b[0m\u001b[1;33m\u001b[0m\u001b[1;33m\u001b[0m\u001b[0m\n\u001b[0m\u001b[0;32m      9\u001b[0m \u001b[0mprint\u001b[0m\u001b[1;33m(\u001b[0m\u001b[0mintegrand2_simps\u001b[0m\u001b[1;33m(\u001b[0m\u001b[1;36m2\u001b[0m\u001b[1;33m,\u001b[0m\u001b[1;36m1\u001b[0m\u001b[1;33m,\u001b[0m\u001b[0mz0\u001b[0m\u001b[1;33m,\u001b[0m\u001b[0mG\u001b[0m\u001b[1;33m)\u001b[0m\u001b[1;33m)\u001b[0m\u001b[1;33m\u001b[0m\u001b[1;33m\u001b[0m\u001b[0m\n\u001b[0;32m     10\u001b[0m \u001b[1;33m\u001b[0m\u001b[0m\n",
      "\u001b[1;32m~\\AppData\\Local\\Continuum\\anaconda3\\lib\\site-packages\\scipy\\integrate\\quadrature.py\u001b[0m in \u001b[0;36msimps\u001b[1;34m(y, x, dx, axis, even)\u001b[0m\n\u001b[0;32m    404\u001b[0m     \u001b[0my\u001b[0m \u001b[1;33m=\u001b[0m \u001b[0mnp\u001b[0m\u001b[1;33m.\u001b[0m\u001b[0masarray\u001b[0m\u001b[1;33m(\u001b[0m\u001b[0my\u001b[0m\u001b[1;33m)\u001b[0m\u001b[1;33m\u001b[0m\u001b[1;33m\u001b[0m\u001b[0m\n\u001b[0;32m    405\u001b[0m     \u001b[0mnd\u001b[0m \u001b[1;33m=\u001b[0m \u001b[0mlen\u001b[0m\u001b[1;33m(\u001b[0m\u001b[0my\u001b[0m\u001b[1;33m.\u001b[0m\u001b[0mshape\u001b[0m\u001b[1;33m)\u001b[0m\u001b[1;33m\u001b[0m\u001b[1;33m\u001b[0m\u001b[0m\n\u001b[1;32m--> 406\u001b[1;33m     \u001b[0mN\u001b[0m \u001b[1;33m=\u001b[0m \u001b[0my\u001b[0m\u001b[1;33m.\u001b[0m\u001b[0mshape\u001b[0m\u001b[1;33m[\u001b[0m\u001b[0maxis\u001b[0m\u001b[1;33m]\u001b[0m\u001b[1;33m\u001b[0m\u001b[1;33m\u001b[0m\u001b[0m\n\u001b[0m\u001b[0;32m    407\u001b[0m     \u001b[0mlast_dx\u001b[0m \u001b[1;33m=\u001b[0m \u001b[0mdx\u001b[0m\u001b[1;33m\u001b[0m\u001b[1;33m\u001b[0m\u001b[0m\n\u001b[0;32m    408\u001b[0m     \u001b[0mfirst_dx\u001b[0m \u001b[1;33m=\u001b[0m \u001b[0mdx\u001b[0m\u001b[1;33m\u001b[0m\u001b[1;33m\u001b[0m\u001b[0m\n",
      "\u001b[1;31mIndexError\u001b[0m: tuple index out of range"
     ]
    }
   ],
   "source": [
    "# Reverse order of variables to setup for integration\n",
    "integrand2 = lambda z,u,r,z0,G: integrand(r,u,z,z0,G)\n",
    "\n",
    "# Points at which the function is sampled\n",
    "points = np.linspace(intmin,intmax,100)\n",
    "\n",
    "# Inner integral, integral over z\n",
    "integrand2_simps = lambda u,r,z0,G: simps(integrand2, points, dx=0.1)\n",
    "print(integrand2_simps(2,1,z0,G))\n",
    "\n",
    "# Outer integral, integral over u\n",
    "radialforce_simps = lambda r,z0,G: simps(integrand2_simps, points, dx=0.1)\n",
    "\n",
    "# Calculate radial force\n",
    "radialforce_simps = np.vectorize(radialforce_simps)\n",
    "print(radialforce_simps(1,z0,G))\n",
    "\n",
    "# Velocity\n",
    "velocs_simps = np.sqrt(-radii*radialforce_simps(radii,z0,G))"
   ]
  },
  {
   "cell_type": "markdown",
   "metadata": {},
   "source": [
    "### Integration, using manual simpson's rule"
   ]
  },
  {
   "cell_type": "code",
   "execution_count": null,
   "metadata": {},
   "outputs": [],
   "source": [
    "\"\"\"def simpson(f,a,b,n):\n",
    "    h = (b - a) / (n - 1)\n",
    "    x = np.linspace(a, b, n)\n",
    "    print(type(f))\n",
    "    simpson = (h/3) * (f[0] + 2*sum(f[:n-2:2]) + 4*sum(f[1:n-1:2]) + f[n-1])\n",
    "    return simpson\"\"\"\n",
    "\n",
    "def simpson(f, a, b, n):\n",
    "    h=(b-a)/n\n",
    "    k=0.0\n",
    "    x=a\n",
    "    for i in range(1,n/2):\n",
    "        x += 2*h\n",
    "        k += 4*f(x)\n",
    "    for i in range(2,(n/2)-1):\n",
    "        x += 2*h\n",
    "        k += 2*f(x)\n",
    "    return (h/3)*(f(a)+f(b)+k)\n",
    "\n",
    "z = np.array([0.02, 0.50, 1.00, 3.00, 10.00])\n",
    "u = np.array([0.02, 0.50, 1.00, 3.00, 10.00])\n",
    "\n",
    "# Reverse order of variables to setup for integration\n",
    "integrand2 = lambda z,u,r,z0,G,mode: integrand(r,u,z,z0,G,mode)\n",
    "\n",
    "# Inner integral, integral over z\n",
    "integrand2_simps2 = lambda u,r,z0,G,mode: simpson(integrand2(z,u,r,z0,G,mode), 0, np.inf, 100)\n",
    "print(integrand2_simps2(2,1,z0,G,mode))\n",
    "\n",
    "# Outer integral, integral over u\n",
    "radialforce_simps2 = lambda r,z0,G,mode: simpson(integrand2_simps2(u,r,z0,G,mode), 0, np.inf, 100)\n",
    "\n",
    "# Calculate radial force\n",
    "radialforce_simps2 = np.vectorize(radialforce_simps2)\n",
    "print(radialforce_simps2(1,z0,G,mode))\n",
    "\n",
    "# Velocity\n",
    "velocs_simps2 = np.sqrt(-radii*radialforce_simps2(radii,z0,G,mode))"
   ]
  },
  {
   "cell_type": "markdown",
   "metadata": {},
   "source": [
    "## Velocity"
   ]
  },
  {
   "cell_type": "code",
   "execution_count": null,
   "metadata": {},
   "outputs": [],
   "source": [
    "#casertano eq 6:\n",
    "velocs = (-radii*radialforce(radii,z0,G))**(0.5)\n",
    "\n",
    "#velocs_smooth = savgol_filter(velocs, 11, 4)"
   ]
  },
  {
   "cell_type": "markdown",
   "metadata": {},
   "source": [
    "## Comparison"
   ]
  },
  {
   "cell_type": "code",
   "execution_count": null,
   "metadata": {},
   "outputs": [],
   "source": [
    "# Gas\n",
    "tracedgas = np.loadtxt(\"../NGC_5005/traced_data/ngc5005_gas.txt\")\n",
    "tracedgas_r, tracedgas_v = tracedgas.T\n",
    "tracedgas_r = tracedgas_r[1:]\n",
    "tracedgas_v = tracedgas_v[1:]\n",
    "\n",
    "# Disk\n",
    "traceddisk = np.loadtxt(\"../NGC_5005/traced_data/ngc5005_disk.txt\")\n",
    "traceddisk_r, traceddisk_v = traceddisk.T\n",
    "traceddisk_r = traceddisk_r[1:]\n",
    "traceddisk_v = traceddisk_v[1:]"
   ]
  },
  {
   "cell_type": "markdown",
   "metadata": {},
   "source": [
    "## Plot"
   ]
  },
  {
   "cell_type": "code",
   "execution_count": null,
   "metadata": {},
   "outputs": [],
   "source": [
    "scale = 5e2\n",
    "plt.figure(figsize=(8,6))             \n",
    "plt.scatter(radii, velocs, linestyle='solid', label='Scaled calculated gas velocity by {}'.format(scale))\n",
    "#plt.plot(radii, 1e3*velocs_smooth, linestyle='solid', label='Smoothed Gas Velocity')\n",
    "plt.scatter(tracedgas_r, tracedgas_v, label='Expected Gas Velocity', c='red')\n",
    "plt.axis('tight');\n",
    "plt.title('NGC 5005')\n",
    "plt.xlabel('Radius (KPC)', fontsize=10)\n",
    "plt.ylabel('Velocity (KM/S)', fontsize=10)\n",
    "#plt.xlim(0,12)\n",
    "plt.legend(fontsize=10)\n",
    "plt.show()"
   ]
  }
 ],
 "metadata": {
  "kernelspec": {
   "display_name": "Python 3",
   "language": "python",
   "name": "python3"
  },
  "language_info": {
   "codemirror_mode": {
    "name": "ipython",
    "version": 3
   },
   "file_extension": ".py",
   "mimetype": "text/x-python",
   "name": "python",
   "nbconvert_exporter": "python",
   "pygments_lexer": "ipython3",
   "version": "3.7.1"
  }
 },
 "nbformat": 4,
 "nbformat_minor": 4
}
