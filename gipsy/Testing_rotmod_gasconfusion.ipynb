{
 "cells": [
  {
   "cell_type": "markdown",
   "metadata": {},
   "source": [
    "# Recreating ROTMOD for 5533\n",
    "### Gipsy inputs: ZLAW=sech-squared, Z0=.93[kpc],DISTANCE=16.5[Mpc], DENSITY FILE: *call density file* units of: [kpc,mag/arcsec**2] or [kpc,Msun/pc**2], RADDENS=*define radius range* \n"
   ]
  },
  {
   "cell_type": "code",
   "execution_count": 1,
   "metadata": {},
   "outputs": [],
   "source": [
    "# Import\n",
    "import numpy as np\n",
    "import scipy as sp\n",
    "import matplotlib.pyplot as plt"
   ]
  },
  {
   "cell_type": "code",
   "execution_count": 2,
   "metadata": {},
   "outputs": [
    {
     "data": {
      "image/png": "[encoded data removed]",
      "text/plain": [
       "<Figure size 648x576 with 1 Axes>"
      ]
     },
     "metadata": {
      "needs_background": "light"
     },
     "output_type": "display_data"
    }
   ],
   "source": [
    "# According to Noordermeer's email: \n",
    "   # \"For the contribution of the stars (bulge + disk), I used the \n",
    "   # R-band photometry published in Noordermeer & Van der Hulst (2007 - MNRAS 376; p1480). \n",
    "   # Again, I believe there was a tool (perhaps the same one as for the gas disk) \n",
    "   # in GIPSY to convert this into a rotation curve, but I'm afraid I can't recall the details.\"\n",
    "\n",
    "# Used DataThief to get data from image\n",
    "densitydata = np.loadtxt(\"../data/gasmsd_kpc_linear.txt\")   #gas density file [kpc, Msun/pc**2]\n",
    "dgasr, dgas = densitydata.T\n",
    "\n",
    "# Plot R-band photometry to make sure data was traced right\n",
    "plt.figure(figsize=(9,8))\n",
    "plt.scatter(dgasr,dgas)\n",
    "plt.title(\"Stellar gas component density profile, From Paper 13, Fig 8\")\n",
    "plt.rcParams.update({'font.size': 30})\n",
    "plt.xlabel(\"Radius (kpc)\")\n",
    "plt.ylabel(\"$M_{\\odot}$ ($pc^{-2}$)\")\n",
    "plt.show()"
   ]
  },
  {
   "cell_type": "code",
   "execution_count": 3,
   "metadata": {},
   "outputs": [
    {
     "name": "stdout",
     "output_type": "stream",
     "text": [
      "[ 0.      0.409   0.9156  1.3932  1.8693  2.3606  2.8376  3.3282  3.8209\n",
      "  4.2956  4.7746  5.5897  6.3896  7.1896  7.9893  8.7894  9.6049 10.4203\n",
      " 11.1894]\n"
     ]
    }
   ],
   "source": [
    "## INPUTS:\n",
    "z0 = 0.93                  #'vertical scale height [kpc]'   # still can't figure out how they got this number...\n",
    "D = 16.5             #Galaxy distance from earth [Mpc], is it 16.5 or 16.9???????\n",
    "densitydata = np.loadtxt(\"../data/gasmsd_kpc_linear.txt\")   #gas density file [kpc, Msun/pc**2]\n",
    "densityr, density = densitydata.T\n",
    "\n",
    "rawtotaldata = np.loadtxt(\"../NGC_5005/traced_data/ngc5005_data.txt\")  #\"raw\" total rotation curve data points\n",
    "rawr,rawv,rawe1,rawe2 = rawtotaldata.T #extracting the array of radius points, rawr, to fit component to\n",
    "print(rawr)"
   ]
  },
  {
   "cell_type": "code",
   "execution_count": 4,
   "metadata": {},
   "outputs": [],
   "source": [
    "# NECESSARY CONSTANTS\n",
    "G = 0.00000431158              # gravitational constant (kpc/solar mass*(km/s)^2)\n",
    "\n",
    "\n",
    "                               # note: The integration in Z is the most time consuming part\n",
    "                               # of the calculation. For example it takes about 0.2 seconds\n",
    "                               # to calculate a point on the rotation curve for a disk with zero\n",
    " \n",
    "h=8.9#?????          \n",
    "dens0 = 0.31e9  #?????               # central density of exponential DISK in solar masses per square parsec\n",
    "rcut = 4*h                     # cutoff radius\n",
    "\n",
    "delta = 0.2*h  #?????                # softening parameter of DISK in kpc [0.0]. It may be wise\n",
    "                               # to have a non-zero softening in case of a truncated disk, \n",
    "                               # because then the sharp features in the calculated rotation \n",
    "                               # curve will be smoothed out. A softening parameter of about \n",
    "                               # 0.2 scale lengths would be sufficient.\n",
    "                \n",
    "LEN1 = 20016\n",
    "LEN2 = 40001\n",
    "\n",
    "#LEN2 = len(rkpc)              \n",
    "CONSTANT = 2.0 * np.pi * G / 3.0\n",
    "EPS = 0.000001\n",
    "\n",
    "naccur = 1                     # GUESS -> accuracy of calculations, range between 1-10, \n",
    "                               # The programme needs more time for higher accuracies. \n",
    "                               # If no ZLAW is specified, the accuracy parameter is always 10.\n",
    "\n",
    "#radii = np.linspace(0,100,500)    # GUESS -> sampling radii\n",
    "radii = rawr                   # GUESS -> sampling radii\n",
    "R = lambda h: 4*h"
   ]
  },
  {
   "cell_type": "code",
   "execution_count": 5,
   "metadata": {},
   "outputs": [],
   "source": [
    "# Definitions\n",
    "def func(x,y,z):\n",
    "    if( x==y ) & ( z == 0):\n",
    "        r = 0\n",
    "    elif( x==0 ) | ( y == 0):\n",
    "        r = 0\n",
    "    else:\n",
    "        xxx = (x*x + y*y + z*z) / (2.0 * x * y)\n",
    "        rrr = (xxx*xxx - 1.0)\n",
    "        ppp = 1.0 / (xxx + np.sqrt(rrr))\n",
    "        fm = 1.0 - ppp*ppp\n",
    "        el1 = (1.3862944 + fm * (0.1119723 + fm * 0.0725296)) - (0.5 + fm * (0.1213478 + fm * 0.0288729)) * np.log(fm)\n",
    "        el2 = (1.0 + fm * ( 0.4630151 + fm * 0.1077812 ) ) - (fm * (0.2452727 + fm * 0.0412496)) * np.log(fm)\n",
    "        r = ((1.0 - xxx * y/x) * el2 / (rrr) + (y/x - ppp) * el1 / np.sqrt(rrr)) / np.pi\n",
    "        r *= np.sqrt(x / (y * ppp))\n",
    "    return r"
   ]
  },
  {
   "cell_type": "code",
   "execution_count": 6,
   "metadata": {},
   "outputs": [],
   "source": [
    "# DISK Density distribution \n",
    "# There are three distribution laws possible; \n",
    "# the Van der Kruit and Searle law (SECH-SQUARED): D(Z)=sech(Z/Z0)**2/Z0,\n",
    "# an exponential density law (EXPONENTIAL): D(Z)=exp(-Z/Z0)/Z0 \n",
    "# a simple sech law (SIMPLE-SECH): D(Z)=2*sech(Z/Z0)/Z0/PI. \n",
    "\n",
    "# case 1 is a flat disk, z0 = 0\n",
    "\n",
    "# Sech-squared law:\n",
    "def denzed_case2(z,z0): \n",
    "    r = np.cosh(z / z0)\n",
    "    r = r * r * z0\n",
    "    r = 1.0 / r\n",
    "    return r\n",
    "\n",
    "# Exponential:\n",
    "def denzed_case3(z,z0):\n",
    "    r = np.exp(-z / z0) /z0\n",
    "    return r\n",
    "\n",
    "# Simple-sech\n",
    "def denzed_case4(z,z0):\n",
    "    r = 2 / z0 / np.pi / np.cosh(z/z0)\n",
    "    return r\n",
    "\n",
    "def denzed(z,z0,mode):\n",
    "    #mode = input(\"Which Z density law? 2 or 3 or 4: \")\n",
    "    #The above results in the user being asked for every point entered; this was likely used as a backend.\n",
    "    if mode == 2:\n",
    "        return denzed_case2(z,z0)\n",
    "    if mode == 3:\n",
    "        return denzed_case2(z,z0)\n",
    "    if mode == 4:\n",
    "        return denzed_case4(z,z0)\n",
    "    else:\n",
    "        return np.nan\n",
    "        print(\"Error occured in denzed; no mode selected. Returned nan.\")"
   ]
  },
  {
   "cell_type": "code",
   "execution_count": 7,
   "metadata": {},
   "outputs": [],
   "source": [
    "\"\"\"intzed computes the integral over Z that defines the kernel of the integral formula for the rotation velocity. \n",
    "This is done for an arbitrary vertical density profile, specified in the function denzed.\n",
    "The interval of integration is divided into several subintervals, in each of which Simpson's rule is used. \n",
    "It is thus possible to have different steps in different regions of the interval of integration, \n",
    "and to compute the integral more accurately. An attempt has been made at optimizing the subdivision. \n",
    "It is still possible that the kernel is not accurate, especially when R is very close to U. \n",
    "It is NOT recommended that the programme is used with very small, but non-zero, values of the thickness. \n",
    "On the other hand, the situation with an infinitely thin disk is dealt with properly, the density profile in \n",
    "Z being then treated as a Dirac delta function.\"\"\"\n",
    "\n",
    "def intzed(r,u,z0,naccur,mode):\n",
    "    zeds = np.array([0.02, 0.50, 1.00, 3.00, 10.00])\n",
    "    \n",
    "    if (z0 != 0.0) & (naccur != 0):\n",
    "        n = 10\n",
    "        n = naccur * n\n",
    "        \n",
    "        if (np.abs(r - u) <= (0.2 * z0)) & (naccur > 1):\n",
    "            n = 200\n",
    "        \n",
    "        zne = 0.0\n",
    "        res = 0.0\n",
    "        i = 0\n",
    "        while i < 5: \n",
    "            zol = zne\n",
    "            zne = zeds[i] * z0\n",
    "            step = (zne - zol) / n\n",
    "            z = zol\n",
    "            res += step * func(r,u,z) * denzed(z,z0,mode) / 3.0\n",
    "            w = 4.0 / 3.0         \n",
    "            j = 0.0\n",
    "            while j < n:\n",
    "                z += step\n",
    "                res += step * func(r,u,z) * denzed(z,z0,mode) * w\n",
    "                w = 2.0 - w\n",
    "                j += 1\n",
    "            res -= step * func(r,u,z) * denzed(z,z0,mode) / 3.0\n",
    "            i += 1\n",
    "    else:\n",
    "        res = func(r,u,z0)\n",
    "    return res"
   ]
  },
  {
   "cell_type": "code",
   "execution_count": 8,
   "metadata": {},
   "outputs": [],
   "source": [
    "# interp does a Lagrange interpolation (second order)\n",
    "def interpd(x1,y1,n1,x2,y2,n2):\n",
    "    i = 0\n",
    "    j = 1\n",
    "    done = 0\n",
    "    n1 = len(radii)\n",
    "    n2 = len(radii)\n",
    "\n",
    "    while i < n2:\n",
    "        x = x2[i]\n",
    "        y = 0.0\n",
    "        while (j != done) & (j < (n1 - 1)):\n",
    "            if ((x1[j-1] <= x ) & (x1[j+1] >= x)):\n",
    "                k = j - 1\n",
    "                while (k <= j + 1):\n",
    "                    f = 1.0\n",
    "                    l = j - 1\n",
    "                    while l <= j + 1:\n",
    "                        if (l != k):\n",
    "                            f *= (x - x1[l]) / (x1[k] - x1[l])\n",
    "                        l += 1        \n",
    "                    y += f * y1[k]\n",
    "                    k += 1 \n",
    "                done = 1\n",
    "            j += 1\n",
    "        if (y > 0.0):\n",
    "            y2[i] = y\n",
    "        else: \n",
    "            y2[i] =0.0\n",
    "        i += 1"
   ]
  },
  {
   "cell_type": "code",
   "execution_count": 9,
   "metadata": {},
   "outputs": [],
   "source": [
    "# interg does the integration\n",
    "def interg(xd,yd,nd,r,rstart,z0,step,ndens,naccur,mode):\n",
    "    vsq = 0.0\n",
    "    i = 1\n",
    "    k = 0\n",
    "\n",
    "    while k < ndens:\n",
    "        if (k == 0 or k == (ndens - 1)):\n",
    "            iw = 1\n",
    "        else:\n",
    "            iw = 4 - 2 * ((k + 1) % 2)\n",
    "        \n",
    "        x = rstart + step * k\n",
    "        y = 0.0\n",
    "\n",
    "        if (x < xd[nd-1]): \n",
    "            done = False\n",
    "            while (done == False) & (i < (nd - 1)):\n",
    "                #if i==1:\n",
    "                    #print(\"            Checking xd...\") #This if (xd...) loop is entered many times in quick succession; doesn't seem to be hanging so much as running too much. Not seeing the \"increased i for the first time\" as frequently as I would have expected, but this if statement IS completing quickly.\n",
    "                if (xd[i-1] <= x) & (xd[i+1] >= x):\n",
    "                    k1 = i - 1\n",
    "                    while k1 <= (i + 1):\n",
    "                        f = 1.0\n",
    "                        k2 = i - 1\n",
    "                        while k2 <= (i + 1):\n",
    "                            if (k1 != k2):\n",
    "                                f *= (x - xd[k2]) / (xd[k1] - xd[k2])\n",
    "                            k2 += 1\n",
    "                        y += f * yd[k1]\n",
    "                        done = True\n",
    "                        k1 += 1\n",
    "                else:\n",
    "                    i += 1\n",
    "            if (y > 0.0):\n",
    "                res = intzed(r,x,z0,naccur,mode)\n",
    "                vsq += CONSTANT * res * y * step * iw\n",
    "        k += 1\n",
    "    return vsq"
   ]
  },
  {
   "cell_type": "code",
   "execution_count": 10,
   "metadata": {},
   "outputs": [],
   "source": [
    "# Surface densities are used to calculate the disk mass\n",
    "# It asks for an array of surface densities and radii\n",
    "# I'll just guess the disk mass instead to make this simpler, since I don't have those arrays\n",
    "\n",
    "#xdinp = np.array(0,100,500)        # radii surface density\n",
    "#ydinp =                            # surface densities\n",
    "\n",
    "rdinp = rcut + delta               # max radius, where galaxy ends\n",
    "ndinp = LEN2 - 1                   # number of surface densities\n",
    "ydinp = np.zeros(LEN2)\n",
    "xdinp = np.zeros(LEN2)\n",
    "xstep = rdinp / (ndinp - 1)        # step in radius\n",
    "\n",
    "# counter \n",
    "i = 0\n",
    "while i < ndinp:\n",
    "    xdinp[i] = x = xstep * i\n",
    "    if ((x >= rcut) & (delta > 0.0)):\n",
    "        y = dens0 * np.exp(-rcut / h) * (rcut + delta - x) / delta\n",
    "    if (x >= rdinp):\n",
    "        y = 0.0                 # end of disk\n",
    "    else:\n",
    "        y = dens0 * np.exp(-x / h) # exponential disk\n",
    "    ydinp[i] = y\n",
    "    i += 1\n",
    "\n",
    "\n",
    "# Next step here would be: \"Now try to fit an exponential and fit H and DENS0.\"\n",
    "# And: \"Now we determine the disk mass and allow the user to modify it.\"\n",
    "\n",
    "# But I will just guess it for now. Not sure where we need this\n",
    "dkmass = 1e9"
   ]
  },
  {
   "cell_type": "code",
   "execution_count": 11,
   "metadata": {},
   "outputs": [],
   "source": [
    "# now get radii for which we should calculate the rotation curve.\n",
    "# using rings?\n",
    "# this is a whole new calculation so I'm guessing again\n",
    "\n",
    "nring = len(radii)              # number of sampling radii\n",
    "rings = radii\n",
    "ntimes = 10                     # this one is given: accuracy multiplication factor"
   ]
  },
  {
   "cell_type": "code",
   "execution_count": 12,
   "metadata": {},
   "outputs": [
    {
     "data": {
      "text/plain": [
       "\"# Since the surface densities are not given, I'm using Casertano's density function \\n# to define radii and densities\\n\\n# Density piecewise function\\ndef rho0(r,h,rho00):\\n    condlist = [r <= R(h), (r > R(h)) & (r <= (R(h)+delta)), r > (R(h)+delta)]\\n    funclist = [lambda r: rho00*np.exp(-r/h), \\n                lambda r: rho00*np.exp(-R(h)/h)*(1-(r-R(h))/delta), \\n                lambda r: 0]\\n    pieces = np.piecewise(r, condlist, funclist)\\n    return pieces\\n\\nxdinp = radii\\nydinp = rho0(radii,h,dens0)\""
      ]
     },
     "execution_count": 12,
     "metadata": {},
     "output_type": "execute_result"
    }
   ],
   "source": [
    "\"\"\"# Since the surface densities are not given, I'm using Casertano's density function \n",
    "# to define radii and densities\n",
    "\n",
    "# Density piecewise function\n",
    "def rho0(r,h,rho00):\n",
    "    condlist = [r <= R(h), (r > R(h)) & (r <= (R(h)+delta)), r > (R(h)+delta)]\n",
    "    funclist = [lambda r: rho00*np.exp(-r/h), \n",
    "                lambda r: rho00*np.exp(-R(h)/h)*(1-(r-R(h))/delta), \n",
    "                lambda r: 0]\n",
    "    pieces = np.piecewise(r, condlist, funclist)\n",
    "    return pieces\n",
    "\n",
    "xdinp = radii\n",
    "ydinp = rho0(radii,h,dens0)\"\"\""
   ]
  },
  {
   "cell_type": "code",
   "execution_count": 13,
   "metadata": {},
   "outputs": [
    {
     "name": "stdout",
     "output_type": "stream",
     "text": [
      "Setting variables...\n",
      "Variables set. Interpolating...\n",
      "Interpolation complete. Calculation will now begin.\n",
      "Loop variables set. Setting variable j...\n",
      "Initial value of j set to 0. Setting additional variables...\n",
      "       0.0% Complete\r"
     ]
    },
    {
     "name": "stderr",
     "output_type": "stream",
     "text": [
      "<ipython-input-5-f42b30e48f33>:12: RuntimeWarning: divide by zero encountered in log\n",
      "  el1 = (1.3862944 + fm * (0.1119723 + fm * 0.0725296)) - (0.5 + fm * (0.1213478 + fm * 0.0288729)) * np.log(fm)\n",
      "<ipython-input-5-f42b30e48f33>:13: RuntimeWarning: divide by zero encountered in log\n",
      "  el2 = (1.0 + fm * ( 0.4630151 + fm * 0.1077812 ) ) - (fm * (0.2452727 + fm * 0.0412496)) * np.log(fm)\n",
      "<ipython-input-5-f42b30e48f33>:13: RuntimeWarning: invalid value encountered in double_scalars\n",
      "  el2 = (1.0 + fm * ( 0.4630151 + fm * 0.1077812 ) ) - (fm * (0.2452727 + fm * 0.0412496)) * np.log(fm)\n"
     ]
    },
    {
     "name": "stdout",
     "output_type": "stream",
     "text": [
      "      99.3% Complete\r"
     ]
    }
   ],
   "source": [
    "# Calculation\n",
    "print(\"Setting variables...\")\n",
    "i = 0\n",
    "j = 0\n",
    "velocs = np.zeros(len(radii))\n",
    "nradii = len(radii)\n",
    "densit = np.zeros(LEN1+LEN2+1)\n",
    "\n",
    "#####################################\n",
    "########### USER SETTINGS ###########\n",
    "#####################################\n",
    "mode = 2\n",
    "\n",
    "print(\"Variables set. Interpolating...\")\n",
    "interpd( xdinp, ydinp, ndinp, radii, densit, nradii )\n",
    "\n",
    "print(\"Interpolation complete. Calculation will now begin.\")\n",
    "while i < len(radii):\n",
    "    r = radii[i]\n",
    "    vsq = 0.0\n",
    "\n",
    "    if i==0:\n",
    "           print(\"Loop variables set. Setting variable j...\")\n",
    "    while ((j < nring)&(rings[j] < r)):\n",
    "           j += 1\n",
    "\n",
    "    if i==0:\n",
    "       print(\"Initial value of j set to \"+str(j)+\". Setting additional variables...\")\n",
    "    skip = rings[j] != r\n",
    "    z1 = z0\n",
    "    r1 = r - 3.0 * z1\n",
    "    if r1 < 0.0:\n",
    "           r1 = 0.0\n",
    "    r2 = 0.0\n",
    "\n",
    "    if (r1 < (rcut + 2.0 * delta)):\n",
    "        r2 = r + (r - r1)\n",
    "        ndens = 6 * ntimes + 1\n",
    "        step = (r2 - r1) / (ndens - 1)\n",
    "        rstart = r1\n",
    "        vsq += interg(xdinp,ydinp,ndinp,r,rstart,z0,step,ndens,naccur,mode)\n",
    "        \n",
    "        if r1 > 0.0:\n",
    "            ndens = r1 * ntimes / h\n",
    "            ndens = 2 * (ndens - 1)\n",
    "            rstart = 0.0\n",
    "            vsq += interg(xdinp,ydinp,ndinp,r,rstart,z0,step,ndens,naccur,mode)\n",
    "    if r2 < (rcut + 2.0 * delta):\n",
    "        ndens = (rcut + 2.0 * delta - r2) * ntimes / h\n",
    "        ndens = 2 * (ndens / 2) + 3\n",
    "        step = (rcut + 2.0 * delta - r2) / (ndens - 1)\n",
    "        rstart = r2\n",
    "        vsq += interg(xdinp,ydinp,ndinp,r,rstart,z0,step,ndens,naccur,mode)\n",
    "    if vsq < 0.0:\n",
    "           velocs[i] = (-np.sqrt(-vsq))\n",
    "    else:\n",
    "           velocs[i] = (np.sqrt(vsq))\n",
    "\n",
    "    print(\"{:10.1f}\".format(i/len(radii)*100)+\"% Complete\",end=\"\")\n",
    "    print('\\r',end=\"\")\n",
    "    i += 1"
   ]
  },
  {
   "cell_type": "code",
   "execution_count": 14,
   "metadata": {
    "scrolled": false
   },
   "outputs": [
    {
     "data": {
      "image/png": "[encoded data removed]",
      "text/plain": [
       "<Figure size 648x576 with 1 Axes>"
      ]
     },
     "metadata": {
      "needs_background": "light"
     },
     "output_type": "display_data"
    }
   ],
   "source": [
    "#plot disk velocity\n",
    "fig = plt.figure(figsize=(9.0,8.0))                #size of the plot\n",
    "ax = plt.axes()\n",
    "ax.grid(True)\n",
    "ax.yaxis.grid(True,which='minor',linestyle='--')\n",
    "\n",
    "plt.scatter(radii, velocs, linestyle='solid', label='Gas Velocity')\n",
    "\n",
    "plt.axis('tight');\n",
    "\n",
    "fig.suptitle('Gas Velocity', fontsize=18)\n",
    "ax.set(title='NGC 5533')              #labeling axes\n",
    "ax.set_xlim(0,11)\n",
    "ax.set_xlabel('r (kpc)', fontsize=14)\n",
    "ax.set_ylabel('v (km/s)', fontsize=14)\n",
    "ax.xaxis.set_tick_params(labelsize=14)\n",
    "ax.yaxis.set_tick_params(labelsize=14);\n",
    "\n",
    "plt.legend(fontsize=16);                                   #adding legend\n",
    "#plt.savefig('DiskVelocity100pts.png')\n",
    "plt.show()"
   ]
  },
  {
   "cell_type": "code",
   "execution_count": null,
   "metadata": {},
   "outputs": [],
   "source": []
  }
 ],
 "metadata": {
  "kernelspec": {
   "display_name": "Python 3",
   "language": "python",
   "name": "python3"
  },
  "language_info": {
   "codemirror_mode": {
    "name": "ipython",
    "version": 3
   },
   "file_extension": ".py",
   "mimetype": "text/x-python",
   "name": "python",
   "nbconvert_exporter": "python",
   "pygments_lexer": "ipython3",
   "version": "3.8.3"
  }
 },
 "nbformat": 4,
 "nbformat_minor": 4
}
