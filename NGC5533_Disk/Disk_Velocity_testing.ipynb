{
 "cells": [
  {
   "cell_type": "code",
   "execution_count": 1,
   "metadata": {},
   "outputs": [],
   "source": [
    "# Import\n",
    "import numpy as np\n",
    "import matplotlib.pyplot as plt\n",
    "import scipy.interpolate as inter \n",
    "import scipy.integrate as integrate\n",
    "from scipy.integrate import quad\n",
    "from scipy.special import ellipe\n",
    "from scipy.special import ellipk"
   ]
  },
  {
   "cell_type": "code",
   "execution_count": 2,
   "metadata": {},
   "outputs": [
    {
     "name": "stdout",
     "output_type": "stream",
     "text": [
      "37.38\n"
     ]
    }
   ],
   "source": [
    "# Parameters for Galaxy NGC 5533\n",
    "G = 4.300e-6                                                #gravitational constant (kpc/solar mass*(km/s)^2)\n",
    "h = 8.9                                                     #radial scale-length (kpc)\n",
    "rho00 = 0.31e9                                              #central 3D density (solar mass/kpc^2) \n",
    "epsdisk = 5.0                                               #mass-to-light ratio disk\n",
    "absmag = -22.02                                             #absolute magnitude \n",
    "magsun = 4.42                                               #absolute magnitude of the sun\n",
    "\n",
    "z0 = 0.2*h                                                  #half-thickness (kpc)\n",
    "R = 4*h                                                     #cut-off radius (kpc)\n",
    "d = 0.2*h                                                   #cut-off length upper limits (kpc)\n",
    "\n",
    "print(R+d)"
   ]
  },
  {
   "cell_type": "code",
   "execution_count": 3,
   "metadata": {
    "scrolled": false
   },
   "outputs": [
    {
     "name": "stdout",
     "output_type": "stream",
     "text": [
      "[1.64006981e-02 3.88501738e+00 7.87588903e+00 1.17575631e+01\n",
      " 1.57546738e+01 1.96291348e+01 2.37401817e+01 2.75064980e+01\n",
      " 3.13903044e+01 3.56194206e+01 3.93728638e+01 4.35945825e+01\n",
      " 4.73517376e+01 5.12228289e+01 5.52093832e+01 5.94341030e+01\n",
      " 6.33070897e+01 6.70612174e+01 7.11660515e+01 7.50371691e+01\n",
      " 7.91434774e+01 8.31321114e+01 8.70029394e+01 9.09909416e+01]\n"
     ]
    },
    {
     "data": {
      "image/png": "[encoded data removed]",
      "text/plain": [
       "<Figure size 648x576 with 1 Axes>"
      ]
     },
     "metadata": {
      "needs_background": "light"
     },
     "output_type": "display_data"
    }
   ],
   "source": [
    "# H1 surface mass density data from https://www.aanda.org/articles/aa/full/2005/40/aa3172-05/aa3172-05_online.html\n",
    "# Used DataThief to get data from image\n",
    "h1data = np.loadtxt(\"../5533_h1_data/h1data.txt\")\n",
    "rarcsec, h1smd = h1data.T\n",
    "\n",
    "# Converting arcseconds to kpc for radius measurements\n",
    "D = 54.3         # in Mpc\n",
    "rkpc = rarcsec*D*1000/206265                # calculated using http://astro.physics.uiowa.edu/ITU/glossary/small-angle-formula/\n",
    "print(rkpc)\n",
    "\n",
    "# Plot HI surface density\n",
    "plt.figure(figsize=(9,8))\n",
    "plt.scatter(rarcsec,h1smd)\n",
    "plt.xlabel(\"Radius (arcsec)\")\n",
    "plt.ylabel(\"HI surface density ($M_\\odot pc^{-2}$)\")\n",
    "plt.show()\n",
    "\n",
    "# Does this measured H1 data equal rho00?\n",
    "rho00 = inter.UnivariateSpline(rkpc, h1smd, k=3)"
   ]
  },
  {
   "cell_type": "code",
   "execution_count": 4,
   "metadata": {},
   "outputs": [],
   "source": [
    "#definitions\n",
    "def x(r,u,z):\n",
    "    return ((r**2)+(u**2)+(z**2))/(2*r*u)\n",
    "\n",
    "def px(r,u,z):\n",
    "    return x(r,u,z)-(np.sqrt((x(r,u,z)**2)-1))"
   ]
  },
  {
   "cell_type": "code",
   "execution_count": 5,
   "metadata": {},
   "outputs": [],
   "source": [
    "#density piecewise function\n",
    "def rho0(r,R,h,d):\n",
    "    condlist = [r <= R, (r > R) & (r <= (R+d)), r > (R+d)]\n",
    "    funclist = [lambda r: rho00(r)*np.exp(-r/h), lambda r: rho00(r)*np.exp(-R/h)*(1-(r-R)/d), lambda r: 0]\n",
    "    return np.piecewise(r, condlist, funclist)\n",
    "#print(rho0(37,R,h,d))\n",
    "#print(rho0(38,R,h,d))"
   ]
  },
  {
   "cell_type": "code",
   "execution_count": 6,
   "metadata": {},
   "outputs": [],
   "source": [
    "#partial derivative of rho(xi,u)\n",
    "def durho0(r,R,h,d):\n",
    "    condlist = [r <= R, (r > R) & (r <= (R+d)), r > (R+d)]\n",
    "    funclist = [lambda r: -(1/h)*rho00(r)*np.exp(-r/h), lambda r: -(1/d)*rho00(r)*np.exp(-R/h), lambda r: 0]\n",
    "    return np.piecewise(r, condlist, funclist)\n",
    "#print(durho0(37,R,h,d))\n",
    "#print(durho0(38,R,h,d))"
   ]
  },
  {
   "cell_type": "code",
   "execution_count": 7,
   "metadata": {
    "scrolled": true
   },
   "outputs": [],
   "source": [
    "#disk density distribution\n",
    "def rho_rz(r,z):\n",
    "    rho_rz = rho0(r,R,h,d)*(np.power(np.cosh(z/z0), (-2)))\n",
    "    return rho_rz\n",
    "\n",
    "def drho_rz(r,z):\n",
    "    drho_rz = durho0(r,R,h,d)*(np.power(np.cosh(z/z0), (-2)))\n",
    "    return drho_rz"
   ]
  },
  {
   "cell_type": "code",
   "execution_count": 8,
   "metadata": {
    "scrolled": true
   },
   "outputs": [],
   "source": [
    "#complete elliptic integral\n",
    "def K(r,u,z):\n",
    "    K = ellipk(px(r,u,z)) - ellipe(px(r,u,z))\n",
    "    return K"
   ]
  },
  {
   "cell_type": "code",
   "execution_count": 9,
   "metadata": {},
   "outputs": [],
   "source": [
    "#inner function\n",
    "def innerf(r,u,z): \n",
    "    innerf = u*drho_rz(u,z)*(2*K(r,u,z))/(np.pi*np.sqrt(r*u*px(r,u,z)))\n",
    "    return innerf"
   ]
  },
  {
   "cell_type": "code",
   "execution_count": 10,
   "metadata": {},
   "outputs": [],
   "source": [
    "#integrate function\n",
    "def innerf2(z,r,u):\n",
    "    innerf2 = innerf(r,u,z)\n",
    "    return innerf2\n",
    "\n",
    "intinnerf = lambda u,r: quad(innerf2, 0, np.inf, args=(r,u,))[0]"
   ]
  },
  {
   "cell_type": "code",
   "execution_count": 11,
   "metadata": {},
   "outputs": [],
   "source": [
    "#integrate outer function\n",
    "def intinnerf2(u,r): \n",
    "    intinnerf2 = intinnerf(r,u)\n",
    "    return intinnerf2\n",
    "\n",
    "intouterf = lambda r: quad(intinnerf2, 0, np.inf, args=(r,))[0]"
   ]
  },
  {
   "cell_type": "code",
   "execution_count": 12,
   "metadata": {},
   "outputs": [],
   "source": [
    "#Radial force\n",
    "F = lambda r: 4*np.pi*G*intouterf(r)"
   ]
  },
  {
   "cell_type": "code",
   "execution_count": 13,
   "metadata": {},
   "outputs": [
    {
     "name": "stderr",
     "output_type": "stream",
     "text": [
      "C:\\Users\\JB\\AppData\\Local\\Continuum\\anaconda3\\lib\\site-packages\\ipykernel_launcher.py:7: RuntimeWarning: overflow encountered in cosh\n",
      "  import sys\n",
      "C:\\Users\\JB\\AppData\\Local\\Continuum\\anaconda3\\lib\\site-packages\\ipykernel_launcher.py:3: RuntimeWarning: invalid value encountered in double_scalars\n",
      "  This is separate from the ipykernel package so we can avoid doing imports until\n",
      "C:\\Users\\JB\\AppData\\Local\\Continuum\\anaconda3\\lib\\site-packages\\scipy\\integrate\\quadpack.py:385: IntegrationWarning: The occurrence of roundoff error is detected, which prevents \n",
      "  the requested tolerance from being achieved.  The error may be \n",
      "  underestimated.\n",
      "  warnings.warn(msg, IntegrationWarning)\n",
      "C:\\Users\\JB\\AppData\\Local\\Continuum\\anaconda3\\lib\\site-packages\\scipy\\integrate\\quadpack.py:385: IntegrationWarning: The maximum number of subdivisions (50) has been achieved.\n",
      "  If increasing the limit yields no improvement it is advised to analyze \n",
      "  the integrand in order to determine the difficulties.  If the position of a \n",
      "  local difficulty can be determined (singularity, discontinuity) one will \n",
      "  probably gain from splitting up the interval and calling the integrator \n",
      "  on the subranges.  Perhaps a special-purpose integrator should be used.\n",
      "  warnings.warn(msg, IntegrationWarning)\n",
      "C:\\Users\\JB\\AppData\\Local\\Continuum\\anaconda3\\lib\\site-packages\\scipy\\integrate\\quadpack.py:385: IntegrationWarning: The integral is probably divergent, or slowly convergent.\n",
      "  warnings.warn(msg, IntegrationWarning)\n"
     ]
    }
   ],
   "source": [
    "#disk velocity\n",
    "rd = np.linspace(0.1, 1000, num=500)\n",
    "Fv = np.vectorize(F)\n",
    "v = np.sqrt(-rd*Fv(rd))"
   ]
  },
  {
   "cell_type": "code",
   "execution_count": 14,
   "metadata": {},
   "outputs": [
    {
     "data": {
      "image/png": "[encoded data removed]",
      "text/plain": [
       "<Figure size 648x576 with 1 Axes>"
      ]
     },
     "metadata": {
      "needs_background": "light"
     },
     "output_type": "display_data"
    }
   ],
   "source": [
    "#plot disk velocity\n",
    "fig = plt.figure(figsize=(9.0,8.0))                #size of the plot\n",
    "ax = plt.axes()\n",
    "ax.grid(True)\n",
    "ax.yaxis.grid(True,which='minor',linestyle='--')\n",
    "\n",
    "plt.plot(rd, v, linestyle='solid', label='Disk Velocity')\n",
    "\n",
    "plt.axis('tight');\n",
    "\n",
    "fig.suptitle('Disk Velocity', fontsize=18)\n",
    "ax.set(title='NGC 5533')              #labeling axes\n",
    "ax.set_xlim(0,100)\n",
    "ax.set_xlabel('r (kpc)', fontsize=14)\n",
    "ax.set_ylabel('v (km/s)', fontsize=14)\n",
    "ax.xaxis.set_tick_params(labelsize=14)\n",
    "ax.yaxis.set_tick_params(labelsize=14);\n",
    "\n",
    "plt.legend(fontsize=16);                                   #adding legend\n",
    "#plt.savefig('DiskVelocity100pts.png')\n",
    "plt.show()"
   ]
  },
  {
   "cell_type": "code",
   "execution_count": null,
   "metadata": {},
   "outputs": [],
   "source": []
  }
 ],
 "metadata": {
  "kernelspec": {
   "display_name": "Python 3",
   "language": "python",
   "name": "python3"
  },
  "language_info": {
   "codemirror_mode": {
    "name": "ipython",
    "version": 3
   },
   "file_extension": ".py",
   "mimetype": "text/x-python",
   "name": "python",
   "nbconvert_exporter": "python",
   "pygments_lexer": "ipython3",
   "version": "3.7.1"
  }
 },
 "nbformat": 4,
 "nbformat_minor": 4
}
