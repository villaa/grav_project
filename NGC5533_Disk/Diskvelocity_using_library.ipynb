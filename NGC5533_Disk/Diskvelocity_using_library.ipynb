{
 "cells": [
  {
   "cell_type": "code",
   "execution_count": 1,
   "metadata": {},
   "outputs": [],
   "source": [
    "#Imports\n",
    "import sys\n",
    "sys.path.append('../python/')\n",
    "import NGC5533_functions as nf\n",
    "\n",
    "import numpy as np\n",
    "import matplotlib.pyplot as plt"
   ]
  },
  {
   "cell_type": "code",
   "execution_count": null,
   "metadata": {},
   "outputs": [
    {
     "name": "stderr",
     "output_type": "stream",
     "text": [
      "../python\\NGC5533_functions.py:304: RuntimeWarning: overflow encountered in cosh\n",
      "  return d_durho0(r, h, d_rho00)*np.power(np.cosh(z/z0(h)), -2)\n",
      "../python\\NGC5533_functions.py:307: RuntimeWarning: invalid value encountered in double_scalars\n",
      "  return 2*(ss.ellipk(d_px(r,u,xi)) - ss.ellipe(d_px(r,u,xi)))/(np.pi*np.sqrt(r*u*d_px(r,u,xi)))\n",
      "C:\\Users\\JB\\AppData\\Local\\Continuum\\anaconda3\\lib\\site-packages\\scipy\\integrate\\quadpack.py:385: IntegrationWarning: The occurrence of roundoff error is detected, which prevents \n",
      "  the requested tolerance from being achieved.  The error may be \n",
      "  underestimated.\n",
      "  warnings.warn(msg, IntegrationWarning)\n",
      "C:\\Users\\JB\\AppData\\Local\\Continuum\\anaconda3\\lib\\site-packages\\scipy\\integrate\\quadpack.py:385: IntegrationWarning: The maximum number of subdivisions (50) has been achieved.\n",
      "  If increasing the limit yields no improvement it is advised to analyze \n",
      "  the integrand in order to determine the difficulties.  If the position of a \n",
      "  local difficulty can be determined (singularity, discontinuity) one will \n",
      "  probably gain from splitting up the interval and calling the integrator \n",
      "  on the subranges.  Perhaps a special-purpose integrator should be used.\n",
      "  warnings.warn(msg, IntegrationWarning)\n"
     ]
    }
   ],
   "source": [
    "fig = plt.figure(figsize=(9.0,8.0))\n",
    "\n",
    "plt.xlim(0,120)\n",
    "#plt.ylim(0,450)\n",
    "\n",
    "r = np.linspace(0.1,120,100)\n",
    "\n",
    "plt.plot(r,nf.d_v(r,nf.h_c,nf.drho00_c,pref=1),label='Disk: from library')\n",
    "plt.plot(r,nf.b_v(r,nf.n_c,nf.re_c),label='Bulge: from library')\n",
    "plt.plot(r,nf.h_v(r,nf.h_rc,nf.hrho00_c),label='Halo: from library')\n",
    "\n",
    "plt.legend()\n",
    "plt.show()"
   ]
  },
  {
   "cell_type": "code",
   "execution_count": null,
   "metadata": {},
   "outputs": [],
   "source": [
    "print(\"p(x) = {}\".format(nf.d_px(1,1,0)))\n",
    "print(\"R(h) + d(h) = {}\".format(nf.R(nf.h_c)+nf.d(nf.h_c)))\n",
    "print(\"z(h) = {}\".format(nf.z0(nf.h_c)))\n",
    "print(\"R(h) = {}\".format(nf.R(nf.h_c)))\n",
    "print(\"d(h) = {}\".format(nf.d(nf.h_c)))\n",
    "print(\"rho(R+d,h,d_rho00_c) = {}\".format(nf.d_rho0(nf.R(nf.h_c)+nf.d(nf.h_c), nf.h_c, nf.drho00_c)))\n",
    "print(\"rho(R+d+0.0001,h,drho00_c) = {}\".format(nf.d_rho0(nf.R(nf.h_c)+nf.d(nf.h_c)+0.001, nf.h_c, nf.drho00_c)))\n",
    "print(\"durho(R+d,h,drho00_c) = {}\".format(nf.d_durho0(nf.R(nf.h_c)+nf.d(nf.h_c), nf.h_c, nf.drho00_c)))\n",
    "print(\"durho(R+d+0.0001,h,drho00_c) = {}\".format(nf.d_durho0(nf.R(nf.h_c)+nf.d(nf.h_c)+0.001, nf.h_c, nf.drho00_c)))\n",
    "print(\"rho_rz(R+d,z=1,h,drho00_c) = {}\".format(nf.d_rho_rz(nf.R(nf.h_c)+nf.d(nf.h_c), 1.0, nf.h_c, nf.drho00_c)))\n",
    "print(\"rho_rz(R+d+0.0001,z=1,h,drho00_c) = {}\".format(nf.d_rho_rz(nf.R(nf.h_c)+nf.d(nf.h_c)+0.001, 1.0, nf.h_c, nf.drho00_c)))\n",
    "print(\"drho_rz(R+d,z=1,h,drho00_c) = {}\".format(nf.d_drho_rz(nf.R(nf.h_c)+nf.d(nf.h_c), 1.0, nf.h_c, nf.drho00_c)))\n",
    "print(\"drho_rz(R+d+0.0001,z=1,h,drho00_c) = {}\".format(nf.d_drho_rz(nf.R(nf.h_c)+nf.d(nf.h_c)+0.001, 1.0, nf.h_c, nf.drho00_c)))\n",
    "print(\"K(1,1,1) (complete elliptic integral) = {}\".format(nf.d_K(r=1,u=1,xi=1)))\n",
    "print(\"innerfunction(1,1,1) = {}\".format(nf.d_innerfunc(1,1,1,nf.h_c,nf.drho00_c)))\n",
    "print(\"innerintegral(1,1) = {}\".format(nf.d_innerintegral(1,1,nf.h_c,nf.drho00_c)))\n",
    "print(\"outerintegral(10) = {}\".format(nf.d_outerintegral(10,nf.h_c,nf.drho00_c)))\n",
    "print(\"F(10) = {}\".format(nf.d_F(1,nf.h_c,nf.drho00_c,1)))"
   ]
  },
  {
   "cell_type": "code",
   "execution_count": null,
   "metadata": {},
   "outputs": [],
   "source": []
  }
 ],
 "metadata": {
  "kernelspec": {
   "display_name": "Python 3",
   "language": "python",
   "name": "python3"
  },
  "language_info": {
   "codemirror_mode": {
    "name": "ipython",
    "version": 3
   },
   "file_extension": ".py",
   "mimetype": "text/x-python",
   "name": "python",
   "nbconvert_exporter": "python",
   "pygments_lexer": "ipython3",
   "version": "3.7.1"
  }
 },
 "nbformat": 4,
 "nbformat_minor": 2
}
