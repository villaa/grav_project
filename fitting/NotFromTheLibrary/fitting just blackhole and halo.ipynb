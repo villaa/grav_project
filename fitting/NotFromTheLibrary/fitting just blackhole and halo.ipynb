{
 "cells": [
  {
   "cell_type": "code",
   "execution_count": 1,
   "metadata": {},
   "outputs": [],
   "source": [
    "#Imports\n",
    "import sys\n",
    "sys.path.append('../python/')\n",
    "import NGC5533_functions as nf\n",
    "\n",
    "import numpy as np\n",
    "import matplotlib.pyplot as plt\n",
    "import scipy.optimize as opt\n",
    "import lmfit as lm\n",
    "import dataPython as dp"
   ]
  },
  {
   "cell_type": "code",
   "execution_count": 2,
   "metadata": {},
   "outputs": [
    {
     "name": "stderr",
     "output_type": "stream",
     "text": [
      "../python\\NGC5533_functions.py:304: RuntimeWarning: overflow encountered in cosh\n",
      "  return d_durho0(r, h, d_rho00)*np.power(np.cosh(z/z0(h)), -2)\n"
     ]
    },
    {
     "name": "stdout",
     "output_type": "stream",
     "text": [
      "-14242.83232278033\n"
     ]
    },
    {
     "name": "stderr",
     "output_type": "stream",
     "text": [
      "C:\\Users\\Cirdan\\Anaconda3\\lib\\site-packages\\scipy\\integrate\\quadpack.py:385: IntegrationWarning: The maximum number of subdivisions (50) has been achieved.\n",
      "  If increasing the limit yields no improvement it is advised to analyze \n",
      "  the integrand in order to determine the difficulties.  If the position of a \n",
      "  local difficulty can be determined (singularity, discontinuity) one will \n",
      "  probably gain from splitting up the interval and calling the integrator \n",
      "  on the subranges.  Perhaps a special-purpose integrator should be used.\n",
      "  warnings.warn(msg, IntegrationWarning)\n"
     ]
    }
   ],
   "source": [
    "data = dp.getXYdata_wXYerr('data/100kpc_data.txt')\n",
    "r_dat = np.asarray(data['xx'])\n",
    "v_dat = np.asarray(data['yy'])\n",
    "v_err0 = np.asarray(data['ex'])\n",
    "v_err1 = np.asarray(data['ey'])\n",
    "\n",
    "#change r_dat so it's strictly increasing\n",
    "r_dat, v_dat, v_err0, v_err1 = (np.asarray(list(a)) for a in zip(*sorted(zip(r_dat, v_dat, v_err0, v_err1))))\n",
    "#converting v_err1 to an array\n",
    "v_err1_array = np.asarray(v_err1)\n",
    "\n",
    "print(nf.d_F(1.1,nf.h_c,nf.drho00_c,pref=1))"
   ]
  },
  {
   "cell_type": "code",
   "execution_count": 3,
   "metadata": {},
   "outputs": [],
   "source": [
    "def f(r,M,rc,rho00):\n",
    "    return np.sqrt(nf.bh_v(r,M)**2 + nf.h_v(r,rc,rho00)**2)\n",
    "\n",
    "#def f(r,c):\n",
    "#    return np.sqrt(c*nf.b_v(r,load=True)**2)"
   ]
  },
  {
   "cell_type": "code",
   "execution_count": 4,
   "metadata": {},
   "outputs": [],
   "source": [
    "#Setup\n",
    "weighdata = 1/v_err1\n",
    "l_mod = lm.Model(f)\n",
    "params = l_mod.make_params()\n",
    "#Black Hole\n",
    "params.add('M', value=nf.Mbh_def, min=0) #Mass\n",
    "#Bulge\n",
    "#params.add('c', value=1, min=0)          #Contributions should all add\n",
    "#params.add('n', value=nf.n_c, min=0) \n",
    "#params.add('re', value=nf.re_c, min=0) \n",
    "#Disk\n",
    "#params.add('h', value=nf.h_c, min=0, max=1000)\n",
    "#params.add('d_rho00', value=nf.drho00_c, min=0, max=1000)\n",
    "#params.add('pref', value=nf.pref_def, min=0, max=1000)\n",
    "#Halo\n",
    "params.add('rc', value=nf.h_rc, min=0)   #Radius (magnitude)\n",
    "params.add('rho00', value=nf.hrho00_c, min=0) #Density (halo)\n",
    "\n",
    "#Do fit\n",
    "l_fit = l_mod.fit(v_dat,params,r=r_dat,weights=weighdata)\n",
    "\n",
    "#Define Stuff\n",
    "l_dict = l_fit.best_values\n",
    "l_M = l_dict['M']\n",
    "l_rc = l_dict['rc']\n",
    "l_hrho00 = l_dict['rho00']\n",
    "#l_h = l_dict['h']\n",
    "#l_drho00 = l_dict['d_rho00']\n",
    "#l_pref = l_dict['pref']\n",
    "#l_c = l_dict['c']\n",
    "#l_n = l_dict['n']\n",
    "#l_re = l_dict['re']\n",
    "\n",
    "l_curve = np.sqrt(nf.bh_v(r_dat,l_M)**2 + nf.h_v(r_dat,l_rc,l_hrho00)**2)\n",
    "#l_curve = np.sqrt(l_c*nf.b_v(r_dat,load=True)**2)\n",
    "\n",
    "#b_curve = l_c*nf.b_v(r_dat,load=True)        #Bulge\n",
    "#d_curve = nf.d_v(r_dat,l_h,l_drho00,l_pref,load=True) #Disk\n",
    "#bh_curve = nf.bh_v(r_dat,l_M)                         #Black Hole\n",
    "#h_curve = nf.h_v(r_dat,l_rc,l_hrho00,load=True)       #Halo\n",
    "#nodisk = np.sqrt(nf.bh_v(r_dat,l_M,load=True)**2 + nf.h_v(r_dat,l_rc,l_hrho00,load=True)**2 + l_c*nf.b_v(r_dat,l_n,l_re,load=True)**2)"
   ]
  },
  {
   "cell_type": "code",
   "execution_count": 49,
   "metadata": {},
   "outputs": [
    {
     "data": {
      "image/png": "[encoded data removed]",
      "text/plain": [
       "<Figure size 1008x720 with 1 Axes>"
      ]
     },
     "metadata": {
      "needs_background": "light"
     },
     "output_type": "display_data"
    },
    {
     "data": {
      "text/html": [
       "<h2> Model</h2> Model(f) <h2>Fit Statistics</h2><table><tr><td>fitting method</td><td>leastsq</td><td></td></tr><tr><td># function evals</td><td>2095</td><td></td></tr><tr><td># data points</td><td>69</td><td></td></tr><tr><td># variables</td><td>3</td><td></td></tr><tr><td>chi-square</td><td> 1452.19648</td><td></td></tr><tr><td>reduced chi-square</td><td> 22.0029770</td><td></td></tr><tr><td>Akaike info crit.</td><td> 216.224094</td><td></td></tr><tr><td>Bayesian info crit.</td><td> 222.926413</td><td></td></tr></table><h2>Variables</h2><table><tr><th> name </th><th> value </th><th> standard error </th><th> relative error </th><th> initial value </th><th> min </th><th> max </th><th> vary </th></tr><tr><td> M </td><td>  1.6704e+10 </td><td>  4.4814e+11 </td><td> 2682.80% </td><td> 2700000000.0 </td><td>  0.00000000 </td><td>         inf </td><td> True </td></tr><tr><td> rc </td><td>  0.00622992 </td><td>  19.8960977 </td><td> 319363.41% </td><td> 1.4 </td><td>  0.00000000 </td><td>         inf </td><td> True </td></tr><tr><td> rho00 </td><td>  2.9524e+13 </td><td>  1.8772e+17 </td><td> 635834.09% </td><td> 310000000.0 </td><td>  0.00000000 </td><td>         inf </td><td> True </td></tr></table><h2>Correlations (unreported correlations are < 0.100)</h2><table><tr><td>rc</td><td>rho00</td><td>-1.0000</td></tr><tr><td>M</td><td>rho00</td><td>-1.0000</td></tr><tr><td>M</td><td>rc</td><td>1.0000</td></tr></table>"
      ],
      "text/plain": [
       "<lmfit.model.ModelResult at 0x21598743e80>"
      ]
     },
     "execution_count": 49,
     "metadata": {},
     "output_type": "execute_result"
    }
   ],
   "source": [
    "fig = plt.figure(figsize=(14.0,10.0))\n",
    "\n",
    "halo1 = np.linspace(0,20)\n",
    "halo2 = np.linspace(0,120)\n",
    "\n",
    "plt.xlim(0,120)\n",
    "plt.ylim(0,360)\n",
    "plt.errorbar(r_dat,v_dat,yerr=v_err1,fmt='bo',label='Data')\n",
    "plt.plot(r_dat,l_curve,label='Fit, Blackhole and Halo Only')\n",
    "#plt.plot(r_dat,d_curve,label='Disk Fit')\n",
    "#plt.plot(r_dat,nf.d_v(r_dat,nf.h_c,nf.drho00_c,pref=1),label='Disk: Our calculations')\n",
    "#plt.plot(r_dat,nodisk,label='No Disk')\n",
    "#plt.plot(r_dat,b_curve,label='Bulge Only')\n",
    "#plt.plot(r_dat,bh_curve,label='Black Hole Only')\n",
    "#plt.plot(r_dat,h_curve,label='Halo Only')\n",
    "'''\n",
    "fig, axs = plt.subplots(1, 2)\n",
    "#fig.suptitle('Horizontally stacked subplots')\n",
    "axs[0].plot(r_dat, l_curve)\n",
    "plt.xlim(0,120)\n",
    "plt.ylim(0,360)\n",
    "axs[0].plot.errorbar(r_dat,v_dat,yerr=v_err1,fmt='bo',label='Data')\n",
    "axs[1].plot(r_dat, l_curve)\n",
    "plt.xlim(0,20)\n",
    "plt.ylim(0,360)\n",
    "plt.ylim(0,360)\n",
    "'''\n",
    "plt.legend()\n",
    "plt.show()\n",
    "\n",
    "l_fit"
   ]
  },
  {
   "cell_type": "code",
   "execution_count": null,
   "metadata": {},
   "outputs": [],
   "source": []
  },
  {
   "cell_type": "markdown",
   "metadata": {},
   "source": [
    "### Necessary to use matplotlib widget, which is required for interactive stuff, in jupyterlab:\n",
    "\n",
    "```\n",
    "pip install ipympl\n",
    "\n",
    "# If using JupyterLab\n",
    "# Install nodejs: https://nodejs.org/en/download/\n",
    "jupyter labextension install @jupyter-widgets/jupyterlab-manager\n",
    "jupyter labextension install jupyter-matplotlib\n",
    "```\n",
    "\n",
    "These are the instructions on the extension's github page: https://github.com/matplotlib/jupyter-matplotlib\n",
    "but they did not work for me :( It's no longer an image but they are unresponsive."
   ]
  },
  {
   "cell_type": "code",
   "execution_count": null,
   "metadata": {},
   "outputs": [],
   "source": []
  },
  {
   "cell_type": "code",
   "execution_count": null,
   "metadata": {},
   "outputs": [],
   "source": []
  }
 ],
 "metadata": {
  "kernelspec": {
   "display_name": "Python 3",
   "language": "python",
   "name": "python3"
  },
  "language_info": {
   "codemirror_mode": {
    "name": "ipython",
    "version": 3
   },
   "file_extension": ".py",
   "mimetype": "text/x-python",
   "name": "python",
   "nbconvert_exporter": "python",
   "pygments_lexer": "ipython3",
   "version": "3.7.1"
  }
 },
 "nbformat": 4,
 "nbformat_minor": 4
}
