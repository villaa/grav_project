{
 "cells": [
  {
   "cell_type": "code",
   "execution_count": 1,
   "metadata": {},
   "outputs": [],
   "source": [
    "#Imports\n",
    "import sys\n",
    "sys.path.append('python/')\n",
    "import dataPython as dp\n",
    "import numpy as np\n",
    "import lmfit as lf\n",
    "import matplotlib.pyplot as plt\n",
    "import scipy.optimize as opt\n",
    "import scipy.interpolate as inter\n",
    "#import logging as log"
   ]
  },
  {
   "cell_type": "code",
   "execution_count": 2,
   "metadata": {},
   "outputs": [],
   "source": [
    "data_bh_nord = dp.getXYdata('ngc 5533 total/data/NGC5533-blackhole_fmt.txt')  #getting noordermeer's traced data\n",
    "\n",
    "#Black hole (Noordermeer's)\n",
    "#convert to numpy arrays\n",
    "r_bh_nord = np.asarray(data_bh_nord['xx'])\n",
    "v_bh_nord = np.asarray(data_bh_nord['yy'])\n",
    "\n",
    "\n",
    "#smoothing\n",
    "#rdata = np.linspace(0.1,5,50) \n",
    "#ydata = np.zeros(data_bh_nord['yy']) \n",
    "#r_bh_nord = r_bh_nord[r_bh_nord.argsort()]\n",
    "#v_bh_nord = v_bh_nord[r_bh_nord.argsort()]\n",
    "#idx = np.arange(0,np.shape(r_bh_nord)[0])\n",
    "#f_v_bh_nord = inter.InterpolatedUnivariateSpline(r_bh_nord[idx%1==0], v_bh_nord[idx%1==0], k=3)\n",
    "#yydata = np.vectorize(f_v_bh_nord)\n"
   ]
  },
  {
   "cell_type": "code",
   "execution_count": 4,
   "metadata": {},
   "outputs": [],
   "source": [
    "#Function\n",
    "def v(r,G,M):          #Independent variable must be listed first for scipy to know how to fit it.\n",
    "    return np.sqrt(G*M/r)  #In python, anything unset must be listed as a variable in the function, including the parameters we fit for.\n",
    "\n",
    "#Points representing function - this is necessary to plot f(x) for our comparison.\n",
    "ycurve = np.sqrt(4.3e-6*2.7e9/r_bh_nord)\n"
   ]
  },
  {
   "cell_type": "code",
   "execution_count": 6,
   "metadata": {},
   "outputs": [
    {
     "name": "stdout",
     "output_type": "stream",
     "text": [
      "G: 4.796398375237048e-06 ± 1.0971546051483359e-08\n",
      "M: 2480468750.0 ± 2.1231771510969187e-23\n"
     ]
    }
   ],
   "source": [
    "#SCIPY FITTING\n",
    "#Setup\n",
    "#Initial Guesses for G and M. In this case, our initial guess is the true function.\n",
    "p0 = [4.0e-6,2.0e9] #Parameters should be in the same order here as they were when we defined our function.\n",
    "bounds = [0,np.inf]  #KITTYADD bc sqrt can't be negative\n",
    "\n",
    "#Do fit\n",
    "s_fit = opt.curve_fit(v,r_bh_nord,v_bh_nord,p0,bounds=bounds,absolute_sigma=True) #absolute_sigma is set so that uncertainties aren't treated as percentages.\n",
    "#print(s_fit) #If we uncomment this line, we see that s_fit is an array containing two arrays.\n",
    "\n",
    "#Define parameters from fit. Our parameters are stored in the first array in our fit output, in the order they were listed in f.\n",
    "s_G = s_fit[0][0]\n",
    "s_M = s_fit[0][1]\n",
    "#s_c = s_fit[0][2]\n",
    "\n",
    "#Define error from fit.\n",
    "s_cov = s_fit[1]                    #The second array in the fit output is a covariance matrix.\n",
    "s_error = np.sqrt(np.diag(s_cov)) #The diagonals of the covariance matrix are the variances of individual parameters.\n",
    "s_Ge = s_error[0]                   #The errors will be in an order corresponding to the order of the parameters in their array\n",
    "s_Me = s_error[1]\n",
    "#s_ce = s_error[2]\n",
    "\n",
    "#Create array to plot\n",
    "s_curve = np.sqrt(s_G*s_M/r_bh_nord) #KITTYCHANGE just the equation again but with the array for G and M\n",
    "\n",
    "#Print Values\n",
    "print('G: '+str(s_G)+u' \\u00B1 '+str(s_Ge))\n",
    "print('M: '+str(s_M)+u' \\u00B1 '+str(s_Me))\n",
    "#print('c: '+str(s_c)+u' \\u00B1 '+str(s_ce))"
   ]
  },
  {
   "cell_type": "code",
   "execution_count": 8,
   "metadata": {},
   "outputs": [
    {
     "data": {
      "text/html": [
       "<h2> Model</h2> Model(v) <h2>Fit Statistics</h2><table><tr><td>fitting method</td><td>leastsq</td><td></td></tr><tr><td># function evals</td><td>24</td><td></td></tr><tr><td># data points</td><td>65</td><td></td></tr><tr><td># variables</td><td>2</td><td></td></tr><tr><td>chi-square</td><td> 2511.97925</td><td></td></tr><tr><td>reduced chi-square</td><td> 39.8726865</td><td></td></tr><tr><td>Akaike info crit.</td><td> 241.538535</td><td></td></tr><tr><td>Bayesian info crit.</td><td> 245.887309</td><td></td></tr></table><h2>Variables</h2><table><tr><th> name </th><th> value </th><th> standard error </th><th> relative error </th><th> initial value </th><th> min </th><th> max </th><th> vary </th></tr><tr><td> G </td><td>  4.0396e-06 </td><td>  13.3318887 </td><td> 330031058.74% </td><td> 4.3e-06 </td><td>  0.00000000 </td><td>         inf </td><td> True </td></tr><tr><td> M </td><td>  2.9452e+09 </td><td>  9.7167e+15 </td><td> 329919682.54% </td><td> 2700000000.0 </td><td>  0.00000000 </td><td>         inf </td><td> True </td></tr></table><h2>Correlations (unreported correlations are < 0.100)</h2><table><tr><td>G</td><td>M</td><td>-1.0000</td></tr></table>"
      ],
      "text/plain": [
       "<lmfit.model.ModelResult at 0x2419b9f83c8>"
      ]
     },
     "execution_count": 8,
     "metadata": {},
     "output_type": "execute_result"
    }
   ],
   "source": [
    "#LMFIT FITTING\n",
    "#Setup\n",
    "#weighdata = 1/sigdata                       #We will need weights for lmfit. This tells us how much to account for a single data point in the fit.\n",
    "l_mod = lf.Model(v)                         #Tell lmfit that we want to model the function f\n",
    "params = l_mod.make_params(G=4.3e-6, M=2.7e9)   #Give lmfit our initial guesses - again, the true function\n",
    "params.add('G', value=4.3e-6, min=0) #KITTYADD so lmfit doesn't guess negative values (bc G is so lose to zero)\n",
    "params.add('M', value=2.7e9, min=0)   #KITTYADD so lmfit doesn't guess negative values \n",
    "\n",
    "#Do fit\n",
    "l_fit = l_mod.fit(v_bh_nord, params, r=r_bh_nord, nan_policy='omit') #Here is where the weights we set at the beginning come in.\n",
    "\n",
    "#Define Stuff\n",
    "l_dict = l_fit.best_values #l_fit has a lot of output. We want to use the final result.\n",
    "l_G = l_dict['G']          #Dictionary items are called based on their name.\n",
    "l_M = l_dict['M']          #So, we don't have to track the order of parameters.\n",
    "#l_c = l_dict['c']\n",
    "\n",
    "#Create array to plot\n",
    "l_curve = np.sqrt(l_G*l_M/r_bh_nord)  #KITTYCHANGE again, just equation only now with these second array things\n",
    "\n",
    "l_fit #Display information about the fit"
   ]
  },
  {
   "cell_type": "code",
   "execution_count": 10,
   "metadata": {},
   "outputs": [
    {
     "data": {
      "image/png": "[encoded data removed]",
      "text/plain": [
       "<Figure size 648x576 with 1 Axes>"
      ]
     },
     "metadata": {
      "needs_background": "light"
     },
     "output_type": "display_data"
    }
   ],
   "source": [
    "#Plotting\n",
    "\n",
    "fig = plt.figure(figsize=(9.0,8.0))                #size of the plot\n",
    "\n",
    "plt.errorbar(r_bh_nord,v_bh_nord,fmt='bo',label='Data') #Plot points (fmt='*o') with error bars\n",
    "#plt.plot(r_bh_nord,ycurve,label='Function')                      #Accepting default style gives us a solid line\n",
    "plt.plot(r_bh_nord,s_curve,linestyle='--',label='SciPy')         #Plot the scipy curve fit with a dashed line\n",
    "plt.plot(r_bh_nord,l_curve,linestyle='--',label='LmFit')\n",
    "\n",
    "plt.legend()           #Tells our plot to show a legend\n",
    "plt.show()             #Depending how your environment is set up, this line may not be necessary, but it won't break anything."
   ]
  },
  {
   "cell_type": "code",
   "execution_count": null,
   "metadata": {},
   "outputs": [],
   "source": []
  }
 ],
 "metadata": {
  "kernelspec": {
   "display_name": "Python 3",
   "language": "python",
   "name": "python3"
  },
  "language_info": {
   "codemirror_mode": {
    "name": "ipython",
    "version": 3
   },
   "file_extension": ".py",
   "mimetype": "text/x-python",
   "name": "python",
   "nbconvert_exporter": "python",
   "pygments_lexer": "ipython3",
   "version": "3.7.1"
  }
 },
 "nbformat": 4,
 "nbformat_minor": 2
}
