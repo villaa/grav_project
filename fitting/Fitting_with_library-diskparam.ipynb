{
 "cells": [
  {
   "cell_type": "code",
   "execution_count": 1,
   "metadata": {},
   "outputs": [],
   "source": [
    "#Imports\n",
    "import sys\n",
    "sys.path.append('../python/')\n",
    "import NGC5533_functions_diskparam as nf\n",
    "\n",
    "import numpy as np\n",
    "import matplotlib.pyplot as plt\n",
    "import scipy.optimize as opt\n",
    "import lmfit as lm\n",
    "import dataPython as dp"
   ]
  },
  {
   "cell_type": "code",
   "execution_count": 2,
   "metadata": {},
   "outputs": [],
   "source": [
    "#data = dp.getXYdata_wXYerr('data/NGC5533-rot-data_fmt.txt')\n",
    "data = dp.getXYdata_wXYerr('data/100kpc_data.txt')\n",
    "r_dat = np.asarray(data['xx'])\n",
    "v_dat = np.asarray(data['yy'])\n",
    "v_err0 = np.asarray(data['ex'])\n",
    "v_err1 = np.asarray(data['ey'])\n",
    "\n",
    "#change r_dat so it's strictly increasing\n",
    "r_dat, v_dat, v_err0, v_err1 = (np.asarray(list(a)) for a in zip(*sorted(zip(r_dat, v_dat, v_err0, v_err1))))\n",
    "#converting v_err1 to an array\n",
    "v_err1_array = np.asarray(v_err1)"
   ]
  },
  {
   "cell_type": "code",
   "execution_count": 3,
   "metadata": {},
   "outputs": [],
   "source": [
    "def f(r,M,rc,rho00,c,re,h,d_rho00,pref):\n",
    "#def f(r,M,rc,rho00,c):\n",
    "    return np.sqrt(nf.bh_v(r,M)**2 + nf.h_v(r,rc,rho00,load=True)**2 + c*nf.b_v(r,re,load=True)**2 + nf.d_v(r,h,d_rho00,pref,load=True)**2)"
   ]
  },
  {
   "cell_type": "code",
   "execution_count": 4,
   "metadata": {},
   "outputs": [
    {
     "name": "stderr",
     "output_type": "stream",
     "text": [
      "C:\\Users\\JB\\AppData\\Local\\Continuum\\anaconda3\\lib\\site-packages\\scipy\\integrate\\quadpack.py:385: IntegrationWarning: The maximum number of subdivisions (50) has been achieved.\n",
      "  If increasing the limit yields no improvement it is advised to analyze \n",
      "  the integrand in order to determine the difficulties.  If the position of a \n",
      "  local difficulty can be determined (singularity, discontinuity) one will \n",
      "  probably gain from splitting up the interval and calling the integrator \n",
      "  on the subranges.  Perhaps a special-purpose integrator should be used.\n",
      "  warnings.warn(msg, IntegrationWarning)\n"
     ]
    }
   ],
   "source": [
    "#Setup\n",
    "weighdata = 1/v_err1\n",
    "l_mod = lm.Model(f)\n",
    "params = l_mod.make_params()\n",
    "#Black Hole\n",
    "params.add('M', value=nf.Mbh_def, min=0) #Mass\n",
    "#Bulge\n",
    "params.add('c', value=1, min=0)          #Contributions should all add\n",
    "#params.add('n', value=nf.n_c, min=0) \n",
    "params.add('re', value=nf.re_c, min=0) \n",
    "#Disk\n",
    "params.add('h', value=nf.h_c, min=0)\n",
    "params.add('d_rho00', value=nf.drho00_c, min=0)\n",
    "params.add('pref', value=0.5, min=0)\n",
    "#Halo\n",
    "params.add('rc', value=nf.h_rc, min=0)   #Radius (magnitude)\n",
    "params.add('rho00', value=nf.hrho00_c, min=0) #Density (halo)\n",
    "\n",
    "#Do fit\n",
    "l_fit = l_mod.fit(v_dat,params,r=r_dat,weights=weighdata)\n",
    "\n",
    "#Define Stuff\n",
    "l_dict = l_fit.best_values\n",
    "l_M = l_dict['M']\n",
    "l_rc = l_dict['rc']\n",
    "l_hrho00 = l_dict['rho00']\n",
    "l_h = l_dict['h']\n",
    "l_drho00 = l_dict['d_rho00']\n",
    "l_pref = l_dict['pref']\n",
    "l_c = l_dict['c']\n",
    "#l_n = l_dict['n']\n",
    "l_re = l_dict['re']\n",
    "\n",
    "l_curve = np.sqrt(nf.bh_v(r_dat,l_M)**2 + nf.h_v(r_dat,l_rc,l_hrho00,load=True)**2 + l_c*nf.b_v(r_dat,l_re,load=True)[1]**2 + nf.d_v(r_dat,l_h,l_drho00,l_pref,load=True)**2)\n",
    "    \n",
    "b_curve = l_c*nf.b_v(r_dat,nf.n_c,l_re,load=True)        #Bulge\n",
    "d_curve = nf.d_v(r_dat,l_h,l_drho00,l_pref,load=True) #Disk\n",
    "bh_curve = nf.bh_v(r_dat,l_M)                         #Black Hole\n",
    "h_curve = nf.h_v(r_dat,l_rc,l_hrho00,load=True)       #Halo\n",
    "#nodisk = np.sqrt(nf.bh_v(r_dat,l_M,load=True)**2 + nf.h_v(r_dat,l_rc,l_hrho00,load=True)**2 + l_c*nf.b_v(r_dat,l_n,l_re,load=True)**2)"
   ]
  },
  {
   "cell_type": "code",
   "execution_count": 5,
   "metadata": {},
   "outputs": [
    {
     "data": {
      "image/png": "[encoded data removed]",
      "text/plain": [
       "<Figure size 648x576 with 1 Axes>"
      ]
     },
     "metadata": {
      "needs_background": "light"
     },
     "output_type": "display_data"
    },
    {
     "data": {
      "text/html": [
       "<h2> Model</h2> Model(f) <h2>Fit Statistics</h2><table><tr><td>fitting method</td><td>leastsq</td><td></td></tr><tr><td># function evals</td><td>110</td><td></td></tr><tr><td># data points</td><td>52</td><td></td></tr><tr><td># variables</td><td>8</td><td></td></tr><tr><td>chi-square</td><td> 2005.74228</td><td></td></tr><tr><td>reduced chi-square</td><td> 45.5850517</td><td></td></tr><tr><td>Akaike info crit.</td><td> 205.931340</td><td></td></tr><tr><td>Bayesian info crit.</td><td> 221.541290</td><td></td></tr></table><h2>Variables</h2><table><tr><th> name </th><th> value </th><th> standard error </th><th> relative error </th><th> initial value </th><th> min </th><th> max </th><th> vary </th></tr><tr><td> M </td><td>  1.8612e+10 </td><td>  1.6436e+10 </td><td> 88.31% </td><td> 2700000000.0 </td><td>  0.00000000 </td><td>         inf </td><td> True </td></tr><tr><td> rc </td><td>  0.53908090 </td><td>  1.16637619 </td><td> 216.36% </td><td> 1.4 </td><td>  0.00000000 </td><td>         inf </td><td> True </td></tr><tr><td> rho00 </td><td>  4.4201e+09 </td><td>  1.8532e+10 </td><td> 419.27% </td><td> 310000000.0 </td><td>  0.00000000 </td><td>         inf </td><td> True </td></tr><tr><td> c </td><td>  179865.745 </td><td>  509504.345 </td><td> 283.27% </td><td> 1 </td><td>  0.00000000 </td><td>         inf </td><td> True </td></tr><tr><td> re </td><td>  48022.1374 </td><td>  1.5292e+18 </td><td> 3184339306349373.00% </td><td> 9.9 </td><td>  0.00000000 </td><td>         inf </td><td> True </td></tr><tr><td> h </td><td>  73207.8159 </td><td>         nan </td><td> nan% </td><td> 8.9 </td><td>  0.00000000 </td><td>         inf </td><td> True </td></tr><tr><td> d_rho00 </td><td>  3.1000e+08 </td><td>         nan </td><td> nan% </td><td> 310000000.0 </td><td>  0.00000000 </td><td>         inf </td><td> True </td></tr><tr><td> pref </td><td>  0.00395984 </td><td>  0.00301945 </td><td> 76.25% </td><td> 0.5 </td><td>  0.00000000 </td><td>         inf </td><td> True </td></tr></table><h2>Correlations (unreported correlations are < 0.100)</h2><table><tr><td>rc</td><td>rho00</td><td>-0.9996</td></tr><tr><td>M</td><td>rho00</td><td>-0.9362</td></tr><tr><td>M</td><td>rc</td><td>0.9292</td></tr><tr><td>rc</td><td>c</td><td>-0.6925</td></tr><tr><td>rho00</td><td>c</td><td>0.6720</td></tr><tr><td>c</td><td>pref</td><td>-0.5993</td></tr><tr><td>M</td><td>c</td><td>-0.4790</td></tr><tr><td>rc</td><td>pref</td><td>0.3176</td></tr><tr><td>rho00</td><td>pref</td><td>-0.3052</td></tr><tr><td>M</td><td>pref</td><td>0.2116</td></tr></table>"
      ],
      "text/plain": [
       "<lmfit.model.ModelResult at 0x282b3d79048>"
      ]
     },
     "execution_count": 5,
     "metadata": {},
     "output_type": "execute_result"
    }
   ],
   "source": [
    "fig = plt.figure(figsize=(9.0,8.0))\n",
    "\n",
    "plt.xlim(0,20)\n",
    "\n",
    "#plt.errorbar(r_dat,v_dat,yerr=v_err1,fmt='bo',label='Data')\n",
    "#plt.plot(r_dat,l_curve,label='Fit')\n",
    "#plt.plot(r_dat,d_curve,label='Disk Only')\n",
    "#plt.plot(r_dat,nodisk,label='No Disk')\n",
    "plt.plot(r_dat,b_curve,label='Bulge Only')\n",
    "#plt.plot(r_dat,bh_curve,label='Black Hole Only')\n",
    "#plt.plot(r_dat,h_curve,label='Halo Only')\n",
    "\n",
    "plt.legend()\n",
    "plt.show()\n",
    "\n",
    "l_fit"
   ]
  },
  {
   "cell_type": "code",
   "execution_count": 6,
   "metadata": {},
   "outputs": [
    {
     "name": "stdout",
     "output_type": "stream",
     "text": [
      "Bulge\n",
      "Scaling constant,         C = 179865.74\n",
      "Effective radius,         re = 48022.14 [kpc]\n",
      "Mass-to-Light Ratio,      upsdisk = 1.88991e+11\n",
      "\n",
      "Disk\n",
      "Radial Scale Length,      h = 73207.816 [kpc]\n",
      "Central Surface Density,  rho00 = 3.100e+08 [solar mass/kpc^3]\n",
      "Scaling constant,         prefactor = 0.004\n",
      "Mass-to-Light Ratio,      upsdisk = -1.42321e+05\n",
      "-1.3539167495244508e+18\n",
      "\n",
      "Black Hole\n",
      "Mass of the Black Hole,   M(bh) = 1.861e+10 [solar masses]\n",
      "\n",
      "Dark Halo\n",
      "Halo central density,     rho00 = 4.420e+09 [solar mass/kpc^3]\n",
      "Core radius,              rc = 0.54 [kpc]\n"
     ]
    }
   ],
   "source": [
    "# Using fitted parameters to calculate parameters for Galactic Components\n",
    "    \n",
    "# Bulge\n",
    "print('Bulge')\n",
    "print('Scaling constant,         C = {:.2f}'.format(l_c))\n",
    "#print('Concentration parameter,  n = {:.2f}'.format(l_n))\n",
    "print('Effective radius,         re = {:.2f} [kpc]'.format(l_re))\n",
    "\n",
    "upsbulge = l_c * nf.b_r0(nf.n_c,l_re) * nf.n_c / (4 * nf.G * nf.q * nf.b_I0(nf.n_c,l_re) * (np.sqrt((np.sin(nf.i)**2)+(1/(nf.q**2))*(np.cos(nf.i)**2))))\n",
    "print('Mass-to-Light Ratio,      upsdisk = {:.5e}'.format(upsbulge))\n",
    "\n",
    "# comparing to fixed consants of re and n:\n",
    "#ups2bulge = l_c * nf.b_r0(nf.n_c,nf.re_c) * nf.n_c / (4 * nf.G * nf.q * nf.b_I0(nf.n_c,nf.re_c) * (np.sqrt((np.sin(nf.i)**2)+(1/(nf.q**2))*(np.cos(nf.i)**2))))\n",
    "#print('Mass-to-Light Ratio,      ups = {:.5e}'.format(ups2bulge))\n",
    "\n",
    "#print(l_n)\n",
    "#print(nf.n_c)\n",
    "#print(l_re)\n",
    "#print(nf.re_c)\n",
    "\n",
    "print('')\n",
    "\n",
    "\n",
    "# Disk\n",
    "print('Disk')\n",
    "print('Radial Scale Length,      h = {:.3f} [kpc]'.format(l_h))\n",
    "print('Central Surface Density,  rho00 = {:.3e} [solar mass/kpc^3]'.format(l_drho00))\n",
    "print('Scaling constant,         prefactor = {:.3f}'.format(l_pref))\n",
    "\n",
    "r = (0.1, 125, 100)\n",
    "upsdisk = l_pref * nf.d_Mdblintrho(r,nf.h_c,nf.drho00_c) / nf.L0\n",
    "print('Mass-to-Light Ratio,      upsdisk = {:.5e}'.format(upsdisk))\n",
    "print(nf.d_Mdblintrho(r,nf.h_c,nf.drho00_c))\n",
    "\n",
    "print('')\n",
    "\n",
    "\n",
    "# Black Hole\n",
    "print('Black Hole')\n",
    "print('Mass of the Black Hole,   M(bh) = {:.3e} [solar masses]'.format(l_M))\n",
    "print('')\n",
    "\n",
    "\n",
    "# Dark Halo\n",
    "print('Dark Halo')\n",
    "print('Halo central density,     rho00 = {:.3e} [solar mass/kpc^3]'.format(l_hrho00))\n",
    "print('Core radius,              rc = {:.2f} [kpc]'.format(l_rc))\n",
    "\n",
    "\n",
    "# Gas"
   ]
  },
  {
   "cell_type": "code",
   "execution_count": 22,
   "metadata": {},
   "outputs": [
    {
     "data": {
      "image/png": "[encoded data removed]",
      "text/plain": [
       "<Figure size 864x576 with 10 Axes>"
      ]
     },
     "metadata": {
      "needs_background": "light"
     },
     "output_type": "display_data"
    }
   ],
   "source": [
    "# Adding a slider to the plot using Matplotlib Slider Widget\n",
    "import numpy as np\n",
    "import matplotlib.pyplot as plt\n",
    "from matplotlib.widgets import Slider, Button, RadioButtons\n",
    "\n",
    "fig, ax = plt.subplots(figsize=(12.0,8.0))\n",
    "plt.subplots_adjust(left=0.12, bottom=0.42)\n",
    "#fig = plt.figure(figsize=(9.0,8.0))\n",
    "\n",
    "l, = plt.plot(r_dat, l_curve, linewidth=1, color='blue')\n",
    "plt.errorbar(r_dat,v_dat,yerr=v_err1,fmt='bo',label='Data')\n",
    "plt.axis([0, 120, 0, 450])\n",
    "\n",
    "ax.margins(x=0)\n",
    "\n",
    "axcolor = 'lightgoldenrodyellow'\n",
    "ax_M = plt.axes([0.12, 0.36, 0.79, 0.03], facecolor=axcolor)  \n",
    "ax_c = plt.axes([0.12, 0.31, 0.79, 0.03], facecolor=axcolor)\n",
    "#ax_n = plt.axes([0.12, 0.31, 0.79, 0.03], facecolor=axcolor)\n",
    "ax_re = plt.axes([0.12, 0.26, 0.79, 0.03], facecolor=axcolor)\n",
    "ax_pref = plt.axes([0.12, 0.21, 0.79, 0.03], facecolor=axcolor)\n",
    "ax_h = plt.axes([0.12, 0.16, 0.79, 0.03], facecolor=axcolor)\n",
    "ax_drho00 = plt.axes([0.12, 0.11, 0.79, 0.03], facecolor=axcolor)\n",
    "ax_hrho00 = plt.axes([0.12, 0.06, 0.79, 0.03], facecolor=axcolor)\n",
    "ax_rc = plt.axes([0.12, 0.01, 0.79, 0.03], facecolor=axcolor)\n",
    "\n",
    "s_M = Slider(ax_M, 'Black Hole: Mass [solar mass]', 0.1, 1.0e11, valinit=l_M, valstep=1.0e5)\n",
    "s_c = Slider(ax_c, 'Bulge: Scaling Constant', 0.1, 10.0, valinit=l_c, valstep=0.1)\n",
    "#s_n = Slider(ax_n, 'Bulge: Concentration Parameter', 0.1, 20.0, valinit=l_n, valstep=0.1)\n",
    "s_re = Slider(ax_re, 'Bulge: Effective Radius [kpc]', 0.1, 300.0, valinit=l_re, valstep=5.0)\n",
    "s_pref = Slider(ax_pref, 'Disk: Prefactor', 0.1, 10.0, valinit=l_pref, valstep=0.1)\n",
    "s_h = Slider(ax_h, 'Disk: Radial Scale Length [kpc]', 0.1, 300.0, valinit=l_h, valstep=5.0)\n",
    "s_drho00 = Slider(ax_drho00, 'Disk: Central Surface Density [solar mass/kpc^3]', 0.1, 1.0e10, valinit=l_drho00, valstep=1.0e5)\n",
    "s_hrho00 = Slider(ax_hrho00, 'Halo: Central Surface Density [solar mass/kpc^3]', 0.1, 1.0e12, valinit=l_hrho00, valstep=1.0e5)\n",
    "s_rc = Slider(ax_rc, 'Halo: Core Radius [kpc]', 0.1, 10.0, valinit=l_rc, valstep=0.1)\n",
    "\n",
    "def update(val):\n",
    "    u_M = s_M.val\n",
    "    u_c = s_c.val\n",
    "    #u_n = s_n.val\n",
    "    u_re = s_re.val\n",
    "    u_pref = s_pref.val\n",
    "    u_h = s_h.val\n",
    "    u_drho00 = s_drho00.val\n",
    "    u_hrho00 = s_hrho00.val\n",
    "    u_rc = s_rc.val\n",
    "    l.set_ydata(np.sqrt(nf.bh_v(r_dat,l_M)**2 + nf.h_v(r_dat,l_rc,l_hrho00,load=True)**2 + l_c*nf.b_v(r_dat,l_re,load=True)[1]**2 + nf.d_v(r_dat,l_h,l_drho00,l_pref,load=True)**2))\n",
    "    #l.set_ydata(nf.bh_v(r_dat,l_M))\n",
    "    fig.canvas.draw_idle()\n",
    "\n",
    "s_M.on_changed(update)\n",
    "s_c.on_changed(update)\n",
    "#s_n.on_changed(update)\n",
    "s_re.on_changed(update)\n",
    "s_pref.on_changed(update)\n",
    "s_h.on_changed(update)\n",
    "s_drho00.on_changed(update)\n",
    "s_hrho00.on_changed(update)\n",
    "s_rc.on_changed(update)\n",
    "\n",
    "resetax = plt.axes([0.8, 0.8, 0.1, 0.03])\n",
    "button = Button(resetax, 'Reset', color=axcolor, hovercolor='0.975')\n",
    "\n",
    "def reset(event):\n",
    "    s_M.reset()\n",
    "    s_c.reset()\n",
    "    #s_n.reset()\n",
    "    s_re.reset()\n",
    "    s_pref.reset()\n",
    "    s_h.reset()\n",
    "    s_drho00.reset()\n",
    "    s_hrho00.reset()\n",
    "    s_rc.reset()\n",
    "button.on_clicked(reset)\n",
    "\n",
    "plt.show()"
   ]
  },
  {
   "cell_type": "code",
   "execution_count": null,
   "metadata": {},
   "outputs": [],
   "source": []
  }
 ],
 "metadata": {
  "kernelspec": {
   "display_name": "Python 3",
   "language": "python",
   "name": "python3"
  },
  "language_info": {
   "codemirror_mode": {
    "name": "ipython",
    "version": 3
   },
   "file_extension": ".py",
   "mimetype": "text/x-python",
   "name": "python",
   "nbconvert_exporter": "python",
   "pygments_lexer": "ipython3",
   "version": "3.7.1"
  }
 },
 "nbformat": 4,
 "nbformat_minor": 4
}
