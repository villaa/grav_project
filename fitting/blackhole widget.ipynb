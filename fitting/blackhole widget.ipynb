{
 "cells": [
  {
   "cell_type": "code",
   "execution_count": 34,
   "metadata": {},
   "outputs": [
    {
     "data": {
      "application/vnd.jupyter.widget-view+json": {
       "model_id": "d4dbc4e13ad842b0884dc54e941b563c",
       "version_major": 2,
       "version_minor": 0
      },
      "text/plain": [
       "interactive(children=(FloatSlider(value=5000000000.0, description='M', max=10000000000.0, step=1000000000.0), …"
      ]
     },
     "metadata": {},
     "output_type": "display_data"
    }
   ],
   "source": [
    "#Hello to anyone viewing this\n",
    "#1. can't yet figure out how to use the blackhole equation from the library (Kitty?)\n",
    "#2. disabling warnings is rather necessary, screen twitches horribly otherwise\n",
    "\n",
    "%matplotlib inline\n",
    "from ipywidgets import interactive\n",
    "#Imports\n",
    "import sys\n",
    "sys.path.append('../python/')\n",
    "import NGC5533_functions as nf\n",
    "\n",
    "import numpy as np\n",
    "import matplotlib.pyplot as plt\n",
    "import scipy.optimize as opt\n",
    "import lmfit as lm\n",
    "import dataPython as dp\n",
    "import scipy.interpolate as inter\n",
    "\n",
    "from datetime import datetime\n",
    "import scipy.integrate as si\n",
    "import noordermeer as noord\n",
    "import time as t\n",
    "import warnings\n",
    "warnings.filterwarnings(\"ignore\")  #ignore warnings\n",
    "\n",
    "data = dp.getXYdata_wXYerr('data/final/nord-120kpc-datapoints.txt')\n",
    "data_total = dp.getXYdata('data/final/nord-120kpc-total.txt')\n",
    "r_dat = np.asarray(data['xx'])\n",
    "v_dat = np.asarray(data['yy'])\n",
    "v_err0 = np.asarray(data['ex'])\n",
    "v_err1 = np.asarray(data['ey'])\n",
    "\n",
    "G = 4.30091e-6  \n",
    "def f(M):\n",
    "    #plt.figure(2)\n",
    "    #x = np.linspace(-10, 10, num=1000)\n",
    "    #plt.plot(x, m * x + b)\n",
    "    #plt.ylim(-5, 5)\n",
    "    #plt.show()\n",
    "    \n",
    "    plt.figure(figsize=(9.0,8.0))\n",
    "    plt.xlim(0,120)\n",
    "    plt.ylim(0,360)\n",
    "    rval = np.linspace(0,100,1000)\n",
    "    plt.errorbar(r_dat,v_dat,yerr=v_err1,fmt='bo',label='Data')\n",
    "    plt.plot(rval,np.sqrt(G*M/rval))\n",
    "\n",
    "interactive_plot = interactive(f, M=(0, 10e9,1e9),continuous_update=False)\n",
    "output = interactive_plot.children[-1]\n",
    "#output.layout.height = '350px'\n",
    "interactive_plot"
   ]
  },
  {
   "cell_type": "code",
   "execution_count": null,
   "metadata": {},
   "outputs": [],
   "source": []
  }
 ],
 "metadata": {
  "kernelspec": {
   "display_name": "Python 3",
   "language": "python",
   "name": "python3"
  },
  "language_info": {
   "codemirror_mode": {
    "name": "ipython",
    "version": 3
   },
   "file_extension": ".py",
   "mimetype": "text/x-python",
   "name": "python",
   "nbconvert_exporter": "python",
   "pygments_lexer": "ipython3",
   "version": "3.7.4"
  }
 },
 "nbformat": 4,
 "nbformat_minor": 2
}
