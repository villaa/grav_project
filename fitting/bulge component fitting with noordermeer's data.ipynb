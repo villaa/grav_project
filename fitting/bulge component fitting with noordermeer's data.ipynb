{
 "cells": [
  {
   "cell_type": "code",
   "execution_count": 1,
   "metadata": {},
   "outputs": [],
   "source": [
    "#Imports\n",
    "import sys\n",
    "sys.path.append('python/')\n",
    "import dataPython as dp\n",
    "import numpy as np\n",
    "import lmfit as lf\n",
    "import matplotlib.pyplot as plt\n",
    "import scipy.optimize as opt\n",
    "import scipy.interpolate as inter\n",
    "#import logging as log"
   ]
  },
  {
   "cell_type": "code",
   "execution_count": 2,
   "metadata": {},
   "outputs": [],
   "source": [
    "data_bulge_nord = dp.getXYdata('ngc 5533 total/data/NGC5533-bulge_fmt.txt')  #getting noordermeer's traced data\n",
    "\n",
    "#Bulge (Noordermeer's)\n",
    "#convert to numpy arrays\n",
    "r_b_nord = np.asarray(data_bulge_nord['xx'])\n",
    "v_b_nord = np.asarray(data_bulge_nord['yy'])"
   ]
  },
  {
   "cell_type": "code",
   "execution_count": 3,
   "metadata": {},
   "outputs": [
    {
     "ename": "SyntaxError",
     "evalue": "invalid syntax (<ipython-input-3-3be4fb695fac>, line 11)",
     "output_type": "error",
     "traceback": [
      "\u001b[1;36m  File \u001b[1;32m\"<ipython-input-3-3be4fb695fac>\"\u001b[1;36m, line \u001b[1;32m11\u001b[0m\n\u001b[1;33m    return (4*G*q*ups*I0 = (L*((so.brentq(f,0,500000,rtol=0.000001,maxiter=100))**(2*n)))/(((re**2)*2*np.pi*n)*ss.gamma(2*n)))/((re/(so.brentq(f,0,500000,rtol=0.000001,maxiter=100))**n)*np.float(n))*(np.sqrt((np.sin(i)**2)+(1/(q**2))*(np.cos(i)**2)))*((np.exp(-np.power(r/(re/(so.brentq(f,0,500000,rtol=0.000001,maxiter=100))**n), (1/n))))*(np.power(r/(re/bn**n), ((1/n)-1))))/(np.sqrt((r**2)-(m**2)))*(m**2)/(np.sqrt((x**2)-((m**2)*(1-(q**2)))))\u001b[0m\n\u001b[1;37m                         ^\u001b[0m\n\u001b[1;31mSyntaxError\u001b[0m\u001b[1;31m:\u001b[0m invalid syntax\n"
     ]
    }
   ],
   "source": [
    "#Function\n",
    "re = 2.6                                    #1kpc\n",
    "L = 3.27e10  \n",
    "G = 4.300e-6                                        #gravitational constant (kpc/solar mass*(km/s)^2)\n",
    "ups = 2.8                                           #mass-to-light ratio (from Rotation Curves of Sersic Bulges paper)\n",
    "q = 0.33                                            #intrinsic axis ratio\n",
    "i = 45*(np.pi/180) \n",
    "\n",
    "def integrand(m, x):\n",
    "    'y must be the first argument, and x the second.'\n",
    "    return (4*G*q*ups*I0 = (L*((so.brentq(f,0,500000,rtol=0.000001,maxiter=100))**(2*n)))/(((re**2)*2*np.pi*n)*ss.gamma(2*n)))/((re/(so.brentq(f,0,500000,rtol=0.000001,maxiter=100))**n)*np.float(n))*(np.sqrt((np.sin(i)**2)+(1/(q**2))*(np.cos(i)**2)))*((np.exp(-np.power(r/(re/(so.brentq(f,0,500000,rtol=0.000001,maxiter=100))**n), (1/n))))*(np.power(r/(re/bn**n), ((1/n)-1))))/(np.sqrt((r**2)-(m**2)))*(m**2)/(np.sqrt((x**2)-((m**2)*(1-(q**2)))))\n",
    "\n",
    "vb = lambda r: np.sqrt(dblquad(integrand, 0, x, lambda m: m, lambda m: np.inf))\n",
    "\n",
    "def vb(r,n):          #Independent variable must be listed first for scipy to know how to fit it.\n",
    "    return vb  #In python, anything unset must be listed as a variable in the function, including the parameters we fit for.\n",
    "\n",
    "#Points representing function - this is necessary to plot f(x) for our comparison.\n",
    "ycurve = np.sqrt(4.3e-6*2.7e9/r_bh_nord)\n"
   ]
  },
  {
   "cell_type": "code",
   "execution_count": null,
   "metadata": {},
   "outputs": [],
   "source": [
    "#SCIPY FITTING\n",
    "#Setup\n",
    "#Initial Guesses for G and M. In this case, our initial guess is the true function.\n",
    "p0 = [4.0e-6,2.0e9] #Parameters should be in the same order here as they were when we defined our function.\n",
    "bounds = [0,np.inf]  #KITTYADD bc sqrt can't be negative\n",
    "\n",
    "#Do fit\n",
    "s_fit = opt.curve_fit(vb,r_bh_nord,v_bh_nord,p0,bounds=bounds,absolute_sigma=True) #absolute_sigma is set so that uncertainties aren't treated as percentages.\n",
    "#print(s_fit) #If we uncomment this line, we see that s_fit is an array containing two arrays.\n",
    "\n",
    "#Define parameters from fit. Our parameters are stored in the first array in our fit output, in the order they were listed in f.\n",
    "s_G = s_fit[0][0]\n",
    "s_M = s_fit[0][1]\n",
    "#s_c = s_fit[0][2]\n",
    "\n",
    "#Define error from fit.\n",
    "s_cov = s_fit[1]                    #The second array in the fit output is a covariance matrix.\n",
    "s_error = np.sqrt(np.diag(s_cov)) #The diagonals of the covariance matrix are the variances of individual parameters.\n",
    "s_Ge = s_error[0]                   #The errors will be in an order corresponding to the order of the parameters in their array\n",
    "s_Me = s_error[1]\n",
    "#s_ce = s_error[2]\n",
    "\n",
    "#Create array to plot\n",
    "s_curve = np.sqrt(s_G*s_M/r_bh_nord) #KITTYCHANGE just the equation again but with the array for G and M\n",
    "\n",
    "#Print Values\n",
    "print('G: '+str(s_G)+u' \\u00B1 '+str(s_Ge))\n",
    "print('M: '+str(s_M)+u' \\u00B1 '+str(s_Me))\n",
    "#print('c: '+str(s_c)+u' \\u00B1 '+str(s_ce))"
   ]
  },
  {
   "cell_type": "code",
   "execution_count": null,
   "metadata": {},
   "outputs": [],
   "source": [
    "#LMFIT FITTING\n",
    "#Setup\n",
    "#weighdata = 1/sigdata                       #We will need weights for lmfit. This tells us how much to account for a single data point in the fit.\n",
    "l_mod = lf.Model(v)                         #Tell lmfit that we want to model the function f\n",
    "params = l_mod.make_params(G=4.3e-6, M=2.7e9)   #Give lmfit our initial guesses - again, the true function\n",
    "params.add('G', value=4.3e-6, min=0) #KITTYADD so lmfit doesn't guess negative values (bc G is so lose to zero)\n",
    "params.add('M', value=2.7e9, min=0)   #KITTYADD so lmfit doesn't guess negative values \n",
    "\n",
    "#Do fit\n",
    "l_fit = l_mod.fit(v_bh_nord, params, r=r_bh_nord, nan_policy='omit') #Here is where the weights we set at the beginning come in.\n",
    "\n",
    "#Define Stuff\n",
    "l_dict = l_fit.best_values #l_fit has a lot of output. We want to use the final result.\n",
    "l_G = l_dict['G']          #Dictionary items are called based on their name.\n",
    "l_M = l_dict['M']          #So, we don't have to track the order of parameters.\n",
    "#l_c = l_dict['c']\n",
    "\n",
    "#Create array to plot\n",
    "l_curve = np.sqrt(l_G*l_M/r_bh_nord)  #KITTYCHANGE again, just equation only now with these second array things\n",
    "\n",
    "l_fit #Display information about the fit"
   ]
  },
  {
   "cell_type": "code",
   "execution_count": null,
   "metadata": {},
   "outputs": [],
   "source": [
    "#Plotting\n",
    "\n",
    "fig = plt.figure(figsize=(9.0,8.0))                #size of the plot\n",
    "\n",
    "plt.errorbar(r_bh_nord,v_bh_nord,fmt='bo',label='Data') #Plot points (fmt='*o') with error bars\n",
    "#plt.plot(r_bh_nord,ycurve,label='Function')                      #Accepting default style gives us a solid line\n",
    "plt.plot(r_bh_nord,s_curve,linestyle='--',label='SciPy')         #Plot the scipy curve fit with a dashed line\n",
    "plt.plot(r_bh_nord,l_curve,linestyle='--',label='LmFit')\n",
    "\n",
    "plt.legend()           #Tells our plot to show a legend\n",
    "plt.show()             #Depending how your environment is set up, this line may not be necessary, but it won't break anything."
   ]
  },
  {
   "cell_type": "code",
   "execution_count": null,
   "metadata": {},
   "outputs": [],
   "source": []
  }
 ],
 "metadata": {
  "kernelspec": {
   "display_name": "Python 3",
   "language": "python",
   "name": "python3"
  },
  "language_info": {
   "codemirror_mode": {
    "name": "ipython",
    "version": 3
   },
   "file_extension": ".py",
   "mimetype": "text/x-python",
   "name": "python",
   "nbconvert_exporter": "python",
   "pygments_lexer": "ipython3",
   "version": "3.7.1"
  }
 },
 "nbformat": 4,
 "nbformat_minor": 2
}
