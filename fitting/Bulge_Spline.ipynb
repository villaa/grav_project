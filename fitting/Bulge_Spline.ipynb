{
 "cells": [
  {
   "cell_type": "code",
   "execution_count": 2,
   "metadata": {},
   "outputs": [],
   "source": [
    "import sys\n",
    "sys.path.append('../python/')\n",
    "import NGC5533_functions as nf\n",
    "import matplotlib.pyplot as plt\n",
    "import numpy as np\n",
    "from scipy.interpolate import InterpolatedUnivariateSpline"
   ]
  },
  {
   "cell_type": "code",
   "execution_count": 5,
   "metadata": {},
   "outputs": [
    {
     "ename": "TypeError",
     "evalue": "float() argument must be a string or a number, not 'function'",
     "output_type": "error",
     "traceback": [
      "\u001b[1;31m---------------------------------------------------------------------------\u001b[0m",
      "\u001b[1;31mTypeError\u001b[0m                                 Traceback (most recent call last)",
      "\u001b[1;32m<ipython-input-5-b81492d12921>\u001b[0m in \u001b[0;36m<module>\u001b[1;34m\u001b[0m\n\u001b[0;32m     42\u001b[0m \u001b[1;31m# - spline fit vector\u001b[0m\u001b[1;33m\u001b[0m\u001b[1;33m\u001b[0m\u001b[1;33m\u001b[0m\u001b[0m\n\u001b[0;32m     43\u001b[0m \u001b[0mr\u001b[0m \u001b[1;33m=\u001b[0m \u001b[0mnp\u001b[0m\u001b[1;33m.\u001b[0m\u001b[0mlinspace\u001b[0m\u001b[1;33m(\u001b[0m\u001b[1;36m0\u001b[0m\u001b[1;33m,\u001b[0m\u001b[1;36m100\u001b[0m\u001b[1;33m,\u001b[0m\u001b[1;36m100\u001b[0m\u001b[1;33m)\u001b[0m\u001b[1;33m\u001b[0m\u001b[1;33m\u001b[0m\u001b[0m\n\u001b[1;32m---> 44\u001b[1;33m \u001b[0mvb_v_spline\u001b[0m \u001b[1;33m=\u001b[0m \u001b[0mInterpolatedUnivariateSpline\u001b[0m\u001b[1;33m(\u001b[0m\u001b[0mr\u001b[0m\u001b[1;33m,\u001b[0m \u001b[0mnf\u001b[0m\u001b[1;33m.\u001b[0m\u001b[0mb_v\u001b[0m\u001b[1;33m,\u001b[0m \u001b[0mk\u001b[0m\u001b[1;33m=\u001b[0m\u001b[1;36m3\u001b[0m\u001b[1;33m)\u001b[0m\u001b[1;33m\u001b[0m\u001b[1;33m\u001b[0m\u001b[0m\n\u001b[0m\u001b[0;32m     45\u001b[0m \u001b[1;33m\u001b[0m\u001b[0m\n\u001b[0;32m     46\u001b[0m \u001b[1;31m#vb_v_spline = inter.splprep(nf.b_v, k=3)\u001b[0m\u001b[1;33m\u001b[0m\u001b[1;33m\u001b[0m\u001b[1;33m\u001b[0m\u001b[0m\n",
      "\u001b[1;32m~\\AppData\\Local\\Continuum\\anaconda3\\lib\\site-packages\\scipy\\interpolate\\fitpack2.py\u001b[0m in \u001b[0;36m__init__\u001b[1;34m(self, x, y, w, bbox, k, ext, check_finite)\u001b[0m\n\u001b[0;32m    601\u001b[0m         \u001b[1;31m# _data == x,y,w,xb,xe,k,s,n,t,c,fp,fpint,nrdata,ier\u001b[0m\u001b[1;33m\u001b[0m\u001b[1;33m\u001b[0m\u001b[1;33m\u001b[0m\u001b[0m\n\u001b[0;32m    602\u001b[0m         self._data = dfitpack.fpcurf0(x,y,k,w=w,\n\u001b[1;32m--> 603\u001b[1;33m                                       xb=bbox[0],xe=bbox[1],s=0)\n\u001b[0m\u001b[0;32m    604\u001b[0m         \u001b[0mself\u001b[0m\u001b[1;33m.\u001b[0m\u001b[0m_reset_class\u001b[0m\u001b[1;33m(\u001b[0m\u001b[1;33m)\u001b[0m\u001b[1;33m\u001b[0m\u001b[1;33m\u001b[0m\u001b[0m\n\u001b[0;32m    605\u001b[0m \u001b[1;33m\u001b[0m\u001b[0m\n",
      "\u001b[1;31mTypeError\u001b[0m: float() argument must be a string or a number, not 'function'"
     ]
    }
   ],
   "source": [
    "#Next: Spline bulge, make that a function, give prefactor\n",
    "# - call file, get vector\n",
    "\n",
    "# library code\n",
    "'''def b_gammafunc(x,n=n_c):\n",
    "    return ss.gammainc(2*n,x)*ss.gamma(2*n)-0.5*ss.gamma(2*n)\n",
    "b_root = so.brentq(b_gammafunc,0,500000,rtol=0.000001,maxiter=100) #come within 1% of exact root within 100 iterations\n",
    "\n",
    "def b_I0(n=n_c):\n",
    "    return L*(b_root**(2*n))/(re**2*2*np.pi*n*ss.gamma(2*n))\n",
    "def b_r0(n=n_c):\n",
    "    return re/np.power(b_root,n)\n",
    "\n",
    "def b_innerintegral(m,n=n_c):\n",
    "    f = lambda x,m,n: np.exp(-np.power(x/b_r0(n), (1/n)))*np.power(x/b_r0(n), 1/n-1)/(np.sqrt(x**2-m**2)) #Inner function\n",
    "    return si.quad(f, m, np.inf,args=(m,n))[0]\n",
    "b_innerintegralv = np.vectorize(b_innerintegral)\n",
    "\n",
    "def b_vsquare(r,n=n_c):\n",
    "    C = lambda n: (4*G*q*ups*b_I0(n))/(b_r0(n)*np.float(n))*(np.sqrt((np.sin(i)**2)+(1/(q**2))*(np.cos(i)**2)))\n",
    "    h = lambda m,r,n: C(n)*b_innerintegral(m,n)*(m**2)/(np.sqrt((r**2)-((m**2)*(e2)))) #integrate outer function\n",
    "    return si.quad(h, 0, r, args=(r,n))[0]\n",
    "def b_vsquarev(r,n=n_c):\n",
    "    a = np.vectorize(b_vsquare, otypes=[np.float])\n",
    "    return a(r,n)\n",
    "\n",
    "def b_v(r,n=n_c,save=False,load=False,**kwargs):\n",
    "    if save:\n",
    "        a = b_vsquarev(r,n)**(1/2)\n",
    "        savedata(r,a,'bulge','n'+str(n),**kwargs)\n",
    "        return a\n",
    "    elif load:\n",
    "        return loaddata('bulge','n'+str(n),**kwargs)\n",
    "    else:\n",
    "        a = b_vsquarev(r,n)**(1/2)\n",
    "        return a(r,n)\n",
    "'''\n",
    "\n",
    "\n",
    "#vb_v = np.vectorize(nf.b_v)\n",
    "\n",
    "# - spline fit vector\n",
    "r = np.linspace(0,100,100)\n",
    "vb_v_spline = InterpolatedUnivariateSpline(r, nf.b_v, k=3)\n",
    "\n",
    "#vb_v_spline = inter.splprep(nf.b_v, k=3)\n",
    "# - calculate over spline\n",
    "# - prefactor in sum\n",
    "\n",
    "#fig = plt.figure(figsize=(9.0,8.0))\n",
    "\n",
    "#plt.plot(r_dat,nf.b_v,label='Bulge')\n",
    "\n",
    "#plt.legend()\n",
    "#plt.show()\n",
    "#print(x,vb_v)\n",
    "#sigQnr_c = InterpolatedUnivariateSpline(Enr, signr, k=3)"
   ]
  },
  {
   "cell_type": "code",
   "execution_count": null,
   "metadata": {},
   "outputs": [],
   "source": []
  }
 ],
 "metadata": {
  "kernelspec": {
   "display_name": "Python 3",
   "language": "python",
   "name": "python3"
  },
  "language_info": {
   "codemirror_mode": {
    "name": "ipython",
    "version": 3
   },
   "file_extension": ".py",
   "mimetype": "text/x-python",
   "name": "python",
   "nbconvert_exporter": "python",
   "pygments_lexer": "ipython3",
   "version": "3.7.1"
  }
 },
 "nbformat": 4,
 "nbformat_minor": 2
}
