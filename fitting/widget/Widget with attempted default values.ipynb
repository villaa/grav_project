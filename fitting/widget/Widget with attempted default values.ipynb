{
 "cells": [
  {
   "cell_type": "code",
   "execution_count": 1,
   "metadata": {},
   "outputs": [],
   "source": [
    "#notes (3-21-20):\n",
    "#tried to use default values taken from total fit, assuming it would set default at a good fit\n",
    "#however, this is not the case (is it because the uncertainty band isn't included?)\n",
    "#also for some readon it doesn't like having a step size less than 1 in this case (sliders wonn't work)\n",
    "#still can't figure out how to attach slider value to variable to dispaly chi^2\n",
    "#also some formatting issues as you can see\n",
    "\n",
    "#Imports\n",
    "import sys\n",
    "sys.path.append('../python/')\n",
    "import NGC5533_functions as nf\n",
    "import noordermeer as noord\n",
    "\n",
    "import numpy as np\n",
    "import matplotlib.pyplot as plt\n",
    "%matplotlib inline\n",
    "\n",
    "from ipywidgets import interactive,interact, widgets,IntSlider"
   ]
  },
  {
   "cell_type": "code",
   "execution_count": 2,
   "metadata": {},
   "outputs": [],
   "source": [
    "# Data\n",
    "data = noord.data\n",
    "data_total = noord.data_total\n",
    "r_dat = noord.r_dat\n",
    "v_dat = noord.v_dat\n",
    "v_err0 = noord.v_err0\n",
    "v_err1 = noord.v_err1"
   ]
  },
  {
   "cell_type": "code",
   "execution_count": 3,
   "metadata": {},
   "outputs": [],
   "source": [
    "# Define components\n",
    "def blackhole(r,M):\n",
    "    return nf.bh_v(r,M,load=True)\n",
    "\n",
    "def bulge(r,bpref):\n",
    "    return bpref*nf.b_v(r,load=True)\n",
    "\n",
    "def disk(r,dpref):\n",
    "    return dpref*nf.d_thief(r)\n",
    "\n",
    "def halo(r,rc,rho00):\n",
    "    return nf.h_v(r,rc,rho00,load=True)\n",
    "\n",
    "def gas(r,gpref):\n",
    "    return gpref*nf.g_thief(r)\n",
    "\n",
    "def totalcurve(r,M,bpref,dpref,rc,rho00,gpref):\n",
    "    total = np.sqrt(blackhole(r,M)**2 \n",
    "                    + bulge(r,bpref)**2 \n",
    "                    + disk(r,dpref)**2\n",
    "                    + halo(r,rc,rho00)**2\n",
    "                    + gas(r,gpref)**2)\n",
    "    return total"
   ]
  },
  {
   "cell_type": "code",
   "execution_count": 91,
   "metadata": {},
   "outputs": [
    {
     "data": {
      "application/vnd.jupyter.widget-view+json": {
       "model_id": "94deecdab96247b199351c8dae7afee2",
       "version_major": 2,
       "version_minor": 0
      },
      "text/plain": [
       "interactive(children=(IntSlider(value=2477800000, description='Black Hole mass [$M_{\\\\odot}$]:', max=500000000…"
      ]
     },
     "metadata": {},
     "output_type": "display_data"
    }
   ],
   "source": [
    "# Interactive widget\n",
    "def f(M,bpref,dpref,rc,rho00,gpref):\n",
    "    r = np.linspace(0.1,100,1000)\n",
    "    \n",
    "    plt.figure(figsize=(9,7))\n",
    "    plt.xlim(0,120)\n",
    "    plt.ylim(0,360)\n",
    "    \n",
    "    plt.errorbar(r_dat,v_dat,yerr=v_err1,fmt='bo',label='Data')\n",
    "    plt.plot(r,blackhole(r,M), label=(\"Black Hole\"))\n",
    "    plt.plot(r,bulge(r,bpref), label=(\"Bulge\"))\n",
    "    plt.plot(r,disk(r,dpref), label=(\"Disk\"))\n",
    "    plt.plot(r,halo(r,rc,rho00), label=(\"Halo\"))\n",
    "    plt.plot(r,gas(r,gpref), label=(\"Gas\"))\n",
    "    plt.plot(r,totalcurve(r,M,bpref,dpref,rc,rho00,gpref), label=(\"Total Curve\"))\n",
    "    \n",
    "    plt.legend()\n",
    "    plt.show()\n",
    "style = {'description_width': 'initial'}\n",
    "interactive_plot = interactive(f, M=widgets.IntSlider(min=0,max=5e9,step=1e8,value=2.4778e+09,readout_format='.3g',description='Black Hole mass [$M_{\\odot}$]:', style=style,min_width=3000), \n",
    "                               bpref=widgets.IntSlider(min=0,max=5,step=1,value=1,readout_format='.3g',description='Bulge Prefactor [km/s]:', style=style),\n",
    "                               dpref=widgets.IntSlider(min=0,max=5.00,step=1,value=1,readout_format='.3g',description='Disk Prefactor [km/s]:', style=style), \n",
    "                               rc=widgets.IntSlider(min=0,max=5,step=1,value=1.48861979,readout_format='.3g',description='Halo Cutoff radius [kpc?]:', style=style),\n",
    "                               rho00=widgets.IntSlider(min=0,max=1e9,step=1e8,value=3.1001e+08,readout_format='.3g',description='Halo Suface density [$M_{\\odot}$/pc^3]:', style=style),\n",
    "                               gpref=widgets.IntSlider(min=0,max=5,step=1,value=5.1085e-07,readout_format='.3g',description='Gas Prefactor [km/s]:', style=style),\n",
    "                               continuous_update=True)\n",
    "                            \n",
    "#output = interactive_plot.children[-1]\n",
    "interactive_plot"
   ]
  },
  {
   "cell_type": "code",
   "execution_count": null,
   "metadata": {},
   "outputs": [],
   "source": []
  }
 ],
 "metadata": {
  "kernelspec": {
   "display_name": "Python 3",
   "language": "python",
   "name": "python3"
  },
  "language_info": {
   "codemirror_mode": {
    "name": "ipython",
    "version": 3
   },
   "file_extension": ".py",
   "mimetype": "text/x-python",
   "name": "python",
   "nbconvert_exporter": "python",
   "pygments_lexer": "ipython3",
   "version": "3.7.4"
  }
 },
 "nbformat": 4,
 "nbformat_minor": 2
}
