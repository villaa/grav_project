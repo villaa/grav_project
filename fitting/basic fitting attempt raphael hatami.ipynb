{
 "cells": [
  {
   "cell_type": "code",
   "execution_count": 1,
   "metadata": {},
   "outputs": [],
   "source": [
    "#Imports\n",
    "import numpy as np\n",
    "import lmfit as lf\n",
    "import matplotlib.pyplot as plt\n",
    "import scipy.optimize as opt"
   ]
  },
  {
   "cell_type": "code",
   "execution_count": 2,
   "metadata": {},
   "outputs": [],
   "source": [
    "#Setup Blackhole: y = v(r) = G*M*r^-.5\n",
    "\n",
    "#Fakedata\n",
    "rdata = np.linspace(0,5,50)                 #Generate r-values\n",
    "ydata = np.zeros(len(rdata))                #Create array to define later\n",
    "noise = np.random.normal(0,1,len(rdata))    #Create nosie to add to y-values; otherwise our fits will be to unrealistic data\n",
    "for i,n in enumerate(rdata):                #Redefine y-data to be:\n",
    "    ydata[i] = np.sqrt(n*4.3e-6*2.7e9)+noise[i]                #x^2 plus some noise.\n",
    "sigdata = np.ones(len(rdata))               #Sigma is 1 since that's the width of the noise distribution\n",
    "\n",
    "#G = 4.300e-6                                #gravitational constant (kpc/solar mass*(km/s)^2)\n",
    "#Function\n",
    "def v(r,G,M):          #Independent variable must be listed first for scipy to know how to fit it.\n",
    "    return np.sqrt(G*M/r)  #In python, anything unset must be listed as a variable in the function, including the parameters we fit for.\n",
    "\n",
    "#Points representing function - this is necessary to plot f(x) for our comparison.\n",
    "ycurve = np.sqrt(4.3e-6*2.7e9*rdata)"
   ]
  },
  {
   "cell_type": "code",
   "execution_count": 5,
   "metadata": {},
   "outputs": [
    {
     "name": "stderr",
     "output_type": "stream",
     "text": [
      "C:\\Users\\Cirdan\\Anaconda3\\lib\\site-packages\\ipykernel_launcher.py:14: RuntimeWarning: divide by zero encountered in true_divide\n",
      "  \n"
     ]
    },
    {
     "ename": "RuntimeError",
     "evalue": "Optimal parameters not found: Number of calls to function has reached maxfev = 600.",
     "output_type": "error",
     "traceback": [
      "\u001b[1;31m---------------------------------------------------------------------------\u001b[0m",
      "\u001b[1;31mRuntimeError\u001b[0m                              Traceback (most recent call last)",
      "\u001b[1;32m<ipython-input-5-f0b5d579b755>\u001b[0m in \u001b[0;36m<module>\u001b[1;34m\u001b[0m\n\u001b[0;32m      4\u001b[0m \u001b[1;33m\u001b[0m\u001b[0m\n\u001b[0;32m      5\u001b[0m \u001b[1;31m#Do fit\u001b[0m\u001b[1;33m\u001b[0m\u001b[1;33m\u001b[0m\u001b[1;33m\u001b[0m\u001b[0m\n\u001b[1;32m----> 6\u001b[1;33m \u001b[0ms_fit\u001b[0m \u001b[1;33m=\u001b[0m \u001b[0mopt\u001b[0m\u001b[1;33m.\u001b[0m\u001b[0mcurve_fit\u001b[0m\u001b[1;33m(\u001b[0m\u001b[0mv\u001b[0m\u001b[1;33m,\u001b[0m\u001b[0mrdata\u001b[0m\u001b[1;33m,\u001b[0m\u001b[0mydata\u001b[0m\u001b[1;33m,\u001b[0m\u001b[0mp0\u001b[0m\u001b[1;33m,\u001b[0m\u001b[0msigma\u001b[0m\u001b[1;33m=\u001b[0m\u001b[0msigdata\u001b[0m\u001b[1;33m,\u001b[0m\u001b[0mabsolute_sigma\u001b[0m\u001b[1;33m=\u001b[0m\u001b[1;32mTrue\u001b[0m\u001b[1;33m)\u001b[0m\u001b[1;33m\u001b[0m\u001b[1;33m\u001b[0m\u001b[0m\n\u001b[0m\u001b[0;32m      7\u001b[0m \u001b[0ms_G\u001b[0m \u001b[1;33m=\u001b[0m \u001b[0ms_fit\u001b[0m\u001b[1;33m[\u001b[0m\u001b[1;36m0\u001b[0m\u001b[1;33m]\u001b[0m\u001b[1;33m[\u001b[0m\u001b[1;36m0\u001b[0m\u001b[1;33m]\u001b[0m\u001b[1;33m\u001b[0m\u001b[1;33m\u001b[0m\u001b[0m\n\u001b[0;32m      8\u001b[0m \u001b[0ms_M\u001b[0m \u001b[1;33m=\u001b[0m \u001b[0ms_fit\u001b[0m\u001b[1;33m[\u001b[0m\u001b[1;36m0\u001b[0m\u001b[1;33m]\u001b[0m\u001b[1;33m[\u001b[0m\u001b[1;36m1\u001b[0m\u001b[1;33m]\u001b[0m\u001b[1;33m\u001b[0m\u001b[1;33m\u001b[0m\u001b[0m\n",
      "\u001b[1;32m~\\Anaconda3\\lib\\site-packages\\scipy\\optimize\\minpack.py\u001b[0m in \u001b[0;36mcurve_fit\u001b[1;34m(f, xdata, ydata, p0, sigma, absolute_sigma, check_finite, bounds, method, jac, **kwargs)\u001b[0m\n\u001b[0;32m    753\u001b[0m         \u001b[0mcost\u001b[0m \u001b[1;33m=\u001b[0m \u001b[0mnp\u001b[0m\u001b[1;33m.\u001b[0m\u001b[0msum\u001b[0m\u001b[1;33m(\u001b[0m\u001b[0minfodict\u001b[0m\u001b[1;33m[\u001b[0m\u001b[1;34m'fvec'\u001b[0m\u001b[1;33m]\u001b[0m \u001b[1;33m**\u001b[0m \u001b[1;36m2\u001b[0m\u001b[1;33m)\u001b[0m\u001b[1;33m\u001b[0m\u001b[1;33m\u001b[0m\u001b[0m\n\u001b[0;32m    754\u001b[0m         \u001b[1;32mif\u001b[0m \u001b[0mier\u001b[0m \u001b[1;32mnot\u001b[0m \u001b[1;32min\u001b[0m \u001b[1;33m[\u001b[0m\u001b[1;36m1\u001b[0m\u001b[1;33m,\u001b[0m \u001b[1;36m2\u001b[0m\u001b[1;33m,\u001b[0m \u001b[1;36m3\u001b[0m\u001b[1;33m,\u001b[0m \u001b[1;36m4\u001b[0m\u001b[1;33m]\u001b[0m\u001b[1;33m:\u001b[0m\u001b[1;33m\u001b[0m\u001b[1;33m\u001b[0m\u001b[0m\n\u001b[1;32m--> 755\u001b[1;33m             \u001b[1;32mraise\u001b[0m \u001b[0mRuntimeError\u001b[0m\u001b[1;33m(\u001b[0m\u001b[1;34m\"Optimal parameters not found: \"\u001b[0m \u001b[1;33m+\u001b[0m \u001b[0merrmsg\u001b[0m\u001b[1;33m)\u001b[0m\u001b[1;33m\u001b[0m\u001b[1;33m\u001b[0m\u001b[0m\n\u001b[0m\u001b[0;32m    756\u001b[0m     \u001b[1;32melse\u001b[0m\u001b[1;33m:\u001b[0m\u001b[1;33m\u001b[0m\u001b[1;33m\u001b[0m\u001b[0m\n\u001b[0;32m    757\u001b[0m         \u001b[1;31m# Rename maxfev (leastsq) to max_nfev (least_squares), if specified.\u001b[0m\u001b[1;33m\u001b[0m\u001b[1;33m\u001b[0m\u001b[1;33m\u001b[0m\u001b[0m\n",
      "\u001b[1;31mRuntimeError\u001b[0m: Optimal parameters not found: Number of calls to function has reached maxfev = 600."
     ]
    }
   ],
   "source": [
    "#Setup\n",
    "#Initial Guesses for G and M. In this case, our initial guess is the true function.\n",
    "p0 = [4.3e-6,2.7e9] #Parameters should be in the same order here as they were when we defined our function.\n",
    "\n",
    "#Do fit\n",
    "s_fit = opt.curve_fit(v,rdata,ydata,p0,sigma=sigdata,absolute_sigma=True) #absolute_sigma is set so that uncertainties aren't treated as percentages.\n",
    "#print(s_fit) #If we uncomment this line, we see that s_fit is an array containing two arrays.\n",
    "\n",
    "#Define parameters from fit. Our parameters are stored in the first array in our fit output, in the order they were listed in f.\n",
    "s_G = s_fit[0][0]\n",
    "s_M = s_fit[0][1]\n",
    "#s_c = s_fit[0][2]\n",
    "\n",
    "#Define error from fit.\n",
    "s_cov = s_fit[1]                    #The second array in the fit output is a covariance matrix.\n",
    "s_error = np.sqrt(np.diag(s_cov)) #The diagonals of the covariance matrix are the variances of individual parameters.\n",
    "s_Ge = s_error[0]                   #The errors will be in an order corresponding to the order of the parameters in their array\n",
    "s_Me = s_error[1]\n",
    "#s_ce = s_error[2]\n",
    "\n",
    "#Create array to plot\n",
    "s_curve = s_G*rdata**2+s_M*rdata\n",
    "\n",
    "#Print Values\n",
    "print('G: '+str(s_G)+u' \\u00B1 '+str(s_Ge))\n",
    "print('M: '+str(s_M)+u' \\u00B1 '+str(s_Me))\n",
    "#print('c: '+str(s_c)+u' \\u00B1 '+str(s_ce))"
   ]
  },
  {
   "cell_type": "code",
   "execution_count": null,
   "metadata": {},
   "outputs": [],
   "source": [
    "#Setup\n",
    "weighdata = 1/sigdata                       #We will need weights for lmfit. This tells us how much to account for a single data point in the fit.\n",
    "l_mod = lf.Model(v)                         #Tell lmfit that we want to model the function f\n",
    "params = l_mod.make_params(G=4.3e-6, M=2.7e9)   #Give lmfit our initial guesses - again, the true function\n",
    "\n",
    "#Do fit\n",
    "l_fit = l_mod.fit(ydata, params, r=rdata, weights=weighdata) #Here is where the weights we set at the beginning come in.\n",
    "\n",
    "#Define Stuff\n",
    "l_dict = l_fit.best_values #l_fit has a lot of output. We want to use the final result.\n",
    "l_G = l_dict['G']          #Dictionary items are called based on their name.\n",
    "l_M = l_dict['M']          #So, we don't have to track the order of parameters.\n",
    "#l_c = l_dict['c']\n",
    "\n",
    "#Create array to plot\n",
    "l_curve = l_G*rdata**2+l_M*rdata\n",
    "\n",
    "l_fit #Display information about the fit"
   ]
  },
  {
   "cell_type": "code",
   "execution_count": null,
   "metadata": {},
   "outputs": [],
   "source": [
    "#Plotting\n",
    "\n",
    "fig = plt.figure(figsize=(9.0,8.0))                #size of the plot\n",
    "\n",
    "plt.errorbar(rdata,ydata,yerr=sigdata,fmt='bo',label='Data') #Plot points (fmt='*o') with error bars\n",
    "plt.plot(rdata,ycurve,label='Function')                      #Accepting default style gives us a solid line\n",
    "plt.plot(rdata,s_curve,linestyle='--',label='SciPy')         #Plot the scipy curve fit with a dashed line\n",
    "plt.plot(rdata,l_curve,linestyle='--',label='LmFit')\n",
    "\n",
    "plt.legend()           #Tells our plot to show a legend\n",
    "plt.show()             #Depending how your environment is set up, this line may not be necessary, but it won't break anything."
   ]
  }
 ],
 "metadata": {
  "kernelspec": {
   "display_name": "Python 3",
   "language": "python",
   "name": "python3"
  },
  "language_info": {
   "codemirror_mode": {
    "name": "ipython",
    "version": 3
   },
   "file_extension": ".py",
   "mimetype": "text/x-python",
   "name": "python",
   "nbconvert_exporter": "python",
   "pygments_lexer": "ipython3",
   "version": "3.7.1"
  }
 },
 "nbformat": 4,
 "nbformat_minor": 2
}
