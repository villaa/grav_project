{
 "cells": [
  {
   "cell_type": "markdown",
   "metadata": {},
   "source": [
    "## Imports"
   ]
  },
  {
   "cell_type": "code",
   "execution_count": 1,
   "metadata": {},
   "outputs": [],
   "source": [
    "import sys\n",
    "sys.path.append('python/')\n",
    "import numpy as np\n",
    "import lmfit as lf\n",
    "import matplotlib.pyplot as plt\n",
    "import scipy.optimize as opt\n",
    "import dataPython as dp\n",
    "from scipy.integrate import quad\n",
    "import scipy.optimize as so\n",
    "import scipy.special as ss"
   ]
  },
  {
   "cell_type": "code",
   "execution_count": 2,
   "metadata": {},
   "outputs": [],
   "source": [
    "## Measured points\n",
    "#Measured points from Noordermeer's paper:\n",
    "\n",
    "#data = dp.getXYdata_wXYerr('data/NGC5533-rot-data_fmt.txt')\n",
    "#r_dat = np.asarray(data['xx'])\n",
    "#v_dat = np.asarray(data['yy'])\n",
    "#v_err0 = np.asarray(data['ex'])\n",
    "#v_err1 = np.asarray(data['ey'])"
   ]
  },
  {
   "cell_type": "markdown",
   "metadata": {},
   "source": [
    "## Bulge"
   ]
  },
  {
   "cell_type": "code",
   "execution_count": 3,
   "metadata": {},
   "outputs": [
    {
     "name": "stderr",
     "output_type": "stream",
     "text": [
      "ERROR:root:File `'bulge.ipynb.py'` not found.\n"
     ]
    }
   ],
   "source": [
    "%run bulge.ipynb\n",
    "\n"
   ]
  },
  {
   "cell_type": "code",
   "execution_count": 4,
   "metadata": {},
   "outputs": [
    {
     "ename": "NameError",
     "evalue": "name 'r_b_nordold' is not defined",
     "output_type": "error",
     "traceback": [
      "\u001b[1;31m---------------------------------------------------------------------------\u001b[0m",
      "\u001b[1;31mNameError\u001b[0m                                 Traceback (most recent call last)",
      "\u001b[1;32m<ipython-input-4-487c7714dbdb>\u001b[0m in \u001b[0;36m<module>\u001b[1;34m\u001b[0m\n\u001b[1;32m----> 1\u001b[1;33m \u001b[0mprint\u001b[0m\u001b[1;33m(\u001b[0m\u001b[0mlen\u001b[0m\u001b[1;33m(\u001b[0m\u001b[0mr_b_nordold\u001b[0m\u001b[1;33m)\u001b[0m\u001b[1;33m)\u001b[0m\u001b[1;33m\u001b[0m\u001b[1;33m\u001b[0m\u001b[0m\n\u001b[0m\u001b[0;32m      2\u001b[0m \u001b[1;33m\u001b[0m\u001b[0m\n\u001b[0;32m      3\u001b[0m \u001b[1;31m##Noordermeer's Bulge curve\u001b[0m\u001b[1;33m\u001b[0m\u001b[1;33m\u001b[0m\u001b[1;33m\u001b[0m\u001b[0m\n\u001b[0;32m      4\u001b[0m \u001b[0mdata_bulge_nord\u001b[0m \u001b[1;33m=\u001b[0m \u001b[0mdp\u001b[0m\u001b[1;33m.\u001b[0m\u001b[0mgetXYdata\u001b[0m\u001b[1;33m(\u001b[0m\u001b[1;34m'data/NGC5533-bulge_fmt.txt'\u001b[0m\u001b[1;33m)\u001b[0m\u001b[1;33m\u001b[0m\u001b[1;33m\u001b[0m\u001b[0m\n\u001b[0;32m      5\u001b[0m \u001b[1;33m\u001b[0m\u001b[0m\n",
      "\u001b[1;31mNameError\u001b[0m: name 'r_b_nordold' is not defined"
     ]
    }
   ],
   "source": [
    "print(len(r_b_nordold))\n",
    "\n",
    "##Noordermeer's Bulge curve\n",
    "data_bulge_nord = dp.getXYdata('data/NGC5533-bulge_fmt.txt')\n",
    "\n",
    "#convert to numpy arrays\n",
    "r_b_nordold = np.asarray(data_bulge_nord['xx'])\n",
    "v_b_nordold = np.asarray(data_bulge_nord['yy'])\n",
    "\n",
    "#getting data down to 200 points to be comparable to function\n",
    "\n",
    "#rdata\n",
    "i=0\n",
    "r_b_nord = np.zeros((int(200)))\n",
    "while i<len(r_b_nord):\n",
    "    r_b_nord[i]=r_b_nordold[4*i]\n",
    "    i +=1\n",
    "\n",
    "#ydata\n",
    "i=0\n",
    "v_b_nord = np.zeros((int(200)))\n",
    "while i<len(v_b_nord):\n",
    "    v_b_nord[i]=v_b_nordold[4*i]\n",
    "    i +=1\n",
    "    \n",
    "\n",
    "\n"
   ]
  },
  {
   "cell_type": "code",
   "execution_count": null,
   "metadata": {},
   "outputs": [],
   "source": [
    "#function\n",
    "def v(r,b):\n",
    "    return b*vb\n",
    "\n",
    "#(troubleshooting)seeing if values are decreasing\n",
    "i = 0\n",
    "while i < len(r_b_nord)-1:\n",
    "    print(r_b_nord[i+1] - r_b_nord[i])\n",
    "    i += 1"
   ]
  },
  {
   "cell_type": "code",
   "execution_count": null,
   "metadata": {},
   "outputs": [],
   "source": [
    "#LMFIT FITTING\n",
    "#Setup\n",
    "#weighdata = 1/sigdata                       #We will need weights for lmfit. This tells us how much to account for a single data point in the fit.\n",
    "l_mod = lf.Model(v)                         #Tell lmfit that we want to model the function f\n",
    "params = l_mod.make_params(b=1)   #Give lmfit our initial guesses - again, the true function\n",
    "\n",
    "#Do fit\n",
    "l_fit = l_mod.fit(v_b_nord, params, r=r_b_nord, nan_policy='omit') #Here is where the weights we set at the beginning come in.\n",
    "\n",
    "#Define Stuff\n",
    "\n",
    "\n",
    "l_dict = l_fit.best_values #l_fit has a lot of output. We want to use the final result.\n",
    "l_b = l_dict['b'] \n",
    "\n",
    "\n",
    "import scipy.interpolate as inter\n",
    "\n",
    "#vbspline = inter.InterpolatedUnivariateSpline(r_b_nord, vb, k=3)    #turns array vb into an approximate function\n",
    "\n",
    "#Create array to plot\n",
    "l_curve = lambda r, l_b: l_b*vb\n",
    "#l_curve = np.sqrt(l_G*l_M/r_bh_nord)  #KITTYCHANGE again, just equation only now with these second array things\n",
    "\n",
    "l_fit #Display information about the fit"
   ]
  },
  {
   "cell_type": "markdown",
   "metadata": {},
   "source": []
  },
  {
   "cell_type": "code",
   "execution_count": null,
   "metadata": {},
   "outputs": [],
   "source": [
    "#Plotting\n",
    "\n",
    "fig = plt.figure(figsize=(9.0,8.0))                #size of the plot\n",
    "plt.plot(r_b_nord,l_curve(r_b_nord,l_b),linestyle='-',label='LmFit')\n",
    "\n",
    "plt.errorbar(r_b_nord,v_b_nord,fmt='r',label='Data',linestyle='--') #Plot points (fmt='*o') with error bars\n",
    "#plt.plot(r_b_nord,ycurve,label='Function')                      #Accepting default style gives us a solid line\n",
    "#plt.plot(r_b_nord,s_curve,linestyle='--',label='SciPy')         #Plot the scipy curve fit with a dashed line\n",
    "\n",
    "plt.legend()           #Tells our plot to show a legend\n",
    "plt.show()             #Depending how your environment is set up, this line may not be necessary, but it won't break anything."
   ]
  },
  {
   "cell_type": "code",
   "execution_count": null,
   "metadata": {},
   "outputs": [],
   "source": []
  }
 ],
 "metadata": {
  "kernelspec": {
   "display_name": "Python 3",
   "language": "python",
   "name": "python3"
  },
  "language_info": {
   "codemirror_mode": {
    "name": "ipython",
    "version": 3
   },
   "file_extension": ".py",
   "mimetype": "text/x-python",
   "name": "python",
   "nbconvert_exporter": "python",
   "pygments_lexer": "ipython3",
   "version": "3.7.1"
  }
 },
 "nbformat": 4,
 "nbformat_minor": 2
}
