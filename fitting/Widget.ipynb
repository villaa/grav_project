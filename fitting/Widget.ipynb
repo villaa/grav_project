{
 "cells": [
  {
   "cell_type": "code",
   "execution_count": 30,
   "metadata": {},
   "outputs": [],
   "source": [
    "#Imports\n",
    "import sys\n",
    "sys.path.append('../python/')\n",
    "import NGC5533_functions as nf\n",
    "import noordermeer as noord\n",
    "\n",
    "import numpy as np\n",
    "import matplotlib.pyplot as plt\n",
    "%matplotlib inline\n",
    "\n",
    "from ipywidgets import interactive\n",
    "from ipywidgets import IntSlider"
   ]
  },
  {
   "cell_type": "code",
   "execution_count": 2,
   "metadata": {},
   "outputs": [],
   "source": [
    "# Data\n",
    "data = noord.data\n",
    "data_total = noord.data_total\n",
    "r_dat = noord.r_dat\n",
    "v_dat = noord.v_dat\n",
    "v_err0 = noord.v_err0\n",
    "v_err1 = noord.v_err1"
   ]
  },
  {
   "cell_type": "code",
   "execution_count": 3,
   "metadata": {},
   "outputs": [],
   "source": [
    "# Define components\n",
    "def blackhole(r,M):\n",
    "    return nf.bh_v(r,M,load=True)\n",
    "\n",
    "def bulge(r,bpref):\n",
    "    return bpref*nf.b_v(r,load=True)\n",
    "\n",
    "def disk(r,dpref):\n",
    "    return dpref*nf.d_thief(r)\n",
    "\n",
    "def halo(r,rc,rho00):\n",
    "    return nf.h_v(r,rc,rho00,load=True)\n",
    "\n",
    "def gas(r,gpref):\n",
    "    return gpref*nf.g_thief(r)\n",
    "\n",
    "def totalcurve(r,M,bpref,dpref,rc,rho00,gpref):\n",
    "    total = np.sqrt(blackhole(r,M)**2 \n",
    "                    + bulge(r,bpref)**2 \n",
    "                    + disk(r,dpref)**2\n",
    "                    + halo(r,rc,rho00)**2\n",
    "                    + gas(r,gpref)**2)\n",
    "    return total"
   ]
  },
  {
   "cell_type": "code",
   "execution_count": 40,
   "metadata": {},
   "outputs": [
    {
     "data": {
      "application/vnd.jupyter.widget-view+json": {
       "model_id": "1742b6f2bc63438f962baa85f0a09cdc",
       "version_major": 2,
       "version_minor": 0
      },
      "text/plain": [
       "interactive(children=(FloatSlider(value=2500000000.0, description='M', max=5000000000.0, step=100000000.0), Fl…"
      ]
     },
     "metadata": {},
     "output_type": "display_data"
    }
   ],
   "source": [
    "# Interactive widget\n",
    "def f(M,bpref,dpref,rc,rho00,gpref):\n",
    "    r = np.linspace(0.1,100,1000)\n",
    "    \n",
    "    plt.figure(figsize=(9,7))\n",
    "    plt.xlim(0,30)\n",
    "    plt.ylim(0,360)\n",
    "    \n",
    "    plt.errorbar(r_dat,v_dat,yerr=v_err1,fmt='bo',label='Data')\n",
    "    plt.plot(r,blackhole(r,M), label=(\"Black Hole\"))\n",
    "    plt.plot(r,bulge(r,bpref), label=(\"Bulge\"))\n",
    "    plt.plot(r,disk(r,dpref), label=(\"Disk\"))\n",
    "    plt.plot(r,halo(r,rc,rho00), label=(\"Halo\"))\n",
    "    plt.plot(r,gas(r,gpref), label=(\"Gas\"))\n",
    "    plt.plot(r,totalcurve(r,M,bpref,dpref,rc,rho00,gpref), label=(\"Total Curve\"))\n",
    "    \n",
    "    plt.legend()\n",
    "    plt.show()\n",
    "\n",
    "interactive_plot = interactive(f, M=(0,5e9,1e8), \n",
    "                               bpref=(0,5,0.1), \n",
    "                               dpref=(0,5,0.1), \n",
    "                               rc=(0,5,0.1),\n",
    "                               rho00=(0,1e9,1e8),\n",
    "                               gpref=(0,5,0.1),\n",
    "                               continuous_update=False)\n",
    "#output = interactive_plot.children[-1]\n",
    "interactive_plot"
   ]
  },
  {
   "cell_type": "code",
   "execution_count": null,
   "metadata": {},
   "outputs": [],
   "source": []
  }
 ],
 "metadata": {
  "kernelspec": {
   "display_name": "Python 3",
   "language": "python",
   "name": "python3"
  },
  "language_info": {
   "codemirror_mode": {
    "name": "ipython",
    "version": 3
   },
   "file_extension": ".py",
   "mimetype": "text/x-python",
   "name": "python",
   "nbconvert_exporter": "python",
   "pygments_lexer": "ipython3",
   "version": "3.7.1"
  }
 },
 "nbformat": 4,
 "nbformat_minor": 2
}
