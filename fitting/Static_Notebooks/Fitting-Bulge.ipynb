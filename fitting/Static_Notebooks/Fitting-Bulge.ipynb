{
 "cells": [
  {
   "cell_type": "code",
   "execution_count": 1,
   "metadata": {},
   "outputs": [],
   "source": [
    "#Imports\n",
    "import sys\n",
    "sys.path.append('../../python/')\n",
    "import NGC5533_functions as nf\n",
    "\n",
    "import numpy as np\n",
    "import matplotlib.pyplot as plt\n",
    "import scipy.optimize as opt\n",
    "import lmfit as lm\n",
    "import dataPython as dp\n",
    "\n",
    "from datetime import datetime\n",
    "import time as t"
   ]
  },
  {
   "cell_type": "code",
   "execution_count": 2,
   "metadata": {},
   "outputs": [],
   "source": [
    "starttime = t.time()\n",
    "\n",
    "data = dp.getXYdata_wXYerr('../data/100kpc_data.txt')\n",
    "r_dat = np.asarray(data['xx'])\n",
    "v_dat = np.asarray(data['yy'])\n",
    "v_err0 = np.asarray(data['ex'])\n",
    "v_err1 = np.asarray(data['ey'])\n",
    "\n",
    "#change r_dat so it's strictly increasing\n",
    "r_dat, v_dat, v_err0, v_err1 = (list(a) for a in zip(*sorted(zip(r_dat, v_dat, v_err0, v_err1))))\n",
    "#converting v_err1 to an array\n",
    "v_err1 = np.asarray(v_err1)\n",
    "#Express as weights\n",
    "weighdata = 1/v_err1"
   ]
  },
  {
   "cell_type": "code",
   "execution_count": 3,
   "metadata": {},
   "outputs": [],
   "source": [
    "#keeping others but holding them constant, no prefactor\n",
    "def f(r,n,re):\n",
    "     return np.sqrt(nf.bh_v(r,load=True,path='../')**2 \n",
    "                    + nf.h_v(r,load=True,path='../')**2 \n",
    "                    + nf.b_v(r,n,re,load=True,path='../')**2 \n",
    "                    + nf.d_v(r,load=True,path='../')**2)\n",
    "#keeping others but holding them constant, Using prefactor\n",
    "def g(r,c):\n",
    "    return np.sqrt(nf.bh_v(r,load=True,path='../')**2 \n",
    "                    + nf.h_v(r,load=True,path='../')**2 \n",
    "                    + c**2*nf.b_v(r,load=True,path='../')**2 \n",
    "                    + nf.d_v(r,load=True,path='../')**2)\n",
    "#Only Bulge, no prefactor\n",
    "def b(r,n,re):\n",
    "    return nf.b_v(r,n,re,load=True,path='../')\n",
    "#Only Bulge, Using prefactor\n",
    "def b2(r,c):\n",
    "    return c*nf.b_v(r,load=True,path='../')"
   ]
  },
  {
   "cell_type": "code",
   "execution_count": 4,
   "metadata": {},
   "outputs": [],
   "source": [
    "#Fit, Keeping rest constant, no prefactor\n",
    "\n",
    "#Setup\n",
    "l_mod = lm.Model(f)\n",
    "l_params = l_mod.make_params()\n",
    "#Bulge Params\n",
    "l_params.add('n', value=nf.n_c, min=0) \n",
    "l_params.add('re', value=nf.re_c, min=0) \n",
    "#Do fit\n",
    "l_fit = l_mod.fit(v_dat,l_params,r=r_dat,weights=weighdata)"
   ]
  },
  {
   "cell_type": "code",
   "execution_count": 5,
   "metadata": {},
   "outputs": [],
   "source": [
    "#Fit, Keeping rest constant, Using prefactor\n",
    "\n",
    "#Setup\n",
    "g_mod = lm.Model(g)\n",
    "g_params = g_mod.make_params()\n",
    "#Bulge Params\n",
    "g_params.add('c', value=1, min=0)\n",
    "#Do fit\n",
    "g_fit = g_mod.fit(v_dat,g_params,r=r_dat,weights=weighdata)"
   ]
  },
  {
   "cell_type": "code",
   "execution_count": null,
   "metadata": {},
   "outputs": [],
   "source": [
    "#Fit, B Only, no prefactor\n",
    "\n",
    "#Setup\n",
    "b_mod = lm.Model(b)\n",
    "b_params = l_mod.make_params()\n",
    "#Bulge Params\n",
    "b_params.add('n', value=nf.n_c, min=0) \n",
    "b_params.add('re', value=nf.re_c, min=0) \n",
    "#Do fit\n",
    "b_fit = b_mod.fit(v_dat,b_params,r=r_dat,weights=weighdata)"
   ]
  },
  {
   "cell_type": "code",
   "execution_count": null,
   "metadata": {},
   "outputs": [],
   "source": [
    "#Fit, B Only, no prefactor\n",
    "\n",
    "#Setup\n",
    "b2_mod = lm.Model(b2)\n",
    "b2_params = b2_mod.make_params()\n",
    "#Bulge Params\n",
    "b2_params.add('n', value=nf.n_c, min=0) \n",
    "b2_params.add('re', value=nf.re_c, min=0) \n",
    "#Do fit\n",
    "b2_fit = b2_mod.fit(v_dat,b2_params,r=r_dat,weights=weighdata)"
   ]
  },
  {
   "cell_type": "code",
   "execution_count": null,
   "metadata": {},
   "outputs": [],
   "source": [
    "#Define curves to plot\n",
    "\n",
    "l_dict = l_fit.best_values\n",
    "l_n = l_dict['n']\n",
    "l_re = l_dict['re']\n",
    "l_curve = f(r_dat,l_n,l_re)\n",
    "\n",
    "g_dict = g_fit.best_values\n",
    "g_c = g_dict['c']\n",
    "g_curve = g(r_dat,g_c)\n",
    "\n",
    "b_dict = b_fit.best_values\n",
    "b_n = b_dict['n']\n",
    "b_re = b_dict['re']\n",
    "\n",
    "b2_dict = b2_fit.best_values\n",
    "b2_c = b2_dict['c']"
   ]
  },
  {
   "cell_type": "code",
   "execution_count": null,
   "metadata": {},
   "outputs": [],
   "source": [
    "fig = plt.figure(figsize=(9.0,8.0))\n",
    "\n",
    "plt.xlim(0,125)\n",
    "\n",
    "plt.errorbar(r_dat,v_dat,yerr=v_err1,fmt='bo',label='Data')\n",
    "plt.plot(r_dat,l_curve,'b-',label='All Components, No Prefactor')\n",
    "plt.plot(r_dat,b(r_dat,l_n,l_re),'b--',label='Bulge Only, from ACNP')\n",
    "plt.plot(r_dat,g_curve,'r-',label='All Components, Using Prefactor')\n",
    "plt.plot(r_dat,b2(r_dat,g_c),'r--',label='Bulge Only, from ACUP')\n",
    "plt.plot(r_dat,b(r_dat),'g-.',label='Bulge (Defaults)')\n",
    "plt.plot(r_dat,b(r_dat,b_n,b_re),label='Fit Bulge Only (No Prefactor)')\n",
    "plt.plot(r_dat,b2(r_dat,b2_c),label='Fit Bulge Only (Prefactor)')\n",
    "\n",
    "plt.legend()\n",
    "plt.show()"
   ]
  },
  {
   "cell_type": "code",
   "execution_count": null,
   "metadata": {},
   "outputs": [],
   "source": [
    "fig = plt.figure(figsize=(9.0,8.0))\n",
    "\n",
    "plt.xlim(0,25)\n",
    "plt.ylim(0,400)\n",
    "\n",
    "plt.errorbar(r_dat,v_dat,yerr=v_err1,fmt='bo',label='Data')\n",
    "plt.plot(r_dat,l_curve,'b-',label='Fit with All Components')\n",
    "plt.plot(r_dat,nf.b_v(r_dat,l_n,l_re,load=True,path='../'),'b--',label='Bulge Only, from All Components')\n",
    "plt.plot(r_dat,nf.b_v(r_dat,load=True,path='../'),'g-.',label='Bulge (Defaults)')\n",
    "plt.plot(r_dat,nf.b_v(r_dat,b_n,b_re,load=True,path='../'),label='Fit Bulge Only')\n",
    "\n",
    "plt.legend()\n",
    "plt.savefig('Fitting_with_library.png')\n",
    "plt.show()"
   ]
  },
  {
   "cell_type": "code",
   "execution_count": null,
   "metadata": {},
   "outputs": [],
   "source": [
    "print('Fit information for all-component fit, no prefactor:')\n",
    "l_fit"
   ]
  },
  {
   "cell_type": "code",
   "execution_count": null,
   "metadata": {},
   "outputs": [],
   "source": [
    "print('Fit information for all-component fit, prefactor:')\n",
    "g_fit"
   ]
  },
  {
   "cell_type": "code",
   "execution_count": null,
   "metadata": {},
   "outputs": [],
   "source": [
    "print('Fit information for single-component fit, no prefactor:')\n",
    "b_fit"
   ]
  },
  {
   "cell_type": "code",
   "execution_count": null,
   "metadata": {},
   "outputs": [],
   "source": [
    "print('Fit information for single-component fit, prefactor:')\n",
    "b2_fit"
   ]
  },
  {
   "cell_type": "code",
   "execution_count": null,
   "metadata": {},
   "outputs": [],
   "source": [
    "endtime = t.time()\n",
    "print('Total Time:')\n",
    "print(str(endtime - starttime)+' seconds')\n",
    "print('')\n",
    "\n",
    "print('Timestamp:')\n",
    "print(datetime.now())"
   ]
  },
  {
   "cell_type": "raw",
   "metadata": {},
   "source": [
    "queued to run."
   ]
  }
 ],
 "metadata": {
  "kernelspec": {
   "display_name": "Python 3",
   "language": "python",
   "name": "python3"
  },
  "language_info": {
   "codemirror_mode": {
    "name": "ipython",
    "version": 3
   },
   "file_extension": ".py",
   "mimetype": "text/x-python",
   "name": "python",
   "nbconvert_exporter": "python",
   "pygments_lexer": "ipython3",
   "version": "3.7.1"
  }
 },
 "nbformat": 4,
 "nbformat_minor": 4
}
