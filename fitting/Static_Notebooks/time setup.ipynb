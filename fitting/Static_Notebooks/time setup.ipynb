{
 "cells": [
  {
   "cell_type": "code",
   "execution_count": 1,
   "metadata": {},
   "outputs": [],
   "source": [
    "import time as t\n",
    "\n",
    "starttime = t.time()   #put this at beginning of code\n"
   ]
  },
  {
   "cell_type": "code",
   "execution_count": 2,
   "metadata": {},
   "outputs": [
    {
     "name": "stdout",
     "output_type": "stream",
     "text": [
      "Total Time:\n",
      "0s\n"
     ]
    }
   ],
   "source": [
    "endtime = t.time()     #put this at end of code\n",
    "print('Total Time:')\n",
    "runtime = endtime - starttime\n",
    "\n",
    "if runtime<=60:\n",
    "    minutes, runtime= divmod(runtime, 60)\n",
    "    print(str(round(runtime))+'s')\n",
    "elif runtime>60 and runtime<=3600:\n",
    "    minutes, runtime= divmod(runtime, 60)\n",
    "    print(str(round(minutes))+'min', str(round(runtime))+'s')\n",
    "elif runtime>3600 and runtime<=86400:\n",
    "    minutes = runtime/60\n",
    "    hours, minutes= divmod(minutes, 60)\n",
    "    print(str(round(hours))+'hrs', str(round(minutes))+'min')\n",
    "elif runtime>86400:\n",
    "    hours = runtime/3600\n",
    "    days, hours= divmod(hours, 24)\n",
    "    print(str(round(days))+'days', str(round(hours))+'hrs')"
   ]
  },
  {
   "cell_type": "code",
   "execution_count": null,
   "metadata": {},
   "outputs": [],
   "source": []
  }
 ],
 "metadata": {
  "kernelspec": {
   "display_name": "Python 3",
   "language": "python",
   "name": "python3"
  },
  "language_info": {
   "codemirror_mode": {
    "name": "ipython",
    "version": 3
   },
   "file_extension": ".py",
   "mimetype": "text/x-python",
   "name": "python",
   "nbconvert_exporter": "python",
   "pygments_lexer": "ipython3",
   "version": "3.7.4"
  }
 },
 "nbformat": 4,
 "nbformat_minor": 4
}
