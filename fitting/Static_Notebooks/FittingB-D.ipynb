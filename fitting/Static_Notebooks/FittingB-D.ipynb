{
 "cells": [
  {
   "cell_type": "code",
   "execution_count": 1,
   "metadata": {},
   "outputs": [],
   "source": [
    "#Imports\n",
    "import sys\n",
    "sys.path.append('../../python/')\n",
    "import NGC5533_functions as nf\n",
    "\n",
    "import numpy as np\n",
    "import matplotlib.pyplot as plt\n",
    "import scipy.optimize as opt\n",
    "import lmfit as lm\n",
    "import dataPython as dp\n",
    "\n",
    "from datetime import datetime\n",
    "import time as t"
   ]
  },
  {
   "cell_type": "code",
   "execution_count": 2,
   "metadata": {},
   "outputs": [],
   "source": [
    "starttime = t.time()\n",
    "\n",
    "data = dp.getXYdata_wXYerr('../data/100kpc_data.txt')\n",
    "r_dat = np.asarray(data['xx'])\n",
    "v_dat = np.asarray(data['yy'])\n",
    "v_err0 = np.asarray(data['ex'])\n",
    "v_err1 = np.asarray(data['ey'])\n",
    "\n",
    "#change r_dat so it's strictly increasing\n",
    "r_dat, v_dat, v_err0, v_err1 = (list(a) for a in zip(*sorted(zip(r_dat, v_dat, v_err0, v_err1))))\n",
    "#converting v_err1 to an array\n",
    "v_err1 = np.asarray(v_err1)\n",
    "#Express as weights\n",
    "weighdata = 1/v_err1"
   ]
  },
  {
   "cell_type": "code",
   "execution_count": 3,
   "metadata": {},
   "outputs": [],
   "source": [
    "#keeping others but holding them constant, All Parameters\n",
    "def f(r,n,re,h,pref):\n",
    "     return np.sqrt(nf.bh_v(r,load=True,path='../')**2 \n",
    "                    + nf.h_v(r,load=True,path='../')**2 \n",
    "                    + nf.b_v(r,n,re,load=True,path='../')**2 \n",
    "                    + nf.d_v(r,h,pref,load=True,path='../')**2)\n",
    "    \n",
    "#keeping others but holding them constant, Using Prefactors\n",
    "def g(r,c,pref):\n",
    "     return np.sqrt(nf.bh_v(r,load=True,path='../')**2 \n",
    "                    + nf.h_v(r,load=True,path='../')**2 \n",
    "                    + c**2*nf.b_v(r,load=True,path='../')**2 \n",
    "                    + nf.d_v(r,pref,load=True,path='../')**2)\n",
    "    \n",
    "#Only Bulge and Disk, All Parameters\n",
    "def b_d(r,n,re,h,pref):\n",
    "    return np.sqrt(nf.b_v(r,n,re,load=True,path='../')**2 + nf.d_v(r,h,pref,load=True,path='../')**2)\n",
    "\n",
    "#Only Bulge and Disk, Using Prefactors\n",
    "def b_d2(r,c,pref):\n",
    "    return np.sqrt(c**2*nf.b_v(r,load=True,path='../')**2 + nf.d_v(r,pref,load=True,path='../')**2)"
   ]
  },
  {
   "cell_type": "code",
   "execution_count": null,
   "metadata": {},
   "outputs": [
    {
     "name": "stderr",
     "output_type": "stream",
     "text": [
      "../../python/NGC5533_functions.py:225: IntegrationWarning: The algorithm does not converge.  Roundoff error is detected\n",
      "  in the extrapolation table.  It is assumed that the requested tolerance\n",
      "  cannot be achieved, and that the returned result (if full_output = 1) is \n",
      "  the best which can be obtained.\n",
      "  return si.quad(f, m, np.inf,args=(m,n,re))[0]\n",
      "../../python/NGC5533_functions.py:225: IntegrationWarning: The integral is probably divergent, or slowly convergent.\n",
      "  return si.quad(f, m, np.inf,args=(m,n,re))[0]\n",
      "../../python/NGC5533_functions.py:231: IntegrationWarning: The maximum number of subdivisions (50) has been achieved.\n",
      "  If increasing the limit yields no improvement it is advised to analyze \n",
      "  the integrand in order to determine the difficulties.  If the position of a \n",
      "  local difficulty can be determined (singularity, discontinuity) one will \n",
      "  probably gain from splitting up the interval and calling the integrator \n",
      "  on the subranges.  Perhaps a special-purpose integrator should be used.\n",
      "  return si.quad(h, 0, r, args=(r,n,re))[0]\n",
      "../../python/NGC5533_functions.py:225: IntegrationWarning: Extremely bad integrand behavior occurs at some points of the\n",
      "  integration interval.\n",
      "  return si.quad(f, m, np.inf,args=(m,n,re))[0]\n",
      "../../python/NGC5533_functions.py:410: IntegrationWarning: The maximum number of subdivisions (50) has been achieved.\n",
      "  If increasing the limit yields no improvement it is advised to analyze \n",
      "  the integrand in order to determine the difficulties.  If the position of a \n",
      "  local difficulty can be determined (singularity, discontinuity) one will \n",
      "  probably gain from splitting up the interval and calling the integrator \n",
      "  on the subranges.  Perhaps a special-purpose integrator should be used.\n",
      "  return u*si.quad(d_innerfunc, 0, 125, args=(r,u,h,d_rho00))[0]\n",
      "../../python/NGC5533_functions.py:410: IntegrationWarning: The occurrence of roundoff error is detected, which prevents \n",
      "  the requested tolerance from being achieved.  The error may be \n",
      "  underestimated.\n",
      "  return u*si.quad(d_innerfunc, 0, 125, args=(r,u,h,d_rho00))[0]\n",
      "../../python/NGC5533_functions.py:415: IntegrationWarning: The maximum number of subdivisions (50) has been achieved.\n",
      "  If increasing the limit yields no improvement it is advised to analyze \n",
      "  the integrand in order to determine the difficulties.  If the position of a \n",
      "  local difficulty can be determined (singularity, discontinuity) one will \n",
      "  probably gain from splitting up the interval and calling the integrator \n",
      "  on the subranges.  Perhaps a special-purpose integrator should be used.\n",
      "  return si.quad(d_innerintegral, 0, np.inf, args=(r,h,d_rho00))[0]\n"
     ]
    }
   ],
   "source": [
    "#Fit, Keeping rest constant, All Parameters\n",
    "\n",
    "#Setup\n",
    "l_mod = lm.Model(f)\n",
    "l_params = l_mod.make_params()\n",
    "#Bulge Params\n",
    "l_params.add('n', value=nf.n_c, min=0) \n",
    "l_params.add('re', value=nf.re_c, min=0) \n",
    "#Disk Params\n",
    "l_params.add('h', value=nf.h_c, min=0, max=1000)\n",
    "l_params.add('pref', value=nf.pref_def, min=0)\n",
    "#Do fit\n",
    "l_fit = l_mod.fit(v_dat,l_params,r=r_dat,weights=weighdata)"
   ]
  },
  {
   "cell_type": "code",
   "execution_count": null,
   "metadata": {},
   "outputs": [],
   "source": [
    "#Fit, Keeping rest constant, Using Prefactors\n",
    "\n",
    "#Setup\n",
    "g_mod = lm.Model(g)\n",
    "g_params = g_mod.make_params()\n",
    "#Bulge Params\n",
    "g_params.add('c', value=1, min=0) \n",
    "#Disk Params\n",
    "g_params.add('pref', value=nf.pref_def, min=0)\n",
    "#Do fit\n",
    "g_fit = g_mod.fit(v_dat,g_params,r=r_dat,weights=weighdata)"
   ]
  },
  {
   "cell_type": "code",
   "execution_count": null,
   "metadata": {},
   "outputs": [],
   "source": [
    "#Fit, B and D Only, All Parameters\n",
    "\n",
    "#Setup\n",
    "bd_mod = lm.Model(b_d)\n",
    "bd_params = bd_mod.make_params()\n",
    "#Bulge Params\n",
    "bd_params.add('n', value=nf.n_c, min=0) \n",
    "bd_params.add('re', value=nf.re_c, min=0) \n",
    "#Disk Params\n",
    "bd_params.add('h', value=nf.h_c, min=0, max=1000)\n",
    "bd_params.add('pref', value=nf.pref_def, min=0)\n",
    "#Do fit\n",
    "bd_fit = bd_mod.fit(v_dat,bd_params,r=r_dat,weights=weighdata)"
   ]
  },
  {
   "cell_type": "code",
   "execution_count": null,
   "metadata": {},
   "outputs": [],
   "source": [
    "#Fit, B and D Only, Using Prefactors\n",
    "\n",
    "#Setup\n",
    "bd2_mod = lm.Model(b_d2)\n",
    "bd2_params = bd2_mod.make_params()\n",
    "#Bulge Params\n",
    "bd2_params.add('c', value=1, min=0) \n",
    "#Disk Params\n",
    "bd2_params.add('pref', value=nf.pref_def, min=0)\n",
    "#Do fit\n",
    "bd2_fit = bd2_mod.fit(v_dat,bd2_params,r=r_dat,weights=weighdata)"
   ]
  },
  {
   "cell_type": "code",
   "execution_count": null,
   "metadata": {},
   "outputs": [],
   "source": [
    "#Define curves to plot\n",
    "\n",
    "l_dict = l_fit.best_values\n",
    "l_n = l_dict['n']\n",
    "l_re = l_dict['re']\n",
    "l_h = l_dict['h']\n",
    "l_pref = l_dict['pref']\n",
    "l_curve = f(r_dat,l_n,l_re,l_h,l_pref)\n",
    "\n",
    "g_dict = g_fit.best_values\n",
    "g_c = g_dict['c']\n",
    "g_pref = g_dict['pref']\n",
    "g_curve = g(r_dat,g_c,g_pref)\n",
    "\n",
    "bd_dict = bd_fit.best_values\n",
    "bd_n = bd_dict['n']\n",
    "bd_re = bd_dict['re']\n",
    "bd_h = bd_dict['h']\n",
    "bd_pref = bd_dict['pref']\n",
    "\n",
    "bd2_dict = bd2_fit.best_values\n",
    "bd2_c = bd2_dict['c']\n",
    "bd2_pref = bd2_dict['pref']"
   ]
  },
  {
   "cell_type": "code",
   "execution_count": null,
   "metadata": {},
   "outputs": [],
   "source": [
    "fig = plt.figure(figsize=(9.0,8.0))\n",
    "\n",
    "plt.xlim(0,125)\n",
    "\n",
    "plt.errorbar(r_dat,v_dat,yerr=v_err1,fmt='bo',label='Data')\n",
    "plt.plot(r_dat,l_curve,'b-',label='All Components, All Parameters')\n",
    "plt.plot(r_dat,g_curve,'r-',label='All Components, Using Prefactors')\n",
    "plt.plot(r_dat,b_d(r_dat,l_n,l_re,l_h,l_pref),'b--',label='Black Hole + Disk, All Parameters')\n",
    "plt.plot(r_dat,b_d2(r_dat,g_c,g_pref),'b--',label='Black Hole + Disk, Using Prefactors')\n",
    "plt.plot(r_dat,b_d(r_dat,bd_n,bd_re,bd_h,bd_pref),label='Fit Black Hole + Disk Only (All Parameters)')\n",
    "plt.plot(r_dat,b_d2(r_dat,bd2_c,bd2_pref),label='Fit Black Hole + Disk Only (Using Prefactors)')\n",
    "plt.plot(r_dat,b_d(r_dat,nf.n_c,nf.re_c,nf.h_c,nf.pref_def),'g-.',label='Black Hole + Disk (Defaults)')\n",
    "\n",
    "plt.legend()\n",
    "plt.show()"
   ]
  },
  {
   "cell_type": "code",
   "execution_count": null,
   "metadata": {},
   "outputs": [],
   "source": [
    "fig = plt.figure(figsize=(9.0,8.0))\n",
    "\n",
    "plt.xlim(0,25)\n",
    "\n",
    "plt.errorbar(r_dat,v_dat,yerr=v_err1,fmt='bo',label='Data')\n",
    "plt.plot(r_dat,l_curve,'b-',label='All Components, All Parameters')\n",
    "plt.plot(r_dat,g_curve,'r-',label='All Components, Using Prefactors')\n",
    "plt.plot(r_dat,b_d(r_dat,l_n,l_re,l_h,l_pref),'b--',label='Black Hole + Disk, All Parameters')\n",
    "plt.plot(r_dat,b_d2(r_dat,g_c,g_pref),'b--',label='Black Hole + Disk, Using Prefactors')\n",
    "plt.plot(r_dat,b_d(r_dat,bd_n,bd_re,bd_h,bd_pref),label='Fit Black Hole + Disk Only (All Parameters)')\n",
    "plt.plot(r_dat,b_d2(r_dat,bd2_c,bd2_pref),label='Fit Black Hole + Disk Only (Using Prefactors)')\n",
    "plt.plot(r_dat,b_d(r_dat,nf.n_c,nf.re_c,nf.h_c,nf.pref_def),'g-.',label='Black Hole + Disk (Defaults)')\n",
    "\n",
    "plt.legend()\n",
    "plt.show()"
   ]
  },
  {
   "cell_type": "code",
   "execution_count": null,
   "metadata": {},
   "outputs": [],
   "source": [
    "print('Fit information for all-component fit (All Parameters):')\n",
    "l_fit"
   ]
  },
  {
   "cell_type": "code",
   "execution_count": null,
   "metadata": {},
   "outputs": [],
   "source": [
    "print('Fit information for all-component fit (Using Prefactors):')\n",
    "g_fit"
   ]
  },
  {
   "cell_type": "code",
   "execution_count": null,
   "metadata": {},
   "outputs": [],
   "source": [
    "print('Fit information for two-component fit (All Parameters):')\n",
    "bd_fit"
   ]
  },
  {
   "cell_type": "code",
   "execution_count": null,
   "metadata": {},
   "outputs": [],
   "source": [
    "print('Fit information for two-component fit (Using Prefactors):')\n",
    "bd2_fit"
   ]
  },
  {
   "cell_type": "code",
   "execution_count": null,
   "metadata": {},
   "outputs": [],
   "source": [
    "endtime = t.time()\n",
    "print('Total Time:')\n",
    "print(str(endtime - starttime)+' seconds')\n",
    "print('')\n",
    "\n",
    "print('Timestamp:')\n",
    "print(datetime.now())"
   ]
  }
 ],
 "metadata": {
  "kernelspec": {
   "display_name": "Python 3",
   "language": "python",
   "name": "python3"
  },
  "language_info": {
   "codemirror_mode": {
    "name": "ipython",
    "version": 3
   },
   "file_extension": ".py",
   "mimetype": "text/x-python",
   "name": "python",
   "nbconvert_exporter": "python",
   "pygments_lexer": "ipython3",
   "version": "3.7.3"
  }
 },
 "nbformat": 4,
 "nbformat_minor": 4
}
