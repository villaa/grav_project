{
 "cells": [
  {
   "cell_type": "code",
   "execution_count": 1,
   "metadata": {},
   "outputs": [],
   "source": [
    "#Imports\n",
    "import sys\n",
    "sys.path.append('../../python/')\n",
    "import NGC5533_functions as nf\n",
    "\n",
    "import numpy as np\n",
    "import matplotlib.pyplot as plt\n",
    "import scipy.optimize as opt\n",
    "import lmfit as lm\n",
    "import dataPython as dp\n",
    "\n",
    "from datetime import datetime\n",
    "import time as t"
   ]
  },
  {
   "cell_type": "code",
   "execution_count": 2,
   "metadata": {},
   "outputs": [],
   "source": [
    "starttime = t.time()\n",
    "\n",
    "data = dp.getXYdata_wXYerr('../data/100kpc_data.txt')\n",
    "r_dat = np.asarray(data['xx'])\n",
    "v_dat = np.asarray(data['yy'])\n",
    "v_err0 = np.asarray(data['ex'])\n",
    "v_err1 = np.asarray(data['ey'])\n",
    "\n",
    "#change r_dat so it's strictly increasing\n",
    "r_dat, v_dat, v_err0, v_err1 = (list(a) for a in zip(*sorted(zip(r_dat, v_dat, v_err0, v_err1))))\n",
    "#converting v_err1 to an array\n",
    "v_err1 = np.asarray(v_err1)\n",
    "#Express as weights\n",
    "weighdata = 1/v_err1"
   ]
  },
  {
   "cell_type": "code",
   "execution_count": 3,
   "metadata": {},
   "outputs": [],
   "source": [
    "#keeping others but holding them constant, All Parameters\n",
    "def f(r,pref,h):\n",
    "     return np.sqrt(nf.bh_v(r,load=True,path='../')**2 \n",
    "                    + nf.h_v(r,load=True,path='../')**2 \n",
    "                    + nf.b_v(r,load=True,path='../')**2 \n",
    "                    + nf.d_v(r,pref,h,load=True,path='../')**2)\n",
    "    \n",
    "#keeping others but holding them constant, No h\n",
    "def g(r,pref):\n",
    "     return np.sqrt(nf.bh_v(r,load=True,path='../')**2 \n",
    "                    + nf.h_v(r,load=True,path='../')**2 \n",
    "                    + nf.b_v(r,load=True,path='../')**2 \n",
    "                    + nf.d_v(r,pref,load=True,path='../')**2)\n",
    "\n",
    "#Only Disk, All Parameters\n",
    "def d(r,pref,h):\n",
    "    return nf.d_v(r,pref,h,load=True,path='../')\n",
    "\n",
    "#Only Disk, No h\n",
    "def d2(r,pref):\n",
    "    return nf.d_v(r,pref,load=True,path='../')"
   ]
  },
  {
   "cell_type": "code",
   "execution_count": 4,
   "metadata": {},
   "outputs": [
    {
     "name": "stderr",
     "output_type": "stream",
     "text": [
      "C:\\Users\\JB\\AppData\\Local\\Continuum\\anaconda3\\lib\\site-packages\\scipy\\integrate\\quadpack.py:385: IntegrationWarning: The maximum number of subdivisions (50) has been achieved.\n",
      "  If increasing the limit yields no improvement it is advised to analyze \n",
      "  the integrand in order to determine the difficulties.  If the position of a \n",
      "  local difficulty can be determined (singularity, discontinuity) one will \n",
      "  probably gain from splitting up the interval and calling the integrator \n",
      "  on the subranges.  Perhaps a special-purpose integrator should be used.\n",
      "  warnings.warn(msg, IntegrationWarning)\n"
     ]
    }
   ],
   "source": [
    "#Fit, Keeping rest constant, All Parameters\n",
    "\n",
    "#Setup\n",
    "l_mod = lm.Model(f)\n",
    "l_params = l_mod.make_params()\n",
    "#Disk Params\n",
    "l_params.add('h', value=nf.h_c, min=0, max=1000)\n",
    "l_params.add('pref', value=0.3, min=0)\n",
    "#Do fit\n",
    "l_fit = l_mod.fit(v_dat,l_params,r=r_dat,weights=weighdata)"
   ]
  },
  {
   "cell_type": "code",
   "execution_count": null,
   "metadata": {},
   "outputs": [],
   "source": [
    "#Fit, Keeping rest constant, No h\n",
    "\n",
    "#Setup\n",
    "g_mod = lm.Model(g)\n",
    "g_params = g_mod.make_params()\n",
    "#Disk Params\n",
    "g_params.add('pref', value=0.3, min=0)\n",
    "#Do fit\n",
    "g_fit = g_mod.fit(v_dat,g_params,r=r_dat,weights=weighdata)"
   ]
  },
  {
   "cell_type": "code",
   "execution_count": null,
   "metadata": {},
   "outputs": [],
   "source": [
    "#Fit, D Only, All Parameters\n",
    "\n",
    "#Setup\n",
    "d_mod = lm.Model(d)\n",
    "d_params = d_mod.make_params()\n",
    "#Disk Params\n",
    "d_params.add('h', value=nf.h_c, min=0, max=1000)\n",
    "d_params.add('pref', value=0.3, min=0)\n",
    "#Do fit\n",
    "d_fit = d_mod.fit(v_dat,d_params,r=r_dat,weights=weighdata)"
   ]
  },
  {
   "cell_type": "code",
   "execution_count": null,
   "metadata": {},
   "outputs": [],
   "source": [
    "#Fit, D Only, No h\n",
    "\n",
    "#Setup\n",
    "d2_mod = lm.Model(d2)\n",
    "d2_params = d2_mod.make_params()\n",
    "#Disk Params\n",
    "d2_params.add('pref', value=0.3, min=0)\n",
    "#Do fit\n",
    "d2_fit = d2_mod.fit(v_dat,d2_params,r=r_dat,weights=weighdata)"
   ]
  },
  {
   "cell_type": "code",
   "execution_count": null,
   "metadata": {},
   "outputs": [],
   "source": [
    "#Define curves to plot\n",
    "\n",
    "l_dict = l_fit.best_values\n",
    "l_h = l_dict['h']\n",
    "l_pref = l_dict['pref']\n",
    "l_curve = f(r_dat,l_pref,l_h)\n",
    "\n",
    "g_dict = g_fit.best_values\n",
    "g_pref = g_dict['pref']\n",
    "g_curve = g(r_dat,g_pref)\n",
    "\n",
    "d_dict = d_fit.best_values\n",
    "d_h = d_dict['h']\n",
    "d_pref = d_dict['pref']\n",
    "\n",
    "d2_dict = d2_fit.best_values\n",
    "d2_pref = d2_dict['pref']"
   ]
  },
  {
   "cell_type": "code",
   "execution_count": null,
   "metadata": {},
   "outputs": [],
   "source": [
    "fig = plt.figure(figsize=(9.0,8.0))\n",
    "\n",
    "plt.xlim(0,125)\n",
    "\n",
    "plt.errorbar(r_dat,v_dat,yerr=v_err1,fmt='bo',label='Data')\n",
    "plt.plot(r_dat,l_curve,'b-',label='All Components (All Parameters)')\n",
    "plt.plot(r_dat,g_curve,'r-',label='All Components, N h')\n",
    "plt.plot(r_dat,d(r_dat,l_pref,l_h),'b--',label='Disk Only, from AC')\n",
    "plt.plot(r_dat,d2(r_dat,g_pref),'r--',label='Disk Only, from AC No h')\n",
    "plt.plot(r_dat,d(r_dat,d_pref,d_h),label='Fit Disk Only')\n",
    "plt.plot(r_dat,d2(r_dat,d2_pref),label='Fit Disk Only (No h)')\n",
    "plt.plot(r_dat,nf.d_v(r_dat,load=True,path='../'),'g-.',label='Disk (Defaults)')\n",
    "\n",
    "plt.legend()\n",
    "plt.show()"
   ]
  },
  {
   "cell_type": "code",
   "execution_count": null,
   "metadata": {},
   "outputs": [],
   "source": [
    "fig = plt.figure(figsize=(9.0,8.0))\n",
    "\n",
    "plt.xlim(0,25)\n",
    "\n",
    "plt.errorbar(r_dat,v_dat,yerr=v_err1,fmt='bo',label='Data')\n",
    "plt.plot(r_dat,l_curve,'b-',label='All Components (All Parameters)')\n",
    "plt.plot(r_dat,g_curve,'r-',label='All Components, No h')\n",
    "plt.plot(r_dat,d(r_dat,l_pref,l_h),'b--',label='Disk Only, from AC')\n",
    "plt.plot(r_dat,d2(r_dat,g_pref),'r--',label='Disk Only, from AC No h')\n",
    "plt.plot(r_dat,d(r_dat,d_pref,d_h),label='Fit Disk Only')\n",
    "plt.plot(r_dat,d2(r_dat,d2_pref),label='Fit Disk Only (No h)')\n",
    "plt.plot(r_dat,nf.d_v(r_dat,load=True,path='../'),'g-.',label='Disk (Defaults)')\n",
    "\n",
    "plt.legend()\n",
    "plt.show()"
   ]
  },
  {
   "cell_type": "code",
   "execution_count": null,
   "metadata": {},
   "outputs": [],
   "source": [
    "print('Fit information for all-component fit (All Parameters):')\n",
    "l_fit"
   ]
  },
  {
   "cell_type": "code",
   "execution_count": null,
   "metadata": {},
   "outputs": [],
   "source": [
    "print('Fit information for all-component fit (No h):')\n",
    "g_fit"
   ]
  },
  {
   "cell_type": "code",
   "execution_count": null,
   "metadata": {},
   "outputs": [],
   "source": [
    "print('Fit information for single-component fit (All Parameters):')\n",
    "d_fit"
   ]
  },
  {
   "cell_type": "code",
   "execution_count": null,
   "metadata": {},
   "outputs": [],
   "source": [
    "print('Fit information for single-component fit (No h):')\n",
    "d2_fit"
   ]
  },
  {
   "cell_type": "code",
   "execution_count": null,
   "metadata": {},
   "outputs": [],
   "source": [
    "endtime = t.time()\n",
    "print('Total Time:')\n",
    "print(str(endtime - starttime)+' seconds')\n",
    "print('')\n",
    "\n",
    "print('Timestamp:')\n",
    "print(datetime.now())"
   ]
  },
  {
   "cell_type": "code",
   "execution_count": null,
   "metadata": {},
   "outputs": [],
   "source": []
  }
 ],
 "metadata": {
  "kernelspec": {
   "display_name": "Python 3",
   "language": "python",
   "name": "python3"
  },
  "language_info": {
   "codemirror_mode": {
    "name": "ipython",
    "version": 3
   },
   "file_extension": ".py",
   "mimetype": "text/x-python",
   "name": "python",
   "nbconvert_exporter": "python",
   "pygments_lexer": "ipython3",
   "version": "3.7.1"
  }
 },
 "nbformat": 4,
 "nbformat_minor": 4
}
