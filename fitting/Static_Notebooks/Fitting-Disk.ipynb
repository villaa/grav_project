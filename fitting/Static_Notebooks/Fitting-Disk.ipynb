{
 "cells": [
  {
   "cell_type": "code",
   "execution_count": 1,
   "metadata": {},
   "outputs": [],
   "source": [
    "#Imports\n",
    "import sys\n",
    "sys.path.append('../../python/')\n",
    "import NGC5533_functions as nf\n",
    "\n",
    "import numpy as np\n",
    "import matplotlib.pyplot as plt\n",
    "import scipy.optimize as opt\n",
    "import lmfit as lm\n",
    "import dataPython as dp\n",
    "\n",
    "from datetime import datetime"
   ]
  },
  {
   "cell_type": "code",
   "execution_count": 2,
   "metadata": {},
   "outputs": [],
   "source": [
    "data = dp.getXYdata_wXYerr('../data/100kpc_data.txt')\n",
    "r_dat = np.asarray(data['xx'])\n",
    "v_dat = np.asarray(data['yy'])\n",
    "v_err0 = np.asarray(data['ex'])\n",
    "v_err1 = np.asarray(data['ey'])\n",
    "\n",
    "#change r_dat so it's strictly increasing\n",
    "r_dat, v_dat, v_err0, v_err1 = (list(a) for a in zip(*sorted(zip(r_dat, v_dat, v_err0, v_err1))))\n",
    "#converting v_err1 to an array\n",
    "v_err1 = np.asarray(v_err1)\n",
    "#Express as weights\n",
    "weighdata = 1/v_err1"
   ]
  },
  {
   "cell_type": "code",
   "execution_count": 3,
   "metadata": {},
   "outputs": [],
   "source": [
    "#keeping others but holding them constant\n",
    "def f(r,h,d_rho00):\n",
    "     return np.sqrt(nf.bh_v(r,load=True,path='../')**2 \n",
    "                    + nf.h_v(r,load=True,path='../')**2 \n",
    "                    + nf.b_v(r,load=True,path='../')**2 \n",
    "                    + nf.d_v(r,h,d_rho00,pref=False,load=True,path='../')**2)\n",
    "#Only Disk\n",
    "def d(r,h,d_rho00):\n",
    "    return nf.d_v(r,h,d_rho00,load=True,path='../')"
   ]
  },
  {
   "cell_type": "code",
   "execution_count": null,
   "metadata": {},
   "outputs": [
    {
     "name": "stderr",
     "output_type": "stream",
     "text": [
      "../../python/NGC5533_functions.py:317: IntegrationWarning: The occurrence of roundoff error is detected, which prevents \n",
      "  the requested tolerance from being achieved.  The error may be \n",
      "  underestimated.\n",
      "  return u*si.quad(d_innerfunc, 0, np.inf, args=(r,u,h,d_rho00))[0]\n",
      "../../python/NGC5533_functions.py:321: IntegrationWarning: The maximum number of subdivisions (50) has been achieved.\n",
      "  If increasing the limit yields no improvement it is advised to analyze \n",
      "  the integrand in order to determine the difficulties.  If the position of a \n",
      "  local difficulty can be determined (singularity, discontinuity) one will \n",
      "  probably gain from splitting up the interval and calling the integrator \n",
      "  on the subranges.  Perhaps a special-purpose integrator should be used.\n",
      "  return si.quad(d_innerintegral, 0.1, 125, args=(r,h,d_rho00))[0]\n",
      "../../python/NGC5533_functions.py:321: IntegrationWarning: The occurrence of roundoff error is detected, which prevents \n",
      "  the requested tolerance from being achieved.  The error may be \n",
      "  underestimated.\n",
      "  return si.quad(d_innerintegral, 0.1, 125, args=(r,h,d_rho00))[0]\n"
     ]
    }
   ],
   "source": [
    "#Fit, Keeping rest constant\n",
    "\n",
    "#Setup\n",
    "l_mod = lm.Model(f)\n",
    "l_params = l_mod.make_params()\n",
    "#Disk Params\n",
    "l_params.add('h', value=nf.h_c, min=0, max=1000)\n",
    "l_params.add('d_rho00', value=nf.drho00_c, min=0)\n",
    "#Do fit\n",
    "l_fit = l_mod.fit(v_dat,l_params,r=r_dat,weights=weighdata)"
   ]
  },
  {
   "cell_type": "code",
   "execution_count": null,
   "metadata": {},
   "outputs": [],
   "source": [
    "#Fit, D Only\n",
    "\n",
    "#Setup\n",
    "d_mod = lm.Model(d)\n",
    "d_params = l_mod.make_params()\n",
    "#Disk Params\n",
    "d_params.add('h', value=nf.h_c, min=0, max=1000)\n",
    "d_params.add('d_rho00', value=nf.drho00_c, min=0)\n",
    "#Do fit\n",
    "d_fit = d_mod.fit(v_dat,d_params,r=r_dat,weights=weighdata)"
   ]
  },
  {
   "cell_type": "code",
   "execution_count": null,
   "metadata": {},
   "outputs": [],
   "source": [
    "#Define curves to plot\n",
    "\n",
    "l_dict = l_fit.best_values\n",
    "l_h = l_dict['h']\n",
    "l_d_rho00 = l_dict['d_rho00']\n",
    "l_curve = f(r_dat,l_h,l_d_rho00)\n",
    "\n",
    "d_dict = d_fit.best_values\n",
    "d_h = d_dict['h']\n",
    "d_d_rho00 = d_dict['d_rho00']"
   ]
  },
  {
   "cell_type": "code",
   "execution_count": null,
   "metadata": {},
   "outputs": [],
   "source": [
    "fig = plt.figure(figsize=(9.0,8.0))\n",
    "\n",
    "plt.xlim(0,125)\n",
    "\n",
    "plt.errorbar(r_dat,v_dat,yerr=v_err1,fmt='bo',label='Data')\n",
    "plt.plot(r_dat,l_curve,'b-',label='Fit with All Components')\n",
    "plt.plot(r_dat,nf.d_v(r_dat,l_h,l_d_rho00,load=True,path='../'),'b--',label='Disk Only, from All Components')\n",
    "plt.plot(r_dat,nf.d_v(r_dat,load=True,path='../'),'g-.',label='Disk (Defaults)')\n",
    "plt.plot(r_dat,nf.d_v(r_dat,d_h,d_d_rho00,load=True,path='../'),label='Fit Disk Only')\n",
    "\n",
    "plt.legend()\n",
    "plt.show()\n",
    "\n",
    "print('Fit information for all-component fit:')\n",
    "l_fit"
   ]
  },
  {
   "cell_type": "code",
   "execution_count": null,
   "metadata": {},
   "outputs": [],
   "source": [
    "fig = plt.figure(figsize=(9.0,8.0))\n",
    "\n",
    "plt.xlim(0,25)\n",
    "\n",
    "plt.errorbar(r_dat,v_dat,yerr=v_err1,fmt='bo',label='Data')\n",
    "plt.plot(r_dat,l_curve,'b-',label='Fit with All Components')\n",
    "plt.plot(r_dat,nf.d_v(r_dat,l_h,l_d_rho00,load=True,path='../'),'b--',label='Disk Only, from All Components')\n",
    "plt.plot(r_dat,nf.d_v(r_dat,load=True,path='../'),'g-.',label='Disk (Defaults)')\n",
    "plt.plot(r_dat,nf.d_v(r_dat,d_h,d_d_rho00,load=True,path='../'),label='Fit Disk Only')\n",
    "\n",
    "plt.legend()\n",
    "plt.savefig('Fitting_with_library.png')\n",
    "plt.show()\n",
    "\n",
    "print('Fit information for single-component fit')\n",
    "d_fit"
   ]
  },
  {
   "cell_type": "code",
   "execution_count": null,
   "metadata": {},
   "outputs": [],
   "source": [
    "print('Timestamp:')\n",
    "print(datetime.now())"
   ]
  }
 ],
 "metadata": {
  "kernelspec": {
   "display_name": "Python 3",
   "language": "python",
   "name": "python3"
  },
  "language_info": {
   "codemirror_mode": {
    "name": "ipython",
    "version": 3
   },
   "file_extension": ".py",
   "mimetype": "text/x-python",
   "name": "python",
   "nbconvert_exporter": "python",
   "pygments_lexer": "ipython3",
   "version": "3.7.3"
  }
 },
 "nbformat": 4,
 "nbformat_minor": 4
}
