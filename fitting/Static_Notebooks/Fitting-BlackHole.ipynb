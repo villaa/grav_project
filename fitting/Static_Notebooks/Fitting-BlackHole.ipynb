{
 "cells": [
  {
   "cell_type": "code",
   "execution_count": 1,
   "metadata": {},
   "outputs": [],
   "source": [
    "#Imports\n",
    "import sys\n",
    "sys.path.append('../../python/')\n",
    "import NGC5533_functions as nf\n",
    "\n",
    "import numpy as np\n",
    "import matplotlib.pyplot as plt\n",
    "import scipy.optimize as opt\n",
    "import lmfit as lm\n",
    "import dataPython as dp\n",
    "\n",
    "from datetime import datetime\n",
    "import time as t"
   ]
  },
  {
   "cell_type": "code",
   "execution_count": 2,
   "metadata": {},
   "outputs": [],
   "source": [
    "starttime = t.time()\n",
    "\n",
    "data = dp.getXYdata_wXYerr('../data/100kpc_data.txt')\n",
    "r_dat = np.asarray(data['xx'])\n",
    "v_dat = np.asarray(data['yy'])\n",
    "v_err0 = np.asarray(data['ex'])\n",
    "v_err1 = np.asarray(data['ey'])\n",
    "\n",
    "#change r_dat so it's strictly increasing\n",
    "r_dat, v_dat, v_err0, v_err1 = (list(a) for a in zip(*sorted(zip(r_dat, v_dat, v_err0, v_err1))))\n",
    "#converting v_err1 to an array\n",
    "v_err1 = np.asarray(v_err1)\n",
    "#Express as weights\n",
    "weighdata = 1/v_err1"
   ]
  },
  {
   "cell_type": "code",
   "execution_count": 3,
   "metadata": {},
   "outputs": [],
   "source": [
    "#keeping others but holding them constant\n",
    "def f(r,M):\n",
    "    return np.sqrt(nf.bh_v(r,M,load=True,path='../')**2 \n",
    "                   + nf.h_v(r,load=True,path='../')**2 \n",
    "                   + nf.b_v(r,load=True,path='../')**2 \n",
    "                   + nf.d_v(r,load=True,path='../')**2)\n",
    "#Only Black Hole\n",
    "def bh(r,M):\n",
    "    return nf.bh_v(r,M,load=True,path='../')"
   ]
  },
  {
   "cell_type": "code",
   "execution_count": 4,
   "metadata": {},
   "outputs": [],
   "source": [
    "#Fit, Keeping rest constant\n",
    "\n",
    "#Setup\n",
    "l_mod = lm.Model(f)\n",
    "l_params = l_mod.make_params()\n",
    "#Black Hole Params\n",
    "l_params.add('M', value=nf.Mbh_def, min=0) #Mass\n",
    "#Do fit\n",
    "l_fit = l_mod.fit(v_dat,l_params,r=r_dat,weights=weighdata)"
   ]
  },
  {
   "cell_type": "code",
   "execution_count": 5,
   "metadata": {},
   "outputs": [],
   "source": [
    "#Fit, BH Only\n",
    "\n",
    "#Setup\n",
    "bh_mod = lm.Model(bh)\n",
    "bh_params = bh_mod.make_params()\n",
    "#Black Hole Params\n",
    "bh_params.add('M', value=nf.Mbh_def, min=0) #Mass\n",
    "#Do fit\n",
    "bh_fit = bh_mod.fit(v_dat,bh_params,r=r_dat,weights=weighdata)"
   ]
  },
  {
   "cell_type": "code",
   "execution_count": 6,
   "metadata": {},
   "outputs": [],
   "source": [
    "#Misc. Variables for plotting\n",
    "l_dict = l_fit.best_values \n",
    "l_M = l_dict['M']\n",
    "bh_dict = bh_fit.best_values \n",
    "bh_M = bh_dict['M']\n",
    "lMerr = l_fit.params['M'].stderr\n",
    "\n",
    "#unceranties on fit. (naming convention from tutorial I found)\n",
    "dely = bh_fit.eval_uncertainty()\n",
    "delbh = bh_fit.eval_uncertainty()"
   ]
  },
  {
   "cell_type": "code",
   "execution_count": 15,
   "metadata": {},
   "outputs": [],
   "source": [
    "fig = plt.figure(figsize=(9.0,8.0))\n",
    "\n",
    "plt.xlim(0,15)\n",
    "plt.ylim(0,450)\n",
    "\n",
    "#Data\n",
    "plt.errorbar(r_dat,v_dat,yerr=v_err1,fmt='bo',label='Data')\n",
    "#All-Components Fit\n",
    "plt.plot(r_dat,l_fit.best_fit,'b-',label='Fit with all components')\n",
    "plt.fill_between(r_dat,l_fit.best_fit-dely, l_fit.best_fit+dely, color='#ABABAB',label='1-$\\sigma$ uncertainty')\n",
    "plt.plot(r_dat,nf.bh_v(r_dat,l_M,load=True,path='../'),'b--',label='Black Hole Only, from All Components')\n",
    "plt.fill_between(r_dat,nf.bh_v(r_dat,max(l_M-lMerr,0)), nf.bh_v(r_dat,(l_M+lMerr)), color='#dddddd')\n",
    "#^ Line above will fail for undefined values, i.e. M < 0. This is reason for max(m,0).\n",
    "#Defaults\n",
    "plt.plot(r_dat,nf.bh_v(r_dat,load=True,path='../'),'g-.',label='Black Hole (Defaults; no uncertainty)')\n",
    "#BH Only\n",
    "plt.plot(r_dat,bh_fit.best_fit,label='Fit Black Hole Only')\n",
    "plt.fill_between(r_dat,bh_fit.best_fit-delbh, bh_fit.best_fit+delbh, color='#ABABAB')\n",
    "\n",
    "plt.legend()\n",
    "plt.show()"
   ]
  },
  {
   "cell_type": "code",
   "execution_count": 14,
   "metadata": {},
   "outputs": [],
   "source": [
    "#Same plot, but zoomed in\n",
    "fig = plt.figure(figsize=(9.0,8.0))\n",
    "plt.xlim(0,25)\n",
    "plt.ylim(0,400)\n",
    "\n",
    "#Data\n",
    "plt.errorbar(r_dat,v_dat,yerr=v_err1,fmt='bo',label='Data')\n",
    "#All-Components Fit\n",
    "plt.plot(r_dat,l_fit.best_fit,'b-',label='Fit with all components')\n",
    "plt.fill_between(r_dat,l_fit.best_fit-dely, l_fit.best_fit+dely, color='#ABABAB',label='1-$\\sigma$ uncertainty')\n",
    "plt.plot(r_dat,nf.bh_v(r_dat,l_M,load=True,path='../'),'b--',label='Black Hole Only, from All Components')\n",
    "plt.fill_between(r_dat,nf.bh_v(r_dat,max(l_M-lMerr,0)), nf.bh_v(r_dat,(l_M+lMerr)), color='#DDDDDD',label='Uncertainty for BHO,AC')\n",
    "#^ Line above will fail for undefined values, i.e. M < 0. This is reason for max(m,0).\n",
    "#Defaults\n",
    "plt.plot(r_dat,nf.bh_v(r_dat,load=True,path='../'),'g-.',label='Black Hole (Defaults; no uncertainty)')\n",
    "#BH Only\n",
    "plt.plot(r_dat,bh_fit.best_fit,label='Fit Black Hole Only')\n",
    "plt.fill_between(r_dat,bh_fit.best_fit-delbh, bh_fit.best_fit+delbh, color='#ABABAB')\n",
    "\n",
    "plt.legend()\n",
    "plt.show()"
   ]
  },
  {
   "cell_type": "code",
   "execution_count": 9,
   "metadata": {},
   "outputs": [
    {
     "name": "stdout",
     "output_type": "stream",
     "text": [
      "Fit information for all-component fit:\n"
     ]
    },
    {
     "data": {
      "text/html": [
       "<h2> Model</h2> Model(f) <h2>Fit Statistics</h2><table><tr><td>fitting method</td><td>leastsq</td><td></td></tr><tr><td># function evals</td><td>30</td><td></td></tr><tr><td># data points</td><td>69</td><td></td></tr><tr><td># variables</td><td>1</td><td></td></tr><tr><td>chi-square</td><td> 103561.179</td><td></td></tr><tr><td>reduced chi-square</td><td> 1522.95851</td><td></td></tr><tr><td>Akaike info crit.</td><td> 506.652980</td><td></td></tr><tr><td>Bayesian info crit.</td><td> 508.887087</td><td></td></tr></table><h2>Variables</h2><table><tr><th> name </th><th> value </th><th> standard error </th><th> relative error </th><th> initial value </th><th> min </th><th> max </th><th> vary </th></tr><tr><td> M </td><td>  680.419383 </td><td>  1.7046e+10 </td><td> 2505247075.64% </td><td> 2700000000.0 </td><td>  0.00000000 </td><td>         inf </td><td> True </td></tr></table>"
      ],
      "text/plain": [
       "<lmfit.model.ModelResult at 0x1c12fcbf9e8>"
      ]
     },
     "execution_count": 9,
     "metadata": {},
     "output_type": "execute_result"
    }
   ],
   "source": [
    "print('Fit information for all-component fit:')\n",
    "l_fit"
   ]
  },
  {
   "cell_type": "code",
   "execution_count": 10,
   "metadata": {},
   "outputs": [
    {
     "name": "stdout",
     "output_type": "stream",
     "text": [
      "Fit information for single-component fit:\n"
     ]
    },
    {
     "data": {
      "text/html": [
       "<h2> Model</h2> Model(bh) <h2>Fit Statistics</h2><table><tr><td>fitting method</td><td>leastsq</td><td></td></tr><tr><td># function evals</td><td>11</td><td></td></tr><tr><td># data points</td><td>69</td><td></td></tr><tr><td># variables</td><td>1</td><td></td></tr><tr><td>chi-square</td><td> 66186.9869</td><td></td></tr><tr><td>reduced chi-square</td><td> 973.338043</td><td></td></tr><tr><td>Akaike info crit.</td><td> 475.763153</td><td></td></tr><tr><td>Bayesian info crit.</td><td> 477.997259</td><td></td></tr></table><h2>Variables</h2><table><tr><th> name </th><th> value </th><th> standard error </th><th> relative error </th><th> initial value </th><th> min </th><th> max </th><th> vary </th></tr><tr><td> M </td><td>  1.4201e+11 </td><td>  1.9042e+10 </td><td> 13.41% </td><td> 2700000000.0 </td><td>  0.00000000 </td><td>         inf </td><td> True </td></tr></table>"
      ],
      "text/plain": [
       "<lmfit.model.ModelResult at 0x1c12fce3a90>"
      ]
     },
     "execution_count": 10,
     "metadata": {},
     "output_type": "execute_result"
    }
   ],
   "source": [
    "print('Fit information for single-component fit:')\n",
    "bh_fit"
   ]
  },
  {
   "cell_type": "code",
   "execution_count": 11,
   "metadata": {},
   "outputs": [
    {
     "name": "stdout",
     "output_type": "stream",
     "text": [
      "Total Time:\n",
      "1.613213300704956 seconds\n",
      "\n",
      "Timestamp:\n",
      "2019-11-02 22:55:11.927914\n"
     ]
    }
   ],
   "source": [
    "endtime = t.time()\n",
    "print('Total Time:')\n",
    "print(str(endtime - starttime)+' seconds')\n",
    "print('')\n",
    "\n",
    "print('Timestamp:')\n",
    "print(datetime.now())"
   ]
  }
 ],
 "metadata": {
  "kernelspec": {
   "display_name": "Python 3",
   "language": "python",
   "name": "python3"
  },
  "language_info": {
   "codemirror_mode": {
    "name": "ipython",
    "version": 3
   },
   "file_extension": ".py",
   "mimetype": "text/x-python",
   "name": "python",
   "nbconvert_exporter": "python",
   "pygments_lexer": "ipython3",
   "version": "3.7.1"
  }
 },
 "nbformat": 4,
 "nbformat_minor": 4
}
