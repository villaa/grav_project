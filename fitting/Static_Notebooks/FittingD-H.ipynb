{
 "cells": [
  {
   "cell_type": "code",
   "execution_count": 1,
   "metadata": {},
   "outputs": [],
   "source": [
    "#Imports\n",
    "import sys\n",
    "sys.path.append('../../python/')\n",
    "import NGC5533_functions as nf\n",
    "\n",
    "import numpy as np\n",
    "import matplotlib.pyplot as plt\n",
    "import scipy.optimize as opt\n",
    "import lmfit as lm\n",
    "import dataPython as dp\n",
    "\n",
    "from datetime import datetime\n",
    "import time as t"
   ]
  },
  {
   "cell_type": "code",
   "execution_count": 2,
   "metadata": {},
   "outputs": [],
   "source": [
    "starttime = t.time()\n",
    "\n",
    "data = dp.getXYdata_wXYerr('../data/100kpc_data.txt')\n",
    "r_dat = np.asarray(data['xx'])\n",
    "v_dat = np.asarray(data['yy'])\n",
    "v_err0 = np.asarray(data['ex'])\n",
    "v_err1 = np.asarray(data['ey'])\n",
    "\n",
    "#change r_dat so it's strictly increasing\n",
    "r_dat, v_dat, v_err0, v_err1 = (list(a) for a in zip(*sorted(zip(r_dat, v_dat, v_err0, v_err1))))\n",
    "#converting v_err1 to an array\n",
    "v_err1 = np.asarray(v_err1)\n",
    "#Express as weights\n",
    "weighdata = 1/v_err1"
   ]
  },
  {
   "cell_type": "code",
   "execution_count": 3,
   "metadata": {},
   "outputs": [],
   "source": [
    "#keeping others but holding them constant\n",
    "def f(r,h,d_rho00,rc,h_rho00):\n",
    "     return np.sqrt(nf.bh_v(r,load=True,path='../')**2 \n",
    "                    + nf.h_v(r,rc,h_rho00,load=True,path='../')**2 \n",
    "                    + nf.b_v(r,load=True,path='../')**2 \n",
    "                    + nf.d_v(r,h,d_rho00,load=True,path='../')**2)\n",
    "#Only Black Hole and Halo\n",
    "def bh_h(r,h,d_rho00,rc,h_rho00):\n",
    "    return np.sqrt(nf.d_v(r,h,d_rho00,load=True,path='../')**2 + nf.h_v(r,rc,h_rho00,load=True,path='../')**2)"
   ]
  },
  {
   "cell_type": "code",
   "execution_count": null,
   "metadata": {},
   "outputs": [
    {
     "name": "stderr",
     "output_type": "stream",
     "text": [
      "../../python/NGC5533_functions.py:317: IntegrationWarning: The occurrence of roundoff error is detected, which prevents \n",
      "  the requested tolerance from being achieved.  The error may be \n",
      "  underestimated.\n",
      "  return u*si.quad(d_innerfunc, 0, np.inf, args=(r,u,h,d_rho00))[0]\n",
      "../../python/NGC5533_functions.py:321: IntegrationWarning: The maximum number of subdivisions (50) has been achieved.\n",
      "  If increasing the limit yields no improvement it is advised to analyze \n",
      "  the integrand in order to determine the difficulties.  If the position of a \n",
      "  local difficulty can be determined (singularity, discontinuity) one will \n",
      "  probably gain from splitting up the interval and calling the integrator \n",
      "  on the subranges.  Perhaps a special-purpose integrator should be used.\n",
      "  return si.quad(d_innerintegral, 0.1, 125, args=(r,h,d_rho00))[0]\n"
     ]
    }
   ],
   "source": [
    "#Fit, Keeping rest constant\n",
    "\n",
    "#Setup\n",
    "l_mod = lm.Model(f)\n",
    "l_params = l_mod.make_params()\n",
    "#Disk Params\n",
    "l_params.add('h', value=nf.h_c, min=0)\n",
    "l_params.add('d_rho00', value=nf.drho00_c, min=0) #Density (disk)\n",
    "#Halo\n",
    "l_params.add('rc', value=nf.h_rc, min=0)   #Radius (magnitude)\n",
    "l_params.add('h_rho00', value=nf.hrho00_c, min=0) #Density (halo)\n",
    "#Do fit\n",
    "l_fit = l_mod.fit(v_dat,l_params,r=r_dat,weights=weighdata)"
   ]
  },
  {
   "cell_type": "code",
   "execution_count": null,
   "metadata": {},
   "outputs": [],
   "source": [
    "#Fit, D and H only\n",
    "\n",
    "#Setup\n",
    "dh_mod = lm.Model(d_h)\n",
    "dh_params = dh_mod.make_params()\n",
    "#Disk Params\n",
    "dh_params.add('h', value=nf.h_c, min=0)\n",
    "dh_params.add('d_rho00', value=nf.drho00_c, min=0) #Density (disk)\n",
    "#Halo\n",
    "dh_params.add('rc', value=nf.h_rc, min=0)   #Radius (magnitude)\n",
    "dh_params.add('h_rho00', value=nf.hrho00_c, min=0) #Density (halo)\n",
    "#Do fit\n",
    "dh_fit = dh_mod.fit(v_dat,dh_params,r=r_dat,weights=weighdata)"
   ]
  },
  {
   "cell_type": "code",
   "execution_count": null,
   "metadata": {},
   "outputs": [],
   "source": [
    "#Define curves to plot\n",
    "\n",
    "l_dict = l_fit.best_values\n",
    "l_h = l_dict['h']\n",
    "l_d_rho00 = l_dict['d_rho00']\n",
    "l_rc = l_dict['rc']\n",
    "l_h_rho00 = l_dict['h_rho00']\n",
    "l_curve = f(r_dat,l_h,l_d_rho00,l_rc,l_h_rho00)\n",
    "\n",
    "dh_dict = dh_fit.best_values\n",
    "dh_h = bhh_dict['h']\n",
    "dh_d_rho00 = bhh_dict['d_rho00']\n",
    "dh_rc = bhh_dict['rc']\n",
    "dh_h_rho00 = bhh_dict['h_rho00']"
   ]
  },
  {
   "cell_type": "code",
   "execution_count": null,
   "metadata": {},
   "outputs": [],
   "source": [
    "fig = plt.figure(figsize=(9.0,8.0))\n",
    "\n",
    "plt.xlim(0,125)\n",
    "\n",
    "plt.errorbar(r_dat,v_dat,yerr=v_err1,fmt='bo',label='Data')\n",
    "plt.plot(r_dat,l_curve,'b-',label='Fit with All Components')\n",
    "plt.plot(r_dat,d_h(r_dat,l_h,l_d_rho00,l_rc,l_h_rho00),'b--',label='Disk + Halo, from All Components')\n",
    "plt.plot(r_dat,d_h(r_dat,nf.h_c,nf.drho00_c,nf.rc_c,nf.hrho00_c),'g-.',label='Disk + Halo (Defaults)')\n",
    "plt.plot(r_dat,d_h(r_dat,dh_h,dh_d_rho00,dh_rc,dh_h_rho00),label='Fit Disk + Halo Only')\n",
    "\n",
    "plt.legend()\n",
    "plt.show()\n",
    "\n",
    "print('Fit information for single-component fit')\n",
    "l_fit"
   ]
  },
  {
   "cell_type": "code",
   "execution_count": null,
   "metadata": {},
   "outputs": [],
   "source": [
    "fig = plt.figure(figsize=(9.0,8.0))\n",
    "\n",
    "plt.xlim(0,25)\n",
    "plt.ylim(0,400)\n",
    "\n",
    "plt.errorbar(r_dat,v_dat,yerr=v_err1,fmt='bo',label='Data')\n",
    "plt.plot(r_dat,l_curve,'b-',label='Fit with All Components')\n",
    "plt.plot(r_dat,d_h(r_dat,l_h,l_d_rho00,l_rc,l_h_rho00),'b--',label='Disk + Halo, from All Components')\n",
    "plt.plot(r_dat,d_h(r_dat,nf.h_c,nf.drho00_c,nf.rc_c,nf.hrho00_c),'g-.',label='Disk + Halo (Defaults)')\n",
    "plt.plot(r_dat,d_h(r_dat,dh_h,dh_d_rho00,dh_rc,dh_h_rho00),label='Fit Disk + Halo Only')\n",
    "\n",
    "plt.legend()\n",
    "plt.show()\n",
    "\n",
    "print('Fit information for two-component fit')\n",
    "dh_fit"
   ]
  },
  {
   "cell_type": "code",
   "execution_count": null,
   "metadata": {},
   "outputs": [],
   "source": [
    "endtime = t.time()\n",
    "print('Total Time:')\n",
    "print(str(endtime - starttime)+' seconds')\n",
    "print('')\n",
    "\n",
    "print('Timestamp:')\n",
    "print(datetime.now())"
   ]
  },
  {
   "cell_type": "raw",
   "metadata": {},
   "source": [
    "queued to run."
   ]
  }
 ],
 "metadata": {
  "kernelspec": {
   "display_name": "Python 3",
   "language": "python",
   "name": "python3"
  },
  "language_info": {
   "codemirror_mode": {
    "name": "ipython",
    "version": 3
   },
   "file_extension": ".py",
   "mimetype": "text/x-python",
   "name": "python",
   "nbconvert_exporter": "python",
   "pygments_lexer": "ipython3",
   "version": "3.7.1"
  }
 },
 "nbformat": 4,
 "nbformat_minor": 4
}
