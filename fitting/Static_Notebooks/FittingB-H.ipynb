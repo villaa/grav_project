{
 "cells": [
  {
   "cell_type": "code",
   "execution_count": 1,
   "metadata": {},
   "outputs": [],
   "source": [
    "#Imports\n",
    "import sys\n",
    "sys.path.append('../../python/')\n",
    "import NGC5533_functions as nf\n",
    "\n",
    "import numpy as np\n",
    "import matplotlib.pyplot as plt\n",
    "import scipy.optimize as opt\n",
    "import lmfit as lm\n",
    "import dataPython as dp\n",
    "\n",
    "from datetime import datetime\n",
    "import time as t"
   ]
  },
  {
   "cell_type": "code",
   "execution_count": 2,
   "metadata": {},
   "outputs": [],
   "source": [
    "starttime = t.time()\n",
    "\n",
    "data = dp.getXYdata_wXYerr('../data/100kpc_data.txt')\n",
    "r_dat = np.asarray(data['xx'])\n",
    "v_dat = np.asarray(data['yy'])\n",
    "v_err0 = np.asarray(data['ex'])\n",
    "v_err1 = np.asarray(data['ey'])\n",
    "\n",
    "#change r_dat so it's strictly increasing\n",
    "r_dat, v_dat, v_err0, v_err1 = (list(a) for a in zip(*sorted(zip(r_dat, v_dat, v_err0, v_err1))))\n",
    "#converting v_err1 to an array\n",
    "v_err1 = np.asarray(v_err1)\n",
    "#Express as weights\n",
    "weighdata = 1/v_err1"
   ]
  },
  {
   "cell_type": "code",
   "execution_count": 3,
   "metadata": {},
   "outputs": [],
   "source": [
    "#keeping others but holding them constant, no prefactors\n",
    "def f(r,n,re,rc,h_rho00):\n",
    "     return np.sqrt(nf.bh_v(r,load=True,path='../')**2 \n",
    "                    + nf.h_v(r,rc,h_rho00,load=True,path='../')**2\n",
    "                    + nf.b_v(r,n,re,load=True,path='../')**2\n",
    "                    + nf.d_v(r,load=True,path='../')**2)\n",
    "#keeping others but holding them constant, using prefactor\n",
    "def g(r,c,rc,h_rho00):\n",
    "     return np.sqrt(nf.bh_v(r,load=True,path='../')**2 \n",
    "                    + nf.h_v(r,rc,h_rho00,load=True,path='../')**2\n",
    "                    + c**2*nf.b_v(r,load=True,path='../')**2\n",
    "                    + nf.d_v(r,load=True,path='../')**2)\n",
    "#Only Bulge and Halo, no prefactors\n",
    "def b_h(r,n,re,rc,h_rho00):\n",
    "    return np.sqrt(nf.b_v(r,n,re,load=True,path='../')**2 + nf.h_v(r,rc,h_rho00,load=True,path='../')**2)\n",
    "#Only Bulge and Halo, using prefactor\n",
    "def b_h2(r,c,rc,h_rho00):\n",
    "    return np.sqrt(c**2*nf.b_v(r,load=True,path='../')**2 + nf.h_v(r,rc,h_rho00,load=True,path='../')**2)"
   ]
  },
  {
   "cell_type": "code",
   "execution_count": 4,
   "metadata": {},
   "outputs": [
    {
     "name": "stderr",
     "output_type": "stream",
     "text": [
      "../../python/NGC5533_functions.py:182: IntegrationWarning: The maximum number of subdivisions (50) has been achieved.\n",
      "  If increasing the limit yields no improvement it is advised to analyze \n",
      "  the integrand in order to determine the difficulties.  If the position of a \n",
      "  local difficulty can be determined (singularity, discontinuity) one will \n",
      "  probably gain from splitting up the interval and calling the integrator \n",
      "  on the subranges.  Perhaps a special-purpose integrator should be used.\n",
      "  return si.quad(h, 0, r, args=(r,n,re))[0]\n",
      "../../python/NGC5533_functions.py:182: IntegrationWarning: The occurrence of roundoff error is detected, which prevents \n",
      "  the requested tolerance from being achieved.  The error may be \n",
      "  underestimated.\n",
      "  return si.quad(h, 0, r, args=(r,n,re))[0]\n"
     ]
    }
   ],
   "source": [
    "#Fit, Keeping rest constant, no prefactor\n",
    "\n",
    "#Setup\n",
    "l_mod = lm.Model(f)\n",
    "l_params = l_mod.make_params()\n",
    "#Bulge Params\n",
    "l_params.add('n', value=nf.n_c, min=0)\n",
    "l_params.add('re', value=nf.re_c, min=0)\n",
    "#Halo Params\n",
    "l_params.add('rc', value=nf.h_c, min=0)\n",
    "l_params.add('h_rho00', value=nf.drho00_c, min=0)\n",
    "#Do fit\n",
    "l_fit = l_mod.fit(v_dat,l_params,r=r_dat,weights=weighdata)"
   ]
  },
  {
   "cell_type": "code",
   "execution_count": 5,
   "metadata": {},
   "outputs": [],
   "source": [
    "#Fit, Keeping rest constant, using prefactor\n",
    "\n",
    "#Setup\n",
    "g_mod = lm.Model(g)\n",
    "g_params = g_mod.make_params()\n",
    "#Bulge Params\n",
    "g_params.add('c', value=nf.n_c, min=0)\n",
    "#Halo Params\n",
    "g_params.add('rc', value=nf.h_c, min=0)\n",
    "g_params.add('h_rho00', value=nf.drho00_c, min=0)\n",
    "#Do fit\n",
    "g_fit = g_mod.fit(v_dat,g_params,r=r_dat,weights=weighdata)"
   ]
  },
  {
   "cell_type": "code",
   "execution_count": null,
   "metadata": {},
   "outputs": [
    {
     "name": "stderr",
     "output_type": "stream",
     "text": [
      "../../python/NGC5533_functions.py:176: IntegrationWarning: Extremely bad integrand behavior occurs at some points of the\n",
      "  integration interval.\n",
      "  return si.quad(f, m, np.inf,args=(m,n,re))[0]\n"
     ]
    }
   ],
   "source": [
    "#Fit, B and H only, no prefactor\n",
    "\n",
    "#Setup\n",
    "bh_mod = lm.Model(b_h)\n",
    "bh_params = bh_mod.make_params()\n",
    "#Bulge Params\n",
    "bh_params.add('n', value=nf.n_c, min=0)\n",
    "bh_params.add('re', value=nf.re_c, min=0)\n",
    "#Halo Params\n",
    "bh_params.add('rc', value=nf.h_c, min=0)\n",
    "bh_params.add('h_rho00', value=nf.drho00_c, min=0)\n",
    "#Do fit\n",
    "bh_fit = bh_mod.fit(v_dat,bh_params,r=r_dat,weights=weighdata)"
   ]
  },
  {
   "cell_type": "code",
   "execution_count": null,
   "metadata": {},
   "outputs": [],
   "source": [
    "#Fit, B and H only, using prefactor\n",
    "\n",
    "#Setup\n",
    "bh2_mod = lm.Model(b_h2)\n",
    "bh2_params = bh2_mod.make_params()\n",
    "#Bulge Params\n",
    "bh2_params.add('c', value=nf.n_c, min=0)\n",
    "#Halo Params\n",
    "bh2_params.add('rc', value=nf.h_c, min=0)\n",
    "bh2_params.add('h_rho00', value=nf.drho00_c, min=0)\n",
    "#Do fit\n",
    "bh2_fit = bh2_mod.fit(v_dat,bh2_params,r=r_dat,weights=weighdata)"
   ]
  },
  {
   "cell_type": "code",
   "execution_count": null,
   "metadata": {},
   "outputs": [],
   "source": [
    "#Define curves to plot\n",
    "\n",
    "l_dict = l_fit.best_values\n",
    "l_n = l_dict['n']\n",
    "l_re = l_dict['re']\n",
    "l_rc = l_dict['rc']\n",
    "l_h_rho00 = l_dict['h_rho00']\n",
    "\n",
    "g_dict = g_fit.best_values\n",
    "g_n = g_dict['c']\n",
    "g_rc = g_dict['rc']\n",
    "g_h_rho00 = g_dict['h_rho00']\n",
    "\n",
    "bh_dict = bh_fit.best_values\n",
    "bh_n = bh_dict['n']\n",
    "bh_re = bh_dict['re']\n",
    "bh_rc = bh_dict['rc']\n",
    "bh_h_rho00 = bh_dict['h_rho00']\n",
    "\n",
    "bh2_dict = bh_fit.best_values\n",
    "bh2_n = bh_dict['n']\n",
    "bh2_re = bh_dict['re']\n",
    "bh2_rc = bh_dict['rc']\n",
    "bh2_h_rho00 = bh_dict['h_rho00']"
   ]
  },
  {
   "cell_type": "code",
   "execution_count": null,
   "metadata": {},
   "outputs": [],
   "source": [
    "fig = plt.figure(figsize=(9.0,8.0))\n",
    "\n",
    "plt.xlim(0,125)\n",
    "\n",
    "#Not fit\n",
    "plt.errorbar(r_dat,v_dat,yerr=v_err1,fmt='go',label='Data')\n",
    "plt.plot(r_dat,b_h(r_dat,nf.n_c,nf.re_c,nf.rc_c,nf.hrho00_c),'g-.',label='Bulge + Halo (Defaults)')\n",
    "\n",
    "#All-Component Fit, no Prefactor\n",
    "plt.plot(r_dat,f(r_dat,l_n,l_re,l_rc,l_h_rho00),'b-',label='Fit with All Components, No Prefactor')\n",
    "plt.plot(r_dat,nf.b_v(r_dat,l_n,l_re,load=True,path='../'),'b.-',label='Bulge, from ACNP')\n",
    "plt.plot(r_dat,nf.h_v(r_dat,l_rc,l_h_rho00,load=True,path='../'),'b-.',label='Halo, from ACNP')\n",
    "\n",
    "#All-Component Fit, with Prefactor\n",
    "plt.plot(r_dat,g(r_dat,g_c,g_rc,g_h_rho00),'r-',label='Fit with All Components Using Prefactor')\n",
    "plt.plot(r_dat,g_c*nf.b_v(r_dat,load=True,path='../'),'r.-',label='Bulge, from ACWP')\n",
    "plt.plot(r_dat,nf.h_v(r_dat,g_rc,g_h_rho00,load=True,path='../'),'r-.',label='Halo, from ACWP')\n",
    "\n",
    "#Two-Component Fit, no Prefactor\n",
    "plt.plot(r_dat,b_h(r_dat,bh_n,bh_re,bh_rc,bh_h_rho00),'o-',label='Fit with Two Components, No Prefactor')\n",
    "plt.plot(r_dat,nf.b_v(r_dat,bh_n,bh_re,load=True,path='../'),'o.-',label='Bulge, from 2CNP')\n",
    "plt.plot(r_dat,nf.h_v(r_dat,bh_rc,bh_h_rho00,load=True,path='../'),'o-.',label='Halo, from 2CNP')\n",
    "\n",
    "#Two-Component Fit, with Prefactor\n",
    "plt.plot(r_dat,b_h2(r_dat,bh2_c,bh2_rc,bh2_h_rho00),'y-',label='Fit with Two Components Using Prefactor')\n",
    "plt.plot(r_dat,bh2_c*nf.b_v(r_dat,load=True,path='../'),'y.-',label='Bulge, from 2CWP')\n",
    "plt.plot(r_dat,nf.h_v(r_dat,bh2_rc,bh2_h_rho00,load=True,path='../'),'y-.',label='Halo, from 2CWP')\n",
    "\n",
    "plt.legend()\n",
    "plt.show()"
   ]
  },
  {
   "cell_type": "code",
   "execution_count": null,
   "metadata": {},
   "outputs": [],
   "source": [
    "fig = plt.figure(figsize=(9.0,8.0))\n",
    "\n",
    "plt.xlim(0,125)\n",
    "\n",
    "#Not fit\n",
    "plt.errorbar(r_dat,v_dat,yerr=v_err1,fmt='go',label='Data')\n",
    "plt.plot(r_dat,b_h(r_dat,nf.n_c,nf.re_c,nf.rc_c,nf.hrho00_c),'g-.',label='Bulge + Halo (Defaults)')\n",
    "\n",
    "#All-Component Fit, no Prefactor\n",
    "plt.plot(r_dat,f(r_dat,l_n,l_re,l_rc,l_h_rho00),'b-',label='Fit with All Components, No Prefactor')\n",
    "plt.plot(r_dat,nf.b_v(r_dat,l_n,l_re,load=True,path='../'),'b.-',label='Bulge, from ACNP')\n",
    "plt.plot(r_dat,nf.h_v(r_dat,l_rc,l_h_rho00,load=True,path='../'),'b-.',label='Halo, from ACNP')\n",
    "\n",
    "#All-Component Fit, with Prefactor\n",
    "plt.plot(r_dat,g(r_dat,g_c,g_rc,g_h_rho00),'r-',label='Fit with All Components Using Prefactor')\n",
    "plt.plot(r_dat,g_c*nf.b_v(r_dat,load=True,path='../'),'r.-',label='Bulge, from ACWP')\n",
    "plt.plot(r_dat,nf.h_v(r_dat,g_rc,g_h_rho00,load=True,path='../'),'r-.',label='Halo, from ACWP')\n",
    "\n",
    "#Two-Component Fit, no Prefactor\n",
    "plt.plot(r_dat,b_h(r_dat,bh_n,bh_re,bh_rc,bh_h_rho00),'o-',label='Fit with Two Components, No Prefactor')\n",
    "plt.plot(r_dat,nf.b_v(r_dat,bh_n,bh_re,load=True,path='../'),'o.-',label='Bulge, from 2CNP')\n",
    "plt.plot(r_dat,nf.h_v(r_dat,bh_rc,bh_h_rho00,load=True,path='../'),'o-.',label='Halo, from 2CNP')\n",
    "\n",
    "#Two-Component Fit, with Prefactor\n",
    "plt.plot(r_dat,b_h2(r_dat,bh2_c,bh2_rc,bh2_h_rho00),'y-',label='Fit with Two Components Using Prefactor')\n",
    "plt.plot(r_dat,bh2_c*nf.b_v(r_dat,load=True,path='../'),'y.-',label='Bulge, from 2CWP')\n",
    "plt.plot(r_dat,nf.h_v(r_dat,bh2_rc,bh2_h_rho00,load=True,path='../'),'y-.',label='Halo, from 2CWP')\n",
    "\n",
    "plt.legend()\n",
    "plt.show()"
   ]
  },
  {
   "cell_type": "code",
   "execution_count": null,
   "metadata": {},
   "outputs": [],
   "source": [
    "print('Fit information for all-component fit (Without Prefactor):')\n",
    "l_fit"
   ]
  },
  {
   "cell_type": "code",
   "execution_count": null,
   "metadata": {},
   "outputs": [],
   "source": [
    "print('Fit information for all-component fit (With Prefactor):')\n",
    "g_fit"
   ]
  },
  {
   "cell_type": "code",
   "execution_count": null,
   "metadata": {},
   "outputs": [],
   "source": [
    "print('Fit information for two-component fit (Without Prefactor):')\n",
    "bh_fit"
   ]
  },
  {
   "cell_type": "code",
   "execution_count": null,
   "metadata": {},
   "outputs": [],
   "source": [
    "print('Fit information for two-component fit (With Prefactor):')\n",
    "bh2_fit"
   ]
  },
  {
   "cell_type": "code",
   "execution_count": null,
   "metadata": {},
   "outputs": [],
   "source": [
    "endtime = t.time()\n",
    "print('Total Time:')\n",
    "print(str(endtime - starttime)+' seconds')\n",
    "print('')\n",
    "\n",
    "print('Timestamp:')\n",
    "print(datetime.now())"
   ]
  },
  {
   "cell_type": "raw",
   "metadata": {},
   "source": [
    "queued to run."
   ]
  }
 ],
 "metadata": {
  "kernelspec": {
   "display_name": "Python 3",
   "language": "python",
   "name": "python3"
  },
  "language_info": {
   "codemirror_mode": {
    "name": "ipython",
    "version": 3
   },
   "file_extension": ".py",
   "mimetype": "text/x-python",
   "name": "python",
   "nbconvert_exporter": "python",
   "pygments_lexer": "ipython3",
   "version": "3.7.3"
  }
 },
 "nbformat": 4,
 "nbformat_minor": 4
}
