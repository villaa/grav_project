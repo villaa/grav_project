{
 "cells": [
  {
   "cell_type": "code",
   "execution_count": 1,
   "metadata": {},
   "outputs": [],
   "source": [
    "#Imports\n",
    "import sys\n",
    "sys.path.append('../../python/')\n",
    "import NGC5533_functions as nf\n",
    "\n",
    "import numpy as np\n",
    "import matplotlib.pyplot as plt\n",
    "import scipy.optimize as opt\n",
    "import lmfit as lm\n",
    "import dataPython as dp\n",
    "\n",
    "from datetime import datetime\n",
    "import time as t"
   ]
  },
  {
   "cell_type": "code",
   "execution_count": 2,
   "metadata": {},
   "outputs": [],
   "source": [
    "starttime = t.time()\n",
    "\n",
    "#data = dp.getXYdata_wXYerr('data/NGC5533-rot-data_fmt.txt')\n",
    "data = dp.getXYdata_wXYerr('../data/100kpc_data.txt')\n",
    "r_dat = np.asarray(data['xx'])\n",
    "v_dat = np.asarray(data['yy'])\n",
    "v_err0 = np.asarray(data['ex'])\n",
    "v_err1 = np.asarray(data['ey'])\n",
    "\n",
    "#change r_dat so it's strictly increasing\n",
    "r_dat, v_dat, v_err0, v_err1 = (np.asarray(list(a)) for a in zip(*sorted(zip(r_dat, v_dat, v_err0, v_err1))))\n",
    "#converting v_err1 to an array\n",
    "v_err1_array = np.asarray(v_err1)\n",
    "#Express as weights\n",
    "weighdata = 1/v_err1"
   ]
  },
  {
   "cell_type": "code",
   "execution_count": 3,
   "metadata": {},
   "outputs": [],
   "source": [
    "# Function for fitting all parameters (n, re, h)\n",
    "#def f(r,M,rc,rho00,c,n,re,h,pref):\n",
    "#    return np.sqrt(nf.bh_v(r,M)**2 \n",
    "#                   + nf.h_v(r,rc,rho00,load=True)**2 \n",
    "#                   + c**2*nf.b_v(r,n,reload=True)**2 \n",
    "#                   + nf.d_v(r,h,pref,load=True)**2)\n",
    "\n",
    "# Function for fitting only prefactors + halo's parameters\n",
    "def g(r,M,rc,rho00,c,pref):\n",
    "    return np.sqrt(nf.bh_v(r,M)**2 \n",
    "                   + nf.h_v(r,rc,rho00,load=True)**2 \n",
    "                   + c*nf.b_v(r,load=True)**2 \n",
    "                   + nf.d_v(r,pref,load=True)**2)"
   ]
  },
  {
   "cell_type": "code",
   "execution_count": 4,
   "metadata": {},
   "outputs": [],
   "source": [
    "# Fit, using all parameters\n",
    "\n",
    "#Setup\n",
    "#l_mod = lm.Model(f)\n",
    "#l_params = l_mod.make_params()\n",
    "#Black Hole\n",
    "#l_params.add('M', value=nf.Mbh_def, min=0) #Mass\n",
    "#Bulge\n",
    "#l_params.add('c', value=1, min=0)          #Contributions should all add\n",
    "#l_params.add('n', value=nf.n_c, min=0)\n",
    "#l_params.add('re', value=nf.re_c, min=0)\n",
    "#Disk\n",
    "#l_params.add('pref', value=nf.pref_def, min=0, max=1000)\n",
    "#l_params.add('h', value=nf.h_c, min=0, max=1000)\n",
    "#Halo\n",
    "#l_params.add('rc', value=nf.h_rc, min=0)   #Radius (magnitude)\n",
    "#l_params.add('rho00', value=nf.hrho00_c, min=0) #Density (halo)\n",
    "\n",
    "#Do fit\n",
    "#l_fit = l_mod.fit(v_dat,l_params,r=r_dat,weights=weighdata)"
   ]
  },
  {
   "cell_type": "code",
   "execution_count": 5,
   "metadata": {},
   "outputs": [
    {
     "name": "stderr",
     "output_type": "stream",
     "text": [
      "../../python\\NGC5533_functions.py:308: RuntimeWarning: overflow encountered in cosh\n",
      "  return d_durho0(r, h, d_rho00)*np.power(np.cosh(z/z0(h)), -2)\n",
      "C:\\Users\\JB\\AppData\\Local\\Continuum\\anaconda3\\lib\\site-packages\\scipy\\integrate\\quadpack.py:385: IntegrationWarning: The maximum number of subdivisions (50) has been achieved.\n",
      "  If increasing the limit yields no improvement it is advised to analyze \n",
      "  the integrand in order to determine the difficulties.  If the position of a \n",
      "  local difficulty can be determined (singularity, discontinuity) one will \n",
      "  probably gain from splitting up the interval and calling the integrator \n",
      "  on the subranges.  Perhaps a special-purpose integrator should be used.\n",
      "  warnings.warn(msg, IntegrationWarning)\n"
     ]
    }
   ],
   "source": [
    "# Fit, using prefactors\n",
    "\n",
    "#Setup\n",
    "g_mod = lm.Model(g)\n",
    "g_params = g_mod.make_params()\n",
    "#Black Hole\n",
    "g_params.add('M', value=nf.Mbh_def, min=0) #Mass\n",
    "#Bulge\n",
    "g_params.add('c', value=1, min=0)          #Contributions should all add\n",
    "#Disk\n",
    "g_params.add('pref', value=1, min=0, max=1000)\n",
    "#Halo\n",
    "g_params.add('rc', value=nf.h_rc, min=0)   #Radius (magnitude)\n",
    "g_params.add('rho00', value=nf.hrho00_c, min=0) #Density (halo)\n",
    "\n",
    "#Do fit\n",
    "g_fit = g_mod.fit(v_dat,g_params,r=r_dat,weights=weighdata)"
   ]
  },
  {
   "cell_type": "code",
   "execution_count": 6,
   "metadata": {},
   "outputs": [
    {
     "name": "stderr",
     "output_type": "stream",
     "text": [
      "../../python\\NGC5533_functions.py:311: RuntimeWarning: invalid value encountered in double_scalars\n",
      "  return 2*(ss.ellipk(d_px(r,u,xi)) - ss.ellipe(d_px(r,u,xi)))/(np.pi*np.sqrt(r*u*d_px(r,u,xi)))\n",
      "C:\\Users\\JB\\AppData\\Local\\Continuum\\anaconda3\\lib\\site-packages\\scipy\\integrate\\quadpack.py:385: IntegrationWarning: The occurrence of roundoff error is detected, which prevents \n",
      "  the requested tolerance from being achieved.  The error may be \n",
      "  underestimated.\n",
      "  warnings.warn(msg, IntegrationWarning)\n"
     ]
    }
   ],
   "source": [
    "#Define curves to plot\n",
    "\n",
    "##### Commenting l-curve out because it gave me an error: OverflowError: (34, 'Result too large')\n",
    "\n",
    "#l_dict = l_fit.best_values\n",
    "#l_M = l_dict['M']\n",
    "#l_c = l_dict['c']\n",
    "#l_n = l_dict['n']\n",
    "#l_re = l_dict['re']\n",
    "#l_h = l_dict['h']\n",
    "#l_pref = l_dict['pref']\n",
    "#l_rc = l_dict['rc']\n",
    "#l_hrho00 = l_dict['rho00']\n",
    "\n",
    "#l_curve = f(r_dat,l_M,l_c,l_n,l_re,l_h,l_pref,l_rc,l_hrho00)\n",
    "\n",
    "\n",
    "g_dict = g_fit.best_values\n",
    "g_M = g_dict['M']\n",
    "g_c = g_dict['c']\n",
    "g_pref = g_dict['pref']\n",
    "g_rc = g_dict['rc']\n",
    "g_hrho00 = g_dict['rho00']\n",
    "\n",
    "g_curve = g(r_dat,g_M,g_c,g_pref,g_rc,g_hrho00)"
   ]
  },
  {
   "cell_type": "code",
   "execution_count": 7,
   "metadata": {},
   "outputs": [
    {
     "data": {
      "image/png": "[encoded data removed]",
      "text/plain": [
       "<Figure size 648x576 with 1 Axes>"
      ]
     },
     "metadata": {
      "needs_background": "light"
     },
     "output_type": "display_data"
    }
   ],
   "source": [
    "#Plot to 125kpc\n",
    "\n",
    "fig = plt.figure(figsize=(9.0,8.0))\n",
    "\n",
    "plt.xlim(0,125)\n",
    "\n",
    "plt.errorbar(r_dat,v_dat,yerr=v_err1,fmt='bo',label='Data')\n",
    "#plt.plot(r_dat,l_curve,'b-',label='Fit components (all) (125kpc)')\n",
    "plt.plot(r_dat,g_curve,'r-',label='Fit components (prefactors)(125kpc)')\n",
    "\n",
    "plt.legend()\n",
    "plt.savefig('Fitting_allcomponents_125kpc.png')\n",
    "plt.show()"
   ]
  },
  {
   "cell_type": "code",
   "execution_count": 8,
   "metadata": {},
   "outputs": [
    {
     "data": {
      "image/png": "[encoded data removed]",
      "text/plain": [
       "<Figure size 648x576 with 1 Axes>"
      ]
     },
     "metadata": {
      "needs_background": "light"
     },
     "output_type": "display_data"
    }
   ],
   "source": [
    "#Plot to 20kpc\n",
    "\n",
    "fig = plt.figure(figsize=(9.0,8.0))\n",
    "\n",
    "plt.xlim(0,25)\n",
    "\n",
    "plt.errorbar(r_dat,v_dat,yerr=v_err1,fmt='bo',label='Data')\n",
    "#plt.plot(r_dat,l_curve,'b-',label='Fit components (all) (25kpc)')\n",
    "plt.plot(r_dat,g_curve,'r-',label='Fit components (prefactors)(25kpc)')\n",
    "\n",
    "plt.legend()\n",
    "plt.savefig('Fitting_allcomponents_25kpc.png')\n",
    "plt.show()"
   ]
  },
  {
   "cell_type": "code",
   "execution_count": 9,
   "metadata": {},
   "outputs": [],
   "source": [
    "#print('Fit information for all-component fit, no prefactor:')\n",
    "#l_fit"
   ]
  },
  {
   "cell_type": "code",
   "execution_count": 10,
   "metadata": {},
   "outputs": [
    {
     "name": "stdout",
     "output_type": "stream",
     "text": [
      "Fit information for all-component fit, prefactor:\n"
     ]
    },
    {
     "data": {
      "text/html": [
       "<h2> Model</h2> Model(g) <h2>Fit Statistics</h2><table><tr><td>fitting method</td><td>leastsq</td><td></td></tr><tr><td># function evals</td><td>127</td><td></td></tr><tr><td># data points</td><td>69</td><td></td></tr><tr><td># variables</td><td>5</td><td></td></tr><tr><td>chi-square</td><td> 645.595795</td><td></td></tr><tr><td>reduced chi-square</td><td> 10.0874343</td><td></td></tr><tr><td>Akaike info crit.</td><td> 164.288630</td><td></td></tr><tr><td>Bayesian info crit.</td><td> 175.459162</td><td></td></tr></table><h2>Variables</h2><table><tr><th> name </th><th> value </th><th> standard error </th><th> relative error </th><th> initial value </th><th> min </th><th> max </th><th> vary </th></tr><tr><td> M </td><td>  15920.3733 </td><td>  4.5789e+09 </td><td> 28761510.33% </td><td> 2700000000.0 </td><td>  0.00000000 </td><td>         inf </td><td> True </td></tr><tr><td> rc </td><td>  1.46684164 </td><td>  3.04192309 </td><td> 207.38% </td><td> 1.4 </td><td>  0.00000000 </td><td>         inf </td><td> True </td></tr><tr><td> rho00 </td><td>  4.8713e+08 </td><td>  2.0151e+09 </td><td> 413.66% </td><td> 310000000.0 </td><td>  0.00000000 </td><td>         inf </td><td> True </td></tr><tr><td> c </td><td>  1.08955383 </td><td>  0.83411821 </td><td> 76.56% </td><td> 1 </td><td>  0.00000000 </td><td>         inf </td><td> True </td></tr><tr><td> pref </td><td>  0.09471744 </td><td>  12068946.5 </td><td> 12742053535.06% </td><td> 1 </td><td>  0.00000000 </td><td>  1000.00000 </td><td> True </td></tr></table><h2>Correlations (unreported correlations are < 0.100)</h2><table><tr><td>rc</td><td>rho00</td><td>-1.0000</td></tr><tr><td>rho00</td><td>c</td><td>-0.9963</td></tr><tr><td>rc</td><td>c</td><td>0.9960</td></tr><tr><td>M</td><td>c</td><td>-0.8955</td></tr><tr><td>M</td><td>rho00</td><td>0.8650</td></tr><tr><td>M</td><td>rc</td><td>-0.8644</td></tr><tr><td>rc</td><td>pref</td><td>-0.4363</td></tr><tr><td>rho00</td><td>pref</td><td>0.4347</td></tr><tr><td>c</td><td>pref</td><td>-0.4116</td></tr><tr><td>M</td><td>pref</td><td>0.3952</td></tr></table>"
      ],
      "text/plain": [
       "<lmfit.model.ModelResult at 0x23d4d00c6a0>"
      ]
     },
     "execution_count": 10,
     "metadata": {},
     "output_type": "execute_result"
    }
   ],
   "source": [
    "print('Fit information for all-component fit, prefactor:')\n",
    "g_fit"
   ]
  },
  {
   "cell_type": "code",
   "execution_count": 11,
   "metadata": {},
   "outputs": [
    {
     "name": "stdout",
     "output_type": "stream",
     "text": [
      "Bulge\n"
     ]
    },
    {
     "ename": "NameError",
     "evalue": "name 'l_c' is not defined",
     "output_type": "error",
     "traceback": [
      "\u001b[1;31m---------------------------------------------------------------------------\u001b[0m",
      "\u001b[1;31mNameError\u001b[0m                                 Traceback (most recent call last)",
      "\u001b[1;32m<ipython-input-11-e46020cb358c>\u001b[0m in \u001b[0;36m<module>\u001b[1;34m\u001b[0m\n\u001b[0;32m      3\u001b[0m \u001b[1;31m# Bulge\u001b[0m\u001b[1;33m\u001b[0m\u001b[1;33m\u001b[0m\u001b[1;33m\u001b[0m\u001b[0m\n\u001b[0;32m      4\u001b[0m \u001b[0mprint\u001b[0m\u001b[1;33m(\u001b[0m\u001b[1;34m'Bulge'\u001b[0m\u001b[1;33m)\u001b[0m\u001b[1;33m\u001b[0m\u001b[1;33m\u001b[0m\u001b[0m\n\u001b[1;32m----> 5\u001b[1;33m \u001b[0mprint\u001b[0m\u001b[1;33m(\u001b[0m\u001b[1;34m'Scaling constant,         C = {:.2f}'\u001b[0m\u001b[1;33m.\u001b[0m\u001b[0mformat\u001b[0m\u001b[1;33m(\u001b[0m\u001b[0ml_c\u001b[0m\u001b[1;33m)\u001b[0m\u001b[1;33m)\u001b[0m\u001b[1;33m\u001b[0m\u001b[1;33m\u001b[0m\u001b[0m\n\u001b[0m\u001b[0;32m      6\u001b[0m \u001b[1;33m\u001b[0m\u001b[0m\n\u001b[0;32m      7\u001b[0m \u001b[0mprint\u001b[0m\u001b[1;33m(\u001b[0m\u001b[1;34m''\u001b[0m\u001b[1;33m)\u001b[0m\u001b[1;33m\u001b[0m\u001b[1;33m\u001b[0m\u001b[0m\n",
      "\u001b[1;31mNameError\u001b[0m: name 'l_c' is not defined"
     ]
    }
   ],
   "source": [
    "# Using fitted parameters to calculate parameters for Galactic Components\n",
    "    \n",
    "# Bulge\n",
    "print('Bulge')\n",
    "print('Scaling constant,         C = {:.2f}'.format(l_c))\n",
    "\n",
    "print('')\n",
    "\n",
    "\n",
    "# Disk\n",
    "print('Disk')\n",
    "print('Scaling constant,         prefactor = {:.3f}'.format(l_pref))\n",
    "\n",
    "print('')\n",
    "\n",
    "\n",
    "# Black Hole\n",
    "print('Black Hole')\n",
    "print('Mass of the Black Hole,   M(bh) = {:.3e} [solar masses]'.format(l_M))\n",
    "print('')\n",
    "\n",
    "\n",
    "# Dark Halo\n",
    "print('Dark Halo')\n",
    "print('Halo central density,     rho00 = {:.3e} [solar mass/kpc^3]'.format(l_hrho00))\n",
    "print('Core radius,              rc = {:.2f} [kpc]'.format(l_rc))\n"
   ]
  },
  {
   "cell_type": "code",
   "execution_count": null,
   "metadata": {},
   "outputs": [],
   "source": [
    "endtime = t.time()\n",
    "print('Total Time:')\n",
    "print(str(endtime - starttime)+' seconds')\n",
    "print('')\n",
    "\n",
    "print('Timestamp:')\n",
    "print(datetime.now())"
   ]
  }
 ],
 "metadata": {
  "kernelspec": {
   "display_name": "Python 3",
   "language": "python",
   "name": "python3"
  },
  "language_info": {
   "codemirror_mode": {
    "name": "ipython",
    "version": 3
   },
   "file_extension": ".py",
   "mimetype": "text/x-python",
   "name": "python",
   "nbconvert_exporter": "python",
   "pygments_lexer": "ipython3",
   "version": "3.7.1"
  }
 },
 "nbformat": 4,
 "nbformat_minor": 4
}
