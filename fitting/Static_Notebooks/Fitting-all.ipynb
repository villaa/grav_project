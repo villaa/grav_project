{
 "cells": [
  {
   "cell_type": "code",
   "execution_count": 1,
   "metadata": {},
   "outputs": [],
   "source": [
    "#Imports\n",
    "import sys\n",
    "sys.path.append('../../python/')\n",
    "import NGC5533_functions as nf\n",
    "\n",
    "import numpy as np\n",
    "import matplotlib.pyplot as plt\n",
    "import scipy.optimize as opt\n",
    "import lmfit as lm\n",
    "import dataPython as dp\n",
    "\n",
    "from datetime import datetime\n",
    "import time as t"
   ]
  },
  {
   "cell_type": "code",
   "execution_count": 2,
   "metadata": {},
   "outputs": [],
   "source": [
    "starttime = t.time()\n",
    "\n",
    "#data = dp.getXYdata_wXYerr('data/NGC5533-rot-data_fmt.txt')\n",
    "data = dp.getXYdata_wXYerr('../data/100kpc_data.txt')\n",
    "r_dat = np.asarray(data['xx'])\n",
    "v_dat = np.asarray(data['yy'])\n",
    "v_err0 = np.asarray(data['ex'])\n",
    "v_err1 = np.asarray(data['ey'])\n",
    "\n",
    "#change r_dat so it's strictly increasing\n",
    "r_dat, v_dat, v_err0, v_err1 = (np.asarray(list(a)) for a in zip(*sorted(zip(r_dat, v_dat, v_err0, v_err1))))\n",
    "#converting v_err1 to an array\n",
    "v_err1_array = np.asarray(v_err1)\n",
    "#Express as weights\n",
    "weighdata = 1/v_err1"
   ]
  },
  {
   "cell_type": "code",
   "execution_count": 3,
   "metadata": {},
   "outputs": [],
   "source": [
    "# Function for fitting all parameters (n, re, h)\n",
    "#def f(r,M,rc,rho00,c,n,re,h,pref):\n",
    "#    return np.sqrt(nf.bh_v(r,M)**2 \n",
    "#                   + nf.h_v(r,rc,rho00,load=True)**2 \n",
    "#                   + c**2*nf.b_v(r,n,reload=True)**2 \n",
    "#                   + nf.d_v(r,h,pref,load=True)**2)\n",
    "\n",
    "# Function for fitting only prefactors + halo's parameters\n",
    "def g(r,M,rc,rho00,c,pref):\n",
    "    return np.sqrt(nf.bh_v(r,M)**2 \n",
    "                   + nf.h_v(r,rc,rho00,load=True)**2 \n",
    "                   + c*nf.b_v(r,load=True)**2 \n",
    "                   + nf.d_v(r,pref,load=True)**2)"
   ]
  },
  {
   "cell_type": "code",
   "execution_count": 4,
   "metadata": {},
   "outputs": [],
   "source": [
    "# Fit, using all parameters\n",
    "\n",
    "#Setup\n",
    "#l_mod = lm.Model(f)\n",
    "#l_params = l_mod.make_params()\n",
    "#Black Hole\n",
    "#l_params.add('M', value=nf.Mbh_def, min=0) #Mass\n",
    "#Bulge\n",
    "#l_params.add('c', value=1, min=0)          #Contributions should all add\n",
    "#l_params.add('n', value=nf.n_c, min=0)\n",
    "#l_params.add('re', value=nf.re_c, min=0)\n",
    "#Disk\n",
    "#l_params.add('pref', value=nf.pref_def, min=0, max=1000)\n",
    "#l_params.add('h', value=nf.h_c, min=0, max=1000)\n",
    "#Halo\n",
    "#l_params.add('rc', value=nf.h_rc, min=0)   #Radius (magnitude)\n",
    "#l_params.add('rho00', value=nf.hrho00_c, min=0) #Density (halo)\n",
    "\n",
    "#Do fit\n",
    "#l_fit = l_mod.fit(v_dat,l_params,r=r_dat,weights=weighdata)"
   ]
  },
  {
   "cell_type": "code",
   "execution_count": null,
   "metadata": {},
   "outputs": [
    {
     "name": "stderr",
     "output_type": "stream",
     "text": [
      "C:\\Users\\JB\\AppData\\Local\\Continuum\\anaconda3\\lib\\site-packages\\scipy\\integrate\\quadpack.py:385: IntegrationWarning: The maximum number of subdivisions (50) has been achieved.\n",
      "  If increasing the limit yields no improvement it is advised to analyze \n",
      "  the integrand in order to determine the difficulties.  If the position of a \n",
      "  local difficulty can be determined (singularity, discontinuity) one will \n",
      "  probably gain from splitting up the interval and calling the integrator \n",
      "  on the subranges.  Perhaps a special-purpose integrator should be used.\n",
      "  warnings.warn(msg, IntegrationWarning)\n"
     ]
    }
   ],
   "source": [
    "# Fit, using prefactors\n",
    "\n",
    "#Setup\n",
    "g_mod = lm.Model(g)\n",
    "g_params = g_mod.make_params()\n",
    "#Black Hole\n",
    "g_params.add('M', value=nf.Mbh_def, min=0) #Mass\n",
    "#Bulge\n",
    "g_params.add('c', value=1, min=0)          #Contributions should all add\n",
    "#Disk\n",
    "g_params.add('pref', value=nf.pref_def, min=0, max=1000)\n",
    "#Halo\n",
    "g_params.add('rc', value=nf.h_rc, min=0)   #Radius (magnitude)\n",
    "g_params.add('rho00', value=nf.hrho00_c, min=0) #Density (halo)\n",
    "\n",
    "#Do fit\n",
    "g_fit = g_mod.fit(v_dat,g_params,r=r_dat,weights=weighdata)"
   ]
  },
  {
   "cell_type": "code",
   "execution_count": null,
   "metadata": {},
   "outputs": [],
   "source": [
    "#Define curves to plot\n",
    "\n",
    "##### Commenting l-curve out because it gave me an error: OverflowError: (34, 'Result too large')\n",
    "\n",
    "#l_dict = l_fit.best_values\n",
    "#l_M = l_dict['M']\n",
    "#l_c = l_dict['c']\n",
    "#l_n = l_dict['n']\n",
    "#l_re = l_dict['re']\n",
    "#l_h = l_dict['h']\n",
    "#l_pref = l_dict['pref']\n",
    "#l_rc = l_dict['rc']\n",
    "#l_hrho00 = l_dict['rho00']\n",
    "\n",
    "#l_curve = f(r_dat,l_M,l_c,l_n,l_re,l_h,l_pref,l_rc,l_hrho00)\n",
    "\n",
    "\n",
    "g_dict = g_fit.best_values\n",
    "g_M = g_dict['M']\n",
    "g_c = g_dict['c']\n",
    "g_pref = g_dict['pref']\n",
    "g_rc = g_dict['rc']\n",
    "g_hrho00 = g_dict['rho00']\n",
    "\n",
    "g_curve = g(r_dat,g_M,g_c,g_pref,g_rc,g_hrho00)"
   ]
  },
  {
   "cell_type": "code",
   "execution_count": null,
   "metadata": {},
   "outputs": [],
   "source": [
    "#Plot to 125kpc\n",
    "\n",
    "fig = plt.figure(figsize=(9.0,8.0))\n",
    "\n",
    "plt.xlim(0,125)\n",
    "\n",
    "plt.errorbar(r_dat,v_dat,yerr=v_err1,fmt='bo',label='Data')\n",
    "#plt.plot(r_dat,l_curve,'b-',label='Fit components (all) (125kpc)')\n",
    "plt.plot(r_dat,g_curve,'r-',label='Fit components (prefactors)(125kpc)')\n",
    "\n",
    "plt.legend()\n",
    "plt.savefig('Fitting_allcomponents_125kpc.png')\n",
    "plt.show()"
   ]
  },
  {
   "cell_type": "code",
   "execution_count": null,
   "metadata": {},
   "outputs": [],
   "source": [
    "#Plot to 20kpc\n",
    "\n",
    "fig = plt.figure(figsize=(9.0,8.0))\n",
    "\n",
    "plt.xlim(0,25)\n",
    "\n",
    "plt.errorbar(r_dat,v_dat,yerr=v_err1,fmt='bo',label='Data')\n",
    "#plt.plot(r_dat,l_curve,'b-',label='Fit components (all) (25kpc)')\n",
    "plt.plot(r_dat,g_curve,'r-',label='Fit components (prefactors)(25kpc)')\n",
    "\n",
    "plt.legend()\n",
    "plt.savefig('Fitting_allcomponents_25kpc.png')\n",
    "plt.show()"
   ]
  },
  {
   "cell_type": "code",
   "execution_count": null,
   "metadata": {},
   "outputs": [],
   "source": [
    "#print('Fit information for all-component fit, no prefactor:')\n",
    "#l_fit"
   ]
  },
  {
   "cell_type": "code",
   "execution_count": null,
   "metadata": {},
   "outputs": [],
   "source": [
    "print('Fit information for all-component fit, prefactor:')\n",
    "g_fit"
   ]
  },
  {
   "cell_type": "code",
   "execution_count": null,
   "metadata": {},
   "outputs": [],
   "source": [
    "# Using fitted parameters to calculate parameters for Galactic Components\n",
    "    \n",
    "# Bulge\n",
    "print('Bulge')\n",
    "print('Scaling constant,         C = {:.2f}'.format(l_c))\n",
    "\n",
    "print('')\n",
    "\n",
    "\n",
    "# Disk\n",
    "print('Disk')\n",
    "print('Scaling constant,         prefactor = {:.3f}'.format(l_pref))\n",
    "\n",
    "print('')\n",
    "\n",
    "\n",
    "# Black Hole\n",
    "print('Black Hole')\n",
    "print('Mass of the Black Hole,   M(bh) = {:.3e} [solar masses]'.format(l_M))\n",
    "print('')\n",
    "\n",
    "\n",
    "# Dark Halo\n",
    "print('Dark Halo')\n",
    "print('Halo central density,     rho00 = {:.3e} [solar mass/kpc^3]'.format(l_hrho00))\n",
    "print('Core radius,              rc = {:.2f} [kpc]'.format(l_rc))\n"
   ]
  },
  {
   "cell_type": "code",
   "execution_count": null,
   "metadata": {},
   "outputs": [],
   "source": [
    "endtime = t.time()\n",
    "print('Total Time:')\n",
    "print(str(endtime - starttime)+' seconds')\n",
    "print('')\n",
    "\n",
    "print('Timestamp:')\n",
    "print(datetime.now())"
   ]
  }
 ],
 "metadata": {
  "kernelspec": {
   "display_name": "Python 3",
   "language": "python",
   "name": "python3"
  },
  "language_info": {
   "codemirror_mode": {
    "name": "ipython",
    "version": 3
   },
   "file_extension": ".py",
   "mimetype": "text/x-python",
   "name": "python",
   "nbconvert_exporter": "python",
   "pygments_lexer": "ipython3",
   "version": "3.7.1"
  }
 },
 "nbformat": 4,
 "nbformat_minor": 4
}
