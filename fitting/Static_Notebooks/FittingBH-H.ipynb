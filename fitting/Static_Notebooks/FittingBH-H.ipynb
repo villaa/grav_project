{
 "cells": [
  {
   "cell_type": "code",
   "execution_count": 1,
   "metadata": {},
   "outputs": [],
   "source": [
    "#Imports\n",
    "import sys\n",
    "sys.path.append('../../python/')\n",
    "import NGC5533_functions as nf\n",
    "\n",
    "import numpy as np\n",
    "import matplotlib.pyplot as plt\n",
    "import scipy.optimize as opt\n",
    "import lmfit as lm\n",
    "import dataPython as dp\n",
    "\n",
    "from datetime import datetime\n",
    "import time as t"
   ]
  },
  {
   "cell_type": "code",
   "execution_count": 2,
   "metadata": {},
   "outputs": [],
   "source": [
    "starttime = t.time()\n",
    "\n",
    "data = dp.getXYdata_wXYerr('../data/100kpc_data.txt')\n",
    "r_dat = np.asarray(data['xx'])\n",
    "v_dat = np.asarray(data['yy'])\n",
    "v_err0 = np.asarray(data['ex'])\n",
    "v_err1 = np.asarray(data['ey'])\n",
    "\n",
    "#change r_dat so it's strictly increasing\n",
    "r_dat, v_dat, v_err0, v_err1 = (list(a) for a in zip(*sorted(zip(r_dat, v_dat, v_err0, v_err1))))\n",
    "#converting v_err1 to an array\n",
    "v_err1 = np.asarray(v_err1)\n",
    "#Express as weights\n",
    "weighdata = 1/v_err1"
   ]
  },
  {
   "cell_type": "code",
   "execution_count": 3,
   "metadata": {},
   "outputs": [],
   "source": [
    "#keeping others but holding them constant\n",
    "def f(r,M,rc,h_rho00):\n",
    "     return np.sqrt(nf.bh_v(r,M,load=True,path='../')**2 \n",
    "                    + nf.h_v(r,rc,h_rho00,load=True,path='../')**2 \n",
    "                    + nf.b_v(r,load=True,path='../')**2 \n",
    "                    + nf.d_v(r,load=True,path='../')**2)\n",
    "#Only Black Hole and Halo\n",
    "def bh_h(r,M,rc,h_rho00):\n",
    "    return np.sqrt(nf.bh_v(r,M,load=True,path='../')**2 + nf.h_v(r,rc,h_rho00,load=True,path='../')**2)"
   ]
  },
  {
   "cell_type": "code",
   "execution_count": 4,
   "metadata": {},
   "outputs": [
    {
     "name": "stderr",
     "output_type": "stream",
     "text": [
      "../../python\\NGC5533_functions.py:308: RuntimeWarning: overflow encountered in cosh\n",
      "  return d_durho0(r, h, d_rho00)*np.power(np.cosh(z/z0(h)), -2)\n",
      "../../python\\NGC5533_functions.py:311: RuntimeWarning: invalid value encountered in double_scalars\n",
      "  return 2*(ss.ellipk(d_px(r,u,xi)) - ss.ellipe(d_px(r,u,xi)))/(np.pi*np.sqrt(r*u*d_px(r,u,xi)))\n",
      "C:\\Users\\Cirdan\\Anaconda3\\lib\\site-packages\\scipy\\integrate\\quadpack.py:385: IntegrationWarning: The occurrence of roundoff error is detected, which prevents \n",
      "  the requested tolerance from being achieved.  The error may be \n",
      "  underestimated.\n",
      "  warnings.warn(msg, IntegrationWarning)\n",
      "C:\\Users\\Cirdan\\Anaconda3\\lib\\site-packages\\scipy\\integrate\\quadpack.py:385: IntegrationWarning: The maximum number of subdivisions (50) has been achieved.\n",
      "  If increasing the limit yields no improvement it is advised to analyze \n",
      "  the integrand in order to determine the difficulties.  If the position of a \n",
      "  local difficulty can be determined (singularity, discontinuity) one will \n",
      "  probably gain from splitting up the interval and calling the integrator \n",
      "  on the subranges.  Perhaps a special-purpose integrator should be used.\n",
      "  warnings.warn(msg, IntegrationWarning)\n"
     ]
    }
   ],
   "source": [
    "#Fit, Keeping rest constant\n",
    "\n",
    "#Setup\n",
    "l_mod = lm.Model(f)\n",
    "l_params = l_mod.make_params()\n",
    "#Black Hole Params\n",
    "l_params.add('M', value=nf.Mbh_def, min=0) #Mass\n",
    "#Halo Params\n",
    "l_params.add('rc', value=nf.h_rc, min=0)   #Radius (magnitude)\n",
    "l_params.add('h_rho00', value=nf.hrho00_c, min=0) #Density (halo)\n",
    "\n",
    "#Do fit\n",
    "l_fit = l_mod.fit(v_dat,l_params,r=r_dat,weights=weighdata)"
   ]
  },
  {
   "cell_type": "code",
   "execution_count": null,
   "metadata": {},
   "outputs": [],
   "source": [
    "#Fit, BH and H only\n",
    "\n",
    "#Setup\n",
    "bhh_mod = lm.Model(bh_h)\n",
    "bhh_params = bhh_mod.make_params()\n",
    "#Black Hole Params\n",
    "bhh_params.add('M', value=nf.Mbh_def, min=0) #Mass\n",
    "#Halo Params\n",
    "bhh_params.add('rc', value=nf.h_rc, min=0)   #Radius (magnitude)\n",
    "bhh_params.add('h_rho00', value=nf.hrho00_c, min=0) #Density (halo)\n",
    "#Do fit\n",
    "bhh_fit = bhh_mod.fit(v_dat,bhh_params,r=r_dat,weights=weighdata)"
   ]
  },
  {
   "cell_type": "code",
   "execution_count": null,
   "metadata": {},
   "outputs": [],
   "source": [
    "#Define curves to plot\n",
    "\n",
    "l_dict = l_fit.best_values\n",
    "l_M = l_dict['M']\n",
    "l_rc = l_dict['rc']\n",
    "l_h_rho00 = l_dict['h_rho00']\n",
    "l_curve = f(r_dat,l_M,l_rc,l_h_rho00)\n",
    "\n",
    "bhh_dict = bhh_fit.best_values\n",
    "bhh_M = bhh_dict['M']\n",
    "bhh_rc = bhh_dict['rc']\n",
    "bhh_h_rho00 = bhh_dict['h_rho00']"
   ]
  },
  {
   "cell_type": "code",
   "execution_count": null,
   "metadata": {},
   "outputs": [],
   "source": [
    "fig = plt.figure(figsize=(9.0,8.0))\n",
    "\n",
    "plt.xlim(0,125)\n",
    "\n",
    "plt.errorbar(r_dat,v_dat,yerr=v_err1,fmt='bo',label='Data')\n",
    "plt.plot(r_dat,l_curve,'b-',label='Fit with All Components')\n",
    "plt.plot(r_dat,bh_h(r_dat,l_M,l_rc,l_h_rho00),'b--',label='Black Hole + Halo, from All Components')\n",
    "plt.plot(r_dat,bh_h(r_dat,nf.Mbh_def,nf.h_rc,nf.hrho00_c),'g-.',label='Black Hole + Halo (Defaults)')\n",
    "plt.plot(r_dat,bh_h(r_dat,bhh_M,bhh_rc,bhh_h_rho00),label='Fit Black Hole + Halo Only')\n",
    "\n",
    "plt.legend()\n",
    "plt.show()\n",
    "\n",
    "print('Fit information for single-component fit')\n",
    "l_fit"
   ]
  },
  {
   "cell_type": "code",
   "execution_count": null,
   "metadata": {},
   "outputs": [],
   "source": [
    "fig = plt.figure(figsize=(9.0,8.0))\n",
    "\n",
    "plt.xlim(0,25)\n",
    "plt.ylim(0,400)\n",
    "\n",
    "plt.errorbar(r_dat,v_dat,yerr=v_err1,fmt='bo',label='Data')\n",
    "plt.plot(r_dat,l_curve,'b-',label='Fit with All Components')\n",
    "plt.plot(r_dat,bh_h(r_dat,l_M,l_rc,l_h_rho00),'b--',label='Black Hole + Halo, from All Components')\n",
    "plt.plot(r_dat,bh_h(r_dat,nf.Mbh_def,nf.h_rc,nf.hrho00_c),'g-.',label='Black Hole + Halo (Defaults)')\n",
    "plt.plot(r_dat,bh_h(r_dat,bhh_M,bhh_rc,bhh_h_rho00),label='Fit Blakc Hole + Halo Only')\n",
    "\n",
    "plt.legend()\n",
    "plt.show()\n",
    "\n",
    "print('Fit information for two-component fit')\n",
    "bhh_fit"
   ]
  },
  {
   "cell_type": "code",
   "execution_count": null,
   "metadata": {},
   "outputs": [],
   "source": [
    "endtime = t.time()\n",
    "print('Total Time:')\n",
    "runtime = endtime - starttime\n",
    "\n",
    "if runtime<=3600:\n",
    "    minutes, runtime= divmod(runtime, 60)\n",
    "    print(str(minutes)+'min', str(runtime)+'s')\n",
    "\n",
    "elif runtime>3600 and runtime<=86400:\n",
    "    minutes = runtime/60\n",
    "    hours, minutes= divmod(minutes, 60)\n",
    "    print(str(hours)+'hrs', str(round(minutes))+'min')\n",
    "\n",
    "elif runtime>86400:\n",
    "    hours = runtime/3600\n",
    "    days, hours= divmod(hours, 24)\n",
    "    print(str(days)+'days', str(round(hours))+'hrs')"
   ]
  },
  {
   "cell_type": "raw",
   "metadata": {},
   "source": [
    "queued to run."
   ]
  }
 ],
 "metadata": {
  "kernelspec": {
   "display_name": "Python 3",
   "language": "python",
   "name": "python3"
  },
  "language_info": {
   "codemirror_mode": {
    "name": "ipython",
    "version": 3
   },
   "file_extension": ".py",
   "mimetype": "text/x-python",
   "name": "python",
   "nbconvert_exporter": "python",
   "pygments_lexer": "ipython3",
   "version": "3.7.1"
  }
 },
 "nbformat": 4,
 "nbformat_minor": 4
}
