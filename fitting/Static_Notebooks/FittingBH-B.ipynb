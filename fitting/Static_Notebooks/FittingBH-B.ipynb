{
 "cells": [
  {
   "cell_type": "code",
   "execution_count": 1,
   "metadata": {},
   "outputs": [],
   "source": [
    "#Imports\n",
    "import sys\n",
    "sys.path.append('../../python/')\n",
    "import NGC5533_functions as nf\n",
    "\n",
    "import numpy as np\n",
    "import matplotlib.pyplot as plt\n",
    "import scipy.optimize as opt\n",
    "import lmfit as lm\n",
    "import dataPython as dp\n",
    "\n",
    "from datetime import datetime\n",
    "import time as t"
   ]
  },
  {
   "cell_type": "code",
   "execution_count": 2,
   "metadata": {},
   "outputs": [],
   "source": [
    "starttime = t.time()\n",
    "\n",
    "data = dp.getXYdata_wXYerr('../data/100kpc_data.txt')\n",
    "r_dat = np.asarray(data['xx'])\n",
    "v_dat = np.asarray(data['yy'])\n",
    "v_err0 = np.asarray(data['ex'])\n",
    "v_err1 = np.asarray(data['ey'])\n",
    "\n",
    "#change r_dat so it's strictly increasing\n",
    "r_dat, v_dat, v_err0, v_err1 = (list(a) for a in zip(*sorted(zip(r_dat, v_dat, v_err0, v_err1))))\n",
    "#converting v_err1 to an array\n",
    "v_err1 = np.asarray(v_err1)\n",
    "#Express as weights\n",
    "weighdata = 1/v_err1"
   ]
  },
  {
   "cell_type": "code",
   "execution_count": 3,
   "metadata": {},
   "outputs": [],
   "source": [
    "#keeping others but holding them constant\n",
    "def f(r,M,n,re):\n",
    "     return np.sqrt(nf.bh_v(r,M,load=True,path='../')**2 \n",
    "                    + nf.h_v(r,load=True,path='../')**2 \n",
    "                    + nf.b_v(r,n,re,load=True,path='../')**2 \n",
    "                    + nf.d_v(r,load=True,path='../')**2)\n",
    "#Only Black Hole and Bulge\n",
    "def bh_b(r,M,n,re):\n",
    "    return np.sqrt(nf.bh_v(r,M,load=True,path='../')**2 + nf.b_v(r,n,re,load=True,path='../')**2)"
   ]
  },
  {
   "cell_type": "code",
   "execution_count": null,
   "metadata": {},
   "outputs": [
    {
     "name": "stderr",
     "output_type": "stream",
     "text": [
      "../../python/NGC5533_functions.py:182: IntegrationWarning: The maximum number of subdivisions (50) has been achieved.\n",
      "  If increasing the limit yields no improvement it is advised to analyze \n",
      "  the integrand in order to determine the difficulties.  If the position of a \n",
      "  local difficulty can be determined (singularity, discontinuity) one will \n",
      "  probably gain from splitting up the interval and calling the integrator \n",
      "  on the subranges.  Perhaps a special-purpose integrator should be used.\n",
      "  return si.quad(h, 0, r, args=(r,n,re))[0]\n"
     ]
    }
   ],
   "source": [
    "#Fit, Keeping rest constant\n",
    "\n",
    "#Setup\n",
    "l_mod = lm.Model(f)\n",
    "l_params = l_mod.make_params()\n",
    "#Black Hole\n",
    "l_params.add('M', value=nf.Mbh_def, min=0) #Mass\n",
    "#Bulge\n",
    "l_params.add('n', value=nf.n_c, min=0) \n",
    "l_params.add('re', value=nf.re_c, min=0)\n",
    "#Do fit\n",
    "l_fit = l_mod.fit(v_dat,l_params,r=r_dat,weights=weighdata)"
   ]
  },
  {
   "cell_type": "code",
   "execution_count": null,
   "metadata": {},
   "outputs": [],
   "source": [
    "#Fit, BH and B Only\n",
    "\n",
    "#Setup\n",
    "bhb_mod = lm.Model(bh_b)\n",
    "bhb_params = l_mod.make_params()\n",
    "#Black Hole\n",
    "bhb_params.add('M', value=nf.Mbh_def, min=0) #Mass\n",
    "#Bulge\n",
    "bhb_params.add('n', value=nf.n_c, min=0) \n",
    "bhb_params.add('re', value=nf.re_c, min=0)\n",
    "#Do fit\n",
    "bhb_fit = bhb_mod.fit(v_dat,bhb_params,r=r_dat,weights=weighdata)"
   ]
  },
  {
   "cell_type": "code",
   "execution_count": null,
   "metadata": {},
   "outputs": [],
   "source": [
    "#Define curves to plot\n",
    "\n",
    "l_dict = l_fit.best_values\n",
    "l_M = l_dict['M']\n",
    "l_n = l_dict['n']\n",
    "l_re = l_dict['re']\n",
    "l_curve = f(r_dat,l_M,l_n,l_re)\n",
    "\n",
    "bhb_dict = bhb_fit.best_values\n",
    "bhb_M = bhb_dict['M']\n",
    "bhb_n = bhb_dict['n']\n",
    "bhb_re = bhb_dict['re']"
   ]
  },
  {
   "cell_type": "code",
   "execution_count": null,
   "metadata": {},
   "outputs": [],
   "source": [
    "fig = plt.figure(figsize=(9.0,8.0))\n",
    "\n",
    "plt.xlim(0,125)\n",
    "\n",
    "plt.errorbar(r_dat,v_dat,yerr=v_err1,fmt='bo',label='Data')\n",
    "plt.plot(r_dat,l_curve,'b-',label='Fit with All Components')\n",
    "plt.plot(r_dat,bh_b(r_dat,l_M,l_n,l_re),'b--',label='Black Hole + Disk, from All Components')\n",
    "plt.plot(r_dat,bh_b(r_dat,nf.Mbh_def,nf.n_c,nf.re_c),'g-.',label='Black Hole + Disk (Defaults)')\n",
    "plt.plot(r_dat,bh_b(r_dat,d_h,d_d_rho00),label='Fit Black Hole + Disk Only')\n",
    "\n",
    "plt.legend()\n",
    "plt.show()\n",
    "\n",
    "print('Fit information for all-component fit:')\n",
    "l_fit"
   ]
  },
  {
   "cell_type": "code",
   "execution_count": null,
   "metadata": {},
   "outputs": [],
   "source": [
    "fig = plt.figure(figsize=(9.0,8.0))\n",
    "\n",
    "plt.xlim(0,25)\n",
    "\n",
    "plt.errorbar(r_dat,v_dat,yerr=v_err1,fmt='bo',label='Data')\n",
    "plt.plot(r_dat,l_curve,'b-',label='Fit with All Components')\n",
    "plt.plot(r_dat,bh_b(r_dat,l_M,l_n,l_re),'b--',label='Black Hole + Disk, from All Components')\n",
    "plt.plot(r_dat,bh_b(r_dat,nf.Mbh_def,nf.n_c,nf.re_c),'g-.',label='Black Hole + Disk (Defaults)')\n",
    "plt.plot(r_dat,bh_b(r_dat,d_h,d_d_rho00),label='Fit Black Hole + Disk Only')\n",
    "\n",
    "\n",
    "plt.legend()\n",
    "plt.show()\n",
    "\n",
    "print('Fit information for two-component fit')\n",
    "d_fit"
   ]
  },
  {
   "cell_type": "code",
   "execution_count": null,
   "metadata": {},
   "outputs": [],
   "source": [
    "endtime = t.time()\n",
    "print('Total Time:')\n",
    "print(str(endtime - starttime)+' seconds')\n",
    "print('')\n",
    "\n",
    "print('Timestamp:')\n",
    "print(datetime.now())"
   ]
  },
  {
   "cell_type": "raw",
   "metadata": {},
   "source": [
    "queued to run."
   ]
  }
 ],
 "metadata": {
  "kernelspec": {
   "display_name": "Python 3",
   "language": "python",
   "name": "python3"
  },
  "language_info": {
   "codemirror_mode": {
    "name": "ipython",
    "version": 3
   },
   "file_extension": ".py",
   "mimetype": "text/x-python",
   "name": "python",
   "nbconvert_exporter": "python",
   "pygments_lexer": "ipython3",
   "version": "3.7.1"
  }
 },
 "nbformat": 4,
 "nbformat_minor": 4
}
