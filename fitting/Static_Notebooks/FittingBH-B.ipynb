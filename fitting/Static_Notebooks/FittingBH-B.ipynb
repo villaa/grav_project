{
 "cells": [
  {
   "cell_type": "code",
   "execution_count": 1,
   "metadata": {},
   "outputs": [],
   "source": [
    "#Imports\n",
    "import sys\n",
    "sys.path.append('../python/')\n",
    "import NGC5533_functions as nf\n",
    "\n",
    "import numpy as np\n",
    "import matplotlib.pyplot as plt\n",
    "import scipy.optimize as opt\n",
    "import lmfit as lm\n",
    "import dataPython as dp"
   ]
  },
  {
   "cell_type": "code",
   "execution_count": 2,
   "metadata": {},
   "outputs": [],
   "source": [
    "data = dp.getXYdata_wXYerr('data/100kpc_data.txt')\n",
    "r_dat = np.asarray(data['xx'])\n",
    "v_dat = np.asarray(data['yy'])\n",
    "v_err0 = np.asarray(data['ex'])\n",
    "v_err1 = np.asarray(data['ey'])\n",
    "\n",
    "#change r_dat so it's strictly increasing\n",
    "r_dat, v_dat, v_err0, v_err1 = (list(a) for a in zip(*sorted(zip(r_dat, v_dat, v_err0, v_err1))))\n",
    "#converting v_err1 to an array\n",
    "v_err1 = np.asarray(v_err1)"
   ]
  },
  {
   "cell_type": "code",
   "execution_count": 3,
   "metadata": {},
   "outputs": [],
   "source": [
    "def f(r,M,n,re,):\n",
    "     return np.sqrt(nf.bh_v(r_dat,M,load=True)**2 \n",
    "                    + nf.h_v(r,load=True)**2 \n",
    "                    + nf.b_v(r,n,re,load=True)**2 \n",
    "                    + nf.d_v(r,load=True)**2)"
   ]
  },
  {
   "cell_type": "code",
   "execution_count": null,
   "metadata": {},
   "outputs": [
    {
     "name": "stderr",
     "output_type": "stream",
     "text": [
      "../python/NGC5533_functions.py:176: IntegrationWarning: The integral is probably divergent, or slowly convergent.\n",
      "  return si.quad(f, m, np.inf,args=(m,n,re))[0]\n",
      "../python/NGC5533_functions.py:176: IntegrationWarning: The algorithm does not converge.  Roundoff error is detected\n",
      "  in the extrapolation table.  It is assumed that the requested tolerance\n",
      "  cannot be achieved, and that the returned result (if full_output = 1) is \n",
      "  the best which can be obtained.\n",
      "  return si.quad(f, m, np.inf,args=(m,n,re))[0]\n",
      "../python/NGC5533_functions.py:182: IntegrationWarning: The maximum number of subdivisions (50) has been achieved.\n",
      "  If increasing the limit yields no improvement it is advised to analyze \n",
      "  the integrand in order to determine the difficulties.  If the position of a \n",
      "  local difficulty can be determined (singularity, discontinuity) one will \n",
      "  probably gain from splitting up the interval and calling the integrator \n",
      "  on the subranges.  Perhaps a special-purpose integrator should be used.\n",
      "  return si.quad(h, 0, r, args=(r,n,re))[0]\n",
      "../python/NGC5533_functions.py:182: IntegrationWarning: The occurrence of roundoff error is detected, which prevents \n",
      "  the requested tolerance from being achieved.  The error may be \n",
      "  underestimated.\n",
      "  return si.quad(h, 0, r, args=(r,n,re))[0]\n"
     ]
    }
   ],
   "source": [
    "#Setup\n",
    "weighdata = 1/v_err1\n",
    "l_mod = lm.Model(f)\n",
    "params = l_mod.make_params()\n",
    "#Black Hole\n",
    "params.add('M', value=nf.Mbh_def, min=0) #Mass\n",
    "#Bulge\n",
    "params.add('n', value=nf.n_c, min=0) \n",
    "params.add('re', value=nf.re_c, min=0)\n",
    "\n",
    "#Do fit\n",
    "l_fit = l_mod.fit(v_dat,params,r=r_dat,weights=weighdata)"
   ]
  },
  {
   "cell_type": "code",
   "execution_count": null,
   "metadata": {},
   "outputs": [],
   "source": [
    "#Define Stuff\n",
    "l_dict = l_fit.best_values\n",
    "#Black Hole\n",
    "l_M = l_dict['M']\n",
    "#Bulge\n",
    "l_n = l_dict['n']\n",
    "l_re = l_dict['re']\n",
    "\n",
    "l_curve = f(r_dat,l_M,l_n,l_re)"
   ]
  },
  {
   "cell_type": "code",
   "execution_count": 10,
   "metadata": {},
   "outputs": [
    {
     "data": {
      "image/png": "[encoded data removed]",
      "text/plain": [
       "<Figure size 648x576 with 1 Axes>"
      ]
     },
     "metadata": {
      "needs_background": "light"
     },
     "output_type": "display_data"
    },
    {
     "data": {
      "text/html": [
       "<h2> Model</h2> Model(f) <h2>Fit Statistics</h2><table><tr><td>fitting method</td><td>leastsq</td><td></td></tr><tr><td># function evals</td><td>362</td><td></td></tr><tr><td># data points</td><td>52</td><td></td></tr><tr><td># variables</td><td>7</td><td></td></tr><tr><td>chi-square</td><td> 604078.758</td><td></td></tr><tr><td>reduced chi-square</td><td> 13423.9724</td><td></td></tr><tr><td>Akaike info crit.</td><td> 500.731239</td><td></td></tr><tr><td>Bayesian info crit.</td><td> 514.389945</td><td></td></tr></table><h2>Variables</h2><table><tr><th> name </th><th> value </th><th> initial value </th><th> min </th><th> max </th><th> vary </th></tr><tr><td> M </td><td>  2.2039e+08 </td><td> 2700000000.0 </td><td>  0.00000000 </td><td>         inf </td><td> True </td></tr><tr><td> rc </td><td>  5.6068e-04 </td><td> 1.4 </td><td>  0.00000000 </td><td>         inf </td><td> True </td></tr><tr><td> h_rho00 </td><td>  3.2922e+08 </td><td> 310000000.0 </td><td>  0.00000000 </td><td>         inf </td><td> True </td></tr><tr><td> n </td><td>  8.67675425 </td><td> 2.7 </td><td>  0.00000000 </td><td>         inf </td><td> True </td></tr><tr><td> re </td><td>  8.18631137 </td><td> 2.6 </td><td>  0.00000000 </td><td>         inf </td><td> True </td></tr><tr><td> h </td><td>  8.89997135 </td><td> 8.9 </td><td>  0.00000000 </td><td>  1000.00000 </td><td> True </td></tr><tr><td> d_rho00 </td><td>  1000.00000 </td><td> 1000 </td><td>  0.00000000 </td><td>  1000.00000 </td><td> True </td></tr></table>"
      ],
      "text/plain": [
       "<lmfit.model.ModelResult at 0x7f6fb928bb70>"
      ]
     },
     "execution_count": 10,
     "metadata": {},
     "output_type": "execute_result"
    }
   ],
   "source": [
    "fig = plt.figure(figsize=(9.0,8.0))\n",
    "\n",
    "plt.xlim(0,125)\n",
    "\n",
    "plt.errorbar(r_dat,v_dat,yerr=v_err1,fmt='bo',label='Data')\n",
    "plt.plot(r_dat,l_curve,label='Fit')\n",
    "plt.plot(r_dat,nf.bh_v(r_dat,l_M,load=True),label='Black Hole Only')\n",
    "plt.plot(r_dat,nf.b_v(r_dat,l_n,l_re,load=True),label='Bulge Only')\n",
    "plt.plot(r_dat,nf.bh_v(r_dat,load=True),label='Black Hole (Defaults)')\n",
    "plt.plot(r_dat,nf.b_v(r_dat,load=True),label='Bulge (Defaults)')\n",
    "\n",
    "\n",
    "plt.legend()\n",
    "plt.savefig('Fitting_with_library.png')\n",
    "plt.show()\n",
    "\n",
    "l_fit"
   ]
  },
  {
   "cell_type": "code",
   "execution_count": null,
   "metadata": {},
   "outputs": [],
   "source": [
    "fig = plt.figure(figsize=(9.0,8.0))\n",
    "\n",
    "plt.xlim(0,25)\n",
    "\n",
    "plt.errorbar(r_dat,v_dat,yerr=v_err1,fmt='bo',label='Data')\n",
    "plt.plot(r_dat,l_curve,label='Fit')\n",
    "plt.plot(r_dat,nf.bh_v(r_dat,l_M,load=True),label='Black Hole Only')\n",
    "plt.plot(r_dat,nf.b_v(r_dat,l_n,l_re,load=True),label='Bulge Only')\n",
    "plt.plot(r_dat,nf.bh_v(r_dat,load=True),label='Black Hole (Defaults)')\n",
    "plt.plot(r_dat,nf.b_v(r_dat,load=True),label='Bulge (Defaults)')\n",
    "\n",
    "\n",
    "plt.legend()\n",
    "plt.savefig('Fitting_with_library.png')\n",
    "plt.show()"
   ]
  }
 ],
 "metadata": {
  "kernelspec": {
   "display_name": "Python 3",
   "language": "python",
   "name": "python3"
  },
  "language_info": {
   "codemirror_mode": {
    "name": "ipython",
    "version": 3
   },
   "file_extension": ".py",
   "mimetype": "text/x-python",
   "name": "python",
   "nbconvert_exporter": "python",
   "pygments_lexer": "ipython3",
   "version": "3.7.3"
  }
 },
 "nbformat": 4,
 "nbformat_minor": 4
}
