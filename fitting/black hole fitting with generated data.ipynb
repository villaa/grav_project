{
 "cells": [
  {
   "cell_type": "code",
   "execution_count": 1,
   "metadata": {},
   "outputs": [],
   "source": [
    "#Imports\n",
    "import numpy as np\n",
    "import lmfit as lf\n",
    "import matplotlib.pyplot as plt\n",
    "import scipy.optimize as opt\n",
    "#import dataPython as dp\n",
    "#import logging as log"
   ]
  },
  {
   "cell_type": "code",
   "execution_count": 2,
   "metadata": {},
   "outputs": [],
   "source": [
    "#Setup Blackhole: y = v(r) = G*M*r^-.5\n",
    "\n",
    "\n",
    "#Fakedata\n",
    "rdata = np.linspace(0.1,5,50)                 #Generate r-values, KITTYCHANGE: in this case, bc r is dividing, limits can't be 0\n",
    "ydata = np.zeros(len(rdata))                #Create array to define later\n",
    "noise = np.random.normal(0,1,len(rdata))    #Create nosie to add to y-values; otherwise our fits will be to unrealistic data\n",
    "for i,n in enumerate(rdata):                #Redefine y-data to be:\n",
    "    ydata[i] = np.sqrt(4.3e-6*2.7e9/n)+noise[i]                #equation plus some noise.\n",
    "sigdata = np.ones(len(rdata))               #Sigma is 1 since that's the width of the noise distribution\n",
    "\n",
    "#G = 4.300e-6                                #gravitational constant (kpc/solar mass*(km/s)^2)\n",
    "#Function\n",
    "def v(r,G,M):          #Independent variable must be listed first for scipy to know how to fit it.\n",
    "    return np.sqrt(G*M/r)  #In python, anything unset must be listed as a variable in the function, including the parameters we fit for.\n",
    "\n",
    "#Points representing function - this is necessary to plot f(x) for our comparison.\n",
    "ycurve = np.sqrt(4.3e-6*2.7e9/rdata)\n",
    "\n",
    "#KITTYADD: Remove infinity values\n",
    "ydata[ydata > 1E308] = 1E308"
   ]
  },
  {
   "cell_type": "code",
   "execution_count": 3,
   "metadata": {},
   "outputs": [
    {
     "name": "stdout",
     "output_type": "stream",
     "text": [
      "G: 8.225391418207262e-06 ± 2.2790494433236054e-08\n",
      "M: 1409179687.5 ± 1.3308849202201525e-22\n"
     ]
    }
   ],
   "source": [
    "#SCIPY FITTING\n",
    "#Setup\n",
    "#Initial Guesses for G and M. In this case, our initial guess is the true function.\n",
    "p0 = [4.0e-6,2.0e9] #Parameters should be in the same order here as they were when we defined our function.\n",
    "bounds = [0,np.inf]  #KITTYADD bc sqrt can't be negative\n",
    "\n",
    "#Do fit\n",
    "s_fit = opt.curve_fit(v,rdata,ydata,p0,bounds=bounds,sigma=sigdata,absolute_sigma=True) #absolute_sigma is set so that uncertainties aren't treated as percentages.\n",
    "#print(s_fit) #If we uncomment this line, we see that s_fit is an array containing two arrays.\n",
    "\n",
    "#Define parameters from fit. Our parameters are stored in the first array in our fit output, in the order they were listed in f.\n",
    "s_G = s_fit[0][0]\n",
    "s_M = s_fit[0][1]\n",
    "#s_c = s_fit[0][2]\n",
    "\n",
    "#Define error from fit.\n",
    "s_cov = s_fit[1]                    #The second array in the fit output is a covariance matrix.\n",
    "s_error = np.sqrt(np.diag(s_cov)) #The diagonals of the covariance matrix are the variances of individual parameters.\n",
    "s_Ge = s_error[0]                   #The errors will be in an order corresponding to the order of the parameters in their array\n",
    "s_Me = s_error[1]\n",
    "#s_ce = s_error[2]\n",
    "\n",
    "#Create array to plot\n",
    "s_curve = np.sqrt(s_G*s_M/rdata) #KITTYCHANGE just the equation again but with the array for G and M\n",
    "\n",
    "#Print Values\n",
    "print('G: '+str(s_G)+u' \\u00B1 '+str(s_Ge))\n",
    "print('M: '+str(s_M)+u' \\u00B1 '+str(s_Me))\n",
    "#print('c: '+str(s_c)+u' \\u00B1 '+str(s_ce))"
   ]
  },
  {
   "cell_type": "code",
   "execution_count": 4,
   "metadata": {},
   "outputs": [
    {
     "data": {
      "text/html": [
       "<h2> Model</h2> Model(v) <h2>Fit Statistics</h2><table><tr><td>fitting method</td><td>leastsq</td><td></td></tr><tr><td># function evals</td><td>19</td><td></td></tr><tr><td># data points</td><td>50</td><td></td></tr><tr><td># variables</td><td>2</td><td></td></tr><tr><td>chi-square</td><td> 31.4213746</td><td></td></tr><tr><td>reduced chi-square</td><td> 0.65461197</td><td></td></tr><tr><td>Akaike info crit.</td><td>-19.2267312</td><td></td></tr><tr><td>Bayesian info crit.</td><td>-15.4026852</td><td></td></tr></table><h2>Variables</h2><table><tr><th> name </th><th> value </th><th> standard error </th><th> relative error </th><th> initial value </th><th> min </th><th> max </th><th> vary </th></tr><tr><td> G </td><td>  4.2186e-06 </td><td>         nan </td><td> nan% </td><td> 4.3e-06 </td><td>  0.00000000 </td><td>         inf </td><td> True </td></tr><tr><td> M </td><td>  2.7476e+09 </td><td>         nan </td><td> nan% </td><td> 2700000000.0 </td><td>  0.00000000 </td><td>         inf </td><td> True </td></tr></table>"
      ],
      "text/plain": [
       "<lmfit.model.ModelResult at 0x28a896f4978>"
      ]
     },
     "execution_count": 4,
     "metadata": {},
     "output_type": "execute_result"
    }
   ],
   "source": [
    "#LMFIT FITTING\n",
    "#Setup\n",
    "weighdata = 1/sigdata                       #We will need weights for lmfit. This tells us how much to account for a single data point in the fit.\n",
    "l_mod = lf.Model(v)                         #Tell lmfit that we want to model the function f\n",
    "params = l_mod.make_params(G=4.3e-6, M=2.7e9)   #Give lmfit our initial guesses - again, the true function\n",
    "params.add('G', value=4.3e-6, min=0) #KITTYADD so lmfit doesn't guess negative values (bc G is so lose to zero)\n",
    "params.add('M', value=2.7e9, min=0)   #KITTYADD so lmfit doesn't guess negative values \n",
    "\n",
    "#Do fit\n",
    "l_fit = l_mod.fit(ydata, params, r=rdata, weights=weighdata,nan_policy='omit') #Here is where the weights we set at the beginning come in.\n",
    "\n",
    "#Define Stuff\n",
    "l_dict = l_fit.best_values #l_fit has a lot of output. We want to use the final result.\n",
    "l_G = l_dict['G']          #Dictionary items are called based on their name.\n",
    "l_M = l_dict['M']          #So, we don't have to track the order of parameters.\n",
    "#l_c = l_dict['c']\n",
    "\n",
    "#Create array to plot\n",
    "l_curve = np.sqrt(l_G*l_M/rdata)  #KITTYCHANGE again, just equation only now with these second array things\n",
    "\n",
    "l_fit #Display information about the fit"
   ]
  },
  {
   "cell_type": "code",
   "execution_count": 5,
   "metadata": {},
   "outputs": [
    {
     "data": {
      "image/png": "[encoded data removed]",
      "text/plain": [
       "<Figure size 648x576 with 1 Axes>"
      ]
     },
     "metadata": {
      "needs_background": "light"
     },
     "output_type": "display_data"
    }
   ],
   "source": [
    "#Plotting\n",
    "\n",
    "fig = plt.figure(figsize=(9.0,8.0))                #size of the plot\n",
    "\n",
    "plt.errorbar(rdata,ydata,yerr=sigdata,fmt='bo',label='Data') #Plot points (fmt='*o') with error bars\n",
    "plt.plot(rdata,ycurve,label='Function',color='red')                      #Accepting default style gives us a solid line\n",
    "plt.plot(rdata,s_curve,linestyle='--',label='SciPy', color='blue')         #Plot the scipy curve fit with a dashed line\n",
    "plt.plot(rdata,l_curve,linestyle='--',label='LmFit',color='orange')\n",
    "\n",
    "plt.legend()           #Tells our plot to show a legend\n",
    "plt.show()             #Depending how your environment is set up, this line may not be necessary, but it won't break anything."
   ]
  },
  {
   "cell_type": "code",
   "execution_count": null,
   "metadata": {},
   "outputs": [],
   "source": []
  }
 ],
 "metadata": {
  "kernelspec": {
   "display_name": "Python 3",
   "language": "python",
   "name": "python3"
  },
  "language_info": {
   "codemirror_mode": {
    "name": "ipython",
    "version": 3
   },
   "file_extension": ".py",
   "mimetype": "text/x-python",
   "name": "python",
   "nbconvert_exporter": "python",
   "pygments_lexer": "ipython3",
   "version": "3.7.1"
  }
 },
 "nbformat": 4,
 "nbformat_minor": 2
}
