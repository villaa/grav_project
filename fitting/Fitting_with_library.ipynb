{
 "cells": [
  {
   "cell_type": "code",
   "execution_count": 1,
   "metadata": {},
   "outputs": [],
   "source": [
    "#Imports\n",
    "import sys\n",
    "sys.path.append('../python/')\n",
    "import NGC5533_functions as nf\n",
    "\n",
    "import numpy as np\n",
    "import matplotlib.pyplot as plt\n",
    "import scipy.optimize as opt\n",
    "import lmfit as lm\n",
    "import dataPython as dp"
   ]
  },
  {
   "cell_type": "code",
   "execution_count": 2,
   "metadata": {},
   "outputs": [],
   "source": [
    "#data = dp.getXYdata_wXYerr('data/NGC5533-rot-data_fmt.txt')\n",
    "data = dp.getXYdata_wXYerr('data/100kpc_data.txt')\n",
    "r_dat = np.asarray(data['xx'])\n",
    "v_dat = np.asarray(data['yy'])\n",
    "v_err0 = np.asarray(data['ex'])\n",
    "v_err1 = np.asarray(data['ey'])\n",
    "\n",
    "#change r_dat so it's strictly increasing\n",
    "r_dat, v_dat, v_err0, v_err1 = (list(a) for a in zip(*sorted(zip(r_dat, v_dat, v_err0, v_err1))))\n",
    "#converting v_err1 to an array\n",
    "v_err1_array = np.asarray(v_err1)"
   ]
  },
  {
   "cell_type": "code",
   "execution_count": 3,
   "metadata": {},
   "outputs": [],
   "source": [
    "#def f(r,M,rc,rho00,c,pref):\n",
    "#def f(r,M,rc,rho00,c):\n",
    "#    return np.sqrt(nf.bh_v(r,M,load=True)**2 + nf.h_v(r,rc,rho00,load=True)**2 + c*nf.b_v(r,load=True)**2 + nf.d_v(r,pref,load=True)**2)\n",
    "    #To remove loading errors, I set the prefactor in the function to 1 and put a prefactor in the front that will behave the same way.\n",
    "\n",
    "#def f(r,M,rc,rho00,c,pref):\n",
    "#     return np.sqrt(nf.bh_v(r_dat,M)**2 + nf.h_v(r,rc,rho00,load=True)**2 + c*nf.b_v(r,load=True)**2 + nf.d_v(r,pref,load=True)**2)\n",
    "def f(r,rc,rho00,c,pref):\n",
    "     return np.sqrt(nf.h_v(r,rc,rho00,load=True)**2 + c*nf.b_v(r,load=True)**2 + nf.d_v(r,pref,load=True)**2)\n",
    "\n",
    "    \n",
    "#Cache/memoize\n",
    "# - number of iterations -> number of function calls\n",
    "# - 40 calls was reasonable\n",
    "#print(np.asarray(0.5))\n",
    "#print(f(np.asarray([0.5]), nf.Mbh_def, nf.h_rc, nf.rho00_c, 1, 0.5))   "
   ]
  },
  {
   "cell_type": "code",
   "execution_count": 4,
   "metadata": {},
   "outputs": [
    {
     "name": "stdout",
     "output_type": "stream",
     "text": [
      "Saved.\n",
      "Saved.\n",
      "Saved.\n",
      "Saved.\n",
      "Saved.\n",
      "Saved.\n",
      "Saved.\n",
      "Saved.\n",
      "Saved.\n",
      "Saved.\n",
      "Saved.\n",
      "Saved.\n",
      "Saved.\n",
      "Saved.\n",
      "Saved.\n",
      "Saved.\n",
      "Saved.\n",
      "Saved.\n",
      "Saved.\n",
      "Saved.\n",
      "Saved.\n"
     ]
    }
   ],
   "source": [
    "#Setup\n",
    "weighdata = 1/v_err1_array\n",
    "l_mod = lm.Model(f)\n",
    "params = l_mod.make_params()\n",
    "#Black Hole\n",
    "#params.add('M', value=nf.Mbh_def, min=0) #Mass\n",
    "#Bulge\n",
    "params.add('c', value=1, min=0)          #Contributions should all add\n",
    "#Disk \n",
    "params.add('pref', value=0.5, min=0)\n",
    "#Halo\n",
    "params.add('rc', value=nf.h_rc, min=0)   #Radius (magnitude)\n",
    "params.add('rho00', value=nf.rho00_c, min=0) #Density (halo)\n",
    "\n",
    "#Do fit\n",
    "l_fit = l_mod.fit(v_dat,params,r=r_dat,weights=weighdata)"
   ]
  },
  {
   "cell_type": "code",
   "execution_count": 5,
   "metadata": {},
   "outputs": [],
   "source": [
    "#Define Stuff\n",
    "l_dict = l_fit.best_values\n",
    "#l_M = l_dict['M']\n",
    "l_rc = l_dict['rc']\n",
    "l_rho00 = l_dict['rho00']\n",
    "l_pref = l_dict['pref']\n",
    "l_c = l_dict['c']\n",
    "\n",
    "#l_curve = np.sqrt(nf.bh_v(r_dat,l_M,load=True)**2 + nf.h_v(r_dat,l_rc,l_rho00,load=True)**2 + l_c*nf.b_v(r_dat,load=True)**2 + nf.d_v(r_dat,pref=l_pref,load=True)**2)\n",
    "#l_curve = np.sqrt(nf.bh_v(r_dat,l_M)**2 + nf.h_v(r_dat,l_rc,l_rho00,load=True)**2 + l_c*nf.b_v(r_dat,load=True)**2 + nf.d_v(r_dat,pref=l_pref,load=True)**2)\n",
    "l_curve = np.sqrt(nf.h_v(r_dat,l_rc,l_rho00,load=True)**2 + l_c*nf.b_v(r_dat,load=True)**2 + nf.d_v(r_dat,pref=l_pref,load=True)**2)\n",
    "\n",
    "\n",
    "#b_curve = l_c*nf.b_v(r_dat,load=True)   #Bulge only\n",
    "#d_curve = nf.d_v(r_dat,pref=l_pref,load=True) #Disk only\n",
    "\n",
    "#nodisk = np.sqrt(nf.bh_v(r_dat,l_M,load=True)**2 + nf.h_v(r_dat,l_rc,l_rho00,load=True)**2 + l_c*nf.b_v(r_dat,load=True)**2)"
   ]
  },
  {
   "cell_type": "code",
   "execution_count": 8,
   "metadata": {},
   "outputs": [
    {
     "data": {
      "image/png": "[encoded data removed]",
      "text/plain": [
       "<Figure size 648x576 with 1 Axes>"
      ]
     },
     "metadata": {
      "needs_background": "light"
     },
     "output_type": "display_data"
    },
    {
     "data": {
      "text/html": [
       "<h2> Model</h2> Model(f) <h2>Fit Statistics</h2><table><tr><td>fitting method</td><td>leastsq</td><td></td></tr><tr><td># function evals</td><td>31</td><td></td></tr><tr><td># data points</td><td>52</td><td></td></tr><tr><td># variables</td><td>4</td><td></td></tr><tr><td>chi-square</td><td> 582067.552</td><td></td></tr><tr><td>reduced chi-square</td><td> 12126.4073</td><td></td></tr><tr><td>Akaike info crit.</td><td> 492.801100</td><td></td></tr><tr><td>Bayesian info crit.</td><td> 500.606074</td><td></td></tr></table><h2>Variables</h2><table><tr><th> name </th><th> value </th><th> standard error </th><th> relative error </th><th> initial value </th><th> min </th><th> max </th><th> vary </th></tr><tr><td> rc </td><td>  0.30556153 </td><td>  63.4395850 </td><td> 20761.64% </td><td> 1.4 </td><td>  0.00000000 </td><td>         inf </td><td> True </td></tr><tr><td> rho00 </td><td>  5.0074e+08 </td><td>  2.0690e+11 </td><td> 41319.35% </td><td> 310000000.0 </td><td>  0.00000000 </td><td>         inf </td><td> True </td></tr><tr><td> c </td><td>  1.98420438 </td><td>  3.70323596 </td><td> 186.64% </td><td> 1 </td><td>  0.00000000 </td><td>         inf </td><td> True </td></tr><tr><td> pref </td><td>  2.9615e-04 </td><td>  12.6344760 </td><td> 4266310.12% </td><td> 0.5 </td><td>  0.00000000 </td><td>         inf </td><td> True </td></tr></table><h2>Correlations (unreported correlations are < 0.100)</h2><table><tr><td>rc</td><td>rho00</td><td>-0.9988</td></tr><tr><td>c</td><td>pref</td><td>-0.9922</td></tr><tr><td>rho00</td><td>pref</td><td>0.2079</td></tr><tr><td>rho00</td><td>c</td><td>-0.1979</td></tr><tr><td>rc</td><td>pref</td><td>-0.1641</td></tr><tr><td>rc</td><td>c</td><td>0.1532</td></tr></table>"
      ],
      "text/plain": [
       "<lmfit.model.ModelResult at 0x28581a33080>"
      ]
     },
     "execution_count": 8,
     "metadata": {},
     "output_type": "execute_result"
    }
   ],
   "source": [
    "fig = plt.figure(figsize=(9.0,8.0))\n",
    "\n",
    "plt.xlim(0,125)\n",
    "plt.ylim(0,450)\n",
    "\n",
    "plt.errorbar(r_dat,v_dat,yerr=v_err1,fmt='bo',label='Data')\n",
    "#plt.plot(r_dat,l_curve,label='Fit')\n",
    "#plt.plot(r_dat,d_curve,label='Disk Only')\n",
    "#plt.plot(r_dat,nodisk,label='No Disk')\n",
    "#plt.plot(r_dat,b_curve,label='Bulge Only')\n",
    "\n",
    "plt.legend()\n",
    "plt.show()\n",
    "\n",
    "l_fit"
   ]
  },
  {
   "cell_type": "code",
   "execution_count": null,
   "metadata": {},
   "outputs": [],
   "source": []
  }
 ],
 "metadata": {
  "kernelspec": {
   "display_name": "Python 3",
   "language": "python",
   "name": "python3"
  },
  "language_info": {
   "codemirror_mode": {
    "name": "ipython",
    "version": 3
   },
   "file_extension": ".py",
   "mimetype": "text/x-python",
   "name": "python",
   "nbconvert_exporter": "python",
   "pygments_lexer": "ipython3",
   "version": "3.7.1"
  }
 },
 "nbformat": 4,
 "nbformat_minor": 4
}
