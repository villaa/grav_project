{
 "cells": [
  {
   "cell_type": "code",
   "execution_count": 2,
   "metadata": {},
   "outputs": [],
   "source": [
    "#Imports\n",
    "import sys\n",
    "sys.path.append('../python/')\n",
    "import NGC5533_functions as nf\n",
    "\n",
    "import numpy as np\n",
    "import matplotlib.pyplot as plt\n",
    "import scipy.optimize as opt\n",
    "import lmfit as lm\n",
    "import dataPython as dp"
   ]
  },
  {
   "cell_type": "code",
   "execution_count": 3,
   "metadata": {},
   "outputs": [],
   "source": [
    "data = dp.getXYdata_wXYerr('data/NGC5533-rot-data_fmt.txt')\n",
    "r_dat = np.asarray(data['xx'])\n",
    "v_dat = np.asarray(data['yy'])\n",
    "v_err0 = np.asarray(data['ex'])\n",
    "v_err1 = np.asarray(data['ey'])"
   ]
  },
  {
   "cell_type": "code",
   "execution_count": 26,
   "metadata": {},
   "outputs": [],
   "source": [
    "def f(r,M,rc,rho00,c):\n",
    "    return np.sqrt(nf.bh_v(r,M)**2 + nf.h_v(r,rc,rho00)**2 + c*nf.b_v(r,load=True)**2)\n",
    "#Next: Spline bulge, make that a function, give prefactor\n",
    "# - call file, get vector\n",
    "# - spline fit vector\n",
    "# - calculate over spline\n",
    "# - prefactor in sum\n",
    "#Probably similar thing for disk\n",
    "#Eventually fit for n?\n",
    "\n",
    "#Cache/memoize\n",
    "# - number of iterations -> number of function calls\n",
    "# - 40 calls was reasonable\n",
    "\n",
    "p0 = [nf.Mbh_def,nf.h_rc,nf.h_rho00,1]"
   ]
  },
  {
   "cell_type": "code",
   "execution_count": 27,
   "metadata": {},
   "outputs": [],
   "source": [
    "s_fit = opt.curve_fit(f,r_dat,v_dat,p0,sigma=v_err1,absolute_sigma=True)\n",
    "\n",
    "s_M = s_fit[0][0]\n",
    "s_rc = s_fit[0][1]\n",
    "s_rho00 = s_fit[0][2]\n",
    "s_c = s_fit[0][3]\n",
    "\n",
    "s_cov = s_fit[1]\n",
    "s_error = np.sqrt(np.diag(s_cov))\n",
    "s_Me = s_error[0]\n",
    "s_rce = s_error[1]\n",
    "s_rho00e = s_error[2]\n",
    "s_ce = s_error[3]\n",
    "\n",
    "i = 0\n",
    "s_curve = np.zeros(len(r_dat))\n",
    "while i < len(r_dat):\n",
    "    s_curve[i] = np.sqrt(nf.bh_v(r_dat,s_M)[i]**2 + nf.h_v(r_dat,s_rc,s_rho00)[i]**2 + s_c*nf.b_v(r_dat,load=True)[i]**2)\n",
    "    i += 1"
   ]
  },
  {
   "cell_type": "code",
   "execution_count": 28,
   "metadata": {},
   "outputs": [
    {
     "data": {
      "image/png": "[encoded data removed]",
      "text/plain": [
       "<Figure size 648x576 with 1 Axes>"
      ]
     },
     "metadata": {
      "needs_background": "light"
     },
     "output_type": "display_data"
    }
   ],
   "source": [
    "fig = plt.figure(figsize=(9.0,8.0))\n",
    "\n",
    "plt.errorbar(r_dat,v_dat,yerr=v_err1,fmt='bo',label='Data')\n",
    "plt.plot(r_dat,s_curve,label='SciPy')\n",
    "\n",
    "plt.legend()\n",
    "plt.show()"
   ]
  },
  {
   "cell_type": "code",
   "execution_count": 29,
   "metadata": {},
   "outputs": [
    {
     "name": "stdout",
     "output_type": "stream",
     "text": [
      "M: 4071765686.394546 ± 1341814098.7640054\n",
      "rc: 2.794320374964995 ± 0.43779524287321026\n",
      "rho00: 217060034.59382385 ± 61300208.28735274\n",
      "c: 0.9050440382474696 ± 0.10440784690208099\n"
     ]
    }
   ],
   "source": [
    "#Print Values\n",
    "print('M: '+str(s_M)+u' \\u00B1 '+str(s_Me))\n",
    "print('rc: '+str(s_rc)+u' \\u00B1 '+str(s_rce))\n",
    "print('rho00: '+str(s_rho00)+u' \\u00B1 '+str(s_rho00e))\n",
    "print('c: '+str(s_c)+u' \\u00B1 '+str(s_ce))"
   ]
  },
  {
   "cell_type": "code",
   "execution_count": null,
   "metadata": {},
   "outputs": [],
   "source": []
  }
 ],
 "metadata": {
  "kernelspec": {
   "display_name": "Python 3",
   "language": "python",
   "name": "python3"
  },
  "language_info": {
   "codemirror_mode": {
    "name": "ipython",
    "version": 3
   },
   "file_extension": ".py",
   "mimetype": "text/x-python",
   "name": "python",
   "nbconvert_exporter": "python",
   "pygments_lexer": "ipython3",
   "version": "3.7.3"
  }
 },
 "nbformat": 4,
 "nbformat_minor": 4
}
