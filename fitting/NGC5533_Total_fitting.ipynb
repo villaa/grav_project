{
 "cells": [
  {
   "cell_type": "code",
   "execution_count": null,
   "metadata": {},
   "outputs": [],
   "source": [
    "import sys\n",
    "sys.path.append('python/')\n",
    "import numpy as np\n",
    "import lmfit as lf\n",
    "import matplotlib.pyplot as plt\n",
    "import scipy.optimize as opt\n",
    "import dataPython as dp\n",
    "from scipy.integrate import quad\n",
    "import scipy.optimize as so\n",
    "import scipy.special as ss"
   ]
  },
  {
   "cell_type": "code",
   "execution_count": null,
   "metadata": {},
   "outputs": [],
   "source": [
    "## Measured points\n",
    "#Measured points from Noordermeer's paper:\n",
    "\n",
    "data = dp.getXYdata_wXYerr('data/NGC5533-rot-data_fmt.txt')\n",
    "r_dat = np.asarray(data['xx'])\n",
    "v_dat = np.asarray(data['yy'])\n",
    "v_err0 = np.asarray(data['ex'])\n",
    "v_err1 = np.asarray(data['ey'])"
   ]
  },
  {
   "cell_type": "code",
   "execution_count": null,
   "metadata": {},
   "outputs": [],
   "source": [
    "%run NGC5533_Bulge_Fitting.ipynb\n",
    "%run NGC5533_Disk_Fitting.ipynb\n",
    "#%run NGC5533_DarkHalo_Fitting.ipynb\n",
    "%run NGC5533_BlackHole_Fitting.ipynb"
   ]
  },
  {
   "cell_type": "code",
   "execution_count": null,
   "metadata": {},
   "outputs": [],
   "source": [
    "#take the curves \n",
    "bulge_curve = lambda r,l_b: lb_curve\n",
    "disk_curve = lambda r,l_c: ld_curve\n",
    "bh_curve = lambda r,G,M: lbh_curve\n",
    "dh_curve = lambda r,rc,rho00: ldh_curve\n",
    "\n",
    "#total curve without the dark halo\n",
    "total_curve = np.sqrt(lb_curve**2 + ld_curve**2 + lbh_curve**2 + ldh_curve**2)\n"
   ]
  }
 ],
 "metadata": {
  "kernelspec": {
   "display_name": "Python 3",
   "language": "python",
   "name": "python3"
  },
  "language_info": {
   "codemirror_mode": {
    "name": "ipython",
    "version": 3
   },
   "file_extension": ".py",
   "mimetype": "text/x-python",
   "name": "python",
   "nbconvert_exporter": "python",
   "pygments_lexer": "ipython3",
   "version": "3.7.1"
  }
 },
 "nbformat": 4,
 "nbformat_minor": 2
}
