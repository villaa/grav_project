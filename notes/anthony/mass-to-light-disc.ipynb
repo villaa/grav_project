{
 "cells": [
  {
   "cell_type": "markdown",
   "metadata": {},
   "source": [
    "# Writing the Disc Contributions in Terms of Mass-to-Light Ratios\n",
    "\n",
    "The R-band mass-to-light ratio of the disc of a galaxy is given by the following expression:\n",
    "\n",
    "\\begin{equation}\n",
    "\\Upsilon_d = \\frac{M_d}{L_{d,R}},\n",
    "\\end{equation}\n",
    "\n",
    "Where $L_{d,R}$ is the R-band luminosity [REF] of the disc portion of the galaxy only and $M_d$ is the disc-only mass. \n",
    "\n",
    "We came up with a description of the mass density following Casertano [REF] as follows:\n",
    "\n",
    "\\begin{equation}\n",
    "\\rho(r,z) = \\rho_0(r)\\left[cosh\\left(\\frac{z}{z_0}\\right)\\right]^{-2},\n",
    "\\end{equation}\n",
    "\n",
    "Where $\\rho_0(r)$ was defined as a dimensionless function multiplied by a central surface density $\\rho_{00}$. We can therefore write the mass of the disc portion of the galaxy as follows:\n",
    "\n",
    "\\begin{equation}\n",
    "M_d = \\int_0^{\\infty} rdr \\int_{-\\infty}^{\\infty} dz \\rho(r,z).\n",
    "\\end{equation}\n",
    "\n",
    "The pre-factor of our radial force equation can then be modified by inserting a factor of unity in the following form:\n",
    "\n",
    "\\begin{equation}\n",
    "1 = \\Upsilon_d \\cdot \\frac{L_{d,R}}{M_d}.\n",
    "\\end{equation}\n",
    "\n",
    "But if we replace the mass by the mass implied by the density function, we get a pre-factor that is as follows. \n",
    "\n",
    "\\begin{equation}\n",
    "\\Upsilon_d \\cdot \\frac{L_{d,R}}{\\int_0^{\\infty} rdr \\int_{-\\infty}^{\\infty} dz \\rho(r,z)}\n",
    "\\end{equation}\n",
    "\n",
    "By including that as the pre-factor to the radial force equation, and by finding the R-band total luminosity of the disc (how do we find this?) our rotation curve will then be scaled by the R-band mass-to-light ratio, $\\Upsilon_d$ only. "
   ]
  },
  {
   "cell_type": "code",
   "execution_count": null,
   "metadata": {},
   "outputs": [],
   "source": []
  }
 ],
 "metadata": {
  "kernelspec": {
   "display_name": "Python 3",
   "language": "python",
   "name": "python3"
  },
  "language_info": {
   "codemirror_mode": {
    "name": "ipython",
    "version": 3
   },
   "file_extension": ".py",
   "mimetype": "text/x-python",
   "name": "python",
   "nbconvert_exporter": "python",
   "pygments_lexer": "ipython3",
   "version": "3.7.1"
  }
 },
 "nbformat": 4,
 "nbformat_minor": 2
}
