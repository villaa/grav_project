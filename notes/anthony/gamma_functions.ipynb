{
 "cells": [
  {
   "cell_type": "markdown",
   "metadata": {},
   "source": [
    "# Relationship Between $r_0$ and $r_e$\n",
    "\n",
    "The parameter $r_e$ is always meant to be the radius inside which 50% of the bulge luminosity lies. It is a constant that can be chosen to be an arbitrary value when comparing different possibilities for the bulge luminosity function. The value is chosen to be 1 kpc in Noordermeer (2007). \n",
    "\n",
    "In that same paper, the main thrust is to compare different luminosity functions that vary in how rapidly the bulge luminosity falls off going to higher radius in the galaxy. The following functional form is choosen with $I_0$, $r_0$, and $n$ parameters which are varied. This is Eq. 11 of the publication. \n",
    "\n",
    "\\begin{equation}\n",
    "I_b(\\kappa) = I_0 \\exp \\left[-\\left(\\frac{\\kappa}{r_0} \\right)^{\\frac{1}{n}}\\right]\n",
    "\\end{equation}\n",
    "\n",
    "For any choice of $I_0$ and $n$, it is possible to choose $r_0$ such that 50% of the light is contained within a radius of $r_e$. This is what is done in order to have an \"apples-to-apples\" or normalized comparison between different $n$ values. "
   ]
  },
  {
   "cell_type": "markdown",
   "metadata": {},
   "source": [
    "# Integrating the $I_b$ distribution\n",
    "\n",
    "So, what we're looking for is the value of $r_0$ which makes the following ratio, $f$, equal to 0.5 (or 50%). Remembering to integrate over the angle and use the correct area element ($\\kappa d\\kappa$):\n",
    "\n",
    "\\begin{equation}\n",
    "f = \\frac{\\int_0^{r_e} I_b(\\kappa)\\kappa d\\kappa}{\\int_0^{\\infty} I_b(\\kappa)\\kappa d\\kappa}\n",
    "\\end{equation}\n",
    "\n",
    "Therefore, we're going to need to work with the integral of the $I_b(\\kappa)$ function. Let's transform the integral by u-substitution with \n",
    "\n",
    "\\begin{equation}\n",
    "\\begin{aligned}\n",
    "u &= \\left(\\frac{\\kappa}{r_0}\\right)^{\\frac{1}{n}} \\\\\n",
    "du &= \\frac{1}{nr_0} \\left(\\frac{\\kappa}{r_0}\\right)^{\\frac{1}{n} -1} d\\kappa \\\\\n",
    "du &= \\frac{1}{nr_0} u u^{-n} d\\kappa \\\\\n",
    "du &= \\frac{1}{nr_0} u^{-n}u^nu^{-n} d\\kappa \\\\\n",
    "du &= \\frac{1}{nr_0^2} u^{-2n} \\kappa d\\kappa \\\\\n",
    "nr_0^2 u^{2n-1} u du &= \\kappa d\\kappa.\n",
    "\\end{aligned}\n",
    "\\end{equation}\n",
    "\n",
    "If we use this transformation on the integral of the intensity distribution we can get:\n",
    "\n",
    "\\begin{equation}\n",
    "\\int I_0 \\exp \\left[-\\left(\\frac{\\kappa}{r_0} \\right)^{\\frac{1}{n}}\\right] d\\kappa = 2\\pi I_0r_0^2n \\int u^{2n-1} e^{-u} du.\n",
    "\\end{equation}\n",
    "\n",
    "The integral on the right looks like a constant times an integral that resembles the gamma function. The gamma function is defined as:\n",
    "\n",
    "\\begin{equation}\n",
    "\\Gamma(n) = \\int_0^{\\infty} t^{n-1}e^{-t} dt.\n",
    "\\end{equation}"
   ]
  },
  {
   "cell_type": "markdown",
   "metadata": {},
   "source": [
    "# Complete and Incomplete Gamma Functions\n",
    "\n",
    "To satisfiy the equation for $f$=0.5, we would have to set the following ratio to be 50%. \n",
    "\n",
    "\\begin{equation}\n",
    "\\frac{\\int_0^{u_e} u^{n-1}e^{-u} du}{\\int_0^{\\infty} u^{n-1} e^{-u}} = \\frac{1}{2}\n",
    "\\end{equation}\n",
    "\n",
    "$u_e$ in the above equation is the value of $u$ that corresponds to $\\kappa = r_e$. In fact, the top of this ratio is the incomplete gamma function $\\gamma(n,u_e)$, which is just the same integral from the gamma function, but integrated up to a finite limit ($u_e$) instead of infinity. The denomonator is just the full gamma function $\\Gamma(n)$. \n",
    "\n",
    "If we substitude those definitions into the above equation we get the relation from the paper:\n",
    "\n",
    "\\begin{equation}\n",
    "\\gamma(n,u_e) = \\frac{1}{2} \\Gamma(n)\n",
    "\\end{equation}\n",
    "\n",
    "as long as we identify what they call \"$b_n$\" with our $u_e$. Basically it's saying that we can get 50% of the light to be within $r_e$ for a profile of the above type as long as we choose $u_e$ for a given $n$ by the equation above. \n",
    "\n",
    "NOTE: I don't yet know why in the paper there is a $2n$ instead of $n$ in the equation above. \n",
    "\n",
    "If we remember how $u$ is defined we have that:\n",
    "\n",
    "\\begin{equation}\n",
    "u_e = \\left(\\frac{\\kappa}{r_0}\\right)^{\\frac{1}{n}}\n",
    "\\end{equation} \n",
    "\n",
    "OR\n",
    "\n",
    "\\begin{equation}\n",
    "r_0 u_e^n = r_e\n",
    "\\end{equation}"
   ]
  },
  {
   "cell_type": "markdown",
   "metadata": {},
   "source": [
    "# Finally Calculating $r_0$\n",
    "\n",
    "So, the procedure to calcuate $r_0$ is this, solve the following equation for $u_e$ given $n$. \n",
    "\n",
    "\\begin{equation}\n",
    "\\gamma(n,u_e) = \\frac{1}{2} \\Gamma(n)\n",
    "\\end{equation}\n",
    "\n",
    "Then use $r_e$ to calculate $r_0$ from:\n",
    "\n",
    "\\begin{equation}\n",
    "r_0 u_e^n = r_e\n",
    "\\end{equation}\n",
    "\n",
    "The code below does this. "
   ]
  },
  {
   "cell_type": "code",
   "execution_count": 4,
   "metadata": {},
   "outputs": [
    {
     "name": "stdout",
     "output_type": "stream",
     "text": [
      "3.961749835628409e-07\n"
     ]
    }
   ],
   "source": [
    "import numpy as np\n",
    "import scipy.optimize as so\n",
    "import scipy.special as ss\n",
    "\n",
    "n = 6\n",
    "re = 1 #1kpc\n",
    "\n",
    "f = lambda x: ss.gammainc(2*n,x)*ss.gamma(2*n)-0.5*ss.gamma(2*n)\n",
    "root = so.brentq(f,0,500000,rtol=0.001,maxiter=100) #come within 1% of exact root within 100 iterations\n",
    "bn = root\n",
    "\n",
    "r0 = re/bn**n\n",
    "\n",
    "print(r0) #in kpc"
   ]
  },
  {
   "cell_type": "code",
   "execution_count": null,
   "metadata": {},
   "outputs": [],
   "source": []
  }
 ],
 "metadata": {
  "kernelspec": {
   "display_name": "Python 3",
   "language": "python",
   "name": "python3"
  },
  "language_info": {
   "codemirror_mode": {
    "name": "ipython",
    "version": 3
   },
   "file_extension": ".py",
   "mimetype": "text/x-python",
   "name": "python",
   "nbconvert_exporter": "python",
   "pygments_lexer": "ipython3",
   "version": "3.7.1"
  }
 },
 "nbformat": 4,
 "nbformat_minor": 2
}
