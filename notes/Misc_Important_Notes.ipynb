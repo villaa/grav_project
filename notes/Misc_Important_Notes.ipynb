{
 "cells": [
  {
   "cell_type": "markdown",
   "metadata": {},
   "source": [
    "# Here are a few important things to remember"
   ]
  },
  {
   "cell_type": "markdown",
   "metadata": {},
   "source": [
    "## Fitting"
   ]
  },
  {
   "cell_type": "markdown",
   "metadata": {},
   "source": [
    "__From Noordermeer's thesis:__\n",
    "<br>\n",
    "<br>\n",
    "6.3.5 Fitting technique\n",
    "<br>\n",
    "\"...many combinations of parameters produce acceptable fits. In particular, it has been known for a long time that there exists a strong coupling between the contributions of the stellar disks and the dark matter haloes, in the sense that one can be scaled down while increasing the contribution from the other without degrading the quality of the fit (van Albada et al. 1985).\"\n",
    "<br><br>\n",
    "\"First, we fitted equation 6.3 to the observed rotation curves, __leaving the bulge and disk mass-to-light ratios and the halo parameters free. If needed, a central point mass was included as well__, fitting its mass at the same time.\n",
    "These fits were done by minimising the chi-squared $\\chi_{1}^{2}$ between the model and the observed\n",
    "rotation curves, which is defined as: <br>\n",
    "    \\begin{equation}\n",
    "    \\chi_{1}^{2} = \\sum_{j=1}^{N_p} \\left[\\frac{V_{mod,j} - V_{obs,j}}{\\sqrt{\\Delta V_{r,j}^{2} + \\Delta V_{i,j}^{2}}}\\right]^{2} \n",
    "    \\end{equation}<br>\n",
    ",where the summation is over all $N_P$ points in the rotation curve and $V_{mod,j}$ and $V_{obs,j}$ are the\n",
    "model and observed rotation velocities in point j respectively. $V_{r,j}$ are the individual errorbars\n",
    "on the observed rotation curve points and $V_{i,j}$ are the errors in the rotation velocities\n",
    "due to inclination uncertainties (see section 4.3.4 for details); for the fits presented in this\n",
    "chapter, we simply added the two contributions to the errors quadratically.\"\n",
    "<br><br>\n",
    "\"For all models, we also list in the tables in appendix 6-II a chi-squared parameter $\\chi_{2}^{2}$, which was calculated by considering the individual errorbars only and __neglecting the inclination uncertainties__ (i.e. setting $V_{i,j}$ = 0 in equation 6.9), as well as the two corresponding reduced chi-squared quantities $\\chi_{i,r}^{2}$ = $\\chi_{i}^{2}/(N_{p}-N_{dof})$, with $N_{dof}$ the number of degrees of freedom in the fits. It is important to note here that the errors on our rotation curves are neither Gaussian nor independent. The absolute values of the chi-squared quantities are therefore not statistically meaningful; for several rotation curves in particular, the large inclination uncertainties $V_{i,j}$, which are not independent for individual points in the rotation curves, lead to\n",
    "$\\chi_{1}^{2}$ << 1.0. However, the chi-squared values are still useful to distinguish between the different\n",
    "models for each galaxy and help to determine how much the quality of the fits degrades\n",
    "when different values for $\\Gamma_d$ are assumed.\"\n"
   ]
  },
  {
   "cell_type": "markdown",
   "metadata": {},
   "source": [
    "## Tilted Ring Fitting"
   ]
  },
  {
   "cell_type": "markdown",
   "metadata": {},
   "source": [
    "According to de Vaucouleurs (referenced by Noordermeer), \"A small, but significant fraction of the mass of galaxies is in the interstellar gas, mainly neutral and ionized hydrogen, with a small admixture (~10%) of helium, heavy elements and molecules\" (pg 26). \"...its mass can be estimated with little error by observation of the 21-cm emission line\" (pg 27). Link: http://adsabs.harvard.edu/abs/1974IAUS...58....1D \n",
    "<br><br>\n",
    "\n",
    "In most cases, this gas is noted by HI defined by \"An HI region or HI region (read H one) is a cloud in the interstellar medium composed of neutral atomic hydrogen (HI), in addition to the local abundance of helium and other elements\" (Wikipedia). Another great read about interstellar medium: http://www.outerspacecentral.com/ism_page.html \n",
    "<br><br>\n",
    "\n",
    "In the paper, \"HI rotation curves of spiral galaxies I. NGC 3198\" by K.G. Begeman, a technique of \"tilted-ring model\" is described (pg 50): \"To determine the rotation curve a tilted-ring model is fitted to the velocity field. We assume that the galaxy can be described by a set of concentric rings, each ring being characterised by a fixed value of the H I surface density and circular velocity Vc, and by two orientation angles (inclination angle i and position angle of major axis ϕ.\" The “tilted-ring model fit” is analyzed in Appendix A. Link: https://ui.adsabs.harvard.edu/abs/1989A%26A...223...47B/abstract \n",
    "<br>\n",
    "\n",
    " - He also wrote a thesis of the same title and I've seen it referenced in many papers but it's a book so I was not able to access it.\n",
    "<br>\n",
    "\n",
    " - The tilted-ring model was first introduced by Rogstad et. al. (1974).\n",
    " <br><br>\n",
    " \n",
    "In Noordermeer's thesis (2006), he mentions “In fig. 1, we show rotation curves of 9 galaxies, derived using a tilted-ring to the HI velocity fields.” In section 4, he describes the method of deriving the rotation curve for our galaxy UGC 9133 also known as NGC 5533: “We then follow the procedures given by Casertano (1983) to calculate the contribution from both components to the rotation curve. A similar procedure is followed with the HI density distribution. To account for the presence of primordial Helium, the HI surface densities are multiplied by 1.43” (pg 4). Link: https://www.rug.nl/research/portal/files/2848454/massdistributi.pdf\n",
    "<br><br>\n",
    "\n",
    "There is more data for the gas in Noordermeer’s other paper, “The Westerbork HI survey of spiral and irregular galaxies” in Table 3 (pg 144). Link: https://www.aanda.org/articles/aa/abs/2005/40/aa3172-05/aa3172-05.html\n",
    "<br><br>\n",
    "\n",
    "In another Noordermeer et. al. paper “The mass distribution in early-type disc galaxies: declining rotationcurves and correlations with optical properties” (referenced in the original paper we’re analyzing), they are describing the tilted-ring fitting even more in Section 3.1 and presenting parameters for the fitting in Table 2. “The HI rotation curves were derived by fitting tilted ring models (Begeman 1987, 1989) to the observed velocity fields from Paper I, using the ROTCUR algorithm implemented in GIPSY (Groningen Image Processing System; Vogelaar & Terlouw 2001)” (pg 1515). Link: http://adsabs.harvard.edu/abs/2007MNRAS.376.1513N\n",
    "<br><br>\n",
    "\n",
    "In Karukes's paper, the TiRiFiC software is mentioned: \"To construct the gas distribution and the rotation curve of this galaxy in a reliable way, we modelled the whole data cube by means of the TiRiFiC software (Józsa et al. 2007)\" (pg 2. Chapter 2.1 HI data). This software can be found here: https://gigjozsa.github.io/tirific/ which is also based on the tilted-ring fitting.\n",
    "<br><br>\n",
    "\n",
    "One of Noordermeer's reference was a thesis by Bosma, \"The Distribution And Kinematics Of Neutral Hydrogen In Spiral Galaxies Of Various Morphological Types\" (1978). In Chapter 6 Rotation Curves and Mass Models, he describes the method of creating rotation curves from 21 cm HI line maps. Link: https://ned.ipac.caltech.edu/level5/March05/Bosma/frames.html\n",
    "<br><br>\n",
    "\n",
    "The simplest method I found was in the paper, \"The cored distribution of dark matter in spiral galaxies\" by Gentile et. al, they mention that a \"scaling factor for the HI contribution to the rotation curve is a free parameter\" (pg 14. Chapter 8.2.4 HI scaling). Link: https://academic.oup.com/mnras/article/351/3/903/1052798"
   ]
  },
  {
   "cell_type": "code",
   "execution_count": null,
   "metadata": {},
   "outputs": [],
   "source": []
  }
 ],
 "metadata": {
  "kernelspec": {
   "display_name": "Python 3",
   "language": "python",
   "name": "python3"
  },
  "language_info": {
   "codemirror_mode": {
    "name": "ipython",
    "version": 3
   },
   "file_extension": ".py",
   "mimetype": "text/x-python",
   "name": "python",
   "nbconvert_exporter": "python",
   "pygments_lexer": "ipython3",
   "version": "3.7.1"
  }
 },
 "nbformat": 4,
 "nbformat_minor": 2
}
