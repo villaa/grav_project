{
 "cells": [
  {
   "cell_type": "code",
   "execution_count": 1,
   "metadata": {},
   "outputs": [],
   "source": [
    "import numpy as np\n",
    "import matplotlib.pyplot as plt\n",
    "\n",
    "import sys\n",
    "sys.path.append('../python/')\n",
    "import NGC5533_functions as nf\n",
    "import noordermeer as noord\n",
    "import dataPython as dp\n",
    "\n",
    "import astropy.units as u\n",
    "import astropy.constants as c\n",
    "\n",
    "import scipy.optimize as so\n",
    "import scipy.special as ss\n",
    "from scipy.integrate import quad"
   ]
  },
  {
   "cell_type": "markdown",
   "metadata": {},
   "source": [
    "# Bulge model from Noordermeer's equations"
   ]
  },
  {
   "cell_type": "markdown",
   "metadata": {},
   "source": [
    "The bulge model of NGC 5533 galaxy was fully derived from Noordermeer's \"_Rotation curves of flattened Sersic bulges_\" paper (from now on, \"original paper\"). <br><br>\n",
    "In the first step, we defined the <b>gamma function</b> Noordermeer mentioned (pg.1361):<br> _\"$r_0$ is the characteristic radius, which is related to the effective radius ($r_e$, the radius which encompasses 50 percent of the light) as $r_e$ = $b_{n}^{n}$ $r_0$ $b_n$ is a scaling constant that is defined such that it satisfies $\\gamma$($b_n$, 2n) = $^1/_2$$\\Gamma$(2n), with $\\gamma$ and $\\Gamma$ the incomplete and complete gamma functions, respectively.\"_ <br>There is a notebook on gamma functions in Anthony's notes: grav_project/notes/anthony/gamma_functions.ipynb that describes how the gamma function was derived. <br>\n",
    "Next, the inner function was computed using $x$ and $m$ (Noordermeer's notation: $\\kappa$ and $m$) as variables (eq.13). It's integral was evaluated over variable $\\kappa$. Then, the outer ingral was evaluated over the variable $m$. Calculating the double integral resulted in the velocity squared function, so the square root of this function was plotted. See below."
   ]
  },
  {
   "cell_type": "markdown",
   "metadata": {},
   "source": [
    "## Plot of bulge model"
   ]
  },
  {
   "cell_type": "code",
   "execution_count": 2,
   "metadata": {},
   "outputs": [
    {
     "data": {
      "image/png": "[encoded data removed]",
      "text/plain": [
       "<Figure size 576x432 with 1 Axes>"
      ]
     },
     "metadata": {
      "needs_background": "light"
     },
     "output_type": "display_data"
    }
   ],
   "source": [
    "radius = np.linspace(0.1,50,500)\n",
    "plt.figure(figsize=(8,6))\n",
    "plt.plot(radius,nf.b_v(radius,load=True,path='../fitting/'),label='Bulge: from library ')\n",
    "plt.xlabel('r (kpc)')\n",
    "plt.ylabel('v (km/s)')\n",
    "plt.xlim(0,50)\n",
    "plt.title(\"Bulge curve using the Python library\")\n",
    "plt.legend()\n",
    "plt.show()"
   ]
  },
  {
   "cell_type": "markdown",
   "metadata": {},
   "source": [
    "## Parameters"
   ]
  },
  {
   "cell_type": "markdown",
   "metadata": {},
   "source": [
    "The parameters of NGC 5533 found for the bulge are listed below.<br><br>\n",
    "\n",
    "Noordermeer asserts in his original paper about NGC 5533, _\"Its rotation curve was measured from a combination of optical spectroscopic data and HI observations by Noordermeer et al. (2007). R-band photometry for this galaxy was presented by Noordermeer & van der Hulst (2007), as well as a detailed study of the properties of its bulge and disc\"_ (pg.1361). <br>Noordermeer et al. (2007): _The stellar mass distribution in early-type disc galaxies: surface photometry and bulge–disc decompositions_ <br>\n",
    "Noordermeer & van der Hulst (2007): _The mass distribution in early-type disc galaxies: declining rotation curves and correlations with optical properties_.\n",
    "\n",
    "<b>Concentration parameter ($n$)</b>: as Noordermeer describes: _\"$n$ is a concentration parameter that describes the curvature of the profile in a radiusmagnitude plot\"_(pg.1361). In his original paper, he experiences with different values of $n$ but as mentioned earlier, he uses parameters from his other papers to plot the bulge. On pg.1500, Noordermeer's _The stellar mass distribution in early-type disc galaxies: surface photometry and bulge–disc decompositions_ paper lists $n$ = 2.7 for the  bulge concentration parameter of UGC 9133 galaxy (NGC 5533). <br><br>\n",
    "\n",
    "<b>Intrinsic axis ratio ($q$)</b>: _\"q [is] the intrinsic axis ratio of the bulge isodensity surfaces\"_ (Noordermeer, original paper, pg.1360). This parameter describes how flat a galaxy appears. The eccentricity can be calculated from this parameter: $e$ = $\\sqrt{1 - q^{2}}$. The _\"The stellar mass distribution in early-type disc galaxies\"_ paper and also the original paper mentions $q$ = 0.3 but the table of values in the same shows $q$ = 0.33 (could this be a type-o? and it is supposed to be just $q$ = 0.3?.. not a big deal but we want to be accurate.)\n",
    "- q=0.3 is reported only to one significant figure, which would make it consistent with q=0.33 (reported to two significant figures, but equivalent at one). I don't know why the value of q is reported to different levels of precision between the text and the table, but the values are not inconsistent.\n",
    "<br><br>\n",
    "\n",
    "<b>Characteristic radius ($r_0$) and Effective radius ($r_e$)</b>: As described earlier, _\"$r_0$ is the characteristic radius, which is related to the effective radius ($r_e$, the radius which encompasses 50 percent of the light) as $r_e$ = $b_{n}^{n}$ $r_0$ $b_n$ is a scaling constant that is defined such that it satisfies $\\gamma$($b_n$, 2n) = $^1/_2$$\\Gamma$(2n), with $\\gamma$ and $\\Gamma$ the incomplete and complete gamma functions, respectively.\"_<br>\n",
    "$r_e$ is 9.9 arcsec in Noordermeer's _\"The stellar mass distribution in early-type disc galaxies\"_ paper, and was converted to kpc using $D$ = 54.3 Mpc for the distance to the galaxy. The calculated value is: 2.6 kpc (see calculation below). <br><br>\n",
    "<b>Inclination angle ($i$)</b>: The inclination angle for NGC 5533 galaxy is $i$ = 52$^\\circ$ in _The stellar mass distribution in early-type disc galaxies_ paper and $i$ = 53$^\\circ$ in _The mass distribution in early-type disc galaxies_ paper.\n",
    "\n",
    "<b>Mass-to-light ratio ($\\Upsilon_b$)</b>: This value is from the original paper: $\\Upsilon_b$ = 2.8 $M_\\odot / L_\\odot$\n",
    "\n",
    "<b>Luminosity ($L_\\odot$)</b>: I'm trying to figure out where we got the 3.27e10 value from. We might have just guessed this value. Noordermeer mentions: \"The effects of the seeing on the measured bulge parameters were corrected for, using the deconvolutions from Graham (2001).\" <font color=\"red\"> <b>Can we find a source?</b> </font><br>\n",
    "***Found some things in our old Disk velocity calculations.***\n",
    "- L = 10^(0.4*(Mag_sun - Mag_absolute))\n",
    "    - This was commented out.\n",
    "- Mag_absolute = -22.02, Mag_Sun = 4.42\n",
    "- Mag_absolute does not match M_B (-21.22) or M_R (-22.62) from Noordermeer's papers.\n",
    "    - Manually using one of these values does not result in a match, either.\n",
    "\n",
    "<b>Central surface brightness ($I_0$)</b>: The central surface brightness was explained by Noordermeer as: <br>\n",
    "_\"$I_0$ and $r_0$ scaled such that all bulges have equal total luminosity ($L_b$ = 5 × $10^9$ $L_\\odot$) and\n",
    "effective radius ($r_e$ = 1 kpc).\"_ <br>\n",
    "This resulted from the gamma function the following way in our code: $I_0 = L*root^{2n}/(r_e^2*2\\pi n*gamma(2n))$. <br>\n",
    "\n",
    "\n",
    "($L$ is luminosity, $gamma$ is the gamma function, $root$ is the root of the gamma function, $n$ is concentration parameter, $r_e$ is the effective radius.) <br> We found an equation in this paper that was referenced by Noordermeer: [_Graham: An investigation into the prominence of spiral galaxy bulges_](https://iopscience.iop.org/article/10.1086/318767/pdf) (pg.822/eq.3): <br>\n",
    "\n",
    "\n",
    "$L_{tot} = \\frac{n2\\pi r^2_eI_ee^b}{(b_n)^{2n}}\\Gamma(2n)$, where $I_0 = I_ee^b$.The calculation resulted in a central surface brightness of about 4.10e10 (units?). <br><br> \n",
    "\n",
    "<b>Gravitational constant ($G$)</b> was converted to $kpc*(km/s)^{2}$ $/$ $solar$ $mass$ to match all other units. <br><br>"
   ]
  },
  {
   "cell_type": "code",
   "execution_count": 3,
   "metadata": {},
   "outputs": [
    {
     "name": "stdout",
     "output_type": "stream",
     "text": [
      "Effective radius (re): 2.606212905540533 kpc.\n",
      "Luminosity of bulge: 1.3827182378516137e+37 W.\n",
      "Luminosity of bulge: 3.612e+10 solLum.\n"
     ]
    }
   ],
   "source": [
    "#Parameters\n",
    "\n",
    "#Constants\n",
    "n = 2.7                                     #concentration parameter \n",
    "q = 0.33                                    #intrinsic axis ratio (is this 0.3 instead?)\n",
    "\n",
    "re = 2.6                                    #effective radius (kpc)\n",
    "#calculating re (from arcsec to kpc)\n",
    "re_arcsec = 9.9*u.arcsec                  \n",
    "D = 54.3 * u.Mpc\n",
    "re_Mpc = (re_arcsec.to(u.degree)/(360 * u.degree)) * 2 * np.pi * D\n",
    "re_kpc = re_Mpc.to(u.kpc)\n",
    "print(\"Effective radius (re): {}.\".format(re_kpc))\n",
    "\n",
    "#calculating luminosity\n",
    "Mabs = -21.66                               #total absolute magnitude of bulge (mag). Source: Noordermeer et al. (2007): The stellar mass distribution in early-type disc galaxies: surface photometry and bulge–disc decompositions\n",
    "L = 78.3 * c.L_sun * 10**(Mabs/(-2.5))\n",
    "print(\"Luminosity of bulge: {}.\".format(L))\n",
    "L = L.to(u.L_sun)\n",
    "print(\"Luminosity of bulge: {:.3e}.\".format(L))\n",
    "#L = 3.27e10                                 #luminosity\n",
    "L = 3.612e10\n",
    "\n",
    "G = 4.300e-6                                #gravitational constant (kpc/solar mass*(km/s)^2)\n",
    "ups = 2.8                                   #mass-to-light ratio \n",
    "i = 52*(np.pi/180)                          #inclination angle"
   ]
  },
  {
   "cell_type": "code",
   "execution_count": 4,
   "metadata": {},
   "outputs": [
    {
     "name": "stdout",
     "output_type": "stream",
     "text": [
      "45315060732.23661\n",
      "0.032457790309459424\n"
     ]
    },
    {
     "name": "stderr",
     "output_type": "stream",
     "text": [
      "C:\\Users\\JB\\AppData\\Local\\Continuum\\anaconda3\\lib\\site-packages\\scipy\\integrate\\quadpack.py:385: IntegrationWarning: The maximum number of subdivisions (50) has been achieved.\n",
      "  If increasing the limit yields no improvement it is advised to analyze \n",
      "  the integrand in order to determine the difficulties.  If the position of a \n",
      "  local difficulty can be determined (singularity, discontinuity) one will \n",
      "  probably gain from splitting up the interval and calling the integrator \n",
      "  on the subranges.  Perhaps a special-purpose integrator should be used.\n",
      "  warnings.warn(msg, IntegrationWarning)\n",
      "C:\\Users\\JB\\AppData\\Local\\Continuum\\anaconda3\\lib\\site-packages\\scipy\\integrate\\quadpack.py:385: IntegrationWarning: The occurrence of roundoff error is detected, which prevents \n",
      "  the requested tolerance from being achieved.  The error may be \n",
      "  underestimated.\n",
      "  warnings.warn(msg, IntegrationWarning)\n"
     ]
    }
   ],
   "source": [
    "# calculating I0 using Noordermeer's main paper\n",
    "L_bulge = 5e9                               # From Noordermeer's main paper\n",
    "re_2 = 1.0                                  # From Noordermeer's main paper\n",
    "n = 2.7                                     # concentration parameter that describes the curvature of the profile in a radius-magnitude plot, n=4 is de Vaucoileurs profile\n",
    "\n",
    "# gamma function\n",
    "f = lambda x: ss.gammainc(2*n,x)*ss.gamma(2*n)-0.5*ss.gamma(2*n)  #where exactly is this eq coming from? -> Anthony calculated the gamma function, see his notes about gamma function\n",
    "root = so.brentq(f,0,500000,rtol=0.000001,maxiter=100)            #come within 1% of exact root within 100 iterations\n",
    "bn = root \n",
    "\n",
    "#I0 = (L_bulge*(bn**(2*n)))/(((re_2**2)*2*np.pi*n)*ss.gamma(2*n)) #where exactly is this eq coming from? -> see notes above\n",
    "#r0 = re_2/bn**n                                                  #eq in Noord (2008), section 2.2, paragraph 3, solved for r0\n",
    "I0 = (L*(bn**(2*n)))/(((re**2)*2*np.pi*n)*ss.gamma(2*n))          #where exactly is this eq coming from? -> see notes above\n",
    "r0 = re/bn**n                                                     #eq in Noord (2008), section 2.2, paragraph 3, solved for r0\n",
    "print(I0)\n",
    "print(r0)\n",
    "\n",
    "# inner function\n",
    "f = lambda x,m: ((np.exp(-np.power(x/r0, (1/n))))*(np.power(x/r0, ((1/n)-1))))/(np.sqrt((x**2)-(m**2)));\n",
    "# integrate inner function\n",
    "g = lambda m: quad(f, m, np.inf,args=(m,))[0]\n",
    "# equations\n",
    "C = (4*G*q*ups*I0)/(r0*np.float(n))*(np.sqrt((np.sin(i)**2)+(1/(q**2))*(np.cos(i)**2)))\n",
    "e2 = 1-(q**2)\n",
    "# plot range\n",
    "x = np.linspace(0.1,50,500)\n",
    "# integrate outer function\n",
    "h = lambda m,r: C*g(m)*(m**2)/(np.sqrt((r**2)-((m**2)*(e2))))\n",
    "\n",
    "y = np.zeros(np.shape(x))\n",
    "for j,r in enumerate(x):\n",
    "    hr = lambda m: h(m,r)\n",
    "    yr = quad(h, 0, r,args=(r,))[0]\n",
    "    y[j] = yr\n",
    "    \n",
    "# velocity\n",
    "v_bulge = np.sqrt(y)"
   ]
  },
  {
   "cell_type": "markdown",
   "metadata": {},
   "source": [
    "***\n",
    "## Equations\n",
    "\n",
    ">__Luminosity__: <br>\n",
    "    \\begin{equation}\n",
    "    I_b(\\kappa) = I_0 \\exp \\left[-\\left(\\frac{\\kappa}{r_0} \\right)^{\\frac{1}{n}}\\right]\n",
    "    \\end{equation}\n",
    "    <br>\n",
    ">where:<br>\n",
    "        $I_0$ = central surface brightness<br>\n",
    "        $n$ = concentration parameter<br> \n",
    "        $r_0$ = characteristic radius (related to $r_e$)<br>\n",
    "        $r_e$ = effective radius<br>\n",
    "<br>\n",
    ">__Gamma function__: <br>\n",
    "from Noordermeer's paper<br>\n",
    "    \\begin{equation}\n",
    "    \\gamma(b_n,2n) = \\frac{1}{2} \\Gamma(2n)\n",
    "    \\end{equation}<br>\n",
    "    \\begin{equation}\n",
    "    r_e = b_n^n r_0 b_n \n",
    "    \\end{equation}<br>\n",
    "from Anthony's calculations<br>\n",
    "    \\begin{equation}\n",
    "    \\gamma(n,u_e) = \\frac{1}{2} \\Gamma(n)\n",
    "    \\end{equation}<br>\n",
    "\n",
    ">__Velocity__: <br>\n",
    "    <font color=\"green\">\n",
    "    \\begin{equation}\n",
    "V_{B}^{2}(r) = C \\int_{m=0}^{r} \\left[\\int_{\\kappa=m}^{\\infty} \\frac {e^{-\\left(\\frac{\\kappa}{r_0}\\right)^{\\frac{1}{n}}} \\left(\\frac{\\kappa}{r_0}\\right)^{\\frac{1}{n-1}}} {\\sqrt{\\kappa^2-m^2}} d\\kappa\\right] \\times \\frac{m^{2}}{\\sqrt{r^{2}-m^{2}e^{2}}} dm\n",
    "    \\end{equation}<br></font>\n",
    ">where:<br>\n",
    "    \\begin{equation}\n",
    "    C = \\frac{4Gq\\Upsilon_b I_0}{r_0n} \\sqrt{sin^{2}i + \\frac{1}{q^{2}} cos^{2}i}\n",
    "    \\end{equation}<br>\n",
    "    \\begin{equation}\n",
    "    e = \\sqrt{1-q^{2}}\n",
    "    \\end{equation}<br> \n",
    "        $\\Upsilon_b$ = mass-to-light ratio<br>\n",
    "        $e$ = eccentricity of the bulge<br>\n",
    "        $q$ = intrinsic axis ratio<br> \n",
    "        $i$ = inclination angle<br> \n",
    "        $G$ = gravitational constant<br>\n",
    "    <br>\n",
    "***"
   ]
  },
  {
   "cell_type": "markdown",
   "metadata": {},
   "source": [
    "## Comparison"
   ]
  },
  {
   "cell_type": "markdown",
   "metadata": {},
   "source": [
    "We are comparing our calculated bulge curve using Noordermeer's equations to his published bulge curve (data was retrieved using DataThief) from his \"_Rotation curves of flattened Sersic bulges_\" paper. <br>\n",
    "The rotation curve of the bulge component of NGC 5533 galaxy was calculated and plotted using Python. <font color=\"red\"> <b> The resulting model closely resembles Noordermeer's bulge model. </b> </font>"
   ]
  },
  {
   "cell_type": "code",
   "execution_count": 5,
   "metadata": {},
   "outputs": [
    {
     "data": {
      "image/png": "[encoded data removed]",
      "text/plain": [
       "<Figure size 576x432 with 1 Axes>"
      ]
     },
     "metadata": {
      "needs_background": "light"
     },
     "output_type": "display_data"
    }
   ],
   "source": [
    "plt.figure(figsize=(8,6))\n",
    "plt.plot(radius,nf.b_v(radius,load=True,path='../fitting/'),label=\"Our bulge using Noordermeer's equations\")\n",
    "plt.plot(radius,v_bulge, label=\"Bulge using L=5e9 and re=1kpc\")\n",
    "plt.plot(radius,noord.noord_bulge(radius),label=\"Noordermeer's Bulge\")\n",
    "\n",
    "plt.xlim(0,25)\n",
    "plt.xlabel('r (kpc)')\n",
    "plt.ylabel('v (km/s)')\n",
    "plt.title(\"Our bulge vs. Noordermeer's bulge\")\n",
    "plt.legend()\n",
    "plt.show()"
   ]
  },
  {
   "cell_type": "markdown",
   "metadata": {},
   "source": [
    "## Conclusion"
   ]
  },
  {
   "cell_type": "markdown",
   "metadata": {},
   "source": [
    "Questions: <br>\n",
    "\n",
    " - How did we calculate $I_0$?"
   ]
  },
  {
   "cell_type": "markdown",
   "metadata": {},
   "source": [
    "While I didn't replicate exactly $L$ = 3.27e10, the value of the luminosity that we got is much closer\n",
    "We don't have a bolometric magnitude or luminosity, but it seems like Noordermeer is using R-band luminosities throughout"
   ]
  }
 ],
 "metadata": {
  "kernelspec": {
   "display_name": "Python 3",
   "language": "python",
   "name": "python3"
  },
  "language_info": {
   "codemirror_mode": {
    "name": "ipython",
    "version": 3
   },
   "file_extension": ".py",
   "mimetype": "text/x-python",
   "name": "python",
   "nbconvert_exporter": "python",
   "pygments_lexer": "ipython3",
   "version": "3.7.1"
  }
 },
 "nbformat": 4,
 "nbformat_minor": 4
}
