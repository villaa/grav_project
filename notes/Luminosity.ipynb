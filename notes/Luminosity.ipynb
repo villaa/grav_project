{
 "cells": [
  {
   "cell_type": "markdown",
   "metadata": {},
   "source": [
    "When calculating the luminosity of the bulge, this is the process we used. \n",
    "While these numbers are provided for the bulge specifically, this process should extent to other luminosities as well.\n",
    "\n",
    "*Unless otherwise specified, \"Noordermeer\" refers to his 2008 paper \"The rotation curves of flattened Sersic bulges\".*"
   ]
  },
  {
   "cell_type": "markdown",
   "metadata": {},
   "source": [
    "# R-Band Only\n",
    "\n",
    "On page 5, Noordermeer references R-band photometry for the galaxy from another of his papers. He later states that he measures the R-band mass-to-light ratios for the bulge and disc. In Table 1, which provides his results, the luminosities in the mass-to-light ratios provided have a subscript $R$ which seems to reinforce this idea that the luminosity is not bolometric, but strictly in the R-band. Therefore, we use the R-band magnitude rather than adjusting to get a bolometric magnitude.\n",
    "\n",
    "Going to the referrenced paper (Noordermeer & Hulst 2007), we find a bulge absolute magnitude of -21.66 for the R-band."
   ]
  },
  {
   "cell_type": "code",
   "execution_count": 1,
   "metadata": {},
   "outputs": [],
   "source": [
    "mag = -21.66"
   ]
  },
  {
   "cell_type": "markdown",
   "metadata": {},
   "source": [
    "## Converting Magnitude to Luminosity\n",
    "\n",
    "The following equation comes from some [lecture notes from University of Texas](https://www.as.utexas.edu/astronomy/education/fall15/wheeler/secure/MagnitudeTutorial.pdf) and agrees with [University of Tennessee's website](http://csep10.phys.utk.edu/OJTA2dev/ojta/c2c/ordinary_stars/magnitudes/absolute_tl.html) (warning: popups :/). This equation is different from the one we found on [Wikipedia's entry on Luminosity](https://en.wikipedia.org/wiki/Luminosity#In_astronomy), but that equation doesn't have a source, so the \"zero-point luminosity\" could have been miscalculated.  \n",
    "The equation is: $$L_1 = 10^{0.4(M_2-M_1)}L_2$$ $$L_{bulge} = 10^{0.4(4.83 - M_bulge)}L_{Sun}$$\n",
    "\n",
    "using the Sun's absolute magnitude as provided by [NASA](https://nssdc.gsfc.nasa.gov/planetary/factsheet/sunfact.html).\n",
    "\n",
    "This gives us:"
   ]
  },
  {
   "cell_type": "code",
   "execution_count": 4,
   "metadata": {},
   "outputs": [
    {
     "name": "stdout",
     "output_type": "stream",
     "text": [
      "39445730207.52801\n",
      "or 3.944573020752801E+10 L_Sun\n"
     ]
    }
   ],
   "source": [
    "def L(absm):\n",
    "    return 10**(0.4*(4.83 - absm)) #Return value in solar luminosities\n",
    "print(L(mag))\n",
    "print(\"or \" + str(L(mag)/1e10) + \"E+10 L_Sun\")"
   ]
  },
  {
   "cell_type": "markdown",
   "metadata": {},
   "source": [
    "## Fitting Results\n",
    "\n",
    "I still need to go back and get fitting results with this new value as it does differ by about 8% from the value of 3.6e+10 that we are currently using.\n",
    "\n",
    "**Fitting results with L = 3.27E+10 * L_Sun (Guessed Value):**\n",
    "\n",
    "**Fitting results with L = 3.9E+10 * L_Sun (Calculated Value):**"
   ]
  },
  {
   "cell_type": "markdown",
   "metadata": {},
   "source": [
    "## Resolved?\n",
    "\n",
    "Currently, I do not think this is resolved. We still need to compare fitting results. \n",
    "If the results are that the bulge is suddenly entirely off, then there is some kind of issue.\n",
    "If the fit is roughly as good as or better than it currently is, then I think this will be resolved; as far as I can tell, this is the right method, it just needs to be confirmed by comparing data.  \n",
    "-KCH"
   ]
  }
 ],
 "metadata": {
  "kernelspec": {
   "display_name": "Python 3",
   "language": "python",
   "name": "python3"
  },
  "language_info": {
   "codemirror_mode": {
    "name": "ipython",
    "version": 3
   },
   "file_extension": ".py",
   "mimetype": "text/x-python",
   "name": "python",
   "nbconvert_exporter": "python",
   "pygments_lexer": "ipython3",
   "version": "3.7.4"
  }
 },
 "nbformat": 4,
 "nbformat_minor": 4
}
