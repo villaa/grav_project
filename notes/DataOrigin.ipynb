{
 "cells": [
  {
   "cell_type": "markdown",
   "metadata": {},
   "source": [
    "This page is intended to be a summary of what we know of the origin of Noordermeer's data. I will work on organizing it later, but first I wanted to get all of my thoughts down.\n",
    "\n",
    "Most of Noordermeer's data started as radio data, though he also used R-band photometry (the \"R\" here being \"red\", not radio)."
   ]
  },
  {
   "cell_type": "markdown",
   "metadata": {},
   "source": [
    "## Radio Data Reduction\n",
    "\n",
    "**The following is a summary I sent in an email about my own experiences reducing radio data, albeit for a different purpose.**\n",
    "\n",
    "I had the opportunity to take data once with a radio telescope and this is more or less what the raw data looked like.  Basically you have the flux or intensity on the y-axis and the wavelength or frequency on the x-axis. You point the telescope at a spot in the sky, record RA and Dec (or have a program record it for you), and it spits out this spectrum. All I know how to do with this is determine the distance of the object, so I'm not sure how relevant my experience interpreting it is to what we are trying to find, or what other data is needed. But, you have your data and remove common sources of noise (GPS signals, our own galaxy). \n",
    "\n",
    "Then what you have is the baseline (the flat parts on the very bottom right and left in this plot, basically your background noise) and (hopefully) the 21cm line of the target galaxy. This 21cm line is heavily red-shifted, so you can determine that red-shift and use it to find the velocity at which the galaxy is traveling away from us. A galaxy we view from edge-on (or at a sufficient angle in general) will have a \"two-horned\" profile, which I think this one does as it has two peaks on each end of the spectrum. The half that is rotating toward us will have less red-shift and the side that is rotating away from us will have more red-shift/heliocentric velocity, which is how we end up with the band.\n",
    "\n",
    "I assume that this difference in velocities is being used somehow to create a radial velocity map, probably along with taking images at slightly different positions somehow, but that's really just a guess -- the most processing I did was to find the distance to the galaxies, and that was done using a computer program (which I am fairly certain is private, so we couldn't pick it apart like we did with GIPSY)."
   ]
  },
  {
   "cell_type": "markdown",
   "metadata": {},
   "source": [
    "## The Data\n",
    "\n",
    "**Below is the set of plots Noordermeer had for NGC 5533/UGC 9133**\n",
    "\n",
    "![](UGC9133NoordPlots.png)"
   ]
  },
  {
   "cell_type": "markdown",
   "metadata": {},
   "source": [
    "## Noordermeer's Process\n",
    "\n",
    "**The following is from Noordermeer's email, regarding his process of data reduction.**\n",
    "\n",
    "Regarding the contribution of the gas disk to the overall rotation curve, I used the HI radial density profiles from Noordermeer et al. (2005 - A&A 442; p137). I seem to remember that I used a tool in the good-old GIPSY package for radio data reduction to convert this into a rotation curve. No idea whether GIPSY still exists, but perhaps my PhD supervisor Thijs van der Hulst can help you here (in cc).\n",
    "\n",
    "For the contribution of the stars (bulge + disk), I used the R-band photometry published in Noordermeer & Van der Hulst (2007 - MNRAS 376; p1480). Again, I believe there was a tool (perhaps the same one as for the gas disk) in GIPSY to convert this into a rotation curve, but I'm afraid I can't recall the details. \n"
   ]
  },
  {
   "cell_type": "code",
   "execution_count": null,
   "metadata": {},
   "outputs": [],
   "source": []
  }
 ],
 "metadata": {
  "kernelspec": {
   "display_name": "Python 3",
   "language": "python",
   "name": "python3"
  },
  "language_info": {
   "codemirror_mode": {
    "name": "ipython",
    "version": 3
   },
   "file_extension": ".py",
   "mimetype": "text/x-python",
   "name": "python",
   "nbconvert_exporter": "python",
   "pygments_lexer": "ipython3",
   "version": "3.7.4"
  }
 },
 "nbformat": 4,
 "nbformat_minor": 4
}
