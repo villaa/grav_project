{
 "cells": [
  {
   "cell_type": "markdown",
   "metadata": {},
   "source": [
    "This page is intended to be a summary of what we know of the origin of Noordermeer's data. I will work on organizing it later, but first I wanted to get all of my thoughts down.\n",
    "\n",
    "## Introduction\n",
    "\n",
    "Most of Noordermeer's data started as radio data, though he also used R-band photometry (the \"R\" here being \"red\", not radio). Radio data is used for most of the data, but \"in the central regions, however, the rotation curves can often not be measured from the 21cm observations due to the presence of holes in the HI disks.\" HI data in central regions is also typically low-resolution regardless due to beam smearing. This is why the R-band data is also used. (Noordermeer 2007)"
   ]
  },
  {
   "cell_type": "markdown",
   "metadata": {},
   "source": [
    "## Radio Data Reduction\n",
    "\n",
    "**The following is a summary I sent in an email about my own experiences reducing radio data, albeit for a different purpose.**\n",
    "\n",
    "I had the opportunity to take data once with a radio telescope and this \\[the upper-right plot on the set of plots below\\] is more or less what the raw data looked like.  Basically you have the flux or intensity on the y-axis and the wavelength or frequency on the x-axis. You point the telescope at a spot in the sky, record RA and Dec (or have a program record it for you), and it spits out this spectrum. All I know how to do with this is determine the distance of the object, so I'm not sure how relevant my experience interpreting it is to what we are trying to find, or what other data is needed. But, you have your data and remove common sources of noise (GPS signals, our own galaxy). \n",
    "\n",
    "Then what you have is the baseline (the flat parts on the very bottom right and left in this plot, basically your background noise) and (hopefully) the 21cm line of the target galaxy. This 21cm line is heavily red-shifted, so you can determine that red-shift and use it to find the velocity at which the galaxy is traveling away from us. A galaxy we view from edge-on (or at a sufficient angle in general) will have a \"two-horned\" profile, which I think this one does as it has two peaks on each end of the spectrum. The half that is rotating toward us will have less red-shift and the side that is rotating away from us will have more red-shift/heliocentric velocity, which is how we end up with the band.\n",
    "\n",
    "I assume that this difference in velocities is being used somehow to create a radial velocity map, probably along with taking images at slightly different positions somehow, but that's really just a guess -- the most processing I did was to find the distance to the galaxies, and that was done using a computer program (which I am fairly certain is private, so we couldn't pick it apart like we did with GIPSY)."
   ]
  },
  {
   "cell_type": "markdown",
   "metadata": {},
   "source": [
    "## The Data\n",
    "\n",
    "**Below is the set of plots Noordermeer had for NGC 5533/UGC 9133**\n",
    "\n",
    "![](UGC9133NoordPlots.png)\n",
    "\n",
    "### WHISP (Westerbork observations of neutral Hydrogen in Irregular and SPiral galaxies)\n",
    "\n",
    "\n",
    "We know that Noordermeer used data from the WHISP survey, whose [website](https://www.astro.rug.nl/~whisp/) was created May 21 1996 or earlier. The pages of said website are in varying stages of functionality. We attempted to email the contacts listed on their page, but did not receive much assistance. It seems that the website is more or less abandoned."
   ]
  },
  {
   "cell_type": "markdown",
   "metadata": {},
   "source": [
    "## Noordermeer's Process\n",
    "\n",
    "**The following is from Noordermeer's email, regarding his process of data reduction.**\n",
    "\n",
    "Regarding the contribution of the gas disk to the overall rotation curve, I used the HI radial density profiles from Noordermeer et al. (2005 - A&A 442; p137). I seem to remember that I used a tool in the good-old GIPSY package for radio data reduction to convert this into a rotation curve. No idea whether GIPSY still exists, but perhaps my PhD supervisor Thijs van der Hulst can help you here (in cc).\n",
    "\n",
    "For the contribution of the stars (bulge + disk), I used the R-band photometry published in Noordermeer & Van der Hulst (2007 - MNRAS 376; p1480). Again, I believe there was a tool (perhaps the same one as for the gas disk) in GIPSY to convert this into a rotation curve, but I'm afraid I can't recall the details."
   ]
  },
  {
   "cell_type": "markdown",
   "metadata": {},
   "source": [
    "## GIPSY (Groningen Image Processing SYstem)\n",
    "\n",
    "GIPSY does still exist; the [website](https://www.astro.rug.nl/~gipsy/) for it is still up. It was originally written for 32-bit linux and python 2, and 64-bit support was added in 2009. Its last update was in 2013, and given that it was updated almost every year prior, it seems unlikely that we will see another update for this system. (From the creators' [news page](https://www.astro.rug.nl/~gipsy/gipsynews/index.html)).\n",
    "\n",
    "Although Noordermeer does not state what tasks were used, we might be able to piece together what he used by lining up available tasks with what we know of his process.\n",
    "\n",
    "### Tasks Used\n",
    "\n",
    "There are tasks that reference UV and radio data, but nothing that refers to R-band, red, optical, or visible-spectrum data.\n",
    "I was also unable to find anything in the ROTATION-CURVES [category](https://www.astro.rug.nl/~gipsy/dc123doc/cattasks.html) that suggests GIPSY can take raw data and immediately fit a rotation curve in a single task. However, Noordermeer most likely used [Hermes](https://www.astro.rug.nl/~gipsy/hermes/index.html), which may be able to string multiple tasks together, but we have been unable to use. It is also possible that he connected multiple tasks using a script of some kind.\n",
    "\n",
    "Current candidates are ROTCUR, GALMOD, ROTMAS, and ROTMOD. It is likely that some combination fo these was used.\n",
    "* It seems most likely that ROTMOD was used to generate the disk. \n",
    "    * This is based on Casertano's paper. However, it seems that the density was taken experimentally rather than using the theoretical density presented in Casertano's paper, leading to different shapes.\n",
    "    * He probably used the RADDENS or DENSITY argument to input his data somehow\n",
    "* GALMOD was probably used for the gas."
   ]
  },
  {
   "cell_type": "markdown",
   "metadata": {},
   "source": [
    "## Bulge-Disk Decomposition\n",
    "\n",
    "Bulge-disk decomposition seems to refer to separating the masses/densities of the disk and the bulge based on luminosity. More in Noordermeer's paper [\"The mass distribution in early-type disk galaxies: declining rotation curves and correlations with optical properties\"](https://arxiv.org/abs/astro-ph/0701731)."
   ]
  },
  {
   "cell_type": "markdown",
   "metadata": {},
   "source": [
    "## Remaining Questions\n",
    "* Can we access the radio data somewhere? (We have an image of some graphs, but a table or .fits file would be best)\n",
    "* How exactly was data reduced through GIPSY?"
   ]
  },
  {
   "cell_type": "markdown",
   "metadata": {},
   "source": [
    "#### Last Updated\n",
    "Kitty Harris"
   ]
  },
  {
   "cell_type": "code",
   "execution_count": 8,
   "metadata": {
    "jupyter": {
     "source_hidden": true
    }
   },
   "outputs": [
    {
     "name": "stdout",
     "output_type": "stream",
     "text": [
      "2020-03-09 23:42:58.857003\n"
     ]
    }
   ],
   "source": [
    "from datetime import datetime\n",
    "print(datetime.now())"
   ]
  },
  {
   "cell_type": "code",
   "execution_count": null,
   "metadata": {},
   "outputs": [],
   "source": []
  }
 ],
 "metadata": {
  "kernelspec": {
   "display_name": "Python 3",
   "language": "python",
   "name": "python3"
  },
  "language_info": {
   "codemirror_mode": {
    "name": "ipython",
    "version": 3
   },
   "file_extension": ".py",
   "mimetype": "text/x-python",
   "name": "python",
   "nbconvert_exporter": "python",
   "pygments_lexer": "ipython3",
   "version": "3.7.4"
  }
 },
 "nbformat": 4,
 "nbformat_minor": 4
}
