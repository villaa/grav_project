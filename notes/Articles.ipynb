{
 "cells": [
  {
   "cell_type": "markdown",
   "metadata": {},
   "source": [
    "# Here is a list of articles for our paper:"
   ]
  },
  {
   "cell_type": "markdown",
   "metadata": {},
   "source": [
    "__MAIN PAPER__: <br>\n",
    "Edo Noordermeer: The rotation curves of flattened Sérsic bulges (2008)<br>\n",
    "https://doi.org/10.1111/j.1365-2966.2008.12837.x"
   ]
  },
  {
   "cell_type": "markdown",
   "metadata": {},
   "source": [
    "__Sources referenced in Main Paper:__<br>\n",
    "\n",
    "Y. C. Andredakis, R. H. Sanders: Exponential bulges in late-type spirals: an improved description of the light distribution (1994)<br> \n",
    "https://doi.org/10.1093/mnras/267.2.283<br>\n",
    "Note: Talks about chi squared and goodness of fit\n",
    "<br><br>\n",
    "\n",
    "Y. C. Andredakis, R. F. Peletier, M. Balcells: The shape of the luminosity profiles of bulges of spiral galaxies (1995)<br>\n",
    "https://doi.org/10.1093/mnras/275.3.874\n",
    "<br><br>\n",
    "\n",
    "Bertola, F.; Vietri, M.; Zeilinger, W. W.: Triaxiality in Disk Galaxies (1991)<br>\n",
    "https://ui.adsabs.harvard.edu/link_gateway/1991ApJ...374L..13B/doi:10.1086/186060\n",
    "<br><br>\n",
    "\n",
    "Binney, James, and Scott Tremaine: Galactic dynamics (2011)<br>\n",
    "https://books.google.com/books?hl=en&lr=&id=6mF4CKxlbLsC&oi=fnd&pg=PP1&ots=YYLzDaKeom&sig=wPGPf_9nSBoOFsIGiREdvx0KaYA#v=onepage&q&f=false\n",
    "<br><br>\n",
    "\n",
    "Bosma, A.: 21-cm line studies of spiral galaxies. II. The distribution and kinematics of neutral hydrogen in spiral galaxies of various morphological types. (1981)<br>\n",
    "https://ui.adsabs.harvard.edu/link_gateway/1981AJ.....86.1825B/doi:10.1086/113063\n",
    "<br><br>\n",
    "    \n",
    "Stefano Casertano: Rotation curve of the edge-on spiral galaxy NGC 5907: disc and halo masses (1983)<br>\n",
    "https://doi.org/10.1093/mnras/203.3.735\n",
    "<br><br>\n",
    "\n",
    "Ciotti, L.: Stellar systems following the R1/m luminosity law. (1991)<br>\n",
    "https://ui.adsabs.harvard.edu/abs/1991A%26A...249...99C/abstract\n",
    "<br><br>    \n",
    "\n",
    "W. J. G. de Blok, S. S. McGaugh: The dark and visible matter content of low surface brightness disc galaxies (1997)<br>\n",
    "https://doi.org/10.1093/mnras/290.3.533\n",
    "<br><br>\n",
    "\n",
    "de Vaucouleurs, G.: Photoelectric photometry of the Andromeda Nebula in the UBV system. (1958)<br>\n",
    "https://ui.adsabs.harvard.edu/link_gateway/1958ApJ...128..465D/doi:10.1086/146564\n",
    "<br><br>\n",
    "    \n",
    "de Vaucouleurs, G.: Structure, Dynamics and Statistical Properties of Galaxies (1974)<br>\n",
    "https://doi.org/10.1017/S007418090002430X\n",
    "<br><br>\n",
    "\n",
    "Peter Erwin and Linda S. Sparke: Triple Bars and Complex Central Structures in Disk Galaxies (1999)<br>\n",
    "https://doi.org/10.1086/312169\n",
    "<br><br>\n",
    "\n",
    "Peter Erwin and Linda S. Sparke: Double Bars, Inner Disks, and Nuclear Rings in Early-Type Disk Galaxies (2002)<br>\n",
    "https://doi.org/10.1086/340803\n",
    "<br><br>\n",
    "\n",
    "Alister W. Graham: An Investigation into the Prominence of Spiral Galaxy Bulges (2001)<br>\n",
    "https://doi.org/10.1086/318767\n",
    "<br><br>\n",
    "\n",
    "Habib G. Khosroshahi, Yogesh Wadadekar, and Ajit Kembhavi: Correlations among Global Photometric Properties of Disk Galaxies (2000)<br>\n",
    "https://doi.org/10.1086/308654\n",
    "<br><br>\n",
    "\n",
    "J. Méndez-Abreu1, J. A. L. Aguerri, E. M. Corsini and E. Simonneau: Structural properties of disk galaxies. I. The intrinsic equatorial ellipticity of bulges (2007)<br>\n",
    "https://doi.org/10.1051/0004-6361:20078089 \n",
    "<br><br>\n",
    "\n",
    "Navarro, Julio F.; Frenk, Carlos S.; White, Simon D. M.: A Universal Density Profile from Hierarchical Clustering (1997)<br>\n",
    "https://ui.adsabs.harvard.edu/link_gateway/1997ApJ...490..493N/doi:10.1086/304888\n",
    "<br><br>    \n",
    "\n",
    "E. Noordermeer: PhD Thesis. The distribution of Gas, Stars and Dark Matter in early-type disk galaxies (2006)<br>\n",
    "https://www.rug.nl/research/portal/publications/the-distribution-of-gas-stars-and-dark-matter-in-earlytype-disk-galaxies(3f86c993-08c6-4b02-b5c3-2d7531bf0ab6).html\n",
    "<br><br>\n",
    "\n",
    "E. Noordermeer, J. M. Van Der Hulst: The stellar mass distribution in early-type disc galaxies: surface photometry and bulge–disc decompositions (2007)<br>\n",
    "https://doi.org/10.1111/j.1365-2966.2007.11532.x\n",
    "<br><br>\n",
    "\n",
    "E. Noordermeer, J. M. Van Der Hulst, R. Sancisi, R. S. Swaters, T. S. Van Albada: The mass distribution in early-type disc galaxies: declining rotation curves and correlations with optical properties (2007)<br>\n",
    "https://doi.org/10.1111/j.1365-2966.2007.11533.x\n",
    "<br><br>\n",
    "\n",
    "Povilas Palunas and T. B. Williams: Maximum Disk Mass Models for Spiral Galaxies (2000)<br>\n",
    "https://doi.org/10.1086/316878\n",
    "<br><br>\n",
    "\n",
    "Massimo Persic, Paolo Salucci, Fulvio Stel: The universal rotation curve of spiral galaxies — I. The dark matter connection (1996)<br>\n",
    "https://doi.org/10.1093/mnras/278.1.27\n",
    "<br><br>\n",
    "\n",
    "W. H., Teukolsky S. A.,VetterlingW. T., Flannery B. P.: Numerical Recipes in FORTRAN. (1992)<br>\n",
    "http://www.elch.chem.msu.ru/tch/group/FortranBooks/NumericalRecipesinF90.pdf\n",
    "<br><br>\n",
    "\n",
    "Roberts, M. S.; Whitehurst, R. N.: The rotation curve and geometry of M31 at large galactocentric distances. (1975)<br>\n",
    "https://ui.adsabs.harvard.edu/link_gateway/1975ApJ...201..327R/doi:10.1086/153889\n",
    "<br><br>\n",
    "    \n",
    "Rogstad, D. H.; Shostak, G. S.: Gross Properties of Five Scd Galaxies as Determined from 21-CENTIMETER Observations (1972)<br>\n",
    "https://ui.adsabs.harvard.edu/link_gateway/1972ApJ...176..315R/doi:10.1086/151636\n",
    "<br><br>    \n",
    "\n",
    "Sersic, Jose Luis: Atlas de Galaxias Australes (1968)<br>\n",
    "http://articles.adsabs.harvard.edu/pdf/1968adga.book.....S\n",
    "<br><br>\n",
    "\n",
    "Stark, Antony A.: Triaxial Models of the Bulge of M31 (1977)<br>\n",
    "https://ui.adsabs.harvard.edu/link_gateway/1977ApJ...213..368S/doi:10.1086/155164\n",
    "<br><br>\n",
    "    \n",
    "I. Trujillo, A. Asensio Ramos, J. A. Rubiño-Martín, Alister W. Graham, J. A. L. Aguerri, J. Cepa, C. M. Gutiérrez: Triaxial stellar systems following the r1/n luminosity law: an analytical mass–density expression, gravitational torques and the bulge/disc interplay (2002)<br>\n",
    "https://doi.org/10.1046/j.1365-8711.2002.05367.x\n",
    "<br><br>\n",
    "\n",
    "van Houten, C. J.: Surface photometry of extragalactic nebulae (Errata: 17 310) (1961)<br>\n",
    "https://ui.adsabs.harvard.edu/abs/1961BAN....16....1V\n",
    "<br><br>\n",
    "    \n",
    "Young, P. J.: Tables of functions for a spherical galaxy obeying the 7-1/1 law in projection (1976)<br>\n",
    "https://ui.adsabs.harvard.edu/link_gateway/1976AJ.....81..807Y/doi:10.1086/111959\n",
    "<br><br>"
   ]
  },
  {
   "cell_type": "markdown",
   "metadata": {},
   "source": [
    "__Additional articles:__<br>\n",
    "E. Noordermeer, J. M. van der Hulst, R. Sancisi, R. A. Swaters and T. S. van Albada: The Westerbork HI survey of spiral and irregular galaxies - III. HI observations of early-type disk galaxies (2005)<br>\n",
    "https://doi.org/10.1051/0004-6361:20053172 \n",
    "<br><br>\n",
    "\n",
    "Raul Jimenez, Licia Verde, S. Peng Oh: Dark halo properties from rotation curves (2003)<br>\n",
    "https://doi.org/10.1046/j.1365-8711.2003.06165.x\n",
    "<br><br>"
   ]
  },
  {
   "cell_type": "markdown",
   "metadata": {},
   "source": [
    "# BibTex"
   ]
  },
  {
   "cell_type": "raw",
   "metadata": {},
   "source": [
    "@article{10.1111/j.1365-2966.2008.12837.x,\n",
    "    author = {Noordermeer, Edo},\n",
    "    title = \"{The rotation curves of flattened Sérsic bulges}\",\n",
    "    journal = {Monthly Notices of the Royal Astronomical Society},\n",
    "    volume = {385},\n",
    "    number = {3},\n",
    "    pages = {1359-1364},\n",
    "    year = {2008},\n",
    "    month = {03},\n",
    "    abstract = \"{I present a method to deproject the observed intensity profile of an axisymmetric bulge with arbitrary flattening to derive the three-dimensional luminosity density profile, and to calculate the contribution of the bulge to the rotation curve. I show the rotation curves for a family of fiducial bulges with Sérsic surface brightness profiles and with various concentrations and intrinsic axis ratios. Both parameters have a profound impact on the shape of the rotation curve. In particular, I show how the peak rotation velocity, as well as the radius where it is reached, depends on both parameters.I also discuss the implications of the flattening of a bulge for the decomposition of a rotation curve and use the case of NGC 5533 to show the errors that result from neglecting it. For NGC 5533, neglecting the flattening of the bulge leads to an overestimate of its mass-to-light ratio by approximately 30 per cent and an underestimate of the contributions from the stellar disc and dark matter halo in the regions outside the bulge-dominated area.}\",\n",
    "    issn = {0035-8711},\n",
    "    doi = {10.1111/j.1365-2966.2008.12837.x},\n",
    "    url = {https://doi.org/10.1111/j.1365-2966.2008.12837.x},\n",
    "    eprint = {https://academic.oup.com/mnras/article-pdf/385/3/1359/3289474/mnras0385-1359.pdf},\n",
    "}"
   ]
  },
  {
   "cell_type": "raw",
   "metadata": {},
   "source": [
    "@article{10.1093/mnras/267.2.283,\n",
    "    author = {Andredakis, Y. C. and Sanders, R. H.},\n",
    "    title = \"{Exponential bulges in late-type spirals: an improved description of the light distribution}\",\n",
    "    journal = {Monthly Notices of the Royal Astronomical Society},\n",
    "    volume = {267},\n",
    "    number = {2},\n",
    "    pages = {283-296},\n",
    "    year = {1994},\n",
    "    month = {03},\n",
    "    abstract = \"{In many cases the modeling of spiral galaxies by an exponential disc and an r1/4-law bulge does not satisfactorily describe the mean radial distribution of light. This is most evident in non-linear least-squares fitting techniques in which the resulting effective radius and surface brightness of the bulge are characterized by large uncertainties and are scattered over large ranges, in sharp contrast to their disc counterparts. We attempt to decompose the major-axis profiles of 34 late-type spirals in terms of an alternative model consisting of an exponential disc and an exponential bulge, using seeing-convolved models. The results of this decomposition show that this model is superior in the statistical aspects of the fitting procedure, in the sense that the various goodness-of-fit indicators are better and the residuals are smaller. The fact that it also confines the parameters of the bulge to a range whose narrowness is comparable to that of the parameters of the disc indicates that this model has the potential to give a better and more consistent description of the bulges of late-type spirals.}\",\n",
    "    issn = {0035-8711},\n",
    "    doi = {10.1093/mnras/267.2.283},\n",
    "    url = {https://doi.org/10.1093/mnras/267.2.283},\n",
    "    eprint = {https://academic.oup.com/mnras/article-pdf/267/2/283/18223824/mnras267-0283.pdf},\n",
    "}"
   ]
  },
  {
   "cell_type": "raw",
   "metadata": {},
   "source": [
    "@article{10.1093/mnras/275.3.874,\n",
    "    author = {Andredakis, Y. C. and Peletier, R. F. and Balcells, M.},\n",
    "    title = \"{The shape of the luminosity profiles of bulges of spiral galaxies}\",\n",
    "    journal = {Monthly Notices of the Royal Astronomical Society},\n",
    "    volume = {275},\n",
    "    number = {3},\n",
    "    pages = {874-888},\n",
    "    year = {1995},\n",
    "    month = {08},\n",
    "    abstract = \"{Using a 2D generalization of Kent’s model-independent decomposition method, we extract the K-band light profiles of the bulges of a sample of field galaxies with morphological types ranging from S0 to Sbc. We then examine the shape of the bulge profiles, by means of fitting a seeing-convolved power law of the form µ(r) ∝ r1/n, where the exponent n is allowed to vary. The best-fitting exponent n is found to vary systematically from values around 1 (exponential) to 6 from late- to early- type bulges; the profiles tend to fall off more steeply in the outer parts for the later types. The same trend is seen as a function of bulge to disc ratio. Application of the method to artificial data proves that this result is not caused by disc-light contamination. There are also indications that n becomes larger with increasing total luminosity and radius of the bulge. A similar relation has recently been found for elliptical galaxies. The smooth trend of n with morphological type shows that the formation of or interaction with the disc has affected the density distribution of the bulge.}\",\n",
    "    issn = {0035-8711},\n",
    "    doi = {10.1093/mnras/275.3.874},\n",
    "    url = {https://doi.org/10.1093/mnras/275.3.874},\n",
    "    eprint = {https://academic.oup.com/mnras/article-pdf/275/3/874/2806683/mnras275-0874.pdf},\n",
    "}"
   ]
  },
  {
   "cell_type": "raw",
   "metadata": {},
   "source": [
    "@ARTICLE{1991ApJ...374L..13B,\n",
    "       author = {{Bertola}, F. and {Vietri}, M. and {Zeilinger}, W.~W.},\n",
    "        title = \"{Triaxiality in Disk Galaxies}\",\n",
    "      journal = {\\apjl},\n",
    "     keywords = {Axes (Reference Lines), Disk Galaxies, Galactic Bulge, Galactic Structure, Astronomical Photometry, Elliptical Galaxies, Probability Distribution Functions, Astrophysics, GALAXIES: PHOTOMETRY, GALAXIES: STRUCTURE},\n",
    "         year = 1991,\n",
    "        month = jun,\n",
    "       volume = {374},\n",
    "        pages = {L13},\n",
    "          doi = {10.1086/186060},\n",
    "       adsurl = {https://ui.adsabs.harvard.edu/abs/1991ApJ...374L..13B},\n",
    "      adsnote = {Provided by the SAO/NASA Astrophysics Data System}\n",
    "}"
   ]
  },
  {
   "cell_type": "raw",
   "metadata": {},
   "source": [
    "@book{binney2011galactic,\n",
    "  title={Galactic dynamics},\n",
    "  author={Binney, James and Tremaine, Scott},\n",
    "  year={2011},\n",
    "  publisher={Princeton university press}\n",
    "}"
   ]
  },
  {
   "cell_type": "raw",
   "metadata": {},
   "source": [
    "@ARTICLE{1981AJ.....86.1825B,\n",
    "       author = {{Bosma}, A.},\n",
    "        title = \"{21-cm line studies of spiral galaxies. II. The distribution and kinematics of neutral hydrogen in spiral galaxies of various morphological types.}\",\n",
    "      journal = {\\aj},\n",
    "     keywords = {Mass-Luminosity Relation:Spiral Galaxies, Neutral Hydrogen:Spiral Galaxies, Spiral Galaxies:Kinematics, Spiral Galaxies:Mass Distribution},\n",
    "         year = 1981,\n",
    "        month = dec,\n",
    "       volume = {86},\n",
    "        pages = {1825-1846},\n",
    "          doi = {10.1086/113063},\n",
    "       adsurl = {https://ui.adsabs.harvard.edu/abs/1981AJ.....86.1825B},\n",
    "      adsnote = {Provided by the SAO/NASA Astrophysics Data System}\n",
    "}"
   ]
  },
  {
   "cell_type": "raw",
   "metadata": {},
   "source": [
    "@article{10.1093/mnras/203.3.735,\n",
    "    author = {Casertano, Stefano},\n",
    "    title = \"{Rotation curve of the edge-on spiral galaxy NGC 5907: disc and halo masses}\",\n",
    "    journal = {Monthly Notices of the Royal Astronomical Society},\n",
    "    volume = {203},\n",
    "    number = {3},\n",
    "    pages = {735-747},\n",
    "    year = {1983},\n",
    "    month = {07},\n",
    "    abstract = \"{The dynamical consequences of a truncation in the disc of a spiral galaxy, like that suggested by the sharp decline of luminosity observed in the outer parts of some edge-on galaxies, are investigated, in relation to the interpretation of observed velocity curves. The disc truncation leaves a ‘signature’ on the rotation curve, in the form of a region of nearly constant velocity, followed by a steep decline of velocity just outside the truncation. Such a feature is clearly present in the observed rotation curve of NGC 5907, in which the luminosity truncation is also present.The observed velocity curve of NGC 5907 can be well reproduced by a two-component model, with a smooth spherical distribution of ‘dark mass’ (a halo) superimposed on the luminous disc. The best-fitting values for the mass in the disc and in the halo (inside the optical truncation) are 9 and 13.5 × 1010 solar masses, respectively. The mass-to-light ratio (luminosity in the J band) is about 11, in solar units.The model predicts the values of some quantities, such as the thickness of the gas layer, that could possibly be observed in the near future, thus providing a clear-cut test of the model itself.}\",\n",
    "    issn = {0035-8711},\n",
    "    doi = {10.1093/mnras/203.3.735},\n",
    "    url = {https://doi.org/10.1093/mnras/203.3.735},\n",
    "    eprint = {https://academic.oup.com/mnras/article-pdf/203/3/735/3165477/mnras203-0735.pdf},\n",
    "}"
   ]
  },
  {
   "cell_type": "raw",
   "metadata": {},
   "source": [
    "@ARTICLE{1991A&A...249...99C,\n",
    "       author = {{Ciotti}, L.},\n",
    "        title = \"{Stellar systems following the R1/m luminosity law.}\",\n",
    "      journal = {\\aap},\n",
    "     keywords = {Elliptical Galaxies, Galactic Structure, Luminosity, Stellar Systems, Dynamic Characteristics, Energy Distribution, Kinematics, Astrophysics},\n",
    "         year = 1991,\n",
    "        month = sep,\n",
    "       volume = {249},\n",
    "        pages = {99-106},\n",
    "       adsurl = {https://ui.adsabs.harvard.edu/abs/1991A&A...249...99C},\n",
    "      adsnote = {Provided by the SAO/NASA Astrophysics Data System}\n",
    "}"
   ]
  },
  {
   "cell_type": "raw",
   "metadata": {},
   "source": [
    "@article{10.1093/mnras/290.3.533,\n",
    "    author = {de Blok, W. J. G. and McGaugh, S. S.},\n",
    "    title = \"{The dark and visible matter content of low surface brightness disc galaxies}\",\n",
    "    journal = {Monthly Notices of the Royal Astronomical Society},\n",
    "    volume = {290},\n",
    "    number = {3},\n",
    "    pages = {533-552},\n",
    "    year = {1997},\n",
    "    month = {09},\n",
    "    abstract = \"{We present mass models of a sample of 19 low surface brightness (LSB) galaxies and compare the properties of their constituent mass components with those of a sample of high surface brightness (HSB) galaxies. We find that LSB galaxies are dark matter dominated. Their halo parameters are only slightly affected by assumptions on stellar mass-to-light ratios. Comparing LSB and HSB galaxies we find that mass models derived using the maximum disc hypothesis result in the discs of LSB galaxies having systematically higher stellar mass-to-light ratios than HSB galaxies of similar rotation velocity. This is inconsistent with all other available evidence on the evolution of LSB galaxies. We argue therefore that the maximum disc hypothesis does not provide a representative description of the LSB galaxies and their evolution. Mass models with stellar mass-to-light ratios determined by the colours and stellar velocity dispersions of galactic discs imply that LSB galaxies have dark matter haloes that are more extended and less dense than those of HSB galaxies. Surface brightness is thus related to the halo properties. LSB galaxies are slowly evolving, low-density and dark matter dominated galaxies.}\",\n",
    "    issn = {0035-8711},\n",
    "    doi = {10.1093/mnras/290.3.533},\n",
    "    url = {https://doi.org/10.1093/mnras/290.3.533},\n",
    "    eprint = {https://academic.oup.com/mnras/article-pdf/290/3/533/18540302/290-3-533.pdf},\n",
    "}"
   ]
  },
  {
   "cell_type": "raw",
   "metadata": {},
   "source": [
    "@ARTICLE{1958ApJ...128..465D,\n",
    "       author = {{de Vaucouleurs}, G.},\n",
    "        title = \"{Photoelectric photometry of the Andromeda Nebula in the UBV system.}\",\n",
    "      journal = {\\apj},\n",
    "         year = 1958,\n",
    "        month = nov,\n",
    "       volume = {128},\n",
    "        pages = {465},\n",
    "          doi = {10.1086/146564},\n",
    "       adsurl = {https://ui.adsabs.harvard.edu/abs/1958ApJ...128..465D},\n",
    "      adsnote = {Provided by the SAO/NASA Astrophysics Data System}\n",
    "}"
   ]
  },
  {
   "cell_type": "raw",
   "metadata": {},
   "source": [
    "@article{de vaucouleurs_1974, \n",
    "    author={De Vaucouleurs, G.}, \n",
    "    title={Structure, Dynamics and Statistical Properties of Galaxies}, \n",
    "    volume={58}, \n",
    "    DOI={10.1017/S007418090002430X}, \n",
    "    journal={Symposium - International Astronomical Union}, \n",
    "    publisher={Cambridge University Press}, \n",
    "    year={1974}, \n",
    "    pages={1–53}\n",
    "}"
   ]
  },
  {
   "cell_type": "raw",
   "metadata": {},
   "source": [
    "@article{Erwin_1999,\n",
    "\tdoi = {10.1086/312169},\n",
    "\turl = {https://doi.org/10.1086%2F312169},\n",
    "\tyear = 1999,\n",
    "\tmonth = {aug},\n",
    "\tpublisher = {{IOP} Publishing},\n",
    "\tvolume = {521},\n",
    "\tnumber = {1},\n",
    "\tpages = {L37--L40},\n",
    "\tauthor = {Peter Erwin and Linda S. Sparke},\n",
    "\ttitle = {Triple Bars and Complex Central Structures in Disk Galaxies},\n",
    "\tjournal = {The Astrophysical Journal},\n",
    "\tabstract = {We present an analysis of ground-based and Hubble Space Telescope images of three early-type barred galaxies. The first, NGC 2681, may be the clearest example yet of a galaxy with three concentric bars. The two other galaxies were previously suggested to be triple barred. Our analysis shows that while NGC 3945 is probably double barred, NGC 4371 has only one bar; but both have intriguing central structures. NGC 3945 has a large, extremely bright disk inside its primary bar, with patchy dust lanes, a faint nuclear ring or pseudoring within the disk, and an apparent secondary bar crossing the ring. NGC 4371 has a bright nuclear ring that is only marginally bluer than the surrounding bulge and bar. There is no evidence for significant dust or star formation in either of these nuclear rings. The presence of stellar nuclear rings suggests that the centers of these galaxies are dynamically cool and disklike.}\n",
    "}"
   ]
  },
  {
   "cell_type": "raw",
   "metadata": {},
   "source": [
    "@article{Erwin_2002,\n",
    "\tdoi = {10.1086/340803},\n",
    "\turl = {https://doi.org/10.1086%2F340803},\n",
    "\tyear = 2002,\n",
    "\tmonth = {jul},\n",
    "\tpublisher = {{IOP} Publishing},\n",
    "\tvolume = {124},\n",
    "\tnumber = {1},\n",
    "\tpages = {65--77},\n",
    "\tauthor = {Peter Erwin and Linda S. Sparke},\n",
    "\ttitle = {Double Bars, Inner Disks, and Nuclear Rings in Early-Type Disk Galaxies},\n",
    "\tjournal = {The Astronomical Journal},\n",
    "\tabstract = {We present results from a survey of an unbiased sample of 38 early-type (S0–Sa), low-inclination, optically barred galaxies in the field, using images both from the ground and from space. Our goal was to find and characterize central stellar and gaseous structures: secondary bars, inner disks, and nuclear rings. We find that bars inside bars are surprisingly common: at least one-quarter of the sample galaxies (possibly as many as 40%) are double barred, with no preference for Hubble type or the strength of the primary bar. A typical secondary bar is ∼12% of the size of its primary bar and extends to 240–750 pc in radius. Secondary bars are not systematically either parallel or perpendicular to the primary; we see cases where they lead the primary bar in rotation and others where they trail, which supports the hypothesis that the two bars of a double-bar system rotate independently. We see no significant effect of secondary bars on nuclear activity: our double-barred galaxies are no more likely to harbor a Seyfert or LINER nucleus than our single-barred galaxies. We find kiloparsec-scale inner disks in at least 20% of our sample; they occur almost exclusively in S0 galaxies. These disks are on average 20% the size of their host bar and show a wider range of relative sizes than do secondary bars. Nuclear rings are present in about a third of our sample. Most of these rings are dusty, sites of current or recent star formation, or both; such rings are preferentially found in Sa galaxies. Three S0 galaxies (8% of the sample, but 15% of the S0's) appear to have purely stellar nuclear rings, with no evidence for dust or recent star formation. The fact that these central stellar structures are so common indicates that the inner regions of early-type barred galaxies typically contain dynamically cool and disklike structures. This is especially true for S0 galaxies, where secondary bars, inner disks, and/or stellar nuclear rings are present at least two-thirds of the time. If we interpret nuclear rings, secondary bars, and (possibly) inner disks and nuclear spirals as signs of inner Lindblad resonances (ILRs), then between one and two-thirds of barred S0–Sa galaxies show evidence for ILRs.}\n",
    "}"
   ]
  },
  {
   "cell_type": "raw",
   "metadata": {},
   "source": [
    "@article{Graham_2001,\n",
    "\tdoi = {10.1086/318767},\n",
    "\turl = {https://doi.org/10.1086%2F318767},\n",
    "\tyear = 2001,\n",
    "\tmonth = {feb},\n",
    "\tpublisher = {{IOP} Publishing},\n",
    "\tvolume = {121},\n",
    "\tnumber = {2},\n",
    "\tpages = {820--840},\n",
    "\tauthor = {Alister W. Graham},\n",
    "\ttitle = {An Investigation into the Prominence of Spiral Galaxy Bulges},\n",
    "\tjournal = {The Astronomical Journal},\n",
    "\tabstract = {From a diameter-limited sample of 86 low-inclination (face-on) spiral galaxies, the bulge-to-disk size and luminosity ratios and other quantitative measurements for the prominence of the bulge are derived. The bulge and disk parameters have been estimated using a seeing-convolved Sérsic r1/n bulge and a seeing-convolved exponential disk that were fitted to the optical (B, R, and I) and near-infrared (K) galaxy light profiles. In general, early-type spiral galaxy bulges have Sérsic values of n > 1, and late-type spiral galaxy bulges have values of n 3 σ) for the early-type spirals than for the late-type spirals. Two new parameters are introduced to measure the prominence of the bulge. The first is the difference between the central surface brightness of the galaxy and the surface brightness level at which the bulge and disk contribute equally. The other test uses the radius at which the contribution from the disk and bulge light are equal, normalized for the effect of intrinsically different galaxy sizes. Both of these parameters reveal that the early-type spiral galaxies \"appear\" to have significantly (more than 2 σ in all passbands) bigger and brighter bulges than late-type spiral galaxies. This apparent contradiction with the re/h values can be explained with an iceberg-like scenario, in which the bulges in late-type spiral galaxies are relatively submerged in their disk. This can be achieved by varying the relative stellar density while maintaining the same effective bulge-to-disk ratio. The B/D luminosity ratio and the concentration index C31, in agreement with past studies, are positively correlated and decrease as one moves along the spiral Hubble sequence toward later spiral galaxy types, although for galaxies with large extended bulges the concentration index no longer traces the B/D luminosity ratio in a one-to-one fashion. A strong (Spearman's rank-order correlation coefficient, rs = 0.80) and highly significant positive correlation exists between the shape, n, of the bulge light profile and the bulge-to-disk luminosity ratio. The absolute bulge magnitude–log n diagram is used as a diagnostic tool for comparative studies with dwarf elliptical and ordinary elliptical galaxies. At least in the B band these objects occupy distinctly different regions of this parameter space. While the dwarf elliptical galaxies appear to be the faint extension to the brighter elliptical galaxies, the bulges of spiral galaxies do not; for a given luminosity they have a noticeably smaller shape parameter and hence a more dramatic decline of stellar density at large radii.}\n",
    "}"
   ]
  },
  {
   "cell_type": "raw",
   "metadata": {},
   "source": [
    "@article{Khosroshahi_2000,\n",
    "\tdoi = {10.1086/308654},\n",
    "\turl = {https://doi.org/10.1086%2F308654},\n",
    "\tyear = 2000,\n",
    "\tmonth = {apr},\n",
    "\tpublisher = {{IOP} Publishing},\n",
    "\tvolume = {533},\n",
    "\tnumber = {1},\n",
    "\tpages = {162--171},\n",
    "\tauthor = {Habib G. Khosroshahi and Yogesh Wadadekar and Ajit Kembhavi},\n",
    "\ttitle = {Correlations among Global Photometric Properties of Disk Galaxies},\n",
    "\tjournal = {The Astrophysical Journal},\n",
    "\tabstract = {Using a two-dimensional galaxy image decomposition technique, we extract global bulge and disk parameters for a complete sample of early-type disk galaxies in the near-infrared K band. We find significant correlation of the bulge parameter n with the central bulge surface brightness μb(0) and with effective radius re. Using bivariate analysis techniques, we find that log n, log re, and μb(0) are distributed in a plane with small scatter. We do not find a strong correlation of n with bulge-to-disk luminosity ratio, contrary to earlier reports. For these early-type disk galaxies, re and the disk scale length rd are well correlated, but with large scatter. We examine the implications of our results for various bulge formation scenarios in disk galaxies.}\n",
    "}"
   ]
  },
  {
   "cell_type": "raw",
   "metadata": {},
   "source": [
    "@article{ refId0,\n",
    "\tauthor = {{M\\'endez-Abreu, J.} and {Aguerri, J. A. L.} and {Corsini, E. M.} and {Simonneau, E.}},\n",
    "\ttitle = {Structural properties of disk galaxies* - I. The intrinsic equatorial ellipticity of bulges},\n",
    "\tDOI= \"10.1051/0004-6361:20078089\",\n",
    "\turl= \"https://doi.org/10.1051/0004-6361:20078089\",\n",
    "\tjournal = {A\\&A},\n",
    "\tyear = 2008,\n",
    "\tvolume = 478,\n",
    "\tnumber = 2,\n",
    "\tpages = \"353-369\",\n",
    "}"
   ]
  },
  {
   "cell_type": "raw",
   "metadata": {},
   "source": [
    "@ARTICLE{1997ApJ...490..493N,\n",
    "       author = {{Navarro}, Julio F. and {Frenk}, Carlos S. and {White}, Simon D.~M.},\n",
    "        title = \"{A Universal Density Profile from Hierarchical Clustering}\",\n",
    "      journal = {\\apj},\n",
    "     keywords = {Cosmology: Theory, Cosmology: Dark Matter, Galaxies: Halos, Methods: Numerical, Astrophysics},\n",
    "         year = 1997,\n",
    "        month = dec,\n",
    "       volume = {490},\n",
    "       number = {2},\n",
    "        pages = {493-508},\n",
    "          doi = {10.1086/304888},\n",
    "archivePrefix = {arXiv},\n",
    "       eprint = {astro-ph/9611107},\n",
    " primaryClass = {astro-ph},\n",
    "       adsurl = {https://ui.adsabs.harvard.edu/abs/1997ApJ...490..493N},\n",
    "      adsnote = {Provided by the SAO/NASA Astrophysics Data System}\n",
    "}"
   ]
  },
  {
   "cell_type": "raw",
   "metadata": {},
   "source": [
    "@phdthesis{3f86c99308c64b02b5c32d7531bf0ab6,\n",
    "title = \"The distribution of Gas, Stars and Dark Matter in early-type disk galaxies\",\n",
    "abstract = \"Het is al lang bekend dat het heelal veel meer materie bevat dan we kunnen waarnemen in de vorm van sterren en gas. Naast deze 'zichtbare materie' moet er ook veel zogenaamde 'donkere materie' zijn, materie die geen elektromagnetische straling uitzendt en wier aanwezigheid we alleen kunnen afleiden uit de zwaartekracht die ze uitoefent op haar omgeving. Hoewel de bewijzen voor het bestaan van donkere materie overtuigend zijn, is er nog erg weinig bekend over de ware aard van deze mysterieuze substantie. In sterrenstelsels kan de aanwezigheid van donkere materie worden aangetoond door de rotatiesnelheden van sterren en gas rondom het centrum van de stelsels te meten. Sinds het eind van de jaren zeventig is het bekend dat gas en sterren in de buitendelen van spiraal sterrenstelsels veel sneller roteren dan verklaard kan worden uit de zwaartekracht van de zichtbare materie. Het verschil tussen de waargenomen snelheden en voorspellingen op basis van de waargenomen lichtverdeling, kan gebruikt worden om de hoeveelheid donkere materie te bepalen. In dit proefschrift beschrijf ik een onderzoek naar de relatie tussen zichtbare en donkere materie in vroeg-type spiraal sterrenstelsels. Dit is een sub-klasse van spiraalstelsels met een heldere centrale verdikking en diffuse, strakgewonden spiraalarmen. Deze klasse bevat de zwaarste en helderste van alle spiraalstelsels. Tot voor kort was er echter maar weinig bekend over de eigenschappen van donkere materie in deze stelsels. Met behulp van de radiotelescoop van Westerbork en optische telescopen van de sterrenwacht op La Palma zijn de verdeling en bewegingen van sterren en gas in een representatief sample vroeg-type spiraalstelsels in kaart gebracht. Speciale aandacht is besteed aan een nauwkeurige bepaling van de variatie van de rotatiesnelheden met afstand tot het centrum van de stelsels. Door alle beschikbare gegevens te cominberen is vervolgens getracht de verdeling van donkere materie te bepalen.\",\n",
    "author = \"Edo Noordermeer\",\n",
    "note = \"date_submitted:2006 Rights: University of Groningen\",\n",
    "year = \"2006\",\n",
    "language = \"English\",\n",
    "isbn = \"9036724902\",\n",
    "publisher = \"s.n.\",\n",
    "}"
   ]
  },
  {
   "cell_type": "raw",
   "metadata": {},
   "source": [
    "@article{10.1111/j.1365-2966.2007.11532.x,\n",
    "    author = {Noordermeer, E. and Van Der Hulst, J. M.},\n",
    "    title = \"{The stellar mass distribution in early-type disc galaxies: surface photometry and bulge–disc decompositions}\",\n",
    "    journal = {Monthly Notices of the Royal Astronomical Society},\n",
    "    volume = {376},\n",
    "    number = {4},\n",
    "    pages = {1480-1512},\n",
    "    year = {2007},\n",
    "    month = {04},\n",
    "    abstract = \"{We present deep B- and R-band surface photometry for a sample of 21 early-type disc galaxies with morphological types between S0 and Sab and absolute B-band magnitudes between −17 and −22. Six galaxies were also observed in the I-band. We present radial profiles of surface brightness, colour, ellipticity, position angle and deviations of axisymmetry for all galaxies, as well as isophotal and effective radii and total magnitudes. We have decomposed the images into contributions from a spheroidal bulge with a general Sérsic profile and a flat disc with an arbitrary intensity distribution, using an interactive, 2D decomposition technique. We caution against the use of simple 1D decomposition methods and show that they can lead to systematic biases, particularly in the derived bulge parameters.We study in detail the relations between various bulge and disc parameters. In particular, we find that the bulges of our galaxies have surface brightness profiles ranging from exponential to De Vaucouleurs, with the average value of the Sérsic shape parameter n being 2.5. In agreement with previous studies, we find that the shape of the bulge intensity distribution depends on luminosity, with the more luminous bulges having more centrally peaked light profiles (i.e. higher n). By comparing the ellipticity of the isophotes in the bulges to those in the outer, disc-dominated regions, we are able to derive the intrinsic axis ratio qb of the bulges. The average axis ratio is 0.55, with a rms spread of 0.12. None of the bulges in our sample is spherical, whereas in some cases, the bulges can be as flat as qb= 0.3–0.4. The bulge flattening seems to be weakly coupled to luminosity, more luminous bulges being on average slightly more flattened than their lower luminosity counterparts. Our finding that most bulges are significantly flattened and have an intensity profile shallower than R1/4 suggests that ‘pseudo-bulges’, formed from disc material by secular processes, do not occur in late-type spiral galaxies only, but are a common feature in early-type disc galaxies as well.Most galaxies in our sample have radial colour gradients, becoming bluer towards larger radii. Although this can partly be explained by the radially declining contribution of the red bulges to the observed light, we show that discs must also have intrinsic colour gradients.}\",\n",
    "    issn = {0035-8711},\n",
    "    doi = {10.1111/j.1365-2966.2007.11532.x},\n",
    "    url = {https://doi.org/10.1111/j.1365-2966.2007.11532.x},\n",
    "    eprint = {https://academic.oup.com/mnras/article-pdf/376/4/1480/18664651/mnras0376-1480.pdf},\n",
    "}"
   ]
  },
  {
   "cell_type": "raw",
   "metadata": {},
   "source": [
    "@article{10.1111/j.1365-2966.2007.11533.x,\n",
    "    author = {Noordermeer, E. and Van Der Hulst, J. M. and Sancisi, R. and Swaters, R. S. and Van Albada, T. S.},\n",
    "    title = \"{The mass distribution in early-type disc galaxies: declining rotation curves and correlations with optical properties}\",\n",
    "    journal = {Monthly Notices of the Royal Astronomical Society},\n",
    "    volume = {376},\n",
    "    number = {4},\n",
    "    pages = {1513-1546},\n",
    "    year = {2007},\n",
    "    month = {04},\n",
    "    abstract = \"{We present rotation curves for 19 early-type disc galaxies (S0–Sab). The galaxies span a B-band absolute magnitude range from −17.5 to −22, but the majority have a high luminosity with MB \\\\&lt; −20. Rotation velocities are measured from a combination of H i velocity fields and long-slit optical emission line spectra along the major axis; the resulting rotation curves probe the gravitational potential on scales ranging from 100 pc to 100 kpc.We find that the rotation curves generally rise rapidly in the central regions and often reach rotation velocities of 200–300 km s−1 within a few hundred parsecs of the centre. The detailed shape of the central rotation curves shows a clear dependence on the concentration of the stellar light distribution and the bulge-to-disc luminosity ratio: galaxies with highly concentrated stellar light distributions reach the maximum in their rotation curves at relatively smaller radii than galaxies with small bulges and a relatively diffuse light distribution. We interpret this as a strong indication that the dynamics in the central regions are dominated by the stellar mass.At intermediate radii, many rotation curves decline, with the asymptotic rotation velocity typically 10–20 per cent lower than the maximum. The strength of the decline is correlated with the total luminosity of the galaxies, more luminous galaxies having on average more strongly declining rotation curves. At large radii, however, all declining rotation curves flatten out, indicating that substantial amounts of dark matter must be present in these galaxies too.A comparison of our rotation curves with the Universal Rotation Curve from Persic et al. reveals large discrepancies between the observed and predicted rotation curves; we argue that rotation curves form a multiparameter family which is too complex to describe with a simple formula depending on total luminosity only.In a number of galaxies from our sample, there is evidence for the presence of rapidly rotating gas in the inner few hundred parsecs from the centres. The inferred central masses and mass densities are too high to be explained by the observed stellar components and suggest the presence of supermassive black holes in these galaxies.}\",\n",
    "    issn = {0035-8711},\n",
    "    doi = {10.1111/j.1365-2966.2007.11533.x},\n",
    "    url = {https://doi.org/10.1111/j.1365-2966.2007.11533.x},\n",
    "    eprint = {https://academic.oup.com/mnras/article-pdf/376/4/1513/18665089/mnras0376-1513.pdf},\n",
    "}"
   ]
  },
  {
   "cell_type": "raw",
   "metadata": {},
   "source": [
    "@article{Palunas_2000,\n",
    "\tdoi = {10.1086/316878},\n",
    "\turl = {https://doi.org/10.1086%2F316878},\n",
    "\tyear = 2000,\n",
    "\tmonth = {dec},\n",
    "\tpublisher = {{IOP} Publishing},\n",
    "\tvolume = {120},\n",
    "\tnumber = {6},\n",
    "\tpages = {2884--2903},\n",
    "\tauthor = {Povilas Palunas and T. B. Williams},\n",
    "\ttitle = {Maximum Disk Mass Models for Spiral Galaxies},\n",
    "\tjournal = {The Astronomical Journal},\n",
    "\tabstract = {We present axisymmetric maximum disk mass models for a sample of 74 spiral galaxies taken from the southern sky Fabry-Perot Tully-Fisher survey by Schommer et al. The sample contains galaxies spanning a large range of morphologies and having rotation widths from 180 km s -1 to 680 km s -1. For each galaxy we have an I-band image and a two-dimensional Hα velocity field. We decompose the disk and bulge by fitting models directly to the I-band image. This method utilizes both the distinct surface brightness profiles and shapes of the projected disk and bulge in the galaxy images. The luminosity profiles and rotation curves are derived using consistent centers, position angles, and inclinations derived from the photometry and velocity maps. The distribution of mass is modeled as a sum of disk and bulge components with distinct, constant mass-to-light ratios. No dark matter halo is included in the fits. The models reproduce the overall structure of the rotation curves in the majority of galaxies, providing good fits to galaxies that exhibit pronounced structural differences in their surface brightness profiles. Of galaxies for which the rotation curve is measured to R23.5 or beyond 75% are well fitted by a mass-traces-light model for the entire region within R23.5. The models for about 20% of the galaxies do not fit well; the failure of most of these models is traced directly to nonaxisymmetric structures, primarily bars but also strong spiral arms. The median I-band M/L of the disk plus bulge is 2.4 ± 0.9 h75 in solar units, consistent with normal stellar populations. These results require either that the mass of dark matter within the optical disk of spiral galaxies is small or that its distribution is very precisely coupled to the distribution of luminous matter.}\n",
    "}"
   ]
  },
  {
   "cell_type": "raw",
   "metadata": {},
   "source": [
    "@article{10.1093/mnras/278.1.27,\n",
    "    author = {Persic, Massimo and Salucci, Paolo and Stel, Fulvio},\n",
    "    title = \"{The universal rotation curve of spiral galaxies — I. The dark matter connection}\",\n",
    "    journal = {Monthly Notices of the Royal Astronomical Society},\n",
    "    volume = {281},\n",
    "    number = {1},\n",
    "    pages = {27-47},\n",
    "    year = {1996},\n",
    "    month = {07},\n",
    "    abstract = \"{We use a homogeneous sample of about 1100 optical and radio rotation curves (RCs) and relative surface photometry to investigate the main mass structure properties of spirals, over a range of 6 mag and out to ≾ 1.5 and 2 optical radii (for the optical and radio data, respectively). We confirm the strong dependence on luminosity for both the profile and the amplitude of RCs claimed by Persic \\\\&amp; Salucci. Spiral RCs show the striking feature that a single global parameter, e.g. luminosity, dictates the rotational velocity at any radius for any object, so revealing the existence of a universal RC. At high luminosities, there is a slight discrepancy between the profiles of RCs and those predicted from the luminous matter (LM) distributions: this implies a small, yet detectable, amount of dark matter (DM). At low luminosities, the failure of the LM prediction is much more severe, and the DM is the only relevant mass component. We show that the universal RC implies a number of scaling properties between dark and luminous galactic structure parameters: (i) the DM/LM mass ratio scales inversely with luminosity; (ii) the central halo density scales as L−0.7; (iii) the halo core radius is comparable to the optical radius, but shrinks for low luminosities; (iv) the total halo mass scales as L0.5. Such scaling properties can be represented as a curve in the (luminosity)-(DM/LM mass ratio)-(DM core radius)-(DM central density) space, which provides a geometrical description of the tight coupling between the dark and the luminous matter in spiral galaxies.}\",\n",
    "    issn = {0035-8711},\n",
    "    doi = {10.1093/mnras/278.1.27},\n",
    "    url = {https://doi.org/10.1093/mnras/278.1.27},\n",
    "    eprint = {https://academic.oup.com/mnras/article-pdf/281/1/27/30383982/281-1-27.pdf},\n",
    "}"
   ]
  },
  {
   "cell_type": "raw",
   "metadata": {},
   "source": [
    "@ARTICLE{1975ApJ...201..327R,\n",
    "       author = {{Roberts}, M.~S. and {Whitehurst}, R.~N.},\n",
    "        title = \"{The rotation curve and geometry of M31 at large galactocentric distances.}\",\n",
    "      journal = {\\apj},\n",
    "         year = 1975,\n",
    "        month = oct,\n",
    "       volume = {201},\n",
    "        pages = {327-346},\n",
    "          doi = {10.1086/153889},\n",
    "       adsurl = {https://ui.adsabs.harvard.edu/abs/1975ApJ...201..327R},\n",
    "      adsnote = {Provided by the SAO/NASA Astrophysics Data System}\n",
    "}"
   ]
  },
  {
   "cell_type": "raw",
   "metadata": {},
   "source": [
    "@ARTICLE{1972ApJ...176..315R,\n",
    "       author = {{Rogstad}, D.~H. and {Shostak}, G.~S.},\n",
    "        title = \"{Gross Properties of Five Scd Galaxies as Determined from 21-CENTIMETER Observations}\",\n",
    "      journal = {\\apj},\n",
    "         year = 1972,\n",
    "        month = sep,\n",
    "       volume = {176},\n",
    "        pages = {315},\n",
    "          doi = {10.1086/151636},\n",
    "       adsurl = {https://ui.adsabs.harvard.edu/abs/1972ApJ...176..315R},\n",
    "      adsnote = {Provided by the SAO/NASA Astrophysics Data System}\n",
    "}"
   ]
  },
  {
   "cell_type": "raw",
   "metadata": {},
   "source": [
    "@BOOK{1968adga.book.....S,\n",
    "       author = {{Sersic}, Jose Luis},\n",
    "        title = \"{Atlas de Galaxias Australes}\",\n",
    "         year = 1968,\n",
    "       adsurl = {https://ui.adsabs.harvard.edu/abs/1968adga.book.....S},\n",
    "      adsnote = {Provided by the SAO/NASA Astrophysics Data System}\n",
    "}"
   ]
  },
  {
   "cell_type": "raw",
   "metadata": {},
   "source": [
    "@ARTICLE{1977ApJ...213..368S,\n",
    "       author = {{Stark}, Antony A.},\n",
    "        title = \"{Triaxial Models of the Bulge of M31}\",\n",
    "      journal = {\\apj},\n",
    "         year = 1977,\n",
    "        month = apr,\n",
    "       volume = {213},\n",
    "        pages = {368-373},\n",
    "          doi = {10.1086/155164},\n",
    "       adsurl = {https://ui.adsabs.harvard.edu/abs/1977ApJ...213..368S},\n",
    "      adsnote = {Provided by the SAO/NASA Astrophysics Data System}\n",
    "}"
   ]
  },
  {
   "cell_type": "raw",
   "metadata": {},
   "source": [
    "@article{10.1046/j.1365-8711.2002.05367.x,\n",
    "    author = {Trujillo, I. and Asensio Ramos, A. and Rubiño-Martín, J. A. and Graham, Alister W. and Aguerri, J. A. L. and Cepa, J. and Gutiérrez, C. M.},\n",
    "    title = \"{Triaxial stellar systems following the r1/n luminosity law: an analytical mass–density expression, gravitational torques and the bulge/disc interplay}\",\n",
    "    journal = {Monthly Notices of the Royal Astronomical Society},\n",
    "    volume = {333},\n",
    "    number = {3},\n",
    "    pages = {510-516},\n",
    "    year = {2002},\n",
    "    month = {07},\n",
    "    abstract = \"{We have investigated the structural and dynamical properties of triaxial stellar systems whose surface brightness profiles follow the r1/n luminosity law – extending the analysis by Ciotti, who explored the properties of spherical r1/n systems. A new analytical expression that accurately reproduces the spatial (i.e., deprojected) luminosity density profiles (error less than 0.1 per cent) is presented for detailed modelling of the Sérsic family of luminosity profiles. We evaluate both the symmetric and the non-axisymmetric components of the gravitational potential and force, and compute the torques as a function of position. For a given triaxiality, stellar systems with smaller values of n have a greater non-axisymmetric gravitational field component. We also explore the strength of the non-axisymmetric forces produced by bulges with differing n and triaxiality on systems having a range of bulge-to-disc ratios. The increasing disc-to-bulge ratio with increasing galaxy type (decreasing n) is found to greatly reduce the amplitude of the non-axisymmetric terms, and therefore reduce the possibility that triaxial bulges in late-type systems may be the mechanism or perturbation for non-symmetric structures in the disc.Using seeing-convolved r1/n-bulge plus exponential-disc fits to the K-band data from a sample of 80 nearby disc galaxies, we probe the relations between galaxy type, Sérsic index n and the bulge-to-disc luminosity ratio. These relations are shown to be primarily a consequence of the relation between n and the total bulge luminosity. In the K band, the trend of decreasing bulge-to-disc luminosity ratio along the spiral Hubble sequence is predominantly, though not entirely, a consequence of the change in the total bulge luminosity; the trend between the total disc luminosity and Hubble type is much weaker.}\",\n",
    "    issn = {0035-8711},\n",
    "    doi = {10.1046/j.1365-8711.2002.05367.x},\n",
    "    url = {https://doi.org/10.1046/j.1365-8711.2002.05367.x},\n",
    "    eprint = {https://academic.oup.com/mnras/article-pdf/333/3/510/3216602/333-3-510.pdf},\n",
    "}"
   ]
  },
  {
   "cell_type": "raw",
   "metadata": {},
   "source": [
    "@ARTICLE{1961BAN....16....1V,\n",
    "       author = {{van Houten}, C.~J.},\n",
    "        title = \"{Surface photometry of extragalactic nebulae (Errata: 17 310)}\",\n",
    "      journal = {\\bain},\n",
    "         year = 1961,\n",
    "        month = nov,\n",
    "       volume = {16},\n",
    "        pages = {1},\n",
    "       adsurl = {https://ui.adsabs.harvard.edu/abs/1961BAN....16....1V},\n",
    "      adsnote = {Provided by the SAO/NASA Astrophysics Data System}\n",
    "}"
   ]
  },
  {
   "cell_type": "raw",
   "metadata": {},
   "source": [
    "@ARTICLE{1976AJ.....81..807Y,\n",
    "       author = {{Young}, P.~J.},\n",
    "        title = \"{Tables of functions for a spherical galaxy obeying the 7-1/1 law in projection}\",\n",
    "      journal = {\\aj},\n",
    "         year = 1976,\n",
    "        month = oct,\n",
    "       volume = {81},\n",
    "        pages = {807},\n",
    "          doi = {10.1086/111959},\n",
    "       adsurl = {https://ui.adsabs.harvard.edu/abs/1976AJ.....81..807Y},\n",
    "      adsnote = {Provided by the SAO/NASA Astrophysics Data System}\n",
    "}"
   ]
  },
  {
   "cell_type": "code",
   "execution_count": null,
   "metadata": {},
   "outputs": [],
   "source": []
  },
  {
   "cell_type": "code",
   "execution_count": null,
   "metadata": {},
   "outputs": [],
   "source": []
  },
  {
   "cell_type": "code",
   "execution_count": null,
   "metadata": {},
   "outputs": [],
   "source": []
  },
  {
   "cell_type": "raw",
   "metadata": {},
   "source": [
    "@article{ refId0,\n",
    "\tauthor = {{Noordermeer, E.} and {van der Hulst, J. M.} and {Sancisi, R.} and {Swaters, R. A.} and {van Albada, T. S.}},\n",
    "\ttitle = {The Westerbork HI survey of spiral and irregular galaxies - III. HI observations of early-type disk galaxies },\n",
    "\tDOI= \"10.1051/0004-6361:20053172\",\n",
    "\turl= \"https://doi.org/10.1051/0004-6361:20053172\",\n",
    "\tjournal = {A\\&A},\n",
    "\tyear = 2005,\n",
    "\tvolume = 442,\n",
    "\tnumber = 1,\n",
    "\tpages = \"137-157\",\n",
    "}"
   ]
  },
  {
   "cell_type": "raw",
   "metadata": {},
   "source": [
    "@article{10.1046/j.1365-8711.2003.06165.x,\n",
    "    author = {Jimenez, Raul and Verde, Licia and Oh, S. Peng},\n",
    "    title = \"{Dark halo properties from rotation curves}\",\n",
    "    journal = {Monthly Notices of the Royal Astronomical Society},\n",
    "    volume = {339},\n",
    "    number = {1},\n",
    "    pages = {243-259},\n",
    "    year = {2003},\n",
    "    month = {02},\n",
    "    abstract = \"{We study a large set of high spatial resolution optical rotation curves of galaxies with the goal of determining the model parameters for a disc embedded within a cold dark matter (CDM) halo, which we model with either a Navarro—Frenk—White (NFW) profile or pseudo-isothermal profile. We show that parameter degeneracies present in lower resolution data are lifted at these higher resolutions. 34 per cent of the galaxies do not have a meaningful fit when using the NFW profile and 32 per cent when using the pseudo-isothermal profile, however only 14 per cent do not have a meaningful fit in either model. In both models we find correlations between the disc baryon fraction fd and the spin parameter of the halo λ′, between fd and the dark halo mass M200, and between M200 and the concentration parameter c. We show that the distribution of the concentration parameter c, for a NFW halo, is in good agreement with CDM predictions; no significant galaxy population is found with very low values of c. The overall distribution of λ′ is in good agreement with theoretical predictions from hierarchical tidal torque theory. The whole sample is also well fitted by a pseudo-isothermal dark halo with a core, but the size of the core is rather small (6 per cent of the virial radius or smaller; for 70 per cent of the sample the core size is less than 2 kpc). Thus we conclude that the profile of dark matter is steep (r−1 or steeper) down to this radius; large dark matter cores (and therefore very low dark matter central densities) seem to be excluded. Low-surface-brightness galaxies tend to have higher values of λ′ for a given fd and lower values of c for a given mass than high-surface-brightness galaxies. In an appendix we give some useful formulae for pseudo-isothermal profile haloes and we discuss in detail the issue of parameter degeneracies.}\",\n",
    "    issn = {0035-8711},\n",
    "    doi = {10.1046/j.1365-8711.2003.06165.x},\n",
    "    url = {https://doi.org/10.1046/j.1365-8711.2003.06165.x},\n",
    "    eprint = {https://academic.oup.com/mnras/article-pdf/339/1/243/3557948/339-1-243.pdf},\n",
    "}"
   ]
  },
  {
   "cell_type": "code",
   "execution_count": null,
   "metadata": {},
   "outputs": [],
   "source": []
  }
 ],
 "metadata": {
  "kernelspec": {
   "display_name": "Python 3",
   "language": "python",
   "name": "python3"
  },
  "language_info": {
   "codemirror_mode": {
    "name": "ipython",
    "version": 3
   },
   "file_extension": ".py",
   "mimetype": "text/x-python",
   "name": "python",
   "nbconvert_exporter": "python",
   "pygments_lexer": "ipython3",
   "version": "3.7.1"
  }
 },
 "nbformat": 4,
 "nbformat_minor": 2
}
