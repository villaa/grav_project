{
 "cells": [
  {
   "cell_type": "code",
   "execution_count": 1,
   "metadata": {},
   "outputs": [],
   "source": [
    "import numpy as np\n",
    "import matplotlib.pyplot as plt\n",
    "\n",
    "import sys\n",
    "sys.path.append('../python/')\n",
    "import noordermeer as noord"
   ]
  },
  {
   "cell_type": "markdown",
   "metadata": {},
   "source": [
    "# Noordermeer's thesis"
   ]
  },
  {
   "cell_type": "markdown",
   "metadata": {},
   "source": [
    "The origin of the grey uncertainty band is a little fuzzy still. Noordermeer described it in his thesis. These quotes are below:<br><br>\n",
    "\n",
    "<b>Pg 161</b> of Noordermeer's thesis:<br>\n",
    "\"_We also estimate the uncertainty in the inclination $\\Delta i$(r). This was estimated by eye,\n",
    "based on the spread of the individual data points around the fitted values and the comparison\n",
    "between the tilted ring inclination angles and optical ellipticity. In general, we let the uncertainty\n",
    "$\\Delta i$ increase with radius, in order to account for the possibility of undetected or misfitted\n",
    "warps in the outer gas disks of the galaxies. The adopted uncertainties in the inclination angle\n",
    "are shown with the shaded regions in the bottom middle panels in the figures in appendix 4-I._\"\n",
    "\n",
    "\n",
    "<b>Pg 168</b> of Noordermeer's thesis:<br>\n",
    "\"_The third contribution to the rotation curve errors comes from the uncertainty in the orientation\n",
    "of the gas disks. The main contribution comes from the uncertainty $\\Delta i$ in the inclination\n",
    "angle, estimated as in section 4.3.1. Errors in position angle are usually much smaller, and\n",
    "moreover, only contribute in second order to the rotation curve errors; in practice, the effect\n",
    "of position angle errors can be neglected compared to the uncertainties in inclination. The\n",
    "effect of the inclination error on the rotation curves is derived as follows. The rotation velocities\n",
    "$V_{rot}$ in the rotation curve can be written as $V_{rot} \\propto V_{rad}$ = sin $i$, where $V_{rad}$ is the measured\n",
    "radial velocity from either the optical spectrum or the Hi velocity field. Thus, an error $\\Delta i$ in\n",
    "the inclination leads to an error $\\Delta V_i$ in the rotation velocity of_<br>\n",
    "\n",
    "\\begin{equation}\n",
    "\\Delta V_i =\\frac{V_{rot}}{tan(i)} \\Delta i_{rad}; (4.2)\n",
    "\\end{equation}\n",
    "\n",
    "_where $\\Delta i_{rad}$ is measured in radians. So, not only is it more di\u000ecult to derive the inclination\n",
    "accurately for near face-on galaxies, the resulting uncertainty in the rotation velocities due to\n",
    "a given error $\\Delta i$ becomes progressively larger as well.\n",
    "The derived errors $\\Delta V_i$ are indicated with the shaded regions in the bottom right panels\n",
    "in the figures in appendix 4-I; for clarity, they are drawn around the smoothed rotation curves,\n",
    "rather than around the individual data points. Note that these errors account not only for\n",
    "systematic offsets of the rotation curves, but also for the effect of undetected or misfitted\n",
    "warps, which would alter the shape of the rotation curves._\"\n",
    "\n",
    "<b>Pg 189</b> of Noordermeer's thesis:\n",
    "\"_...we have assumed rather conservative values\n",
    "for the uncertainty $\\Delta i$ in the inclinations, such that the corresponding uncertainties $\\Delta V_i$ in the\n",
    "rotation curve (indicated with the shaded area in the figures in appendix 4-I) also include,\n",
    "at least partly, the uncertainties introduced by the orientation of the spiral arm_.\""
   ]
  },
  {
   "cell_type": "markdown",
   "metadata": {},
   "source": [
    "![UGC9133](UGC9133-noordthesis.png)"
   ]
  },
  {
   "cell_type": "markdown",
   "metadata": {},
   "source": [
    "# Trace"
   ]
  },
  {
   "cell_type": "markdown",
   "metadata": {},
   "source": [
    "Problems with splining:\n",
    "There seems to be spikes if the traced data has repeated datapoints on top of each other. For example:<br>\n",
    "&emsp;&emsp;radius &emsp;&emsp;&emsp;&emsp;      velocity<br>\n",
    "&emsp;&emsp;34.6559000&emsp;\t255.1333<br>\n",
    "&emsp;&emsp;34.6560000&emsp;\t254.6397<br>\n",
    "The radius values are close to each other, removing one of this line fixes the spikes in the spline function.\n"
   ]
  },
  {
   "cell_type": "code",
   "execution_count": 2,
   "metadata": {},
   "outputs": [
    {
     "data": {
      "image/png": "[encoded data removed]",
      "text/plain": [
       "<Figure size 648x504 with 1 Axes>"
      ]
     },
     "metadata": {
      "needs_background": "light"
     },
     "output_type": "display_data"
    }
   ],
   "source": [
    "r = np.linspace(0.1,100,200)\n",
    "plt.figure(figsize=(9,7))\n",
    "plt.scatter(noord.r_topband,noord.v_topband)\n",
    "plt.scatter(noord.r_bottomband,noord.v_bottomband)\n",
    "plt.fill_between(r,noord.greyb_bottom(r),noord.greyb_top(r),\n",
    "                     color='#dddddd')\n",
    "plt.xlabel(\"Radius (kpc)\")\n",
    "plt.ylabel(\"Velocity (km/s)\")\n",
    "plt.title(\"Uncertainty band\")\n",
    "plt.xlim(0,100)\n",
    "plt.ylim(0,360)\n",
    "plt.show()"
   ]
  },
  {
   "cell_type": "code",
   "execution_count": null,
   "metadata": {},
   "outputs": [],
   "source": []
  }
 ],
 "metadata": {
  "kernelspec": {
   "display_name": "Python 3",
   "language": "python",
   "name": "python3"
  },
  "language_info": {
   "codemirror_mode": {
    "name": "ipython",
    "version": 3
   },
   "file_extension": ".py",
   "mimetype": "text/x-python",
   "name": "python",
   "nbconvert_exporter": "python",
   "pygments_lexer": "ipython3",
   "version": "3.7.1"
  }
 },
 "nbformat": 4,
 "nbformat_minor": 2
}
