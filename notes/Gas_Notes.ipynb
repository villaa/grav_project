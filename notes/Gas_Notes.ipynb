{
 "cells": [
  {
   "cell_type": "markdown",
   "metadata": {},
   "source": [
    "*These notes are barely started. I just wanted to gather all of the information we do have so that we can make sense of it later.*"
   ]
  },
  {
   "cell_type": "markdown",
   "metadata": {},
   "source": [
    "**From JB/Writeup_notes.ipynb :**\n",
    "\n",
    "## Gas\n",
    "   - Useful links:<br>\n",
    "   [\"HI Rotation Curves of Spiral Galaxies\" by Begeman] (http://adsabs.harvard.edu/abs/1989A%26A...223...47B)<br>\n",
    "   [\"The Westerbork HI survey of spiral and irregular galaxies\" by Noordermeer et. al.] (https://doi.org/10.1051/0004-6361:20053172)<br>\n",
    "   [\"The thickness of the hydrogen layer and the three-dimensional mass distribution in NGC 891\" by\tvan der Kruit] (http://adsabs.harvard.edu/abs/1981A%26A....99..298V)<br>\n",
    "   - Parameters\n",
    "   - Equations\n",
    "   - References \n",
    "\n",
    "## Gas Data\n",
    "   - WHISP <br>\n",
    "    \"WHISP is a survey of the neutral hydrogen component in spiral and irregular galaxies with the Westerbork Synthesis Radio Telescope (WSRT)\"<br>\n",
    "    [WHISP for UGC9133 aka NGC5533] (https://www.astro.rug.nl/~whisp/Database/OverviewCatalog/ListByName/U9133/u9133.html)<br>\n",
    "    [WHISP fits files for galaxies] (http://wow.astron.nl/)\n",
    "   - VIZIER <br>\n",
    "   [VIZIER tables for Noordermeer's paper: \"HI properties of the WHISP early-type disk galaxy sample\"] (http://vizier.u-strasbg.fr/viz-bin/VizieR?-source=J/A%2BA/442/137)\n",
    "\n",
    "*I think this second one might be more about the data of the gas velocity, rather than data pertaining strictly to its own contribution to the rotational velocity.*\n",
    "\n",
    "***"
   ]
  },
  {
   "cell_type": "markdown",
   "metadata": {},
   "source": [
    "**From ../NGC5533_Gas/NGC5533_GasRotationCurve.ipynb :**"
   ]
  },
  {
   "cell_type": "raw",
   "metadata": {},
   "source": [
    "# Equation (Eq.2) from \"Testing Gravitatational Field in Elliptic Galaxies\" paper\n",
    "\n",
    "# parameters\n",
    "c0 = 6                      #concentration parameter\n",
    "A = 30                      #centroid velocity amplitude (km/s)\n",
    "p = 1                       #This parameter was fixed at p = 1, which corresponds to an asymptotically flat rotation curve at large radii\n",
    "\n",
    "def v(r):\n",
    "    return A*r / ((r**2 + c0**2)**(p/2))"
   ]
  },
  {
   "cell_type": "markdown",
   "metadata": {},
   "source": [
    "Equation:\n",
    "\n",
    "\\begin{equation}\n",
    "v(r) = \\frac{Ar}{(r^2+c_0^2)^{p/2})}\n",
    "\\end{equation}\n",
    "\n",
    "Where *v* is velocity, *r* is radius from the center of the galaxy, *A* is the \"centroid velocity amplitude\" in km/s, *c<sub>0</sub>* is the \"concentration parameter\", and *p* is a parameter which relates to the shape of the rotation curve at large radii.\n",
    "\n",
    "**Quotes mean I am not sure what that means, just copying it word-for-word.*"
   ]
  },
  {
   "cell_type": "raw",
   "metadata": {},
   "source": [
    "## Equation from \"Gas rotation, shocks and outflow within the inner 3 kpc of the radio galaxy 3C 33\"\n",
    "# parameters\n",
    "#vsys = 1.78e4                #systemic velocity (km/s)\n",
    "#theta = nf.i                 #disk inclination\n",
    "#c0 = nf.n_c                  #concentration parameter\n",
    "#psi0 = 83.3*(np.pi/180)      #position angle of the line of nodes\n",
    "#A = 453.7                    #centroid velocity amplitude (km/s)\n",
    "#p = 1                        #This parameter was fixed at p = 1, which corresponds to an asymptotically flat rotation curve at large radii\n",
    "\n",
    "def v_gas(R,psi,psi0,A,theta,c0,p):\n",
    "    vsys + A*R*np.cos(psi-psi0)*np.sin(theta)*(np.cos(theta)**p) / ((R**2((np.sin(psi-psi0)**2)+(np.cos(theta)**2)*(np.cos(psi-psi0)**2))+(c0**2)*(np.cos(theta)**2))**(p/2))\n",
    "    r = R * np.cos(psi)\n",
    "    y = R * np.sin(psi)\n",
    "    theta = nf.i\n",
    "    return v_gas(r,y,psi0,A,theta,c0,p)"
   ]
  },
  {
   "cell_type": "markdown",
   "metadata": {},
   "source": [
    "Equation:\n",
    "\n",
    "\\begin{equation}\n",
    "v(r) = v_{sys} + \\frac{A R cos(\\psi-\\psi_0)sin\\theta}{(R^2((sin^2(\\psi-\\psi_0) + cos^2 \\theta)cos^2(\\psi-\\psi_0)) + c_0^2 cos^2\\theta)^{p/2} }\n",
    "\\end{equation}\n",
    "\n",
    "Where in addition to the above parameters, *&psi;<sub>0</sub>* is the position angle of the \"line of nodes\", *&theta;* is the inclination angle of the galaxy, *v<sub>sys</sub>* is the measured heliocentric velocity of the galaxy as a whole, and the following two variable definitions are used:\n",
    "\n",
    "\\begin{equation}\n",
    "r = Rcos\\psi\n",
    "\\end{equation}\n",
    "\n",
    "\\begin{equation}\n",
    "y = Rsin\\psi\n",
    "\\end{equation}"
   ]
  },
  {
   "cell_type": "raw",
   "metadata": {},
   "source": [
    "# From Binney's Galactic Dynamics book\n",
    "\n",
    "# pg 112, The interstellar medium density\n",
    "\n",
    "# parameters                \n",
    "R_g = 2*nf.h_c                    # related to the disk scale length\n",
    "sigma_g = 0.25*nf.drho00_c        # ISM contributes 25% of the total disk surface density at the solar radius R0\n",
    "R_m = 4                           # guess\n",
    "z_g = 0.08                        # thickness of gas, guess\n",
    "g_pref = 1                        # prefactor\n",
    "\n",
    "def rho_g(z,r):\n",
    "    return (sigma_g / (2*z_g)) * np.exp(- r/R_g - R_m/r - np.absolute(z)/z_g)\n",
    "\n",
    "def g_integral(r): \n",
    "    return si.quad(rho_g, 0, np.inf, args=(r))[0]\n",
    "\n",
    "def g_F(r): \n",
    "    a = 4 * np.pi * nf.G * g_integral(r) * g_pref\n",
    "    return a\n",
    "\n",
    "g_Fv = np.vectorize(g_F)\n",
    "\n",
    "def g_v2(r):\n",
    "    return np.sqrt(r * g_Fv(r))"
   ]
  },
  {
   "cell_type": "markdown",
   "metadata": {},
   "source": [
    "Equation:\n",
    "    \n",
    "\\begin{equation}\n",
    "v = \\sqrt{\n",
    "    r 4\\pi G (pref) \\int_0^\\inf\n",
    "        \\frac{\\sigma_g}{2z_g}e^{-r/R_g - R_m/r - |\\frac{z}{z_g}|}\n",
    "}\n",
    "\\end{equation}\n",
    "\n",
    "Where, in addition to the parameters above, *G* is the Newtonian gravitational constant, *pref* is a unitless prefactor, *&sigma;<sub>g</sub>* is the contribution of \"ISM\" to the total disk surface density \"at the solar radius *R<sub>0</sub>*\", *z<sub>g</sub>* is the thickness of the gass, and *R<sub>g</sub>* is \"related to the disk scale length\"."
   ]
  },
  {
   "cell_type": "markdown",
   "metadata": {},
   "source": [
    "### Noordermeer's thesis:"
   ]
  },
  {
   "cell_type": "markdown",
   "metadata": {},
   "source": [
    "__pg 233__:<br>\n",
    "\"For each galaxy, the potential $\\Phi_g(r)$ of the gaseous disk and the corresponding velocities\n",
    "$V_g(r)$ can be derived directly from the observed radial HI distribution from chapter 2 (see\n",
    "below). In practice, a correction has to be made to account for the presence of other elements\n",
    "than hydrogen (mostly helium): <br> \n",
    "$\\Phi_g(r)$ = $\\eta$ $\\Phi_{HI}(r)$. For the canonical helium abundance of\n",
    "10% (by number), $\\eta$ has a value of 1.4.\""
   ]
  },
  {
   "cell_type": "markdown",
   "metadata": {},
   "source": [
    "__6.3.3 the contributions of the gaseous disks__<br>\n",
    "The contributions of the gaseous disks to the rotation curves were derived in a similar fashion\n",
    "as those of the stellar disks. The gas rotation curves were calculated from the radial Hi\n",
    "profiles derived in chapter 2, using the prescriptions of Casertano (1983). We assumed the\n",
    "same vertical distribution for the gas as was assumed for the stellar disks above. For the\n",
    "gas disks, the actual choice for the vertical scale height is even less important than for the\n",
    "stellar disks, because the gas is generally much less centrally concentrated than the stars.\n",
    "Furthermore, the contributions of the gas disks to the overall rotation curves are usually small\n",
    "everywhere and the influence of their flattening on the dynamical structure of the galaxies\n",
    "can be neglected.<br>\n",
    "We do not account here for the presence of other gaseous components in our galaxies,\n",
    "e.g. molecular gas. Several CO-surveys have been carried out in the recent past to study the\n",
    "distribution of molecular gas relative to the stars and the atomic gas (e.g. Sofue et al. 1995,\n",
    "2003;Wong & Blitz 2002). All find that molecular gas is concentrated in the inner parts of the\n",
    "galaxies, with exponential scale lengths comparable to those of the underlying stellar disks\n",
    "(Regan et al. 2001). No substantial column densities of CO emission are generally observed\n",
    "at large radii. But the dynamics in the inner parts of our galaxies are usually completely\n",
    "dominated by the massive stellar bulges, and the presence of additional gas in those regions\n",
    "will have negligible impact compared to the high mass densities of the bulges. Furthermore,\n",
    "236 chapter 6: Dark matter in early-type disk galaxies if the molecular gas indeed has a radial distribution similar to that of the stellar disk, then its presence can be implicitly incorporated in $\\Gamma_d$, the mass-to-light ratio of the disk."
   ]
  },
  {
   "cell_type": "markdown",
   "metadata": {},
   "source": [
    "__pg 23__:<br>\n",
    "All further data reduction was done with GIPSY (Groningen Image Processing System;\n",
    "Vogelaar & Terlouw 2001, http://www.astro.rug.nl/gipsy/). For all data cubes, the continuum\n",
    "was subtracted by fitting, at each line of sight, a first order polynomial to the channels\n",
    "without Hi emission."
   ]
  },
  {
   "cell_type": "markdown",
   "metadata": {},
   "source": [
    "__pg 42__:<br>\n",
    "The HI content of early-type disk galaxies is highly variable. There is a wide range in\n",
    "HI mass-to-light ratios $M_{HI} = L_B$, with the most HI rich galaxies in our sample containing\n",
    "about 2 orders of magnitude more gas, relative to the stellar luminosity, than the most\n",
    "gas-poor systems. The average values for $log(M_{HI} = L_B)$ are $-0:62+-0:44$ and $-0:50+-0:40$\n",
    "in solar units for Sa/Sab and S0/S0a galaxies respectively. The errors give the standard\n",
    "deviations of the distributions."
   ]
  },
  {
   "cell_type": "code",
   "execution_count": null,
   "metadata": {},
   "outputs": [],
   "source": []
  }
 ],
 "metadata": {
  "kernelspec": {
   "display_name": "Python 3",
   "language": "python",
   "name": "python3"
  },
  "language_info": {
   "codemirror_mode": {
    "name": "ipython",
    "version": 3
   },
   "file_extension": ".py",
   "mimetype": "text/x-python",
   "name": "python",
   "nbconvert_exporter": "python",
   "pygments_lexer": "ipython3",
   "version": "3.7.1"
  }
 },
 "nbformat": 4,
 "nbformat_minor": 4
}
