{
 "cells": [
  {
   "cell_type": "markdown",
   "metadata": {},
   "source": [
    "*These notes are barely started. I just wanted to gather all of the information we do have so that we can make sense of it later.*"
   ]
  },
  {
   "cell_type": "markdown",
   "metadata": {},
   "source": [
    "**From JB/Writeup_notes.ipynb :**\n",
    "\n",
    "## Gas\n",
    "   - Useful links:<br>\n",
    "   [\"HI Rotation Curves of Spiral Galaxies\" by Begeman] (http://adsabs.harvard.edu/abs/1989A%26A...223...47B)<br>\n",
    "   [\"The Westerbork HI survey of spiral and irregular galaxies\" by Noordermeer et. al.] (https://doi.org/10.1051/0004-6361:20053172)<br>\n",
    "   [\"The thickness of the hydrogen layer and the three-dimensional mass distribution in NGC 891\" by\tvan der Kruit] (http://adsabs.harvard.edu/abs/1981A%26A....99..298V)<br>\n",
    "   - Parameters\n",
    "   - Equations\n",
    "   - References \n",
    "\n",
    "## Gas Data\n",
    "   - WHISP <br>\n",
    "    \"WHISP is a survey of the neutral hydrogen component in spiral and irregular galaxies with the Westerbork Synthesis Radio Telescope (WSRT)\"<br>\n",
    "    [WHISP for UGC9133 aka NGC5533] (https://www.astro.rug.nl/~whisp/Database/OverviewCatalog/ListByName/U9133/u9133.html)<br>\n",
    "    [WHISP fits files for galaxies] (http://wow.astron.nl/)\n",
    "   - VIZIER <br>\n",
    "   [VIZIER tables for Noordermeer's paper: \"HI properties of the WHISP early-type disk galaxy sample\"] (http://vizier.u-strasbg.fr/viz-bin/VizieR?-source=J/A%2BA/442/137)\n",
    "\n",
    "*I think this second one might be more about the data of the gas velocity, rather than data pertaining strictly to its own contribution to the rotational velocity.*\n",
    "\n",
    "***"
   ]
  },
  {
   "cell_type": "markdown",
   "metadata": {},
   "source": [
    "**From ../NGC5533_Gas/NGC5533_GasRotationCurve.ipynb :**"
   ]
  },
  {
   "cell_type": "raw",
   "metadata": {},
   "source": [
    "# Equation (Eq.2) from \"Testing Gravitatational Field in Elliptic Galaxies\" paper\n",
    "\n",
    "# parameters\n",
    "c0 = 6                      #concentration parameter\n",
    "A = 30                      #centroid velocity amplitude (km/s)\n",
    "p = 1                       #This parameter was fixed at p = 1, which corresponds to an asymptotically flat rotation curve at large radii\n",
    "\n",
    "def v(r):\n",
    "    return A*r / ((r**2 + c0**2)**(p/2))"
   ]
  },
  {
   "cell_type": "markdown",
   "metadata": {},
   "source": [
    "Equation:\n",
    "\n",
    "\\begin{equation}\n",
    "v(r) = \\frac{Ar}{(r^2+c_0^2)^{p/2})}\n",
    "\\end{equation}\n",
    "\n",
    "Where *v* is velocity, *r* is radius from the center of the galaxy, *A* is the \"centroid velocity amplitude\" in km/s, *c<sub>0</sub>* is the \"concentration parameter\", and *p* is a parameter which relates to the shape of the rotation curve at large radii.\n",
    "\n",
    "**Quotes mean I am not sure what that means, just copying it word-for-word.*"
   ]
  },
  {
   "cell_type": "raw",
   "metadata": {},
   "source": [
    "## Equation from \"Gas rotation, shocks and outflow within the inner 3 kpc of the radio galaxy 3C 33\"\n",
    "# parameters\n",
    "#vsys = 1.78e4                #systemic velocity (km/s)\n",
    "#theta = nf.i                 #disk inclination\n",
    "#c0 = nf.n_c                  #concentration parameter\n",
    "#psi0 = 83.3*(np.pi/180)      #position angle of the line of nodes\n",
    "#A = 453.7                    #centroid velocity amplitude (km/s)\n",
    "#p = 1                        #This parameter was fixed at p = 1, which corresponds to an asymptotically flat rotation curve at large radii\n",
    "\n",
    "def v_gas(R,psi,psi0,A,theta,c0,p):\n",
    "    vsys + A*R*np.cos(psi-psi0)*np.sin(theta)*(np.cos(theta)**p) / ((R**2((np.sin(psi-psi0)**2)+(np.cos(theta)**2)*(np.cos(psi-psi0)**2))+(c0**2)*(np.cos(theta)**2))**(p/2))\n",
    "    r = R * np.cos(psi)\n",
    "    y = R * np.sin(psi)\n",
    "    theta = nf.i\n",
    "    return v_gas(r,y,psi0,A,theta,c0,p)"
   ]
  },
  {
   "cell_type": "markdown",
   "metadata": {},
   "source": [
    "Equation:\n",
    "\n",
    "\\begin{equation}\n",
    "v(r) = v_{sys} + \\frac{A R cos(\\psi-\\psi_0)sin\\theta}{(R^2((sin^2(\\psi-\\psi_0) + cos^2 \\theta)cos^2(\\psi-\\psi_0)) + c_0^2 cos^2\\theta)^{p/2} }\n",
    "\\end{equation}\n",
    "\n",
    "Where in addition to the above parameters, *&psi;<sub>0</sub>* is the position angle of the \"line of nodes\", *&theta;* is the inclination angle of the galaxy, *v<sub>sys</sub>* is the measured heliocentric velocity of the galaxy as a whole, and the following two variable definitions are used:\n",
    "\n",
    "\\begin{equation}\n",
    "r = Rcos\\psi\n",
    "\\end{equation}\n",
    "\n",
    "\\begin{equation}\n",
    "y = Rsin\\psi\n",
    "\\end{equation}"
   ]
  },
  {
   "cell_type": "raw",
   "metadata": {},
   "source": [
    "# From Binney's Galactic Dynamics book\n",
    "\n",
    "# pg 112, The interstellar medium density\n",
    "\n",
    "# parameters                \n",
    "R_g = 2*nf.h_c                    # related to the disk scale length\n",
    "sigma_g = 0.25*nf.drho00_c        # ISM contributes 25% of the total disk surface density at the solar radius R0\n",
    "R_m = 4                           # guess\n",
    "z_g = 0.08                        # thickness of gas, guess\n",
    "g_pref = 1                        # prefactor\n",
    "\n",
    "def rho_g(z,r):\n",
    "    return (sigma_g / (2*z_g)) * np.exp(- r/R_g - R_m/r - np.absolute(z)/z_g)\n",
    "\n",
    "def g_integral(r): \n",
    "    return si.quad(rho_g, 0, np.inf, args=(r))[0]\n",
    "\n",
    "def g_F(r): \n",
    "    a = 4 * np.pi * nf.G * g_integral(r) * g_pref\n",
    "    return a\n",
    "\n",
    "g_Fv = np.vectorize(g_F)\n",
    "\n",
    "def g_v2(r):\n",
    "    return np.sqrt(r * g_Fv(r))"
   ]
  },
  {
   "cell_type": "markdown",
   "metadata": {},
   "source": [
    "Equation:\n",
    "    \n",
    "\\begin{equation}\n",
    "v = \\sqrt{\n",
    "    r 4\\pi G (pref) \\int_0^\\inf\n",
    "        \\frac{\\sigma_g}{2z_g}e^{-r/R_g - R_m/r - |\\frac{z}{z_g}|}\n",
    "}\n",
    "\\end{equation}\n",
    "\n",
    "Where, in addition to the parameters above, *G* is the Newtonian gravitational constant, *pref* is a unitless prefactor, *&sigma;<sub>g</sub>* is the contribution of \"ISM\" to the total disk surface density \"at the solar radius *R<sub>0</sub>*\", *z<sub>g</sub>* is the thickness of the gass, and *R<sub>g</sub>* is \"related to the disk scale length\"."
   ]
  },
  {
   "cell_type": "code",
   "execution_count": null,
   "metadata": {},
   "outputs": [],
   "source": []
  }
 ],
 "metadata": {
  "kernelspec": {
   "display_name": "Python 3",
   "language": "python",
   "name": "python3"
  },
  "language_info": {
   "codemirror_mode": {
    "name": "ipython",
    "version": 3
   },
   "file_extension": ".py",
   "mimetype": "text/x-python",
   "name": "python",
   "nbconvert_exporter": "python",
   "pygments_lexer": "ipython3",
   "version": "3.7.4"
  }
 },
 "nbformat": 4,
 "nbformat_minor": 4
}
