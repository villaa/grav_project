{
 "cells": [
  {
   "cell_type": "code",
   "execution_count": 8,
   "metadata": {},
   "outputs": [],
   "source": [
    "#Imports\n",
    "import numpy as np\n",
    "import sympy as sym\n",
    "from matplotlib import pyplot as plt\n",
    "from scipy.integrate import quad\n",
    "from scipy.integrate import dblquad\n",
    "import scipy.optimize as so\n",
    "import scipy.special as ss\n",
    "from scipy.special import ellipe\n",
    "from scipy.special import ellipk"
   ]
  },
  {
   "cell_type": "code",
   "execution_count": 9,
   "metadata": {},
   "outputs": [],
   "source": [
    "#Constants\n",
    "Mbh = 2.7e9                                                 #mass of the central black hole in (solar mass)\n",
    "G = 4.300e-6                                                #gravitational constant (kpc/solar mass*(km/s)^2)\n",
    "h = 8.9                                                     #radial scale-length (kpc)\n",
    "rho00 = 0.31e9                                              #prefactor that will cancel\n",
    "epsdisk = 5.0                                               #from Noordermeer's paper\n",
    "absmag = -22.02                                             #absolute magnitude \n",
    "magsun = 4.42                                               #absolute magnitude of the sun\n",
    "z0 = 0.2*h                                                  #half-thickness (kpc)\n",
    "R = 4*h                                                     #cut-off radius (kpc)\n",
    "d = 0.2*h                                                   #cut-off length upper limits (kpc)\n",
    "L0 = np.power(10, (0.4*(magsun-absmag)))                    #Absolute Magnitude to luminosity\n",
    "n = 2.7                                                     #concentration parameter that describes the curvature of the profile in a radius-magnitude plot, n=4 is de Vaucoileurs profile\n",
    "re = 2.6                                                    #1kpc\n",
    "ups = 2.8                                                   #mass-to-light ratio (from Rotation Curves of Sersic Bulges paper)\n",
    "q = 0.33                                                    #intrinsic axis ratio\n",
    "i = 45*(np.pi/180)                                          #inclination angle\n",
    "L = 3.27e10                                                 #luminosity"
   ]
  },
  {
   "cell_type": "code",
   "execution_count": 10,
   "metadata": {},
   "outputs": [],
   "source": [
    "#Variables\n",
    "x = np.linspace(1, 10, 100)                        #x from/to and line smoothness"
   ]
  },
  {
   "cell_type": "code",
   "execution_count": 11,
   "metadata": {},
   "outputs": [],
   "source": [
    "#############BLACK HOLE####################\n",
    "\n",
    "#equation for orbital velocity\n",
    "def vbh(r, G, Mbh):\n",
    "    return np.sqrt((G*Mbh)/r)"
   ]
  },
  {
   "cell_type": "code",
   "execution_count": null,
   "metadata": {},
   "outputs": [
    {
     "name": "stderr",
     "output_type": "stream",
     "text": [
      "C:\\ProgramData\\Anaconda3\\lib\\site-packages\\ipykernel_launcher.py:31: IntegrationWarning: The occurrence of roundoff error is detected, which prevents \n",
      "  the requested tolerance from being achieved.  The error may be \n",
      "  underestimated.\n",
      "C:\\ProgramData\\Anaconda3\\lib\\site-packages\\ipykernel_launcher.py:34: IntegrationWarning: The maximum number of subdivisions (50) has been achieved.\n",
      "  If increasing the limit yields no improvement it is advised to analyze \n",
      "  the integrand in order to determine the difficulties.  If the position of a \n",
      "  local difficulty can be determined (singularity, discontinuity) one will \n",
      "  probably gain from splitting up the interval and calling the integrator \n",
      "  on the subranges.  Perhaps a special-purpose integrator should be used.\n"
     ]
    }
   ],
   "source": [
    "#############DISK##################\n",
    "\n",
    "###########################################Intermediate Functions#####################################################\n",
    "\n",
    "#Define Initial Functions\n",
    "def x(r,u,xi):\n",
    "    return ((r**2)+(u**2)+(xi**2))/(2*r*u)\n",
    "def px(r,u,xi):\n",
    "    return x(r,u,xi)-(np.sqrt((x(r,u,xi)**2)-1))\n",
    "\n",
    "#Density Piecewise Function\n",
    "def rho0(r, R, h, d):                                      \n",
    "    condlist = [r <= R, (r > R) & (r <= (R+d)), r > (R+d)]\n",
    "    funclist = [lambda r: rho00*np.exp(-r/h), lambda r: rho00*np.exp(-R/h)*(1-((r-R)/d)), lambda r: 0]\n",
    "    return np.piecewise(r, condlist, funclist)\n",
    "#Partial Derivative of rho(u,xi)\n",
    "def durho0(r, R, h, d):                                  \n",
    "    condlist = [r <= R, (r > R) & (r <= (R+d)), r > (R+d)]\n",
    "    funclist = [lambda r: -(1/h)*rho00*np.exp(-r/h), lambda r: -(1/d)*rho00*np.exp(-R/h), lambda r: 0]\n",
    "    return np.piecewise(r, condlist, funclist)\n",
    "\n",
    "#Disk Density Distribution\n",
    "rho_rz = lambda r,z: rho0(r, R, h, d)*(np.power((sym.cosh(z/z0)).evalf(), (-2)))\n",
    "drho_rz = lambda r,z: durho0(r, R, h, d)*(np.power((sym.cosh(z/z0)).evalf(), -2))\n",
    "#Complete Elliptic Integral\n",
    "K = lambda r,u,xi: ellipk(px(r,u,xi)) - ellipe(px(r,u,xi))\n",
    "#Inner Function (3D)\n",
    "f = lambda r,u,z: u*drho_rz(u, z)*(2*K(r,u,z))/(np.pi*np.sqrt(r*u*px(r,u,z)))\n",
    "#Integrate Function\n",
    "f3 = lambda z,r,u: f(r,u,z)\n",
    "intf = lambda r,u: quad(f3, 0, np.inf, args=(r,u,))[0]\n",
    "#integrate outer function\n",
    "intf3 = lambda u,r: intf(r,u)\n",
    "intintf = lambda r: quad(intf3, 0.1, 125, args=(r,))[0]\n",
    "#mass of disk\n",
    "rho_rz_r = lambda z,r: rho_rz(r,z)*r\n",
    "Mdblintrho = dblquad(rho_rz_r,0,125,-125,125)\n",
    "#epsdisk = Mdblintrho/L0\n",
    "pref = epsdisk*(L0/Mdblintrho)\n",
    "#multiplying by epsylon\n",
    "F = lambda r: 4*np.pi*G*intintf(r)*pref\n",
    "\n",
    "######################################################################################################################\n",
    "#Disk Velocity\n",
    "rd = np.linspace(0.1, 125, num=100)\n",
    "Fv = np.vectorize(F)\n",
    "vd = np.sqrt(-rd*Fv(rd)) "
   ]
  },
  {
   "cell_type": "code",
   "execution_count": null,
   "metadata": {},
   "outputs": [],
   "source": [
    "#############BULGE###############\n",
    "\n",
    "#Gamma Function\n",
    "f = lambda x: ss.gammainc(2*n,x)*ss.gamma(2*n)-0.5*ss.gamma(2*n)\n",
    "root = so.brentq(f,0,500000,rtol=0.000001,maxiter=100) #come within 1% of exact root within 100 iterations\n",
    "r0 = re/root**n\n",
    "\n",
    "\n",
    "########################################Intermediate Equations#########################################\n",
    "\n",
    "f = lambda x,m: ((np.exp(-np.power(x/r0, (1/n))))*(np.power(x/r0, ((1/n)-1))))/(np.sqrt((x**2)-(m**2)));\n",
    "g = lambda m: quad(f, m, np.inf,args=(m,))[0]\n",
    "I0 = (L*(root**(2*n)))/(((re**2)*2*np.pi*n)*ss.gamma(2*n))\n",
    "C = (4*G*q*ups*I0)/(r0*np.float(n))*(np.sqrt((np.sin(i)**2)+(1/(q**2))*(np.cos(i)**2)))\n",
    "e2 = 1-(q**2)\n",
    "\n",
    "#integrate outer function\n",
    "h = lambda m,r: C*g(m)*(m**2)/(np.sqrt((r**2)-((m**2)*(e2))))\n",
    "\n",
    "y = np.zeros(np.shape(x))\n",
    "hr = lambda m: h(m,r)\n",
    "for j,r in enumerate(x):\n",
    "    y[j] = quad(h, 0, r,args=(r,))[0]\n",
    "\n",
    "#######################################################################################################\n",
    "\n",
    "#Final Equation\n",
    "vb = np.sqrt(y)"
   ]
  },
  {
   "cell_type": "code",
   "execution_count": null,
   "metadata": {},
   "outputs": [],
   "source": [
    "#Run necessary code from existing notebooks.\n",
    "#Would like to find a way to do all imports and constants once, rather than having to set them within each script.\n",
    "#Primarily the imports would be nice to skip; variables take next to no time.\n",
    "\n",
    "#%run scripts/bulge.py\n",
    "#%run scripts/disk.py\n",
    "#%run scripts/DMhalo.py\n",
    "#%run scripts/blackhole.py"
   ]
  },
  {
   "cell_type": "code",
   "execution_count": null,
   "metadata": {},
   "outputs": [],
   "source": [
    "#Set remaining necessary variables\n",
    "\n",
    "#Will not work until necessary code is determined and set up.\n",
    "\n",
    "r0 = np.linspace(0, 10, 20)\n",
    "vtotal = lambda r: np.sqrt(vcdm(r)**2+vd**2+vbh(r)**2+vb**2)\n",
    "vtotalv = np.vectorize(vtotal)"
   ]
  },
  {
   "cell_type": "code",
   "execution_count": null,
   "metadata": {},
   "outputs": [],
   "source": [
    "#Plot\n",
    "\n",
    "#Will not work until necessary code is determined and set up.\n",
    "\n",
    "fig = plt.figure(figsize=(9.0,8.0))                #size of the plot\n",
    "ax = plt.axes()\n",
    "ax.grid(True)\n",
    "ax.yaxis.grid(True,which='minor',linestyle='--')\n",
    "\n",
    "plt.plot(r0, vtotalv(r0), linestyle='solid', label='Velocity')          \n",
    "\n",
    "plt.axis('tight');                                 #xmin, xmax, ymin, ymax\n",
    "                                                   #or use: plt.xlim(10, 0) plt.ylim(1.2, -1.2);\n",
    "                                                   #or to tighten the bounds: plt.axis('tight')\n",
    "                                                   #or use: plt.axis([0, 15000, 0.5e6, 2.5e6])\n",
    "\n",
    "fig.suptitle('Total Rotation Curve NGC5533', fontsize=18)\n",
    "ax.set(title='NGC 5533')              #labeling axes\n",
    "ax.set_xlim(0,10)\n",
    "ax.set_xlabel('r (kpc)', fontsize=14)\n",
    "ax.set_ylabel('v (km/s)', fontsize=14)\n",
    "ax.xaxis.set_tick_params(labelsize=14)\n",
    "ax.yaxis.set_tick_params(labelsize=14);\n",
    "\n",
    "plt.legend(fontsize=16);                                   #adding legend\n",
    "plt.savefig('total.png')"
   ]
  },
  {
   "cell_type": "code",
   "execution_count": null,
   "metadata": {},
   "outputs": [],
   "source": []
  }
 ],
 "metadata": {
  "kernelspec": {
   "display_name": "Python 3",
   "language": "python",
   "name": "python3"
  },
  "language_info": {
   "codemirror_mode": {
    "name": "ipython",
    "version": 3
   },
   "file_extension": ".py",
   "mimetype": "text/x-python",
   "name": "python",
   "nbconvert_exporter": "python",
   "pygments_lexer": "ipython3",
   "version": "3.7.3"
  }
 },
 "nbformat": 4,
 "nbformat_minor": 2
}
