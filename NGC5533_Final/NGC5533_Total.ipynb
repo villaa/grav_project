{
 "cells": [
  {
   "cell_type": "code",
   "execution_count": 1,
   "metadata": {},
   "outputs": [],
   "source": [
    "#Imports\n",
    "import numpy as np\n",
    "import sympy as sym\n",
    "from matplotlib import pyplot as plt\n",
    "from scipy.integrate import quad\n",
    "from scipy.integrate import dblquad\n",
    "import scipy.optimize as so\n",
    "import scipy.special as ss\n",
    "from scipy.special import ellipe\n",
    "from scipy.special import ellipk"
   ]
  },
  {
   "cell_type": "code",
   "execution_count": 2,
   "metadata": {},
   "outputs": [],
   "source": [
    "#Constants\n",
    "Mbh = 2.7e9                                                 #mass of the central black hole in (solar mass)\n",
    "G = 4.300e-6                                                #gravitational constant (kpc/solar mass*(km/s)^2)\n",
    "h = 8.9                                                     #radial scale-length (kpc)\n",
    "rho00 = 0.31e9                                              #prefactor that will cancel\n",
    "epsdisk = 5.0                                               #from Noordermeer's paper\n",
    "absmag = -22.02                                             #absolute magnitude \n",
    "magsun = 4.42                                               #absolute magnitude of the sun\n",
    "z0 = 0.2*h                                                  #half-thickness (kpc)\n",
    "R = 4*h                                                     #cut-off radius (kpc)\n",
    "d = 0.2*h                                                   #cut-off length upper limits (kpc)\n",
    "L0 = np.power(10, (0.4*(magsun-absmag)))                    #Absolute Magnitude to luminosity\n",
    "n = 2.7                                                     #concentration parameter that describes the curvature of the profile in a radius-magnitude plot, n=4 is de Vaucoileurs profile\n",
    "re = 2.6                                                    #1kpc\n",
    "ups = 2.8                                                   #mass-to-light ratio (from Rotation Curves of Sersic Bulges paper)\n",
    "q = 0.33                                                    #intrinsic axis ratio\n",
    "i = 45*(np.pi/180)                                          #inclination angle\n",
    "L = 3.27e10                                                 #luminosity"
   ]
  },
  {
   "cell_type": "code",
   "execution_count": 3,
   "metadata": {},
   "outputs": [],
   "source": [
    "#Variables\n",
    "x = np.linspace(1, 10, 100)                        #x from/to and line smoothness"
   ]
  },
  {
   "cell_type": "code",
   "execution_count": null,
   "metadata": {},
   "outputs": [
    {
     "name": "stderr",
     "output_type": "stream",
     "text": [
      "scripts/disk.py:42: RuntimeWarning: overflow encountered in cosh\n",
      "  drho_rz = lambda r,z: durho0(r, R, h, d)*(np.power(np.cosh(z/z0), -2))\n",
      "scripts/disk.py:46: RuntimeWarning: invalid value encountered in double_scalars\n",
      "  f = lambda r,u,z: u*drho_rz(u, z)*(2*K(r,u,z))/(np.pi*np.sqrt(r*u*px(r,u,z)))\n",
      "scripts/disk.py:49: IntegrationWarning: The occurrence of roundoff error is detected, which prevents \n",
      "  the requested tolerance from being achieved.  The error may be \n",
      "  underestimated.\n",
      "  intf = lambda r,u: quad(f3, 0, np.inf, args=(r,u,))[0]\n",
      "scripts/disk.py:53: IntegrationWarning: The maximum number of subdivisions (50) has been achieved.\n",
      "  If increasing the limit yields no improvement it is advised to analyze \n",
      "  the integrand in order to determine the difficulties.  If the position of a \n",
      "  local difficulty can be determined (singularity, discontinuity) one will \n",
      "  probably gain from splitting up the interval and calling the integrator \n",
      "  on the subranges.  Perhaps a special-purpose integrator should be used.\n",
      "  intintf = lambda r: quad(intf3, 0.1, 125, args=(r,))[0]\n"
     ]
    }
   ],
   "source": [
    "#Run necessary code from existing notebooks using existing imports and variables\n",
    "\n",
    "#%run -it scripts/bulge.py                   #Time: Roughly 2 minutes\n",
    "%run -it scripts/disk.py                    #Time: \n",
    "%run -i scripts/halo.py                     #Time: Almost 0\n",
    "%run -i scripts/blackhole.py                #Time: Almost 0"
   ]
  },
  {
   "cell_type": "code",
   "execution_count": null,
   "metadata": {},
   "outputs": [],
   "source": [
    "#Set remaining necessary variables\n",
    "r0 = np.linspace(0, 10, 20)\n",
    "\n",
    "#Define remaining necessary functions.\n",
    "vtotal = lambda r: np.sqrt(vcdm(r)**2+vd**2+vbh(r)**2+vb**2)\n",
    "vtotalv = np.vectorize(vtotal)"
   ]
  },
  {
   "cell_type": "code",
   "execution_count": null,
   "metadata": {},
   "outputs": [],
   "source": [
    "#Plot\n",
    "\n",
    "#Will not work until necessary code is determined and set up.\n",
    "\n",
    "fig = plt.figure(figsize=(9.0,8.0))                #size of the plot\n",
    "ax = plt.axes()\n",
    "ax.grid(True)\n",
    "ax.yaxis.grid(True,which='minor',linestyle='--')\n",
    "\n",
    "plt.plot(r0, vtotalv(r0), linestyle='solid', label='Velocity')          \n",
    "\n",
    "fig.suptitle('Total Rotation Curve NGC5533', fontsize=18)\n",
    "ax.set(title='NGC 5533')              #labeling axes\n",
    "ax.set_xlim(0,10)\n",
    "ax.set_xlabel('r (kpc)', fontsize=14)\n",
    "ax.set_ylabel('v (km/s)', fontsize=14)\n",
    "ax.xaxis.set_tick_params(labelsize=14)\n",
    "ax.yaxis.set_tick_params(labelsize=14);\n",
    "\n",
    "plt.savefig('Outputs/total.png')"
   ]
  },
  {
   "cell_type": "code",
   "execution_count": null,
   "metadata": {},
   "outputs": [],
   "source": []
  }
 ],
 "metadata": {
  "kernelspec": {
   "display_name": "Python 3",
   "language": "python",
   "name": "python3"
  },
  "language_info": {
   "codemirror_mode": {
    "name": "ipython",
    "version": 3
   },
   "file_extension": ".py",
   "mimetype": "text/x-python",
   "name": "python",
   "nbconvert_exporter": "python",
   "pygments_lexer": "ipython3",
   "version": "3.7.3"
  }
 },
 "nbformat": 4,
 "nbformat_minor": 2
}
