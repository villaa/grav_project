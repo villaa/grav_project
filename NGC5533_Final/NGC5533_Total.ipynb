{
 "cells": [
  {
   "cell_type": "code",
   "execution_count": 1,
   "metadata": {},
   "outputs": [],
   "source": [
    "#Imports\n",
    "import numpy as np\n",
    "import sympy as sym\n",
    "import h5py as h5\n",
    "from matplotlib import pyplot as plt\n",
    "from scipy.integrate import quad\n",
    "from scipy.integrate import dblquad\n",
    "from scipy.integrate import nquad\n",
    "import scipy.optimize as so\n",
    "import scipy.special as ss\n",
    "from scipy.special import ellipe\n",
    "from scipy.special import ellipk\n",
    "\n",
    "#Settings\n",
    "options={'limit':100} #Set maximum number of subdivisions to 100 instead of 50."
   ]
  },
  {
   "cell_type": "code",
   "execution_count": 2,
   "metadata": {},
   "outputs": [],
   "source": [
    "#Constants\n",
    "Mbh = 2.7e9                                                 #mass of the central black hole in (solar mass)\n",
    "G = 4.300e-6                                                #gravitational constant (kpc/solar mass*(km/s)^2)\n",
    "h = 8.9                                                     #radial scale-length (kpc)\n",
    "rho00 = 0.31e9                                              #prefactor that will cancel\n",
    "epsdisk = 5.0                                               #from Noordermeer's paper\n",
    "absmag = -22.02                                             #absolute magnitude \n",
    "magsun = 4.42                                               #absolute magnitude of the sun\n",
    "z0 = 0.2*h                                                  #half-thickness (kpc)\n",
    "R = 4*h                                                     #cut-off radius (kpc)\n",
    "d = 0.2*h                                                   #cut-off length upper limits (kpc)\n",
    "L0 = np.power(10, (0.4*(magsun-absmag)))                    #Absolute Magnitude to luminosity\n",
    "n = 2.7                                                     #concentration parameter that describes the curvature of the profile in a radius-magnitude plot, n=4 is de Vaucoileurs profile\n",
    "re = 2.6                                                    #1kpc\n",
    "ups = 2.8                                                   #mass-to-light ratio (from Rotation Curves of Sersic Bulges paper)\n",
    "q = 0.33                                                    #intrinsic axis ratio\n",
    "i = 45*(np.pi/180)                                          #inclination angle\n",
    "L = 3.27e10                                                 #luminosity\n",
    "rc = 1.4                                                    #core radius (kpc)"
   ]
  },
  {
   "cell_type": "code",
   "execution_count": 3,
   "metadata": {},
   "outputs": [],
   "source": [
    "#Variables\n",
    "xd = np.linspace(1, 10, 100)                        #x from/to and line smoothness\n",
    "r0 = np.linspace(0.1, 10, 100)                       #radius over which plotting will be done"
   ]
  },
  {
   "cell_type": "code",
   "execution_count": 13,
   "metadata": {},
   "outputs": [],
   "source": [
    "#Set up savedata\n",
    "\n",
    "r0id = \"varray_\"+str(r0[0])+\"-\"+str(r0[len(r0)-1])+\"_\"+str(len(r0))+\".hdf5\"\n",
    "location = \"Inputs/\"+r0id\n",
    "\n",
    "saved = h5.File(location)"
   ]
  },
  {
   "cell_type": "code",
   "execution_count": null,
   "metadata": {},
   "outputs": [
    {
     "name": "stderr",
     "output_type": "stream",
     "text": [
      "Scripts/bulge.py:54: IntegrationWarning: The integral is probably divergent, or slowly convergent.\n",
      "  g = lambda m: quad(fb, m, np.inf,args=(m,))[0]\n",
      "Scripts/bulge.py:59: IntegrationWarning: The maximum number of subdivisions (50) has been achieved.\n",
      "  If increasing the limit yields no improvement it is advised to analyze \n",
      "  the integrand in order to determine the difficulties.  If the position of a \n",
      "  local difficulty can be determined (singularity, discontinuity) one will \n",
      "  probably gain from splitting up the interval and calling the integrator \n",
      "  on the subranges.  Perhaps a special-purpose integrator should be used.\n",
      "  y = lambda r: quad(H,0,r,args=(r,))[0]\n",
      "Scripts/bulge.py:54: IntegrationWarning: The algorithm does not converge.  Roundoff error is detected\n",
      "  in the extrapolation table.  It is assumed that the requested tolerance\n",
      "  cannot be achieved, and that the returned result (if full_output = 1) is \n",
      "  the best which can be obtained.\n",
      "  g = lambda m: quad(fb, m, np.inf,args=(m,))[0]\n"
     ]
    }
   ],
   "source": [
    "#Run necessary code using existing imports and variables\n",
    "\n",
    "%run -i Scripts/bulge.py                    #Time: Roughly 2 minutes if building, Almost 0 if not.\n",
    "%run -i Scripts/disk.py                     #Time: 40 Minutes if building, Almost 0 if not.\n",
    "%run -i Scripts/halo.py                     #Time: Almost 0\n",
    "%run -i Scripts/blackhole.py                #Time: Almost 0\n",
    "\n",
    "#Total if not building is <1s"
   ]
  },
  {
   "cell_type": "code",
   "execution_count": null,
   "metadata": {},
   "outputs": [],
   "source": [
    "#Define total\n",
    "vtotal = lambda r: np.sqrt(vcdm(r)**2+vd(r)**2+vbh(r)**2+vb(r)**2)\n",
    "\n",
    "vtotalr = np.zeros(len(r0))\n",
    "i = 0\n",
    "while i < len((r0)):\n",
    "    vtotalr[i] = np.sqrt(vcdmr[i]**2+vdr[i]**2+vbhr[i]**2+vbr[i]**2)\n",
    "    i += 1"
   ]
  },
  {
   "cell_type": "code",
   "execution_count": null,
   "metadata": {},
   "outputs": [],
   "source": [
    "#Plot\n",
    "\n",
    "fig = plt.figure(figsize=(9.0,8.0))                #size of the plot\n",
    "ax = plt.axes()\n",
    "ax.grid(True)\n",
    "ax.yaxis.grid(True,which='minor',linestyle='--')\n",
    "\n",
    "plt.plot(r0, vtotalr, linestyle='solid', label='Total')\n",
    "#plt.plot(r0, vdr, linestyle='--', label='Disk')\n",
    "#plt.plot(r0, vcdmr, linestyle='-.', label='Halo')                 #Matches Jiminez from Halo_Velocity.ipynb\n",
    "plt.plot(r0, vbr, linestyle=':', label='Bulge')                   #Doesn't match Bulge_Rotation_Curve_n2_7.ipynb\n",
    "#plt.plot(r0, vbhr, label='Black Hole')                            #Matches BlackHole_Velocity.ipynb\n",
    "\n",
    "fig.suptitle('Total Rotation Curve NGC5533', fontsize=18)\n",
    "ax.set(title='NGC 5533')              #labeling axes\n",
    "ax.set_xlim(0,10)\n",
    "ax.set_xlabel('Radius (kpc)', fontsize=14)\n",
    "ax.set_ylabel('Velocity (km/s)', fontsize=14)\n",
    "ax.xaxis.set_tick_params(labelsize=14)\n",
    "ax.yaxis.set_tick_params(labelsize=14);\n",
    "\n",
    "plt.legend()\n",
    "#plt.axis([0,10,0,250])\n",
    "plt.savefig('Outputs/total.png')"
   ]
  },
  {
   "cell_type": "code",
   "execution_count": 7,
   "metadata": {},
   "outputs": [
    {
     "data": {
      "text/plain": [
       "<HDF5 group \"/disk\" (0 members)>"
      ]
     },
     "execution_count": 7,
     "metadata": {},
     "output_type": "execute_result"
    }
   ],
   "source": [
    "saved[\"disk\"]"
   ]
  },
  {
   "cell_type": "code",
   "execution_count": null,
   "metadata": {},
   "outputs": [],
   "source": []
  }
 ],
 "metadata": {
  "kernelspec": {
   "display_name": "Python 3",
   "language": "python",
   "name": "python3"
  },
  "language_info": {
   "codemirror_mode": {
    "name": "ipython",
    "version": 3
   },
   "file_extension": ".py",
   "mimetype": "text/x-python",
   "name": "python",
   "nbconvert_exporter": "python",
   "pygments_lexer": "ipython3",
   "version": "3.7.3"
  }
 },
 "nbformat": 4,
 "nbformat_minor": 2
}
