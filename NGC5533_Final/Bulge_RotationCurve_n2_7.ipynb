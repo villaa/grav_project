{
 "cells": [
  {
   "cell_type": "code",
   "execution_count": 1,
   "metadata": {},
   "outputs": [],
   "source": [
    "#Imports\n",
    "\n",
    "import numpy as np\n",
    "from matplotlib import pyplot as plt\n",
    "import scipy.integrate as si\n",
    "import scipy.optimize as so\n",
    "import scipy.special as ss"
   ]
  },
  {
   "cell_type": "code",
   "execution_count": 2,
   "metadata": {},
   "outputs": [
    {
     "name": "stdout",
     "output_type": "stream",
     "text": [
      "r0: 0.032457790309459424 [kpc]\n",
      "bn: 5.070574690730433\n",
      "I0: 41024432058.25408\n",
      "Gamma Function Integral at m=10: 4.288869461420851e-06\n"
     ]
    }
   ],
   "source": [
    "#Parameters\n",
    "\n",
    "#Constants\n",
    "n = 2.7                                     #concentration parameter that describes the curvature of the profile in a radius-magnitude plot, n=4 is de Vaucoileurs profile\n",
    "re = 2.6                                    #1kpc\n",
    "L = 3.27e10                                 #luminosity\n",
    "G = 4.300e-6                                #gravitational constant (kpc/solar mass*(km/s)^2)\n",
    "ups = 2.8                                   #mass-to-light ratio (from Rotation Curves of Sersic Bulges paper)\n",
    "q = 0.33                                    #intrinsic axis ratio\n",
    "i = 45*(np.pi/180)                          #inclination angle\n",
    "\n",
    "#Gamma Function\n",
    "f = lambda x: ss.gammainc(2*n,x)*ss.gamma(2*n)-0.5*ss.gamma(2*n)\n",
    "root = so.brentq(f,0,500000,rtol=0.000001,maxiter=100) #come within 1% of exact root within 100 iterations\n",
    "\n",
    "#Inner Function\n",
    "f = lambda x,m: ((np.exp(-np.power(x/r0, (1/n))))*(np.power(x/r0, ((1/n)-1))))/(np.sqrt((x**2)-(m**2)));\n",
    "#Integrate Inner Function\n",
    "g = lambda m: si.quad(f, m, np.inf,args=(m,))[0]\n",
    "gv = np.vectorize(g)\n",
    "\n",
    "I0 = (L*(root**(2*n)))/(((re**2)*2*np.pi*n)*ss.gamma(2*n))\n",
    "r0 = re/root**n\n",
    "\n",
    "#Variables\n",
    "x = np.linspace(1, 10, 100)                        #x from/to and line smoothness\n",
    "\n",
    "#Print Desired Values\n",
    "print(\"r0:\",r0,\"[kpc]\")\n",
    "print(\"bn:\",root)\n",
    "print(\"I0:\",I0)\n",
    "print(\"Gamma Function Integral at m=10:\",g(10))"
   ]
  },
  {
   "cell_type": "code",
   "execution_count": 3,
   "metadata": {},
   "outputs": [
    {
     "data": {
      "image/png": "[encoded data removed]",
      "text/plain": [
       "<Figure size 648x576 with 1 Axes>"
      ]
     },
     "metadata": {
      "needs_background": "light"
     },
     "output_type": "display_data"
    }
   ],
   "source": [
    "#plotting inner integral\n",
    "fig = plt.figure(figsize=(9.0,8.0))                #size of the plot\n",
    "ax = plt.axes()\n",
    "ax.grid(True)\n",
    "ax.yaxis.grid(True,which='minor',linestyle='--')\n",
    "\n",
    "ax.set_yscale('log')\n",
    "\n",
    "#curves\n",
    "plt.plot(x, gv(x), linestyle='solid', label='g(\\u03BA)')          \n",
    "\n",
    "#labeling plots\n",
    "fig.suptitle('Inner Integral', fontsize=16)\n",
    "ax.set(title='Rotation Curves of Sersic Bulges')          #labeling axes\n",
    "ax.set(xlabel='\\u03BA (kpc)', ylabel='g(\\u03BA)');"
   ]
  },
  {
   "cell_type": "code",
   "execution_count": null,
   "metadata": {},
   "outputs": [],
   "source": [
    "#equations\n",
    "C = (4*G*q*ups*I0)/(r0*np.float(n))*(np.sqrt((np.sin(i)**2)+(1/(q**2))*(np.cos(i)**2)))\n",
    "e2 = 1-(q**2)\n",
    "\n",
    "#plot range\n",
    "x = np.linspace(0.001, 19, 200)\n",
    "\n",
    "#integrate outer function\n",
    "h = lambda m,r: C*g(m)*(m**2)/(np.sqrt((r**2)-((m**2)*(e2))))\n",
    "\n",
    "hr = lambda m: h(m,r)\n",
    "def y(r):\n",
    "    return si.quad(h, 0, r, args=(r,))\n",
    "yv = np.vectorize(y)"
   ]
  },
  {
   "cell_type": "code",
   "execution_count": null,
   "metadata": {},
   "outputs": [
    {
     "name": "stderr",
     "output_type": "stream",
     "text": [
      "/home/gerudo7/anaconda3/lib/python3.7/site-packages/ipykernel_launcher.py:19: IntegrationWarning: The integral is probably divergent, or slowly convergent.\n",
      "/home/gerudo7/anaconda3/lib/python3.7/site-packages/scipy/integrate/quadrature.py:802: AccuracyWarning: divmax (10) exceeded. Latest difference = 4.134615e-04\n",
      "  AccuracyWarning)\n",
      "/home/gerudo7/anaconda3/lib/python3.7/site-packages/scipy/integrate/quadrature.py:802: AccuracyWarning: divmax (10) exceeded. Latest difference = 1.004695e-03\n",
      "  AccuracyWarning)\n",
      "/home/gerudo7/anaconda3/lib/python3.7/site-packages/scipy/integrate/quadrature.py:802: AccuracyWarning: divmax (10) exceeded. Latest difference = 1.678356e-03\n",
      "  AccuracyWarning)\n",
      "/home/gerudo7/anaconda3/lib/python3.7/site-packages/scipy/integrate/quadrature.py:802: AccuracyWarning: divmax (10) exceeded. Latest difference = 2.406054e-03\n",
      "  AccuracyWarning)\n",
      "/home/gerudo7/anaconda3/lib/python3.7/site-packages/scipy/integrate/quadrature.py:802: AccuracyWarning: divmax (10) exceeded. Latest difference = 3.172997e-03\n",
      "  AccuracyWarning)\n",
      "/home/gerudo7/anaconda3/lib/python3.7/site-packages/scipy/integrate/quadrature.py:802: AccuracyWarning: divmax (10) exceeded. Latest difference = 3.969969e-03\n",
      "  AccuracyWarning)\n",
      "/home/gerudo7/anaconda3/lib/python3.7/site-packages/scipy/integrate/quadrature.py:802: AccuracyWarning: divmax (10) exceeded. Latest difference = 4.790678e-03\n",
      "  AccuracyWarning)\n",
      "/home/gerudo7/anaconda3/lib/python3.7/site-packages/scipy/integrate/quadrature.py:802: AccuracyWarning: divmax (10) exceeded. Latest difference = 5.630508e-03\n",
      "  AccuracyWarning)\n",
      "/home/gerudo7/anaconda3/lib/python3.7/site-packages/scipy/integrate/quadrature.py:802: AccuracyWarning: divmax (10) exceeded. Latest difference = 6.485966e-03\n",
      "  AccuracyWarning)\n",
      "/home/gerudo7/anaconda3/lib/python3.7/site-packages/scipy/integrate/quadrature.py:802: AccuracyWarning: divmax (10) exceeded. Latest difference = 7.354316e-03\n",
      "  AccuracyWarning)\n",
      "/home/gerudo7/anaconda3/lib/python3.7/site-packages/scipy/integrate/quadrature.py:802: AccuracyWarning: divmax (10) exceeded. Latest difference = 8.233273e-03\n",
      "  AccuracyWarning)\n",
      "/home/gerudo7/anaconda3/lib/python3.7/site-packages/scipy/integrate/quadrature.py:802: AccuracyWarning: divmax (10) exceeded. Latest difference = 9.121057e-03\n",
      "  AccuracyWarning)\n",
      "/home/gerudo7/anaconda3/lib/python3.7/site-packages/scipy/integrate/quadrature.py:802: AccuracyWarning: divmax (10) exceeded. Latest difference = 1.001730e-02\n",
      "  AccuracyWarning)\n",
      "/home/gerudo7/anaconda3/lib/python3.7/site-packages/scipy/integrate/quadrature.py:802: AccuracyWarning: divmax (10) exceeded. Latest difference = 1.091712e-02\n",
      "  AccuracyWarning)\n",
      "/home/gerudo7/anaconda3/lib/python3.7/site-packages/scipy/integrate/quadrature.py:802: AccuracyWarning: divmax (10) exceeded. Latest difference = 1.182240e-02\n",
      "  AccuracyWarning)\n",
      "/home/gerudo7/anaconda3/lib/python3.7/site-packages/scipy/integrate/quadrature.py:802: AccuracyWarning: divmax (10) exceeded. Latest difference = 1.273307e-02\n",
      "  AccuracyWarning)\n",
      "/home/gerudo7/anaconda3/lib/python3.7/site-packages/scipy/integrate/quadrature.py:802: AccuracyWarning: divmax (10) exceeded. Latest difference = 1.364643e-02\n",
      "  AccuracyWarning)\n",
      "/home/gerudo7/anaconda3/lib/python3.7/site-packages/scipy/integrate/quadrature.py:802: AccuracyWarning: divmax (10) exceeded. Latest difference = 1.467724e-02\n",
      "  AccuracyWarning)\n",
      "/home/gerudo7/anaconda3/lib/python3.7/site-packages/scipy/integrate/quadrature.py:802: AccuracyWarning: divmax (10) exceeded. Latest difference = 1.534967e-02\n",
      "  AccuracyWarning)\n",
      "/home/gerudo7/anaconda3/lib/python3.7/site-packages/scipy/integrate/quadrature.py:802: AccuracyWarning: divmax (10) exceeded. Latest difference = 1.623346e-02\n",
      "  AccuracyWarning)\n",
      "/home/gerudo7/anaconda3/lib/python3.7/site-packages/scipy/integrate/quadrature.py:802: AccuracyWarning: divmax (10) exceeded. Latest difference = 1.755281e-02\n",
      "  AccuracyWarning)\n",
      "/home/gerudo7/anaconda3/lib/python3.7/site-packages/scipy/integrate/quadrature.py:802: AccuracyWarning: divmax (10) exceeded. Latest difference = 1.797047e-02\n",
      "  AccuracyWarning)\n",
      "/home/gerudo7/anaconda3/lib/python3.7/site-packages/scipy/integrate/quadrature.py:802: AccuracyWarning: divmax (10) exceeded. Latest difference = 1.916088e-02\n",
      "  AccuracyWarning)\n",
      "/home/gerudo7/anaconda3/lib/python3.7/site-packages/scipy/integrate/quadrature.py:802: AccuracyWarning: divmax (10) exceeded. Latest difference = 1.990870e-02\n",
      "  AccuracyWarning)\n",
      "/home/gerudo7/anaconda3/lib/python3.7/site-packages/scipy/integrate/quadrature.py:802: AccuracyWarning: divmax (10) exceeded. Latest difference = 2.083792e-02\n",
      "  AccuracyWarning)\n",
      "/home/gerudo7/anaconda3/lib/python3.7/site-packages/scipy/integrate/quadrature.py:802: AccuracyWarning: divmax (10) exceeded. Latest difference = 2.183921e-02\n",
      "  AccuracyWarning)\n",
      "/home/gerudo7/anaconda3/lib/python3.7/site-packages/scipy/integrate/quadrature.py:802: AccuracyWarning: divmax (10) exceeded. Latest difference = 2.268179e-02\n",
      "  AccuracyWarning)\n",
      "/home/gerudo7/anaconda3/lib/python3.7/site-packages/scipy/integrate/quadrature.py:802: AccuracyWarning: divmax (10) exceeded. Latest difference = 2.357269e-02\n",
      "  AccuracyWarning)\n",
      "/home/gerudo7/anaconda3/lib/python3.7/site-packages/scipy/integrate/quadrature.py:802: AccuracyWarning: divmax (10) exceeded. Latest difference = 2.459858e-02\n",
      "  AccuracyWarning)\n",
      "/home/gerudo7/anaconda3/lib/python3.7/site-packages/scipy/integrate/quadrature.py:802: AccuracyWarning: divmax (10) exceeded. Latest difference = 2.566417e-02\n",
      "  AccuracyWarning)\n",
      "/home/gerudo7/anaconda3/lib/python3.7/site-packages/scipy/integrate/quadrature.py:802: AccuracyWarning: divmax (10) exceeded. Latest difference = 2.638454e-02\n",
      "  AccuracyWarning)\n",
      "/home/gerudo7/anaconda3/lib/python3.7/site-packages/scipy/integrate/quadrature.py:802: AccuracyWarning: divmax (10) exceeded. Latest difference = 2.733781e-02\n",
      "  AccuracyWarning)\n",
      "/home/gerudo7/anaconda3/lib/python3.7/site-packages/scipy/integrate/quadrature.py:802: AccuracyWarning: divmax (10) exceeded. Latest difference = 2.821036e-02\n",
      "  AccuracyWarning)\n",
      "/home/gerudo7/anaconda3/lib/python3.7/site-packages/scipy/integrate/quadrature.py:802: AccuracyWarning: divmax (10) exceeded. Latest difference = 2.913412e-02\n",
      "  AccuracyWarning)\n",
      "/home/gerudo7/anaconda3/lib/python3.7/site-packages/scipy/integrate/quadrature.py:802: AccuracyWarning: divmax (10) exceeded. Latest difference = 3.009090e-02\n",
      "  AccuracyWarning)\n",
      "/home/gerudo7/anaconda3/lib/python3.7/site-packages/scipy/integrate/quadrature.py:802: AccuracyWarning: divmax (10) exceeded. Latest difference = 3.106762e-02\n",
      "  AccuracyWarning)\n",
      "/home/gerudo7/anaconda3/lib/python3.7/site-packages/scipy/integrate/quadrature.py:802: AccuracyWarning: divmax (10) exceeded. Latest difference = 3.188379e-02\n",
      "  AccuracyWarning)\n",
      "/home/gerudo7/anaconda3/lib/python3.7/site-packages/scipy/integrate/quadrature.py:802: AccuracyWarning: divmax (10) exceeded. Latest difference = 3.269273e-02\n",
      "  AccuracyWarning)\n",
      "/home/gerudo7/anaconda3/lib/python3.7/site-packages/scipy/integrate/quadrature.py:802: AccuracyWarning: divmax (10) exceeded. Latest difference = 3.357496e-02\n",
      "  AccuracyWarning)\n",
      "/home/gerudo7/anaconda3/lib/python3.7/site-packages/scipy/integrate/quadrature.py:802: AccuracyWarning: divmax (10) exceeded. Latest difference = 3.455610e-02\n",
      "  AccuracyWarning)\n",
      "/home/gerudo7/anaconda3/lib/python3.7/site-packages/scipy/integrate/quadrature.py:802: AccuracyWarning: divmax (10) exceeded. Latest difference = 3.533895e-02\n",
      "  AccuracyWarning)\n",
      "/home/gerudo7/anaconda3/lib/python3.7/site-packages/scipy/integrate/quadrature.py:802: AccuracyWarning: divmax (10) exceeded. Latest difference = 3.628914e-02\n",
      "  AccuracyWarning)\n",
      "/home/gerudo7/anaconda3/lib/python3.7/site-packages/scipy/integrate/quadrature.py:802: AccuracyWarning: divmax (10) exceeded. Latest difference = 3.711185e-02\n",
      "  AccuracyWarning)\n",
      "/home/gerudo7/anaconda3/lib/python3.7/site-packages/scipy/integrate/quadrature.py:802: AccuracyWarning: divmax (10) exceeded. Latest difference = 3.796702e-02\n",
      "  AccuracyWarning)\n"
     ]
    }
   ],
   "source": [
    "#Plotting Velocity Squared Function\n",
    "fig = plt.figure(figsize=(9.0,8.0))                #size of the plot\n",
    "ax2 = plt.axes()\n",
    "ax2.grid(True)\n",
    "ax2.yaxis.grid(True,which='minor',linestyle='--')\n",
    "         \n",
    "plt.plot(x, yv(x), linestyle='solid', label='Velocity Squared')\n",
    "\n",
    "#labeling plots\n",
    "fig.suptitle('Velocity Squared', fontsize=16)\n",
    "ax2.set(title='Rotation Curves of Sersic Bulges')          #labeling axes\n",
    "ax2.set(xlabel='radius', ylabel='v^2(r)');"
   ]
  },
  {
   "cell_type": "code",
   "execution_count": null,
   "metadata": {},
   "outputs": [],
   "source": [
    "#Bulge Velocity Curve\n",
    "\n",
    "#equation\n",
    "vb = np.sqrt(y)\n",
    "\n",
    "#Plotting\n",
    "fig = plt.figure(figsize=(9.0,8.0))                 #size of the plot\n",
    "ax3 = plt.axes()\n",
    "ax3.grid(True)\n",
    "ax3.yaxis.grid(True,which='minor',linestyle='--')\n",
    "\n",
    "plt.plot(x, vb, linestyle='solid', label='Velocity(r)')          \n",
    "\n",
    "ax3.set_title('Bulge Rotation Curve', fontsize=18)              #labeling axes\n",
    "ax3.set_xlabel('Radius (kpc)', fontsize=14)\n",
    "ax3.set_ylabel('Velocity (km/s)', fontsize=14)\n",
    "ax3.xaxis.set_tick_params(labelsize=14)\n",
    "ax3.yaxis.set_tick_params(labelsize=14);\n",
    "\n",
    "plt.axis([0,10,0,250])\n",
    "\n",
    "plt.savefig('Outputs/Plot1_n4.png')"
   ]
  },
  {
   "cell_type": "code",
   "execution_count": null,
   "metadata": {},
   "outputs": [],
   "source": []
  }
 ],
 "metadata": {
  "kernelspec": {
   "display_name": "Python 3",
   "language": "python",
   "name": "python3"
  },
  "language_info": {
   "codemirror_mode": {
    "name": "ipython",
    "version": 3
   },
   "file_extension": ".py",
   "mimetype": "text/x-python",
   "name": "python",
   "nbconvert_exporter": "python",
   "pygments_lexer": "ipython3",
   "version": "3.7.3"
  }
 },
 "nbformat": 4,
 "nbformat_minor": 4
}
