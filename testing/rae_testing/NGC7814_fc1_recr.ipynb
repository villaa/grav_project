{
 "cells": [
  {
   "cell_type": "code",
   "execution_count": 1,
   "metadata": {},
   "outputs": [
    {
     "name": "stdout",
     "output_type": "stream",
     "text": [
      "WARNING: DO NOT USE THE disk.hdf5 OR bulge.hdf5 FILES WITH CALCULATIONS FROM THIS LIBRRY!!!!\n",
      "If you do, DISCARD ALL CHANGES TO THE FILE.\n",
      "Your calculations will NOT be consistent with this library's equations if you use the disk.hdf5 or bulge.hdf5 files,\n",
      "and if you write to that file it will contain calculations based on conflicting constants.\n",
      "Worst case scenario, reset the disk.hdf5 file to before the commit where you used this library to write to it.\n"
     ]
    }
   ],
   "source": [
    "import numpy as np\n",
    "import matplotlib.pyplot as plt\n",
    "import scipy.optimize as opt\n",
    "import lmfit as lm\n",
    "import sys\n",
    "sys.path.append('../../python')\n",
    "import dataPython as dp\n",
    "import NGC5533_functions_newmag as nf"
   ]
  },
  {
   "cell_type": "code",
   "execution_count": 2,
   "metadata": {},
   "outputs": [
    {
     "ename": "FileNotFoundError",
     "evalue": "[Errno 2] No such file or directory: '../testing/7814reallydisk.dat'",
     "output_type": "error",
     "traceback": [
      "\u001b[1;31m---------------------------------------------------------------------------\u001b[0m",
      "\u001b[1;31mFileNotFoundError\u001b[0m                         Traceback (most recent call last)",
      "\u001b[1;32m<ipython-input-2-72d16fd6ac03>\u001b[0m in \u001b[0;36m<module>\u001b[1;34m\u001b[0m\n\u001b[0;32m      9\u001b[0m \u001b[1;33m\u001b[0m\u001b[0m\n\u001b[0;32m     10\u001b[0m \u001b[1;31m#disk\u001b[0m\u001b[1;33m\u001b[0m\u001b[1;33m\u001b[0m\u001b[1;33m\u001b[0m\u001b[0m\n\u001b[1;32m---> 11\u001b[1;33m \u001b[0mdisk\u001b[0m \u001b[1;33m=\u001b[0m \u001b[0mdp\u001b[0m\u001b[1;33m.\u001b[0m\u001b[0mgetXYZdata\u001b[0m\u001b[1;33m(\u001b[0m\u001b[1;34m'../testing/7814reallydisk.dat'\u001b[0m\u001b[1;33m)\u001b[0m\u001b[1;33m\u001b[0m\u001b[1;33m\u001b[0m\u001b[0m\n\u001b[0m\u001b[0;32m     12\u001b[0m \u001b[0md\u001b[0m \u001b[1;33m=\u001b[0m \u001b[0mnp\u001b[0m\u001b[1;33m.\u001b[0m\u001b[0masarray\u001b[0m\u001b[1;33m(\u001b[0m\u001b[0mdick\u001b[0m\u001b[1;33m[\u001b[0m\u001b[1;34m'zz'\u001b[0m\u001b[1;33m]\u001b[0m\u001b[1;33m)\u001b[0m\u001b[1;33m\u001b[0m\u001b[1;33m\u001b[0m\u001b[0m\n\u001b[0;32m     13\u001b[0m \u001b[1;33m\u001b[0m\u001b[0m\n",
      "\u001b[1;32m~\\Documents\\GitHub\\grav_project\\python\\dataPython.py\u001b[0m in \u001b[0;36mgetXYZdata\u001b[1;34m(infile)\u001b[0m\n\u001b[0;32m    116\u001b[0m \u001b[1;33m\u001b[0m\u001b[0m\n\u001b[0;32m    117\u001b[0m   \u001b[1;31m#open the file return a dictionary with se,sw,nw,ne elements\u001b[0m\u001b[1;33m\u001b[0m\u001b[1;33m\u001b[0m\u001b[1;33m\u001b[0m\u001b[0m\n\u001b[1;32m--> 118\u001b[1;33m   \u001b[0mf\u001b[0m \u001b[1;33m=\u001b[0m \u001b[0mopen\u001b[0m\u001b[1;33m(\u001b[0m\u001b[0minfile\u001b[0m\u001b[1;33m)\u001b[0m\u001b[1;33m\u001b[0m\u001b[1;33m\u001b[0m\u001b[0m\n\u001b[0m\u001b[0;32m    119\u001b[0m \u001b[1;33m\u001b[0m\u001b[0m\n\u001b[0;32m    120\u001b[0m   \u001b[1;31m#make a list for vector identifier\u001b[0m\u001b[1;33m\u001b[0m\u001b[1;33m\u001b[0m\u001b[1;33m\u001b[0m\u001b[0m\n",
      "\u001b[1;31mFileNotFoundError\u001b[0m: [Errno 2] No such file or directory: '../testing/7814reallydisk.dat'"
     ]
    }
   ],
   "source": [
    "#importing text files\n",
    "#there's no need to import the radius for each component as everything has the same r array (th r array of the raw data)\n",
    "\n",
    "#data:\n",
    "data = dp.getXYdata_wXYerr('../ngc7814data')\n",
    "r = np.asarray(data['xx'])\n",
    "v_dat = np.asarray(data['yy'])\n",
    "v_err1 = np.asarray(data['ey'])\n",
    "\n",
    "#disk\n",
    "disk = dp.getXYZdata('../testing/7814reallydisk.dat')\n",
    "d = np.asarray(dick['zz'])\n",
    "\n",
    "#bulge:\n",
    "bulge = dp.getXYZdata('../../testing/7814reallybulge.dat')\n",
    "b = np.asarray(bulge['zz'])\n",
    "\n",
    "#gas\n",
    "gas = dp.getXYZdata('../../testing/7814gascomp.dat')\n",
    "g = np.asarray(gas['zz'])\n",
    "\n",
    "#define total curve\n",
    "#D=9.25 #disk M-L ratio provided in [1]\n",
    "#B=.5 #bulge M-L ratio provided in [1]\n",
    "\n",
    "def t(r,B,D,rc,rho00,G):\n",
    "    return np.sqrt((D*d)**2\n",
    "                  +(B*b)**2\n",
    "                  +(nf.h_v(r,rc,rho00))**2\n",
    "                  +(G*g)**2)"
   ]
  },
  {
   "cell_type": "code",
   "execution_count": 3,
   "metadata": {},
   "outputs": [
    {
     "ename": "NameError",
     "evalue": "name 't' is not defined",
     "output_type": "error",
     "traceback": [
      "\u001b[1;31m---------------------------------------------------------------------------\u001b[0m",
      "\u001b[1;31mNameError\u001b[0m                                 Traceback (most recent call last)",
      "\u001b[1;32m<ipython-input-3-2f0e0a2ae9ea>\u001b[0m in \u001b[0;36m<module>\u001b[1;34m\u001b[0m\n\u001b[0;32m      9\u001b[0m \u001b[1;33m\u001b[0m\u001b[0m\n\u001b[0;32m     10\u001b[0m \u001b[1;31m#Setup\u001b[0m\u001b[1;33m\u001b[0m\u001b[1;33m\u001b[0m\u001b[1;33m\u001b[0m\u001b[0m\n\u001b[1;32m---> 11\u001b[1;33m \u001b[0mg_mod\u001b[0m \u001b[1;33m=\u001b[0m \u001b[0mlm\u001b[0m\u001b[1;33m.\u001b[0m\u001b[0mModel\u001b[0m\u001b[1;33m(\u001b[0m\u001b[0mt\u001b[0m\u001b[1;33m)\u001b[0m\u001b[1;33m\u001b[0m\u001b[1;33m\u001b[0m\u001b[0m\n\u001b[0m\u001b[0;32m     12\u001b[0m \u001b[0mg_params\u001b[0m \u001b[1;33m=\u001b[0m \u001b[0mg_mod\u001b[0m\u001b[1;33m.\u001b[0m\u001b[0mmake_params\u001b[0m\u001b[1;33m(\u001b[0m\u001b[1;33m)\u001b[0m\u001b[1;33m\u001b[0m\u001b[1;33m\u001b[0m\u001b[0m\n\u001b[0;32m     13\u001b[0m \u001b[1;33m\u001b[0m\u001b[0m\n",
      "\u001b[1;31mNameError\u001b[0m: name 't' is not defined"
     ]
    }
   ],
   "source": [
    "rc = 2.5 #default value\n",
    "rho00 = 1e8 #default value\n",
    "#I forget what these are again\n",
    "\n",
    "v_err1 = v_err1\n",
    "# why^^\n",
    "weighdata = 1/v_err1\n",
    "#LMFit\n",
    "\n",
    "#Setup\n",
    "g_mod = lm.Model(t)\n",
    "g_params = g_mod.make_params()\n",
    "\n",
    "#gas\n",
    "g_params.add('G', value=1, min=.99, max=1.01)\n",
    "#bulge\n",
    "g_params.add('B',value=1,min=0)\n",
    "#disk\n",
    "g_params.add('D',value=1,min=0)\n",
    "#halo\n",
    "g_params.add('rc',value=rc,min=0)\n",
    "g_params.add('rho00',value=rho00, min = 0)\n",
    "\n",
    "#Do fit\n",
    "g_fit = g_mod.fit(v_dat,g_params,r=r,weights=weighdata)"
   ]
  },
  {
   "cell_type": "code",
   "execution_count": 4,
   "metadata": {},
   "outputs": [
    {
     "ename": "NameError",
     "evalue": "name 'g_fit' is not defined",
     "output_type": "error",
     "traceback": [
      "\u001b[1;31m---------------------------------------------------------------------------\u001b[0m",
      "\u001b[1;31mNameError\u001b[0m                                 Traceback (most recent call last)",
      "\u001b[1;32m<ipython-input-4-b35dd49a0ceb>\u001b[0m in \u001b[0;36m<module>\u001b[1;34m\u001b[0m\n\u001b[0;32m      1\u001b[0m \u001b[1;31m#Define for plotting\u001b[0m\u001b[1;33m\u001b[0m\u001b[1;33m\u001b[0m\u001b[1;33m\u001b[0m\u001b[0m\n\u001b[1;32m----> 2\u001b[1;33m \u001b[0mbestg\u001b[0m \u001b[1;33m=\u001b[0m \u001b[0mg_fit\u001b[0m\u001b[1;33m.\u001b[0m\u001b[0mbest_fit\u001b[0m\u001b[1;33m\u001b[0m\u001b[1;33m\u001b[0m\u001b[0m\n\u001b[0m\u001b[0;32m      3\u001b[0m \u001b[0mprint\u001b[0m\u001b[1;33m(\u001b[0m\u001b[1;34m'Fir Information for all-component fit:'\u001b[0m\u001b[1;33m)\u001b[0m\u001b[1;33m\u001b[0m\u001b[1;33m\u001b[0m\u001b[0m\n\u001b[0;32m      4\u001b[0m \u001b[0mg_fit\u001b[0m\u001b[1;33m\u001b[0m\u001b[1;33m\u001b[0m\u001b[0m\n",
      "\u001b[1;31mNameError\u001b[0m: name 'g_fit' is not defined"
     ]
    }
   ],
   "source": [
    "#Define for plotting\n",
    "bestg = g_fit.best_fit\n",
    "print('Fir Information for all-component fit:')\n",
    "g_fit"
   ]
  },
  {
   "cell_type": "code",
   "execution_count": 5,
   "metadata": {},
   "outputs": [
    {
     "ename": "NameError",
     "evalue": "name 'g_fit' is not defined",
     "output_type": "error",
     "traceback": [
      "\u001b[1;31m---------------------------------------------------------------------------\u001b[0m",
      "\u001b[1;31mNameError\u001b[0m                                 Traceback (most recent call last)",
      "\u001b[1;32m<ipython-input-5-e7790ef7973a>\u001b[0m in \u001b[0;36m<module>\u001b[1;34m\u001b[0m\n\u001b[0;32m      2\u001b[0m \u001b[1;31m#rval = np.linspace(0,11.2,0.1)\u001b[0m\u001b[1;33m\u001b[0m\u001b[1;33m\u001b[0m\u001b[1;33m\u001b[0m\u001b[0m\n\u001b[0;32m      3\u001b[0m \u001b[1;33m\u001b[0m\u001b[0m\n\u001b[1;32m----> 4\u001b[1;33m \u001b[0mg_dict\u001b[0m \u001b[1;33m=\u001b[0m \u001b[0mg_fit\u001b[0m\u001b[1;33m.\u001b[0m\u001b[0mbest_values\u001b[0m\u001b[1;33m\u001b[0m\u001b[1;33m\u001b[0m\u001b[0m\n\u001b[0m\u001b[0;32m      5\u001b[0m \u001b[0mg_b\u001b[0m \u001b[1;33m=\u001b[0m \u001b[0mg_dict\u001b[0m\u001b[1;33m[\u001b[0m\u001b[1;34m'B'\u001b[0m\u001b[1;33m]\u001b[0m\u001b[1;33m\u001b[0m\u001b[1;33m\u001b[0m\u001b[0m\n\u001b[0;32m      6\u001b[0m \u001b[0mg_d\u001b[0m \u001b[1;33m=\u001b[0m \u001b[0mg_dict\u001b[0m\u001b[1;33m[\u001b[0m\u001b[1;34m'D'\u001b[0m\u001b[1;33m]\u001b[0m\u001b[1;33m\u001b[0m\u001b[1;33m\u001b[0m\u001b[0m\n",
      "\u001b[1;31mNameError\u001b[0m: name 'g_fit' is not defined"
     ]
    }
   ],
   "source": [
    "# Define for plotting cont. \n",
    "#rval = np.linspace(0,11.2,0.1)\n",
    "\n",
    "g_dict = g_fit.best_values\n",
    "g_b = g_dict['B']\n",
    "g_d = g_dict['D']\n",
    "g_rc = g_dict['rc']\n",
    "g_rho00 = g_dict['rho00']\n",
    "g_g = g_dict['G']\n",
    "halo_curve = nf.h_v(r,g_rc,g_rho00)\n",
    "\n",
    "plt.figure(figsize=(11,7))\n",
    "plt.errorpar(r,v_dat,yerr=v_err1,fmt = 'bo', label='Data')\n",
    "plt.plot(r,bestg, 'k', label = 'Total Fit')\n",
    "plt.plot(r,g_b*b, 'r', label = 'Fitted Bulge')\n",
    "plt.plot(r,g_g*g, 'c',label = 'Static Gas')\n",
    "plt.plot(r,halo_curve, 'g', label='Fitted Halo')\n",
    "plt.plot(r,g_d*d, 'm',label ='Fitted Disk')\n",
    "\n",
    "plt.legend(loc='lower right')\n",
    "plt.xlabel('r (kpc)')\n",
    "plt.ylabel('v (km.s)')\n",
    "plt.title('NGC 7814 Fitted')\n",
    "plt.ylim([0,260])\n",
    "plot.xlim([0,20])\n",
    "plt.show()"
   ]
  },
  {
   "cell_type": "code",
   "execution_count": null,
   "metadata": {},
   "outputs": [],
   "source": []
  }
 ],
 "metadata": {
  "kernelspec": {
   "display_name": "Python 3",
   "language": "python",
   "name": "python3"
  },
  "language_info": {
   "codemirror_mode": {
    "name": "ipython",
    "version": 3
   },
   "file_extension": ".py",
   "mimetype": "text/x-python",
   "name": "python",
   "nbconvert_exporter": "python",
   "pygments_lexer": "ipython3",
   "version": "3.8.5"
  }
 },
 "nbformat": 4,
 "nbformat_minor": 4
}
