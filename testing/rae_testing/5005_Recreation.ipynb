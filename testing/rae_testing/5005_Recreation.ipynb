{
 "cells": [
  {
   "cell_type": "code",
   "execution_count": 1,
   "metadata": {},
   "outputs": [
    {
     "data": {
      "text/plain": [
       "'\\ndata points:velocity and radius\\nz0 [kpc], distance [Mpc],density points: (kpc,mag/arcsec**2) or \\n(kpc,msun/pc**2) for bulge, disk, gas\\nOptional: mass of bulge, disk, central black hole mass\\n'"
      ]
     },
     "execution_count": 1,
     "metadata": {},
     "output_type": "execute_result"
    }
   ],
   "source": [
    "# info needed:\n",
    "'''\n",
    "data points:velocity and radius\n",
    "z0 [kpc], distance [Mpc],density points: (kpc,mag/arcsec**2) or \n",
    "(kpc,msun/pc**2) for bulge, disk, gas\n",
    "Optional: mass of bulge, disk, central black hole mass\n",
    "'''"
   ]
  },
  {
   "cell_type": "code",
   "execution_count": 2,
   "metadata": {
    "scrolled": true
   },
   "outputs": [
    {
     "name": "stdout",
     "output_type": "stream",
     "text": [
      "WARNING: DO NOT USE THE disk.hdf5 OR bulge.hdf5 FILES WITH CALCULATIONS FROM THIS LIBRRY!!!!\n",
      "If you do, DISCARD ALL CHANGES TO THE FILE.\n",
      "Your calculations will NOT be consistent with this library's equations if you use the disk.hdf5 or bulge.hdf5 files,\n",
      "and if you write to that file it will contain calculations based on conflicting constants.\n",
      "Worst case scenario, reset the disk.hdf5 file to before the commit where you used this library to write to it.\n"
     ]
    }
   ],
   "source": [
    "# Imports\n",
    "\n",
    "import sys\n",
    "sys.path.append('../../python/')\n",
    "\n",
    "import numpy as np\n",
    "import matplotlib.pyplot as plt\n",
    "import scipy.optimize as opt\n",
    "import lmfit as lm\n",
    "import scipy.interpolate as inter\n",
    "\n",
    "import dataPython as dp\n",
    "import NGC5533_functions_newmag as nf\n",
    "#import noordermeer as noord\n",
    "\n",
    "from datetime import datetime\n",
    "import time\n",
    "# Why did they use this^?"
   ]
  },
  {
   "cell_type": "code",
   "execution_count": 3,
   "metadata": {},
   "outputs": [],
   "source": [
    "#import data files:\n",
    "#starttime = time.time()\n",
    "\n",
    "#TRACING:**************************************\n",
    "#Creating arrays based off ngc5005 traced data \n",
    "\n",
    "data = dp.getXYdata_wXYerr('../..//NGC_5005/traced_data/ngc5005_data.txt')\n",
    "r_dat = np.asarray(data['xx'])\n",
    "v_dat = np.asarray(data['yy'])\n",
    "v_err0 = np.asarray(data['ex'])\n",
    "v_err1 = np.asarray(data['ey'])\n",
    "\n",
    "#gas rotmod:\n",
    "gas_rdata = dp.getXYZdata('../aygas.dat')\n",
    "rgasr = gas_rdata['xx']\n",
    "rgasv = gas_rdata['zz']\n",
    "rgasv = np.asarray(rgasv)\n",
    "rgasv_spline = inter.InterpolatedUnivariateSpline(rgasr,rgasv,k=5)\n",
    "rgasv_fit = rgasv_spline(r_dat)\n",
    "rgasv_fit = rgasv\n",
    "# ^^Why is rgasv_fit defined twice?\n",
    "\n",
    "#bulge rotmod\n",
    "bulge_rdata = dp.getXYZdata('../aybulge.dat') \n",
    "rbulger = bulge_rdata['xx']\n",
    "rbulgev = bulge_rdata['zz']\n",
    "rbulgev=np.asarray(rbulgev)\n",
    "rbulgev_spline = inter.InterpolatedUnivariateSpline(rbulger,rbulgev,k=5)\n",
    "rbulgev_fit = rbulgev_spline(r_dat)\n",
    "rbulgev_fit=rbulgev\n",
    "\n",
    "#disk rotmod:\n",
    "disk_rdata = dp.getXYZdata('../aydisk.dat')\n",
    "rdiskr = disk_rdata['xx']\n",
    "rdiskv = disk_rdata['zz']\n",
    "rdiskv=np.asarray(rdiskv)\n",
    "rdiskv_spline = inter.InterpolatedUnivariateSpline(rdiskr,rdiskv,k=5)\n",
    "rdiskv_fit = rdiskv_spline(r_dat)\n",
    "rdiskv_fit=rdiskv\n",
    "\n",
    "#Halo datathief trace:\n",
    "halo_dt = dp.getXYdata('../../NGC_5005/datatheif_halo_spline.txt')\n",
    "halo_dtr = halo_dt['xx']\n",
    "halo_dtv = halo_dt['yy']\n",
    "halo_dtv=np.asarray(halo_dtv)\n",
    "halo_dtv_spline = inter.InterpolatedUnivariateSpline(halo_dtr,halo_dtv,k=5)\n",
    "halo_dtv_fit = halo_dtv_spline(r_dat)\n",
    "\n",
    "rval = np.linspace(0,11.2,19)                     "
   ]
  },
  {
   "cell_type": "code",
   "execution_count": 4,
   "metadata": {},
   "outputs": [],
   "source": [
    "# Fitting function, just prefactors for all the components\n",
    "def g(r,GX,BX,DX,rc,rho00):\n",
    "    return np.sqrt((GX*rgasv_fit)**2\n",
    "                  +(BX*rbulgev_fit)**2\n",
    "                  + (DX*rdiskv_fit)**2\n",
    "                  + (nf.h_v(rval,rc,rho00))**2) "
   ]
  },
  {
   "cell_type": "code",
   "execution_count": 5,
   "metadata": {},
   "outputs": [],
   "source": [
    "v_err1 = v_err1\n",
    "weighdata = 1/v_err1\n",
    "# Why did they set a variable equal to itself?\n",
    "\n",
    "#setup\n",
    "g_mod = lm.Model(g)\n",
    "g_params = g_mod.make_params()\n",
    "\n",
    "#Gas\n",
    "g_params.add('GX', value = .956, min = .956) \n",
    "\n",
    "#Bulge\n",
    "g_params.add('BX', value=1, min=0)    \n",
    "\n",
    "#Disk\n",
    "g_params.add('DX', value=1, min=0)    \n",
    "\n",
    "#Halo\n",
    "g_params.add('rc', value=2.5, min=2.5, max=2.51)    #Core radius (kpc)\n",
    "g_params.add('rho00', value=1e+08, min=0)           #Central density\n",
    "\n",
    "#Do Fit\n",
    "g_fit = g_mod.fit(v_dat,g_params,r=r_dat,weights=weighdata)"
   ]
  },
  {
   "cell_type": "code",
   "execution_count": 6,
   "metadata": {},
   "outputs": [
    {
     "name": "stdout",
     "output_type": "stream",
     "text": [
      "Fit information for all-component fit:\n"
     ]
    },
    {
     "data": {
      "text/html": [
       "<h2> Model</h2> Model(g) <h2>Fit Statistics</h2><table><tr><td>fitting method</td><td>leastsq</td><td></td></tr><tr><td># function evals</td><td>71</td><td></td></tr><tr><td># data points</td><td>19</td><td></td></tr><tr><td># variables</td><td>5</td><td></td></tr><tr><td>chi-square</td><td> 0.47372745</td><td></td></tr><tr><td>reduced chi-square</td><td> 0.03383767</td><td></td></tr><tr><td>Akaike info crit.</td><td>-60.1396801</td><td></td></tr><tr><td>Bayesian info crit.</td><td>-55.4174852</td><td></td></tr></table><h2>Variables</h2><table><tr><th> name </th><th> value </th><th> standard error </th><th> relative error </th><th> initial value </th><th> min </th><th> max </th><th> vary </th></tr><tr><td> GX </td><td>  0.95600002 </td><td>  0.01425471 </td><td> (1.49%) </td><td> 0.956 </td><td>  0.95600000 </td><td>         inf </td><td> True </td></tr><tr><td> BX </td><td>  0.28228634 </td><td>  0.00718968 </td><td> (2.55%) </td><td> 1 </td><td>  0.00000000 </td><td>         inf </td><td> True </td></tr><tr><td> DX </td><td>  0.71035495 </td><td>  0.11680253 </td><td> (16.44%) </td><td> 1 </td><td>  0.00000000 </td><td>         inf </td><td> True </td></tr><tr><td> rc </td><td>  2.50000000 </td><td>  0.84932256 </td><td> (33.97%) </td><td> 2.5 </td><td>  2.50000000 </td><td>  2.51000000 </td><td> True </td></tr><tr><td> rho00 </td><td>  1.5981e+08 </td><td>  1.1599e+08 </td><td> (72.58%) </td><td> 100000000.0 </td><td>  0.00000000 </td><td>         inf </td><td> True </td></tr></table><h2>Correlations (unreported correlations are < 0.100)</h2><table><tr><td>rc</td><td>rho00</td><td>-0.9946</td></tr><tr><td>DX</td><td>rho00</td><td>-0.9701</td></tr><tr><td>DX</td><td>rc</td><td>0.9413</td></tr><tr><td>BX</td><td>DX</td><td>-0.4448</td></tr><tr><td>GX</td><td>BX</td><td>0.4181</td></tr><tr><td>GX</td><td>DX</td><td>-0.3366</td></tr><tr><td>BX</td><td>rho00</td><td>0.2594</td></tr><tr><td>BX</td><td>rc</td><td>-0.1854</td></tr><tr><td>GX</td><td>rho00</td><td>0.1717</td></tr><tr><td>GX</td><td>rc</td><td>-0.1055</td></tr></table>"
      ],
      "text/plain": [
       "<lmfit.model.ModelResult at 0x27e74a80040>"
      ]
     },
     "execution_count": 6,
     "metadata": {},
     "output_type": "execute_result"
    }
   ],
   "source": [
    "# Define for plotting\n",
    "bestg = g_fit.best_fit\n",
    "print('Fit information for all-component fit:')\n",
    "g_fit"
   ]
  },
  {
   "cell_type": "code",
   "execution_count": 7,
   "metadata": {},
   "outputs": [],
   "source": [
    "#smoothing --> creating a spline\n",
    "\n",
    "r_dat_andzero = np.append([0],r_dat)\n",
    "idx = np.arange(0,np.shape(r_dat_andzero)[0])\n",
    "# ^^tf?\n",
    "\n",
    "bestg = bestg[r_dat.argsort()]\n",
    "\n",
    "rgasv_spline = inter.InterpolatedUnivariateSpline(rgasr,rgasv,k=5)\n",
    "rgasv_fit = rgasv_spline(r_dat)\n",
    "# ^^ Why is this here and after the ROTMOD gas?\n",
    "# ^^ And why isn't it followed by rgasv_fit=rgasv like the others?"
   ]
  },
  {
   "cell_type": "code",
   "execution_count": 8,
   "metadata": {},
   "outputs": [
    {
     "data": {
      "image/png": "[encoded data removed]",
      "text/plain": [
       "<Figure size 792x432 with 1 Axes>"
      ]
     },
     "metadata": {
      "needs_background": "light"
     },
     "output_type": "display_data"
    }
   ],
   "source": [
    "#Define for plotting cont.\n",
    "\n",
    "g_dict = g_fit.best_values\n",
    "g_g = g_dict['GX']\n",
    "g_b = g_dict['BX']\n",
    "g_d = g_dict['DX']\n",
    "g_rc = g_dict['rc']\n",
    "g_rho00 = g_dict['rho00']\n",
    "halo_curve = nf.h_v(rval,g_rc,g_rho00)\n",
    "\n",
    "plt.figure(figsize=(11,6))\n",
    "plt.errorbar(r_dat,v_dat,yerr=v_err1,fmt='bo', label='Data')\n",
    "\n",
    "plt.plot(r_dat,bestg,'k',label='Total Fit')\n",
    "plt.plot(rgasr,g_g*rgasv_fit,label='Fitted Gas')\n",
    "plt.plot(rbulger,g_b*rbulgev,label='Fitted Bulge')\n",
    "plt.plot(rdiskr,g_d*rdiskv,label='Fitted Disk')\n",
    "plt.plot(rval,halo_curve,'r-',label='Halo Analytical')\n",
    "\n",
    "halo_curve=halo_curve[:len(halo_curve)-6]\n",
    "halo_curve=halo_curve[0::6]\n",
    "# ^^ No clue what is going on here...\n",
    "\n",
    "plt.legend(loc='lower right')\n",
    "plt.ylim(0,360)\n",
    "plt.xlim(0,12)\n",
    "plt.show()"
   ]
  },
  {
   "cell_type": "markdown",
   "metadata": {},
   "source": []
  }
 ],
 "metadata": {
  "kernelspec": {
   "display_name": "Python 3",
   "language": "python",
   "name": "python3"
  },
  "language_info": {
   "codemirror_mode": {
    "name": "ipython",
    "version": 3
   },
   "file_extension": ".py",
   "mimetype": "text/x-python",
   "name": "python",
   "nbconvert_exporter": "python",
   "pygments_lexer": "ipython3",
   "version": "3.8.5"
  }
 },
 "nbformat": 4,
 "nbformat_minor": 4
}
