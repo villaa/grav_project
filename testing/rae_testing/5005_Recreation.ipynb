{
 "cells": [
  {
   "cell_type": "code",
   "execution_count": null,
   "metadata": {},
   "outputs": [],
   "source": [
    "# info needed:\n",
    "'''\n",
    "data points:velocity and radius\n",
    "z0 [kpc], distance [Mpc],density points: (kpc,mag/arcsec**2) or \n",
    "(kpc,msun/pc**2) for bulge, disk, gas\n",
    "Optional: mass of bulge, disk, central black hole mass\n",
    "'''"
   ]
  },
  {
   "cell_type": "code",
   "execution_count": 1,
   "metadata": {
    "scrolled": true
   },
   "outputs": [
    {
     "ename": "ModuleNotFoundError",
     "evalue": "No module named 'NGC5533_functions_newmag'",
     "output_type": "error",
     "traceback": [
      "\u001b[1;31m---------------------------------------------------------------------------\u001b[0m",
      "\u001b[1;31mModuleNotFoundError\u001b[0m                       Traceback (most recent call last)",
      "\u001b[1;32m<ipython-input-1-191f89878e68>\u001b[0m in \u001b[0;36m<module>\u001b[1;34m\u001b[0m\n\u001b[0;32m     11\u001b[0m \u001b[1;32mimport\u001b[0m \u001b[0mscipy\u001b[0m\u001b[1;33m.\u001b[0m\u001b[0minterpolate\u001b[0m \u001b[1;32mas\u001b[0m \u001b[0minter\u001b[0m\u001b[1;33m\u001b[0m\u001b[1;33m\u001b[0m\u001b[0m\n\u001b[0;32m     12\u001b[0m \u001b[1;33m\u001b[0m\u001b[0m\n\u001b[1;32m---> 13\u001b[1;33m \u001b[1;32mimport\u001b[0m \u001b[0mNGC5533_functions_newmag\u001b[0m \u001b[1;32mas\u001b[0m \u001b[0mnf\u001b[0m\u001b[1;33m\u001b[0m\u001b[1;33m\u001b[0m\u001b[0m\n\u001b[0m\u001b[0;32m     14\u001b[0m \u001b[1;31m#import noordermeer as noord\u001b[0m\u001b[1;33m\u001b[0m\u001b[1;33m\u001b[0m\u001b[1;33m\u001b[0m\u001b[0m\n\u001b[0;32m     15\u001b[0m \u001b[1;33m\u001b[0m\u001b[0m\n",
      "\u001b[1;31mModuleNotFoundError\u001b[0m: No module named 'NGC5533_functions_newmag'"
     ]
    }
   ],
   "source": [
    "# Imports\n",
    "\n",
    "import sys\n",
    "sys.path.append('../python/')\n",
    "# What does this^ do?\n",
    "\n",
    "import numpy as np\n",
    "import matplotlib.pyplot as plt\n",
    "import scipy.optimize as opt\n",
    "import lmfit as lm\n",
    "import scipy.interpolate as inter\n",
    "\n",
    "import dataPython as dp\n",
    "import NGC5533_functions_newmag.py as nf\n",
    "#import noordermeer as noord\n",
    "\n",
    "from datetime import datetime\n",
    "import time\n",
    "# Why did they use this^?"
   ]
  },
  {
   "cell_type": "code",
   "execution_count": null,
   "metadata": {},
   "outputs": [],
   "source": [
    "#import data files:\n",
    "starttime = time.time()\n",
    "\n",
    "#TRACING:**************************************\n",
    "#Creating arrays based off ngc5005 traced data \n",
    "data = dp.getXYdata_wXYerr('..//NGC_5005/traced_data/ngc5005_data.txt')\n",
    "r_dat = np.asarray(data['xx'])\n",
    "v_dat = np.asarray(data['yy'])\n",
    "v_err0 = np.asarray(data['ex'])\n",
    "v_err1 = np.asarray(data['ey'])\n",
    "\n",
    "#gas rotmod:\n",
    "gas_rdata = dp.getXYZdata('aygas.dat')\n",
    "rgasr = gas_rdata['xx']\n",
    "rgasv = gas_rdata['zz']\n",
    "rgasv = np.asarray(rgasv)\n",
    "rgasv_spline = inter.InterpolatedUnivariateSpline(rgasr,rgasv,k=5)\n",
    "rgasv_fit = rgasv_spline(r_dat)\n",
    "rgasv_fit = rgasv\n",
    "# ^^Why is rgasv_fit defined twice?\n",
    "\n",
    "#bulge rotmod\n",
    "bulge_rdata = dp.getXYZdata('aybulge.dat') \n",
    "rbulger = bulge_rdata['xx']\n",
    "rbulgev = bulge_rdata['zz']\n",
    "rbulgev=np.asarray(rbulgev)\n",
    "rbulgev_spline = inter.InterpolatedUnivariateSpline(rbulger,rbulgev,k=5)\n",
    "rbulgev_fit = rbulgev_spline(r_dat)\n",
    "rbulgev_fit=rbulgev\n",
    "\n",
    "#disk rotmod:\n",
    "disk_rdata = dp.getXYZdata('aydisk.dat')\n",
    "rdiskr = disk_rdata['xx']\n",
    "rdiskv = disk_rdata['zz']\n",
    "rdiskv=np.asarray(rdiskv)\n",
    "rdiskv_spline = inter.InterpolatedUnivariateSpline(rdiskr,rdiskv,k=5)\n",
    "rdiskv_fit = rdiskv_spline(r_dat)\n",
    "rdiskv_fit=rdiskv\n",
    "\n",
    "#Halo datathief trace:\n",
    "halo_dt = dp.getXYdata('../NGC_5005/datatheif_halo_spline.txt')\n",
    "halo_dtr = halo_dt['xx']\n",
    "halo_dtv = halo_dt['yy']\n",
    "halo_dtv=np.asarray(halo_dtv)\n",
    "halo_dtv_spline = inter.InterpolatedUnivariateSpline(halo_dtr,halo_dtv,k=5)\n",
    "halo_dtv_fit = halo_dtv_spline(r_dat)\n",
    "\n",
    "rval = np.linspace(0,11.2,19)                     "
   ]
  },
  {
   "cell_type": "code",
   "execution_count": null,
   "metadata": {},
   "outputs": [],
   "source": [
    "# Fitting function, just prefactors for all the components\n",
    "def g(r,GX,BX,DX,rc,rho00):\n",
    "    return np.sqrt((GX*rgasv_fit)**2\n",
    "                  +(BX*rbulgev_fit)**2\n",
    "                  + (DX*rdiskv_fit)**2\n",
    "                  + (nf.h_v(rval,rc,rho00))**2) "
   ]
  },
  {
   "cell_type": "code",
   "execution_count": null,
   "metadata": {},
   "outputs": [],
   "source": [
    "v_err1 = v_err1\n",
    "weightdata = 1/v+err1\n",
    "# Why did they set a variable equal to itself?\n",
    "\n",
    "#setup\n",
    "g_mod = lm.Model(g)\n",
    "g_params = g_mod.make_params()\n",
    "\n",
    "#Gas\n",
    "g_params.add('GX', value = .956, min = .956) \n",
    "\n",
    "#Bulge\n",
    "g_params.add('BX', value=1, min=0)    \n",
    "\n",
    "#Disk\n",
    "g_params.add('DX', value=1, min=0)    \n",
    "\n",
    "#Halo\n",
    "g_params.add('rc', value=2.5, min=2.5, max=2.51)    #Core radius (kpc)\n",
    "g_params.add('rho00', value=1e+08, min=0)           #Central density\n",
    "\n",
    "#Do Fit\n",
    "g_fit = g_mod.fit(v_dat,g_params,r=r+dat,weights=weighdata)"
   ]
  },
  {
   "cell_type": "code",
   "execution_count": null,
   "metadata": {},
   "outputs": [],
   "source": [
    "# Define for plotting\n",
    "bestg = g_fit.best_fit\n",
    "print('Fit information for all-component fit:')\n",
    "g_fit"
   ]
  },
  {
   "cell_type": "code",
   "execution_count": null,
   "metadata": {},
   "outputs": [],
   "source": [
    "#smoothing --> creating a spline\n",
    "\n",
    "r_dat_andzero = np.append([0],r_dat)\n",
    "idx = np.arrange(0,np.shape(r_dat_andzero)[0])\n",
    "# ^^tf?\n",
    "\n",
    "bestg = bestg[r_dat.argsort()]\n",
    "\n",
    "rgasv_spline = inter.InterpolatedUnivariateSpline(rgasr,rgasv,k=5)\n",
    "rgasv_fit = rgasv_spline(r_dat)\n",
    "# ^^ Why is this here and after the ROTMOD gas?\n",
    "# ^^ And why isn't it followed by rgasv_fit=rgasv like the others?"
   ]
  },
  {
   "cell_type": "code",
   "execution_count": null,
   "metadata": {},
   "outputs": [],
   "source": [
    "#Define for plotting cont.\n",
    "\n",
    "g_dict = g_fit.best_values\n",
    "g_g = g_dict['GX']\n",
    "g_b = g_dict['BX']\n",
    "g_d = g_dict['DX']\n",
    "g_rc = g_dict['rc']\n",
    "g_rho00 = g_dict['rho00']\n",
    "halo_curve = nf.h_v(rval,g_rc,g_rho00)\n",
    "\n",
    "plt.figure(figsize=(11,6))\n",
    "plt.errorbar(r_dat,v_dat,yerr=v_err1,fmt='bo', label='Data')\n",
    "\n",
    "plt.plot(r_dat,bestg,'k',label='Total Fit')\n",
    "plt.plot(rgasr,g_g*rgasv_fit,label='Fitted Gas')\n",
    "plt.plot(rbulger,g_b*rbulgev,label='Fitted Bulge')\n",
    "plt.plot(rdiskr,g_d*rdiskv,label='Fitted Disk')\n",
    "plt.plot(rval,halo_curve,'r-',label='Halo Analytical')\n",
    "\n",
    "halo_curve=halo_curve[:len(halo_curve)-6]\n",
    "halo_curve=halo_curve[0::6]\n",
    "# ^^ No clue what is going on here...\n",
    "\n",
    "plt.legend(loc='lower right')\n",
    "plt.ylim(0,360)\n",
    "plt.xlim(0,12)\n",
    "plt.show()"
   ]
  },
  {
   "cell_type": "markdown",
   "metadata": {},
   "source": []
  }
 ],
 "metadata": {
  "kernelspec": {
   "display_name": "Python 3",
   "language": "python",
   "name": "python3"
  },
  "language_info": {
   "codemirror_mode": {
    "name": "ipython",
    "version": 3
   },
   "file_extension": ".py",
   "mimetype": "text/x-python",
   "name": "python",
   "nbconvert_exporter": "python",
   "pygments_lexer": "ipython3",
   "version": "3.8.5"
  }
 },
 "nbformat": 4,
 "nbformat_minor": 4
}
