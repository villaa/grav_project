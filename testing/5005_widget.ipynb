{
 "cells": [
  {
   "cell_type": "code",
   "execution_count": 1,
   "metadata": {},
   "outputs": [
    {
     "data": {
      "text/plain": [
       "'\\ndata points: velocity and radius\\nZ0 [kpc], distance [Mpc], density points: (kpc,mag/arcsec**2) or (kpc,msun/pc**2) for bulge, disk, gas\\noptional: mass of bulge, disk,    central black hole mass\\n'"
      ]
     },
     "execution_count": 1,
     "metadata": {},
     "output_type": "execute_result"
    }
   ],
   "source": [
    "# info needed:\n",
    "'''\n",
    "data points: velocity and radius\n",
    "Z0 [kpc], distance [Mpc], density points: (kpc,mag/arcsec**2) or (kpc,msun/pc**2) for bulge, disk, gas\n",
    "optional: mass of bulge, disk,    central black hole mass\n",
    "'''"
   ]
  },
  {
   "cell_type": "code",
   "execution_count": 2,
   "metadata": {},
   "outputs": [
    {
     "name": "stdout",
     "output_type": "stream",
     "text": [
      "WARNING: DO NOT USE THE disk.hdf5 OR bulge.hdf5 FILES WITH CALCULATIONS FROM THIS LIBRRY!!!!\n",
      "If you do, DISCARD ALL CHANGES TO THE FILE.\n",
      "Your calculations will NOT be consistent with this library's equations if you use the disk.hdf5 or bulge.hdf5 files,\n",
      "and if you write to that file it will contain calculations based on conflicting constants.\n",
      "Worst case scenario, reset the disk.hdf5 file to before the commit where you used this library to write to it.\n"
     ]
    }
   ],
   "source": [
    "#Imports\n",
    "import sys\n",
    "sys.path.append('../python/')\n",
    "#import NGC5533_functions-newmag as nf\n",
    "\n",
    "import numpy as np\n",
    "import matplotlib.pyplot as plt\n",
    "#import scipy.optimize as opt\n",
    "import lmfit as lm\n",
    "import dataPython as dp\n",
    "import scipy.interpolate as inter\n",
    "\n",
    "import NGC5533_functions_newmag as nf\n",
    "\n",
    "from datetime import datetime\n",
    "import time\n",
    "from ipywidgets import interactive, fixed, FloatSlider, HBox, Layout, Button, Label, Output, VBox\n",
    "\n",
    "from IPython.display import display, clear_output\n",
    "from IPython.display import Javascript\n",
    "\n",
    "import scipy.stats as stats\n",
    "import warnings\n",
    "warnings.filterwarnings(\"ignore\")  #ignore warnings"
   ]
  },
  {
   "cell_type": "code",
   "execution_count": 3,
   "metadata": {},
   "outputs": [
    {
     "name": "stdout",
     "output_type": "stream",
     "text": [
      "19\n",
      "19\n",
      "19\n",
      "19\n",
      "19\n",
      "19\n",
      "[ 0.       56.346502 79.571611 73.829754 65.770691 61.946306 67.764387\n",
      " 75.16645  74.374674 70.2518   66.491049 62.156592 59.161185 57.49461\n",
      " 57.334538 57.27884  56.403084 54.637844 51.977356]\n",
      "[ 0.       56.346502 79.571611 73.829754 65.770691 61.946306 67.764387\n",
      " 75.16645  74.374674 70.2518   66.491049 62.156592 59.161185 57.49461\n",
      " 57.334538 57.27884  56.403084 54.637844 51.977356]\n",
      "[ 0.      0.409   0.9156  1.3932  1.8693  2.3606  2.8376  3.3282  3.8209\n",
      "  4.2956  4.7746  5.5897  6.3896  7.1896  7.9893  8.7894  9.6049 10.4203\n",
      " 11.1894]\n",
      "[0.0, 0.409, 0.9156, 1.3932, 1.8693, 2.3606, 2.8376, 3.3282, 3.8209, 4.2956, 4.7746, 5.5897, 6.3896, 7.1896, 7.9893, 8.7892, 9.6049, 10.4203, 11.1894]\n"
     ]
    }
   ],
   "source": [
    "#import data files:\n",
    "starttime = time.time()\n",
    "\n",
    "#TRACING:**************************************\n",
    "#data points:\n",
    "data = dp.getXYdata_wXYerr('../NGC_5005/traced_data/ngc5005_data.txt')\n",
    "r_dat = np.asarray(data['xx'])\n",
    "v_dat = np.asarray(data['yy'])\n",
    "v_err0 = np.asarray(data['ex'])\n",
    "v_err1 = np.asarray(data['ey'])\n",
    "#v_err1=v_err1[:len(v_err1)-1]\n",
    "#r_dat=r_dat[:len(r_dat)-1]\n",
    "#v_dat=v_dat[:len(v_dat)-1]\n",
    "\n",
    "#gas rotmod:\n",
    "gas_rdata = dp.getXYZdata('aygas.dat') #rotmod_gas.dat\n",
    "rgasr = gas_rdata['xx']\n",
    "rgasv = gas_rdata['zz']\n",
    "rgasv=np.asarray(rgasv)\n",
    "rgasv_spline = inter.InterpolatedUnivariateSpline(rgasr,rgasv,k=5)\n",
    "rgasv_fit = rgasv_spline(r_dat)\n",
    "\n",
    "#make gas array same length as data points array ????? how can I fit without doing this?????\n",
    "\n",
    "'''\n",
    "rgasv=rgasv[:len(rgasv)-9]\n",
    "rgasv=rgasv[0::68]\n",
    "rgasr=rgasr[:len(rgasr)-9]\n",
    "rgasr=rgasr[0::68]\n",
    "\n",
    "'''\n",
    "rgasv_fit=rgasv\n",
    "#bulge rotmod\n",
    "bulge_rdata = dp.getXYZdata('aybulge.dat')\n",
    "rbulger = bulge_rdata['xx']\n",
    "rbulgev = bulge_rdata['zz']\n",
    "rbulgev=np.asarray(rbulgev)\n",
    "#rbulger = [x - 1.15 for x in rbulger]\n",
    "#rbulger=rbulger[:len(rbulger)-5]\n",
    "#rbulger=rbulger[0::72]\n",
    "#rbulgev=rbulgev[:len(rbulgev)-5]\n",
    "#rbulgev=rbulgev[0::72]\n",
    "rbulgev_spline = inter.InterpolatedUnivariateSpline(rbulger,rbulgev,k=5)\n",
    "rbulgev_fit = rbulgev_spline(r_dat)\n",
    "rbulgev_fit=rbulgev\n",
    "\n",
    "#manually replacing \"peak\" in bulge to true peak\n",
    "#not sure if this makes a difference\n",
    "#rbulger[1] = .58 #.409 from trace\n",
    "#rbulgev[1]=653.7\n",
    "\n",
    "#disk rotmod:\n",
    "disk_rdata = dp.getXYZdata('aydisk.dat')\n",
    "rdiskr = disk_rdata['xx']\n",
    "rdiskv = disk_rdata['zz']\n",
    "rdiskv=np.asarray(rdiskv)\n",
    "#rdiskv=rdiskv[:len(rdiskv)-5]\n",
    "#rdiskv=rdiskv[0::72]\n",
    "rdiskv_spline = inter.InterpolatedUnivariateSpline(rdiskr,rdiskv,k=5)\n",
    "rdiskv_fit = rdiskv_spline(r_dat)\n",
    "rdiskv_fit=rdiskv\n",
    "\n",
    "#Halo datathief trace:\n",
    "halo_dt = dp.getXYdata('../NGC_5005/datatheif_halo_spline.txt')\n",
    "halo_dtr = halo_dt['xx']\n",
    "halo_dtv = halo_dt['yy']\n",
    "halo_dtv=np.asarray(halo_dtv)\n",
    "#halo_dtv=halo_dtv[:len(halo_dtv)-5]\n",
    "#halo_dtv=halo_dtv[0::6]\n",
    "halo_dtv_spline = inter.InterpolatedUnivariateSpline(halo_dtr,halo_dtv,k=5)\n",
    "halo_dtv_fit = halo_dtv_spline(r_dat)\n",
    "\n",
    "\n",
    "#rval = np.linspace(0,11.2,19)\n",
    "\n",
    "\n",
    "rval=r_dat\n",
    "#print(len(rval))\n",
    "#print(len(rbulgev))\n",
    "#print(len(rgasv))\n",
    "#print(len(rdiskv))\n",
    "print(len(v_dat))\n",
    "print(len(r_dat))\n",
    "print(len(rbulgev_fit))\n",
    "print(len(rdiskv_fit))\n",
    "print(len(rgasv_fit))\n",
    "print(len(v_err1))\n",
    "print(rgasv_fit)\n",
    "#gas rotmod:\n",
    "gas_rdataX = dp.getXYZdata('aygas.dat')\n",
    "rgasrX = gas_rdataX['xx']\n",
    "rgasvX = gas_rdataX['zz']\n",
    "rgasvX=np.asarray(rgasvX)\n",
    "print(rgasvX)\n",
    "print(rval)\n",
    "print(rgasr)"
   ]
  },
  {
   "cell_type": "code",
   "execution_count": 4,
   "metadata": {},
   "outputs": [],
   "source": [
    "# Fitting function, just prefactors for all the components\n",
    "def g(r,GX,BX,DX,rc,rho00):\n",
    "    return np.sqrt((GX*rgasv_fit)**2 \n",
    "                   + (BX*rbulgev_fit)**2 \n",
    "                   + (DX*rdiskv_fit)**2\n",
    "                   + (nf.h_v(rval,rc,rho00))**2)"
   ]
  },
  {
   "cell_type": "code",
   "execution_count": 5,
   "metadata": {},
   "outputs": [],
   "source": [
    "v_err1=v_err1\n",
    "weightdata=1/v_err1\n",
    "# LMFit\n",
    "\n",
    "#Setup\n",
    "g_mod = lm.Model(g)\n",
    "g_params = g_mod.make_params()\n",
    "#Gas\n",
    "g_params.add('GX', value=.956, min=.956) #Mass\n",
    "\n",
    "#Bulge\n",
    "g_params.add('BX', value=1, min=0)          #Prefactor\n",
    "\n",
    "#Disk\n",
    "g_params.add('DX', value=1, min=0)       #Prefactor\n",
    "#Halo\n",
    "g_params.add('rc', value=2.5, min=2.5,max=2.51)          #Core radius (kpc)\n",
    "g_params.add('rho00', value=1e+08, min=0)     #Central density \n",
    "\n",
    "#Do fit\n",
    "g_fit = g_mod.fit(v_dat,g_params,r=r_dat,weights=weightdata)"
   ]
  },
  {
   "cell_type": "code",
   "execution_count": 6,
   "metadata": {},
   "outputs": [
    {
     "name": "stdout",
     "output_type": "stream",
     "text": [
      "Fit information for all-component fit:\n"
     ]
    },
    {
     "data": {
      "text/html": [
       "<h2> Model</h2> Model(g) <h2>Fit Statistics</h2><table><tr><td>fitting method</td><td>leastsq</td><td></td></tr><tr><td># function evals</td><td>55</td><td></td></tr><tr><td># data points</td><td>19</td><td></td></tr><tr><td># variables</td><td>5</td><td></td></tr><tr><td>chi-square</td><td> 0.44067210</td><td></td></tr><tr><td>reduced chi-square</td><td> 0.03147658</td><td></td></tr><tr><td>Akaike info crit.</td><td>-61.5139708</td><td></td></tr><tr><td>Bayesian info crit.</td><td>-56.7917759</td><td></td></tr></table><h2>Variables</h2><table><tr><th> name </th><th> value </th><th> standard error </th><th> relative error </th><th> initial value </th><th> min </th><th> max </th><th> vary </th></tr><tr><td> GX </td><td>  0.95600000 </td><td>  8.9236e-11 </td><td> (0.00%) </td><td> 0.956 </td><td>  0.95600000 </td><td>         inf </td><td> True </td></tr><tr><td> BX </td><td>  0.27558376 </td><td>  0.01286875 </td><td> (4.67%) </td><td> 1 </td><td>  0.00000000 </td><td>         inf </td><td> True </td></tr><tr><td> DX </td><td>  0.81990288 </td><td>  0.13947640 </td><td> (17.01%) </td><td> 1 </td><td>  0.00000000 </td><td>         inf </td><td> True </td></tr><tr><td> rc </td><td>  2.50000023 </td><td>  0.47267398 </td><td> (18.91%) </td><td> 2.5 </td><td>  2.50000000 </td><td>  2.51000000 </td><td> True </td></tr><tr><td> rho00 </td><td>  1.3248e+08 </td><td>  1.8239e+08 </td><td> (137.67%) </td><td> 100000000.0 </td><td>  0.00000000 </td><td>         inf </td><td> True </td></tr></table><h2>Correlations (unreported correlations are < 0.100)</h2><table><tr><td>rc</td><td>rho00</td><td>-0.9991</td></tr><tr><td>DX</td><td>rho00</td><td>-0.9955</td></tr><tr><td>DX</td><td>rc</td><td>0.9915</td></tr><tr><td>BX</td><td>DX</td><td>-0.9223</td></tr><tr><td>BX</td><td>rho00</td><td>0.8907</td></tr><tr><td>BX</td><td>rc</td><td>-0.8788</td></tr><tr><td>GX</td><td>rc</td><td>-0.2345</td></tr><tr><td>GX</td><td>rho00</td><td>0.2253</td></tr><tr><td>GX</td><td>DX</td><td>-0.2149</td></tr><tr><td>GX</td><td>BX</td><td>0.1724</td></tr></table>"
      ],
      "text/plain": [
       "<lmfit.model.ModelResult at 0x1d952dc2460>"
      ]
     },
     "execution_count": 6,
     "metadata": {},
     "output_type": "execute_result"
    }
   ],
   "source": [
    "# Define for plotting\n",
    "bestg = g_fit.best_fit\n",
    "#delg = g_fit.eval_uncertainty()\n",
    "print('Fit information for all-component fit:')\n",
    "g_fit"
   ]
  },
  {
   "cell_type": "code",
   "execution_count": 7,
   "metadata": {},
   "outputs": [
    {
     "data": {
      "text/plain": [
       "'\\n#for gas:\\nrgasv = rgasv[rval.argsort()]\\nf_v_G = inter.InterpolatedUnivariateSpline(rval[idx%1==0], rgasv[idx%1==0], k=5)\\nf_v_G_v = np.vectorize(f_v_G)\\n\\n#for disk:\\nrdiskv = rdiskv[rval.argsort()]\\nf_v_D = inter.InterpolatedUnivariateSpline(rval[idx%1==0], rdiskv[idx%1==0], k=5)\\nf_v_D_v = np.vectorize(f_v_D)\\n\\n#for halo:\\nhalo_dtv = halo_dtv[rval.argsort()]\\nf_v_H = inter.InterpolatedUnivariateSpline(rval[idx%1==0], halo_dtv[idx%1==0], k=5)\\nf_v_H_v = np.vectorize(f_v_H)\\n\\n#for bulge:\\nrbulgev = rbulgev[rval.argsort()]\\nf_v_B = inter.InterpolatedUnivariateSpline(rval[idx%1==0], rbulgev[idx%1==0], k=5)\\nf_v_B_v = np.vectorize(f_v_B)\\n'"
      ]
     },
     "execution_count": 7,
     "metadata": {},
     "output_type": "execute_result"
    }
   ],
   "source": [
    "#smoothing --> creating a spline\n",
    "#print(bestg)\n",
    "\n",
    "#rval = np.arange(0,15,0.1)\n",
    "\n",
    "\n",
    "#for total fit curve\n",
    "#r_dat = r_dat[r_dat.argsort()]\n",
    "r_dat_andzero = np.append([0],r_dat)\n",
    "idx = np.arange(0,np.shape(r_dat_andzero)[0])\n",
    "\n",
    "bestg = bestg[r_dat.argsort()]\n",
    "#f_v_T = inter.InterpolatedUnivariateSpline(r_dat_andzero[idx%1==0], np.append([0],bestg)[idx%1==0], k=3)\n",
    "#f_v_T_v = np.vectorize(f_v_T)\n",
    "\n",
    "rgasv_spline = inter.InterpolatedUnivariateSpline(rgasr,rgasv,k=5)\n",
    "rgasv_fit = rgasv_spline(r_dat)\n",
    "\"\"\"\n",
    "#for gas:\n",
    "rgasv = rgasv[rval.argsort()]\n",
    "f_v_G = inter.InterpolatedUnivariateSpline(rval[idx%1==0], rgasv[idx%1==0], k=5)\n",
    "f_v_G_v = np.vectorize(f_v_G)\n",
    "\n",
    "#for disk:\n",
    "rdiskv = rdiskv[rval.argsort()]\n",
    "f_v_D = inter.InterpolatedUnivariateSpline(rval[idx%1==0], rdiskv[idx%1==0], k=5)\n",
    "f_v_D_v = np.vectorize(f_v_D)\n",
    "\n",
    "#for halo:\n",
    "halo_dtv = halo_dtv[rval.argsort()]\n",
    "f_v_H = inter.InterpolatedUnivariateSpline(rval[idx%1==0], halo_dtv[idx%1==0], k=5)\n",
    "f_v_H_v = np.vectorize(f_v_H)\n",
    "\n",
    "#for bulge:\n",
    "rbulgev = rbulgev[rval.argsort()]\n",
    "f_v_B = inter.InterpolatedUnivariateSpline(rval[idx%1==0], rbulgev[idx%1==0], k=5)\n",
    "f_v_B_v = np.vectorize(f_v_B)\n",
    "\"\"\""
   ]
  },
  {
   "cell_type": "code",
   "execution_count": 8,
   "metadata": {},
   "outputs": [
    {
     "data": {
      "image/png": "[encoded data removed]",
      "text/plain": [
       "<Figure size 792x432 with 1 Axes>"
      ]
     },
     "metadata": {
      "needs_background": "light"
     },
     "output_type": "display_data"
    }
   ],
   "source": [
    "# Define for plotting cont.\n",
    "\n",
    "#rval = np.linspace(0,11.2,0.1)\n",
    "\n",
    "\n",
    "g_dict = g_fit.best_values\n",
    "g_g = g_dict['GX']\n",
    "g_b = g_dict['BX']\n",
    "g_d = g_dict['DX']\n",
    "g_rc = g_dict['rc']\n",
    "g_rho00 = g_dict['rho00']\n",
    "halo_curve = nf.h_v(rval,g_rc,g_rho00)\n",
    "\n",
    "plt.figure(figsize=(11,6))\n",
    "plt.errorbar(r_dat,v_dat,yerr=v_err1,fmt='bo',label='Data')\n",
    "#plt.plot(rval,f_v_T_v(rval),'k',label='Total Fit')\n",
    "plt.plot(r_dat,bestg,'k',label='Total Fit')\n",
    "plt.plot(rgasr,g_g*rgasv_fit,label='Fitted Gas') #plot doesn't look right if using rval to graph\n",
    "\n",
    "\n",
    "plt.plot(rbulger,g_b*rbulgev,label='Fitted Bulge')\n",
    "#plt.scatter(r_dat,g_b*rbulgev_spline(r_dat),label='Bulge Points') #confusion\n",
    "plt.plot(rval,halo_curve,'r-',label='Halo Analytical')\n",
    "\n",
    "#halo_curve=halo_curve[:len(halo_curve)-6]\n",
    "#halo_curve=halo_curve[0::6]\n",
    "\n",
    "plt.plot(rdiskr,g_d*rdiskv,label='Fitted Disk')\n",
    "#plt.plot(halo_dtr,g_h*halo_dtv,label='Fitted Halo')\n",
    "#ZZZ=np.append([0],bestg)\n",
    "#bary=ZZZ-halo_curve\n",
    "#plt.plot(r_dat_andzero,bary,'m',label='Baryonic (visible) matter')\n",
    "\n",
    "plt.legend(loc='lower right')\n",
    "plt.ylim(0,360)\n",
    "plt.xlim(0,12)\n",
    "plt.show()\n"
   ]
  },
  {
   "cell_type": "markdown",
   "metadata": {},
   "source": [
    "## 12-16-20: Halo is larger and disk is smaller than figure 9 (due to degeneracy?). Bulge is very slightly smaller than figure 9. Gas is pretty spot on\n"
   ]
  },
  {
   "cell_type": "code",
   "execution_count": 9,
   "metadata": {},
   "outputs": [
    {
     "data": {
      "text/plain": [
       "'\\ndef g(r,GX,BX,DX,rc,rho00):\\n    return np.sqrt((GX*rgasv_fit)**2 \\n                   + (BX*rbulgev_fit)**2 \\n                   + (DX*rdiskv_fit)**2\\n                   + (nf.h_v(rval,rc,rho00))**2)\\n'"
      ]
     },
     "execution_count": 9,
     "metadata": {},
     "output_type": "execute_result"
    }
   ],
   "source": [
    "# Define components\n",
    "def bulge(BX):\n",
    "    return BX*rbulgev_fit\n",
    "\n",
    "def disk(DX):\n",
    "    return DX*rdiskv_fit\n",
    "\n",
    "def halo(r_dat,rc,rho00):\n",
    "    return nf.h_v(r_dat,rc,rho00,load=False)\n",
    "\n",
    "def gas(GX):\n",
    "    return GX*rgasv_fit\n",
    "\n",
    "def totalcurve(rval,GX,BX,DX,rc,rho00):\n",
    "    return np.sqrt((gas(GX)**2)\n",
    "                   + (bulge(BX)**2) \n",
    "                   + (disk(DX)**2)\n",
    "                   + (halo(rval,rc,rho00)**2))\n",
    "'''\n",
    "def g(r,GX,BX,DX,rc,rho00):\n",
    "    return np.sqrt((GX*rgasv_fit)**2 \n",
    "                   + (BX*rbulgev_fit)**2 \n",
    "                   + (DX*rdiskv_fit)**2\n",
    "                   + (nf.h_v(rval,rc,rho00))**2)\n",
    "'''"
   ]
  },
  {
   "cell_type": "code",
   "execution_count": 10,
   "metadata": {},
   "outputs": [
    {
     "name": "stdout",
     "output_type": "stream",
     "text": [
      "132480188.9778528\n"
     ]
    }
   ],
   "source": [
    "#best fitted prefactor values for each component, to be used as default (initial) values for widget sliders\n",
    "g_dict = g_fit.best_values\n",
    "best_GX = g_dict['GX']\n",
    "best_BX = g_dict['BX']\n",
    "best_DX = g_dict['DX']\n",
    "best_rc = g_dict['rc']\n",
    "best_rho00 = g_dict['rho00']\n",
    "print(best_rho00)"
   ]
  },
  {
   "cell_type": "code",
   "execution_count": 15,
   "metadata": {},
   "outputs": [],
   "source": [
    "# Define plotting function\n",
    "def f(GX,BX,DX,rc,rho00):\n",
    "    \n",
    "    # Define r\n",
    "    xmax=12 #kpc\n",
    "    r = np.linspace(0,11.2,19)\n",
    "    \n",
    "    # Plot\n",
    "    plt.figure(figsize=(11,6))\n",
    "    plt.xlim(0,xmax)\n",
    "    plt.ylim(0,360)\n",
    "    \n",
    "    plt.errorbar(r_dat,v_dat,yerr=v_err1,fmt='bo',label='Data')\n",
    "    plt.plot(rbulger,bulge(BX),label=(\"Bulge\"),color='orange')\n",
    "    plt.plot(rdiskr,disk(DX),label=(\"Disk\"),color='purple')\n",
    "    plt.plot(rval,halo(rval,rc,rho00),label=(\"Halo\"),color='green')\n",
    "    plt.plot(rgasr,gas(GX),label=(\"Gas\"),color='blue')\n",
    "    plt.plot(r_dat,totalcurve(rval,GX,BX,DX,rc,rho00),label=(\"Total Curve\"),color='red')\n",
    "    plt.plot(r_dat,bestg,'k',label='proper Total Fit')\n",
    "    plt.title(\"Interactive Rotation Curve - Galaxy: NGC 5005\")\n",
    "    \n",
    "    #plt.plot(rval,halo_curve,'r-',label='Correct Halo')\n",
    "    #plt.plot(rbulger,g_b*rbulgev,label='Correct bulge')\n",
    "    plt.xlabel(\"Radius (kpc)\")\n",
    "    plt.ylabel(\"Velocity (km/s)\")\n",
    "    \n",
    "    \n",
    "    plt.legend(loc='lower right')\n",
    "    # Chi squared and reduced chi squared\n",
    "    # Residuals\n",
    "    \n",
    "    r = np.linspace(0,11.2,69)\n",
    "    residuals = v_dat - totalcurve(r_dat,GX,BX,DX,rc,rho00)\n",
    "    # Determining errors\n",
    "    errors = v_err1**2 #second term is inclination uncertainty\n",
    "    # Chi squared\n",
    "    chisquared = np.sum(residuals**2/errors**2)\n",
    "    #chisquared = stats.chisquare(v_dat,totalcurve(r,M,bpref,dpref,rc,rho00,gpref))\n",
    "    reducedchisquared = chisquared * (1/(len(r_dat)-6))\n",
    "    \n",
    "   \n",
    "    props = dict(boxstyle='round', facecolor='white', alpha=0.5)\n",
    "    plt.text(80,170,r\"$\\chi^2$: {:.5f}\".format(chisquared)+'\\n'+r\"Reduced: {:.5f}\".format(reducedchisquared),bbox=props)\n",
    "    #plt.text(80,150,,bbox=props)\n",
    "    \n",
    "    #chi\n",
    "    '''\n",
    "    plt.annotate('Can you get the Reduced $\\chi^2$ to zero?',\n",
    "            xy=(0, 0), xytext=(510, 420),\n",
    "            xycoords=('axes fraction', 'figure fraction'),\n",
    "            textcoords='offset points',\n",
    "            size=22, ha='left')\n",
    "\n",
    "    plt.text(105,300,\"In a strictly statistical sense, a Reduced $\\chi^2$ of zero\", fontsize=13),\n",
    "    plt.text(105,275,\"represents a perfect fit; however, a Reduced $\\chi^2$ much\", fontsize=13),\n",
    "    plt.text(105,250,\"less than one often indicates that more parameters were\", fontsize=13),\n",
    "    plt.text(105,225,\"used than represent the physical system. In this fit,\", fontsize=13),\n",
    "    plt.text(105,200,\"the Reduced $\\chi^2$ is around 1 due primarily to the\", fontsize=13),\n",
    "    plt.text(105,175,\"gas component, which is actually fixed (according\", fontsize=13),\n",
    "    plt.text(105,150,\"to the physical characteristics of the Hydrogen gas\", fontsize=13),\n",
    "    plt.text(105,125,\"it represents; see our video for more details). Here,\", fontsize=13),\n",
    "    plt.text(105,100,\"we allow you to break the laws of nature and scale\", fontsize=13),\n",
    "    plt.text(105,75,\"each component as you please. See how 'good' of\", fontsize=13),\n",
    "    plt.text(105,50,\"a fit you can get!\", fontsize=13)\n",
    "    plt.annotate('Data source: [PUT SOURCE HERE]',\n",
    "            xy=(0, 0), xytext=(0,5),\n",
    "            xycoords=('axes fraction', 'figure fraction'),\n",
    "            textcoords='offset points',\n",
    "            size=10, ha='left', va='bottom')\n",
    "    '''\n",
    "    plt.show()"
   ]
  },
  {
   "cell_type": "code",
   "execution_count": 16,
   "metadata": {},
   "outputs": [
    {
     "data": {
      "application/vnd.jupyter.widget-view+json": {
       "model_id": "008ce43087b3488da6f017f806c5d1d0",
       "version_major": 2,
       "version_minor": 0
      },
      "text/plain": [
       "VBox(children=(Button(button_style='warning', description='Best Fit', icon='check', style=ButtonStyle()), Outp…"
      ]
     },
     "metadata": {},
     "output_type": "display_data"
    }
   ],
   "source": [
    "# Appearance\n",
    "style = {'description_width': 'initial'}\n",
    "layout = {'width':'600px'}\n",
    "\n",
    "# Define slides\n",
    "\n",
    "GX = FloatSlider(min=0, max=5, step=0.1, \n",
    "                    value=best_GX,\n",
    "                    description='Gas Prefactor', \n",
    "                    readout_format='.2f', \n",
    "                    orientation='horizontal', \n",
    "                    style=style, layout=layout)\n",
    "\n",
    "BX = FloatSlider(min=0, max=5, step=0.1, \n",
    "                    value=best_BX, \n",
    "                    description='Bulge Prefactor', \n",
    "                    readout_format='.2f', \n",
    "                    orientation='horizontal', \n",
    "                    style=style, layout=layout)\n",
    "\n",
    "DX = FloatSlider(min=0, max=5, step=0.1, \n",
    "                    value=best_DX, \n",
    "                    description='Disk Prefactor', \n",
    "                    readout_format='.2f', \n",
    "                    orientation='horizontal', \n",
    "                    style=style, layout=layout)\n",
    "\n",
    "#rc = FloatSlider(min=0, max=5, step=0.1, value=best_rc, description='Halo Core Radius [kpc]', readout_format='.2f', orientation='horizontal', style=style, layout=layout)\n",
    "rc = fixed(best_rc)\n",
    "#rho00 = fixed(best_rho00)\n",
    "\n",
    "rho00 = FloatSlider(min=0, max=1e9, step=1e7, \n",
    "                    value=best_rho00, \n",
    "                    description=r'Halo Surface Density [$M_{\\odot} / pc^3$]', \n",
    "                    readout_format='.2e', \n",
    "                    orientation='horizontal', \n",
    "                    style=style, layout=layout)\n",
    "\n",
    "# Interactive widget\n",
    "def interactive_plot(f):\n",
    "    interact = interactive(f,\n",
    "                               GX = GX,\n",
    "                               BX = BX, \n",
    "                               DX = DX, \n",
    "                               rc = rc,\n",
    "                               rho00 = rho00,\n",
    "        \n",
    "                               continuous_update=False)\n",
    "    return interact\n",
    "\n",
    "# Button to revert back to Best Fit\n",
    "button = Button(\n",
    "    description=\"Best Fit\",\n",
    "    button_style='warning', # 'success', 'info', 'warning', 'danger' or ''\n",
    "    icon='check')\n",
    "out = Output()\n",
    "\n",
    "def on_button_clicked(_):\n",
    "    #display(Javascript('IPython.notebook.execute_cells_below()'))\n",
    "    BX.value = best_BX\n",
    "    DX.value = best_DX\n",
    "    rho00.value = best_rho00\n",
    "    GX.value = best_GX\n",
    "\n",
    "button.on_click(on_button_clicked)\n",
    "\n",
    "# displaying button and its output together\n",
    "VBox([button,out,interactive_plot(f)])"
   ]
  },
  {
   "cell_type": "code",
   "execution_count": null,
   "metadata": {},
   "outputs": [],
   "source": []
  }
 ],
 "metadata": {
  "kernelspec": {
   "display_name": "Python 3",
   "language": "python",
   "name": "python3"
  },
  "language_info": {
   "codemirror_mode": {
    "name": "ipython",
    "version": 3
   },
   "file_extension": ".py",
   "mimetype": "text/x-python",
   "name": "python",
   "nbconvert_exporter": "python",
   "pygments_lexer": "ipython3",
   "version": "3.8.3"
  }
 },
 "nbformat": 4,
 "nbformat_minor": 4
}
