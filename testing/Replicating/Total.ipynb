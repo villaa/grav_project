{
 "cells": [
  {
   "cell_type": "code",
   "execution_count": null,
   "metadata": {},
   "outputs": [],
   "source": [
    "#Imports\n",
    "import sys\n",
    "sys.path.append('../../python')\n",
    "import NGC5533_functions as nf\n",
    "import numpy as np\n",
    "import matplotlib.pyplot as plt"
   ]
  },
  {
   "cell_type": "code",
   "execution_count": null,
   "metadata": {},
   "outputs": [],
   "source": [
    "#Variables\n",
    "xd = np.linspace(1, 10, 100)                        #x from/to and line smoothness\n",
    "r0 = np.linspace(0.1, 10, 100)                       #radius over which plotting will be done"
   ]
  },
  {
   "cell_type": "code",
   "execution_count": null,
   "metadata": {},
   "outputs": [],
   "source": [
    "fig = plt.figure(figsize=(9.0,8.0))                #size of the plot\n",
    "ax = plt.axes()\n",
    "ax.grid(True)\n",
    "ax.yaxis.grid(True,which='minor',linestyle='--')\n",
    "\n",
    "plt.plot(r0, nf.v(r0), linestyle='solid', label='Total')\n",
    "#plt.plot(r0, vdr, linestyle='--', label='Disk')\n",
    "#plt.plot(r0, vcdmr, linestyle='-.', label='Halo')                 #Matches Jiminez from Halo_Velocity.ipynb\n",
    "#plt.plot(r0, vbr, linestyle=':', label='Bulge')                   #Doesn't match Bulge_Rotation_Curve_n2_7.ipynb\n",
    "#plt.plot(r0, vbhr, label='Black Hole')                            #Matches BlackHole_Velocity.ipynb\n",
    "\n",
    "fig.suptitle('Total Rotation Curve NGC5533', fontsize=18)\n",
    "ax.set(title='NGC 5533')              #labeling axes\n",
    "ax.set_xlim(0,10)\n",
    "ax.set_xlabel('Radius (kpc)', fontsize=14)\n",
    "ax.set_ylabel('Velocity (km/s)', fontsize=14)\n",
    "ax.xaxis.set_tick_params(labelsize=14)\n",
    "ax.yaxis.set_tick_params(labelsize=14);\n",
    "\n",
    "plt.legend()\n",
    "#plt.axis([0,10,0,250])\n",
    "plt.savefig('Outputs/total.png')"
   ]
  }
 ],
 "metadata": {
  "kernelspec": {
   "display_name": "Python 3",
   "language": "python",
   "name": "python3"
  },
  "language_info": {
   "codemirror_mode": {
    "name": "ipython",
    "version": 3
   },
   "file_extension": ".py",
   "mimetype": "text/x-python",
   "name": "python",
   "nbconvert_exporter": "python",
   "pygments_lexer": "ipython3",
   "version": "3.7.3"
  }
 },
 "nbformat": 4,
 "nbformat_minor": 4
}
