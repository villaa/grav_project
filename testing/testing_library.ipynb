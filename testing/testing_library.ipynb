{
 "cells": [
  {
   "cell_type": "code",
   "execution_count": 1,
   "metadata": {},
   "outputs": [],
   "source": [
    "import sys\n",
    "sys.path.append('../python')\n",
    "import NGC5533_functions as nf"
   ]
  },
  {
   "cell_type": "code",
   "execution_count": 3,
   "metadata": {},
   "outputs": [
    {
     "name": "stdout",
     "output_type": "stream",
     "text": [
      "4.30091e-06\n"
     ]
    }
   ],
   "source": [
    "print(nf.G)"
   ]
  },
  {
   "cell_type": "code",
   "execution_count": 5,
   "metadata": {},
   "outputs": [
    {
     "name": "stdout",
     "output_type": "stream",
     "text": [
      "34.07705533052995\n",
      "0.0006558132356090414\n"
     ]
    }
   ],
   "source": [
    "print(nf.bh(10))\n",
    "print(nf.bh(10,1))"
   ]
  },
  {
   "cell_type": "markdown",
   "metadata": {},
   "source": [
    "- Populate with all of our clean functions\n",
    "- Constants\n",
    "- Cache internally to function\n",
    "- Check that output is correct\n",
    "\n",
    "Set n = 2.7 and calculate, scale with prefactor. (Get funciton using spline)\n",
    "- put vector in file, look in file for vector (.hdf5)\n",
    "- Have file in email as example\n",
    "- Print filename as input, returns vectors\n",
    "\n",
    "Also have an function that truly calculates and fits for n?\n",
    "- Partial calculation?\n",
    "- Plot single points as functions of variable *n*\n",
    "    - y = f(n), fit for f instead\n",
    "    - make sure that these are applicable to all r"
   ]
  },
  {
   "cell_type": "raw",
   "metadata": {},
   "source": [
    "#For defaults:\n",
    "    def f(x,y=1)      #y defaults to 1, x has no default\n",
    "    return ###############"
   ]
  },
  {
   "cell_type": "code",
   "execution_count": 7,
   "metadata": {},
   "outputs": [],
   "source": [
    "import h5py as h5"
   ]
  },
  {
   "cell_type": "code",
   "execution_count": 9,
   "metadata": {},
   "outputs": [],
   "source": [
    "f = h5.File('test.h5','w')"
   ]
  },
  {
   "cell_type": "code",
   "execution_count": 11,
   "metadata": {},
   "outputs": [],
   "source": [
    "import numpy as np\n",
    "stuff = np.zeros(5)\n",
    "\n",
    "dset = f.create_dataset('test/data',np.shape(stuff),dtype = np.dtype('float64').type)"
   ]
  },
  {
   "cell_type": "code",
   "execution_count": 12,
   "metadata": {},
   "outputs": [],
   "source": [
    "dset[...] = stuff"
   ]
  },
  {
   "cell_type": "code",
   "execution_count": 13,
   "metadata": {},
   "outputs": [],
   "source": [
    "f.close()"
   ]
  },
  {
   "cell_type": "code",
   "execution_count": 14,
   "metadata": {},
   "outputs": [],
   "source": [
    "f = h5.File('test.h5','r')"
   ]
  },
  {
   "cell_type": "code",
   "execution_count": 15,
   "metadata": {},
   "outputs": [
    {
     "name": "stdout",
     "output_type": "stream",
     "text": [
      "<HDF5 dataset \"data\": shape (5,), type \"<f8\">\n"
     ]
    }
   ],
   "source": [
    "print(f['test/data'])"
   ]
  },
  {
   "cell_type": "code",
   "execution_count": 16,
   "metadata": {},
   "outputs": [],
   "source": [
    "stuff2 = np.asarray(f['test/data'])"
   ]
  },
  {
   "cell_type": "code",
   "execution_count": 17,
   "metadata": {},
   "outputs": [
    {
     "name": "stdout",
     "output_type": "stream",
     "text": [
      "[0. 0. 0. 0. 0.]\n"
     ]
    }
   ],
   "source": [
    "print(stuff2)"
   ]
  },
  {
   "cell_type": "code",
   "execution_count": 18,
   "metadata": {},
   "outputs": [],
   "source": [
    "f.close()"
   ]
  }
 ],
 "metadata": {
  "kernelspec": {
   "display_name": "Python 3",
   "language": "python",
   "name": "python3"
  },
  "language_info": {
   "codemirror_mode": {
    "name": "ipython",
    "version": 3
   },
   "file_extension": ".py",
   "mimetype": "text/x-python",
   "name": "python",
   "nbconvert_exporter": "python",
   "pygments_lexer": "ipython3",
   "version": "3.7.3"
  }
 },
 "nbformat": 4,
 "nbformat_minor": 4
}
