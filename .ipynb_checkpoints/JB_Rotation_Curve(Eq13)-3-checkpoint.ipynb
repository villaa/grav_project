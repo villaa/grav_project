{
 "cells": [
  {
   "cell_type": "code",
   "execution_count": 18,
   "metadata": {},
   "outputs": [
    {
     "name": "stdout",
     "output_type": "stream",
     "text": [
      "[0. 0. 0. 0. 0. 0. 0. 0. 0. 0. 0. 0. 0. 0. 0. 0. 0. 0. 0. 0. 0. 0. 0. 0.\n",
      " 0. 0. 0. 0. 0. 0. 0. 0. 0. 0. 0. 0. 0. 0. 0. 0. 0. 0. 0. 0. 0. 0. 0. 0.\n",
      " 0. 0. 0. 0. 0. 0. 0. 0. 0. 0. 0. 0. 0. 0. 0. 0. 0. 0. 0. 0. 0. 0. 0. 0.\n",
      " 0. 0. 0. 0. 0. 0. 0. 0.]\n",
      "[0. 0. 0. 0. 0. 0. 0. 0. 0. 0. 0. 0. 0. 0. 0. 0. 0. 0. 0. 0. 0. 0. 0. 0.\n",
      " 0. 0. 0. 0. 0. 0. 0. 0. 0. 0. 0. 0. 0. 0. 0. 0. 0. 0. 0. 0. 0. 0. 0. 0.\n",
      " 0. 0. 0. 0. 0. 0. 0. 0. 0. 0. 0. 0. 0. 0. 0. 0. 0. 0. 0. 0. 0. 0. 0. 0.\n",
      " 0. 0. 0. 0. 0. 0. 0. 0.]\n"
     ]
    },
    {
     "data": {
      "image/png": "[encoded data removed]",
      "text/plain": [
       "<Figure size 648x576 with 1 Axes>"
      ]
     },
     "metadata": {
      "needs_background": "light"
     },
     "output_type": "display_data"
    }
   ],
   "source": [
    "import numpy as np\n",
    "import matplotlib as mpl\n",
    "from matplotlib import pyplot as plt\n",
    "import scipy.integrate as integrate\n",
    "from scipy.integrate import quad, dblquad\n",
    "              \n",
    " #parameters \n",
    "m_0 = 1.0                                          #m=sqrt(x**2+y**2+(z/q)**2)\n",
    "n = 4.0                                            #concentration parameter that describes the curvature of the profile in a radius-magnitude plot, n=4 is de Vaucoileurs profile\n",
    "r_0 = 1.4                                          #characteristic radius (kpc)\n",
    "I_0 = 1.08e3                                        #central surface brightness (20 mag/arcsec^2 = 1.08e3 cd/km^2)\n",
    "G = 4.300e-6                                        #gravitational constant (kpc/solar mass*(km/s)^2)\n",
    "ups = 2.8                                           #mass-to-light ratio (from Rotation Curves of Sersic Bulges paper)\n",
    "q = 0.33                                            #intrinsic axis ratio\n",
    "i = 40*(np.pi/180)                                  #inclination angle\n",
    "\n",
    " #equations\n",
    "C = (4*G*q*ups*I_0)/(r_0*np.float(n))*(np.sqrt((np.sin(i)**2)+(1/(q**2))*(np.cos(i)**2)))\n",
    "e2 = 1-(q**2)\n",
    "x = np.linspace(10, 8000, 80)\n",
    "\n",
    " #integrate\n",
    "    \n",
    "f = lambda x, m, r: ((np.exp(-np.power(x/r_0, (1/n))))*(np.power(x/r_0, ((1/n)-1))))/(np.sqrt((x**2)-(m**2)))\n",
    "y = np.zeros(np.shape(x))\n",
    "for j,m in enumerate(x):\n",
    "    gm = lambda x: f(x,m,r)\n",
    "    ym = quad(gm, m, np.inf)[0]\n",
    "    #y[j] = ym\n",
    "\n",
    "#g = quad(f, np.float(m), np.inf)\n",
    "\n",
    "h = lambda m, r: C*ym*(m**2)/(np.sqrt((r**2)-((m**2)*(e2))))\n",
    "z = np.zeros(np.shape(x))\n",
    "print(y)\n",
    "for k,r in enumerate(x):\n",
    "    hr = lambda m: h(m,r)\n",
    "    zr = quad(hr, 1, r)[0]\n",
    "    z[k] = zr\n",
    "print(y)\n",
    "#v2 = quad(zr, 1, r)\n",
    "v = np.sqrt(zr)\n",
    " \n",
    " #graph\n",
    "fig = plt.figure(figsize=(9.0,8.0))                 #size of the plot\n",
    "ax3 = plt.axes()\n",
    "ax3.grid(True)\n",
    "ax3.yaxis.grid(True,which='minor',linestyle='--')\n",
    "\n",
    "\n",
    " #functions\n",
    "plt.plot(r, v, linestyle='solid', label='Velocity(r)')          \n",
    "\n",
    "plt.axis('tight');                                 #xmin, xmax, ymin, ymax\n",
    "                                                   #or use: plt.xlim(10, 0) plt.ylim(1.2, -1.2);\n",
    "                                                   #or to tighten the bounds: plt.axis('tight')\n",
    "                                                   #or use: plt.axis('tight')\n",
    "                                                   #plt.axis([0, 15000, 0.5e6, 2.5e6])\n",
    " #labeling plots\n",
    "ax3.set(title='Bulge Rotation Curve')              #labeling axes\n",
    "ax3.set(xlabel='Radius (kpc)', ylabel='Velocity (km/s)');\n",
    "\n",
    "plt.legend(fontsize=14);                                   #adding legend\n",
    "plt.tight_layout()\n",
    "plt.savefig('Bulge_Rotation_Curve2.png')\n",
    "plt.show()"
   ]
  },
  {
   "cell_type": "code",
   "execution_count": null,
   "metadata": {},
   "outputs": [],
   "source": []
  }
 ],
 "metadata": {
  "kernelspec": {
   "display_name": "Python 3",
   "language": "python",
   "name": "python3"
  },
  "language_info": {
   "codemirror_mode": {
    "name": "ipython",
    "version": 3
   },
   "file_extension": ".py",
   "mimetype": "text/x-python",
   "name": "python",
   "nbconvert_exporter": "python",
   "pygments_lexer": "ipython3",
   "version": "3.7.1"
  }
 },
 "nbformat": 4,
 "nbformat_minor": 2
}
