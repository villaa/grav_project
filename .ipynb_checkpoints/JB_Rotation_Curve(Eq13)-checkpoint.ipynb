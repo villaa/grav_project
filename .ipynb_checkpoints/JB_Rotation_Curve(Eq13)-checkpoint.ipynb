{
 "cells": [
  {
   "cell_type": "code",
   "execution_count": 1,
   "metadata": {},
   "outputs": [
    {
     "name": "stdout",
     "output_type": "stream",
     "text": [
      "(3.908165603798561e-05, 6.240357482872102e-10)\n"
     ]
    }
   ],
   "source": [
    "import numpy as np\n",
    "import matplotlib as mpl\n",
    "from matplotlib import pyplot as plt\n",
    "import scipy.integrate as integrate\n",
    "from scipy.integrate import quad\n",
    "              \n",
    " #parameters \n",
    "m_0 = 1.0                                          #m=sqrt(x**2+y**2+(z/q)**2)\n",
    "n = 4.0                                            #concentration parameter that describes the curvature of the profile in a radius-magnitude plot, n=4 is de Vaucoileurs profile\n",
    "r_0 = 1.4e-3                                          #characteristic radius (kpc)\n",
    "\n",
    " #integrate\n",
    "f = lambda x: ((np.exp(-np.power(x/r_0, (1/n))))*(np.power(x/r_0, ((1/n)-1))))/(np.sqrt((x**2)-(m_0**2)));\n",
    "\n",
    "I = quad(f, m_0, np.inf)\n",
    "\n",
    "print(I)\n"
   ]
  },
  {
   "cell_type": "code",
   "execution_count": 2,
   "metadata": {},
   "outputs": [
    {
     "name": "stdout",
     "output_type": "stream",
     "text": [
      "4.066583806080219e-08\n"
     ]
    }
   ],
   "source": [
    "g = lambda m: quad(f, m, np.inf)[0]\n",
    "print(g(10))"
   ]
  },
  {
   "cell_type": "code",
   "execution_count": 3,
   "metadata": {},
   "outputs": [
    {
     "data": {
      "image/png": "[encoded data removed]",
      "text/plain": [
       "<Figure size 648x576 with 1 Axes>"
      ]
     },
     "metadata": {
      "needs_background": "light"
     },
     "output_type": "display_data"
    }
   ],
   "source": [
    "#adjusting the plot\n",
    "fig = plt.figure(figsize=(9.0,8.0))                #size of the plot\n",
    "ax = plt.axes()\n",
    "ax.grid(True)\n",
    "ax.yaxis.grid(True,which='minor',linestyle='--')\n",
    "\n",
    "ax.set_yscale('log')\n",
    "x = np.linspace(1, 10, 100)                        #x from/to and line smoothness\n",
    "gv = np.vectorize(g)\n",
    "\n",
    " #functions\n",
    "plt.plot(x, gv(x), linestyle='solid', label='g(\\u03BA)')          \n",
    "\n",
    "plt.axis('tight');                                 #xmin, xmax, ymin, ymax\n",
    "                                                   #or use: plt.xlim(10, 0) plt.ylim(1.2, -1.2);\n",
    "                                                   #or to tighten the bounds: plt.axis('tight')\n",
    "                                                   #or use: plt.axis([0, 15000, 0.5e6, 2.5e6])\n",
    " #labeling plots\n",
    "fig.suptitle('Inner Integral', fontsize=16)\n",
    "ax.set(title='Rotation Curves of Sersic Bulges')          #labeling axes\n",
    "ax.set(xlabel='\\u03BA (kpc)', ylabel='g(\\u03BA)');\n",
    "\n",
    "plt.legend(fontsize=14);                                      #adding legend"
   ]
  },
  {
   "cell_type": "code",
   "execution_count": null,
   "metadata": {},
   "outputs": [
    {
     "name": "stdout",
     "output_type": "stream",
     "text": [
      "[0. 0. 0. 0. 0. 0. 0. 0. 0. 0. 0. 0. 0. 0. 0. 0. 0. 0. 0. 0. 0. 0. 0. 0.\n",
      " 0. 0. 0. 0. 0. 0. 0. 0. 0. 0. 0. 0. 0. 0. 0. 0. 0. 0. 0. 0. 0. 0. 0. 0.\n",
      " 0. 0. 0. 0. 0. 0. 0. 0. 0. 0. 0. 0. 0. 0. 0. 0. 0. 0. 0. 0. 0. 0. 0. 0.\n",
      " 0. 0. 0. 0. 0. 0. 0. 0.]\n"
     ]
    },
    {
     "name": "stderr",
     "output_type": "stream",
     "text": [
      "C:\\Users\\JB\\AppData\\Local\\Continuum\\anaconda3\\lib\\site-packages\\scipy\\integrate\\quadpack.py:385: IntegrationWarning: The maximum number of subdivisions (50) has been achieved.\n",
      "  If increasing the limit yields no improvement it is advised to analyze \n",
      "  the integrand in order to determine the difficulties.  If the position of a \n",
      "  local difficulty can be determined (singularity, discontinuity) one will \n",
      "  probably gain from splitting up the interval and calling the integrator \n",
      "  on the subranges.  Perhaps a special-purpose integrator should be used.\n",
      "  warnings.warn(msg, IntegrationWarning)\n",
      "C:\\Users\\JB\\AppData\\Local\\Continuum\\anaconda3\\lib\\site-packages\\scipy\\integrate\\quadpack.py:385: IntegrationWarning: The occurrence of roundoff error is detected, which prevents \n",
      "  the requested tolerance from being achieved.  The error may be \n",
      "  underestimated.\n",
      "  warnings.warn(msg, IntegrationWarning)\n"
     ]
    }
   ],
   "source": [
    " #parameters\n",
    "I_0 = 1.08e8                                        #central surface brightness (20 mag/arcsec^2 = 1.08e3 cd/km^2)\n",
    "G = 4.300e-6                                        #gravitational constant (kpc/solar mass*(km/s)^2)\n",
    "ups = 2.8                                           #mass-to-light ratio (from Rotation Curves of Sersic Bulges paper)\n",
    "q = 0.33                                            #intrinsic axis ratio\n",
    "i = 40*(np.pi/180)                                  #inclination angle\n",
    "\n",
    "#equations\n",
    "C = (4*G*q*ups*I_0)/(r_0*np.float(n))*(np.sqrt((np.sin(i)**2)+(1/(q**2))*(np.cos(i)**2)))\n",
    "e2 = 1-(q**2)\n",
    "x = np.linspace(10, 8000, 80)\n",
    "\n",
    "h = lambda m,r: C*g(m)*(m**2)/(np.sqrt((r**2)-((m**2)*(e2))))\n",
    "#l = lambda r: quad(h, 1, r)[0]\n",
    "y = np.zeros(np.shape(x))\n",
    "print(y)\n",
    "for j,r in enumerate(x):\n",
    "    hr = lambda m: h(m,r)\n",
    "    yr = quad(hr, 1, r)[0]\n",
    "    y[j] = yr\n",
    "print(y)"
   ]
  },
  {
   "cell_type": "code",
   "execution_count": null,
   "metadata": {},
   "outputs": [],
   "source": [
    "fig = plt.figure(figsize=(9.0,8.0))                #size of the plot\n",
    "ax2 = plt.axes()\n",
    "ax2.grid(True)\n",
    "ax2.yaxis.grid(True,which='minor',linestyle='--')\n",
    "\n",
    "#x = np.linspace(1, 10, 100)                    #x from/to and line smoothness\n",
    "#lv = np.vectorize(l)\n",
    "\n",
    " #functions\n",
    "#plt.plot(x, lv(x), linestyle='solid', label='Velocity Squared')          \n",
    "plt.plot(x, y, linestyle='solid', label='Velocity Squared')\n",
    "\n",
    "plt.axis('tight');                                 #xmin, xmax, ymin, ymax\n",
    "                                                   #or use: plt.xlim(10, 0) plt.ylim(1.2, -1.2);\n",
    "                                                   #or to tighten the bounds: plt.axis('tight')\n",
    "                                                   #or use: plt.axis('tight')\n",
    "                                                   #plt.axis([0, 15000, 0.5e6, 2.5e6])\n",
    " #labeling plots\n",
    "fig.suptitle('Velocity Squared', fontsize=16)\n",
    "ax2.set(title='Rotation Curves of Sersic Bulges')          #labeling axes\n",
    "ax2.set(xlabel='radius', ylabel='v^2(r)');\n",
    "\n",
    "plt.legend(fontsize=14);                                   #adding legend\n",
    "plt.show()"
   ]
  },
  {
   "cell_type": "code",
   "execution_count": null,
   "metadata": {},
   "outputs": [],
   "source": [
    "v = np.sqrt(y)\n",
    "\n",
    "fig = plt.figure(figsize=(9.0,8.0))                 #size of the plot\n",
    "ax3 = plt.axes()\n",
    "ax3.grid(True)\n",
    "ax3.yaxis.grid(True,which='minor',linestyle='--')\n",
    "\n",
    "\n",
    " #functions\n",
    "plt.plot(x, v, linestyle='solid', label='Velocity(r)')          \n",
    "\n",
    "plt.axis('tight');                                 #xmin, xmax, ymin, ymax\n",
    "                                                   #or use: plt.xlim(10, 0) plt.ylim(1.2, -1.2);\n",
    "                                                   #or to tighten the bounds: plt.axis('tight')\n",
    "                                                   #or use: plt.axis('tight')\n",
    "                                                   #plt.axis([0, 15000, 0.5e6, 2.5e6])\n",
    " #labeling plots\n",
    "ax3.set(title='Bulge Rotation Curve')              #labeling axes\n",
    "ax3.set(xlabel='Radius (kpc)', ylabel='Velocity (km/s)');\n",
    "\n",
    "plt.legend(fontsize=14);                                   #adding legend\n",
    "plt.tight_layout()\n",
    "plt.savefig('Bulge_Rotation_Curve.png')\n",
    "plt.show()"
   ]
  },
  {
   "cell_type": "code",
   "execution_count": null,
   "metadata": {},
   "outputs": [],
   "source": []
  }
 ],
 "metadata": {
  "kernelspec": {
   "display_name": "Python 3",
   "language": "python",
   "name": "python3"
  },
  "language_info": {
   "codemirror_mode": {
    "name": "ipython",
    "version": 3
   },
   "file_extension": ".py",
   "mimetype": "text/x-python",
   "name": "python",
   "nbconvert_exporter": "python",
   "pygments_lexer": "ipython3",
   "version": "3.7.1"
  }
 },
 "nbformat": 4,
 "nbformat_minor": 2
}
