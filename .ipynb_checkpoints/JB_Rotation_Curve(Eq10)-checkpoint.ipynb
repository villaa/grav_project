{
 "cells": [
  {
   "cell_type": "code",
   "execution_count": 1,
   "metadata": {},
   "outputs": [
    {
     "name": "stdout",
     "output_type": "stream",
     "text": [
      "(-616830253.4756643, 0.40309250354766846)\n"
     ]
    }
   ],
   "source": [
    "import numpy as np\n",
    "import matplotlib as mpl\n",
    "from matplotlib import pyplot as plt\n",
    "import scipy.integrate as integrate\n",
    "from scipy.integrate import quad\n",
    "              \n",
    " #parameters \n",
    "m = 1                                               #m=sqrt(x**2+y**2+(z/q)**2)\n",
    "n = 4                                               #concentration parameter that describes the curvature of the profile in a radius-magnitude plot, n=4 is de Vaucoileurs profile\n",
    "r_0 = 500                                           #characteristic radius\n",
    "I_0 = 8e9                                           #central surface brightness \n",
    "\n",
    " #integrate\n",
    "f = lambda x: (1/np.sqrt((x**2)-(m**2)))*((-(I_0)/((r_0)*n))*(np.exp(-np.power(x/r_0, (1/n))))*(np.power(x/r_0, ((1/n)-1))));\n",
    "I = quad(f, m, np.inf)\n",
    "\n",
    "print(I)\n"
   ]
  },
  {
   "cell_type": "code",
   "execution_count": 2,
   "metadata": {},
   "outputs": [
    {
     "name": "stdout",
     "output_type": "stream",
     "text": [
      "-616830253.4756643\n"
     ]
    }
   ],
   "source": [
    "g = lambda m: quad(f, m, np.inf)[0]\n",
    "print(g(1))"
   ]
  },
  {
   "cell_type": "code",
   "execution_count": 3,
   "metadata": {},
   "outputs": [
    {
     "data": {
      "image/png": "[encoded data removed]",
      "text/plain": [
       "<Figure size 648x576 with 1 Axes>"
      ]
     },
     "metadata": {
      "needs_background": "light"
     },
     "output_type": "display_data"
    }
   ],
   "source": [
    "#adjusting the plot\n",
    "fig = plt.figure(figsize=(9.0,8.0))                 #size of the plot\n",
    "ax = plt.axes()\n",
    "ax.grid(True)\n",
    "ax.yaxis.grid(True,which='minor',linestyle='--')\n",
    "\n",
    "ax.set_yscale('log')\n",
    "x = np.linspace(1, 10, 100)                     #x from/to and line smoothness\n",
    "gv = np.vectorize(g)\n",
    "\n",
    " #functions\n",
    "plt.plot(x, -gv(x), linestyle='solid', label='g(\\u03BA)')          \n",
    "\n",
    "plt.axis('tight');                                 #xmin, xmax, ymin, ymax\n",
    "                                                   #or use: plt.xlim(10, 0) plt.ylim(1.2, -1.2);\n",
    "                                                   #or to tighten the bounds: plt.axis('tight')\n",
    "                                                   #or use: plt.axis([0, 15000, 0.5e6, 2.5e6])\n",
    " #labeling plots\n",
    "fig.suptitle('Inner Integral', fontsize=16)\n",
    "ax.set(title='Rotation Curves of Sersic Bulges')          #labeling axes\n",
    "ax.set(xlabel='\\u03BA', ylabel='g(\\u03BA)');\n",
    "\n",
    "plt.legend(fontsize=14);                                      #adding legend"
   ]
  },
  {
   "cell_type": "code",
   "execution_count": 4,
   "metadata": {},
   "outputs": [],
   "source": [
    "G = 6.67408e-11                                     #gravitational constant\n",
    "gam = 1                                             #mass-to-light ratio\n",
    "q = 0.5                                             #intrinsic axis ratio\n",
    "i = 40                                              #inclination angle\n",
    "\n",
    "C = 4*G*q*gam*I_0/(r_0*n)*(np.sqrt(np.sin(i)**2+(1/(q**2))*np.cos(i)**2))\n",
    "\n",
    "e2 = 1-(q**2);\n",
    "h = lambda a: g(a)*(m**2)/(np.sqrt((a**2)-((m**2)*(e2))))\n",
    "l = lambda x: quad(h, 0, x)[0]"
   ]
  },
  {
   "cell_type": "code",
   "execution_count": null,
   "metadata": {},
   "outputs": [
    {
     "name": "stderr",
     "output_type": "stream",
     "text": [
      "C:\\Users\\JB\\AppData\\Local\\Continuum\\anaconda3\\lib\\site-packages\\ipykernel_launcher.py:14: RuntimeWarning: invalid value encountered in sqrt\n",
      "  \n",
      "C:\\Users\\JB\\AppData\\Local\\Continuum\\anaconda3\\lib\\site-packages\\scipy\\integrate\\quadpack.py:385: IntegrationWarning: The occurrence of roundoff error is detected, which prevents \n",
      "  the requested tolerance from being achieved.  The error may be \n",
      "  underestimated.\n",
      "  warnings.warn(msg, IntegrationWarning)\n",
      "C:\\Users\\JB\\AppData\\Local\\Continuum\\anaconda3\\lib\\site-packages\\ipykernel_launcher.py:9: RuntimeWarning: invalid value encountered in sqrt\n",
      "  if __name__ == '__main__':\n",
      "C:\\Users\\JB\\AppData\\Local\\Continuum\\anaconda3\\lib\\site-packages\\scipy\\integrate\\quadpack.py:385: IntegrationWarning: The maximum number of subdivisions (50) has been achieved.\n",
      "  If increasing the limit yields no improvement it is advised to analyze \n",
      "  the integrand in order to determine the difficulties.  If the position of a \n",
      "  local difficulty can be determined (singularity, discontinuity) one will \n",
      "  probably gain from splitting up the interval and calling the integrator \n",
      "  on the subranges.  Perhaps a special-purpose integrator should be used.\n",
      "  warnings.warn(msg, IntegrationWarning)\n"
     ]
    }
   ],
   "source": [
    "fig = plt.figure(figsize=(9.0,8.0))                 #size of the plot\n",
    "ax2 = plt.axes()\n",
    "ax2.grid(True)\n",
    "ax2.yaxis.grid(True,which='minor',linestyle='--')\n",
    "\n",
    "x = np.linspace(1, 25000, 1000)                     #x from/to and line smoothness\n",
    "lv = np.vectorize(l)\n",
    "\n",
    " #functions\n",
    "plt.plot(x, lv(x), linestyle='solid', label='Velocity Curve')          \n",
    "\n",
    "plt.axis('tight');                                 #xmin, xmax, ymin, ymax\n",
    "                                                   #or use: plt.xlim(10, 0) plt.ylim(1.2, -1.2);\n",
    "                                                   #or to tighten the bounds: plt.axis('tight')\n",
    "                                                   #or use: plt.axis('tight')\n",
    "                                                   #plt.axis([0, 15000, 0.5e6, 2.5e6])\n",
    " #labeling plots\n",
    "fig.suptitle('Velocity Curve', fontsize=16)\n",
    "ax2.set(title='Rotation Curves of Sersic Bulges')          #labeling axes\n",
    "ax2.set(xlabel='radius', ylabel='l');\n",
    "\n",
    "plt.legend(fontsize=14);                                      #adding legend\n"
   ]
  },
  {
   "cell_type": "code",
   "execution_count": null,
   "metadata": {},
   "outputs": [],
   "source": []
  }
 ],
 "metadata": {
  "kernelspec": {
   "display_name": "Python 3",
   "language": "python",
   "name": "python3"
  },
  "language_info": {
   "codemirror_mode": {
    "name": "ipython",
    "version": 3
   },
   "file_extension": ".py",
   "mimetype": "text/x-python",
   "name": "python",
   "nbconvert_exporter": "python",
   "pygments_lexer": "ipython3",
   "version": "3.7.1"
  }
 },
 "nbformat": 4,
 "nbformat_minor": 2
}
