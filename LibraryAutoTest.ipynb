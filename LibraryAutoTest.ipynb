{
 "cells": [
  {
   "cell_type": "code",
   "execution_count": 1,
   "metadata": {},
   "outputs": [],
   "source": [
    "#Make sure it is importable\n",
    "import sys\n",
    "sys.path.append('python')\n",
    "from NGC5533_functions import * #prevents having to use prefix each time"
   ]
  },
  {
   "cell_type": "code",
   "execution_count": 2,
   "metadata": {},
   "outputs": [
    {
     "name": "stdout",
     "output_type": "stream",
     "text": [
      "4.30091e-06\n",
      "9.3e-18\n",
      "32700000000.0\n",
      "-22.02\n",
      "4.42\n",
      "37670379898.39093\n",
      "2.8\n",
      "0.33\n",
      "0.8911\n",
      "0.7853981633974483\n",
      "1.4\n",
      "1e-12\n",
      "1.7477453551675242e+185\n",
      "2700000000.0\n",
      "2.7\n",
      "8.9\n",
      "310000000.0\n",
      "310000000.0\n",
      "2.6\n",
      "5.0\n",
      "3.553329921083743e+78\n",
      "3.487041255446485e-36\n",
      "0\n"
     ]
    }
   ],
   "source": [
    "#Ensure that all constants can be called\n",
    "\n",
    "#---------Definitely Constant---------\n",
    "print(G)\n",
    "print(rhocrit)\n",
    "\n",
    "#---------Measured Directly-----------\n",
    "print(L)\n",
    "print(absmag)\n",
    "print(magsun)\n",
    "print(L0)\n",
    "\n",
    "#---------Measured Indirectly---------\n",
    "print(ups)\n",
    "print(q)\n",
    "print(e2)\n",
    "print(i)\n",
    "print(h_rc)\n",
    "print(c)\n",
    "print(Mvir)\n",
    "print(Mbh_def)\n",
    "\n",
    "#---------Definitely Variable---------\n",
    "print(n_c)\n",
    "print(h_c)\n",
    "print(drho00_c)\n",
    "print(hrho00_c)\n",
    "\n",
    "#---------Uncategorized-------------------\n",
    "print(re_c)\n",
    "print(epsdisk)\n",
    "print(rs)\n",
    "print(rho_s)\n",
    "print(h_gamma)"
   ]
  },
  {
   "cell_type": "code",
   "execution_count": 3,
   "metadata": {},
   "outputs": [
    {
     "data": {
      "text/plain": [
       "array([[1],\n",
       "       [0]])"
      ]
     },
     "execution_count": 3,
     "metadata": {},
     "output_type": "execute_result"
    }
   ],
   "source": [
    "#Ensure that saving/loading works outside of functions\n",
    "\n",
    "savedata([1],[0],'test','test',file='test.hdf5') #Create new file\n",
    "savedata([1],[0],'test','test1',file='test.hdf5')#Create new dataset\n",
    "savedata([1],[0],'test1','test',file='test.hdf5')#Create new group\n",
    "savedata([1],[0],'test','test',file='test.hdf5') #Attempt to create existing\n",
    "loaddata('test','test',file='test.hdf5')         #Load"
   ]
  },
  {
   "cell_type": "code",
   "execution_count": 4,
   "metadata": {},
   "outputs": [],
   "source": [
    "#numpy array for use with functions\n",
    "x = np.linspace(1,10,10)"
   ]
  },
  {
   "cell_type": "code",
   "execution_count": 5,
   "metadata": {},
   "outputs": [
    {
     "data": {
      "text/plain": [
       "array([0.00207386, 0.00146644, 0.00119735, 0.00103693, 0.00092746,\n",
       "       0.00084665, 0.00078385, 0.00073322, 0.00069129, 0.00065581])"
      ]
     },
     "execution_count": 5,
     "metadata": {},
     "output_type": "execute_result"
    }
   ],
   "source": [
    "#Black Hole\n",
    "#Showing that args are handled without error in variety of combinations\n",
    "#Done here because this is the fastest calculation\n",
    "\n",
    "bh_v(1,load=False)                        #Single point, accept default(s), no save or load, no args, no kwargs\n",
    "bh_v(x,load=False)                        #Multiple points, AD, n, nk\n",
    "bh_v(1,1,load=False)                      #SP, change M, n, nk\n",
    "bh_v(x,1,load=False)                      #MP, cM, n, nk\n",
    "bh_v(1,save=True,load=False)              #SP, AD, save, nk\n",
    "bh_v(x,save=True,load=False)              #MP, AD, s, nk\n",
    "bh_v(1,1,save=True,load=False)            #SP, cM, s, nk\n",
    "bh_v(x,1,save=True,load=False)            #MP, cM, s, nk\n",
    "bh_v(1,load=True)                         #SP, AD, load, nk\n",
    "bh_v(x,load=True)                         #MP, AD, l, nk\n",
    "bh_v(1,1,load=True)                       #SP, cM, l, nk\n",
    "bh_v(x,1,load=True)                       #MP, cM, l, nk\n",
    "bh_v(1,file='test',load=False)            #SP, AD, n, kwargs\n",
    "bh_v(x,file='test',load=False)            #MP, AD, n, k\n",
    "bh_v(1,1,file='test',load=False)          #SP, cM, n, k\n",
    "bh_v(x,1,file='test',load=False)          #MP, cM, n, k\n",
    "bh_v(1,save=True,load=False)              #SP, AD, s, k\n",
    "bh_v(x,save=True,load=False)              #MP, AD, s, k\n",
    "bh_v(1,1,save=True,load=False)            #SP, cM, s, k\n",
    "bh_v(x,1,save=True,load=False)            #MP, cM, s, k\n",
    "bh_v(1,load=True)                         #SP, AD, l, k\n",
    "bh_v(x,load=True)                         #MP, AD, l, k\n",
    "bh_v(1,1,load=True)                       #SP, cM, l, k\n",
    "bh_v(x,1,load=True)                       #MP, cM, l, k"
   ]
  },
  {
   "cell_type": "code",
   "execution_count": 6,
   "metadata": {},
   "outputs": [
    {
     "data": {
      "text/plain": [
       "array([245.1230321 , 246.33088903, 235.84306215, 223.69503285,\n",
       "       211.99654399, 201.25692665, 191.5450646 , 182.79683978,\n",
       "       174.91221427, 167.78832117])"
      ]
     },
     "execution_count": 6,
     "metadata": {},
     "output_type": "execute_result"
    }
   ],
   "source": [
    "#Bulge\n",
    "#Not going to show every combination this time as all functions mirror each other in structure,\n",
    "#Especially the velocity functions\n",
    "b_gammafunc(x)\n",
    "b_I0()\n",
    "b_r0()\n",
    "b_innerintegral(1) #Integration not meant to be called for an array\n",
    "b_vsquare(1)       #Not yet vectorized\n",
    "b_vsquarev(x)\n",
    "b_v(x)\n",
    "b_v(x,save=True)\n",
    "b_v(x,load=True)"
   ]
  },
  {
   "cell_type": "code",
   "execution_count": 7,
   "metadata": {},
   "outputs": [
    {
     "data": {
      "text/plain": [
       "array([3.30494924e-16, 1.03776329e+02, 1.24329963e+02, 1.36580950e+02,\n",
       "       1.44588565e+02, 1.50197375e+02, 1.54332991e+02, 1.57503683e+02,\n",
       "       1.60009716e+02, 1.62039185e+02])"
      ]
     },
     "execution_count": 7,
     "metadata": {},
     "output_type": "execute_result"
    }
   ],
   "source": [
    "#Halo\n",
    "h_rhat(x,x)\n",
    "h_rho(x)\n",
    "h_vcasertano(x,x)\n",
    "h_vjimenez(x)\n",
    "h_vNFW(x)\n",
    "h_viso(x)\n",
    "h_v(x)\n",
    "h_v(x,save=True)\n",
    "h_v(x,load=True)"
   ]
  },
  {
   "cell_type": "code",
   "execution_count": 8,
   "metadata": {},
   "outputs": [
    {
     "name": "stderr",
     "output_type": "stream",
     "text": [
      "python/NGC5533_functions.py:374: IntegrationWarning: The maximum number of subdivisions (50) has been achieved.\n",
      "  If increasing the limit yields no improvement it is advised to analyze \n",
      "  the integrand in order to determine the difficulties.  If the position of a \n",
      "  local difficulty can be determined (singularity, discontinuity) one will \n",
      "  probably gain from splitting up the interval and calling the integrator \n",
      "  on the subranges.  Perhaps a special-purpose integrator should be used.\n",
      "  return si.quad(d_innerintegral, 0, np.inf, args=(r,h,d_rho00))[0]\n"
     ]
    },
    {
     "data": {
      "text/plain": [
       "array([119.11679082, 171.07050149, 210.77442111, 243.27634522,\n",
       "       270.62244314, 293.9458118 , 313.98406245, 331.26634852,\n",
       "       346.19679878, 359.09744684])"
      ]
     },
     "execution_count": 8,
     "metadata": {},
     "output_type": "execute_result"
    }
   ],
   "source": [
    "#Disk\n",
    "z0(1)\n",
    "R(1)\n",
    "d(1)\n",
    "d_px(x,x,x)\n",
    "d_rho0(x)\n",
    "d_durho0(x)\n",
    "d_rho_rz(x,x)\n",
    "d_drho_rz(x,x)\n",
    "d_K(x,x,x)\n",
    "d_innerfunc(x,x,x)\n",
    "d_innerintegral(1,1)\n",
    "d_outerintegral(1)\n",
    "d_Mdblintrho()\n",
    "d_F(1)\n",
    "d_v(x,load=False)\n",
    "d_v(x,save=True,load=False)\n",
    "d_v(x,load=True)"
   ]
  },
  {
   "cell_type": "code",
   "execution_count": 9,
   "metadata": {},
   "outputs": [
    {
     "name": "stderr",
     "output_type": "stream",
     "text": [
      "python/NGC5533_functions.py:208: RuntimeWarning: divide by zero encountered in double_scalars\n",
      "  return L*(b_root**(2*n))/(re**2*2*np.pi*n*ss.gamma(2*n))\n",
      "python/NGC5533_functions.py:213: RuntimeWarning: divide by zero encountered in double_scalars\n",
      "  f = lambda x,m,n,re: np.exp(-np.power(x/b_r0(n,re), (1/n)))*np.power(x/b_r0(n,re), 1/n-1)/(np.sqrt(x**2-m**2)) #Inner function\n",
      "python/NGC5533_functions.py:219: RuntimeWarning: invalid value encountered in double_scalars\n",
      "  h = lambda m,r,n,re: C(n,re)*b_innerintegral(m,n,re)*(m**2)/(np.sqrt((r**2)-((m**2)*(e2)))) #integrate outer function\n",
      "python/NGC5533_functions.py:220: IntegrationWarning: The occurrence of roundoff error is detected, which prevents \n",
      "  the requested tolerance from being achieved.  The error may be \n",
      "  underestimated.\n",
      "  return si.quad(h, 0, r, args=(r,n,re))[0]\n"
     ]
    },
    {
     "data": {
      "text/plain": [
       "array([12.67389946, 14.63232087, 15.89014672, 16.85672997, 17.62350455,\n",
       "       18.24869081, 18.76770129, 19.20356332, 19.57227351, 19.88555007])"
      ]
     },
     "execution_count": 9,
     "metadata": {},
     "output_type": "execute_result"
    }
   ],
   "source": [
    "#Total\n",
    "v(x,load=False)\n",
    "v(x,save=True,load=False)\n",
    "v(x,load=True)"
   ]
  },
  {
   "cell_type": "code",
   "execution_count": null,
   "metadata": {},
   "outputs": [],
   "source": []
  }
 ],
 "metadata": {
  "kernelspec": {
   "display_name": "Python 3",
   "language": "python",
   "name": "python3"
  },
  "language_info": {
   "codemirror_mode": {
    "name": "ipython",
    "version": 3
   },
   "file_extension": ".py",
   "mimetype": "text/x-python",
   "name": "python",
   "nbconvert_exporter": "python",
   "pygments_lexer": "ipython3",
   "version": "3.7.3"
  }
 },
 "nbformat": 4,
 "nbformat_minor": 4
}
