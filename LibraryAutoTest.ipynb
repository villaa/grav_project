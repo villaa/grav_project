{
 "cells": [
  {
   "cell_type": "code",
   "execution_count": 1,
   "metadata": {},
   "outputs": [],
   "source": [
    "#Make sure it is importable\n",
    "import sys\n",
    "sys.path.append('python')\n",
    "from NGC5533_functions import * #prevents having to use prefix each time"
   ]
  },
  {
   "cell_type": "code",
   "execution_count": 2,
   "metadata": {},
   "outputs": [
    {
     "name": "stdout",
     "output_type": "stream",
     "text": [
      "{'limit': 100}\n",
      "4.30091e-06\n",
      "9.3e-18\n",
      "32700000000.0\n",
      "-22.02\n",
      "4.42\n",
      "37670379898.39093\n",
      "2.8\n",
      "0.33\n",
      "0.8911\n",
      "0.7853981633974483\n",
      "1.4\n",
      "1e-12\n",
      "1.7477453551675242e+185\n",
      "2700000000.0\n",
      "2.7\n",
      "8.9\n",
      "310000000.0\n",
      "9.9\n",
      "5.0\n",
      "3.553329921083743e+78\n",
      "3.487041255446485e-36\n",
      "0\n"
     ]
    }
   ],
   "source": [
    "#Ensure that all constants can be called\n",
    "\n",
    "#---------Definitely Constant---------\n",
    "print(G)\n",
    "print(rhocrit)\n",
    "\n",
    "#---------Measured Directly-----------\n",
    "print(L)\n",
    "print(absmag)\n",
    "print(magsun)\n",
    "print(L0)\n",
    "\n",
    "#---------Measured Indirectly---------\n",
    "print(ups)\n",
    "print(q)\n",
    "print(e2)\n",
    "print(i)\n",
    "print(h_rc)\n",
    "print(c)\n",
    "print(Mvir)\n",
    "print(Mbh_def)\n",
    "\n",
    "#---------Definitely Variable---------\n",
    "print(n_c)\n",
    "print(h_c)\n",
    "print(drho00_c)\n",
    "print(hrho00_c)\n",
    "\n",
    "#---------Uncategorized-------------------\n",
    "print(re_c)\n",
    "print(epsdisk)\n",
    "print(rs)\n",
    "print(rho_s)\n",
    "print(h_gamma)"
   ]
  },
  {
   "cell_type": "code",
   "execution_count": 3,
   "metadata": {},
   "outputs": [
    {
     "name": "stdout",
     "output_type": "stream",
     "text": [
      "Saved.\n",
      "Saved.\n",
      "Saved.\n",
      "Saved.\n"
     ]
    },
    {
     "data": {
      "text/plain": [
       "array([[1],\n",
       "       [0]])"
      ]
     },
     "execution_count": 3,
     "metadata": {},
     "output_type": "execute_result"
    }
   ],
   "source": [
    "#Ensure that saving/loading works outside of functions\n",
    "\n",
    "savedata([1],[0],'test','test',file='test.hdf5') #Create new file\n",
    "savedata([1],[0],'test','test1',file='test.hdf5')#Create new dataset\n",
    "savedata([1],[0],'test1','test',file='test.hdf5')#Create new group\n",
    "savedata([1],[0],'test','test',file='test.hdf5') #Attempt to create existing\n",
    "loaddata('test','test',file='test.hdf5')         #Load"
   ]
  },
  {
   "cell_type": "code",
   "execution_count": 4,
   "metadata": {},
   "outputs": [],
   "source": [
    "#numpy array for use with functions\n",
    "x = np.linspace(1,10,10)"
   ]
  },
  {
   "cell_type": "code",
   "execution_count": 5,
   "metadata": {},
   "outputs": [
    {
     "name": "stdout",
     "output_type": "stream",
     "text": [
      "Saved.\n",
      "Saved.\n",
      "Saved.\n",
      "Saved.\n",
      "Saved.\n",
      "Saved.\n",
      "Saved.\n",
      "Saved.\n"
     ]
    },
    {
     "data": {
      "text/plain": [
       "array([0.00207386, 0.00146644, 0.00119735, 0.00103693, 0.00092746,\n",
       "       0.00084665, 0.00078385, 0.00073322, 0.00069129, 0.00065581])"
      ]
     },
     "execution_count": 5,
     "metadata": {},
     "output_type": "execute_result"
    }
   ],
   "source": [
    "#Black Hole\n",
    "#Showing that args are handled without error in variety of combinations\n",
    "#Done here because this is the fastest calculation\n",
    "\n",
    "bh_v(1)                        #Single point, accept default(s), no save or load, no args, no kwargs\n",
    "bh_v(x)                        #Multiple points, AD, n, nk\n",
    "bh_v(1,1)                      #SP, change M, n, nk\n",
    "bh_v(x,1)                      #MP, cM, n, nk\n",
    "bh_v(1,save=True)              #SP, AD, save, nk\n",
    "bh_v(x,save=True)              #MP, AD, s, nk\n",
    "bh_v(1,1,save=True)            #SP, cM, s, nk\n",
    "bh_v(x,1,save=True)            #MP, cM, s, nk\n",
    "bh_v(1,load=True)              #SP, AD, load, nk\n",
    "bh_v(x,load=True)              #MP, AD, l, nk\n",
    "bh_v(1,1,load=True)            #SP, cM, l, nk\n",
    "bh_v(x,1,load=True)            #MP, cM, l, nk\n",
    "bh_v(1,file='test')            #SP, AD, n, kwargs\n",
    "bh_v(x,file='test')            #MP, AD, n, k\n",
    "bh_v(1,1,file='test')          #SP, cM, n, k\n",
    "bh_v(x,1,file='test')          #MP, cM, n, k\n",
    "bh_v(1,save=True,file='test')  #SP, AD, s, k\n",
    "bh_v(x,save=True,file='test')  #MP, AD, s, k\n",
    "bh_v(1,1,save=True,file='test')#SP, cM, s, k\n",
    "bh_v(x,1,save=True,file='test')#MP, cM, s, k\n",
    "bh_v(1,load=True,file='test')  #SP, AD, l, k\n",
    "bh_v(x,load=True,file='test')  #MP, AD, l, k\n",
    "bh_v(1,1,load=True,file='test')#SP, cM, l, k\n",
    "bh_v(x,1,load=True,file='test')#MP, cM, l, k"
   ]
  },
  {
   "cell_type": "code",
   "execution_count": 6,
   "metadata": {},
   "outputs": [
    {
     "name": "stdout",
     "output_type": "stream",
     "text": [
      "Saved.\n"
     ]
    },
    {
     "data": {
      "text/plain": [
       "array([ 98.13455801, 115.47180352, 122.77457159, 126.05178047,\n",
       "       127.29905111, 127.40236048, 126.81950423, 125.81052649,\n",
       "       124.53298597, 123.08685795])"
      ]
     },
     "execution_count": 6,
     "metadata": {},
     "output_type": "execute_result"
    }
   ],
   "source": [
    "#Bulge\n",
    "#Not going to show every combination this time as all functions mirror each other in structure,\n",
    "#Especially the velocity functions\n",
    "b_gammafunc(x)\n",
    "b_I0()\n",
    "b_r0()\n",
    "b_innerintegral(1) #Integration not meant to be called for an array\n",
    "b_vsquare(1)       #Not yet vectorized\n",
    "b_vsquarev(x)\n",
    "b_v(x)\n",
    "b_v(x,save=True)\n",
    "b_v(x,load=True)"
   ]
  },
  {
   "cell_type": "code",
   "execution_count": 7,
   "metadata": {},
   "outputs": [
    {
     "name": "stdout",
     "output_type": "stream",
     "text": [
      "Saved.\n",
      "Saved.\n"
     ]
    },
    {
     "data": {
      "text/plain": [
       "array([ 65.75149178, 103.77632898, 124.32996298, 136.58095041,\n",
       "       144.58856541, 150.19737518, 154.33299082, 157.50368289,\n",
       "       160.00971567, 162.03918498])"
      ]
     },
     "execution_count": 7,
     "metadata": {},
     "output_type": "execute_result"
    }
   ],
   "source": [
    "#Halo\n",
    "h_rhat(x,x)\n",
    "h_rho(x)\n",
    "h_vcasertano(x,x)\n",
    "h_vjimenez(x)\n",
    "h_vNFW(x)\n",
    "h_viso(x)\n",
    "h_v(x)\n",
    "h_v(x,save=True)\n",
    "h_v(x,load=True)"
   ]
  },
  {
   "cell_type": "code",
   "execution_count": 8,
   "metadata": {},
   "outputs": [
    {
     "name": "stdout",
     "output_type": "stream",
     "text": [
      "Saved.\n"
     ]
    },
    {
     "data": {
      "text/plain": [
       "array([302.07923368, 406.17769247, 472.76888526, 518.59012522,\n",
       "       550.59621721, 572.5969578 , 586.9975347 , 595.45386172,\n",
       "       599.17375706, 599.07467767])"
      ]
     },
     "execution_count": 8,
     "metadata": {},
     "output_type": "execute_result"
    }
   ],
   "source": [
    "#Disk\n",
    "z0(1)\n",
    "R(1)\n",
    "d(1)\n",
    "d_px(x,x,x)\n",
    "d_rho0(x)\n",
    "d_durho0(x)\n",
    "d_rho_rz(x,x)\n",
    "d_drho_rz(x,x)\n",
    "d_K(x,x,x)\n",
    "d_innerfunc(x,x,x)\n",
    "d_innerintegral(1,1)\n",
    "d_outerintegral(1)\n",
    "d_Mdblintrho()\n",
    "d_F(1)\n",
    "d_v(x)\n",
    "d_v(x,save=True)\n",
    "d_v(x,load=True)"
   ]
  },
  {
   "cell_type": "code",
   "execution_count": 9,
   "metadata": {},
   "outputs": [
    {
     "name": "stdout",
     "output_type": "stream",
     "text": [
      "Saved.\n",
      "Saved.\n",
      "Saved.\n",
      "Saved.\n"
     ]
    },
    {
     "data": {
      "text/plain": [
       "array([18.48746711, 21.01102711, 22.53555264, 23.52696447, 24.19321248,\n",
       "       24.63978187, 24.92771731, 25.09588784, 25.17081789, 25.1715664 ])"
      ]
     },
     "execution_count": 9,
     "metadata": {},
     "output_type": "execute_result"
    }
   ],
   "source": [
    "#Total\n",
    "v(x)\n",
    "v(x,save=True)\n",
    "v(x,load=True)"
   ]
  }
 ],
 "metadata": {
  "kernelspec": {
   "display_name": "Python 3",
   "language": "python",
   "name": "python3"
  },
  "language_info": {
   "codemirror_mode": {
    "name": "ipython",
    "version": 3
   },
   "file_extension": ".py",
   "mimetype": "text/x-python",
   "name": "python",
   "nbconvert_exporter": "python",
   "pygments_lexer": "ipython3",
   "version": "3.7.3"
  }
 },
 "nbformat": 4,
 "nbformat_minor": 4
}
