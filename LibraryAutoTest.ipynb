{
 "cells": [
  {
   "cell_type": "code",
   "execution_count": 1,
   "metadata": {},
   "outputs": [],
   "source": [
    "#Make sure it is importable\n",
    "import sys\n",
    "sys.path.append('python')\n",
    "from NGC5533_functions import * #prevents having to use prefix each time"
   ]
  },
  {
   "cell_type": "code",
   "execution_count": 2,
   "metadata": {},
   "outputs": [
    {
     "name": "stdout",
     "output_type": "stream",
     "text": [
      "{'limit': 100}\n",
      "4.30091e-06\n",
      "9.3e-18\n",
      "32700000000.0\n",
      "-22.02\n",
      "4.42\n",
      "37670379898.39093\n",
      "2.8\n",
      "0.33\n",
      "0.8911\n",
      "0.7853981633974483\n",
      "1.4\n",
      "1e-12\n",
      "1.7477453551675242e+185\n",
      "2700000000.0\n",
      "2.7\n",
      "8.9\n",
      "310000000.0\n",
      "9.9\n",
      "5.0\n",
      "3.553329921083743e+78\n",
      "3.487041255446485e-36\n",
      "0\n"
     ]
    }
   ],
   "source": [
    "#Ensure that all variables can be called\n",
    "\n",
    "#Settings\n",
    "print(options)\n",
    "\n",
    "#Constants\n",
    "\n",
    "#---------Definitely Constant---------\n",
    "print(G)\n",
    "print(rhocrit)\n",
    "\n",
    "#---------Measured Directly-----------\n",
    "print(L)\n",
    "print(absmag)\n",
    "print(magsun)\n",
    "print(L0)\n",
    "\n",
    "#---------Measured Indirectly---------\n",
    "print(ups)\n",
    "print(q)\n",
    "print(e2)\n",
    "print(i)\n",
    "print(h_rc)\n",
    "print(c)\n",
    "print(Mvir)\n",
    "print(Mbh_def)\n",
    "\n",
    "#---------Definitely Variable---------\n",
    "print(n_c)\n",
    "print(h_c)\n",
    "print(rho00_c)\n",
    "\n",
    "#---------Uncategorized-------------------\n",
    "print(re)\n",
    "print(epsdisk)\n",
    "print(rs)\n",
    "print(rho_s)\n",
    "print(h_gamma)"
   ]
  },
  {
   "cell_type": "code",
   "execution_count": 5,
   "metadata": {},
   "outputs": [
    {
     "name": "stdout",
     "output_type": "stream",
     "text": [
      "Saved.\n",
      "Saved.\n",
      "Saved.\n",
      "Already exists! Loading data.\n"
     ]
    },
    {
     "data": {
      "text/plain": [
       "array([[1],\n",
       "       [0]])"
      ]
     },
     "execution_count": 5,
     "metadata": {},
     "output_type": "execute_result"
    }
   ],
   "source": [
    "#Ensure that saving/loading works outside of functions\n",
    "\n",
    "savedata([1],[0],'test','test',file='test.hdf5') #Create new file\n",
    "savedata([1],[0],'test','test1',file='test.hdf5')#Create new dataset\n",
    "savedata([1],[0],'test1','test',file='test.hdf5')#Create new group\n",
    "savedata([1],[0],'test','test',file='test.hdf5') #Attempt to create existing\n",
    "loaddata('test','test',file='test.hdf5')         #Load"
   ]
  },
  {
   "cell_type": "code",
   "execution_count": 8,
   "metadata": {},
   "outputs": [],
   "source": [
    "#numpy array for use with functions\n",
    "x = np.linspace(1,10,10)"
   ]
  },
  {
   "cell_type": "raw",
   "metadata": {},
   "source": [
    "#Black Hole\n",
    "\n",
    "bh_v(1)            #Single point, accept default(s), no save or load, no args, no kwargs\n",
    "bh_v(x)            #Multiple points, AD, n, na, nk\n",
    "bh_v(1,1)          #SP, change M, n, na, nk\n",
    "bh_v(x,1)          #MP, cM, n, na, nk\n",
    "bh_v(1,save=True)  #SP, AD, save, na, nk\n",
    "bh_v(x,save=True)  #MP, AD, s, na, nk\n",
    "bh_v(1,1,save=True)#SP, cM, s, na, nk\n",
    "bh_v(x,1,save=True)#MP, cM, s, na, nk\n",
    "bh_v(1,load=True)  #SP, AD, l, na, nk\n",
    "bh_v(x,load=True)  #MP, AD, l, na, nk\n",
    "bh_v(1,1,load=True)#SP, cM, l, na, nk\n",
    "bh_v(x,1,load=True)#MP, cM, l, na, nk"
   ]
  },
  {
   "cell_type": "code",
   "execution_count": null,
   "metadata": {},
   "outputs": [],
   "source": []
  }
 ],
 "metadata": {
  "kernelspec": {
   "display_name": "Python 3",
   "language": "python",
   "name": "python3"
  },
  "language_info": {
   "codemirror_mode": {
    "name": "ipython",
    "version": 3
   },
   "file_extension": ".py",
   "mimetype": "text/x-python",
   "name": "python",
   "nbconvert_exporter": "python",
   "pygments_lexer": "ipython3",
   "version": "3.7.3"
  }
 },
 "nbformat": 4,
 "nbformat_minor": 4
}
