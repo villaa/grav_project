{
 "cells": [
  {
   "cell_type": "code",
   "execution_count": 16,
   "metadata": {},
   "outputs": [
    {
     "name": "stdout",
     "output_type": "stream",
     "text": [
      "1.0\n"
     ]
    }
   ],
   "source": [
    "import numpy as np\n",
    "import matplotlib as mpl\n",
    "from matplotlib import pyplot as plt\n",
    "import scipy.integrate as integrate\n",
    "from scipy.integrate import quad\n",
    "from scipy.special import ellipe\n",
    "from scipy.special import ellipk\n",
    "\n",
    "#parameters\n",
    "G = 4.300e-6                                        #gravitational constant (kpc/solar mass*(km/s)^2)\n",
    "rho = 1e5                                           #madeup parameter until we figure out the partial fraction of rho(u,xi)\n",
    "h = 5.7                                             #radial scale-length (kpc)\n",
    "z0 = 0.83                                           #half-thickness (kpc)\n",
    "R = 19.3                                            #19.3 (kpc)\n",
    "d = 1                                               #cut-off length upper limits(kpc)\n",
    "mu0 = 1e9                                           #madeup parameter: central surface density\n",
    "\n",
    "#definitions\n",
    "x = lambda r,u,xi: ((r**2)+(u**2)+(xi**2))/(2*r*u)\n",
    "p = lambda x: x-np.sqrt((x**2)-1)\n",
    "r = np.linspace(0, 20, 500)\n",
    "rho00 = mu0/(2*z0)\n",
    "\n",
    "print(p(x(1,1,0)))"
   ]
  },
  {
   "cell_type": "code",
   "execution_count": 2,
   "metadata": {},
   "outputs": [],
   "source": [
    "#density piecewise function\n",
    "from scipy import optimize\n",
    "\n",
    "def rho0(r, R, h, d):\n",
    "    condlist = [r <= R, (r > R) & (r <= (R+d)), r > (R+d)]\n",
    "    funclist = [lambda r: rho00*np.exp(-r/h), lambda r: rho*(1-(r-R)/d), lambda r: 0]\n",
    "    return np.piecewise(r, condlist, funclist)\n",
    "\n",
    "#p , e = optimize.curve_fit(rho0, r, y)\n",
    "\n",
    "#rd = np.linspace(1, 30, 1000)\n",
    "#plt.plot(r, y, \"o\")\n",
    "#plt.plot(rd, rho0(rd, *p))"
   ]
  },
  {
   "cell_type": "code",
   "execution_count": 18,
   "metadata": {},
   "outputs": [
    {
     "name": "stdout",
     "output_type": "stream",
     "text": [
      "0.35734399698214614\n"
     ]
    }
   ],
   "source": [
    "#need: partial derivative of rho(u,xi)\n",
    "def durho0(r, R, h, d):\n",
    "    condlist = [r <= R, (r > R) & (r <= (R+d)), r > (R+d)]\n",
    "    funclist = [lambda r: -(1/h)*rho00*np.exp(-r/h), lambda r: -(1/d)*rho, lambda r: 0]\n",
    "    return np.piecewise(r, condlist, funclist)\n",
    "\n",
    "#complete elliptic integral\n",
    "K = lambda r,u,xi: ellipk(p(x(r,u,xi))) - ellipe(p(x(r,u,xi)))\n",
    "\n",
    "print(K(1,1,1))"
   ]
  },
  {
   "cell_type": "code",
   "execution_count": 19,
   "metadata": {},
   "outputs": [
    {
     "name": "stdout",
     "output_type": "stream",
     "text": [
      "602409638.0\n"
     ]
    }
   ],
   "source": [
    "#disk density distribution\n",
    "rho_rz = lambda r,z: rho0(r,R,h,d)*(np.power(np.cosh(z/z0), (-2)))\n",
    "drho_rz = lambda r,z: durho0(r,R,h,d)*(np.power(np.cosh(z/z0), (-2)))\n",
    "\n",
    "print(rho_rz(0,0))"
   ]
  },
  {
   "cell_type": "code",
   "execution_count": 14,
   "metadata": {},
   "outputs": [
    {
     "name": "stdout",
     "output_type": "stream",
     "text": [
      "-9876768.647189368\n"
     ]
    }
   ],
   "source": [
    "#inner function\n",
    "f = lambda r,u,xi: ((2*np.sqrt(u))/(np.pi*np.sqrt(r*p(x(r,u,xi)))))*K(r,u,xi)*drho_rz(u,xi)\n",
    "\n",
    "print(f(1,1,1))"
   ]
  },
  {
   "cell_type": "code",
   "execution_count": null,
   "metadata": {},
   "outputs": [],
   "source": [
    "#plot f\n"
   ]
  },
  {
   "cell_type": "code",
   "execution_count": null,
   "metadata": {},
   "outputs": [],
   "source": [
    "#integrate inner function\n",
    "g = lambda xi: quad(f, 1, np.inf, args=(xi,))[0]"
   ]
  },
  {
   "cell_type": "code",
   "execution_count": 7,
   "metadata": {},
   "outputs": [],
   "source": [
    "#integrate outer function\n",
    "j = lambda u: quad(g, 1, np.inf, args=(g,))[0]"
   ]
  },
  {
   "cell_type": "code",
   "execution_count": null,
   "metadata": {},
   "outputs": [],
   "source": []
  },
  {
   "cell_type": "code",
   "execution_count": 8,
   "metadata": {},
   "outputs": [
    {
     "ename": "TypeError",
     "evalue": "unsupported operand type(s) for *: 'float' and 'function'",
     "output_type": "error",
     "traceback": [
      "\u001b[1;31m---------------------------------------------------------------------------\u001b[0m",
      "\u001b[1;31mTypeError\u001b[0m                                 Traceback (most recent call last)",
      "\u001b[1;32m<ipython-input-8-122f3de07321>\u001b[0m in \u001b[0;36m<module>\u001b[1;34m\u001b[0m\n\u001b[0;32m      1\u001b[0m \u001b[1;31m#radial force function\u001b[0m\u001b[1;33m\u001b[0m\u001b[1;33m\u001b[0m\u001b[1;33m\u001b[0m\u001b[0m\n\u001b[1;32m----> 2\u001b[1;33m \u001b[0mF\u001b[0m \u001b[1;33m=\u001b[0m \u001b[1;36m4.0\u001b[0m\u001b[1;33m*\u001b[0m\u001b[0mnp\u001b[0m\u001b[1;33m.\u001b[0m\u001b[0mpi\u001b[0m\u001b[1;33m*\u001b[0m\u001b[0mG\u001b[0m\u001b[1;33m*\u001b[0m\u001b[0mj\u001b[0m\u001b[1;33m\u001b[0m\u001b[1;33m\u001b[0m\u001b[0m\n\u001b[0m",
      "\u001b[1;31mTypeError\u001b[0m: unsupported operand type(s) for *: 'float' and 'function'"
     ]
    }
   ],
   "source": [
    "#radial force function\n",
    "F = 4.0*np.pi*G*j"
   ]
  },
  {
   "cell_type": "code",
   "execution_count": null,
   "metadata": {},
   "outputs": [],
   "source": [
    "#graph\n"
   ]
  }
 ],
 "metadata": {
  "kernelspec": {
   "display_name": "Python 3",
   "language": "python",
   "name": "python3"
  },
  "language_info": {
   "codemirror_mode": {
    "name": "ipython",
    "version": 3
   },
   "file_extension": ".py",
   "mimetype": "text/x-python",
   "name": "python",
   "nbconvert_exporter": "python",
   "pygments_lexer": "ipython3",
   "version": "3.7.1"
  }
 },
 "nbformat": 4,
 "nbformat_minor": 2
}
